{
 "cells": [
  {
   "cell_type": "code",
   "execution_count": 1,
   "metadata": {},
   "outputs": [],
   "source": [
    "import numpy as np\n",
    "import scipy.misc\n",
    "from scipy.fftpack import dct, idct\n",
    "import sys\n",
    "from PIL import Image\n",
    "import matplotlib\n",
    "import matplotlib.pyplot as plt\n",
    "import random\n",
    "from tqdm._tqdm_notebook import tqdm_notebook\n",
    "from scipy.fftpack import dct, idct\n",
    "import seaborn as sns\n",
    "from skimage.metrics import structural_similarity as ssim\n",
    "import pandas as pd\n",
    "import sympy\n",
    "\n",
    "%matplotlib inline\n",
    "\n",
    "\n",
    "class ImageLoader:\n",
    "    def __init__(self, FILE_PATH):\n",
    "        self.img = np.array(Image.open(FILE_PATH))\n",
    "        # 行数\n",
    "        self.row_blocks_count = self.img.shape[0] // 8\n",
    "        # 列数\n",
    "        self.col_blocks_count = self.img.shape[1] // 8\n",
    "\n",
    "    def get_points(self, POINT):\n",
    "        Row = random.randint(0, len(self.img) - POINT - 1)\n",
    "        Col = random.randint(0, len(self.img) - 1)\n",
    "        return self.img[Row : Row + POINT, Col]\n",
    "\n",
    "    def get_block(self, col, row):\n",
    "        return self.img[col * 8 : (col + 1) * 8, row * 8 : (row + 1) * 8]\n",
    "\n",
    "\n",
    "# plt.rcParams['font.family'] ='sans-serif'#使用するフォント\n",
    "# plt.rcParams[\"font.sans-serif\"] = \"Source Han Sans\"\n",
    "plt.rcParams[\"font.family\"] = \"Source Han Sans JP\"  # 使用するフォント\n",
    "plt.rcParams[\"xtick.direction\"] = \"in\"  # x軸の目盛線が内向き('in')か外向き('out')か双方向か('inout')\n",
    "plt.rcParams[\"ytick.direction\"] = \"in\"  # y軸の目盛線が内向き('in')か外向き('out')か双方向か('inout')\n",
    "plt.rcParams[\"xtick.major.width\"] = 1.0  # x軸主目盛り線の線幅\n",
    "plt.rcParams[\"ytick.major.width\"] = 1.0  # y軸主目盛り線の線幅\n",
    "plt.rcParams[\"font.size\"] = 12  # フォントの大きさ\n",
    "plt.rcParams[\"axes.linewidth\"] = 1.0  # 軸の線幅edge linewidth。囲みの太さ\n",
    "matplotlib.font_manager._rebuild()\n",
    "\n",
    "MONO_DIR_PATH = \"../../Mono/\"\n",
    "AIRPLANE = ImageLoader(MONO_DIR_PATH + \"airplane512.bmp\")\n",
    "BARBARA = ImageLoader(MONO_DIR_PATH + \"barbara512.bmp\")\n",
    "BOAT = ImageLoader(MONO_DIR_PATH + \"boat512.bmp\")\n",
    "GOLDHILL = ImageLoader(MONO_DIR_PATH + \"goldhill512.bmp\")\n",
    "LENNA = ImageLoader(MONO_DIR_PATH + \"lenna512.bmp\")\n",
    "MANDRILL = ImageLoader(MONO_DIR_PATH + \"mandrill512.bmp\")\n",
    "MILKDROP = ImageLoader(MONO_DIR_PATH + \"milkdrop512.bmp\")\n",
    "SAILBOAT = ImageLoader(MONO_DIR_PATH + \"sailboat512.bmp\")"
   ]
  },
  {
   "cell_type": "code",
   "execution_count": 2,
   "metadata": {},
   "outputs": [],
   "source": [
    "n_bar = 5\n",
    "N = 16"
   ]
  },
  {
   "cell_type": "markdown",
   "metadata": {},
   "source": [
    "# MSDS"
   ]
  },
  {
   "cell_type": "code",
   "execution_count": 3,
   "metadata": {},
   "outputs": [],
   "source": [
    "def msds(N,arr):\n",
    "    w_e = 0\n",
    "    e_e = 0\n",
    "    n_e = 0\n",
    "    s_e = 0\n",
    "    nw_e = 0\n",
    "    ne_e = 0\n",
    "    sw_e = 0\n",
    "    se_e = 0\n",
    "    for row in range(arr.shape[0] // N):\n",
    "        for col in range(arr.shape[1] // N):\n",
    "            f_block = arr[row * N : (row + 1) * N, col * N : (col + 1) * N]\n",
    "            # w\n",
    "            if col == 0:\n",
    "                w_block = np.fliplr(f_block)\n",
    "            else:\n",
    "                w_block = arr[row * N : (row + 1) * N, (col - 1) * N : col * N]\n",
    "            # e\n",
    "            if col == arr.shape[1] // N - 1:\n",
    "                e_block = np.fliplr(f_block)\n",
    "            else:\n",
    "                e_block = arr[row * N : (row + 1) * N, (col + 1) * N : (col + 2) * N]\n",
    "            # n\n",
    "            if row == 0:\n",
    "                n_block = np.flipud(f_block)\n",
    "            else:\n",
    "                n_block = arr[(row - 1) * N : row * N, col * N : (col + 1) * N]\n",
    "            # s\n",
    "            if row == arr.shape[0] // N - 1:\n",
    "                s_block = np.flipud(f_block)\n",
    "            else:\n",
    "                s_block = arr[(row + 1) * N : (row + 2) * N, col * N : (col + 1) * N]\n",
    "\n",
    "            w_d1 = f_block[:, 0] - w_block[:, N-1]\n",
    "            e_d1 = f_block[:, N-1] - e_block[:, 0]\n",
    "            n_d1 = f_block[0, :] - n_block[N-1, :]\n",
    "            s_d1 = f_block[N-1, :] - s_block[0, :]\n",
    "\n",
    "            w_d2 = (w_block[:, N-1] - w_block[:, N-2] + f_block[:, 1] - f_block[:, 0]) / 2\n",
    "            e_d2 = (e_block[:, 1] - e_block[:, 0] + f_block[:, N-1] - f_block[:, N-2]) / 2\n",
    "            n_d2 = (n_block[N-1, :] - n_block[N-2, :] + f_block[1, :] - f_block[0, :]) / 2\n",
    "            s_d2 = (s_block[1, :] - s_block[0, :] + f_block[N-1, :] - f_block[N-2, :]) / 2\n",
    "\n",
    "            w_e += np.sum((w_d1 - w_d2) ** 2 )\n",
    "            e_e += np.sum((e_d1 - e_d2) ** 2 )\n",
    "            n_e += np.sum((n_d1 - n_d2) ** 2)\n",
    "            s_e += np.sum((s_d1 - s_d2) ** 2)\n",
    "\n",
    "            # nw\n",
    "            if row == 0 or col == 0:\n",
    "                nw_block = np.flipud(np.fliplr(f_block))\n",
    "            else:\n",
    "                nw_block = arr[(row - 1) * N : row * N, (col - 1) * N : col * N]\n",
    "            # ne\n",
    "            if row == 0 or col == arr.shape[1] // N - 1:\n",
    "                ne_block = np.flipud(np.fliplr(f_block))\n",
    "            else:\n",
    "                ne_block = arr[(row-1) * N : row * N, (col + 1) * N : (col + 2) * N]\n",
    "            # sw\n",
    "            if row == arr.shape[0] // N -1 or col == 0:\n",
    "                sw_block = np.flipud(np.fliplr(f_block))\n",
    "            else:\n",
    "                sw_block = arr[row * N : (row+1) * N, (col-1) * N : col * N]\n",
    "            # se\n",
    "            if  row == arr.shape[0]//N-1 or col == arr.shape[0] // N -1:\n",
    "                se_block = np.flipud(np.fliplr(f_block))\n",
    "            else:\n",
    "                se_block = arr[(row + 1) * N : (row + 2) * N, (col+1) * N : (col + 2) * N]\n",
    "\n",
    "            nw_g1 = f_block[0, 0] - nw_block[N-1, N-1]\n",
    "            ne_g1 = f_block[0, N-1] - ne_block[N-1, 0]\n",
    "            sw_g1 = f_block[N-1, 0] - sw_block[0, N-1]\n",
    "            se_g1 = f_block[N-1, N-1] - se_block[0, 0]\n",
    "\n",
    "            nw_g2 = (nw_block[N-1,N-1] - nw_block[N-2,N-2] + f_block[1,1] - f_block[0,0])/2\n",
    "            ne_g2 = (ne_block[N-1,0] - ne_block[N-2,1] + f_block[1,N-2] - f_block[0,N-1])/2\n",
    "            sw_g2 = (sw_block[0,N-1] - nw_block[1,N-2] + f_block[N-2,1] - f_block[N-1,0])/2\n",
    "            se_g2 = (nw_block[0,0] - nw_block[1,1] + f_block[N-2,N-2] - f_block[N-1,N-1])/2\n",
    "\n",
    "            nw_e += (nw_g1 - nw_g2) ** 2 \n",
    "            ne_e += (ne_g1 - ne_g2) ** 2 \n",
    "            sw_e += (sw_g1 - sw_g2) ** 2 \n",
    "            se_e += (se_g1 - se_g2) ** 2 \n",
    "\n",
    "    MSDSt = (w_e + e_e + n_e + s_e + nw_e + ne_e + sw_e + se_e)/ ((arr.shape[0]/N)**2)\n",
    "    MSDS1 = (w_e + e_e + n_e + s_e)/ ((arr.shape[0]/N)**2)\n",
    "    MSDS2 = (nw_e + ne_e + sw_e + se_e)/ ((arr.shape[0]/N)**2)\n",
    "    return MSDSt, MSDS1, MSDS2"
   ]
  },
  {
   "cell_type": "code",
   "execution_count": 4,
   "metadata": {},
   "outputs": [],
   "source": [
    "class DMLCT:\n",
    "    def __init__(self, n_bar, N):\n",
    "        self.n_bar = n_bar\n",
    "        self.N = N\n",
    "\n",
    "        self.x_l = (2 * np.arange(N) + 1) / (2 * N)\n",
    "        self.s_l = np.arange(n_bar) / (n_bar - 1)\n",
    "        self.xi = (np.arange(n_bar + 1) - 0.5) / (n_bar - 1)\n",
    "\n",
    "        self.lambda_kh = self.get_lambda_kh(self.n_bar)\n",
    "\n",
    "        self.w_k_j = self.get_w_k_j(self.n_bar, self.N)\n",
    "        self.W_L_k_kh = self.get_W_L_k_kh(self.n_bar, self.N)\n",
    "        self.W_k_kh = self.get_W_k_kh(self.n_bar, self.N)\n",
    "        self.W_R_k_kh = self.get_W_R_k_kh(self.n_bar, self.N)\n",
    "\n",
    "    def Lagrange_j(self, j):\n",
    "        x = sympy.Symbol(\"x\")\n",
    "        L_x = 1.0\n",
    "        for l in range(self.n_bar):\n",
    "            if l != j:\n",
    "                L_x *= (x - self.s_l[l]) / (self.s_l[j] - self.s_l[l])\n",
    "        return sympy.integrate(L_x)\n",
    "\n",
    "    def get_lambda_kh(self, n_bar):\n",
    "        lambda_kh = np.ones(n_bar)\n",
    "        lambda_kh[0] = np.sqrt(1 / 2)\n",
    "        return lambda_kh\n",
    "\n",
    "    def get_w_k_j(self, n_bar, N):\n",
    "        L_j = np.zeros((n_bar, N))\n",
    "        x = sympy.Symbol(\"x\")\n",
    "        for j in range(n_bar):\n",
    "            temp = []\n",
    "            Lj = self.Lagrange_j(j)\n",
    "            for k in range(N):\n",
    "                temp.append(Lj.subs(x, self.x_l[k]))\n",
    "            L_j[j] = np.array(temp)\n",
    "\n",
    "        w_k_j = np.zeros((n_bar, N))\n",
    "        for j in range(n_bar):\n",
    "            w_k_j[j] = scipy.fftpack.dct(L_j[j], norm=\"ortho\")\n",
    "        return w_k_j\n",
    "\n",
    "    def get_W_L_k_kh(self, n_bar, N):\n",
    "        W_L_k_kh = np.zeros((n_bar - 1, N))\n",
    "        lambda_kh = self.get_lambda_kh(n_bar)\n",
    "\n",
    "        for kh in range(n_bar - 1):\n",
    "            W_L_k_kh[kh] = (\n",
    "                (1 - n_bar)\n",
    "                * np.sqrt(2 / N)\n",
    "                * lambda_kh[kh]\n",
    "                * np.cos(np.pi * kh * (self.xi[0] + 1))\n",
    "                * self.w_k_j[0]\n",
    "            )\n",
    "        return W_L_k_kh\n",
    "\n",
    "    def get_W_k_kh(self, n_bar, N):\n",
    "        W_k_kh = np.zeros((n_bar - 1, N))\n",
    "        for kh in range(n_bar - 1):\n",
    "            sum_sin = np.zeros(N)\n",
    "            for j in range(1, n_bar - 2 + 1):\n",
    "                sum_sin += np.sin(np.pi * kh * self.s_l[j]) * self.w_k_j[j]\n",
    "\n",
    "            W_k_kh[kh] = (\n",
    "                (n_bar - 1)\n",
    "                * np.sqrt(2 / N)\n",
    "                * self.lambda_kh[kh]\n",
    "                * (\n",
    "                    np.cos(np.pi * kh * self.xi[1])\n",
    "                    * (self.w_k_j[0] - (-1) ** (kh) * self.w_k_j[n_bar - 1])\n",
    "                    - 2 * np.sin((np.pi * kh) / (2 * (n_bar - 1))) * sum_sin\n",
    "                )\n",
    "            )\n",
    "        return W_k_kh\n",
    "\n",
    "    def get_W_R_k_kh(self, n_bar, N):\n",
    "        W_R_k_kh = np.zeros((n_bar - 1, N))\n",
    "        for kh in range(n_bar - 1):\n",
    "            W_R_k_kh[kh] = (\n",
    "                (n_bar - 1)\n",
    "                * np.sqrt(2 / N)\n",
    "                * self.lambda_kh[kh]\n",
    "                * np.cos(np.pi * kh * (self.xi[n_bar] - 1))\n",
    "                * self.w_k_j[n_bar - 1]\n",
    "            )\n",
    "        return W_R_k_kh"
   ]
  },
  {
   "cell_type": "code",
   "execution_count": 5,
   "metadata": {},
   "outputs": [],
   "source": [
    "def get_F_L_k_horizontal(arr, N, row, col):\n",
    "    # w\n",
    "    if col == 0:\n",
    "        w_block = np.zeros(N)\n",
    "    else:\n",
    "        w_block = arr[row, (col - 1) * N : col * N]\n",
    "\n",
    "    return w_block"
   ]
  },
  {
   "cell_type": "code",
   "execution_count": 6,
   "metadata": {},
   "outputs": [],
   "source": [
    "def get_F_R_k_horizontal(arr, N, row, col):\n",
    "    # e\n",
    "    if col == arr.shape[1] // N - 1:\n",
    "        e_block = np.zeros(N)\n",
    "    else:\n",
    "        e_block = arr[row, (col + 1) * N : (col + 2) * N]\n",
    "\n",
    "    return e_block"
   ]
  },
  {
   "cell_type": "code",
   "execution_count": 7,
   "metadata": {},
   "outputs": [],
   "source": [
    "def get_F_L_k_vertical(arr, N, row, col):\n",
    "    # n\n",
    "    if row == 0:\n",
    "        n_block = np.zeros(N)\n",
    "    else:\n",
    "        n_block = arr[(row - 1) * N : row * N, col]\n",
    "\n",
    "    return n_block"
   ]
  },
  {
   "cell_type": "code",
   "execution_count": 8,
   "metadata": {},
   "outputs": [],
   "source": [
    "def get_F_R_k_vertical(arr, N, row, col):\n",
    "    # s\n",
    "    if row == arr.shape[0] // N - 1:\n",
    "        s_block = np.zeros(N)\n",
    "    else:\n",
    "        s_block = arr[(row + 1) * N : (row + 2) * N, col]\n",
    "\n",
    "    return s_block"
   ]
  },
  {
   "cell_type": "code",
   "execution_count": 9,
   "metadata": {},
   "outputs": [],
   "source": [
    "# dmlct = DMLCT(n_bar, N)"
   ]
  },
  {
   "cell_type": "code",
   "execution_count": 10,
   "metadata": {},
   "outputs": [],
   "source": [
    "IMG = AIRPLANE\n",
    "# IMG = ImageLoader(MONO_DIR_PATH + \"LENNA.bmp\")"
   ]
  },
  {
   "cell_type": "code",
   "execution_count": 11,
   "metadata": {},
   "outputs": [],
   "source": [
    "Fk = np.zeros(IMG.img.shape)"
   ]
  },
  {
   "cell_type": "markdown",
   "metadata": {},
   "source": [
    "# 順変換"
   ]
  },
  {
   "cell_type": "markdown",
   "metadata": {},
   "source": [
    "## 縦方向"
   ]
  },
  {
   "cell_type": "markdown",
   "metadata": {},
   "source": [
    "### DCT"
   ]
  },
  {
   "cell_type": "code",
   "execution_count": 12,
   "metadata": {},
   "outputs": [],
   "source": [
    "for row in range(IMG.img.shape[0] // N):\n",
    "    for col in range(IMG.img.shape[1]):\n",
    "        eight_points = IMG.img[N * row : N * (row + 1), col]\n",
    "        c = scipy.fftpack.dct(eight_points, norm=\"ortho\")\n",
    "        Fk[N * row : N * (row + 1), col] = c"
   ]
  },
  {
   "cell_type": "markdown",
   "metadata": {},
   "source": [
    "### 残差"
   ]
  },
  {
   "cell_type": "code",
   "execution_count": 13,
   "metadata": {},
   "outputs": [],
   "source": [
    "dmlct = DMLCT(n_bar, N)\n",
    "for row in range(IMG.img.shape[0] // N):\n",
    "    for col in range(IMG.img.shape[1]):\n",
    "        # ビューなら直接いじっちゃう\n",
    "        F = Fk[N * row : N * (row + 1), col]\n",
    "        F_L = get_F_L_k_vertical(Fk, N, row, col)\n",
    "        F_R = get_F_R_k_vertical(Fk, N, row, col)\n",
    "\n",
    "        U_k_n_bar = np.zeros(N)\n",
    "        for kh in range(n_bar - 2 + 1):\n",
    "            U_k_n_bar += (\n",
    "                F_L[kh] * dmlct.W_L_k_kh[kh]\n",
    "                + F[kh] * dmlct.W_k_kh[kh]\n",
    "                + F_R[kh] * dmlct.W_R_k_kh[kh]\n",
    "            )\n",
    "\n",
    "        # n_bar = 4 なら 0,1,2は残す 3,4,5,6,7を書き換える\n",
    "        F[n_bar - 2 + 1 :] -= U_k_n_bar[n_bar - 2 + 1 :]"
   ]
  },
  {
   "cell_type": "code",
   "execution_count": 14,
   "metadata": {},
   "outputs": [],
   "source": [
    "# 0を残す\n",
    "for k in reversed(range(1, n_bar - 2 + 1)):\n",
    "    dmlct = DMLCT(k+1, N)\n",
    "    for row in range(IMG.img.shape[0] // N):\n",
    "        for col in range(IMG.img.shape[1]):\n",
    "            # ビューなら直接いじっちゃう\n",
    "            F = Fk[N * row : N * (row + 1), col]\n",
    "            F_L = get_F_L_k_vertical(Fk, N, row, col)\n",
    "            F_R = get_F_R_k_vertical(Fk, N, row, col)\n",
    "\n",
    "            U_k_n_bar = np.zeros(N)\n",
    "\n",
    "            for kh in range((k + 1) - 2 + 1):\n",
    "                U_k_n_bar += (\n",
    "                    F_L[kh] * dmlct.W_L_k_kh[kh]\n",
    "                    + F[kh] * dmlct.W_k_kh[kh]\n",
    "                    + F_R[kh] * dmlct.W_R_k_kh[kh]\n",
    "                )\n",
    "\n",
    "            F[k] -= U_k_n_bar[k]"
   ]
  },
  {
   "cell_type": "markdown",
   "metadata": {},
   "source": [
    "## 横方向"
   ]
  },
  {
   "cell_type": "markdown",
   "metadata": {},
   "source": [
    "### DCT"
   ]
  },
  {
   "cell_type": "code",
   "execution_count": 15,
   "metadata": {},
   "outputs": [],
   "source": [
    "for row in range(Fk.shape[0]):\n",
    "    for col in range(Fk.shape[1] // N):\n",
    "        eight_points = Fk[row, N * col : N * (col + 1)]\n",
    "        c = scipy.fftpack.dct(eight_points, norm=\"ortho\")\n",
    "        Fk[row, N * col : N * (col + 1)] = c"
   ]
  },
  {
   "cell_type": "markdown",
   "metadata": {},
   "source": [
    "### 残差"
   ]
  },
  {
   "cell_type": "code",
   "execution_count": 16,
   "metadata": {},
   "outputs": [],
   "source": [
    "dmlct = DMLCT(n_bar, N)\n",
    "for row in range(IMG.img.shape[0]):\n",
    "    for col in range(IMG.img.shape[1] // N):\n",
    "        F = Fk[row, N * col : N * (col + 1)]\n",
    "        F_L = get_F_L_k_horizontal(Fk, N, row, col)\n",
    "        F_R = get_F_R_k_horizontal(Fk, N, row, col)\n",
    "\n",
    "        U_k_n_bar = np.zeros(N)\n",
    "        for kh in range(n_bar - 2 + 1):\n",
    "            U_k_n_bar += (\n",
    "                F_L[kh] * dmlct.W_L_k_kh[kh]\n",
    "                + F[kh] * dmlct.W_k_kh[kh]\n",
    "                + F_R[kh] * dmlct.W_R_k_kh[kh]\n",
    "            )\n",
    "\n",
    "        # n_bar = 4 なら 0,1,2は残す 3,4,5,6,7を書き換える\n",
    "        F[n_bar - 2 + 1 :] -= U_k_n_bar[n_bar - 2 + 1 :]"
   ]
  },
  {
   "cell_type": "code",
   "execution_count": 17,
   "metadata": {},
   "outputs": [],
   "source": [
    "# 0を残す\n",
    "for k in reversed(range(1, n_bar - 2 + 1)):\n",
    "    dmlct = DMLCT(k+1, N)\n",
    "    for row in range(IMG.img.shape[0]):\n",
    "        for col in range(IMG.img.shape[1] // N):\n",
    "            F = Fk[row, N * col : N * (col + 1)]\n",
    "            F_L = get_F_L_k_horizontal(Fk, N, row, col)\n",
    "            F_R = get_F_R_k_horizontal(Fk, N, row, col)\n",
    "\n",
    "            U_k_n_bar = np.zeros(N)\n",
    "\n",
    "            for kh in range((k + 1) - 2 + 1):\n",
    "                U_k_n_bar += (\n",
    "                    F_L[kh] * dmlct.W_L_k_kh[kh]\n",
    "                    + F[kh] * dmlct.W_k_kh[kh]\n",
    "                    + F_R[kh] * dmlct.W_R_k_kh[kh]\n",
    "                )\n",
    "\n",
    "            F[k] -= U_k_n_bar[k]"
   ]
  },
  {
   "cell_type": "code",
   "execution_count": 18,
   "metadata": {},
   "outputs": [
    {
     "name": "stderr",
     "output_type": "stream",
     "text": [
      "findfont: Font family ['Source Han Sans JP'] not found. Falling back to DejaVu Sans.\n"
     ]
    },
    {
     "data": {
      "image/png": "[encoded data removed]",
      "text/plain": [
       "<Figure size 432x288 with 1 Axes>"
      ]
     },
     "metadata": {
      "needs_background": "light"
     },
     "output_type": "display_data"
    }
   ],
   "source": [
    "plt.imshow(Fk)\n",
    "pd.DataFrame(Fk).to_csv(\"DMLCT_coef.csv\",header=False,index=False)"
   ]
  },
  {
   "cell_type": "markdown",
   "metadata": {},
   "source": [
    "# 係数の確保"
   ]
  },
  {
   "cell_type": "code",
   "execution_count": 19,
   "metadata": {},
   "outputs": [],
   "source": [
    "Fk_Ori = np.copy(Fk)"
   ]
  },
  {
   "cell_type": "markdown",
   "metadata": {},
   "source": [
    "# 逆変換"
   ]
  },
  {
   "cell_type": "code",
   "execution_count": 20,
   "metadata": {},
   "outputs": [],
   "source": [
    "recover = np.zeros(IMG.img.shape)"
   ]
  },
  {
   "cell_type": "markdown",
   "metadata": {},
   "source": [
    "## 横方向"
   ]
  },
  {
   "cell_type": "markdown",
   "metadata": {},
   "source": [
    "### 残差"
   ]
  },
  {
   "cell_type": "code",
   "execution_count": 21,
   "metadata": {},
   "outputs": [],
   "source": [
    "for k in range(1, n_bar - 2 + 1):\n",
    "    dmlct = DMLCT(k+1, N)\n",
    "    for row in range(IMG.img.shape[0]):\n",
    "        for col in range(IMG.img.shape[1] // N):\n",
    "            F = Fk[row, N * col : N * (col + 1)]\n",
    "            F_L = get_F_L_k_horizontal(Fk, N, row, col)\n",
    "            F_R = get_F_R_k_horizontal(Fk, N, row, col)\n",
    "\n",
    "            U_k_n_bar = np.zeros(N)\n",
    "            for kh in range((k + 1) - 2 + 1):\n",
    "                U_k_n_bar += (\n",
    "                    F_L[kh] * dmlct.W_L_k_kh[kh]\n",
    "                    + F[kh] * dmlct.W_k_kh[kh]\n",
    "                    + F_R[kh] * dmlct.W_R_k_kh[kh]\n",
    "                )\n",
    "\n",
    "            F[k] += U_k_n_bar[k]"
   ]
  },
  {
   "cell_type": "code",
   "execution_count": 22,
   "metadata": {},
   "outputs": [],
   "source": [
    "dmlct = DMLCT(n_bar, N)\n",
    "for row in range(IMG.img.shape[0]):\n",
    "    for col in range(IMG.img.shape[1] // N):\n",
    "        F = Fk[row, N * col : N * (col + 1)]\n",
    "        F_L = get_F_L_k_horizontal(Fk, N, row, col)\n",
    "        F_R = get_F_R_k_horizontal(Fk, N, row, col)\n",
    "\n",
    "        U_k_n_bar = np.zeros(N)\n",
    "        for kh in range(n_bar - 2 + 1):\n",
    "            U_k_n_bar += (\n",
    "                F_L[kh] * dmlct.W_L_k_kh[kh]\n",
    "                + F[kh] * dmlct.W_k_kh[kh]\n",
    "                + F_R[kh] * dmlct.W_R_k_kh[kh]\n",
    "            )\n",
    "\n",
    "        # n_bar = 4 なら 0,1,2は残す 3,4,5,6,7を書き換える\n",
    "        F[n_bar - 2 + 1 :] += U_k_n_bar[n_bar - 2 + 1 :]"
   ]
  },
  {
   "cell_type": "markdown",
   "metadata": {},
   "source": [
    "### IDCT"
   ]
  },
  {
   "cell_type": "code",
   "execution_count": 23,
   "metadata": {},
   "outputs": [],
   "source": [
    "for row in range(Fk.shape[0]):\n",
    "    for col in range(Fk.shape[1] // N):\n",
    "        F = Fk[row, N * col : N * col + N]\n",
    "        data = scipy.fftpack.idct(F, norm=\"ortho\")\n",
    "        # Fkに代入した後、縦方向に対して処理\n",
    "        Fk[row, N * col : N * col + N] = data"
   ]
  },
  {
   "cell_type": "markdown",
   "metadata": {},
   "source": [
    "## 縦方向"
   ]
  },
  {
   "cell_type": "markdown",
   "metadata": {},
   "source": [
    "### 残差"
   ]
  },
  {
   "cell_type": "code",
   "execution_count": 24,
   "metadata": {},
   "outputs": [],
   "source": [
    "for k in range(1, n_bar - 2 + 1):\n",
    "    dmlct = DMLCT(k+1, N)\n",
    "    for row in range(IMG.img.shape[0] // N):\n",
    "        for col in range(IMG.img.shape[1]):\n",
    "            # ビューなら直接いじっちゃう\n",
    "            F = Fk[N * row : N * (row + 1), col]\n",
    "            F_L = get_F_L_k_vertical(Fk, N, row, col)\n",
    "            F_R = get_F_R_k_vertical(Fk, N, row, col)\n",
    "\n",
    "            U_k_n_bar = np.zeros(N)\n",
    "\n",
    "            for kh in range((k + 1) - 2 + 1):\n",
    "                U_k_n_bar += (\n",
    "                    F_L[kh] * dmlct.W_L_k_kh[kh]\n",
    "                    + F[kh] * dmlct.W_k_kh[kh]\n",
    "                    + F_R[kh] * dmlct.W_R_k_kh[kh]\n",
    "                )\n",
    "\n",
    "            F[k] += U_k_n_bar[k]"
   ]
  },
  {
   "cell_type": "code",
   "execution_count": 25,
   "metadata": {},
   "outputs": [],
   "source": [
    "dmlct = DMLCT(n_bar, N)\n",
    "for row in range(IMG.img.shape[0] // N):\n",
    "    for col in range(IMG.img.shape[1]):\n",
    "        # ビューなら直接いじっちゃう\n",
    "        F = Fk[N * row : N * (row + 1), col]\n",
    "        F_L = get_F_L_k_vertical(Fk, N, row, col)\n",
    "        F_R = get_F_R_k_vertical(Fk, N, row, col)\n",
    "\n",
    "        U_k_n_bar = np.zeros(N)\n",
    "        for kh in range(n_bar - 2 + 1):\n",
    "            U_k_n_bar += (\n",
    "                F_L[kh] * dmlct.W_L_k_kh[kh]\n",
    "                + F[kh] * dmlct.W_k_kh[kh]\n",
    "                + F_R[kh] * dmlct.W_R_k_kh[kh]\n",
    "            )\n",
    "\n",
    "        # n_bar = 4 なら 0,1,2は残す 3,4,5,6,7を書き換える\n",
    "        F[n_bar - 2 + 1 :] += U_k_n_bar[n_bar - 2 + 1 :]"
   ]
  },
  {
   "cell_type": "markdown",
   "metadata": {},
   "source": [
    "### IDCT"
   ]
  },
  {
   "cell_type": "code",
   "execution_count": 26,
   "metadata": {},
   "outputs": [],
   "source": [
    "for row in range(Fk.shape[0] // N):\n",
    "    for col in range(Fk.shape[1]):\n",
    "        F = Fk[N * row : N * (row + 1), col]\n",
    "        data = scipy.fftpack.idct(F, norm=\"ortho\")\n",
    "        # 復元画像\n",
    "        recover[N * row : N * (row + 1), col] = data"
   ]
  },
  {
   "cell_type": "code",
   "execution_count": 27,
   "metadata": {},
   "outputs": [
    {
     "data": {
      "text/plain": [
       "<matplotlib.image.AxesImage at 0x25f56987278>"
      ]
     },
     "execution_count": 27,
     "metadata": {},
     "output_type": "execute_result"
    },
    {
     "data": {
      "image/png": "[encoded data removed]",
      "text/plain": [
       "<Figure size 432x288 with 1 Axes>"
      ]
     },
     "metadata": {
      "needs_background": "light"
     },
     "output_type": "display_data"
    }
   ],
   "source": [
    "plt.imshow(recover.astype(\"u8\"), cmap=\"gray\")"
   ]
  },
  {
   "cell_type": "markdown",
   "metadata": {},
   "source": [
    "もどった...！"
   ]
  },
  {
   "cell_type": "markdown",
   "metadata": {},
   "source": [
    "# 量子化テーブル"
   ]
  },
  {
   "cell_type": "code",
   "execution_count": null,
   "metadata": {},
   "outputs": [
    {
     "data": {
      "application/vnd.jupyter.widget-view+json": {
       "model_id": "e6c1eb73126c4062818ea7b3c87f2b00",
       "version_major": 2,
       "version_minor": 0
      },
      "text/plain": [
       "HBox(children=(IntProgress(value=0, max=1599), HTML(value='')))"
      ]
     },
     "metadata": {},
     "output_type": "display_data"
    },
    {
     "name": "stdout",
     "output_type": "stream",
     "text": [
      "S= 0.19385975093714317\n",
      "139.875 27.02464644979111 0.7730108263574921 22802.06787109375 6229.680419921875\n",
      "S= 0.19397434923588483\n",
      "139.75 27.0252336203253 0.7731980646304859 22757.427734375 6215.412109375\n",
      "S= 0.19404932356084678\n",
      "139.625 27.025321600001845 0.7731239482827137 22697.26513671875 6208.404296875\n",
      "S= 0.1942275293997728\n",
      "139.5 27.028142003827345 0.7734191325959155 22660.34130859375 6224.27880859375\n",
      "S= 0.19437695339157246\n",
      "139.375 27.031032916499356 0.7733191290818265 22666.578125 6213.387451171875\n",
      "S= 0.19465902544286867\n",
      "139.25 27.034930967349595 0.773046724343392 22693.57373046875 6275.82666015625\n",
      "S= 0.19485178454767824\n",
      "139.125 27.03225820726479 0.773140499148309 22627.1123046875 6338.947998046875\n",
      "S= 0.1950530668487908\n",
      "139.0 27.03521764357394 0.7731635622991037 22643.7666015625 6364.379638671875\n",
      "S= 0.19519492245770512\n",
      "138.875 27.033740182751536 0.7731553030362979 22661.78759765625 6359.701171875\n",
      "S= 0.19538301480298156\n",
      "138.75 27.040801497136183 0.7732161714241823 22732.419921875 6366.88623046875\n",
      "S= 0.19565179221575235\n",
      "138.625 27.04444785941714 0.7732769093687428 22749.58056640625 6350.541015625\n",
      "S= 0.195742158165803\n",
      "138.5 27.048867648969775 0.7735567022059334 22745.31005859375 6354.055419921875\n",
      "S= 0.19585376121249526\n",
      "138.375 27.049894022218343 0.773357274646866 22680.8671875 6345.80615234375\n",
      "S= 0.1960853556136593\n",
      "138.25 27.053046596126343 0.7734166374167811 22708.26220703125 6369.375244140625\n",
      "S= 0.1962337106522007\n",
      "138.125 27.059098043951735 0.7733598740609868 22704.54248046875 6368.711181640625\n",
      "S= 0.19634341885581683\n",
      "138.0 27.061398182765572 0.7737171607018889 22670.72998046875 6353.077392578125\n",
      "S= 0.19657248357573787\n",
      "137.875 27.067352866598725 0.7739087367142501 22738.56982421875 6411.267822265625\n",
      "S= 0.19681452293358248\n",
      "137.75 27.071849656222543 0.7736646651226523 22726.86474609375 6406.525390625\n",
      "S= 0.19710405003659268\n",
      "137.625 27.0777939972913 0.7736743172427322 22705.52294921875 6386.833740234375\n",
      "S= 0.19730830750112846\n",
      "137.5 27.081018804831707 0.7739555867288712 22724.9853515625 6391.77099609375\n",
      "S= 0.19740153286593634\n",
      "137.375 27.08472553708836 0.7740059950945273 22644.171875 6355.861083984375\n",
      "S= 0.197637169337161\n",
      "137.25 27.09719283107603 0.7745698171942177 22649.19140625 6354.684326171875\n",
      "S= 0.19778410382596007\n",
      "137.125 27.103369963636524 0.7744488005060459 22662.27001953125 6345.5458984375\n",
      "S= 0.1978666583859818\n",
      "137.0 27.10967663618172 0.7744930054637413 22668.66845703125 6343.008056640625\n",
      "S= 0.19801287224067768\n",
      "136.875 27.117140181253063 0.7749696588188688 22618.18896484375 6342.090087890625\n",
      "S= 0.19805698662336374\n",
      "136.75 27.12510846723889 0.7750101315074445 22600.30419921875 6337.300537109375\n",
      "S= 0.19829238498315477\n",
      "136.625 27.133563974509073 0.7749793589699522 22579.34619140625 6290.22900390625\n",
      "S= 0.19846008404387963\n",
      "136.5 27.143624660189168 0.7753746421151496 22599.77587890625 6269.870361328125\n",
      "S= 0.19854226870698044\n",
      "136.375 27.149750205433683 0.7757177086523598 22602.0986328125 6277.543701171875\n",
      "S= 0.19864282634627117\n",
      "136.25 27.15358408850807 0.7759301004108142 22608.44873046875 6262.615478515625\n",
      "S= 0.19880104689377587\n",
      "136.125 27.155950979645578 0.7761326972677147 22639.99560546875 6244.41162109375\n",
      "S= 0.19901783136453283\n",
      "136.0 27.164484579860826 0.7761346381260992 22685.3330078125 6237.10400390625\n",
      "S= 0.19914175430079778\n",
      "135.875 27.174148013932925 0.7762248967896018 22745.64599609375 6236.330810546875\n",
      "S= 0.199287130088285\n",
      "135.75 27.175561677830782 0.7761462238691771 22734.55859375 6216.18017578125\n",
      "S= 0.1993415255386739\n",
      "135.625 27.179569071634198 0.776207767299789 22701.3291015625 6185.372314453125\n",
      "S= 0.19951935151952688\n",
      "135.5 27.18180223763179 0.7760258877704456 22672.798828125 6164.78955078125\n",
      "S= 0.1996539044688822\n",
      "135.375 27.18705035619557 0.7762780846458697 22640.0888671875 6153.4208984375\n",
      "S= 0.1998577526665998\n",
      "135.25 27.193206530363142 0.7761903233222058 22580.01904296875 6140.27734375\n",
      "S= 0.19996388072833868\n",
      "135.125 27.197432024524648 0.7760482921601294 22538.47412109375 6126.055419921875\n",
      "S= 0.200234053269631\n",
      "135.0 27.20385199095365 0.776432807269288 22551.7734375 6117.338134765625\n",
      "S= 0.20038441455411896\n",
      "134.875 27.207564379115652 0.7765239529534639 22521.56884765625 6117.218994140625\n",
      "S= 0.20055025378005925\n",
      "134.75 27.211594856517568 0.7768420702377622 22611.384765625 6137.731201171875\n",
      "S= 0.200744539845359\n",
      "134.625 27.216417662232292 0.7768890329895243 22674.89306640625 6149.6474609375\n",
      "S= 0.20103104909971065\n",
      "134.5 27.216609461795343 0.7770795852470738 22712.921875 6136.353759765625\n",
      "S= 0.20127116788947685\n",
      "134.375 27.21902439125895 0.7768779950145123 22696.7099609375 6131.022705078125\n",
      "S= 0.20148035525401553\n",
      "134.25 27.22536501805559 0.7768824823170732 22617.30419921875 6120.238525390625\n",
      "S= 0.20161110630118878\n",
      "134.125 27.229839222974817 0.7773547518661003 22642.67529296875 6134.556396484375\n",
      "S= 0.20167114000999453\n",
      "134.0 27.230825378910918 0.7774581314682688 22622.66259765625 6149.939208984375\n"
     ]
    }
   ],
   "source": [
    "# Q=80における量子化テーブルをスケーリング\n",
    "for i in tqdm_notebook(np.arange(1,1600,1)):\n",
    "    Q = 140 - i/8\n",
    "    Q_Luminance = np.ones((16,16)) * Q\n",
    "    \n",
    "    Fk = np.copy(Fk_Ori)\n",
    "    Q_Fk = np.zeros(Fk.shape)\n",
    "    for row in range(IMG.img.shape[0] // N):\n",
    "        for col in range(IMG.img.shape[1] // N):\n",
    "            block = Fk[row * N : (row + 1) * N, col * N : (col + 1) * N]\n",
    "            # 量子化\n",
    "            block = np.round(block / Q_Luminance)\n",
    "            # 逆量子化\n",
    "            block = block * Q_Luminance\n",
    "            Q_Fk[row * N : (row+1)*N, col * N : (col+1)*N] = block\n",
    "\n",
    "    Fk = np.copy(Q_Fk)\n",
    "    Q_recover = np.zeros(Q_Fk.shape)\n",
    "    # 横方向\n",
    "    # 残差\n",
    "    for k in range(1, n_bar - 2 + 1):\n",
    "        dmlct = DMLCT(k+1, N)\n",
    "        for row in range(IMG.img.shape[0]):\n",
    "            for col in range(IMG.img.shape[1] // N):\n",
    "                F = Fk[row, N * col : N * (col + 1)]\n",
    "                F_L = get_F_L_k_horizontal(Fk, N, row, col)\n",
    "                F_R = get_F_R_k_horizontal(Fk, N, row, col)\n",
    "\n",
    "                U_k_n_bar = np.zeros(N)\n",
    "                for kh in range((k + 1) - 2 + 1):\n",
    "                    U_k_n_bar += (\n",
    "                        F_L[kh] * dmlct.W_L_k_kh[kh]\n",
    "                        + F[kh] * dmlct.W_k_kh[kh]\n",
    "                        + F_R[kh] * dmlct.W_R_k_kh[kh]\n",
    "                    )\n",
    "\n",
    "                F[k] += U_k_n_bar[k]\n",
    "\n",
    "    dmlct = DMLCT(n_bar, N)\n",
    "    for row in range(IMG.img.shape[0]):\n",
    "        for col in range(IMG.img.shape[1] // N):\n",
    "            F = Fk[row, N * col : N * (col + 1)]\n",
    "            F_L = get_F_L_k_horizontal(Fk, N, row, col)\n",
    "            F_R = get_F_R_k_horizontal(Fk, N, row, col)\n",
    "\n",
    "            U_k_n_bar = np.zeros(N)\n",
    "            for kh in range(n_bar - 2 + 1):\n",
    "                U_k_n_bar += (\n",
    "                    F_L[kh] * dmlct.W_L_k_kh[kh]\n",
    "                    + F[kh] * dmlct.W_k_kh[kh]\n",
    "                    + F_R[kh] * dmlct.W_R_k_kh[kh]\n",
    "                )\n",
    "\n",
    "            # n_bar = 4 なら 0,1,2は残す 3,4,5,6,7を書き換える\n",
    "            F[n_bar - 2 + 1 :] += U_k_n_bar[n_bar - 2 + 1 :]\n",
    "    ### IDCT\n",
    "    for row in range(Fk.shape[0]):\n",
    "        for col in range(Fk.shape[1] // N):\n",
    "            F = Fk[row, N * col : N * col + N]\n",
    "            data = scipy.fftpack.idct(F, norm=\"ortho\")\n",
    "            # Fkに代入した後、縦方向に対して処理\n",
    "            Fk[row, N * col : N * col + N] = data\n",
    "\n",
    "    ## 縦方向\n",
    "    ### 残差\n",
    "    for k in range(1, n_bar - 2 + 1):\n",
    "        dmlct = DMLCT(k+1, N)\n",
    "        for row in range(IMG.img.shape[0] // N):\n",
    "            for col in range(IMG.img.shape[1]):\n",
    "                # ビューなら直接いじっちゃう\n",
    "                F = Fk[N * row : N * (row + 1), col]\n",
    "                F_L = get_F_L_k_vertical(Fk, N, row, col)\n",
    "                F_R = get_F_R_k_vertical(Fk, N, row, col)\n",
    "\n",
    "                U_k_n_bar = np.zeros(N)\n",
    "\n",
    "                for kh in range((k + 1) - 2 + 1):\n",
    "                    U_k_n_bar += (\n",
    "                        F_L[kh] * dmlct.W_L_k_kh[kh]\n",
    "                        + F[kh] * dmlct.W_k_kh[kh]\n",
    "                        + F_R[kh] * dmlct.W_R_k_kh[kh]\n",
    "                    )\n",
    "\n",
    "                F[k] += U_k_n_bar[k]\n",
    "\n",
    "    dmlct = DMLCT(n_bar, N)\n",
    "    for row in range(IMG.img.shape[0] // N):\n",
    "        for col in range(IMG.img.shape[1]):\n",
    "            # ビューなら直接いじっちゃう\n",
    "            F = Fk[N * row : N * (row + 1), col]\n",
    "            F_L = get_F_L_k_vertical(Fk, N, row, col)\n",
    "            F_R = get_F_R_k_vertical(Fk, N, row, col)\n",
    "\n",
    "            U_k_n_bar = np.zeros(N)\n",
    "            for kh in range(n_bar - 2 + 1):\n",
    "                U_k_n_bar += (\n",
    "                    F_L[kh] * dmlct.W_L_k_kh[kh]\n",
    "                    + F[kh] * dmlct.W_k_kh[kh]\n",
    "                    + F_R[kh] * dmlct.W_R_k_kh[kh]\n",
    "                )\n",
    "\n",
    "            # n_bar = 4 なら 0,1,2は残す 3,4,5,6,7を書き換える\n",
    "            F[n_bar - 2 + 1 :] += U_k_n_bar[n_bar - 2 + 1 :]\n",
    "\n",
    "    ### IDCT\n",
    "    for row in range(Fk.shape[0] // N):\n",
    "        for col in range(Fk.shape[1]):\n",
    "            F = Fk[N * row : N * (row + 1), col]\n",
    "            data = scipy.fftpack.idct(F, norm=\"ortho\")\n",
    "            # 復元画像\n",
    "            Q_recover[N * row : N * (row + 1), col] = data\n",
    "\n",
    "    Q_recover = np.round(Q_recover)\n",
    "    qfk = pd.Series(Q_Fk.flatten())\n",
    "    pro = qfk.value_counts() / qfk.value_counts().sum()\n",
    "    S = 0\n",
    "    for pi in pro:\n",
    "        S -= pi * np.log2(pi)\n",
    "\n",
    "    MSE = np.sum(np.sum(np.power((IMG.img - Q_recover),2)))/(Q_recover.shape[0] * Q_recover.shape[1])\n",
    "    PSNR = 10 * np.log10(255 * 255 / MSE)\n",
    "    MSSIM = ssim(IMG.img,Q_recover.astype(IMG.img.dtype),gaussian_weights=True,sigma=1.5,K1=0.01,K2=0.03)\n",
    "    MSDSt, MSDS1, MSDS2 = msds(N,Q_recover)\n",
    "    print(\"S=\",S)\n",
    "    print(Q,PSNR,MSSIM,MSDS1,MSDS2)"
   ]
  },
  {
   "cell_type": "code",
   "execution_count": null,
   "metadata": {},
   "outputs": [],
   "source": []
  }
 ],
 "metadata": {
  "kernelspec": {
   "display_name": "Python 3",
   "language": "python",
   "name": "python3"
  },
  "language_info": {
   "codemirror_mode": {
    "name": "ipython",
    "version": 3
   },
   "file_extension": ".py",
   "mimetype": "text/x-python",
   "name": "python",
   "nbconvert_exporter": "python",
   "pygments_lexer": "ipython3",
   "version": "3.6.7"
  }
 },
 "nbformat": 4,
 "nbformat_minor": 4
}
