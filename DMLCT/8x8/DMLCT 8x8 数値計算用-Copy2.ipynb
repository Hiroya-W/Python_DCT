{
 "cells": [
  {
   "cell_type": "code",
   "execution_count": 1,
   "metadata": {},
   "outputs": [],
   "source": [
    "import numpy as np\n",
    "import scipy.misc\n",
    "from scipy.fftpack import dct, idct\n",
    "import sys\n",
    "from PIL import Image\n",
    "import matplotlib\n",
    "import matplotlib.pyplot as plt\n",
    "import random\n",
    "from tqdm._tqdm_notebook import tqdm_notebook\n",
    "from scipy.fftpack import dct, idct\n",
    "import seaborn as sns\n",
    "from skimage.metrics import structural_similarity as ssim\n",
    "import pandas as pd\n",
    "import sympy\n",
    "\n",
    "%matplotlib inline\n",
    "\n",
    "\n",
    "class ImageLoader:\n",
    "    def __init__(self, FILE_PATH):\n",
    "        self.img = np.array(Image.open(FILE_PATH))\n",
    "        # 行数\n",
    "        self.row_blocks_count = self.img.shape[0] // 8\n",
    "        # 列数\n",
    "        self.col_blocks_count = self.img.shape[1] // 8\n",
    "\n",
    "    def get_points(self, POINT):\n",
    "        Row = random.randint(0, len(self.img) - POINT - 1)\n",
    "        Col = random.randint(0, len(self.img) - 1)\n",
    "        return self.img[Row : Row + POINT, Col]\n",
    "\n",
    "    def get_block(self, col, row):\n",
    "        return self.img[col * 8 : (col + 1) * 8, row * 8 : (row + 1) * 8]\n",
    "\n",
    "\n",
    "# plt.rcParams['font.family'] ='sans-serif'#使用するフォント\n",
    "# plt.rcParams[\"font.sans-serif\"] = \"Source Han Sans\"\n",
    "plt.rcParams[\"font.family\"] = \"Source Han Sans JP\"  # 使用するフォント\n",
    "plt.rcParams[\"xtick.direction\"] = \"in\"  # x軸の目盛線が内向き('in')か外向き('out')か双方向か('inout')\n",
    "plt.rcParams[\"ytick.direction\"] = \"in\"  # y軸の目盛線が内向き('in')か外向き('out')か双方向か('inout')\n",
    "plt.rcParams[\"xtick.major.width\"] = 1.0  # x軸主目盛り線の線幅\n",
    "plt.rcParams[\"ytick.major.width\"] = 1.0  # y軸主目盛り線の線幅\n",
    "plt.rcParams[\"font.size\"] = 12  # フォントの大きさ\n",
    "plt.rcParams[\"axes.linewidth\"] = 1.0  # 軸の線幅edge linewidth。囲みの太さ\n",
    "matplotlib.font_manager._rebuild()\n",
    "\n",
    "MONO_DIR_PATH = \"../../Mono/\"\n",
    "AIRPLANE = ImageLoader(MONO_DIR_PATH + \"airplane512.bmp\")\n",
    "BARBARA = ImageLoader(MONO_DIR_PATH + \"barbara512.bmp\")\n",
    "BOAT = ImageLoader(MONO_DIR_PATH + \"boat512.bmp\")\n",
    "GOLDHILL = ImageLoader(MONO_DIR_PATH + \"goldhill512.bmp\")\n",
    "LENNA = ImageLoader(MONO_DIR_PATH + \"lenna512.bmp\")\n",
    "MANDRILL = ImageLoader(MONO_DIR_PATH + \"mandrill512.bmp\")\n",
    "MILKDROP = ImageLoader(MONO_DIR_PATH + \"milkdrop512.bmp\")\n",
    "SAILBOAT = ImageLoader(MONO_DIR_PATH + \"sailboat512.bmp\")"
   ]
  },
  {
   "cell_type": "code",
   "execution_count": 2,
   "metadata": {},
   "outputs": [],
   "source": [
    "n_bar = 5\n",
    "N = 8"
   ]
  },
  {
   "cell_type": "markdown",
   "metadata": {},
   "source": [
    "# MSDS"
   ]
  },
  {
   "cell_type": "code",
   "execution_count": 3,
   "metadata": {},
   "outputs": [],
   "source": [
    "def msds(N,arr):\n",
    "    w_e = 0\n",
    "    e_e = 0\n",
    "    n_e = 0\n",
    "    s_e = 0\n",
    "    nw_e = 0\n",
    "    ne_e = 0\n",
    "    sw_e = 0\n",
    "    se_e = 0\n",
    "    for row in range(arr.shape[0] // N):\n",
    "        for col in range(arr.shape[1] // N):\n",
    "            f_block = arr[row * N : (row + 1) * N, col * N : (col + 1) * N]\n",
    "            # w\n",
    "            if col == 0:\n",
    "                w_block = np.fliplr(f_block)\n",
    "            else:\n",
    "                w_block = arr[row * N : (row + 1) * N, (col - 1) * N : col * N]\n",
    "            # e\n",
    "            if col == arr.shape[1] // N - 1:\n",
    "                e_block = np.fliplr(f_block)\n",
    "            else:\n",
    "                e_block = arr[row * N : (row + 1) * N, (col + 1) * N : (col + 2) * N]\n",
    "            # n\n",
    "            if row == 0:\n",
    "                n_block = np.flipud(f_block)\n",
    "            else:\n",
    "                n_block = arr[(row - 1) * N : row * N, col * N : (col + 1) * N]\n",
    "            # s\n",
    "            if row == arr.shape[0] // N - 1:\n",
    "                s_block = np.flipud(f_block)\n",
    "            else:\n",
    "                s_block = arr[(row + 1) * N : (row + 2) * N, col * N : (col + 1) * N]\n",
    "\n",
    "            w_d1 = f_block[:, 0] - w_block[:, N-1]\n",
    "            e_d1 = f_block[:, N-1] - e_block[:, 0]\n",
    "            n_d1 = f_block[0, :] - n_block[N-1, :]\n",
    "            s_d1 = f_block[N-1, :] - s_block[0, :]\n",
    "\n",
    "            w_d2 = (w_block[:, N-1] - w_block[:, N-2] + f_block[:, 1] - f_block[:, 0]) / 2\n",
    "            e_d2 = (e_block[:, 1] - e_block[:, 0] + f_block[:, N-1] - f_block[:, N-2]) / 2\n",
    "            n_d2 = (n_block[N-1, :] - n_block[N-2, :] + f_block[1, :] - f_block[0, :]) / 2\n",
    "            s_d2 = (s_block[1, :] - s_block[0, :] + f_block[N-1, :] - f_block[N-2, :]) / 2\n",
    "\n",
    "            w_e += np.sum((w_d1 - w_d2) ** 2 )\n",
    "            e_e += np.sum((e_d1 - e_d2) ** 2 )\n",
    "            n_e += np.sum((n_d1 - n_d2) ** 2)\n",
    "            s_e += np.sum((s_d1 - s_d2) ** 2)\n",
    "\n",
    "            # nw\n",
    "            if row == 0 or col == 0:\n",
    "                nw_block = np.flipud(np.fliplr(f_block))\n",
    "            else:\n",
    "                nw_block = arr[(row - 1) * N : row * N, (col - 1) * N : col * N]\n",
    "            # ne\n",
    "            if row == 0 or col == arr.shape[1] // N - 1:\n",
    "                ne_block = np.flipud(np.fliplr(f_block))\n",
    "            else:\n",
    "                ne_block = arr[(row-1) * N : row * N, (col + 1) * N : (col + 2) * N]\n",
    "            # sw\n",
    "            if row == arr.shape[0] // N -1 or col == 0:\n",
    "                sw_block = np.flipud(np.fliplr(f_block))\n",
    "            else:\n",
    "                sw_block = arr[row * N : (row+1) * N, (col-1) * N : col * N]\n",
    "            # se\n",
    "            if  row == arr.shape[0]//N-1 or col == arr.shape[0] // N -1:\n",
    "                se_block = np.flipud(np.fliplr(f_block))\n",
    "            else:\n",
    "                se_block = arr[(row + 1) * N : (row + 2) * N, (col+1) * N : (col + 2) * N]\n",
    "\n",
    "            nw_g1 = f_block[0, 0] - nw_block[N-1, N-1]\n",
    "            ne_g1 = f_block[0, N-1] - ne_block[N-1, 0]\n",
    "            sw_g1 = f_block[N-1, 0] - sw_block[0, N-1]\n",
    "            se_g1 = f_block[N-1, N-1] - se_block[0, 0]\n",
    "\n",
    "            nw_g2 = (nw_block[N-1,N-1] - nw_block[N-2,N-2] + f_block[1,1] - f_block[0,0])/2\n",
    "            ne_g2 = (ne_block[N-1,0] - ne_block[N-2,1] + f_block[1,N-2] - f_block[0,N-1])/2\n",
    "            sw_g2 = (sw_block[0,N-1] - nw_block[1,N-2] + f_block[N-2,1] - f_block[N-1,0])/2\n",
    "            se_g2 = (nw_block[0,0] - nw_block[1,1] + f_block[N-2,N-2] - f_block[N-1,N-1])/2\n",
    "\n",
    "            nw_e += (nw_g1 - nw_g2) ** 2 \n",
    "            ne_e += (ne_g1 - ne_g2) ** 2 \n",
    "            sw_e += (sw_g1 - sw_g2) ** 2 \n",
    "            se_e += (se_g1 - se_g2) ** 2 \n",
    "\n",
    "    MSDSt = (w_e + e_e + n_e + s_e + nw_e + ne_e + sw_e + se_e)/ ((arr.shape[0]/N)**2)\n",
    "    MSDS1 = (w_e + e_e + n_e + s_e)/ ((arr.shape[0]/N)**2)\n",
    "    MSDS2 = (nw_e + ne_e + sw_e + se_e)/ ((arr.shape[0]/N)**2)\n",
    "    return MSDSt, MSDS1, MSDS2"
   ]
  },
  {
   "cell_type": "code",
   "execution_count": 4,
   "metadata": {},
   "outputs": [],
   "source": [
    "class DMLCT:\n",
    "    def __init__(self, n_bar, N):\n",
    "        self.n_bar = n_bar\n",
    "        self.N = N\n",
    "\n",
    "        self.x_l = (2 * np.arange(N) + 1) / (2 * N)\n",
    "        self.s_l = np.arange(n_bar) / (n_bar - 1)\n",
    "        self.xi = (np.arange(n_bar + 1) - 0.5) / (n_bar - 1)\n",
    "\n",
    "        self.lambda_kh = self.get_lambda_kh(self.n_bar)\n",
    "\n",
    "        self.w_k_j = self.get_w_k_j(self.n_bar, self.N)\n",
    "        self.W_L_k_kh = self.get_W_L_k_kh(self.n_bar, self.N)\n",
    "        self.W_k_kh = self.get_W_k_kh(self.n_bar, self.N)\n",
    "        self.W_R_k_kh = self.get_W_R_k_kh(self.n_bar, self.N)\n",
    "\n",
    "    def Lagrange_j(self, j):\n",
    "        x = sympy.Symbol(\"x\")\n",
    "        L_x = 1.0\n",
    "        for l in range(self.n_bar):\n",
    "            if l != j:\n",
    "                L_x *= (x - self.s_l[l]) / (self.s_l[j] - self.s_l[l])\n",
    "        return sympy.integrate(L_x)\n",
    "\n",
    "    def get_lambda_kh(self, n_bar):\n",
    "        lambda_kh = np.ones(n_bar)\n",
    "        lambda_kh[0] = np.sqrt(1 / 2)\n",
    "        return lambda_kh\n",
    "\n",
    "    def get_w_k_j(self, n_bar, N):\n",
    "        L_j = np.zeros((n_bar, N))\n",
    "        x = sympy.Symbol(\"x\")\n",
    "        for j in range(n_bar):\n",
    "            temp = []\n",
    "            Lj = self.Lagrange_j(j)\n",
    "            for k in range(N):\n",
    "                temp.append(Lj.subs(x, self.x_l[k]))\n",
    "            L_j[j] = np.array(temp)\n",
    "\n",
    "        w_k_j = np.zeros((n_bar, N))\n",
    "        for j in range(n_bar):\n",
    "            w_k_j[j] = scipy.fftpack.dct(L_j[j], norm=\"ortho\")\n",
    "        return w_k_j\n",
    "\n",
    "    def get_W_L_k_kh(self, n_bar, N):\n",
    "        W_L_k_kh = np.zeros((n_bar - 1, N))\n",
    "        lambda_kh = self.get_lambda_kh(n_bar)\n",
    "\n",
    "        for kh in range(n_bar - 1):\n",
    "            W_L_k_kh[kh] = (\n",
    "                (1 - n_bar)\n",
    "                * np.sqrt(2 / N)\n",
    "                * lambda_kh[kh]\n",
    "                * np.cos(np.pi * kh * (self.xi[0] + 1))\n",
    "                * self.w_k_j[0]\n",
    "            )\n",
    "        return W_L_k_kh\n",
    "\n",
    "    def get_W_k_kh(self, n_bar, N):\n",
    "        W_k_kh = np.zeros((n_bar - 1, N))\n",
    "        for kh in range(n_bar - 1):\n",
    "            sum_sin = np.zeros(N)\n",
    "            for j in range(1, n_bar - 2 + 1):\n",
    "                sum_sin += np.sin(np.pi * kh * self.s_l[j]) * self.w_k_j[j]\n",
    "\n",
    "            W_k_kh[kh] = (\n",
    "                (n_bar - 1)\n",
    "                * np.sqrt(2 / N)\n",
    "                * self.lambda_kh[kh]\n",
    "                * (\n",
    "                    np.cos(np.pi * kh * self.xi[1])\n",
    "                    * (self.w_k_j[0] - (-1) ** (kh) * self.w_k_j[n_bar - 1])\n",
    "                    - 2 * np.sin((np.pi * kh) / (2 * (n_bar - 1))) * sum_sin\n",
    "                )\n",
    "            )\n",
    "        return W_k_kh\n",
    "\n",
    "    def get_W_R_k_kh(self, n_bar, N):\n",
    "        W_R_k_kh = np.zeros((n_bar - 1, N))\n",
    "        for kh in range(n_bar - 1):\n",
    "            W_R_k_kh[kh] = (\n",
    "                (n_bar - 1)\n",
    "                * np.sqrt(2 / N)\n",
    "                * self.lambda_kh[kh]\n",
    "                * np.cos(np.pi * kh * (self.xi[n_bar] - 1))\n",
    "                * self.w_k_j[n_bar - 1]\n",
    "            )\n",
    "        return W_R_k_kh"
   ]
  },
  {
   "cell_type": "code",
   "execution_count": 5,
   "metadata": {},
   "outputs": [],
   "source": [
    "def get_F_L_k_horizontal(arr, N, row, col):\n",
    "    # w\n",
    "    if col == 0:\n",
    "        w_block = np.zeros(N)\n",
    "    else:\n",
    "        w_block = arr[row, (col - 1) * N : col * N]\n",
    "\n",
    "    return w_block"
   ]
  },
  {
   "cell_type": "code",
   "execution_count": 6,
   "metadata": {},
   "outputs": [],
   "source": [
    "def get_F_R_k_horizontal(arr, N, row, col):\n",
    "    # e\n",
    "    if col == arr.shape[1] // N - 1:\n",
    "        e_block = np.zeros(N)\n",
    "    else:\n",
    "        e_block = arr[row, (col + 1) * N : (col + 2) * N]\n",
    "\n",
    "    return e_block"
   ]
  },
  {
   "cell_type": "code",
   "execution_count": 7,
   "metadata": {},
   "outputs": [],
   "source": [
    "def get_F_L_k_vertical(arr, N, row, col):\n",
    "    # n\n",
    "    if row == 0:\n",
    "        n_block = np.zeros(N)\n",
    "    else:\n",
    "        n_block = arr[(row - 1) * N : row * N, col]\n",
    "\n",
    "    return n_block"
   ]
  },
  {
   "cell_type": "code",
   "execution_count": 8,
   "metadata": {},
   "outputs": [],
   "source": [
    "def get_F_R_k_vertical(arr, N, row, col):\n",
    "    # s\n",
    "    if row == arr.shape[0] // N - 1:\n",
    "        s_block = np.zeros(N)\n",
    "    else:\n",
    "        s_block = arr[(row + 1) * N : (row + 2) * N, col]\n",
    "\n",
    "    return s_block"
   ]
  },
  {
   "cell_type": "code",
   "execution_count": 9,
   "metadata": {},
   "outputs": [],
   "source": [
    "# dmlct = DMLCT(n_bar, N)"
   ]
  },
  {
   "cell_type": "code",
   "execution_count": 10,
   "metadata": {},
   "outputs": [],
   "source": [
    "IMG = MILKDROP\n",
    "# IMG = ImageLoader(MONO_DIR_PATH + \"LENNA.bmp\")"
   ]
  },
  {
   "cell_type": "code",
   "execution_count": 11,
   "metadata": {},
   "outputs": [],
   "source": [
    "Fk = np.zeros(IMG.img.shape)"
   ]
  },
  {
   "cell_type": "markdown",
   "metadata": {},
   "source": [
    "# 順変換"
   ]
  },
  {
   "cell_type": "markdown",
   "metadata": {},
   "source": [
    "## 縦方向"
   ]
  },
  {
   "cell_type": "markdown",
   "metadata": {},
   "source": [
    "### DCT"
   ]
  },
  {
   "cell_type": "code",
   "execution_count": 12,
   "metadata": {},
   "outputs": [],
   "source": [
    "for row in range(IMG.img.shape[0] // N):\n",
    "    for col in range(IMG.img.shape[1]):\n",
    "        eight_points = IMG.img[N * row : N * (row + 1), col]\n",
    "        c = scipy.fftpack.dct(eight_points, norm=\"ortho\")\n",
    "        Fk[N * row : N * (row + 1), col] = c"
   ]
  },
  {
   "cell_type": "markdown",
   "metadata": {},
   "source": [
    "### 残差"
   ]
  },
  {
   "cell_type": "code",
   "execution_count": 13,
   "metadata": {},
   "outputs": [],
   "source": [
    "dmlct = DMLCT(n_bar, N)\n",
    "for row in range(IMG.img.shape[0] // N):\n",
    "    for col in range(IMG.img.shape[1]):\n",
    "        # ビューなら直接いじっちゃう\n",
    "        F = Fk[N * row : N * (row + 1), col]\n",
    "        F_L = get_F_L_k_vertical(Fk, N, row, col)\n",
    "        F_R = get_F_R_k_vertical(Fk, N, row, col)\n",
    "\n",
    "        U_k_n_bar = np.zeros(N)\n",
    "        for kh in range(n_bar - 2 + 1):\n",
    "            U_k_n_bar += (\n",
    "                F_L[kh] * dmlct.W_L_k_kh[kh]\n",
    "                + F[kh] * dmlct.W_k_kh[kh]\n",
    "                + F_R[kh] * dmlct.W_R_k_kh[kh]\n",
    "            )\n",
    "\n",
    "        # n_bar = 4 なら 0,1,2は残す 3,4,5,6,7を書き換える\n",
    "        F[n_bar - 2 + 1 :] -= U_k_n_bar[n_bar - 2 + 1 :]"
   ]
  },
  {
   "cell_type": "code",
   "execution_count": 14,
   "metadata": {},
   "outputs": [],
   "source": [
    "# 0を残す\n",
    "for k in reversed(range(1, n_bar - 2 + 1)):\n",
    "    dmlct = DMLCT(k+1, N)\n",
    "    for row in range(IMG.img.shape[0] // N):\n",
    "        for col in range(IMG.img.shape[1]):\n",
    "            # ビューなら直接いじっちゃう\n",
    "            F = Fk[N * row : N * (row + 1), col]\n",
    "            F_L = get_F_L_k_vertical(Fk, N, row, col)\n",
    "            F_R = get_F_R_k_vertical(Fk, N, row, col)\n",
    "\n",
    "            U_k_n_bar = np.zeros(N)\n",
    "\n",
    "            for kh in range((k + 1) - 2 + 1):\n",
    "                U_k_n_bar += (\n",
    "                    F_L[kh] * dmlct.W_L_k_kh[kh]\n",
    "                    + F[kh] * dmlct.W_k_kh[kh]\n",
    "                    + F_R[kh] * dmlct.W_R_k_kh[kh]\n",
    "                )\n",
    "\n",
    "            F[k] -= U_k_n_bar[k]"
   ]
  },
  {
   "cell_type": "markdown",
   "metadata": {},
   "source": [
    "## 横方向"
   ]
  },
  {
   "cell_type": "markdown",
   "metadata": {},
   "source": [
    "### DCT"
   ]
  },
  {
   "cell_type": "code",
   "execution_count": 15,
   "metadata": {},
   "outputs": [],
   "source": [
    "for row in range(Fk.shape[0]):\n",
    "    for col in range(Fk.shape[1] // N):\n",
    "        eight_points = Fk[row, N * col : N * (col + 1)]\n",
    "        c = scipy.fftpack.dct(eight_points, norm=\"ortho\")\n",
    "        Fk[row, N * col : N * (col + 1)] = c"
   ]
  },
  {
   "cell_type": "markdown",
   "metadata": {},
   "source": [
    "### 残差"
   ]
  },
  {
   "cell_type": "code",
   "execution_count": 16,
   "metadata": {},
   "outputs": [],
   "source": [
    "dmlct = DMLCT(n_bar, N)\n",
    "for row in range(IMG.img.shape[0]):\n",
    "    for col in range(IMG.img.shape[1] // N):\n",
    "        F = Fk[row, N * col : N * (col + 1)]\n",
    "        F_L = get_F_L_k_horizontal(Fk, N, row, col)\n",
    "        F_R = get_F_R_k_horizontal(Fk, N, row, col)\n",
    "\n",
    "        U_k_n_bar = np.zeros(N)\n",
    "        for kh in range(n_bar - 2 + 1):\n",
    "            U_k_n_bar += (\n",
    "                F_L[kh] * dmlct.W_L_k_kh[kh]\n",
    "                + F[kh] * dmlct.W_k_kh[kh]\n",
    "                + F_R[kh] * dmlct.W_R_k_kh[kh]\n",
    "            )\n",
    "\n",
    "        # n_bar = 4 なら 0,1,2は残す 3,4,5,6,7を書き換える\n",
    "        F[n_bar - 2 + 1 :] -= U_k_n_bar[n_bar - 2 + 1 :]"
   ]
  },
  {
   "cell_type": "code",
   "execution_count": 17,
   "metadata": {},
   "outputs": [],
   "source": [
    "# 0を残す\n",
    "for k in reversed(range(1, n_bar - 2 + 1)):\n",
    "    dmlct = DMLCT(k+1, N)\n",
    "    for row in range(IMG.img.shape[0]):\n",
    "        for col in range(IMG.img.shape[1] // N):\n",
    "            F = Fk[row, N * col : N * (col + 1)]\n",
    "            F_L = get_F_L_k_horizontal(Fk, N, row, col)\n",
    "            F_R = get_F_R_k_horizontal(Fk, N, row, col)\n",
    "\n",
    "            U_k_n_bar = np.zeros(N)\n",
    "\n",
    "            for kh in range((k + 1) - 2 + 1):\n",
    "                U_k_n_bar += (\n",
    "                    F_L[kh] * dmlct.W_L_k_kh[kh]\n",
    "                    + F[kh] * dmlct.W_k_kh[kh]\n",
    "                    + F_R[kh] * dmlct.W_R_k_kh[kh]\n",
    "                )\n",
    "\n",
    "            F[k] -= U_k_n_bar[k]"
   ]
  },
  {
   "cell_type": "code",
   "execution_count": 18,
   "metadata": {},
   "outputs": [
    {
     "name": "stderr",
     "output_type": "stream",
     "text": [
      "findfont: Font family ['Source Han Sans JP'] not found. Falling back to DejaVu Sans.\n"
     ]
    },
    {
     "data": {
      "image/png": "[encoded data removed]",
      "text/plain": [
       "<Figure size 432x288 with 1 Axes>"
      ]
     },
     "metadata": {
      "needs_background": "light"
     },
     "output_type": "display_data"
    }
   ],
   "source": [
    "plt.imshow(Fk)\n",
    "pd.DataFrame(Fk).to_csv(\"DMLCT_coef.csv\",header=False,index=False)"
   ]
  },
  {
   "cell_type": "markdown",
   "metadata": {},
   "source": [
    "# 係数の確保"
   ]
  },
  {
   "cell_type": "code",
   "execution_count": 19,
   "metadata": {},
   "outputs": [],
   "source": [
    "Fk_Ori = np.copy(Fk)"
   ]
  },
  {
   "cell_type": "markdown",
   "metadata": {},
   "source": [
    "# 逆変換"
   ]
  },
  {
   "cell_type": "code",
   "execution_count": 20,
   "metadata": {},
   "outputs": [],
   "source": [
    "recover = np.zeros(IMG.img.shape)"
   ]
  },
  {
   "cell_type": "markdown",
   "metadata": {},
   "source": [
    "## 横方向"
   ]
  },
  {
   "cell_type": "markdown",
   "metadata": {},
   "source": [
    "### 残差"
   ]
  },
  {
   "cell_type": "code",
   "execution_count": 21,
   "metadata": {},
   "outputs": [],
   "source": [
    "for k in range(1, n_bar - 2 + 1):\n",
    "    dmlct = DMLCT(k+1, N)\n",
    "    for row in range(IMG.img.shape[0]):\n",
    "        for col in range(IMG.img.shape[1] // N):\n",
    "            F = Fk[row, N * col : N * (col + 1)]\n",
    "            F_L = get_F_L_k_horizontal(Fk, N, row, col)\n",
    "            F_R = get_F_R_k_horizontal(Fk, N, row, col)\n",
    "\n",
    "            U_k_n_bar = np.zeros(N)\n",
    "            for kh in range((k + 1) - 2 + 1):\n",
    "                U_k_n_bar += (\n",
    "                    F_L[kh] * dmlct.W_L_k_kh[kh]\n",
    "                    + F[kh] * dmlct.W_k_kh[kh]\n",
    "                    + F_R[kh] * dmlct.W_R_k_kh[kh]\n",
    "                )\n",
    "\n",
    "            F[k] += U_k_n_bar[k]"
   ]
  },
  {
   "cell_type": "code",
   "execution_count": 22,
   "metadata": {},
   "outputs": [],
   "source": [
    "dmlct = DMLCT(n_bar, N)\n",
    "for row in range(IMG.img.shape[0]):\n",
    "    for col in range(IMG.img.shape[1] // N):\n",
    "        F = Fk[row, N * col : N * (col + 1)]\n",
    "        F_L = get_F_L_k_horizontal(Fk, N, row, col)\n",
    "        F_R = get_F_R_k_horizontal(Fk, N, row, col)\n",
    "\n",
    "        U_k_n_bar = np.zeros(N)\n",
    "        for kh in range(n_bar - 2 + 1):\n",
    "            U_k_n_bar += (\n",
    "                F_L[kh] * dmlct.W_L_k_kh[kh]\n",
    "                + F[kh] * dmlct.W_k_kh[kh]\n",
    "                + F_R[kh] * dmlct.W_R_k_kh[kh]\n",
    "            )\n",
    "\n",
    "        # n_bar = 4 なら 0,1,2は残す 3,4,5,6,7を書き換える\n",
    "        F[n_bar - 2 + 1 :] += U_k_n_bar[n_bar - 2 + 1 :]"
   ]
  },
  {
   "cell_type": "markdown",
   "metadata": {},
   "source": [
    "### IDCT"
   ]
  },
  {
   "cell_type": "code",
   "execution_count": 23,
   "metadata": {},
   "outputs": [],
   "source": [
    "for row in range(Fk.shape[0]):\n",
    "    for col in range(Fk.shape[1] // N):\n",
    "        F = Fk[row, N * col : N * col + N]\n",
    "        data = scipy.fftpack.idct(F, norm=\"ortho\")\n",
    "        # Fkに代入した後、縦方向に対して処理\n",
    "        Fk[row, N * col : N * col + N] = data"
   ]
  },
  {
   "cell_type": "markdown",
   "metadata": {},
   "source": [
    "## 縦方向"
   ]
  },
  {
   "cell_type": "markdown",
   "metadata": {},
   "source": [
    "### 残差"
   ]
  },
  {
   "cell_type": "code",
   "execution_count": 24,
   "metadata": {},
   "outputs": [],
   "source": [
    "for k in range(1, n_bar - 2 + 1):\n",
    "    dmlct = DMLCT(k+1, N)\n",
    "    for row in range(IMG.img.shape[0] // N):\n",
    "        for col in range(IMG.img.shape[1]):\n",
    "            # ビューなら直接いじっちゃう\n",
    "            F = Fk[N * row : N * (row + 1), col]\n",
    "            F_L = get_F_L_k_vertical(Fk, N, row, col)\n",
    "            F_R = get_F_R_k_vertical(Fk, N, row, col)\n",
    "\n",
    "            U_k_n_bar = np.zeros(N)\n",
    "\n",
    "            for kh in range((k + 1) - 2 + 1):\n",
    "                U_k_n_bar += (\n",
    "                    F_L[kh] * dmlct.W_L_k_kh[kh]\n",
    "                    + F[kh] * dmlct.W_k_kh[kh]\n",
    "                    + F_R[kh] * dmlct.W_R_k_kh[kh]\n",
    "                )\n",
    "\n",
    "            F[k] += U_k_n_bar[k]"
   ]
  },
  {
   "cell_type": "code",
   "execution_count": 25,
   "metadata": {},
   "outputs": [],
   "source": [
    "dmlct = DMLCT(n_bar, N)\n",
    "for row in range(IMG.img.shape[0] // N):\n",
    "    for col in range(IMG.img.shape[1]):\n",
    "        # ビューなら直接いじっちゃう\n",
    "        F = Fk[N * row : N * (row + 1), col]\n",
    "        F_L = get_F_L_k_vertical(Fk, N, row, col)\n",
    "        F_R = get_F_R_k_vertical(Fk, N, row, col)\n",
    "\n",
    "        U_k_n_bar = np.zeros(N)\n",
    "        for kh in range(n_bar - 2 + 1):\n",
    "            U_k_n_bar += (\n",
    "                F_L[kh] * dmlct.W_L_k_kh[kh]\n",
    "                + F[kh] * dmlct.W_k_kh[kh]\n",
    "                + F_R[kh] * dmlct.W_R_k_kh[kh]\n",
    "            )\n",
    "\n",
    "        # n_bar = 4 なら 0,1,2は残す 3,4,5,6,7を書き換える\n",
    "        F[n_bar - 2 + 1 :] += U_k_n_bar[n_bar - 2 + 1 :]"
   ]
  },
  {
   "cell_type": "markdown",
   "metadata": {},
   "source": [
    "### IDCT"
   ]
  },
  {
   "cell_type": "code",
   "execution_count": 26,
   "metadata": {},
   "outputs": [],
   "source": [
    "for row in range(Fk.shape[0] // N):\n",
    "    for col in range(Fk.shape[1]):\n",
    "        F = Fk[N * row : N * (row + 1), col]\n",
    "        data = scipy.fftpack.idct(F, norm=\"ortho\")\n",
    "        # 復元画像\n",
    "        recover[N * row : N * (row + 1), col] = data"
   ]
  },
  {
   "cell_type": "code",
   "execution_count": 27,
   "metadata": {},
   "outputs": [
    {
     "data": {
      "text/plain": [
       "<matplotlib.image.AxesImage at 0x20ac93b10f0>"
      ]
     },
     "execution_count": 27,
     "metadata": {},
     "output_type": "execute_result"
    },
    {
     "data": {
      "image/png": "[encoded data removed]",
      "text/plain": [
       "<Figure size 432x288 with 1 Axes>"
      ]
     },
     "metadata": {
      "needs_background": "light"
     },
     "output_type": "display_data"
    }
   ],
   "source": [
    "plt.imshow(recover.astype(\"u8\"), cmap=\"gray\")"
   ]
  },
  {
   "cell_type": "markdown",
   "metadata": {},
   "source": [
    "もどった...！"
   ]
  },
  {
   "cell_type": "markdown",
   "metadata": {},
   "source": [
    "# 量子化テーブル"
   ]
  },
  {
   "cell_type": "code",
   "execution_count": 28,
   "metadata": {},
   "outputs": [],
   "source": [
    "Q50_Luminance = np.array(\n",
    "    [\n",
    "        [16, 11, 10, 16, 24, 40, 51, 61],\n",
    "        [12, 12, 14, 19, 26, 58, 60, 55],\n",
    "        [14, 13, 16, 24, 40, 57, 69, 56],\n",
    "        [14, 17, 22, 29, 51, 87, 80, 62],\n",
    "        [18, 22, 37, 56, 68, 109, 103, 77],\n",
    "        [24, 35, 55, 64, 81, 104, 113, 92],\n",
    "        [49, 64, 78, 87, 103, 121, 120, 101],\n",
    "        [72, 92, 95, 98, 112, 100, 103, 99],\n",
    "    ]\n",
    ")"
   ]
  },
  {
   "cell_type": "code",
   "execution_count": 29,
   "metadata": {},
   "outputs": [
    {
     "data": {
      "application/vnd.jupyter.widget-view+json": {
       "model_id": "7e66de2e7d15430689549764ef618d95",
       "version_major": 2,
       "version_minor": 0
      },
      "text/plain": [
       "HBox(children=(IntProgress(value=0, max=9999), HTML(value='')))"
      ]
     },
     "metadata": {},
     "output_type": "display_data"
    },
    {
     "name": "stdout",
     "output_type": "stream",
     "text": [
      "S= 0.19878594161996127\n",
      "3.7 27.321935525562644 0.7119240030862153 3545.307861328125 1166.5186157226562\n",
      "S= 0.20028707561329298\n",
      "3.75 27.37629805170215 0.7150315841430518 3612.4505615234375 1175.1559448242188\n",
      "S= 0.20146924103130248\n",
      "3.8 27.40424296934861 0.7206248851296483 3669.0421142578125 1182.7933349609375\n",
      "S= 0.24843726609439606\n",
      "5.85 29.639732738587842 0.7661289180002462 3319.006103515625 1239.5028686523438\n",
      "S= 0.24995547112478367\n",
      "5.9 29.663627704741558 0.7678868962907054 3281.5594482421875 1239.1287841796875\n",
      "S= 0.2511007619750442\n",
      "5.95 29.71114722001206 0.7697473225175855 3270.5269775390625 1242.3908081054688\n",
      "S= 0.25190329950768786\n",
      "6.0 29.787049750796374 0.773248548934103 3203.10302734375 1230.9450073242188\n",
      "S= 0.2984840082420953\n",
      "8.65 31.705905794857465 0.8090408641232806 2835.830322265625 1174.2514038085938\n",
      "S= 0.299123242180139\n",
      "8.7 31.747167648453974 0.8101223214162041 2821.3079833984375 1171.7965087890625\n",
      "S= 0.29971047252981653\n",
      "8.75 31.791060197971422 0.811022784144279 2807.1719970703125 1167.6726684570312\n",
      "S= 0.3006433546904005\n",
      "8.8 31.81919802158188 0.8130175450710121 2804.5467529296875 1174.6676635742188\n",
      "S= 0.3010415472600395\n",
      "8.85 31.871464555291197 0.8133799034564365 2811.298583984375 1174.9029541015625\n",
      "S= 0.34873918331717085\n",
      "12.05 33.07607342292411 0.8340734468280288 2580.608154296875 1136.0311279296875\n",
      "S= 0.3495490708828046\n",
      "12.1 33.07086078684086 0.8347372605600784 2579.4256591796875 1133.4927368164062\n",
      "S= 0.3501623379852617\n",
      "12.15 33.095997111650306 0.8351106379531364 2583.7655029296875 1136.6769409179688\n",
      "S= 0.3512891105143943\n",
      "12.2 33.123665198484154 0.8355752955813431 2573.49365234375 1134.3090209960938\n",
      "S= 0.39868974015572844\n",
      "15.45 34.06369606117061 0.8507211378129943 2525.395263671875 1132.8231201171875\n",
      "S= 0.39934270525996957\n",
      "15.5 34.07489891113786 0.8511189609140678 2527.2994384765625 1132.0878295898438\n",
      "S= 0.3999185219636552\n",
      "15.55 34.07911037428741 0.8515314172203918 2531.9722900390625 1129.8887329101562\n",
      "S= 0.4010246044100311\n",
      "15.6 34.07753735633765 0.8512576630781609 2545.89599609375 1133.4672241210938\n",
      "S= 0.40187132564626776\n",
      "15.65 34.08265077079198 0.8501478421228686 2553.8553466796875 1134.410400390625\n",
      "S= 0.4486833696474443\n",
      "18.9 34.75374454332047 0.8616381875436043 2492.1572265625 1163.1597900390625\n",
      "S= 0.4499600256135503\n",
      "18.95 34.76765081860867 0.8619945898889563 2502.296630859375 1164.0718994140625\n",
      "S= 0.45093458302213035\n",
      "19.0 34.78093908034281 0.8626679593249704 2496.0057373046875 1167.6062622070312\n",
      "S= 0.45152587888430334\n",
      "19.05 34.78949126713416 0.862968677560414 2496.111083984375 1165.4599609375\n",
      "S= 0.4512411868964994\n",
      "19.1 34.799704157753155 0.8628628313278073 2491.6363525390625 1170.2734985351562\n",
      "S= 0.45196932012424745\n",
      "19.15 34.80821324158876 0.8630993042534965 2489.343505859375 1171.3219604492188\n",
      "S= 0.49861708108155983\n",
      "22.25 35.39766592641747 0.8740836524739583 2449.01025390625 1140.2754516601562\n",
      "S= 0.49856668376872754\n",
      "22.3 35.40763956889105 0.8745875702933994 2449.395263671875 1138.9090576171875\n",
      "S= 0.49944781491841705\n",
      "22.35 35.412778967868135 0.8748108674429976 2447.33642578125 1134.8927612304688\n",
      "S= 0.5001801095664249\n",
      "22.4 35.42011340205944 0.8750403414525891 2442.5240478515625 1131.5219116210938\n",
      "S= 0.4993733592045675\n",
      "22.45 35.431145003758786 0.8747525019087125 2435.31396484375 1130.2418823242188\n",
      "S= 0.5004437698532885\n",
      "22.5 35.4340430667451 0.8749716914425572 2433.184814453125 1131.6753540039062\n",
      "S= 0.5014871304437803\n",
      "22.6 35.45282492496114 0.8745687329602307 2425.287353515625 1125.8102416992188\n",
      "S= 0.5495846700350073\n",
      "25.7 35.96705713952516 0.8822740473071725 2385.769287109375 1118.0858154296875\n",
      "S= 0.5490395633320901\n",
      "25.75 35.96825418720181 0.8823943562897403 2384.154052734375 1118.2672119140625\n",
      "S= 0.5492148873084269\n",
      "25.8 35.97715933603724 0.8831159331716082 2379.7659912109375 1112.499755859375\n",
      "S= 0.5500809054410039\n",
      "25.85 35.985156759912606 0.8830632378100568 2386.849853515625 1114.8441162109375\n",
      "S= 0.5509328417266682\n",
      "25.9 35.99763014783334 0.8832270255321648 2388.8583984375 1113.8265380859375\n",
      "S= 0.55137147976383\n",
      "25.95 36.00953763971094 0.8835611053700447 2388.74169921875 1115.523681640625\n",
      "S= 0.5517451854273109\n",
      "26.0 36.014894976511755 0.8837790220708953 2388.275390625 1118.6167602539062\n",
      "S= 0.5981543777832624\n",
      "29.15 36.429789945687965 0.889486847718667 2411.413330078125 1123.2813720703125\n",
      "S= 0.5996409474759367\n",
      "29.2 36.43208503574189 0.8897844100481483 2409.96923828125 1124.7672119140625\n",
      "S= 0.6005405629623272\n",
      "29.25 36.4397766564354 0.8899373555970292 2408.748291015625 1123.7754516601562\n",
      "S= 0.6006447723775411\n",
      "29.3 36.45037591144792 0.8898082957043676 2410.1007080078125 1123.7210083007812\n",
      "S= 0.600655692847991\n",
      "29.35 36.45572693617294 0.8899291234677514 2408.5394287109375 1124.0565185546875\n",
      "S= 0.6019453179386557\n",
      "29.45 36.469826722693604 0.8906045220206602 2404.742431640625 1120.4334106445312\n",
      "S= 0.6482347733387495\n",
      "32.7 36.84017114564051 0.8963261492559519 2375.845458984375 1116.9762573242188\n",
      "S= 0.6482981106292129\n",
      "32.75 36.842454846614096 0.896179438585424 2374.208251953125 1116.1529541015625\n",
      "S= 0.6480566689685245\n",
      "32.8 36.8466868678513 0.8963575488689629 2369.1590576171875 1117.3004150390625\n",
      "S= 0.6498086321975006\n",
      "32.85 36.84841042648304 0.8963053029845679 2365.591064453125 1113.69091796875\n",
      "S= 0.6490296429790033\n",
      "32.9 36.85891820583552 0.8961427853681281 2365.990234375 1115.9113159179688\n",
      "S= 0.650097646356587\n",
      "32.95 36.866451387275745 0.8962513518966061 2372.3817138671875 1114.83154296875\n",
      "S= 0.6513273973771042\n",
      "33.0 36.86735292856759 0.8965423084480248 2364.8798828125 1111.6571044921875\n",
      "S= 0.6986195968403155\n",
      "36.4 37.1719460132846 0.9020768624919056 2361.495849609375 1109.8113403320312\n",
      "S= 0.7003244240082229\n",
      "36.5 37.188074579320414 0.9023454640802555 2354.2515869140625 1110.1865234375\n",
      "S= 0.6992181870672832\n",
      "36.55 37.19946235398957 0.9026769981755141 2352.189208984375 1112.0809326171875\n",
      "S= 0.700318210318535\n",
      "36.6 37.20025522876313 0.9026815877781131 2351.4530029296875 1108.999267578125\n",
      "S= 0.7017605612056664\n",
      "36.65 37.20468087112588 0.9023810468889466 2350.73779296875 1107.9589233398438\n",
      "S= 0.701896213645833\n",
      "36.7 37.20716591656269 0.9025027398603309 2346.739013671875 1108.669921875\n",
      "S= 0.7487208719150283\n",
      "39.9 37.45094878841446 0.906933108970033 2342.8231201171875 1115.6526489257812\n",
      "S= 0.748823110792915\n",
      "39.95 37.455942474186465 0.9070594321932144 2349.166015625 1117.5410766601562\n",
      "S= 0.7480930340773451\n",
      "40.0 37.457722765255724 0.9073355215183402 2348.234619140625 1121.0599975585938\n",
      "S= 0.7493184335663258\n",
      "40.05 37.459743676945195 0.9073962382139522 2347.2918701171875 1120.4879760742188\n",
      "S= 0.751147884801118\n",
      "40.1 37.45879838630019 0.907437343999738 2344.871826171875 1124.5313720703125\n",
      "S= 0.750567370673703\n",
      "40.15 37.464875396547534 0.9074853085075626 2343.64404296875 1123.464111328125\n",
      "S= 0.7513875471814209\n",
      "40.2 37.47118579058177 0.9077428129068986 2342.769287109375 1121.6522827148438\n",
      "S= 0.7988607851590361\n",
      "43.55 37.6940967099485 0.9111550848586129 2338.951171875 1125.8707275390625\n",
      "S= 0.7983884158021957\n",
      "43.6 37.70055281353859 0.9111652234697264 2342.039306640625 1125.2801513671875\n",
      "S= 0.8009992477989498\n",
      "43.65 37.705127069437154 0.911230542911229 2342.3948974609375 1125.8734741210938\n",
      "S= 0.7993997388373207\n",
      "43.7 37.70616358935304 0.911304482102275 2341.2408447265625 1122.8056640625\n",
      "S= 0.8011044097487202\n",
      "43.75 37.70904761790503 0.9113818969412352 2343.3079833984375 1124.4627075195312\n",
      "S= 0.8011625890468682\n",
      "43.8 37.71215621679486 0.9115121119247511 2342.5697021484375 1123.407958984375\n",
      "S= 0.8012173976650424\n",
      "43.85 37.71382949478547 0.9115262388634942 2342.3642578125 1124.1284790039062\n"
     ]
    },
    {
     "ename": "KeyboardInterrupt",
     "evalue": "",
     "output_type": "error",
     "traceback": [
      "\u001b[1;31m---------------------------------------------------------------------------\u001b[0m",
      "\u001b[1;31mKeyboardInterrupt\u001b[0m                         Traceback (most recent call last)",
      "\u001b[1;32m<ipython-input-29-a5b35b18e6d5>\u001b[0m in \u001b[0;36m<module>\u001b[1;34m\u001b[0m\n\u001b[0;32m     18\u001b[0m             \u001b[1;31m# 逆量子化\u001b[0m\u001b[1;33m\u001b[0m\u001b[1;33m\u001b[0m\u001b[1;33m\u001b[0m\u001b[0m\n\u001b[0;32m     19\u001b[0m             \u001b[0mblock\u001b[0m \u001b[1;33m=\u001b[0m \u001b[0mblock\u001b[0m \u001b[1;33m*\u001b[0m \u001b[0mQ_Luminance\u001b[0m\u001b[1;33m\u001b[0m\u001b[1;33m\u001b[0m\u001b[0m\n\u001b[1;32m---> 20\u001b[1;33m             \u001b[0mQ_Fk\u001b[0m\u001b[1;33m[\u001b[0m\u001b[0mrow\u001b[0m \u001b[1;33m*\u001b[0m \u001b[0mN\u001b[0m \u001b[1;33m:\u001b[0m \u001b[1;33m(\u001b[0m\u001b[0mrow\u001b[0m\u001b[1;33m+\u001b[0m\u001b[1;36m1\u001b[0m\u001b[1;33m)\u001b[0m\u001b[1;33m*\u001b[0m\u001b[0mN\u001b[0m\u001b[1;33m,\u001b[0m \u001b[0mcol\u001b[0m \u001b[1;33m*\u001b[0m \u001b[0mN\u001b[0m \u001b[1;33m:\u001b[0m \u001b[1;33m(\u001b[0m\u001b[0mcol\u001b[0m\u001b[1;33m+\u001b[0m\u001b[1;36m1\u001b[0m\u001b[1;33m)\u001b[0m\u001b[1;33m*\u001b[0m\u001b[0mN\u001b[0m\u001b[1;33m]\u001b[0m \u001b[1;33m=\u001b[0m \u001b[0mblock\u001b[0m\u001b[1;33m\u001b[0m\u001b[1;33m\u001b[0m\u001b[0m\n\u001b[0m\u001b[0;32m     21\u001b[0m \u001b[1;33m\u001b[0m\u001b[0m\n\u001b[0;32m     22\u001b[0m     \u001b[0mqfk\u001b[0m \u001b[1;33m=\u001b[0m \u001b[0mpd\u001b[0m\u001b[1;33m.\u001b[0m\u001b[0mSeries\u001b[0m\u001b[1;33m(\u001b[0m\u001b[0mQ_Fk\u001b[0m\u001b[1;33m.\u001b[0m\u001b[0mflatten\u001b[0m\u001b[1;33m(\u001b[0m\u001b[1;33m)\u001b[0m\u001b[1;33m)\u001b[0m\u001b[1;33m\u001b[0m\u001b[1;33m\u001b[0m\u001b[0m\n",
      "\u001b[1;31mKeyboardInterrupt\u001b[0m: "
     ]
    }
   ],
   "source": [
    "for i in tqdm_notebook(np.arange(1,10000,1)):\n",
    "    Q = i / 20\n",
    "    Q_Luminance = np.copy(Q50_Luminance)\n",
    "    if Q < 50:\n",
    "        Q_Luminance = Q_Luminance * 50 / Q\n",
    "        Q_Luminance = np.where(Q_Luminance > 255, 255, Q_Luminance)\n",
    "    else:\n",
    "        Q_Luminance = (100 - Q) * Q50_Luminance / 50\n",
    "        Q_Luminance = np.where(Q_Luminance < 1, 1, Q_Luminance)\n",
    "\n",
    "    Fk = np.copy(Fk_Ori)\n",
    "    Q_Fk = np.zeros(Fk.shape)\n",
    "    for row in range(IMG.img.shape[0] // N):\n",
    "        for col in range(IMG.img.shape[1] // N):\n",
    "            block = Fk[row * N : (row + 1) * N, col * N : (col + 1) * N]\n",
    "            # 量子化\n",
    "            block = np.round(block / Q_Luminance)\n",
    "            # 逆量子化\n",
    "            block = block * Q_Luminance\n",
    "            Q_Fk[row * N : (row+1)*N, col * N : (col+1)*N] = block\n",
    "            \n",
    "    qfk = pd.Series(Q_Fk.flatten())\n",
    "    pro = qfk.value_counts() / qfk.value_counts().sum()\n",
    "    S = 0\n",
    "    for pi in pro:\n",
    "        S -= pi * np.log2(pi)\n",
    "        \n",
    "    bpp = np.arange(0.2,0.8,0.05)\n",
    "    for i in bpp:\n",
    "        if np.abs(i - S) < 0.002:\n",
    "            Fk = np.copy(Q_Fk)\n",
    "            Q_recover = np.zeros(Q_Fk.shape)\n",
    "            # 横方向\n",
    "            # 残差\n",
    "            for k in range(1, n_bar - 2 + 1):\n",
    "                dmlct = DMLCT(k+1, N)\n",
    "                for row in range(IMG.img.shape[0]):\n",
    "                    for col in range(IMG.img.shape[1] // N):\n",
    "                        F = Fk[row, N * col : N * (col + 1)]\n",
    "                        F_L = get_F_L_k_horizontal(Fk, N, row, col)\n",
    "                        F_R = get_F_R_k_horizontal(Fk, N, row, col)\n",
    "\n",
    "                        U_k_n_bar = np.zeros(N)\n",
    "                        for kh in range((k + 1) - 2 + 1):\n",
    "                            U_k_n_bar += (\n",
    "                                F_L[kh] * dmlct.W_L_k_kh[kh]\n",
    "                                + F[kh] * dmlct.W_k_kh[kh]\n",
    "                                + F_R[kh] * dmlct.W_R_k_kh[kh]\n",
    "                            )\n",
    "\n",
    "                        F[k] += U_k_n_bar[k]\n",
    "\n",
    "            dmlct = DMLCT(n_bar, N)\n",
    "            for row in range(IMG.img.shape[0]):\n",
    "                for col in range(IMG.img.shape[1] // N):\n",
    "                    F = Fk[row, N * col : N * (col + 1)]\n",
    "                    F_L = get_F_L_k_horizontal(Fk, N, row, col)\n",
    "                    F_R = get_F_R_k_horizontal(Fk, N, row, col)\n",
    "\n",
    "                    U_k_n_bar = np.zeros(N)\n",
    "                    for kh in range(n_bar - 2 + 1):\n",
    "                        U_k_n_bar += (\n",
    "                            F_L[kh] * dmlct.W_L_k_kh[kh]\n",
    "                            + F[kh] * dmlct.W_k_kh[kh]\n",
    "                            + F_R[kh] * dmlct.W_R_k_kh[kh]\n",
    "                        )\n",
    "\n",
    "                    # n_bar = 4 なら 0,1,2は残す 3,4,5,6,7を書き換える\n",
    "                    F[n_bar - 2 + 1 :] += U_k_n_bar[n_bar - 2 + 1 :]\n",
    "            ### IDCT\n",
    "            for row in range(Fk.shape[0]):\n",
    "                for col in range(Fk.shape[1] // N):\n",
    "                    F = Fk[row, N * col : N * col + N]\n",
    "                    data = scipy.fftpack.idct(F, norm=\"ortho\")\n",
    "                    # Fkに代入した後、縦方向に対して処理\n",
    "                    Fk[row, N * col : N * col + N] = data\n",
    "\n",
    "            ## 縦方向\n",
    "            ### 残差\n",
    "            for k in range(1, n_bar - 2 + 1):\n",
    "                dmlct = DMLCT(k+1, N)\n",
    "                for row in range(IMG.img.shape[0] // N):\n",
    "                    for col in range(IMG.img.shape[1]):\n",
    "                        # ビューなら直接いじっちゃう\n",
    "                        F = Fk[N * row : N * (row + 1), col]\n",
    "                        F_L = get_F_L_k_vertical(Fk, N, row, col)\n",
    "                        F_R = get_F_R_k_vertical(Fk, N, row, col)\n",
    "\n",
    "                        U_k_n_bar = np.zeros(N)\n",
    "\n",
    "                        for kh in range((k + 1) - 2 + 1):\n",
    "                            U_k_n_bar += (\n",
    "                                F_L[kh] * dmlct.W_L_k_kh[kh]\n",
    "                                + F[kh] * dmlct.W_k_kh[kh]\n",
    "                                + F_R[kh] * dmlct.W_R_k_kh[kh]\n",
    "                            )\n",
    "\n",
    "                        F[k] += U_k_n_bar[k]\n",
    "\n",
    "            dmlct = DMLCT(n_bar, N)\n",
    "            for row in range(IMG.img.shape[0] // N):\n",
    "                for col in range(IMG.img.shape[1]):\n",
    "                    # ビューなら直接いじっちゃう\n",
    "                    F = Fk[N * row : N * (row + 1), col]\n",
    "                    F_L = get_F_L_k_vertical(Fk, N, row, col)\n",
    "                    F_R = get_F_R_k_vertical(Fk, N, row, col)\n",
    "\n",
    "                    U_k_n_bar = np.zeros(N)\n",
    "                    for kh in range(n_bar - 2 + 1):\n",
    "                        U_k_n_bar += (\n",
    "                            F_L[kh] * dmlct.W_L_k_kh[kh]\n",
    "                            + F[kh] * dmlct.W_k_kh[kh]\n",
    "                            + F_R[kh] * dmlct.W_R_k_kh[kh]\n",
    "                        )\n",
    "\n",
    "                    # n_bar = 4 なら 0,1,2は残す 3,4,5,6,7を書き換える\n",
    "                    F[n_bar - 2 + 1 :] += U_k_n_bar[n_bar - 2 + 1 :]\n",
    "\n",
    "            ### IDCT\n",
    "            for row in range(Fk.shape[0] // N):\n",
    "                for col in range(Fk.shape[1]):\n",
    "                    F = Fk[N * row : N * (row + 1), col]\n",
    "                    data = scipy.fftpack.idct(F, norm=\"ortho\")\n",
    "                    # 復元画像\n",
    "                    Q_recover[N * row : N * (row + 1), col] = data\n",
    "\n",
    "            Q_recover = np.round(Q_recover)\n",
    "\n",
    "            MSE = np.sum(np.sum(np.power((IMG.img - Q_recover),2)))/(Q_recover.shape[0] * Q_recover.shape[1])\n",
    "            PSNR = 10 * np.log10(255 * 255 / MSE)\n",
    "            MSSIM = ssim(IMG.img,Q_recover.astype(IMG.img.dtype),gaussian_weights=True,sigma=1.5,K1=0.01,K2=0.03)\n",
    "            MSDSt, MSDS1, MSDS2 = msds(N,Q_recover)\n",
    "            print(\"S=\",S)\n",
    "            print(Q,PSNR,MSSIM,MSDS1,MSDS2)"
   ]
  },
  {
   "cell_type": "code",
   "execution_count": null,
   "metadata": {},
   "outputs": [],
   "source": []
  }
 ],
 "metadata": {
  "kernelspec": {
   "display_name": "Python 3",
   "language": "python",
   "name": "python3"
  },
  "language_info": {
   "codemirror_mode": {
    "name": "ipython",
    "version": 3
   },
   "file_extension": ".py",
   "mimetype": "text/x-python",
   "name": "python",
   "nbconvert_exporter": "python",
   "pygments_lexer": "ipython3",
   "version": "3.6.7"
  }
 },
 "nbformat": 4,
 "nbformat_minor": 4
}
