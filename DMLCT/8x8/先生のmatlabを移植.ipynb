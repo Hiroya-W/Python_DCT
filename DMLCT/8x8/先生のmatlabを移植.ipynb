{
 "cells": [
  {
   "cell_type": "code",
   "execution_count": 1,
   "metadata": {},
   "outputs": [],
   "source": [
    "import numpy as np\n",
    "import scipy.misc\n",
    "from scipy.fftpack import dct, idct\n",
    "import sys\n",
    "from PIL import Image\n",
    "import matplotlib\n",
    "import matplotlib.pyplot as plt\n",
    "import random\n",
    "from tqdm._tqdm_notebook import tqdm_notebook\n",
    "from scipy.fftpack import dct, idct\n",
    "import seaborn as sns\n",
    "from skimage.metrics import structural_similarity as ssim\n",
    "import pandas as pd\n",
    "import sympy\n",
    "\n",
    "%matplotlib inline\n",
    "\n",
    "\n",
    "class ImageLoader:\n",
    "    def __init__(self, FILE_PATH):\n",
    "        self.img = np.array(Image.open(FILE_PATH))\n",
    "        # 行数\n",
    "        self.row_blocks_count = self.img.shape[0] // 8\n",
    "        # 列数\n",
    "        self.col_blocks_count = self.img.shape[1] // 8\n",
    "\n",
    "    def get_points(self, POINT):\n",
    "        Row = random.randint(0, len(self.img) - POINT - 1)\n",
    "        Col = random.randint(0, len(self.img) - 1)\n",
    "        return self.img[Row : Row + POINT, Col]\n",
    "\n",
    "    def get_block(self, col, row):\n",
    "        return self.img[col * 8 : (col + 1) * 8, row * 8 : (row + 1) * 8]\n",
    "\n",
    "\n",
    "# plt.rcParams['font.family'] ='sans-serif'#使用するフォント\n",
    "# plt.rcParams[\"font.sans-serif\"] = \"Source Han Sans\"\n",
    "plt.rcParams[\"font.family\"] = \"Source Han Sans JP\"  # 使用するフォント\n",
    "plt.rcParams[\"xtick.direction\"] = \"in\"  # x軸の目盛線が内向き('in')か外向き('out')か双方向か('inout')\n",
    "plt.rcParams[\"ytick.direction\"] = \"in\"  # y軸の目盛線が内向き('in')か外向き('out')か双方向か('inout')\n",
    "plt.rcParams[\"xtick.major.width\"] = 1.0  # x軸主目盛り線の線幅\n",
    "plt.rcParams[\"ytick.major.width\"] = 1.0  # y軸主目盛り線の線幅\n",
    "plt.rcParams[\"font.size\"] = 12  # フォントの大きさ\n",
    "plt.rcParams[\"axes.linewidth\"] = 1.0  # 軸の線幅edge linewidth。囲みの太さ\n",
    "matplotlib.font_manager._rebuild()\n",
    "\n",
    "MONO_DIR_PATH = \"../../Mono/\"\n",
    "AIRPLANE = ImageLoader(MONO_DIR_PATH + \"airplane512.bmp\")\n",
    "BARBARA = ImageLoader(MONO_DIR_PATH + \"barbara512.bmp\")\n",
    "BOAT = ImageLoader(MONO_DIR_PATH + \"boat512.bmp\")\n",
    "GOLDHILL = ImageLoader(MONO_DIR_PATH + \"goldhill512.bmp\")\n",
    "LENNA = ImageLoader(MONO_DIR_PATH + \"lenna512.bmp\")\n",
    "MANDRILL = ImageLoader(MONO_DIR_PATH + \"mandrill512.bmp\")\n",
    "MILKDROP = ImageLoader(MONO_DIR_PATH + \"milkdrop512.bmp\")\n",
    "SAILBOAT = ImageLoader(MONO_DIR_PATH + \"sailboat512.bmp\")"
   ]
  },
  {
   "cell_type": "code",
   "execution_count": 2,
   "metadata": {},
   "outputs": [],
   "source": [
    "n_bar = 5\n",
    "N = 8"
   ]
  },
  {
   "cell_type": "markdown",
   "metadata": {},
   "source": [
    "# MSDS"
   ]
  },
  {
   "cell_type": "code",
   "execution_count": 3,
   "metadata": {},
   "outputs": [],
   "source": [
    "def msds(N,arr):\n",
    "    w_e = 0\n",
    "    e_e = 0\n",
    "    n_e = 0\n",
    "    s_e = 0\n",
    "    nw_e = 0\n",
    "    ne_e = 0\n",
    "    sw_e = 0\n",
    "    se_e = 0\n",
    "    for row in range(arr.shape[0] // N):\n",
    "        for col in range(arr.shape[1] // N):\n",
    "            f_block = arr[row * N : (row + 1) * N, col * N : (col + 1) * N]\n",
    "            # w\n",
    "            if col == 0:\n",
    "                w_block = np.fliplr(f_block)\n",
    "            else:\n",
    "                w_block = arr[row * N : (row + 1) * N, (col - 1) * N : col * N]\n",
    "            # e\n",
    "            if col == arr.shape[1] // N - 1:\n",
    "                e_block = np.fliplr(f_block)\n",
    "            else:\n",
    "                e_block = arr[row * N : (row + 1) * N, (col + 1) * N : (col + 2) * N]\n",
    "            # n\n",
    "            if row == 0:\n",
    "                n_block = np.flipud(f_block)\n",
    "            else:\n",
    "                n_block = arr[(row - 1) * N : row * N, col * N : (col + 1) * N]\n",
    "            # s\n",
    "            if row == arr.shape[0] // N - 1:\n",
    "                s_block = np.flipud(f_block)\n",
    "            else:\n",
    "                s_block = arr[(row + 1) * N : (row + 2) * N, col * N : (col + 1) * N]\n",
    "\n",
    "            w_d1 = f_block[:, 0] - w_block[:, N-1]\n",
    "            e_d1 = f_block[:, N-1] - e_block[:, 0]\n",
    "            n_d1 = f_block[0, :] - n_block[N-1, :]\n",
    "            s_d1 = f_block[N-1, :] - s_block[0, :]\n",
    "\n",
    "            w_d2 = (w_block[:, N-1] - w_block[:, N-2] + f_block[:, 1] - f_block[:, 0]) / 2\n",
    "            e_d2 = (e_block[:, 1] - e_block[:, 0] + f_block[:, N-1] - f_block[:, N-2]) / 2\n",
    "            n_d2 = (n_block[N-1, :] - n_block[N-2, :] + f_block[1, :] - f_block[0, :]) / 2\n",
    "            s_d2 = (s_block[1, :] - s_block[0, :] + f_block[N-1, :] - f_block[N-2, :]) / 2\n",
    "\n",
    "            w_e += np.sum((w_d1 - w_d2) ** 2 )\n",
    "            e_e += np.sum((e_d1 - e_d2) ** 2 )\n",
    "            n_e += np.sum((n_d1 - n_d2) ** 2)\n",
    "            s_e += np.sum((s_d1 - s_d2) ** 2)\n",
    "\n",
    "            # nw\n",
    "            if row == 0 or col == 0:\n",
    "                nw_block = np.flipud(np.fliplr(f_block))\n",
    "            else:\n",
    "                nw_block = arr[(row - 1) * N : row * N, (col - 1) * N : col * N]\n",
    "            # ne\n",
    "            if row == 0 or col == arr.shape[1] // N - 1:\n",
    "                ne_block = np.flipud(np.fliplr(f_block))\n",
    "            else:\n",
    "                ne_block = arr[(row-1) * N : row * N, (col + 1) * N : (col + 2) * N]\n",
    "            # sw\n",
    "            if row == arr.shape[0] // N -1 or col == 0:\n",
    "                sw_block = np.flipud(np.fliplr(f_block))\n",
    "            else:\n",
    "                sw_block = arr[row * N : (row+1) * N, (col-1) * N : col * N]\n",
    "            # se\n",
    "            if  row == arr.shape[0]//N-1 or col == arr.shape[0] // N -1:\n",
    "                se_block = np.flipud(np.fliplr(f_block))\n",
    "            else:\n",
    "                se_block = arr[(row + 1) * N : (row + 2) * N, (col+1) * N : (col + 2) * N]\n",
    "\n",
    "            nw_g1 = f_block[0, 0] - nw_block[N-1, N-1]\n",
    "            ne_g1 = f_block[0, N-1] - ne_block[N-1, 0]\n",
    "            sw_g1 = f_block[N-1, 0] - sw_block[0, N-1]\n",
    "            se_g1 = f_block[N-1, N-1] - se_block[0, 0]\n",
    "\n",
    "            nw_g2 = (nw_block[N-1,N-1] - nw_block[N-2,N-2] + f_block[1,1] - f_block[0,0])/2\n",
    "            ne_g2 = (ne_block[N-1,0] - ne_block[N-2,1] + f_block[1,N-2] - f_block[0,N-1])/2\n",
    "            sw_g2 = (sw_block[0,N-1] - nw_block[1,N-2] + f_block[N-2,1] - f_block[N-1,0])/2\n",
    "            se_g2 = (nw_block[0,0] - nw_block[1,1] + f_block[N-2,N-2] - f_block[N-1,N-1])/2\n",
    "\n",
    "            nw_e += (nw_g1 - nw_g2) ** 2 \n",
    "            ne_e += (ne_g1 - ne_g2) ** 2 \n",
    "            sw_e += (sw_g1 - sw_g2) ** 2 \n",
    "            se_e += (se_g1 - se_g2) ** 2 \n",
    "\n",
    "    MSDSt = (w_e + e_e + n_e + s_e + nw_e + ne_e + sw_e + se_e)/ ((arr.shape[0]/N)**2)\n",
    "    MSDS1 = (w_e + e_e + n_e + s_e)/ ((arr.shape[0]/N)**2)\n",
    "    MSDS2 = (nw_e + ne_e + sw_e + se_e)/ ((arr.shape[0]/N)**2)\n",
    "    return MSDSt, MSDS1, MSDS2"
   ]
  },
  {
   "cell_type": "code",
   "execution_count": 4,
   "metadata": {},
   "outputs": [],
   "source": [
    "IMG = LENNA"
   ]
  },
  {
   "cell_type": "code",
   "execution_count": 5,
   "metadata": {},
   "outputs": [],
   "source": [
    "# 重み係数計算\n",
    "def dm2coef(N):\n",
    "    xn = np.zeros(N)\n",
    "    for iell in range(N):\n",
    "        xn[iell] = (2*iell+1)/(2*N)\n",
    "    \n",
    "    co = np.zeros((N,N))\n",
    "    for i in range(N):\n",
    "        for ik in range(N):\n",
    "            co[ik,i] = np.cos(np.pi * ik * xn[i])\n",
    "            \n",
    "    P0 = np.zeros(N)\n",
    "    P1 = np.zeros(N)\n",
    "    for i in range(N):\n",
    "        P0[i] = -1 * (1/2) * (xn[i] - 1) ** 2\n",
    "        P1[i] = (1/2) * xn[i] ** 2\n",
    "        \n",
    "    P0matrix = np.tile(P0,(N,1))\n",
    "    P1matrix = np.tile(P1,(N,1))\n",
    "    \n",
    "    W0 = co * P0matrix\n",
    "    W1 = co * P1matrix\n",
    "    \n",
    "    COMAT1 = np.sum(W0, axis=1) * np.sqrt(2/N)\n",
    "    COMAT2 = np.sum(W1, axis=1) * np.sqrt(2/N)\n",
    "    return COMAT1, COMAT2"
   ]
  },
  {
   "cell_type": "code",
   "execution_count": 6,
   "metadata": {},
   "outputs": [],
   "source": [
    "def dm3coef(N):\n",
    "    xn = np.zeros(N)\n",
    "    for iell in range(N):\n",
    "        xn[iell] = (2*iell+1)/(2*N)\n",
    "    \n",
    "    co = np.zeros((N,N))\n",
    "    for i in range(N):\n",
    "        for ik in range(N):\n",
    "            co[ik,i] = np.cos(np.pi * ik * xn[i])\n",
    "            \n",
    "    P0 = np.zeros(N)\n",
    "    P1 = np.zeros(N)\n",
    "    P2 = np.zeros(N)\n",
    "    for i in range(N):\n",
    "        P0[i] = (2/3) * xn[i] ** 3 - (3/2) * xn[i] ** 2 + xn[i]\n",
    "        P1[i] = -(4/3) * xn[i] ** 3 + 2 * xn[i] ** 2\n",
    "        P2[i] = (2/3) * xn[i] ** 3 -(1/2) * xn[i] ** 2\n",
    "        \n",
    "    P0matrix = np.tile(P0,(N,1))\n",
    "    P1matrix = np.tile(P1,(N,1))\n",
    "    P2matrix = np.tile(P2,(N,1))\n",
    "    \n",
    "    W0 = co * P0matrix\n",
    "    W1 = co * P1matrix\n",
    "    W2 = co * P2matrix\n",
    "    \n",
    "    COMAT1 = np.sum(W0, axis=1) * np.sqrt(2/N)\n",
    "    COMAT2 = np.sum(W1, axis=1) * np.sqrt(2/N)\n",
    "    COMAT3 = np.sum(W2, axis=1) * np.sqrt(2/N)\n",
    "    return COMAT1, COMAT2, COMAT3"
   ]
  },
  {
   "cell_type": "code",
   "execution_count": 22,
   "metadata": {},
   "outputs": [],
   "source": [
    "def dm4coef(N):\n",
    "    xn = np.zeros(N)\n",
    "    for iell in range(N):\n",
    "        xn[iell] = (2*iell+1)/(2*N)\n",
    "    \n",
    "    co = np.zeros((N,N))\n",
    "    for i in range(N):\n",
    "        for ik in range(N):\n",
    "            co[ik,i] = np.cos(np.pi * ik * xn[i])\n",
    "#     print(co)\n",
    "            \n",
    "    P0 = np.zeros(N)\n",
    "    P1 = np.zeros(N)\n",
    "    P2 = np.zeros(N)\n",
    "    P3 = np.zeros(N)\n",
    "    for i in range(N):\n",
    "        P0[i] = (-9/8) * xn[i] ** 4 + 3 * xn[i] ** 3 + (-11/4) * xn[i] ** 2 + xn[i]\n",
    "        P1[i] = (27/8) * xn[i] ** 4 + (-15/2) * xn[i] ** 3 + (9/2) * xn[i] ** 2\n",
    "        P2[i] = (-27/8) * xn[i] ** 4 + 6 * xn[i] ** 3 + (-9/4) * xn[i] ** 2\n",
    "        P3[i] = (9/8) * xn[i] ** 4 + (-3/2) * xn[i] ** 3 + (1/2) * xn[i] ** 2\n",
    "        \n",
    "    P0matrix = np.tile(P0,(N,1))\n",
    "#     print(P0matrix)\n",
    "    P1matrix = np.tile(P1,(N,1))\n",
    "    P2matrix = np.tile(P2,(N,1))\n",
    "    P3matrix = np.tile(P3,(N,1))\n",
    "    \n",
    "    W0 = co * P0matrix\n",
    "#     print(W0)\n",
    "    W1 = co * P1matrix\n",
    "    W2 = co * P2matrix\n",
    "    W3 = co * P3matrix\n",
    "    \n",
    "    COMAT1 = np.sum(W0, axis=1) * np.sqrt(2/N)\n",
    "    print(COMAT1)\n",
    "    COMAT2 = np.sum(W1, axis=1) * np.sqrt(2/N)\n",
    "    print(COMAT2)\n",
    "    COMAT3 = np.sum(W2, axis=1) * np.sqrt(2/N)\n",
    "    print(COMAT3)\n",
    "    COMAT4 = np.sum(W3, axis=1) * np.sqrt(2/N)\n",
    "    print(COMAT4)\n",
    "    return COMAT1, COMAT2, COMAT3, COMAT4"
   ]
  },
  {
   "cell_type": "code",
   "execution_count": 23,
   "metadata": {},
   "outputs": [
    {
     "name": "stdout",
     "output_type": "stream",
     "text": [
      "[ 0.43590546 -0.03308095 -0.02931474 -0.03754339 -0.01782441 -0.01199148\n",
      " -0.00626287 -0.00307165]\n",
      "[ 1.20009613e+00 -3.69564240e-01 -2.07773481e-01 -4.54753960e-03\n",
      " -1.28180367e-02 -5.64949375e-04 -2.22740699e-03 -9.72466487e-05]\n",
      "[ 2.99903870e-01 -3.69564240e-01  2.07773481e-01 -4.54753960e-03\n",
      "  1.28180367e-02 -5.64949375e-04  2.22740699e-03 -9.72466487e-05]\n",
      "[ 0.06409454 -0.03308095  0.02931474 -0.03754339  0.01782441 -0.01199148\n",
      "  0.00626287 -0.00307165]\n"
     ]
    }
   ],
   "source": [
    "COMAT1, COMAT2, COMAT3, COMAT4 = dm4coef(N)\n"
   ]
  },
  {
   "cell_type": "code",
   "execution_count": 9,
   "metadata": {},
   "outputs": [],
   "source": [
    "def dmlct4e(IMG,N):\n",
    "    \n",
    "    F = np.zeros(IMG.shape)\n",
    "    for row in range(IMG.shape[0] // N):\n",
    "        for col in range(IMG.shape[1]):\n",
    "            eight_points = IMG[N * row : N * (row + 1), col]\n",
    "            c = scipy.fftpack.dct(eight_points, norm=\"ortho\")\n",
    "            F[N * row : N * (row + 1), col] = c\n",
    "\n",
    "    # 垂直方向にDCT係数が並列に並んでいるとみなす\n",
    "    F0mFL0 = np.concatenate(\n",
    "        # その時の直流成分を取り出す\n",
    "        # index外はミラー処理すると、1行目は0となる\n",
    "        [np.zeros((1,IMG.shape[1])), F[N::N,:] - F[:-N:N,:]], 0\n",
    "    )\n",
    "    FR0mF0 = np.concatenate(\n",
    "        [F[N::N,:] - F[:-N:N], np.zeros((1,IMG.shape[1]))], 0\n",
    "    )\n",
    "    F1pFL1 = np.concatenate(\n",
    "        [np.zeros((1,IMG.shape[1])), F[1+N::N,:] + F[1:-N:N,:]], 0\n",
    "    )\n",
    "    FR1pF1 = np.concatenate(\n",
    "        [F[1+N::N,:] + F[1:-N:N,:], np.zeros((1,IMG.shape[1]))], 0\n",
    "    )\n",
    "    F2mFL2 = np.concatenate(\n",
    "        [np.zeros((1,IMG.shape[1])), F[2+N::N,:] - F[2:-N:N,:]], 0\n",
    "    )\n",
    "    FR2mF2 = np.concatenate(\n",
    "        [F[2+N::N,:] - F[2:-N:N,:], np.zeros((1,IMG.shape[1]))], 0\n",
    "    )\n",
    "    F1 = F[1::N,:]\n",
    "    F2 = F[2::N,:]\n",
    "\n",
    "    U = np.zeros(IMG.shape)\n",
    "\n",
    "    # 第1交流成分予測\n",
    "    DM2COMAT1, DM2COMAT2 = dm2coef(N)\n",
    "    DM2L = F0mFL0 / np.sqrt(N)\n",
    "    DM2R = FR0mF0 / np.sqrt(N)\n",
    "    k=2\n",
    "    U[k-1::N,:] = DM2L * DM2COMAT1[k] + DM2R * DM2COMAT2[k]\n",
    "\n",
    "    DM3COMAT1, DM3COMAT2, DM3COMAT3 = dm3coef(N)\n",
    "    DM3L = (2/np.sqrt(N)) * (F0mFL0 + F1pFL1)\n",
    "    DM3M = (-4/np.sqrt(N)) * F1\n",
    "    DM3R = (2/np.sqrt(N)) * (FR0mF0 + FR1pF1)\n",
    "    k=3\n",
    "    U[k-1::N,:] = DM3L * DM3COMAT1[k] + DM3M * DM3COMAT2[k] + DM3R * DM3COMAT3[k]\n",
    "\n",
    "    DM4COMAT1, DM4COMAT2, DM4COMAT3, DM4COMAT4 = dm4coef(N)\n",
    "    DM4L = 3 * np.sqrt(2/N) * ( (1/np.sqrt(2)) * F0mFL0 + (np.sqrt(3)/2 ) * F1pFL1 + (1/2) * F2mFL2)\n",
    "    DM4M1 = 3 * np.sqrt(2/N) * ( (-np.sqrt(3)/2)*F1 + (-3/2) * F2 )\n",
    "    DM4M2 = 3 * np.sqrt(2/N) * ( (-np.sqrt(3)/2)*F1 + (3/2) * F2 )\n",
    "    DM4R = 3 * np.sqrt(2/N) * ( (1/np.sqrt(2) ) * FR0mF0 + (np.sqrt(3)/2 ) * FR1pF1 + (1/2)*FR2mF2)\n",
    "\n",
    "    for k in range(4,N,1):\n",
    "        U[k-1::N,:] = DM4L * DM4COMAT1[k] + DM4M1 * DM4COMAT2[k] + DM4M2 * DM4COMAT3[k] + DM4R * DM4COMAT4[k]\n",
    "\n",
    "    V = F - U\n",
    "    return V"
   ]
  },
  {
   "cell_type": "code",
   "execution_count": 10,
   "metadata": {},
   "outputs": [
    {
     "name": "stdout",
     "output_type": "stream",
     "text": [
      "[[ 1.          1.          1.          1.          1.          1.\n",
      "   1.          1.        ]\n",
      " [ 0.98078528  0.83146961  0.55557023  0.19509032 -0.19509032 -0.55557023\n",
      "  -0.83146961 -0.98078528]\n",
      " [ 0.92387953  0.38268343 -0.38268343 -0.92387953 -0.92387953 -0.38268343\n",
      "   0.38268343  0.92387953]\n",
      " [ 0.83146961 -0.19509032 -0.98078528 -0.55557023  0.55557023  0.98078528\n",
      "   0.19509032 -0.83146961]\n",
      " [ 0.70710678 -0.70710678 -0.70710678  0.70710678  0.70710678 -0.70710678\n",
      "  -0.70710678  0.70710678]\n",
      " [ 0.55557023 -0.98078528  0.19509032  0.83146961 -0.83146961 -0.19509032\n",
      "   0.98078528 -0.55557023]\n",
      " [ 0.38268343 -0.92387953  0.92387953 -0.38268343 -0.38268343  0.92387953\n",
      "  -0.92387953  0.38268343]\n",
      " [ 0.19509032 -0.55557023  0.83146961 -0.98078528  0.98078528 -0.83146961\n",
      "   0.55557023 -0.19509032]]\n",
      "[[ 1.          1.          1.          1.          1.          1.\n",
      "   1.          1.        ]\n",
      " [ 0.98078528  0.83146961  0.55557023  0.19509032 -0.19509032 -0.55557023\n",
      "  -0.83146961 -0.98078528]\n",
      " [ 0.92387953  0.38268343 -0.38268343 -0.92387953 -0.92387953 -0.38268343\n",
      "   0.38268343  0.92387953]\n",
      " [ 0.83146961 -0.19509032 -0.98078528 -0.55557023  0.55557023  0.98078528\n",
      "   0.19509032 -0.83146961]\n",
      " [ 0.70710678 -0.70710678 -0.70710678  0.70710678  0.70710678 -0.70710678\n",
      "  -0.70710678  0.70710678]\n",
      " [ 0.55557023 -0.98078528  0.19509032  0.83146961 -0.83146961 -0.19509032\n",
      "   0.98078528 -0.55557023]\n",
      " [ 0.38268343 -0.92387953  0.92387953 -0.38268343 -0.38268343  0.92387953\n",
      "  -0.92387953  0.38268343]\n",
      " [ 0.19509032 -0.55557023  0.83146961 -0.98078528  0.98078528 -0.83146961\n",
      "   0.55557023 -0.19509032]]\n"
     ]
    }
   ],
   "source": [
    "V = dmlct4e(IMG.img,N)\n",
    "V = dmlct4e(V.T,N)"
   ]
  },
  {
   "cell_type": "code",
   "execution_count": 11,
   "metadata": {},
   "outputs": [],
   "source": [
    "V = V.T"
   ]
  },
  {
   "cell_type": "code",
   "execution_count": 12,
   "metadata": {},
   "outputs": [
    {
     "data": {
      "text/plain": [
       "array([[ 1.28350000e+03,  5.22567783e+00,  3.43535716e+00, ...,\n",
       "        -2.93060521e-02, -1.07608163e+01, -1.03705202e+00],\n",
       "       [ 9.05384010e+00, -9.12347094e-01,  8.63147558e-01, ...,\n",
       "        -4.03042670e+00, -4.98082389e+00, -5.50663905e+00],\n",
       "       [-5.83866157e+00, -3.84503529e-01, -1.79849011e+00, ...,\n",
       "         1.49907936e+00,  1.56729265e+00,  3.71207863e+00],\n",
       "       ...,\n",
       "       [ 3.33262632e+00,  1.14249469e+00,  3.55320031e+00, ...,\n",
       "         5.49227127e-01, -7.86949495e-01, -2.21082484e+00],\n",
       "       [-5.04600995e-01, -2.22391375e+00, -6.84110037e-01, ...,\n",
       "        -4.35660473e+00,  2.17297211e+00,  2.32292864e+00],\n",
       "       [ 1.14765763e+00, -1.40761585e+00, -3.01550749e+00, ...,\n",
       "        -4.82292368e+00,  1.34679998e+00,  2.10713405e+00]])"
      ]
     },
     "execution_count": 12,
     "metadata": {},
     "output_type": "execute_result"
    }
   ],
   "source": [
    "V"
   ]
  },
  {
   "cell_type": "code",
   "execution_count": 13,
   "metadata": {},
   "outputs": [],
   "source": [
    "pd.DataFrame(V).to_csv(\"DMLCT_lenna_ashi_coef.csv\",header=False,index=False)"
   ]
  },
  {
   "cell_type": "code",
   "execution_count": 14,
   "metadata": {},
   "outputs": [],
   "source": [
    "def idmlct4e(V,N):\n",
    "    F = np.zeros(V.shape)\n",
    "    U = np.zeros(V.shape)\n",
    "    \n",
    "    DM2COMAT1, DM2COMAT2 = dm2coef(N)\n",
    "\n",
    "    F0mFL0 = np.concatenate(\n",
    "        [np.zeros((1,V.shape[1])), V[N::N,:] - V[:-N:N,:]], 0\n",
    "    )\n",
    "    FR0mF0 = np.concatenate(\n",
    "        [V[N::N,:] - V[:-N:N], np.zeros((1,V.shape[1]))], 0\n",
    "    )\n",
    "    \n",
    "    DM2L = F0mFL0 / np.sqrt(N)\n",
    "    DM2R = FR0mF0 / np.sqrt(N)\n",
    "    k=2\n",
    "    U[k-1::N,:] = DM2L * DM2COMAT1[k] + DM2R * DM2COMAT2[k]\n",
    "    F = V + U\n",
    "\n",
    "    F0mFL0 = np.concatenate(\n",
    "        [np.zeros((1,F.shape[1])), F[N::N,:] - F[:-N:N,:]], 0\n",
    "    )\n",
    "    FR0mF0 = np.concatenate(\n",
    "        [F[N::N,:] - F[:-N:N], np.zeros((1,V.shape[1]))], 0\n",
    "    )\n",
    "    F1pFL1 = np.concatenate(\n",
    "        [np.zeros((1,V.shape[1])), F[1+N::N,:] + F[1:-N:N,:]], 0\n",
    "    )\n",
    "    FR1pF1 = np.concatenate(\n",
    "        [F[1+N::N,:] + F[1:-N:N,:], np.zeros((1,V.shape[1]))], 0\n",
    "    )\n",
    "    F1 = F[1::N,:]\n",
    "    \n",
    "    DM3COMAT1, DM3COMAT2, DM3COMAT3 = dm3coef(N)\n",
    "    DM3L = (2/np.sqrt(N)) * (F0mFL0 + F1pFL1)\n",
    "    DM3M = (-4/np.sqrt(N)) * F1\n",
    "    DM3R = (2/np.sqrt(N)) * (FR0mF0 + FR1pF1)\n",
    "    k=3\n",
    "    U[k-1::N,:] = DM3L * DM3COMAT1[k] + DM3M * DM3COMAT2[k] + DM3R * DM3COMAT3[k]\n",
    "    F = V + U\n",
    "    \n",
    "    F2mFL2 = np.concatenate(\n",
    "        [np.zeros((1,V.shape[1])), F[2+N::N,:] - F[2:-N:N,:]], 0\n",
    "    )\n",
    "    FR2mF2 = np.concatenate(\n",
    "        [F[2+N::N,:] - F[2:-N:N,:], np.zeros((1,V.shape[1]))], 0\n",
    "    )\n",
    "    F2 = F[2::N,:]\n",
    "    \n",
    "    DM4COMAT1, DM4COMAT2, DM4COMAT3, DM4COMAT4 = dm4coef(N)\n",
    "    DM4L = 3 * np.sqrt(2/N) * ( (1/np.sqrt(2)) * F0mFL0 + (np.sqrt(3)/2 ) * F1pFL1 + (1/2) * F2mFL2)\n",
    "    DM4M1 = 3 * np.sqrt(2/N) * ( (-np.sqrt(3)/2)*F1 + (-3/2) * F2 )\n",
    "    DM4M2 = 3 * np.sqrt(2/N) * ( (-np.sqrt(3)/2)*F1 + (3/2) * F2 )\n",
    "    DM4R = 3 * np.sqrt(2/N) * ( (1/np.sqrt(2) ) * FR0mF0 + (np.sqrt(3)/2 ) * FR1pF1 + (1/2)*FR2mF2)\n",
    "    for k in range(4,N,1):\n",
    "        U[k-1::N,:] = DM4L * DM4COMAT1[k] + DM4M1 * DM4COMAT2[k] + DM4M2 * DM4COMAT3[k] + DM4R * DM4COMAT4[k]\n",
    "\n",
    "    F = V + U\n",
    "    R = np.zeros(F.shape)\n",
    "    \n",
    "    for row in range(F.shape[0] // N):\n",
    "        for col in range(F.shape[1]):\n",
    "            eight_points = F[N * row : N * (row + 1), col]\n",
    "            c = scipy.fftpack.idct(eight_points, norm=\"ortho\")\n",
    "            R[N * row : N * (row + 1), col] = c\n",
    "    \n",
    "    return R"
   ]
  },
  {
   "cell_type": "code",
   "execution_count": 15,
   "metadata": {},
   "outputs": [
    {
     "name": "stdout",
     "output_type": "stream",
     "text": [
      "[[ 1.          1.          1.          1.          1.          1.\n",
      "   1.          1.        ]\n",
      " [ 0.98078528  0.83146961  0.55557023  0.19509032 -0.19509032 -0.55557023\n",
      "  -0.83146961 -0.98078528]\n",
      " [ 0.92387953  0.38268343 -0.38268343 -0.92387953 -0.92387953 -0.38268343\n",
      "   0.38268343  0.92387953]\n",
      " [ 0.83146961 -0.19509032 -0.98078528 -0.55557023  0.55557023  0.98078528\n",
      "   0.19509032 -0.83146961]\n",
      " [ 0.70710678 -0.70710678 -0.70710678  0.70710678  0.70710678 -0.70710678\n",
      "  -0.70710678  0.70710678]\n",
      " [ 0.55557023 -0.98078528  0.19509032  0.83146961 -0.83146961 -0.19509032\n",
      "   0.98078528 -0.55557023]\n",
      " [ 0.38268343 -0.92387953  0.92387953 -0.38268343 -0.38268343  0.92387953\n",
      "  -0.92387953  0.38268343]\n",
      " [ 0.19509032 -0.55557023  0.83146961 -0.98078528  0.98078528 -0.83146961\n",
      "   0.55557023 -0.19509032]]\n"
     ]
    }
   ],
   "source": [
    "R = idmlct4e(V,N)"
   ]
  },
  {
   "cell_type": "code",
   "execution_count": 16,
   "metadata": {},
   "outputs": [
    {
     "name": "stdout",
     "output_type": "stream",
     "text": [
      "[[ 1.          1.          1.          1.          1.          1.\n",
      "   1.          1.        ]\n",
      " [ 0.98078528  0.83146961  0.55557023  0.19509032 -0.19509032 -0.55557023\n",
      "  -0.83146961 -0.98078528]\n",
      " [ 0.92387953  0.38268343 -0.38268343 -0.92387953 -0.92387953 -0.38268343\n",
      "   0.38268343  0.92387953]\n",
      " [ 0.83146961 -0.19509032 -0.98078528 -0.55557023  0.55557023  0.98078528\n",
      "   0.19509032 -0.83146961]\n",
      " [ 0.70710678 -0.70710678 -0.70710678  0.70710678  0.70710678 -0.70710678\n",
      "  -0.70710678  0.70710678]\n",
      " [ 0.55557023 -0.98078528  0.19509032  0.83146961 -0.83146961 -0.19509032\n",
      "   0.98078528 -0.55557023]\n",
      " [ 0.38268343 -0.92387953  0.92387953 -0.38268343 -0.38268343  0.92387953\n",
      "  -0.92387953  0.38268343]\n",
      " [ 0.19509032 -0.55557023  0.83146961 -0.98078528  0.98078528 -0.83146961\n",
      "   0.55557023 -0.19509032]]\n"
     ]
    }
   ],
   "source": [
    "R = idmlct4e(R.T,N)"
   ]
  },
  {
   "cell_type": "code",
   "execution_count": 17,
   "metadata": {},
   "outputs": [
    {
     "data": {
      "text/plain": [
       "array([[162., 162., 162., ..., 170., 155., 128.],\n",
       "       [162., 162., 162., ..., 170., 155., 128.],\n",
       "       [162., 162., 162., ..., 170., 155., 128.],\n",
       "       ...,\n",
       "       [ 43.,  43.,  50., ..., 104., 100.,  98.],\n",
       "       [ 44.,  44.,  55., ..., 104., 105., 108.],\n",
       "       [ 44.,  44.,  55., ..., 104., 105., 108.]])"
      ]
     },
     "execution_count": 17,
     "metadata": {},
     "output_type": "execute_result"
    }
   ],
   "source": [
    "R.T"
   ]
  },
  {
   "cell_type": "code",
   "execution_count": 18,
   "metadata": {},
   "outputs": [
    {
     "data": {
      "text/plain": [
       "<matplotlib.image.AxesImage at 0x7f3d1c18d198>"
      ]
     },
     "execution_count": 18,
     "metadata": {},
     "output_type": "execute_result"
    },
    {
     "data": {
      "image/png": "[encoded data removed]",
      "text/plain": [
       "<Figure size 432x288 with 1 Axes>"
      ]
     },
     "metadata": {
      "needs_background": "light"
     },
     "output_type": "display_data"
    }
   ],
   "source": [
    "plt.imshow(R.T,cmap=\"gray\")"
   ]
  },
  {
   "cell_type": "code",
   "execution_count": 19,
   "metadata": {},
   "outputs": [
    {
     "name": "stdout",
     "output_type": "stream",
     "text": [
      "[[ 1.          1.          1.          1.          1.          1.\n",
      "   1.          1.        ]\n",
      " [ 0.98078528  0.83146961  0.55557023  0.19509032 -0.19509032 -0.55557023\n",
      "  -0.83146961 -0.98078528]\n",
      " [ 0.92387953  0.38268343 -0.38268343 -0.92387953 -0.92387953 -0.38268343\n",
      "   0.38268343  0.92387953]\n",
      " [ 0.83146961 -0.19509032 -0.98078528 -0.55557023  0.55557023  0.98078528\n",
      "   0.19509032 -0.83146961]\n",
      " [ 0.70710678 -0.70710678 -0.70710678  0.70710678  0.70710678 -0.70710678\n",
      "  -0.70710678  0.70710678]\n",
      " [ 0.55557023 -0.98078528  0.19509032  0.83146961 -0.83146961 -0.19509032\n",
      "   0.98078528 -0.55557023]\n",
      " [ 0.38268343 -0.92387953  0.92387953 -0.38268343 -0.38268343  0.92387953\n",
      "  -0.92387953  0.38268343]\n",
      " [ 0.19509032 -0.55557023  0.83146961 -0.98078528  0.98078528 -0.83146961\n",
      "   0.55557023 -0.19509032]]\n",
      "[ 0.43590546 -0.03308095 -0.02931474 -0.03754339 -0.01782441 -0.01199148\n",
      " -0.00626287 -0.00307165] [ 1.20009613e+00 -3.69564240e-01 -2.07773481e-01 -4.54753960e-03\n",
      " -1.28180367e-02 -5.64949375e-04 -2.22740699e-03 -9.72466487e-05] [ 2.99903870e-01 -3.69564240e-01  2.07773481e-01 -4.54753960e-03\n",
      "  1.28180367e-02 -5.64949375e-04  2.22740699e-03 -9.72466487e-05] [ 0.06409454 -0.03308095  0.02931474 -0.03754339  0.01782441 -0.01199148\n",
      "  0.00626287 -0.00307165]\n"
     ]
    }
   ],
   "source": [
    "DM4COMAT1, DM4COMAT2, DM4COMAT3, DM4COMAT4 = dm4coef(N)\n",
    "print(\n",
    "    DM4COMAT1, DM4COMAT2, DM4COMAT3, DM4COMAT4\n",
    ")    "
   ]
  },
  {
   "cell_type": "code",
   "execution_count": null,
   "metadata": {},
   "outputs": [],
   "source": []
  }
 ],
 "metadata": {
  "kernelspec": {
   "display_name": "Python 3",
   "language": "python",
   "name": "python3"
  },
  "language_info": {
   "codemirror_mode": {
    "name": "ipython",
    "version": 3
   },
   "file_extension": ".py",
   "mimetype": "text/x-python",
   "name": "python",
   "nbconvert_exporter": "python",
   "pygments_lexer": "ipython3",
   "version": "3.6.8"
  }
 },
 "nbformat": 4,
 "nbformat_minor": 4
}
