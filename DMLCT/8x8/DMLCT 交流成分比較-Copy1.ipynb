{
 "cells": [
  {
   "cell_type": "code",
   "execution_count": 1,
   "metadata": {},
   "outputs": [],
   "source": [
    "import numpy as np\n",
    "import scipy.misc\n",
    "from scipy.fftpack import dct, idct\n",
    "import sys\n",
    "from PIL import Image\n",
    "import matplotlib\n",
    "import matplotlib.pyplot as plt\n",
    "import random\n",
    "from tqdm._tqdm_notebook import tqdm_notebook\n",
    "from scipy.fftpack import dct, idct\n",
    "import seaborn as sns\n",
    "from skimage.metrics import structural_similarity as ssim\n",
    "import pandas as pd\n",
    "import sympy\n",
    "\n",
    "%matplotlib inline\n",
    "\n",
    "\n",
    "class ImageLoader:\n",
    "    def __init__(self, FILE_PATH):\n",
    "        self.img = np.array(Image.open(FILE_PATH))\n",
    "        # 行数\n",
    "        self.row_blocks_count = self.img.shape[0] // 8\n",
    "        # 列数\n",
    "        self.col_blocks_count = self.img.shape[1] // 8\n",
    "\n",
    "    def get_points(self, POINT):\n",
    "        Row = random.randint(0, len(self.img) - POINT - 1)\n",
    "        Col = random.randint(0, len(self.img) - 1)\n",
    "        return self.img[Row : Row + POINT, Col]\n",
    "\n",
    "    def get_block(self, col, row):\n",
    "        return self.img[col * 8 : (col + 1) * 8, row * 8 : (row + 1) * 8]\n",
    "\n",
    "\n",
    "# plt.rcParams['font.family'] ='sans-serif'#使用するフォント\n",
    "# plt.rcParams[\"font.sans-serif\"] = \"Source Han Sans\"\n",
    "plt.rcParams[\"font.family\"] = \"Source Han Sans JP\"  # 使用するフォント\n",
    "plt.rcParams[\"xtick.direction\"] = \"in\"  # x軸の目盛線が内向き('in')か外向き('out')か双方向か('inout')\n",
    "plt.rcParams[\"ytick.direction\"] = \"in\"  # y軸の目盛線が内向き('in')か外向き('out')か双方向か('inout')\n",
    "plt.rcParams[\"xtick.major.width\"] = 1.0  # x軸主目盛り線の線幅\n",
    "plt.rcParams[\"ytick.major.width\"] = 1.0  # y軸主目盛り線の線幅\n",
    "plt.rcParams[\"font.size\"] = 12  # フォントの大きさ\n",
    "plt.rcParams[\"axes.linewidth\"] = 1.0  # 軸の線幅edge linewidth。囲みの太さ\n",
    "matplotlib.font_manager._rebuild()\n",
    "\n",
    "MONO_DIR_PATH = \"../../Mono/\"\n",
    "AIRPLANE = ImageLoader(MONO_DIR_PATH + \"airplane512.bmp\")\n",
    "BARBARA = ImageLoader(MONO_DIR_PATH + \"barbara512.bmp\")\n",
    "BOAT = ImageLoader(MONO_DIR_PATH + \"boat512.bmp\")\n",
    "GOLDHILL = ImageLoader(MONO_DIR_PATH + \"goldhill512.bmp\")\n",
    "LENNA = ImageLoader(MONO_DIR_PATH + \"lenna512.bmp\")\n",
    "MANDRILL = ImageLoader(MONO_DIR_PATH + \"mandrill512.bmp\")\n",
    "MILKDROP = ImageLoader(MONO_DIR_PATH + \"milkdrop512.bmp\")\n",
    "SAILBOAT = ImageLoader(MONO_DIR_PATH + \"sailboat512.bmp\")\n",
    "\n",
    "IMAGES = [\n",
    "    AIRPLANE,\n",
    "    BARBARA,\n",
    "    BOAT,\n",
    "    GOLDHILL,\n",
    "    LENNA,\n",
    "    MANDRILL,\n",
    "    MILKDROP,\n",
    "    SAILBOAT\n",
    "]"
   ]
  },
  {
   "cell_type": "code",
   "execution_count": 2,
   "metadata": {},
   "outputs": [],
   "source": [
    "class DMLCT:\n",
    "    def __init__(self, n_bar, N):\n",
    "        self.n_bar = n_bar\n",
    "        self.N = N\n",
    "\n",
    "        self.x_l = (2 * np.arange(N) + 1) / (2 * N)\n",
    "        self.s_l = np.arange(n_bar) / (n_bar - 1)\n",
    "        self.xi = (np.arange(n_bar + 1) - 0.5) / (n_bar - 1)\n",
    "\n",
    "        self.lambda_kh = self.get_lambda_kh(self.n_bar)\n",
    "\n",
    "        self.w_k_j = self.get_w_k_j(self.n_bar, self.N)\n",
    "        self.W_L_k_kh = self.get_W_L_k_kh(self.n_bar, self.N)\n",
    "        self.W_k_kh = self.get_W_k_kh(self.n_bar, self.N)\n",
    "        self.W_R_k_kh = self.get_W_R_k_kh(self.n_bar, self.N)\n",
    "\n",
    "    def Lagrange_j(self, j):\n",
    "        x = sympy.Symbol(\"x\")\n",
    "        L_x = 1.0\n",
    "        for l in range(self.n_bar):\n",
    "            if l != j:\n",
    "                L_x *= (x - self.s_l[l]) / (self.s_l[j] - self.s_l[l])\n",
    "        return sympy.integrate(L_x)\n",
    "\n",
    "    def get_lambda_kh(self, n_bar):\n",
    "        lambda_kh = np.ones(n_bar)\n",
    "        lambda_kh[0] = np.sqrt(1 / 2)\n",
    "        return lambda_kh\n",
    "\n",
    "    def get_w_k_j(self, n_bar, N):\n",
    "        L_j = np.zeros((n_bar, N))\n",
    "        x = sympy.Symbol(\"x\")\n",
    "        for j in range(n_bar):\n",
    "            temp = []\n",
    "            Lj = self.Lagrange_j(j)\n",
    "            for k in range(N):\n",
    "                temp.append(Lj.subs(x, self.x_l[k]))\n",
    "            L_j[j] = np.array(temp)\n",
    "\n",
    "        w_k_j = np.zeros((n_bar, N))\n",
    "        for j in range(n_bar):\n",
    "            w_k_j[j] = scipy.fftpack.dct(L_j[j], norm=\"ortho\")\n",
    "        return w_k_j\n",
    "\n",
    "    def get_W_L_k_kh(self, n_bar, N):\n",
    "        W_L_k_kh = np.zeros((n_bar - 1, N))\n",
    "        lambda_kh = self.get_lambda_kh(n_bar)\n",
    "\n",
    "        for kh in range(n_bar - 1):\n",
    "            W_L_k_kh[kh] = (\n",
    "                (1 - n_bar)\n",
    "                * np.sqrt(2 / N)\n",
    "                * lambda_kh[kh]\n",
    "                * np.cos(np.pi * kh * (self.xi[0] + 1))\n",
    "                * self.w_k_j[0]\n",
    "            )\n",
    "        return W_L_k_kh\n",
    "\n",
    "    def get_W_k_kh(self, n_bar, N):\n",
    "        W_k_kh = np.zeros((n_bar - 1, N))\n",
    "        for kh in range(n_bar - 1):\n",
    "            sum_sin = np.zeros(N)\n",
    "            for j in range(1, n_bar - 2 + 1):\n",
    "                sum_sin += np.sin(np.pi * kh * self.s_l[j]) * self.w_k_j[j]\n",
    "\n",
    "            W_k_kh[kh] = (\n",
    "                (n_bar - 1)\n",
    "                * np.sqrt(2 / N)\n",
    "                * self.lambda_kh[kh]\n",
    "                * (\n",
    "                    np.cos(np.pi * kh * self.xi[1])\n",
    "                    * (self.w_k_j[0] - (-1) ** (kh) * self.w_k_j[n_bar - 1])\n",
    "                    - 2 * np.sin((np.pi * kh) / (2 * (n_bar - 1))) * sum_sin\n",
    "                )\n",
    "            )\n",
    "        return W_k_kh\n",
    "\n",
    "    def get_W_R_k_kh(self, n_bar, N):\n",
    "        W_R_k_kh = np.zeros((n_bar - 1, N))\n",
    "        for kh in range(n_bar - 1):\n",
    "            W_R_k_kh[kh] = (\n",
    "                (n_bar - 1)\n",
    "                * np.sqrt(2 / N)\n",
    "                * self.lambda_kh[kh]\n",
    "                * np.cos(np.pi * kh * (self.xi[n_bar] - 1))\n",
    "                * self.w_k_j[n_bar - 1]\n",
    "            )\n",
    "        return W_R_k_kh"
   ]
  },
  {
   "cell_type": "code",
   "execution_count": 3,
   "metadata": {},
   "outputs": [],
   "source": [
    "def get_F_L_k_horizontal(arr, N, row, col):\n",
    "    # w\n",
    "    if col == 0:\n",
    "        w_block = np.zeros(N)\n",
    "    else:\n",
    "        w_block = arr[row, (col - 1) * N : col * N]\n",
    "\n",
    "    return w_block"
   ]
  },
  {
   "cell_type": "code",
   "execution_count": 4,
   "metadata": {},
   "outputs": [],
   "source": [
    "def get_F_R_k_horizontal(arr, N, row, col):\n",
    "    # e\n",
    "    if col == arr.shape[1] // N - 1:\n",
    "        e_block = np.zeros(N)\n",
    "    else:\n",
    "        e_block = arr[row, (col + 1) * N : (col + 2) * N]\n",
    "\n",
    "    return e_block"
   ]
  },
  {
   "cell_type": "code",
   "execution_count": 5,
   "metadata": {},
   "outputs": [],
   "source": [
    "def get_F_L_k_vertical(arr, N, row, col):\n",
    "    # n\n",
    "    if row == 0:\n",
    "        n_block = np.zeros(N)\n",
    "    else:\n",
    "        n_block = arr[(row - 1) * N : row * N, col]\n",
    "\n",
    "    return n_block"
   ]
  },
  {
   "cell_type": "code",
   "execution_count": 6,
   "metadata": {},
   "outputs": [],
   "source": [
    "def get_F_R_k_vertical(arr, N, row, col):\n",
    "    # s\n",
    "    if row == arr.shape[0] // N - 1:\n",
    "        s_block = np.zeros(N)\n",
    "    else:\n",
    "        s_block = arr[(row + 1) * N : (row + 2) * N, col]\n",
    "\n",
    "    return s_block"
   ]
  },
  {
   "cell_type": "code",
   "execution_count": 84,
   "metadata": {},
   "outputs": [],
   "source": [
    "n_bar = 2\n",
    "N = 8"
   ]
  },
  {
   "cell_type": "code",
   "execution_count": 85,
   "metadata": {},
   "outputs": [],
   "source": [
    "dmlct = DMLCT(n_bar, N)"
   ]
  },
  {
   "cell_type": "code",
   "execution_count": 86,
   "metadata": {},
   "outputs": [],
   "source": [
    "IMG = LENNA"
   ]
  },
  {
   "cell_type": "code",
   "execution_count": 87,
   "metadata": {},
   "outputs": [],
   "source": [
    "Fk = np.zeros(IMG.img.shape)"
   ]
  },
  {
   "cell_type": "markdown",
   "metadata": {},
   "source": [
    "# 順変換"
   ]
  },
  {
   "cell_type": "code",
   "execution_count": 88,
   "metadata": {},
   "outputs": [],
   "source": [
    "def DMLCT_forward(IMG,n_bar,N):\n",
    "    Fk = np.zeros(IMG.img.shape)\n",
    "    \n",
    "    ## 縦方向\n",
    "    ### DCT\n",
    "    for row in range(IMG.img.shape[0] // N):\n",
    "        for col in range(IMG.img.shape[1]):\n",
    "            eight_points = IMG.img[N * row : N * (row + 1), col]\n",
    "            c = scipy.fftpack.dct(eight_points, norm=\"ortho\")\n",
    "            Fk[N * row : N * (row + 1), col] = c\n",
    "    ### 残差\n",
    "    dmlct = DMLCT(n_bar,N)\n",
    "    for row in range(IMG.img.shape[0] // N):\n",
    "        for col in range(IMG.img.shape[1]):\n",
    "            # ビューなら直接いじっちゃう\n",
    "            F = Fk[N * row : N * (row + 1), col]\n",
    "            F_L = get_F_L_k_vertical(Fk, N, row, col)\n",
    "            F_R = get_F_R_k_vertical(Fk, N, row, col)\n",
    "\n",
    "            U_k_n_bar = np.zeros(N)\n",
    "            for kh in range(n_bar - 2 + 1):\n",
    "                U_k_n_bar += (\n",
    "                    F_L[kh] * dmlct.W_L_k_kh[kh]\n",
    "                    + F[kh] * dmlct.W_k_kh[kh]\n",
    "                    + F_R[kh] * dmlct.W_R_k_kh[kh]\n",
    "                )\n",
    "\n",
    "            # n_bar = 4 なら 0,1,2は残す 3,4,5,6,7を書き換える\n",
    "            F[n_bar - 2 + 1 :] -= U_k_n_bar[n_bar - 2 + 1 :]\n",
    "    # 0を残す\n",
    "    for k in reversed(range(1, n_bar - 2 + 1)):\n",
    "        dmlct = DMLCT(k+1, N)\n",
    "        for row in range(IMG.img.shape[0] // N):\n",
    "            for col in range(IMG.img.shape[1]):\n",
    "                # ビューなら直接いじっちゃう\n",
    "                F = Fk[N * row : N * (row + 1), col]\n",
    "                F_L = get_F_L_k_vertical(Fk, N, row, col)\n",
    "                F_R = get_F_R_k_vertical(Fk, N, row, col)\n",
    "\n",
    "                U_k_n_bar = np.zeros(N)\n",
    "\n",
    "                for kh in range((k + 1) - 2 + 1):\n",
    "                    U_k_n_bar += (\n",
    "                        F_L[kh] * dmlct.W_L_k_kh[kh]\n",
    "                        + F[kh] * dmlct.W_k_kh[kh]\n",
    "                        + F_R[kh] * dmlct.W_R_k_kh[kh]\n",
    "                    )\n",
    "\n",
    "                F[k] -= U_k_n_bar[k]\n",
    "    ## 横方向\n",
    "    ### DCT\n",
    "    for row in range(Fk.shape[0]):\n",
    "        for col in range(Fk.shape[1] // N):\n",
    "            eight_points = Fk[row, N * col : N * (col + 1)]\n",
    "            c = scipy.fftpack.dct(eight_points, norm=\"ortho\")\n",
    "            Fk[row, N * col : N * (col + 1)] = c\n",
    "            \n",
    "    ### 残差\n",
    "    dmlct = DMLCT(n_bar,N)\n",
    "    for row in range(IMG.img.shape[0]):\n",
    "        for col in range(IMG.img.shape[1] // N):\n",
    "            F = Fk[row, N * col : N * (col + 1)]\n",
    "            F_L = get_F_L_k_horizontal(Fk, N, row, col)\n",
    "            F_R = get_F_R_k_horizontal(Fk, N, row, col)\n",
    "\n",
    "            U_k_n_bar = np.zeros(N)\n",
    "            for kh in range(n_bar - 2 + 1):\n",
    "                U_k_n_bar += (\n",
    "                    F_L[kh] * dmlct.W_L_k_kh[kh]\n",
    "                    + F[kh] * dmlct.W_k_kh[kh]\n",
    "                    + F_R[kh] * dmlct.W_R_k_kh[kh]\n",
    "                )\n",
    "\n",
    "            # n_bar = 4 なら 0,1,2は残す 3,4,5,6,7を書き換える\n",
    "            F[n_bar - 2 + 1 :] -= U_k_n_bar[n_bar - 2 + 1 :]\n",
    "    # 0を残す\n",
    "    for k in reversed(range(1, n_bar - 2 + 1)):\n",
    "        dmlct = DMLCT(k+1, N)\n",
    "        for row in range(IMG.img.shape[0]):\n",
    "            for col in range(IMG.img.shape[1] // N):\n",
    "                F = Fk[row, N * col : N * (col + 1)]\n",
    "                F_L = get_F_L_k_horizontal(Fk, N, row, col)\n",
    "                F_R = get_F_R_k_horizontal(Fk, N, row, col)\n",
    "\n",
    "                U_k_n_bar = np.zeros(N)\n",
    "\n",
    "                for kh in range((k + 1) - 2 + 1):\n",
    "                    U_k_n_bar += (\n",
    "                        F_L[kh] * dmlct.W_L_k_kh[kh]\n",
    "                        + F[kh] * dmlct.W_k_kh[kh]\n",
    "                        + F_R[kh] * dmlct.W_R_k_kh[kh]\n",
    "                    )\n",
    "\n",
    "                F[k] -= U_k_n_bar[k]\n",
    "    \n",
    "    return Fk"
   ]
  },
  {
   "cell_type": "code",
   "execution_count": 89,
   "metadata": {},
   "outputs": [],
   "source": [
    "Fk_values = np.zeros((25,4))"
   ]
  },
  {
   "cell_type": "code",
   "execution_count": 90,
   "metadata": {},
   "outputs": [],
   "source": [
    "values = np.zeros((25,4))\n",
    "Fk = np.zeros(IMG.img.shape)\n",
    "for row in range(IMG.img.shape[0] // N):\n",
    "    for col in range(IMG.img.shape[1] // N):\n",
    "        block = IMG.img[row * N : (row + 1) * N, col * N : (col + 1) * N]\n",
    "        c = scipy.fftpack.dct(\n",
    "            scipy.fftpack.dct(block, axis=0, norm=\"ortho\"), axis=1, norm=\"ortho\"\n",
    "        )\n",
    "        Fk[row * N : (row + 1) * N, col * N : (col + 1) * N] = c\n",
    "\n",
    "for row in range(IMG.img.shape[0] // N):\n",
    "    for col in range(IMG.img.shape[1] // N):\n",
    "        if col == 0:\n",
    "            continue\n",
    "        if col == IMG.img.shape[1] // N -1:\n",
    "            continue\n",
    "        if row == 0:\n",
    "            continue\n",
    "        if row == IMG.img.shape[0] // N -1:\n",
    "            continue\n",
    "        block = Fk[row * N : (row + 1) * N, col * N : (col + 1) * N]\n",
    "        values[0,5-n_bar] += np.abs(block[0,1])\n",
    "        values[1,5-n_bar] += np.abs(block[1,0])\n",
    "        values[2,5-n_bar] += np.abs(block[1,1])\n",
    "        values[3,5-n_bar] += np.abs(block[0,2])\n",
    "        values[4,5-n_bar] += np.abs(block[2,0])\n",
    "        values[5,5-n_bar] += np.abs(block[1,2])\n",
    "        values[6,5-n_bar] += np.abs(block[2,1])\n",
    "        values[7,5-n_bar] += np.abs(block[2,2])\n",
    "        values[8,5-n_bar] += np.abs(block[0,3])\n",
    "        values[9,5-n_bar] += np.abs(block[3,0])\n",
    "        values[10,5-n_bar] += np.abs(block[1,3])\n",
    "        values[11,5-n_bar] += np.abs(block[3,1])\n",
    "        values[12,5-n_bar] += np.abs(block[2,3])\n",
    "        values[13,5-n_bar] += np.abs(block[3,2])\n",
    "        values[14,5-n_bar] += np.abs(block[3,3])\n",
    "        values[15,5-n_bar] += np.abs(block[0,4])\n",
    "        values[16,5-n_bar] += np.abs(block[4,0])\n",
    "        values[17,5-n_bar] += np.abs(block[1,4])\n",
    "        values[18,5-n_bar] += np.abs(block[4,1])\n",
    "        values[19,5-n_bar] += np.abs(block[2,4])\n",
    "        values[20,5-n_bar] += np.abs(block[4,2])\n",
    "        values[21,5-n_bar] += np.abs(block[3,4])\n",
    "        values[22,5-n_bar] += np.abs(block[4,3])\n",
    "        values[23,5-n_bar] += np.abs(block[4,4])\n",
    "        values[24,5-n_bar] = 0\n",
    "        for i in range(N):\n",
    "            for j in range(N):\n",
    "                if i > 4 or j > 4:\n",
    "                    values[24,5-n_bar] += block[i,j]\n",
    "                    \n",
    "Fk_values[:,5-n_bar] += values[:,5-n_bar]/ ((IMG.img.shape[0]//N)**2) "
   ]
  },
  {
   "cell_type": "code",
   "execution_count": 91,
   "metadata": {},
   "outputs": [],
   "source": [
    "# Fk_values /= len(IMAGES)"
   ]
  },
  {
   "cell_type": "code",
   "execution_count": 92,
   "metadata": {},
   "outputs": [],
   "source": [
    "Vk_values = np.zeros((25,4))"
   ]
  },
  {
   "cell_type": "code",
   "execution_count": 93,
   "metadata": {},
   "outputs": [],
   "source": [
    "values = np.zeros((25,4))\n",
    "Fk = DMLCT_forward(IMG,n_bar,N)\n",
    "for row in range(IMG.img.shape[0] // N):\n",
    "    for col in range(IMG.img.shape[1] // N):\n",
    "        block = Fk[row * N : (row + 1) * N, col * N : (col + 1) * N]\n",
    "        values[0,5-n_bar] += np.abs(block[0,1])\n",
    "        values[1,5-n_bar] += np.abs(block[1,0])\n",
    "        values[2,5-n_bar] += np.abs(block[1,1])\n",
    "        values[3,5-n_bar] += np.abs(block[0,2])\n",
    "        values[4,5-n_bar] += np.abs(block[2,0])\n",
    "        values[5,5-n_bar] += np.abs(block[1,2])\n",
    "        values[6,5-n_bar] += np.abs(block[2,1])\n",
    "        values[7,5-n_bar] += np.abs(block[2,2])\n",
    "        values[8,5-n_bar] += np.abs(block[0,3])\n",
    "        values[9,5-n_bar] += np.abs(block[3,0])\n",
    "        values[10,5-n_bar] += np.abs(block[1,3])\n",
    "        values[11,5-n_bar] += np.abs(block[3,1])\n",
    "        values[12,5-n_bar] += np.abs(block[2,3])\n",
    "        values[13,5-n_bar] += np.abs(block[3,2])\n",
    "        values[14,5-n_bar] += np.abs(block[3,3])\n",
    "        values[15,5-n_bar] += np.abs(block[0,4])\n",
    "        values[16,5-n_bar] += np.abs(block[4,0])\n",
    "        values[17,5-n_bar] += np.abs(block[1,4])\n",
    "        values[18,5-n_bar] += np.abs(block[4,1])\n",
    "        values[19,5-n_bar] += np.abs(block[2,4])\n",
    "        values[20,5-n_bar] += np.abs(block[4,2])\n",
    "        values[21,5-n_bar] += np.abs(block[3,4])\n",
    "        values[22,5-n_bar] += np.abs(block[4,3])\n",
    "        values[23,5-n_bar] += np.abs(block[4,4])\n",
    "        values[24,5-n_bar] = 0\n",
    "        for i in range(N):\n",
    "            for j in range(N):\n",
    "                if i > 4 or j > 4:\n",
    "                    values[24,5-n_bar] += block[i,j]\n",
    "\n",
    "Vk_values[:,5-n_bar] += values[:,5-n_bar] / ((IMG.img.shape[0]//N)**2)              "
   ]
  },
  {
   "cell_type": "code",
   "execution_count": 94,
   "metadata": {},
   "outputs": [],
   "source": [
    "# Vk_values /= len(IMAGES)"
   ]
  },
  {
   "cell_type": "code",
   "execution_count": 95,
   "metadata": {},
   "outputs": [],
   "source": [
    "G_values[:,5-n_bar] = 100 * (1 - Vk_values[:,5-n_bar]/Fk_values[:,5-n_bar])"
   ]
  },
  {
   "cell_type": "code",
   "execution_count": 96,
   "metadata": {},
   "outputs": [
    {
     "name": "stdout",
     "output_type": "stream",
     "text": [
      "              n=5        n=4        n=3         n=2\n",
      "(0,1)   18.056583  18.056583  18.056583   18.056583\n",
      "(1,0)   14.239904  14.239904  14.239904   14.239904\n",
      "(1,1)   10.685372  10.685372  10.685372   10.685372\n",
      "(0,2)   11.123094  11.123094  11.123094    5.413372\n",
      "(2,0)    0.978251   0.978251   0.978251    0.764902\n",
      "(1,2)   12.657094  12.657094  12.657094    7.253010\n",
      "(2,1)   12.628600  12.628600  12.628600    3.993591\n",
      "(2,2)   12.795872  12.795872  12.795872    4.695693\n",
      "(0,3)    4.456994   4.456994   4.157369    2.402851\n",
      "(3,0)   -6.496432  -6.496432  -3.252362   -1.546533\n",
      "(1,3)    7.548136   7.548136   4.572952    1.197429\n",
      "(3,1)    6.527561   6.527561   1.951049   -2.546664\n",
      "(2,3)    7.392737   7.392737   5.433172   -0.134822\n",
      "(3,2)    5.712842   5.712842   2.154595   -1.595256\n",
      "(3,3)    4.282382   4.282382   1.028602   -2.567206\n",
      "(0,4)   -0.351915  -0.193932   0.609574   -0.302506\n",
      "(4,0)  -10.761281  -8.049803  -5.633966   -3.142960\n",
      "(1,4)    4.225091   2.541579   2.422163   -0.061918\n",
      "(4,1)    3.883867   2.112053   1.883780   -1.747368\n",
      "(2,4)    3.545515   2.099202   2.603661   -0.171781\n",
      "(4,2)    1.518168  -0.062843   0.140697   -1.254502\n",
      "(3,4)    2.356977   1.237305  -0.075869   -2.409333\n",
      "(4,3)    0.116570  -1.236417  -0.985387   -2.401069\n",
      "(4,4)   -1.199685  -2.943413  -2.169913   -3.173719\n",
      "others -15.891797 -59.702385  84.492866  207.267711\n"
     ]
    }
   ],
   "source": [
    "columns = [\"n=5\",\"n=4\",\"n=3\",\"n=2\"]\n",
    "index = [\"(0,1)\",\"(1,0)\",\"(1,1)\",\n",
    "        \"(0,2)\",\"(2,0)\",\"(1,2)\",\"(2,1)\",\"(2,2)\",\n",
    "        \"(0,3)\",\"(3,0)\",\"(1,3)\",\"(3,1)\",\"(2,3)\",\"(3,2)\",\"(3,3)\",\n",
    "        \"(0,4)\",\"(4,0)\",\"(1,4)\",\"(4,1)\",\"(2,4)\",\"(4,2)\",\"(3,4)\",\"(4,3)\",\"(4,4)\",\n",
    "        \"others\"]\n",
    "df = pd.DataFrame(G_values,columns=columns,index=index)\n",
    "print(df)\n",
    "df.to_csv(\"DMLCT_high_freq_comp.csv\",header=False,index=False)"
   ]
  },
  {
   "cell_type": "code",
   "execution_count": 55,
   "metadata": {},
   "outputs": [],
   "source": [
    "G_values = np.zeros((25,4))"
   ]
  },
  {
   "cell_type": "markdown",
   "metadata": {},
   "source": [
    "# 係数の確保"
   ]
  },
  {
   "cell_type": "code",
   "execution_count": 18,
   "metadata": {},
   "outputs": [],
   "source": [
    "Fk_Ori = np.copy(Fk)"
   ]
  },
  {
   "cell_type": "markdown",
   "metadata": {},
   "source": [
    "# 逆変換"
   ]
  },
  {
   "cell_type": "code",
   "execution_count": 19,
   "metadata": {},
   "outputs": [],
   "source": [
    "recover = np.zeros(IMG.img.shape)"
   ]
  },
  {
   "cell_type": "markdown",
   "metadata": {},
   "source": [
    "## 横方向"
   ]
  },
  {
   "cell_type": "markdown",
   "metadata": {},
   "source": [
    "### 残差"
   ]
  },
  {
   "cell_type": "code",
   "execution_count": 20,
   "metadata": {},
   "outputs": [],
   "source": [
    "for k in range(1, n_bar - 2 + 1):\n",
    "    for row in range(IMG.img.shape[0]):\n",
    "        for col in range(IMG.img.shape[1] // N):\n",
    "            F = Fk[row, N * col : N * (col + 1)]\n",
    "            F_L = get_F_L_k_horizontal(Fk, N, row, col)\n",
    "            F_R = get_F_R_k_horizontal(Fk, N, row, col)\n",
    "\n",
    "            U_k_n_bar = np.zeros(N)\n",
    "            for kh in range((k + 1) - 2 + 1):\n",
    "                U_k_n_bar += (\n",
    "                    F_L[kh] * dmlct.W_L_k_kh[kh]\n",
    "                    + F[kh] * dmlct.W_k_kh[kh]\n",
    "                    + F_R[kh] * dmlct.W_R_k_kh[kh]\n",
    "                )\n",
    "\n",
    "            F[k] += U_k_n_bar[k]"
   ]
  },
  {
   "cell_type": "code",
   "execution_count": 21,
   "metadata": {},
   "outputs": [],
   "source": [
    "for row in range(IMG.img.shape[0]):\n",
    "    for col in range(IMG.img.shape[1] // N):\n",
    "        F = Fk[row, N * col : N * (col + 1)]\n",
    "        F_L = get_F_L_k_horizontal(Fk, N, row, col)\n",
    "        F_R = get_F_R_k_horizontal(Fk, N, row, col)\n",
    "\n",
    "        U_k_n_bar = np.zeros(N)\n",
    "        for kh in range(n_bar - 2 + 1):\n",
    "            U_k_n_bar += (\n",
    "                F_L[kh] * dmlct.W_L_k_kh[kh]\n",
    "                + F[kh] * dmlct.W_k_kh[kh]\n",
    "                + F_R[kh] * dmlct.W_R_k_kh[kh]\n",
    "            )\n",
    "\n",
    "        # n_bar = 4 なら 0,1,2は残す 3,4,5,6,7を書き換える\n",
    "        F[n_bar - 2 + 1 :] += U_k_n_bar[n_bar - 2 + 1 :]"
   ]
  },
  {
   "cell_type": "markdown",
   "metadata": {},
   "source": [
    "### IDCT"
   ]
  },
  {
   "cell_type": "code",
   "execution_count": 22,
   "metadata": {},
   "outputs": [],
   "source": [
    "for row in range(Fk.shape[0]):\n",
    "    for col in range(Fk.shape[1] // N):\n",
    "        F = Fk[row, N * col : N * col + N]\n",
    "        data = scipy.fftpack.idct(F, norm=\"ortho\")\n",
    "        # Fkに代入した後、縦方向に対して処理\n",
    "        Fk[row, N * col : N * col + N] = data"
   ]
  },
  {
   "cell_type": "markdown",
   "metadata": {},
   "source": [
    "## 縦方向"
   ]
  },
  {
   "cell_type": "markdown",
   "metadata": {},
   "source": [
    "### 残差"
   ]
  },
  {
   "cell_type": "code",
   "execution_count": 23,
   "metadata": {},
   "outputs": [],
   "source": [
    "for k in range(1, n_bar - 2 + 1):\n",
    "    for row in range(IMG.img.shape[0] // N):\n",
    "        for col in range(IMG.img.shape[1]):\n",
    "            # ビューなら直接いじっちゃう\n",
    "            F = Fk[N * row : N * (row + 1), col]\n",
    "            F_L = get_F_L_k_vertical(Fk, N, row, col)\n",
    "            F_R = get_F_R_k_vertical(Fk, N, row, col)\n",
    "\n",
    "            U_k_n_bar = np.zeros(N)\n",
    "\n",
    "            for kh in range((k + 1) - 2 + 1):\n",
    "                U_k_n_bar += (\n",
    "                    F_L[kh] * dmlct.W_L_k_kh[kh]\n",
    "                    + F[kh] * dmlct.W_k_kh[kh]\n",
    "                    + F_R[kh] * dmlct.W_R_k_kh[kh]\n",
    "                )\n",
    "\n",
    "            F[k] += U_k_n_bar[k]"
   ]
  },
  {
   "cell_type": "code",
   "execution_count": 24,
   "metadata": {},
   "outputs": [],
   "source": [
    "for row in range(IMG.img.shape[0] // N):\n",
    "    for col in range(IMG.img.shape[1]):\n",
    "        # ビューなら直接いじっちゃう\n",
    "        F = Fk[N * row : N * (row + 1), col]\n",
    "        F_L = get_F_L_k_vertical(Fk, N, row, col)\n",
    "        F_R = get_F_R_k_vertical(Fk, N, row, col)\n",
    "\n",
    "        U_k_n_bar = np.zeros(N)\n",
    "        for kh in range(n_bar - 2 + 1):\n",
    "            U_k_n_bar += (\n",
    "                F_L[kh] * dmlct.W_L_k_kh[kh]\n",
    "                + F[kh] * dmlct.W_k_kh[kh]\n",
    "                + F_R[kh] * dmlct.W_R_k_kh[kh]\n",
    "            )\n",
    "\n",
    "        # n_bar = 4 なら 0,1,2は残す 3,4,5,6,7を書き換える\n",
    "        F[n_bar - 2 + 1 :] += U_k_n_bar[n_bar - 2 + 1 :]"
   ]
  },
  {
   "cell_type": "markdown",
   "metadata": {},
   "source": [
    "### IDCT"
   ]
  },
  {
   "cell_type": "code",
   "execution_count": 25,
   "metadata": {},
   "outputs": [],
   "source": [
    "for row in range(Fk.shape[0] // N):\n",
    "    for col in range(Fk.shape[1]):\n",
    "        F = Fk[N * row : N * (row + 1), col]\n",
    "        data = scipy.fftpack.idct(F, norm=\"ortho\")\n",
    "        # 復元画像\n",
    "        recover[N * row : N * (row + 1), col] = data"
   ]
  },
  {
   "cell_type": "code",
   "execution_count": 29,
   "metadata": {},
   "outputs": [
    {
     "data": {
      "text/plain": [
       "<matplotlib.image.AxesImage at 0x7f9070ddd0f0>"
      ]
     },
     "execution_count": 29,
     "metadata": {},
     "output_type": "execute_result"
    },
    {
     "data": {
      "image/png": "[encoded data removed]",
      "text/plain": [
       "<Figure size 432x288 with 1 Axes>"
      ]
     },
     "metadata": {
      "needs_background": "light"
     },
     "output_type": "display_data"
    }
   ],
   "source": [
    "plt.imshow(recover.astype(\"u8\"), cmap=\"gray\")"
   ]
  },
  {
   "cell_type": "markdown",
   "metadata": {},
   "source": [
    "もどった...！"
   ]
  },
  {
   "cell_type": "markdown",
   "metadata": {},
   "source": []
  }
 ],
 "metadata": {
  "kernelspec": {
   "display_name": "Python 3",
   "language": "python",
   "name": "python3"
  },
  "language_info": {
   "codemirror_mode": {
    "name": "ipython",
    "version": 3
   },
   "file_extension": ".py",
   "mimetype": "text/x-python",
   "name": "python",
   "nbconvert_exporter": "python",
   "pygments_lexer": "ipython3",
   "version": "3.6.8"
  }
 },
 "nbformat": 4,
 "nbformat_minor": 4
}
