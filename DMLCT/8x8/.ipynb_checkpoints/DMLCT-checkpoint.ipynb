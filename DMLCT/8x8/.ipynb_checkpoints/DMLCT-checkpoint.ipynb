{
 "cells": [
  {
   "cell_type": "code",
   "execution_count": 1,
   "metadata": {},
   "outputs": [],
   "source": [
    "import numpy as np\n",
    "import scipy.misc\n",
    "from scipy.fftpack import dct, idct\n",
    "import sys\n",
    "from PIL import Image\n",
    "import matplotlib\n",
    "import matplotlib.pyplot as plt\n",
    "import random\n",
    "from tqdm._tqdm_notebook import tqdm_notebook\n",
    "from scipy.fftpack import dct, idct\n",
    "import seaborn as sns\n",
    "from skimage.metrics import structural_similarity as ssim\n",
    "import pandas as pd\n",
    "import sympy\n",
    "\n",
    "%matplotlib inline\n",
    "\n",
    "\n",
    "class ImageLoader:\n",
    "    def __init__(self, FILE_PATH):\n",
    "        self.img = np.array(Image.open(FILE_PATH))\n",
    "        # 行数\n",
    "        self.row_blocks_count = self.img.shape[0] // 8\n",
    "        # 列数\n",
    "        self.col_blocks_count = self.img.shape[1] // 8\n",
    "\n",
    "    def get_points(self, POINT):\n",
    "        Row = random.randint(0, len(self.img) - POINT - 1)\n",
    "        Col = random.randint(0, len(self.img) - 1)\n",
    "        return self.img[Row : Row + POINT, Col]\n",
    "\n",
    "    def get_block(self, col, row):\n",
    "        return self.img[col * 8 : (col + 1) * 8, row * 8 : (row + 1) * 8]\n",
    "\n",
    "\n",
    "# plt.rcParams['font.family'] ='sans-serif'#使用するフォント\n",
    "# plt.rcParams[\"font.sans-serif\"] = \"Source Han Sans\"\n",
    "plt.rcParams[\"font.family\"] = \"Source Han Sans JP\"  # 使用するフォント\n",
    "plt.rcParams[\"xtick.direction\"] = \"in\"  # x軸の目盛線が内向き('in')か外向き('out')か双方向か('inout')\n",
    "plt.rcParams[\"ytick.direction\"] = \"in\"  # y軸の目盛線が内向き('in')か外向き('out')か双方向か('inout')\n",
    "plt.rcParams[\"xtick.major.width\"] = 1.0  # x軸主目盛り線の線幅\n",
    "plt.rcParams[\"ytick.major.width\"] = 1.0  # y軸主目盛り線の線幅\n",
    "plt.rcParams[\"font.size\"] = 12  # フォントの大きさ\n",
    "plt.rcParams[\"axes.linewidth\"] = 1.0  # 軸の線幅edge linewidth。囲みの太さ\n",
    "matplotlib.font_manager._rebuild()\n",
    "\n",
    "MONO_DIR_PATH = \"../../Mono/\"\n",
    "AIRPLANE = ImageLoader(MONO_DIR_PATH + \"airplane512.bmp\")\n",
    "BARBARA = ImageLoader(MONO_DIR_PATH + \"barbara512.bmp\")\n",
    "BOAT = ImageLoader(MONO_DIR_PATH + \"boat512.bmp\")\n",
    "GOLDHILL = ImageLoader(MONO_DIR_PATH + \"goldhill512.bmp\")\n",
    "LENNA = ImageLoader(MONO_DIR_PATH + \"lenna512.bmp\")\n",
    "MANDRILL = ImageLoader(MONO_DIR_PATH + \"mandrill512.bmp\")\n",
    "MILKDROP = ImageLoader(MONO_DIR_PATH + \"milkdrop512.bmp\")\n",
    "SAILBOAT = ImageLoader(MONO_DIR_PATH + \"sailboat512.bmp\")"
   ]
  },
  {
   "cell_type": "code",
   "execution_count": 2,
   "metadata": {},
   "outputs": [],
   "source": [
    "n_bar = 4\n",
    "N = 8"
   ]
  },
  {
   "cell_type": "markdown",
   "metadata": {},
   "source": [
    "# MSDS"
   ]
  },
  {
   "cell_type": "code",
   "execution_count": 3,
   "metadata": {},
   "outputs": [],
   "source": [
    "def msds(N,arr):\n",
    "    w_e = 0\n",
    "    e_e = 0\n",
    "    n_e = 0\n",
    "    s_e = 0\n",
    "    nw_e = 0\n",
    "    ne_e = 0\n",
    "    sw_e = 0\n",
    "    se_e = 0\n",
    "    for row in range(arr.shape[0] // N):\n",
    "        for col in range(arr.shape[1] // N):\n",
    "            f_block = arr[row * N : (row + 1) * N, col * N : (col + 1) * N]\n",
    "            # w\n",
    "            if col == 0:\n",
    "                w_block = np.fliplr(f_block)\n",
    "            else:\n",
    "                w_block = arr[row * N : (row + 1) * N, (col - 1) * N : col * N]\n",
    "            # e\n",
    "            if col == arr.shape[1] // N - 1:\n",
    "                e_block = np.fliplr(f_block)\n",
    "            else:\n",
    "                e_block = arr[row * N : (row + 1) * N, (col + 1) * N : (col + 2) * N]\n",
    "            # n\n",
    "            if row == 0:\n",
    "                n_block = np.flipud(f_block)\n",
    "            else:\n",
    "                n_block = arr[(row - 1) * N : row * N, col * N : (col + 1) * N]\n",
    "            # s\n",
    "            if row == arr.shape[0] // N - 1:\n",
    "                s_block = np.flipud(f_block)\n",
    "            else:\n",
    "                s_block = arr[(row + 1) * N : (row + 2) * N, col * N : (col + 1) * N]\n",
    "\n",
    "            w_d1 = f_block[:, 0] - w_block[:, N-1]\n",
    "            e_d1 = f_block[:, N-1] - e_block[:, 0]\n",
    "            n_d1 = f_block[0, :] - n_block[N-1, :]\n",
    "            s_d1 = f_block[N-1, :] - s_block[0, :]\n",
    "\n",
    "            w_d2 = (w_block[:, N-1] - w_block[:, N-2] + f_block[:, 1] - f_block[:, 0]) / 2\n",
    "            e_d2 = (e_block[:, 1] - e_block[:, 0] + f_block[:, N-1] - f_block[:, N-2]) / 2\n",
    "            n_d2 = (n_block[N-1, :] - n_block[N-2, :] + f_block[1, :] - f_block[0, :]) / 2\n",
    "            s_d2 = (s_block[1, :] - s_block[0, :] + f_block[N-1, :] - f_block[N-2, :]) / 2\n",
    "\n",
    "            w_e += np.sum((w_d1 - w_d2) ** 2 )\n",
    "            e_e += np.sum((e_d1 - e_d2) ** 2 )\n",
    "            n_e += np.sum((n_d1 - n_d2) ** 2)\n",
    "            s_e += np.sum((s_d1 - s_d2) ** 2)\n",
    "\n",
    "            # nw\n",
    "            if row == 0 or col == 0:\n",
    "                nw_block = np.flipud(np.fliplr(f_block))\n",
    "            else:\n",
    "                nw_block = arr[(row - 1) * N : row * N, (col - 1) * N : col * N]\n",
    "            # ne\n",
    "            if row == 0 or col == arr.shape[1] // N - 1:\n",
    "                ne_block = np.flipud(np.fliplr(f_block))\n",
    "            else:\n",
    "                ne_block = arr[(row-1) * N : row * N, (col + 1) * N : (col + 2) * N]\n",
    "            # sw\n",
    "            if row == arr.shape[0] // N -1 or col == 0:\n",
    "                sw_block = np.flipud(np.fliplr(f_block))\n",
    "            else:\n",
    "                sw_block = arr[row * N : (row+1) * N, (col-1) * N : col * N]\n",
    "            # se\n",
    "            if  row == arr.shape[0]//N-1 or col == arr.shape[0] // N -1:\n",
    "                se_block = np.flipud(np.fliplr(f_block))\n",
    "            else:\n",
    "                se_block = arr[(row + 1) * N : (row + 2) * N, (col+1) * N : (col + 2) * N]\n",
    "\n",
    "            nw_g1 = f_block[0, 0] - nw_block[N-1, N-1]\n",
    "            ne_g1 = f_block[0, N-1] - ne_block[N-1, 0]\n",
    "            sw_g1 = f_block[N-1, 0] - sw_block[0, N-1]\n",
    "            se_g1 = f_block[N-1, N-1] - se_block[0, 0]\n",
    "\n",
    "            nw_g2 = (nw_block[N-1,N-1] - nw_block[N-2,N-2] + f_block[1,1] - f_block[0,0])/2\n",
    "            ne_g2 = (ne_block[N-1,0] - ne_block[N-2,1] + f_block[1,N-2] - f_block[0,N-1])/2\n",
    "            sw_g2 = (sw_block[0,N-1] - nw_block[1,N-2] + f_block[N-2,1] - f_block[N-1,0])/2\n",
    "            se_g2 = (nw_block[0,0] - nw_block[1,1] + f_block[N-2,N-2] - f_block[N-1,N-1])/2\n",
    "\n",
    "            nw_e += (nw_g1 - nw_g2) ** 2 \n",
    "            ne_e += (ne_g1 - ne_g2) ** 2 \n",
    "            sw_e += (sw_g1 - sw_g2) ** 2 \n",
    "            se_e += (se_g1 - se_g2) ** 2 \n",
    "\n",
    "    MSDSt = (w_e + e_e + n_e + s_e + nw_e + ne_e + sw_e + se_e)/ ((arr.shape[0]/N)**2)\n",
    "    MSDS1 = (w_e + e_e + n_e + s_e)/ ((arr.shape[0]/N)**2)\n",
    "    MSDS2 = (nw_e + ne_e + sw_e + se_e)/ ((arr.shape[0]/N)**2)\n",
    "    return MSDSt, MSDS1, MSDS2"
   ]
  },
  {
   "cell_type": "code",
   "execution_count": 4,
   "metadata": {},
   "outputs": [],
   "source": [
    "class DMLCT:\n",
    "    def __init__(self, n_bar, N):\n",
    "        self.n_bar = n_bar\n",
    "        self.N = N\n",
    "\n",
    "        self.x_l = (2 * np.arange(N) + 1) / (2 * N)\n",
    "        self.s_l = np.arange(n_bar) / (n_bar - 1)\n",
    "        self.xi = (np.arange(n_bar + 1) - 0.5) / (n_bar - 1)\n",
    "\n",
    "        self.lambda_kh = self.get_lambda_kh(self.n_bar)\n",
    "\n",
    "        self.w_k_j = self.get_w_k_j(self.n_bar, self.N)\n",
    "        self.W_L_k_kh = self.get_W_L_k_kh(self.n_bar, self.N)\n",
    "        self.W_k_kh = self.get_W_k_kh(self.n_bar, self.N)\n",
    "        self.W_R_k_kh = self.get_W_R_k_kh(self.n_bar, self.N)\n",
    "\n",
    "    def Lagrange_j(self, j):\n",
    "        x = sympy.Symbol(\"x\")\n",
    "        L_x = 1.0\n",
    "        for l in range(self.n_bar):\n",
    "            if l != j:\n",
    "                L_x *= (x - self.s_l[l]) / (self.s_l[j] - self.s_l[l])\n",
    "        return sympy.integrate(L_x)\n",
    "\n",
    "    def get_lambda_kh(self, n_bar):\n",
    "        lambda_kh = np.ones(n_bar)\n",
    "        lambda_kh[0] = np.sqrt(1 / 2)\n",
    "        return lambda_kh\n",
    "\n",
    "    def get_w_k_j(self, n_bar, N):\n",
    "        L_j = np.zeros((n_bar, N))\n",
    "        x = sympy.Symbol(\"x\")\n",
    "        for j in range(n_bar):\n",
    "            temp = []\n",
    "            Lj = self.Lagrange_j(j)\n",
    "            for k in range(N):\n",
    "                temp.append(Lj.subs(x, self.x_l[k]))\n",
    "            L_j[j] = np.array(temp)\n",
    "\n",
    "        w_k_j = np.zeros((n_bar, N))\n",
    "        for j in range(n_bar):\n",
    "            w_k_j[j] = scipy.fftpack.dct(L_j[j], norm=\"ortho\")\n",
    "        return w_k_j\n",
    "\n",
    "    def get_W_L_k_kh(self, n_bar, N):\n",
    "        W_L_k_kh = np.zeros((n_bar - 1, N))\n",
    "        lambda_kh = self.get_lambda_kh(n_bar)\n",
    "\n",
    "        for kh in range(n_bar - 1):\n",
    "            W_L_k_kh[kh] = (\n",
    "                (1 - n_bar)\n",
    "                * np.sqrt(2 / N)\n",
    "                * lambda_kh[kh]\n",
    "                * np.cos(np.pi * kh * (self.xi[0] + 1))\n",
    "                * self.w_k_j[0]\n",
    "            )\n",
    "        return W_L_k_kh\n",
    "\n",
    "    def get_W_k_kh(self, n_bar, N):\n",
    "        W_k_kh = np.zeros((n_bar - 1, N))\n",
    "        for kh in range(n_bar - 1):\n",
    "            sum_sin = np.zeros(N)\n",
    "            for j in range(1, n_bar - 2 + 1):\n",
    "                sum_sin += np.sin(np.pi * kh * self.s_l[j]) * self.w_k_j[j]\n",
    "\n",
    "            W_k_kh[kh] = (\n",
    "                (n_bar - 1)\n",
    "                * np.sqrt(2 / N)\n",
    "                * self.lambda_kh[kh]\n",
    "                * (\n",
    "                    np.cos(np.pi * kh * self.xi[1])\n",
    "                    * (self.w_k_j[0] - (-1) ** (kh) * self.w_k_j[n_bar - 1])\n",
    "                    - 2 * np.sin((np.pi * kh) / (2 * (n_bar - 1))) * sum_sin\n",
    "                )\n",
    "            )\n",
    "        return W_k_kh\n",
    "\n",
    "    def get_W_R_k_kh(self, n_bar, N):\n",
    "        W_R_k_kh = np.zeros((n_bar - 1, N))\n",
    "        for kh in range(n_bar - 1):\n",
    "            W_R_k_kh[kh] = (\n",
    "                (n_bar - 1)\n",
    "                * np.sqrt(2 / N)\n",
    "                * self.lambda_kh[kh]\n",
    "                * np.cos(np.pi * kh * (self.xi[n_bar] - 1))\n",
    "                * self.w_k_j[n_bar - 1]\n",
    "            )\n",
    "        return W_R_k_kh"
   ]
  },
  {
   "cell_type": "code",
   "execution_count": 5,
   "metadata": {},
   "outputs": [],
   "source": [
    "def get_F_L_k_horizontal(arr, N, row, col):\n",
    "    # w\n",
    "    if col == 0:\n",
    "#         w_block = np.zeros(N)\n",
    "        w_block = arr[row, col * N : (col + 1) * N]\n",
    "    else:\n",
    "        w_block = arr[row, (col - 1) * N : col * N]\n",
    "\n",
    "    return w_block"
   ]
  },
  {
   "cell_type": "code",
   "execution_count": 6,
   "metadata": {},
   "outputs": [],
   "source": [
    "def get_F_R_k_horizontal(arr, N, row, col):\n",
    "    # e\n",
    "    if col == arr.shape[1] // N - 1:\n",
    "#         e_block = np.zeros(N)\n",
    "        e_block = arr[row, col * N : (col + 1) * N]\n",
    "    else:\n",
    "        e_block = arr[row, (col + 1) * N : (col + 2) * N]\n",
    "\n",
    "    return e_block"
   ]
  },
  {
   "cell_type": "code",
   "execution_count": 7,
   "metadata": {},
   "outputs": [],
   "source": [
    "def get_F_L_k_vertical(arr, N, row, col):\n",
    "    # n\n",
    "    if row == 0:\n",
    "#         n_block = np.zeros(N)\n",
    "        n_block = arr[row * N : (row + 1) * N, col]\n",
    "    else:\n",
    "        n_block = arr[(row - 1) * N : row * N, col]\n",
    "\n",
    "    return n_block"
   ]
  },
  {
   "cell_type": "code",
   "execution_count": 8,
   "metadata": {},
   "outputs": [],
   "source": [
    "def get_F_R_k_vertical(arr, N, row, col):\n",
    "    # s\n",
    "    if row == arr.shape[0] // N - 1:\n",
    "#         s_block = np.zeros(N)\n",
    "        s_block = arr[row * N : (row + 1) * N, col]\n",
    "    else:\n",
    "        s_block = arr[(row + 1) * N : (row + 2) * N, col]\n",
    "\n",
    "    return s_block"
   ]
  },
  {
   "cell_type": "code",
   "execution_count": 9,
   "metadata": {},
   "outputs": [],
   "source": [
    "# dmlct = DMLCT(n_bar, N)"
   ]
  },
  {
   "cell_type": "code",
   "execution_count": 10,
   "metadata": {},
   "outputs": [],
   "source": [
    "IMG = AIRPLANE\n",
    "# IMG = ImageLoader(MONO_DIR_PATH + \"LENNA.bmp\")"
   ]
  },
  {
   "cell_type": "code",
   "execution_count": 11,
   "metadata": {},
   "outputs": [],
   "source": [
    "Fk = np.zeros(IMG.img.shape)"
   ]
  },
  {
   "cell_type": "markdown",
   "metadata": {},
   "source": [
    "# 順変換"
   ]
  },
  {
   "cell_type": "markdown",
   "metadata": {},
   "source": [
    "## 縦方向"
   ]
  },
  {
   "cell_type": "markdown",
   "metadata": {},
   "source": [
    "### DCT"
   ]
  },
  {
   "cell_type": "code",
   "execution_count": 12,
   "metadata": {},
   "outputs": [],
   "source": [
    "for row in range(IMG.img.shape[0] // N):\n",
    "    for col in range(IMG.img.shape[1]):\n",
    "        eight_points = IMG.img[N * row : N * (row + 1), col]\n",
    "        c = scipy.fftpack.dct(eight_points, norm=\"ortho\")\n",
    "        Fk[N * row : N * (row + 1), col] = c"
   ]
  },
  {
   "cell_type": "markdown",
   "metadata": {},
   "source": [
    "### 残差"
   ]
  },
  {
   "cell_type": "code",
   "execution_count": 13,
   "metadata": {},
   "outputs": [],
   "source": [
    "dmlct = DMLCT(n_bar, N)\n",
    "for row in range(IMG.img.shape[0] // N):\n",
    "    for col in range(IMG.img.shape[1]):\n",
    "        # ビューなら直接いじっちゃう\n",
    "        F = Fk[N * row : N * (row + 1), col]\n",
    "        F_L = get_F_L_k_vertical(Fk, N, row, col)\n",
    "        F_R = get_F_R_k_vertical(Fk, N, row, col)\n",
    "\n",
    "        U_k_n_bar = np.zeros(N)\n",
    "        for kh in range(n_bar - 2 + 1):\n",
    "            U_k_n_bar += (\n",
    "                F_L[kh] * dmlct.W_L_k_kh[kh]\n",
    "                + F[kh] * dmlct.W_k_kh[kh]\n",
    "                + F_R[kh] * dmlct.W_R_k_kh[kh]\n",
    "            )\n",
    "\n",
    "        # n_bar = 4 なら 0,1,2は残す 3,4,5,6,7を書き換える\n",
    "        F[n_bar - 2 + 1 :] -= U_k_n_bar[n_bar - 2 + 1 :]"
   ]
  },
  {
   "cell_type": "code",
   "execution_count": 14,
   "metadata": {},
   "outputs": [],
   "source": [
    "# 0を残す\n",
    "for k in reversed(range(1, n_bar - 2 + 1)):\n",
    "    dmlct = DMLCT(k+1, N)\n",
    "    for row in range(IMG.img.shape[0] // N):\n",
    "        for col in range(IMG.img.shape[1]):\n",
    "            # ビューなら直接いじっちゃう\n",
    "            F = Fk[N * row : N * (row + 1), col]\n",
    "            F_L = get_F_L_k_vertical(Fk, N, row, col)\n",
    "            F_R = get_F_R_k_vertical(Fk, N, row, col)\n",
    "\n",
    "            U_k_n_bar = np.zeros(N)\n",
    "\n",
    "            for kh in range((k + 1) - 2 + 1):\n",
    "                U_k_n_bar += (\n",
    "                    F_L[kh] * dmlct.W_L_k_kh[kh]\n",
    "                    + F[kh] * dmlct.W_k_kh[kh]\n",
    "                    + F_R[kh] * dmlct.W_R_k_kh[kh]\n",
    "                )\n",
    "\n",
    "            F[k] -= U_k_n_bar[k]"
   ]
  },
  {
   "cell_type": "markdown",
   "metadata": {},
   "source": [
    "## 横方向"
   ]
  },
  {
   "cell_type": "markdown",
   "metadata": {},
   "source": [
    "### DCT"
   ]
  },
  {
   "cell_type": "code",
   "execution_count": 15,
   "metadata": {},
   "outputs": [],
   "source": [
    "for row in range(Fk.shape[0]):\n",
    "    for col in range(Fk.shape[1] // N):\n",
    "        eight_points = Fk[row, N * col : N * (col + 1)]\n",
    "        c = scipy.fftpack.dct(eight_points, norm=\"ortho\")\n",
    "        Fk[row, N * col : N * (col + 1)] = c"
   ]
  },
  {
   "cell_type": "markdown",
   "metadata": {},
   "source": [
    "### 残差"
   ]
  },
  {
   "cell_type": "code",
   "execution_count": 16,
   "metadata": {},
   "outputs": [],
   "source": [
    "dmlct = DMLCT(n_bar, N)\n",
    "for row in range(IMG.img.shape[0]):\n",
    "    for col in range(IMG.img.shape[1] // N):\n",
    "        F = Fk[row, N * col : N * (col + 1)]\n",
    "        F_L = get_F_L_k_horizontal(Fk, N, row, col)\n",
    "        F_R = get_F_R_k_horizontal(Fk, N, row, col)\n",
    "\n",
    "        U_k_n_bar = np.zeros(N)\n",
    "        for kh in range(n_bar - 2 + 1):\n",
    "            U_k_n_bar += (\n",
    "                F_L[kh] * dmlct.W_L_k_kh[kh]\n",
    "                + F[kh] * dmlct.W_k_kh[kh]\n",
    "                + F_R[kh] * dmlct.W_R_k_kh[kh]\n",
    "            )\n",
    "\n",
    "        # n_bar = 4 なら 0,1,2は残す 3,4,5,6,7を書き換える\n",
    "        F[n_bar - 2 + 1 :] -= U_k_n_bar[n_bar - 2 + 1 :]"
   ]
  },
  {
   "cell_type": "code",
   "execution_count": 17,
   "metadata": {},
   "outputs": [],
   "source": [
    "# 0を残す\n",
    "for k in reversed(range(1, n_bar - 2 + 1)):\n",
    "    dmlct = DMLCT(k+1, N)\n",
    "    for row in range(IMG.img.shape[0]):\n",
    "        for col in range(IMG.img.shape[1] // N):\n",
    "            F = Fk[row, N * col : N * (col + 1)]\n",
    "            F_L = get_F_L_k_horizontal(Fk, N, row, col)\n",
    "            F_R = get_F_R_k_horizontal(Fk, N, row, col)\n",
    "\n",
    "            U_k_n_bar = np.zeros(N)\n",
    "\n",
    "            for kh in range((k + 1) - 2 + 1):\n",
    "                U_k_n_bar += (\n",
    "                    F_L[kh] * dmlct.W_L_k_kh[kh]\n",
    "                    + F[kh] * dmlct.W_k_kh[kh]\n",
    "                    + F_R[kh] * dmlct.W_R_k_kh[kh]\n",
    "                )\n",
    "\n",
    "            F[k] -= U_k_n_bar[k]"
   ]
  },
  {
   "cell_type": "code",
   "execution_count": 18,
   "metadata": {},
   "outputs": [
    {
     "data": {
      "image/png": "[encoded data removed]",
      "text/plain": [
       "<Figure size 432x288 with 1 Axes>"
      ]
     },
     "metadata": {
      "needs_background": "light"
     },
     "output_type": "display_data"
    }
   ],
   "source": [
    "plt.imshow(Fk)\n",
    "pd.DataFrame(Fk).to_csv(\"DMLCT_lenna_hiroya_coef.csv\",header=False,index=False)"
   ]
  },
  {
   "cell_type": "markdown",
   "metadata": {},
   "source": [
    "# 係数の確保"
   ]
  },
  {
   "cell_type": "code",
   "execution_count": 19,
   "metadata": {},
   "outputs": [],
   "source": [
    "Fk_Ori = np.copy(Fk)"
   ]
  },
  {
   "cell_type": "markdown",
   "metadata": {},
   "source": [
    "# 逆変換"
   ]
  },
  {
   "cell_type": "code",
   "execution_count": 20,
   "metadata": {},
   "outputs": [],
   "source": [
    "recover = np.zeros(IMG.img.shape)"
   ]
  },
  {
   "cell_type": "markdown",
   "metadata": {},
   "source": [
    "## 横方向"
   ]
  },
  {
   "cell_type": "markdown",
   "metadata": {},
   "source": [
    "### 残差"
   ]
  },
  {
   "cell_type": "code",
   "execution_count": 21,
   "metadata": {},
   "outputs": [],
   "source": [
    "for k in range(1, n_bar - 2 + 1):\n",
    "    dmlct = DMLCT(k+1, N)\n",
    "    for row in range(IMG.img.shape[0]):\n",
    "        for col in range(IMG.img.shape[1] // N):\n",
    "            F = Fk[row, N * col : N * (col + 1)]\n",
    "            F_L = get_F_L_k_horizontal(Fk, N, row, col)\n",
    "            F_R = get_F_R_k_horizontal(Fk, N, row, col)\n",
    "\n",
    "            U_k_n_bar = np.zeros(N)\n",
    "            for kh in range((k + 1) - 2 + 1):\n",
    "                U_k_n_bar += (\n",
    "                    F_L[kh] * dmlct.W_L_k_kh[kh]\n",
    "                    + F[kh] * dmlct.W_k_kh[kh]\n",
    "                    + F_R[kh] * dmlct.W_R_k_kh[kh]\n",
    "                )\n",
    "\n",
    "            F[k] += U_k_n_bar[k]"
   ]
  },
  {
   "cell_type": "code",
   "execution_count": 22,
   "metadata": {},
   "outputs": [],
   "source": [
    "dmlct = DMLCT(n_bar, N)\n",
    "for row in range(IMG.img.shape[0]):\n",
    "    for col in range(IMG.img.shape[1] // N):\n",
    "        F = Fk[row, N * col : N * (col + 1)]\n",
    "        F_L = get_F_L_k_horizontal(Fk, N, row, col)\n",
    "        F_R = get_F_R_k_horizontal(Fk, N, row, col)\n",
    "\n",
    "        U_k_n_bar = np.zeros(N)\n",
    "        for kh in range(n_bar - 2 + 1):\n",
    "            U_k_n_bar += (\n",
    "                F_L[kh] * dmlct.W_L_k_kh[kh]\n",
    "                + F[kh] * dmlct.W_k_kh[kh]\n",
    "                + F_R[kh] * dmlct.W_R_k_kh[kh]\n",
    "            )\n",
    "\n",
    "        # n_bar = 4 なら 0,1,2は残す 3,4,5,6,7を書き換える\n",
    "        F[n_bar - 2 + 1 :] += U_k_n_bar[n_bar - 2 + 1 :]"
   ]
  },
  {
   "cell_type": "markdown",
   "metadata": {},
   "source": [
    "### IDCT"
   ]
  },
  {
   "cell_type": "code",
   "execution_count": 23,
   "metadata": {},
   "outputs": [],
   "source": [
    "for row in range(Fk.shape[0]):\n",
    "    for col in range(Fk.shape[1] // N):\n",
    "        F = Fk[row, N * col : N * col + N]\n",
    "        data = scipy.fftpack.idct(F, norm=\"ortho\")\n",
    "        # Fkに代入した後、縦方向に対して処理\n",
    "        Fk[row, N * col : N * col + N] = data"
   ]
  },
  {
   "cell_type": "markdown",
   "metadata": {},
   "source": [
    "## 縦方向"
   ]
  },
  {
   "cell_type": "markdown",
   "metadata": {},
   "source": [
    "### 残差"
   ]
  },
  {
   "cell_type": "code",
   "execution_count": 24,
   "metadata": {},
   "outputs": [],
   "source": [
    "for k in range(1, n_bar - 2 + 1):\n",
    "    dmlct = DMLCT(k+1, N)\n",
    "    for row in range(IMG.img.shape[0] // N):\n",
    "        for col in range(IMG.img.shape[1]):\n",
    "            # ビューなら直接いじっちゃう\n",
    "            F = Fk[N * row : N * (row + 1), col]\n",
    "            F_L = get_F_L_k_vertical(Fk, N, row, col)\n",
    "            F_R = get_F_R_k_vertical(Fk, N, row, col)\n",
    "\n",
    "            U_k_n_bar = np.zeros(N)\n",
    "\n",
    "            for kh in range((k + 1) - 2 + 1):\n",
    "                U_k_n_bar += (\n",
    "                    F_L[kh] * dmlct.W_L_k_kh[kh]\n",
    "                    + F[kh] * dmlct.W_k_kh[kh]\n",
    "                    + F_R[kh] * dmlct.W_R_k_kh[kh]\n",
    "                )\n",
    "\n",
    "            F[k] += U_k_n_bar[k]"
   ]
  },
  {
   "cell_type": "code",
   "execution_count": 25,
   "metadata": {},
   "outputs": [],
   "source": [
    "dmlct = DMLCT(n_bar, N)\n",
    "for row in range(IMG.img.shape[0] // N):\n",
    "    for col in range(IMG.img.shape[1]):\n",
    "        # ビューなら直接いじっちゃう\n",
    "        F = Fk[N * row : N * (row + 1), col]\n",
    "        F_L = get_F_L_k_vertical(Fk, N, row, col)\n",
    "        F_R = get_F_R_k_vertical(Fk, N, row, col)\n",
    "\n",
    "        U_k_n_bar = np.zeros(N)\n",
    "        for kh in range(n_bar - 2 + 1):\n",
    "            U_k_n_bar += (\n",
    "                F_L[kh] * dmlct.W_L_k_kh[kh]\n",
    "                + F[kh] * dmlct.W_k_kh[kh]\n",
    "                + F_R[kh] * dmlct.W_R_k_kh[kh]\n",
    "            )\n",
    "\n",
    "        # n_bar = 4 なら 0,1,2は残す 3,4,5,6,7を書き換える\n",
    "        F[n_bar - 2 + 1 :] += U_k_n_bar[n_bar - 2 + 1 :]"
   ]
  },
  {
   "cell_type": "markdown",
   "metadata": {},
   "source": [
    "### IDCT"
   ]
  },
  {
   "cell_type": "code",
   "execution_count": 26,
   "metadata": {},
   "outputs": [],
   "source": [
    "for row in range(Fk.shape[0] // N):\n",
    "    for col in range(Fk.shape[1]):\n",
    "        F = Fk[N * row : N * (row + 1), col]\n",
    "        data = scipy.fftpack.idct(F, norm=\"ortho\")\n",
    "        # 復元画像\n",
    "        recover[N * row : N * (row + 1), col] = data"
   ]
  },
  {
   "cell_type": "code",
   "execution_count": 27,
   "metadata": {},
   "outputs": [
    {
     "data": {
      "text/plain": [
       "<matplotlib.image.AxesImage at 0x7fa161dfe400>"
      ]
     },
     "execution_count": 27,
     "metadata": {},
     "output_type": "execute_result"
    },
    {
     "data": {
      "image/png": "[encoded data removed]",
      "text/plain": [
       "<Figure size 432x288 with 1 Axes>"
      ]
     },
     "metadata": {
      "needs_background": "light"
     },
     "output_type": "display_data"
    }
   ],
   "source": [
    "plt.imshow(recover.astype(\"u8\"), cmap=\"gray\")"
   ]
  },
  {
   "cell_type": "markdown",
   "metadata": {},
   "source": [
    "もどった...！"
   ]
  },
  {
   "cell_type": "markdown",
   "metadata": {},
   "source": [
    "# 量子化テーブル"
   ]
  },
  {
   "cell_type": "code",
   "execution_count": 28,
   "metadata": {},
   "outputs": [],
   "source": [
    "Q50_Luminance = np.array(\n",
    "    [\n",
    "        [16, 11, 10, 16, 24, 40, 51, 61],\n",
    "        [12, 12, 14, 19, 26, 58, 60, 55],\n",
    "        [14, 13, 16, 24, 40, 57, 69, 56],\n",
    "        [14, 17, 22, 29, 51, 87, 80, 62],\n",
    "        [18, 22, 37, 56, 68, 109, 103, 77],\n",
    "        [24, 35, 55, 64, 81, 104, 113, 92],\n",
    "        [49, 64, 78, 87, 103, 121, 120, 101],\n",
    "        [72, 92, 95, 98, 112, 100, 103, 99],\n",
    "    ]\n",
    ")"
   ]
  },
  {
   "cell_type": "code",
   "execution_count": 29,
   "metadata": {},
   "outputs": [],
   "source": [
    "for i in tqdm_notebook(np.arange(1,10000,1)):\n",
    "    Q = i / 100\n",
    "    Q_Luminance = np.copy(Q50_Luminance)\n",
    "    if Q < 50:\n",
    "        Q_Luminance = Q_Luminance * 50 / Q\n",
    "        Q_Luminance = np.where(Q_Luminance > 255, 255, Q_Luminance)\n",
    "    else:\n",
    "        Q_Luminance = (100 - Q) * Q50_Luminance / 50\n",
    "        Q_Luminance = np.where(Q_Luminance < 1, 1, Q_Luminance)"
   ]
  },
  {
   "cell_type": "markdown",
   "metadata": {},
   "source": [
    "# 量子化"
   ]
  },
  {
   "cell_type": "code",
   "execution_count": 30,
   "metadata": {},
   "outputs": [],
   "source": [
    "Fk = np.copy(Fk_Ori)\n",
    "Q_Fk = np.zeros(Fk.shape)\n",
    "for row in range(IMG.img.shape[0] // N):\n",
    "    for col in range(IMG.img.shape[1] // N):\n",
    "        block = Fk[row * N : (row + 1) * N, col * N : (col + 1) * N]\n",
    "        # 量子化\n",
    "        block = np.round(block / Q_Luminance)\n",
    "        # 逆量子化\n",
    "        block = block * Q_Luminance\n",
    "        Q_Fk[row * N : (row+1)*N, col * N : (col+1)*N] = block"
   ]
  },
  {
   "cell_type": "code",
   "execution_count": 31,
   "metadata": {},
   "outputs": [],
   "source": [
    "Fk = np.copy(Q_Fk)\n",
    "Q_recover = np.zeros(Q_Fk.shape)"
   ]
  },
  {
   "cell_type": "markdown",
   "metadata": {},
   "source": [
    "## 横方向"
   ]
  },
  {
   "cell_type": "markdown",
   "metadata": {},
   "source": [
    "### 残差"
   ]
  },
  {
   "cell_type": "code",
   "execution_count": 32,
   "metadata": {},
   "outputs": [],
   "source": [
    "for k in range(1, n_bar - 2 + 1):\n",
    "    dmlct = DMLCT(k+1, N)\n",
    "    for row in range(IMG.img.shape[0]):\n",
    "        for col in range(IMG.img.shape[1] // N):\n",
    "            F = Fk[row, N * col : N * (col + 1)]\n",
    "            F_L = get_F_L_k_horizontal(Fk, N, row, col)\n",
    "            F_R = get_F_R_k_horizontal(Fk, N, row, col)\n",
    "\n",
    "            U_k_n_bar = np.zeros(N)\n",
    "            for kh in range((k + 1) - 2 + 1):\n",
    "                U_k_n_bar += (\n",
    "                    F_L[kh] * dmlct.W_L_k_kh[kh]\n",
    "                    + F[kh] * dmlct.W_k_kh[kh]\n",
    "                    + F_R[kh] * dmlct.W_R_k_kh[kh]\n",
    "                )\n",
    "\n",
    "            F[k] += U_k_n_bar[k]"
   ]
  },
  {
   "cell_type": "code",
   "execution_count": 33,
   "metadata": {},
   "outputs": [],
   "source": [
    "dmlct = DMLCT(n_bar, N)\n",
    "for row in range(IMG.img.shape[0]):\n",
    "    for col in range(IMG.img.shape[1] // N):\n",
    "        F = Fk[row, N * col : N * (col + 1)]\n",
    "        F_L = get_F_L_k_horizontal(Fk, N, row, col)\n",
    "        F_R = get_F_R_k_horizontal(Fk, N, row, col)\n",
    "\n",
    "        U_k_n_bar = np.zeros(N)\n",
    "        for kh in range(n_bar - 2 + 1):\n",
    "            U_k_n_bar += (\n",
    "                F_L[kh] * dmlct.W_L_k_kh[kh]\n",
    "                + F[kh] * dmlct.W_k_kh[kh]\n",
    "                + F_R[kh] * dmlct.W_R_k_kh[kh]\n",
    "            )\n",
    "\n",
    "        # n_bar = 4 なら 0,1,2は残す 3,4,5,6,7を書き換える\n",
    "        F[n_bar - 2 + 1 :] += U_k_n_bar[n_bar - 2 + 1 :]"
   ]
  },
  {
   "cell_type": "markdown",
   "metadata": {},
   "source": [
    "### IDCT"
   ]
  },
  {
   "cell_type": "code",
   "execution_count": 34,
   "metadata": {},
   "outputs": [],
   "source": [
    "for row in range(Fk.shape[0]):\n",
    "    for col in range(Fk.shape[1] // N):\n",
    "        F = Fk[row, N * col : N * col + N]\n",
    "        data = scipy.fftpack.idct(F, norm=\"ortho\")\n",
    "        # Fkに代入した後、縦方向に対して処理\n",
    "        Fk[row, N * col : N * col + N] = data"
   ]
  },
  {
   "cell_type": "markdown",
   "metadata": {},
   "source": [
    "## 縦方向"
   ]
  },
  {
   "cell_type": "markdown",
   "metadata": {},
   "source": [
    "### 残差"
   ]
  },
  {
   "cell_type": "code",
   "execution_count": 35,
   "metadata": {},
   "outputs": [],
   "source": [
    "for k in range(1, n_bar - 2 + 1):\n",
    "    dmlct = DMLCT(k+1, N)\n",
    "    for row in range(IMG.img.shape[0] // N):\n",
    "        for col in range(IMG.img.shape[1]):\n",
    "            # ビューなら直接いじっちゃう\n",
    "            F = Fk[N * row : N * (row + 1), col]\n",
    "            F_L = get_F_L_k_vertical(Fk, N, row, col)\n",
    "            F_R = get_F_R_k_vertical(Fk, N, row, col)\n",
    "\n",
    "            U_k_n_bar = np.zeros(N)\n",
    "\n",
    "            for kh in range((k + 1) - 2 + 1):\n",
    "                U_k_n_bar += (\n",
    "                    F_L[kh] * dmlct.W_L_k_kh[kh]\n",
    "                    + F[kh] * dmlct.W_k_kh[kh]\n",
    "                    + F_R[kh] * dmlct.W_R_k_kh[kh]\n",
    "                )\n",
    "\n",
    "            F[k] += U_k_n_bar[k]"
   ]
  },
  {
   "cell_type": "code",
   "execution_count": 36,
   "metadata": {},
   "outputs": [],
   "source": [
    "dmlct = DMLCT(n_bar, N)\n",
    "for row in range(IMG.img.shape[0] // N):\n",
    "    for col in range(IMG.img.shape[1]):\n",
    "        # ビューなら直接いじっちゃう\n",
    "        F = Fk[N * row : N * (row + 1), col]\n",
    "        F_L = get_F_L_k_vertical(Fk, N, row, col)\n",
    "        F_R = get_F_R_k_vertical(Fk, N, row, col)\n",
    "\n",
    "        U_k_n_bar = np.zeros(N)\n",
    "        for kh in range(n_bar - 2 + 1):\n",
    "            U_k_n_bar += (\n",
    "                F_L[kh] * dmlct.W_L_k_kh[kh]\n",
    "                + F[kh] * dmlct.W_k_kh[kh]\n",
    "                + F_R[kh] * dmlct.W_R_k_kh[kh]\n",
    "            )\n",
    "\n",
    "        # n_bar = 4 なら 0,1,2は残す 3,4,5,6,7を書き換える\n",
    "        F[n_bar - 2 + 1 :] += U_k_n_bar[n_bar - 2 + 1 :]"
   ]
  },
  {
   "cell_type": "markdown",
   "metadata": {},
   "source": [
    "### IDCT"
   ]
  },
  {
   "cell_type": "code",
   "execution_count": 37,
   "metadata": {},
   "outputs": [],
   "source": [
    "for row in range(Fk.shape[0] // N):\n",
    "    for col in range(Fk.shape[1]):\n",
    "        F = Fk[N * row : N * (row + 1), col]\n",
    "        data = scipy.fftpack.idct(F, norm=\"ortho\")\n",
    "        # 復元画像\n",
    "        Q_recover[N * row : N * (row + 1), col] = data"
   ]
  },
  {
   "cell_type": "code",
   "execution_count": 38,
   "metadata": {},
   "outputs": [],
   "source": [
    "Q_recover = np.round(Q_recover)"
   ]
  },
  {
   "cell_type": "code",
   "execution_count": 39,
   "metadata": {},
   "outputs": [
    {
     "data": {
      "image/png": "[encoded data removed]",
      "text/plain": [
       "<Figure size 432x288 with 1 Axes>"
      ]
     },
     "metadata": {
      "needs_background": "light"
     },
     "output_type": "display_data"
    }
   ],
   "source": [
    "plt.imshow(Q_recover, cmap=\"gray\")\n",
    "plt.imsave(\"DMLCT_8x8_n\"+str(n_bar)+ \"_LENNA.png\",Q_recover,cmap=\"gray\")"
   ]
  },
  {
   "cell_type": "markdown",
   "metadata": {},
   "source": [
    "# 情報量"
   ]
  },
  {
   "cell_type": "code",
   "execution_count": 40,
   "metadata": {},
   "outputs": [
    {
     "data": {
      "text/plain": [
       " 0.0     0.961128\n",
       "-50.0    0.002392\n",
       " 50.0    0.002209\n",
       "-46.0    0.002056\n",
       " 46.0    0.001724\n",
       "dtype: float64"
      ]
     },
     "execution_count": 40,
     "metadata": {},
     "output_type": "execute_result"
    }
   ],
   "source": [
    "qfk = pd.Series(Q_Fk.flatten())\n",
    "pro = qfk.value_counts() / qfk.value_counts().sum()\n",
    "pro.head()"
   ]
  },
  {
   "cell_type": "code",
   "execution_count": 41,
   "metadata": {},
   "outputs": [
    {
     "data": {
      "text/plain": [
       "0.45178635772331066"
      ]
     },
     "execution_count": 41,
     "metadata": {},
     "output_type": "execute_result"
    }
   ],
   "source": [
    "S = 0\n",
    "for pi in pro:\n",
    "    S -= pi * np.log2(pi)\n",
    "S"
   ]
  },
  {
   "cell_type": "markdown",
   "metadata": {},
   "source": [
    "# PSNR"
   ]
  },
  {
   "cell_type": "code",
   "execution_count": 42,
   "metadata": {},
   "outputs": [
    {
     "data": {
      "text/plain": [
       "31.395338973745677"
      ]
     },
     "execution_count": 42,
     "metadata": {},
     "output_type": "execute_result"
    }
   ],
   "source": [
    "MSE = np.sum(np.sum(np.power((IMG.img - Q_recover),2)))/(Q_recover.shape[0] * Q_recover.shape[1])\n",
    "PSNR = 10 * np.log10(255 * 255 / MSE)\n",
    "PSNR"
   ]
  },
  {
   "cell_type": "markdown",
   "metadata": {},
   "source": [
    "# MSSIM"
   ]
  },
  {
   "cell_type": "code",
   "execution_count": 43,
   "metadata": {},
   "outputs": [
    {
     "data": {
      "text/plain": [
       "0.8489789251506287"
      ]
     },
     "execution_count": 43,
     "metadata": {},
     "output_type": "execute_result"
    }
   ],
   "source": [
    "MSSIM = ssim(IMG.img,Q_recover.astype(IMG.img.dtype),gaussian_weights=True,sigma=1.5,K1=0.01,K2=0.03)\n",
    "MSSIM"
   ]
  },
  {
   "cell_type": "code",
   "execution_count": 44,
   "metadata": {},
   "outputs": [],
   "source": [
    "dmlct = DMLCT(n_bar, N)"
   ]
  },
  {
   "cell_type": "markdown",
   "metadata": {},
   "source": [
    "# MSDS"
   ]
  },
  {
   "cell_type": "code",
   "execution_count": 45,
   "metadata": {},
   "outputs": [],
   "source": [
    "MSDSt, MSDS1, MSDS2 = msds(N,Q_recover)"
   ]
  },
  {
   "cell_type": "code",
   "execution_count": 46,
   "metadata": {},
   "outputs": [
    {
     "data": {
      "text/plain": [
       "5847.0750732421875"
      ]
     },
     "execution_count": 46,
     "metadata": {},
     "output_type": "execute_result"
    }
   ],
   "source": [
    "MSDS1"
   ]
  },
  {
   "cell_type": "code",
   "execution_count": 47,
   "metadata": {},
   "outputs": [
    {
     "data": {
      "text/plain": [
       "2063.2566528320312"
      ]
     },
     "execution_count": 47,
     "metadata": {},
     "output_type": "execute_result"
    }
   ],
   "source": [
    "MSDS2"
   ]
  },
  {
   "cell_type": "code",
   "execution_count": null,
   "metadata": {},
   "outputs": [],
   "source": []
  }
 ],
 "metadata": {
  "kernelspec": {
   "display_name": "Python 3",
   "language": "python",
   "name": "python3"
  },
  "language_info": {
   "codemirror_mode": {
    "name": "ipython",
    "version": 3
   },
   "file_extension": ".py",
   "mimetype": "text/x-python",
   "name": "python",
   "nbconvert_exporter": "python",
   "pygments_lexer": "ipython3",
   "version": "3.6.7"
  }
 },
 "nbformat": 4,
 "nbformat_minor": 4
}
