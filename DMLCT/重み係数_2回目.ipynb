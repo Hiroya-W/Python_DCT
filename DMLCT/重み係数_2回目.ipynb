{
 "cells": [
  {
   "cell_type": "code",
   "execution_count": 1,
   "metadata": {},
   "outputs": [],
   "source": [
    "import sympy\n",
    "import numpy as np\n",
    "import scipy.fftpack\n",
    "import matplotlib\n",
    "import matplotlib.pyplot as plt\n",
    "\n",
    "%matplotlib inline\n",
    "\n",
    "plt.rcParams[\"font.family\"] = \"Source Han Sans JP\"  # 使用するフォント\n",
    "plt.rcParams[\"xtick.direction\"] = \"in\"  # x軸の目盛線が内向き('in')か外向き('out')か双方向か('inout')\n",
    "plt.rcParams[\"ytick.direction\"] = \"in\"  # y軸の目盛線が内向き('in')か外向き('out')か双方向か('inout')\n",
    "plt.rcParams[\"xtick.major.width\"] = 1.0  # x軸主目盛り線の線幅\n",
    "plt.rcParams[\"ytick.major.width\"] = 1.0  # y軸主目盛り線の線幅\n",
    "plt.rcParams[\"font.size\"] = 12  # フォントの大きさ\n",
    "plt.rcParams[\"axes.linewidth\"] = 1.0  # 軸の線幅edge linewidth。囲みの太さ\n",
    "matplotlib.font_manager._rebuild()\n",
    "n_bar = 4\n",
    "N = 8"
   ]
  },
  {
   "cell_type": "markdown",
   "metadata": {},
   "source": [
    "$W^L_{k,\\hat{0}} = $ W_L_k_kh[0,:] = W_L_k_kh[0]"
   ]
  },
  {
   "cell_type": "code",
   "execution_count": 2,
   "metadata": {},
   "outputs": [],
   "source": [
    "W_L_k_kh = np.zeros((n_bar - 1, N))"
   ]
  },
  {
   "cell_type": "code",
   "execution_count": 3,
   "metadata": {},
   "outputs": [],
   "source": [
    "x_l = (2 * np.arange(N) + 1) / (2 * N)"
   ]
  },
  {
   "cell_type": "code",
   "execution_count": 4,
   "metadata": {},
   "outputs": [],
   "source": [
    "s_l = np.arange(n_bar) / (n_bar - 1)"
   ]
  },
  {
   "cell_type": "code",
   "execution_count": 5,
   "metadata": {},
   "outputs": [],
   "source": [
    "xi = (np.arange(n_bar + 1) - 0.5) / (n_bar - 1)"
   ]
  },
  {
   "cell_type": "code",
   "execution_count": 6,
   "metadata": {},
   "outputs": [],
   "source": [
    "def Lagrange_j(j):\n",
    "    x = sympy.Symbol(\"x\")\n",
    "    L_x = 1.0\n",
    "    for l in range(n_bar):\n",
    "        if l != j:\n",
    "            L_x *= (x - s_l[l]) / (s_l[j] - s_l[l])\n",
    "    return sympy.integrate(L_x)"
   ]
  },
  {
   "cell_type": "code",
   "execution_count": 7,
   "metadata": {},
   "outputs": [],
   "source": [
    "L_j = np.zeros((n_bar, N))\n",
    "x = sympy.Symbol(\"x\")\n",
    "for j in range(n_bar):\n",
    "    temp = []\n",
    "    Lj = Lagrange_j(j)\n",
    "    for k in range(N):\n",
    "        temp.append(Lj.subs(x, x_l[k]))\n",
    "    L_j[j] = np.array(temp)"
   ]
  },
  {
   "cell_type": "code",
   "execution_count": 8,
   "metadata": {},
   "outputs": [],
   "source": [
    "w_k_j = np.zeros((n_bar, N))\n",
    "for j in range(n_bar):\n",
    "    w_k_j[j] = scipy.fftpack.dct(L_j[j], norm=\"ortho\")"
   ]
  },
  {
   "cell_type": "code",
   "execution_count": 9,
   "metadata": {},
   "outputs": [],
   "source": [
    "lambda_kh = np.ones(n_bar)\n",
    "lambda_kh[0] = np.sqrt(1 / 2)"
   ]
  },
  {
   "cell_type": "code",
   "execution_count": 10,
   "metadata": {},
   "outputs": [],
   "source": [
    "for kh in range(n_bar - 1):\n",
    "    W_L_k_kh[kh] = (\n",
    "        (1 - n_bar)\n",
    "        * np.sqrt(2 / N)\n",
    "        * lambda_kh[kh]\n",
    "        * np.cos(np.pi * kh * (xi[0] + 1))\n",
    "        * w_k_j[0]\n",
    "    )"
   ]
  },
  {
   "cell_type": "code",
   "execution_count": 11,
   "metadata": {},
   "outputs": [
    {
     "data": {
      "text/plain": [
       "array([[-0.32692909,  0.03508765,  0.03109297,  0.03982077,  0.01890564,\n",
       "         0.01271889,  0.00664277,  0.00325798],\n",
       "       [ 0.40040473, -0.04297341, -0.03808096, -0.04877029, -0.02315459,\n",
       "        -0.01557739, -0.0081357 , -0.00399019],\n",
       "       [-0.23117378,  0.02481071,  0.02198605,  0.02815754,  0.01336831,\n",
       "         0.00899361,  0.00469715,  0.00230374]])"
      ]
     },
     "execution_count": 11,
     "metadata": {},
     "output_type": "execute_result"
    }
   ],
   "source": [
    "W_L_k_kh"
   ]
  },
  {
   "cell_type": "code",
   "execution_count": 12,
   "metadata": {},
   "outputs": [],
   "source": [
    "W_k_kh = np.zeros((n_bar - 1, N))"
   ]
  },
  {
   "cell_type": "code",
   "execution_count": 13,
   "metadata": {},
   "outputs": [],
   "source": [
    "for kh in range(n_bar - 1):\n",
    "    sum_sin = np.zeros(N)\n",
    "    for j in range(1, n_bar - 2 + 1):\n",
    "        sum_sin += np.sin(np.pi * kh * s_l[j]) * w_k_j[j]\n",
    "\n",
    "    W_k_kh[kh] = (\n",
    "        (n_bar - 1)\n",
    "        * np.sqrt(2 / N)\n",
    "        * lambda_kh[kh]\n",
    "        * (\n",
    "            np.cos(np.pi * kh * xi[1]) * (w_k_j[0] - (-1) ** (kh) * w_k_j[n_bar - 1])\n",
    "            - 2 * np.sin((np.pi * kh) / (2 * (n_bar - 1))) * sum_sin\n",
    "        )\n",
    "    )"
   ]
  },
  {
   "cell_type": "code",
   "execution_count": 14,
   "metadata": {},
   "outputs": [
    {
     "data": {
      "text/plain": [
       "array([[ 2.78858185e-01,  7.35980840e-17, -6.21859465e-02,\n",
       "        -4.41588504e-17, -3.78112793e-02, -4.78387546e-17,\n",
       "        -1.32855480e-02, -7.35980840e-18],\n",
       "       [-9.18558654e-01,  8.74209233e-01, -5.27712893e-16,\n",
       "        -8.57257222e-02,  3.29307249e-16, -2.96870029e-02,\n",
       "         3.76073048e-16, -7.72772275e-03],\n",
       "       [-1.23501460e+00,  4.84708309e-16,  8.91008562e-01,\n",
       "        -3.73752751e-16,  3.09445534e-02, -1.09014206e-15,\n",
       "         6.29030348e-04, -6.29591939e-16]])"
      ]
     },
     "execution_count": 14,
     "metadata": {},
     "output_type": "execute_result"
    }
   ],
   "source": [
    "W_k_kh"
   ]
  },
  {
   "cell_type": "code",
   "execution_count": 15,
   "metadata": {},
   "outputs": [],
   "source": [
    "W_R_k_kh = np.zeros((n_bar - 1, N))"
   ]
  },
  {
   "cell_type": "code",
   "execution_count": 16,
   "metadata": {},
   "outputs": [],
   "source": [
    "for kh in range(n_bar - 1):\n",
    "    W_R_k_kh[kh] = (\n",
    "        (n_bar - 1)\n",
    "        * np.sqrt(2 / N)\n",
    "        * lambda_kh[kh]\n",
    "        * np.cos(np.pi * kh * (xi[n_bar] - 1))\n",
    "        * w_k_j[n_bar - 1]\n",
    "    )"
   ]
  },
  {
   "cell_type": "code",
   "execution_count": 17,
   "metadata": {},
   "outputs": [
    {
     "data": {
      "text/plain": [
       "array([[ 0.04807091, -0.03508765,  0.03109297, -0.03982077,  0.01890564,\n",
       "        -0.01271889,  0.00664277, -0.00325798],\n",
       "       [ 0.0588746 , -0.04297341,  0.03808096, -0.04877029,  0.02315459,\n",
       "        -0.01557739,  0.0081357 , -0.00399019],\n",
       "       [ 0.03399126, -0.02481071,  0.02198605, -0.02815754,  0.01336831,\n",
       "        -0.00899361,  0.00469715, -0.00230374]])"
      ]
     },
     "execution_count": 17,
     "metadata": {},
     "output_type": "execute_result"
    }
   ],
   "source": [
    "W_R_k_kh"
   ]
  },
  {
   "cell_type": "code",
   "execution_count": null,
   "metadata": {},
   "outputs": [],
   "source": []
  }
 ],
 "metadata": {
  "kernelspec": {
   "display_name": "Python 3",
   "language": "python",
   "name": "python3"
  },
  "language_info": {
   "codemirror_mode": {
    "name": "ipython",
    "version": 3
   },
   "file_extension": ".py",
   "mimetype": "text/x-python",
   "name": "python",
   "nbconvert_exporter": "python",
   "pygments_lexer": "ipython3",
   "version": "3.6.8"
  }
 },
 "nbformat": 4,
 "nbformat_minor": 4
}
