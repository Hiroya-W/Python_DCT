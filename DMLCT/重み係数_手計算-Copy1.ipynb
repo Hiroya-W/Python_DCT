{
 "cells": [
  {
   "cell_type": "code",
   "execution_count": 1,
   "metadata": {},
   "outputs": [],
   "source": [
    "import sympy\n",
    "import numpy as np\n",
    "import scipy.fftpack\n",
    "import matplotlib\n",
    "import matplotlib.pyplot as plt\n",
    "\n",
    "%matplotlib inline\n",
    "\n",
    "plt.rcParams[\"font.family\"] = \"Source Han Sans JP\"  # 使用するフォント\n",
    "plt.rcParams[\"xtick.direction\"] = \"in\"  # x軸の目盛線が内向き('in')か外向き('out')か双方向か('inout')\n",
    "plt.rcParams[\"ytick.direction\"] = \"in\"  # y軸の目盛線が内向き('in')か外向き('out')か双方向か('inout')\n",
    "plt.rcParams[\"xtick.major.width\"] = 1.0  # x軸主目盛り線の線幅\n",
    "plt.rcParams[\"ytick.major.width\"] = 1.0  # y軸主目盛り線の線幅\n",
    "plt.rcParams[\"font.size\"] = 12  # フォントの大きさ\n",
    "plt.rcParams[\"axes.linewidth\"] = 1.0  # 軸の線幅edge linewidth。囲みの太さ\n",
    "matplotlib.font_manager._rebuild()"
   ]
  },
  {
   "cell_type": "markdown",
   "metadata": {},
   "source": [
    "目標:   \n",
    "予測に用いる補間多項式の次数の上限(または、拘束点の数) $\\bar{n}=4,$サンプリング数$N=8$の時、    \n",
    "重み係数$W_{k,0}^{L}$ = [0.142, 0.0692, 0.0398, 0.0189, 0.0127, 0.00664, 0.00326] , k=1,2...7を出したい"
   ]
  },
  {
   "cell_type": "markdown",
   "metadata": {},
   "source": [
    "# 式を整理する"
   ]
  },
  {
   "cell_type": "markdown",
   "metadata": {},
   "source": [
    "$$W_{k,\\hat{k}}^{L} = (1-n)\\sqrt{\\frac{2}{N}} \\lambda_\\hat{k} \\cos(\\pi \\hat{k}(\\xi_0 + 1))w_{k,0} $$"
   ]
  },
  {
   "cell_type": "markdown",
   "metadata": {},
   "source": [
    "$\\hat{k}=0$の時、$W_{k,0}^{L}$で、この時、$\\cos(\\pi \\hat{k}(\\xi_0 + 1))=1$となるので、"
   ]
  },
  {
   "cell_type": "markdown",
   "metadata": {},
   "source": [
    "$$W_{k,0}^{L} = (1-n)\\sqrt{\\frac{2}{N}} \\lambda_0 w_{k,0} $$"
   ]
  },
  {
   "cell_type": "markdown",
   "metadata": {},
   "source": [
    "$\\bar{n}=4,N=8$を代入して、"
   ]
  },
  {
   "cell_type": "markdown",
   "metadata": {},
   "source": [
    "$$\n",
    "\\begin{align}\n",
    "    W_{k,0}^{L} &= (-3) \\sqrt{\\frac{2}{8}} \\lambda_\\hat{k} w_{k,0} \\\\\n",
    "                &= (-\\frac{3}{2}) \\lambda_0 w_{k,0}\n",
    "\\end{align}\n",
    "$$"
   ]
  },
  {
   "cell_type": "markdown",
   "metadata": {},
   "source": [
    "$\\lambda_0 = \\frac{1}{\\sqrt{2}}$なので、"
   ]
  },
  {
   "cell_type": "markdown",
   "metadata": {},
   "source": [
    "$$\n",
    "\\begin{align}\n",
    "    W_{k,0}^{L} &= (-\\frac{3}{2})\\frac{1}{\\sqrt{2}}w_{k,0}\\\\\n",
    "                & \\simeq -1.06 w_{k,0}\n",
    "\\end{align}\n",
    "$$"
   ]
  },
  {
   "cell_type": "markdown",
   "metadata": {},
   "source": [
    "# $w_{k,0}$を求める"
   ]
  },
  {
   "cell_type": "markdown",
   "metadata": {},
   "source": [
    "次に、$w_{k,0}$を求める"
   ]
  },
  {
   "cell_type": "markdown",
   "metadata": {},
   "source": [
    "$$w_{k,j}=\\sqrt{\\frac{2}{N}}\\lambda_k \\sum_{\\ell = 0}^{N-1}L_j(x_\\ell)\\cos(\\pi k x_\\ell)$$"
   ]
  },
  {
   "cell_type": "markdown",
   "metadata": {},
   "source": [
    "$j=0$の時、$w_{k,0}$なので、"
   ]
  },
  {
   "cell_type": "markdown",
   "metadata": {},
   "source": [
    "$$w_{k,0}=\\sqrt{\\frac{2}{N}}\\lambda_k \\sum_{\\ell = 0}^{N-1}L_0(x_\\ell)\\cos(\\pi k x_\\ell)$$"
   ]
  },
  {
   "cell_type": "markdown",
   "metadata": {},
   "source": [
    "$L_0(x_\\ell)$を求めて、DCTすれば$w_{k,0}$が得られる。"
   ]
  },
  {
   "cell_type": "markdown",
   "metadata": {},
   "source": [
    "$x_\\ell$は、以下の式で与えられるN個のサンプリング点である。"
   ]
  },
  {
   "cell_type": "markdown",
   "metadata": {},
   "source": [
    "$$\n",
    "x_\\ell = \\frac{2\\ell+1}{2N} \\quad \\ell = 0,1,...,N-1\n",
    "$$"
   ]
  },
  {
   "cell_type": "markdown",
   "metadata": {},
   "source": [
    "$N=8$なので、$x_\\ell$は、"
   ]
  },
  {
   "cell_type": "code",
   "execution_count": 14,
   "metadata": {},
   "outputs": [
    {
     "data": {
      "text/plain": [
       "array([0.  , 0.01, 0.02, 0.03, 0.04, 0.05, 0.06, 0.07, 0.08, 0.09, 0.1 ,\n",
       "       0.11, 0.12, 0.13, 0.14, 0.15, 0.16, 0.17, 0.18, 0.19, 0.2 , 0.21,\n",
       "       0.22, 0.23, 0.24, 0.25, 0.26, 0.27, 0.28, 0.29, 0.3 , 0.31, 0.32,\n",
       "       0.33, 0.34, 0.35, 0.36, 0.37, 0.38, 0.39, 0.4 , 0.41, 0.42, 0.43,\n",
       "       0.44, 0.45, 0.46, 0.47, 0.48, 0.49, 0.5 , 0.51, 0.52, 0.53, 0.54,\n",
       "       0.55, 0.56, 0.57, 0.58, 0.59, 0.6 , 0.61, 0.62, 0.63, 0.64, 0.65,\n",
       "       0.66, 0.67, 0.68, 0.69, 0.7 , 0.71, 0.72, 0.73, 0.74, 0.75, 0.76,\n",
       "       0.77, 0.78, 0.79, 0.8 , 0.81, 0.82, 0.83, 0.84, 0.85, 0.86, 0.87,\n",
       "       0.88, 0.89, 0.9 , 0.91, 0.92, 0.93, 0.94, 0.95, 0.96, 0.97, 0.98,\n",
       "       0.99])"
      ]
     },
     "execution_count": 14,
     "metadata": {},
     "output_type": "execute_result"
    }
   ],
   "source": [
    "N = 8\n",
    "# x_l = (2 * np.arange(N) + 1) / (2 * N)\n",
    "x_l = np.arange(100)/100\n",
    "x_l"
   ]
  },
  {
   "cell_type": "markdown",
   "metadata": {},
   "source": [
    "## $w_{k,0}$の計算のために$L_0(x_\\ell)$ を求める"
   ]
  },
  {
   "cell_type": "markdown",
   "metadata": {},
   "source": [
    "\n",
    "$$L_j(x) = \\int \\prod_{\\begin{array}{c} \\ell = 0\\\\ \\ell \\neq qj \\end{array}}^{n-1} \\frac{(x-s_\\ell)}{(s_j - s_\\ell)}dx$$"
   ]
  },
  {
   "cell_type": "markdown",
   "metadata": {},
   "source": [
    "$j=0$の時、$L_0$なので、"
   ]
  },
  {
   "cell_type": "markdown",
   "metadata": {},
   "source": [
    "$$L_0(x) = \\int \\prod_{\\begin{array}{c} \\ell = 0\\\\ \\ell \\neq 0 \\end{array}}^{n-1} \\frac{(x-s_\\ell)}{(s_0 - s_\\ell)}dx$$\n"
   ]
  },
  {
   "cell_type": "markdown",
   "metadata": {},
   "source": [
    "$\\bar{n}=4$なので、範囲を整理すると、"
   ]
  },
  {
   "cell_type": "markdown",
   "metadata": {},
   "source": [
    "$$L_0(x) = \\int \\prod_{\\begin{array}{c} \\ell = 1 \\end{array}}^{3} \\frac{(x-s_\\ell)}{(s_0- s_\\ell)}dx$$"
   ]
  },
  {
   "cell_type": "markdown",
   "metadata": {},
   "source": [
    "$s_\\ell$は、区間[0,1]に等間隔に配置された$n$個の拘束点であり、以下の式で与えられる。"
   ]
  },
  {
   "cell_type": "markdown",
   "metadata": {},
   "source": [
    "$$\n",
    "s_\\ell = \\frac{\\ell}{n-1} \\quad \\ell=0,1,...,n-1\n",
    "$$"
   ]
  },
  {
   "cell_type": "markdown",
   "metadata": {},
   "source": [
    "$\\bar{n}=4$なので、"
   ]
  },
  {
   "cell_type": "code",
   "execution_count": 3,
   "metadata": {},
   "outputs": [
    {
     "data": {
      "text/plain": [
       "array([0.        , 0.33333333, 0.66666667, 1.        ])"
      ]
     },
     "execution_count": 3,
     "metadata": {},
     "output_type": "execute_result"
    }
   ],
   "source": [
    "n_bar = 4\n",
    "s_l = np.arange(n_bar) / (n_bar - 1)\n",
    "s_l"
   ]
  },
  {
   "cell_type": "markdown",
   "metadata": {},
   "source": [
    "$s_\\ell = 0,\\frac{1}{3},\\frac{2}{3},1$  \n",
    "両端点を含む4点が拘束点となる。  "
   ]
  },
  {
   "cell_type": "markdown",
   "metadata": {},
   "source": [
    "$L_0(x)$を展開してみると、"
   ]
  },
  {
   "cell_type": "markdown",
   "metadata": {},
   "source": [
    "$$\n",
    "\\begin{align}\n",
    "    L_0(x)  &= \\int \\frac{x-s_1}{s_0-s_1} \\times \\frac{x-s_2}{s_0-s_2} \\times \\frac{x-s_3}{s_0-s_3} dx\\\\\n",
    "            &= \\int (-3)(x-\\frac{1}{3}) \\times (-\\frac{3}{2})(x-\\frac{2}{3})\\times (-1)(x-1)dx\\\\\n",
    "            &= \\int (1-3x)(1-\\frac{3}{2}x)(1-x)dx\\\\\n",
    "            &= \\int \\{(1-\\frac{5}{2}x+\\frac{3}{2}x^2) + (-3x)(1-\\frac{5}{2}x+\\frac{3}{2}x^2)\\}dx\\\\\n",
    "            &= \\int (1-\\frac{5}{2}x+\\frac{3}{2}x^2 -3x+ \\frac{15}{2}x^2 -\\frac{9}{2}x^3 )dx\\\\\n",
    "            &= \\int (1-\\frac{11}{2}x + 9x^2 - \\frac{9}{2}x^3) dx\\\\\n",
    "            &= x - \\frac{11}{4}x^2 + 3x^3 - \\frac{9}{8}x^4\n",
    "\\end{align}\n",
    "$$"
   ]
  },
  {
   "cell_type": "markdown",
   "metadata": {},
   "source": [
    "代数計算のライブラリで計算してみると、"
   ]
  },
  {
   "cell_type": "code",
   "execution_count": 4,
   "metadata": {},
   "outputs": [
    {
     "data": {
      "text/latex": [
       "$\\displaystyle - 1.125 x^{4} + 3.0 x^{3} - 2.75 x^{2} + 1.0 x$"
      ],
      "text/plain": [
       "-1.125*x**4 + 3.0*x**3 - 2.75*x**2 + 1.0*x"
      ]
     },
     "execution_count": 4,
     "metadata": {},
     "output_type": "execute_result"
    }
   ],
   "source": [
    "x = sympy.Symbol(\"x\")\n",
    "sympy.integrate((1 - 3 * x) * (1 - (3 / 2) * x) * (1 - x))\n",
    "# sympy.integrate((x-0.5)/(-0.5) * (x-1)/(-1))\n",
    "# sympy.integrate((x-1)/(-1))"
   ]
  },
  {
   "cell_type": "markdown",
   "metadata": {},
   "source": [
    "同じ式が出てきた"
   ]
  },
  {
   "cell_type": "markdown",
   "metadata": {},
   "source": [
    "$L_0(x)$に$x=x_\\ell$を代入して"
   ]
  },
  {
   "cell_type": "code",
   "execution_count": 25,
   "metadata": {},
   "outputs": [
    {
     "data": {
      "text/plain": [
       "array([0.        , 0.00972799, 0.01892382, 0.02760509, 0.03578912,\n",
       "       0.04349297, 0.05073342, 0.05752699, 0.06388992, 0.06983819,\n",
       "       0.0753875 , 0.08055329, 0.08535072, 0.08979469, 0.09389982,\n",
       "       0.09768047, 0.10115072, 0.10432439, 0.10721502, 0.10983589,\n",
       "       0.1122    , 0.11432009, 0.11620862, 0.11787779, 0.11933952,\n",
       "       0.12060547, 0.12168702, 0.12259529, 0.12334112, 0.12393509,\n",
       "       0.1243875 , 0.12470839, 0.12490752, 0.12499439, 0.12497822,\n",
       "       0.12486797, 0.12467232, 0.12439969, 0.12405822, 0.12365579,\n",
       "       0.1232    , 0.12269819, 0.12215742, 0.12158449, 0.12098592,\n",
       "       0.12036797, 0.11973662, 0.11909759, 0.11845632, 0.11781799,\n",
       "       0.1171875 , 0.11656949, 0.11596832, 0.11538809, 0.11483262,\n",
       "       0.11430547, 0.11380992, 0.11334899, 0.11292542, 0.11254169,\n",
       "       0.1122    , 0.11190229, 0.11165022, 0.11144519, 0.11128832,\n",
       "       0.11118047, 0.11112222, 0.11111389, 0.11115552, 0.11124689,\n",
       "       0.1113875 , 0.11157659, 0.11181312, 0.11209579, 0.11242302,\n",
       "       0.11279297, 0.11320352, 0.11365229, 0.11413662, 0.11465359,\n",
       "       0.1152    , 0.11577239, 0.11636702, 0.11697989, 0.11760672,\n",
       "       0.11824297, 0.11888382, 0.11952419, 0.12015872, 0.12078179,\n",
       "       0.1213875 , 0.12196969, 0.12252192, 0.12303749, 0.12350942,\n",
       "       0.12393047, 0.12429312, 0.12458959, 0.12481182, 0.12495149])"
      ]
     },
     "execution_count": 25,
     "metadata": {},
     "output_type": "execute_result"
    }
   ],
   "source": [
    "L_0 = -1.125 * x_l ** 4 + 3 * x_l ** 3 - 2.75 * x_l ** 2 + 1 * x_l\n",
    "# L_0 = -0.6667 * x_l ** 3 - 1.5 * x_l **2 + x_l\n",
    "# L_0 = - x_l ** 2 /2 + x_l\n",
    "\n",
    "# L_0 = (1 - 3 * x_l) * (1 - (3 / 2) * x_l) * (1 - x_l)\n",
    "# L_0 = (x_l-0.5)/(-0.5) * (x_l-1)/(-1)\n",
    "L_0"
   ]
  },
  {
   "cell_type": "code",
   "execution_count": 26,
   "metadata": {},
   "outputs": [
    {
     "data": {
      "text/plain": [
       "Text(0, 0.5, 'L_0(x_ell)')"
      ]
     },
     "execution_count": 26,
     "metadata": {},
     "output_type": "execute_result"
    },
    {
     "data": {
      "image/png": "[encoded data removed]",
      "text/plain": [
       "<Figure size 432x288 with 1 Axes>"
      ]
     },
     "metadata": {
      "needs_background": "light"
     },
     "output_type": "display_data"
    }
   ],
   "source": [
    "plt.plot(L_0)\n",
    "plt.xlabel(\"ell\")\n",
    "plt.ylabel(\"L_0(x_ell)\")"
   ]
  },
  {
   "cell_type": "markdown",
   "metadata": {},
   "source": [
    "## 求めた$L_0$を使って$w_{k,0}$を求める"
   ]
  },
  {
   "cell_type": "markdown",
   "metadata": {},
   "source": [
    "$L_0$をDCTしてみると、"
   ]
  },
  {
   "cell_type": "code",
   "execution_count": 7,
   "metadata": {},
   "outputs": [
    {
     "data": {
      "text/plain": [
       "[0.3082317042777511,\n",
       " -0.033080949162765924,\n",
       " -0.029314736308804004,\n",
       " -0.037543385459951506,\n",
       " -0.01782440799743921,\n",
       " -0.011991482108640393,\n",
       " -0.006262867397389821,\n",
       " -0.0030716485238224747]"
      ]
     },
     "execution_count": 7,
     "metadata": {},
     "output_type": "execute_result"
    }
   ],
   "source": [
    "w_k0 = []\n",
    "for k in range(8):\n",
    "    lambda_k = 1\n",
    "    if k == 0:\n",
    "        lambda_k = 1/np.sqrt(2)\n",
    "        \n",
    "    tmp = np.sum(L_0 * np.cos(np.pi * k * x_l))\n",
    "    w_k0.append(np.sqrt(2/N) * lambda_k * tmp)\n",
    "w_k0"
   ]
  },
  {
   "cell_type": "markdown",
   "metadata": {},
   "source": [
    "DCTのライブラリを使って計算してみると、"
   ]
  },
  {
   "cell_type": "code",
   "execution_count": 8,
   "metadata": {},
   "outputs": [
    {
     "data": {
      "text/plain": [
       "array([ 0.3082317 , -0.03308095, -0.02931474, -0.03754339, -0.01782441,\n",
       "       -0.01199148, -0.00626287, -0.00307165])"
      ]
     },
     "execution_count": 8,
     "metadata": {},
     "output_type": "execute_result"
    }
   ],
   "source": [
    "w_k0 = scipy.fftpack.dct(L_0,norm=\"ortho\")\n",
    "w_k0"
   ]
  },
  {
   "cell_type": "markdown",
   "metadata": {},
   "source": [
    "同じ結果がでた。"
   ]
  },
  {
   "cell_type": "markdown",
   "metadata": {},
   "source": [
    "# $W^{L}_{k,0}$を求める"
   ]
  },
  {
   "cell_type": "markdown",
   "metadata": {},
   "source": [
    "$$\n",
    "\\begin{align}\n",
    "    W_{k,0}^{L} &= (-\\frac{3}{2})\\frac{1}{\\sqrt{2}}w_{k,0}\\\\\n",
    "                & \\simeq -1.06 w_{k,0}\n",
    "\\end{align}\n",
    "$$"
   ]
  },
  {
   "cell_type": "markdown",
   "metadata": {},
   "source": [
    "だったので、$W_{k,0}^L, \\quad k=1,2,...,7$は、"
   ]
  },
  {
   "cell_type": "code",
   "execution_count": 9,
   "metadata": {},
   "outputs": [
    {
     "data": {
      "text/plain": [
       "array([0.03506581, 0.03107362, 0.03979599, 0.01889387, 0.01271097,\n",
       "       0.00663864, 0.00325595])"
      ]
     },
     "execution_count": 9,
     "metadata": {},
     "output_type": "execute_result"
    }
   ],
   "source": [
    "-1.06 * w_k0[1:]"
   ]
  },
  {
   "cell_type": "markdown",
   "metadata": {},
   "source": [
    "\n",
    "重み係数$W_{k,0}^{L}$ = [0.142, 0.0692, 0.0398, 0.0189, 0.0127, 0.00664, 0.00326] , k=1,2...7とは違う...。"
   ]
  },
  {
   "cell_type": "code",
   "execution_count": 12,
   "metadata": {},
   "outputs": [],
   "source": [
    "w_l_k0 = []\n",
    "for k in range(8):\n",
    "    lambda_k = 1\n",
    "    if k == 0:\n",
    "        lambda_k = 1/np.sqrt(2)\n",
    "        \n",
    "    tmp = np.sum(np.cos(np.pi * k * (xi[0] + 1)) * w_k0)\n",
    "    w_l_k0.append((1-4) * np.sqrt(2/N) * lambda_k * tmp)"
   ]
  },
  {
   "cell_type": "code",
   "execution_count": 11,
   "metadata": {},
   "outputs": [
    {
     "data": {
      "text/plain": [
       "array([-0.16666667,  0.16666667,  0.5       ,  0.83333333,  1.16666667])"
      ]
     },
     "execution_count": 11,
     "metadata": {},
     "output_type": "execute_result"
    }
   ],
   "source": [
    "xi = (np.arange(n_bar+1)-0.5)/(n_bar-1)\n",
    "xi"
   ]
  },
  {
   "cell_type": "code",
   "execution_count": 13,
   "metadata": {},
   "outputs": [
    {
     "data": {
      "text/plain": [
       "[-0.1794024238833261,\n",
       " 0.21972219856632358,\n",
       " -0.12685667048920335,\n",
       " -7.767730773254666e-17,\n",
       " 0.12685667048920327,\n",
       " -0.2197221985663235,\n",
       " 0.25371334097840664,\n",
       " -0.21972219856632358]"
      ]
     },
     "execution_count": 13,
     "metadata": {},
     "output_type": "execute_result"
    }
   ],
   "source": [
    "w_l_k0"
   ]
  },
  {
   "cell_type": "code",
   "execution_count": null,
   "metadata": {},
   "outputs": [],
   "source": []
  }
 ],
 "metadata": {
  "kernelspec": {
   "display_name": "Python 3",
   "language": "python",
   "name": "python3"
  },
  "language_info": {
   "codemirror_mode": {
    "name": "ipython",
    "version": 3
   },
   "file_extension": ".py",
   "mimetype": "text/x-python",
   "name": "python",
   "nbconvert_exporter": "python",
   "pygments_lexer": "ipython3",
   "version": "3.6.7"
  }
 },
 "nbformat": 4,
 "nbformat_minor": 4
}
