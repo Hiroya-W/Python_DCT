{
 "cells": [
  {
   "cell_type": "markdown",
   "metadata": {},
   "source": [
    "# 重み係数"
   ]
  },
  {
   "cell_type": "code",
   "execution_count": 18,
   "metadata": {},
   "outputs": [],
   "source": [
    "import sympy\n",
    "import numpy as np\n",
    "import scipy.fftpack\n",
    "import matplotlib\n",
    "import matplotlib.pyplot as plt\n",
    "import pandas as pd\n",
    "\n",
    "%matplotlib inline\n",
    "\n",
    "plt.rcParams[\"font.family\"] = \"Source Han Sans JP\"  # 使用するフォント\n",
    "plt.rcParams[\"xtick.direction\"] = \"in\"  # x軸の目盛線が内向き('in')か外向き('out')か双方向か('inout')\n",
    "plt.rcParams[\"ytick.direction\"] = \"in\"  # y軸の目盛線が内向き('in')か外向き('out')か双方向か('inout')\n",
    "plt.rcParams[\"xtick.major.width\"] = 1.0  # x軸主目盛り線の線幅\n",
    "plt.rcParams[\"ytick.major.width\"] = 1.0  # y軸主目盛り線の線幅\n",
    "plt.rcParams[\"font.size\"] = 12  # フォントの大きさ\n",
    "plt.rcParams[\"axes.linewidth\"] = 1.0  # 軸の線幅edge linewidth。囲みの太さ\n",
    "matplotlib.font_manager._rebuild()\n"
   ]
  },
  {
   "cell_type": "markdown",
   "metadata": {},
   "source": [
    "$$L_j(x) = \\int \\prod_{\\begin{array}{c} \\ell = 0\\\\ \\ell \\neq qj \\end{array}}^{n-1} \\frac{(x-s_\\ell)}{(s_j - s_\\ell)}dx$$"
   ]
  },
  {
   "cell_type": "code",
   "execution_count": 2,
   "metadata": {},
   "outputs": [],
   "source": [
    "n_bar = 4 # 拘束点数, 次数の上限値\n",
    "N = 8 # ブロックサイズ"
   ]
  },
  {
   "cell_type": "code",
   "execution_count": 3,
   "metadata": {},
   "outputs": [
    {
     "data": {
      "text/plain": [
       "array([0.        , 0.33333333, 0.66666667, 1.        ])"
      ]
     },
     "execution_count": 3,
     "metadata": {},
     "output_type": "execute_result"
    }
   ],
   "source": [
    "s = np.arange(4)/(n_bar -1)\n",
    "s"
   ]
  },
  {
   "cell_type": "code",
   "execution_count": 4,
   "metadata": {},
   "outputs": [
    {
     "name": "stdout",
     "output_type": "stream",
     "text": [
      "L_0(x) = (1.0 - 3.0*x)*(1.0 - 1.5*x)*(1.0 - 1.0*x)\n",
      "\n",
      "\\int L_0(x) = -1.125*x**4 + 3.0*x**3 - 2.75*x**2 + 1.0*x\n",
      "\n",
      "L_1(x) = 3.0*x*(1.5 - 1.5*x)*(2.0 - 3.0*x)\n",
      "\n",
      "\\int L_1(x) = 3.375*x**4 - 7.5*x**3 + 4.5*x**2\n",
      "\n",
      "L_2(x) = 1.5*x*(3.0 - 3.0*x)*(3.0*x - 1.0)\n",
      "\n",
      "\\int L_2(x) = -3.375*x**4 + 6.0*x**3 - 2.25*x**2\n",
      "\n",
      "L_3(x) = 1.0*x*(1.5*x - 0.5)*(3.0*x - 2.0)\n",
      "\n",
      "\\int L_3(x) = 1.125*x**4 - 1.5*x**3 + 0.5*x**2\n",
      "\n"
     ]
    }
   ],
   "source": [
    "x = sympy.Symbol(\"x\")\n",
    "for j in range(n_bar):\n",
    "    L_x = 1.0\n",
    "    for l in range(n_bar):\n",
    "        if l != j:\n",
    "            L_x *= (x - s[l])/(s[j] - s[l])\n",
    "    print(\"L_\" + str(j) + \"(x) = \" + str(L_x) + \"\\n\") \n",
    "    print(\"\\int L_\" + str(j) + \"(x) = \" + str(sympy.integrate(L_x)) + \"\\n\")"
   ]
  },
  {
   "cell_type": "code",
   "execution_count": 9,
   "metadata": {},
   "outputs": [],
   "source": [
    "def L_j(j,s,n_bar):\n",
    "    x = sympy.Symbol(\"x\")\n",
    "    L_x = 1.0\n",
    "    for l in range(n_bar):\n",
    "        if l != j:\n",
    "            L_x *= (x - s[l])/(s[j] - s[l])\n",
    "    return sympy.integrate(L_x)"
   ]
  },
  {
   "cell_type": "code",
   "execution_count": 10,
   "metadata": {},
   "outputs": [
    {
     "data": {
      "text/plain": [
       "[<matplotlib.lines.Line2D at 0x7fe657edcf28>]"
      ]
     },
     "execution_count": 10,
     "metadata": {},
     "output_type": "execute_result"
    },
    {
     "data": {
      "image/png": "[encoded data removed]",
      "text/plain": [
       "<Figure size 432x288 with 1 Axes>"
      ]
     },
     "metadata": {
      "needs_background": "light"
     },
     "output_type": "display_data"
    }
   ],
   "source": [
    "j = 0\n",
    "tmp = []\n",
    "x_l = (0.5 + np.arange(N)) / N\n",
    "L_0 = L_j(0,s,n_bar)\n",
    "for xl in x_l:\n",
    "    tmp.append(L_0.subs(x,xl))\n",
    "L_0_array = np.array(tmp)\n",
    "L_0_array = L_0_array.astype(\"f8\")\n",
    "plt.plot(L_0_array)\n",
    "# plt.plot((1-3*x_l)*(1-1.5*x_l)*(1-1*x_l))\n",
    "# plt.plot(x_l,-1.125*x_l**4 + 3*x_l**3 - 2.75*x_l**2 + x_l)"
   ]
  },
  {
   "cell_type": "code",
   "execution_count": 8,
   "metadata": {},
   "outputs": [
    {
     "data": {
      "text/plain": [
       "array([ 0.3082317 , -0.03308095, -0.02931474, -0.03754339, -0.01782441,\n",
       "       -0.01199148, -0.00626287, -0.00307165])"
      ]
     },
     "execution_count": 8,
     "metadata": {},
     "output_type": "execute_result"
    }
   ],
   "source": [
    "scipy.fftpack.dct(L_0_array, norm=\"ortho\")"
   ]
  },
  {
   "cell_type": "code",
   "execution_count": 9,
   "metadata": {},
   "outputs": [
    {
     "data": {
      "text/plain": [
       "[<matplotlib.lines.Line2D at 0x7f24b6c3b630>]"
      ]
     },
     "execution_count": 9,
     "metadata": {},
     "output_type": "execute_result"
    },
    {
     "data": {
      "image/png": "[encoded data removed]",
      "text/plain": [
       "<Figure size 432x288 with 1 Axes>"
      ]
     },
     "metadata": {
      "needs_background": "light"
     },
     "output_type": "display_data"
    }
   ],
   "source": [
    "plt.plot(scipy.fftpack.dct(-1.125*x_l**4 + 3*x_l**3 - 2.75*x_l**2 + x_l, norm=\"ortho\")[1:])"
   ]
  },
  {
   "cell_type": "code",
   "execution_count": 10,
   "metadata": {},
   "outputs": [
    {
     "data": {
      "text/plain": [
       "[<matplotlib.lines.Line2D at 0x7f24b6c280b8>]"
      ]
     },
     "execution_count": 10,
     "metadata": {},
     "output_type": "execute_result"
    },
    {
     "data": {
      "image/png": "[encoded data removed]",
      "text/plain": [
       "<Figure size 432x288 with 1 Axes>"
      ]
     },
     "metadata": {
      "needs_background": "light"
     },
     "output_type": "display_data"
    }
   ],
   "source": [
    "plt.plot(scipy.fftpack.dct((1-3*x_l)*(1-3*x_l/2)*(1-x_l), norm=\"ortho\")[1:])"
   ]
  },
  {
   "cell_type": "code",
   "execution_count": 11,
   "metadata": {},
   "outputs": [
    {
     "data": {
      "text/plain": [
       "[0.3082317042777511,\n",
       " -0.033080949162765924,\n",
       " -0.029314736308804004,\n",
       " -0.037543385459951506,\n",
       " -0.01782440799743921,\n",
       " -0.011991482108640393,\n",
       " -0.006262867397389821,\n",
       " -0.0030716485238224817]"
      ]
     },
     "execution_count": 11,
     "metadata": {},
     "output_type": "execute_result"
    }
   ],
   "source": [
    "w_k_0 = []\n",
    "for k in range(8):\n",
    "    lambda_k = 1\n",
    "    if k == 0:\n",
    "        lambda_k = 1/np.sqrt(2)\n",
    "        \n",
    "    tmp = np.sum(L_0_array * np.cos(np.pi * k * x_l))\n",
    "    w_k_0.append(np.sqrt(2/N) * lambda_k * tmp)\n",
    "w_k_0"
   ]
  },
  {
   "cell_type": "code",
   "execution_count": 12,
   "metadata": {},
   "outputs": [
    {
     "data": {
      "text/plain": [
       "array([-0.16666667,  0.16666667,  0.5       ,  0.83333333,  1.16666667])"
      ]
     },
     "execution_count": 12,
     "metadata": {},
     "output_type": "execute_result"
    }
   ],
   "source": [
    "xi = (np.arange(n_bar+1)-0.5)/(n_bar-1)\n",
    "xi"
   ]
  },
  {
   "cell_type": "code",
   "execution_count": 13,
   "metadata": {},
   "outputs": [
    {
     "name": "stdout",
     "output_type": "stream",
     "text": [
      "-0.3269290924072265\n",
      "0.035087645221618835\n",
      "0.031092973248976218\n",
      "0.0398207736711482\n",
      "0.018905639648437493\n",
      "0.012718887473245172\n",
      "0.006642774009549729\n",
      "0.0032579752509247877\n"
     ]
    }
   ],
   "source": [
    "k_hat = 0\n",
    "for k in range(8):\n",
    "    lambda_k = 1\n",
    "    if k_hat == 0:\n",
    "        lambda_k = 1/np.sqrt(2)\n",
    "    print(\n",
    "        (1-n_bar) * np.sqrt(2/N) * lambda_k * np.cos(np.pi * k_hat * (xi[0] + 1)) * w_k_0[k] \n",
    "    )"
   ]
  },
  {
   "cell_type": "code",
   "execution_count": 21,
   "metadata": {},
   "outputs": [
    {
     "name": "stdout",
     "output_type": "stream",
     "text": [
      "0.40040472923445763\n",
      "-0.042973413534385274\n",
      "-0.0380809595229995\n",
      "-0.04877028832858399\n",
      "-0.023154585199801306\n",
      "-0.015577392202663753\n",
      "-0.008135703400009374\n",
      "-0.0039901884796908595\n"
     ]
    }
   ],
   "source": [
    "k_hat = 1\n",
    "for k in range(8):\n",
    "    lambda_k = 1\n",
    "    if k_hat == 0:\n",
    "        lambda_k = 1/np.sqrt(2)\n",
    "    print(\n",
    "        (1-n_bar) * np.sqrt(2/N) * lambda_k * np.cos(np.pi * k_hat * (xi[0] + 1)) * w_k_0[k] \n",
    "    )"
   ]
  },
  {
   "cell_type": "code",
   "execution_count": 15,
   "metadata": {},
   "outputs": [
    {
     "data": {
      "text/plain": [
       "[<matplotlib.lines.Line2D at 0x7f24b6b99b38>]"
      ]
     },
     "execution_count": 15,
     "metadata": {},
     "output_type": "execute_result"
    },
    {
     "data": {
      "image/png": "[encoded data removed]",
      "text/plain": [
       "<Figure size 432x288 with 1 Axes>"
      ]
     },
     "metadata": {
      "needs_background": "light"
     },
     "output_type": "display_data"
    }
   ],
   "source": [
    "j = 3\n",
    "tmp = []\n",
    "x_l = (0.5 + np.arange(N)) / N\n",
    "L_3 = L_j(3,s,n_bar)\n",
    "for xl in x_l:\n",
    "    tmp.append(L_3.subs(x,xl))\n",
    "L_3_array = np.array(tmp)\n",
    "L_3_array = L_3_array.astype(\"f8\")\n",
    "plt.plot(L_3_array)"
   ]
  },
  {
   "cell_type": "code",
   "execution_count": 18,
   "metadata": {},
   "outputs": [
    {
     "data": {
      "text/plain": [
       "[0.04532168631552271,\n",
       " -0.033080949162765994,\n",
       " 0.02931473630880399,\n",
       " -0.03754338545995149,\n",
       " 0.017824407997439128,\n",
       " -0.011991482108640403,\n",
       " 0.006262867397389727,\n",
       " -0.003071648523822453]"
      ]
     },
     "execution_count": 18,
     "metadata": {},
     "output_type": "execute_result"
    }
   ],
   "source": [
    "w_k_3 = []\n",
    "for k in range(8):\n",
    "    lambda_k = 1\n",
    "    if k == 0:\n",
    "        lambda_k = 1/np.sqrt(2)\n",
    "        \n",
    "    tmp = np.sum(L_3_array * np.cos(np.pi * k * x_l))\n",
    "    w_k_3.append(np.sqrt(2/N) * lambda_k * tmp)\n",
    "w_k_3"
   ]
  },
  {
   "cell_type": "code",
   "execution_count": 19,
   "metadata": {},
   "outputs": [
    {
     "name": "stdout",
     "output_type": "stream",
     "text": [
      "0.04807090759277349\n",
      "-0.03508764522161891\n",
      "0.0310929732489762\n",
      "-0.03982077367114819\n",
      "0.018905639648437403\n",
      "-0.012718887473245183\n",
      "0.00664277400954963\n",
      "-0.0032579752509247573\n"
     ]
    }
   ],
   "source": [
    "k_hat = 0\n",
    "for k in range(8):\n",
    "    lambda_k = 1\n",
    "    if k_hat == 0:\n",
    "        lambda_k = 1/np.sqrt(2)\n",
    "    print(\n",
    "        (n_bar-1) * np.sqrt(2/N) * lambda_k * np.cos(np.pi * k_hat * (xi[4] - 1)) * w_k_3[k] \n",
    "    )"
   ]
  },
  {
   "cell_type": "code",
   "execution_count": 20,
   "metadata": {},
   "outputs": [
    {
     "name": "stdout",
     "output_type": "stream",
     "text": [
      "0.058874597537388336\n",
      "-0.042973413534385364\n",
      "0.03808095952299948\n",
      "-0.048770288328583974\n",
      "0.023154585199801198\n",
      "-0.015577392202663767\n",
      "0.008135703400009252\n",
      "-0.003990188479690822\n"
     ]
    }
   ],
   "source": [
    "k_hat = 1\n",
    "for k in range(8):\n",
    "    lambda_k = 1\n",
    "    if k_hat == 0:\n",
    "        lambda_k = 1/np.sqrt(2)\n",
    "    print(\n",
    "        (n_bar-1) * np.sqrt(2/N) * lambda_k * np.cos(np.pi * k_hat * (xi[4] - 1)) * w_k_3[k] \n",
    "    )"
   ]
  },
  {
   "cell_type": "code",
   "execution_count": 19,
   "metadata": {},
   "outputs": [
    {
     "name": "stdout",
     "output_type": "stream",
     "text": [
      "[-0.         -0.13396226 -0.06528302 -0.03754717 -0.01783019 -0.01198113\n",
      " -0.00626415 -0.00307547]\n"
     ]
    },
    {
     "data": {
      "text/plain": [
       "[<matplotlib.lines.Line2D at 0x7f7312c78898>]"
      ]
     },
     "execution_count": 19,
     "metadata": {},
     "output_type": "execute_result"
    },
    {
     "data": {
      "image/png": "[encoded data removed]",
      "text/plain": [
       "<Figure size 432x288 with 1 Axes>"
      ]
     },
     "metadata": {
      "needs_background": "light"
     },
     "output_type": "display_data"
    }
   ],
   "source": [
    "a = np.array([0,0.142, 0.0692, 0.0398, 0.0189, 0.0127, 0.00664, 0.00326]) / (-1.06)\n",
    "print(a)\n",
    "b = scipy.fftpack.idct(a,norm=\"ortho\")\n",
    "plt.plot(b)"
   ]
  },
  {
   "cell_type": "code",
   "execution_count": 12,
   "metadata": {},
   "outputs": [],
   "source": [
    "def L_j(j,s,n_bar):\n",
    "    x = sympy.Symbol(\"x\")\n",
    "    L_x = 1.0\n",
    "    for l in range(n_bar):\n",
    "        if l != j:\n",
    "            L_x *= (x - s[l])/(s[j] - s[l])\n",
    "    \n",
    "    return L_x"
   ]
  },
  {
   "cell_type": "markdown",
   "metadata": {},
   "source": [
    "f(x) = 3xをラグランジュで補間する"
   ]
  },
  {
   "cell_type": "code",
   "execution_count": 13,
   "metadata": {},
   "outputs": [
    {
     "name": "stdout",
     "output_type": "stream",
     "text": [
      "3.0*x*(1.5 - 1.5*x)*(2.0 - 3.0*x) + 3.0*x*(3.0 - 3.0*x)*(3.0*x - 1.0) + 3.0*x*(1.5*x - 0.5)*(3.0*x - 2.0)\n"
     ]
    },
    {
     "data": {
      "text/plain": [
       "[<matplotlib.lines.Line2D at 0x7f7312ece2b0>]"
      ]
     },
     "execution_count": 13,
     "metadata": {},
     "output_type": "execute_result"
    },
    {
     "data": {
      "image/png": "[encoded data removed]",
      "text/plain": [
       "<Figure size 432x288 with 1 Axes>"
      ]
     },
     "metadata": {
      "needs_background": "light"
     },
     "output_type": "display_data"
    }
   ],
   "source": [
    "ly = 0\n",
    "yj = [0,1,2,3]\n",
    "for j in range(4):\n",
    "    ly += yj[j] * L_j(j,s,n_bar)\n",
    "print(ly) \n",
    "\n",
    "y = []\n",
    "for ss in s:\n",
    "    y.append(ly.subs(x,ss))\n",
    "    \n",
    "plt.plot(s,y)"
   ]
  },
  {
   "cell_type": "markdown",
   "metadata": {},
   "source": [
    "x = 0, 0.3, 0.6, 1の4点で df(x)/dx = 3 を持つ関数f(x)をラグランジュ補間で求める  \n",
    "df(x)/dx = 3  \n",
    "f(x) = 3x"
   ]
  },
  {
   "cell_type": "code",
   "execution_count": 17,
   "metadata": {},
   "outputs": [
    {
     "name": "stdout",
     "output_type": "stream",
     "text": [
      "-8.88178419700125e-16*x**4 + 5.32907051820075e-15*x**3 - 2.44249065417534e-15*x**2 + 3.0*x\n"
     ]
    },
    {
     "data": {
      "text/plain": [
       "[<matplotlib.lines.Line2D at 0x7f7312d97da0>]"
      ]
     },
     "execution_count": 17,
     "metadata": {},
     "output_type": "execute_result"
    },
    {
     "data": {
      "image/png": "[encoded data removed]",
      "text/plain": [
       "<Figure size 432x288 with 1 Axes>"
      ]
     },
     "metadata": {
      "needs_background": "light"
     },
     "output_type": "display_data"
    }
   ],
   "source": [
    "ly = 0\n",
    "yj = [3,3,3,3]\n",
    "for j in range(4):\n",
    "    ly += yj[j] * sympy.integrate(L_j(j,s,n_bar)) \n",
    "print(ly) \n",
    "\n",
    "y = []\n",
    "for ss in s:\n",
    "    y.append(ly.subs(x,ss))\n",
    "    \n",
    "plt.plot(s,y)"
   ]
  },
  {
   "cell_type": "markdown",
   "metadata": {},
   "source": [
    "$\\bar{n}=4, N=8$"
   ]
  },
  {
   "cell_type": "markdown",
   "metadata": {},
   "source": [
    "$$w_{k,j}=\\sqrt{\\frac{2}{N}}\\lambda_k \\sum_{\\ell = 0}^{N-1}L_j(x_\\ell)\\cos(\\pi k x_\\ell)$$"
   ]
  },
  {
   "cell_type": "code",
   "execution_count": null,
   "metadata": {},
   "outputs": [],
   "source": []
  },
  {
   "cell_type": "markdown",
   "metadata": {},
   "source": [
    "$$W_{k,\\hat{k}}^{L} = (1-n)\\sqrt{\\frac{2}{N}} \\lambda_k \\cos(\\pi \\hat{k}(\\xi_0 + 1))w_{k,0} $$"
   ]
  },
  {
   "cell_type": "code",
   "execution_count": 7,
   "metadata": {},
   "outputs": [],
   "source": [
    "co = np.zeros((N,N))"
   ]
  },
  {
   "cell_type": "code",
   "execution_count": 11,
   "metadata": {},
   "outputs": [],
   "source": [
    "for i in range(1,N):\n",
    "    for ik in range(0,N-1):\n",
    "        co[ik+1,i] = np.cos(np.pi * ik * x_l[i])"
   ]
  },
  {
   "cell_type": "code",
   "execution_count": 19,
   "metadata": {},
   "outputs": [
    {
     "data": {
      "text/html": [
       "<div>\n",
       "<style scoped>\n",
       "    .dataframe tbody tr th:only-of-type {\n",
       "        vertical-align: middle;\n",
       "    }\n",
       "\n",
       "    .dataframe tbody tr th {\n",
       "        vertical-align: top;\n",
       "    }\n",
       "\n",
       "    .dataframe thead th {\n",
       "        text-align: right;\n",
       "    }\n",
       "</style>\n",
       "<table border=\"1\" class=\"dataframe\">\n",
       "  <thead>\n",
       "    <tr style=\"text-align: right;\">\n",
       "      <th></th>\n",
       "      <th>0</th>\n",
       "      <th>1</th>\n",
       "      <th>2</th>\n",
       "      <th>3</th>\n",
       "      <th>4</th>\n",
       "      <th>5</th>\n",
       "      <th>6</th>\n",
       "      <th>7</th>\n",
       "    </tr>\n",
       "  </thead>\n",
       "  <tbody>\n",
       "    <tr>\n",
       "      <th>0</th>\n",
       "      <td>0.0</td>\n",
       "      <td>0.000000</td>\n",
       "      <td>0.000000</td>\n",
       "      <td>0.000000</td>\n",
       "      <td>0.000000</td>\n",
       "      <td>0.000000</td>\n",
       "      <td>0.000000</td>\n",
       "      <td>0.000000</td>\n",
       "    </tr>\n",
       "    <tr>\n",
       "      <th>1</th>\n",
       "      <td>0.0</td>\n",
       "      <td>1.000000</td>\n",
       "      <td>1.000000</td>\n",
       "      <td>1.000000</td>\n",
       "      <td>1.000000</td>\n",
       "      <td>1.000000</td>\n",
       "      <td>1.000000</td>\n",
       "      <td>1.000000</td>\n",
       "    </tr>\n",
       "    <tr>\n",
       "      <th>2</th>\n",
       "      <td>0.0</td>\n",
       "      <td>0.831470</td>\n",
       "      <td>0.555570</td>\n",
       "      <td>0.195090</td>\n",
       "      <td>-0.195090</td>\n",
       "      <td>-0.555570</td>\n",
       "      <td>-0.831470</td>\n",
       "      <td>-0.980785</td>\n",
       "    </tr>\n",
       "    <tr>\n",
       "      <th>3</th>\n",
       "      <td>0.0</td>\n",
       "      <td>0.382683</td>\n",
       "      <td>-0.382683</td>\n",
       "      <td>-0.923880</td>\n",
       "      <td>-0.923880</td>\n",
       "      <td>-0.382683</td>\n",
       "      <td>0.382683</td>\n",
       "      <td>0.923880</td>\n",
       "    </tr>\n",
       "    <tr>\n",
       "      <th>4</th>\n",
       "      <td>0.0</td>\n",
       "      <td>-0.195090</td>\n",
       "      <td>-0.980785</td>\n",
       "      <td>-0.555570</td>\n",
       "      <td>0.555570</td>\n",
       "      <td>0.980785</td>\n",
       "      <td>0.195090</td>\n",
       "      <td>-0.831470</td>\n",
       "    </tr>\n",
       "    <tr>\n",
       "      <th>5</th>\n",
       "      <td>0.0</td>\n",
       "      <td>-0.707107</td>\n",
       "      <td>-0.707107</td>\n",
       "      <td>0.707107</td>\n",
       "      <td>0.707107</td>\n",
       "      <td>-0.707107</td>\n",
       "      <td>-0.707107</td>\n",
       "      <td>0.707107</td>\n",
       "    </tr>\n",
       "    <tr>\n",
       "      <th>6</th>\n",
       "      <td>0.0</td>\n",
       "      <td>-0.980785</td>\n",
       "      <td>0.195090</td>\n",
       "      <td>0.831470</td>\n",
       "      <td>-0.831470</td>\n",
       "      <td>-0.195090</td>\n",
       "      <td>0.980785</td>\n",
       "      <td>-0.555570</td>\n",
       "    </tr>\n",
       "    <tr>\n",
       "      <th>7</th>\n",
       "      <td>0.0</td>\n",
       "      <td>-0.923880</td>\n",
       "      <td>0.923880</td>\n",
       "      <td>-0.382683</td>\n",
       "      <td>-0.382683</td>\n",
       "      <td>0.923880</td>\n",
       "      <td>-0.923880</td>\n",
       "      <td>0.382683</td>\n",
       "    </tr>\n",
       "  </tbody>\n",
       "</table>\n",
       "</div>"
      ],
      "text/plain": [
       "     0         1         2         3         4         5         6         7\n",
       "0  0.0  0.000000  0.000000  0.000000  0.000000  0.000000  0.000000  0.000000\n",
       "1  0.0  1.000000  1.000000  1.000000  1.000000  1.000000  1.000000  1.000000\n",
       "2  0.0  0.831470  0.555570  0.195090 -0.195090 -0.555570 -0.831470 -0.980785\n",
       "3  0.0  0.382683 -0.382683 -0.923880 -0.923880 -0.382683  0.382683  0.923880\n",
       "4  0.0 -0.195090 -0.980785 -0.555570  0.555570  0.980785  0.195090 -0.831470\n",
       "5  0.0 -0.707107 -0.707107  0.707107  0.707107 -0.707107 -0.707107  0.707107\n",
       "6  0.0 -0.980785  0.195090  0.831470 -0.831470 -0.195090  0.980785 -0.555570\n",
       "7  0.0 -0.923880  0.923880 -0.382683 -0.382683  0.923880 -0.923880  0.382683"
      ]
     },
     "execution_count": 19,
     "metadata": {},
     "output_type": "execute_result"
    }
   ],
   "source": [
    "pd.DataFrame(co)"
   ]
  },
  {
   "cell_type": "code",
   "execution_count": 26,
   "metadata": {},
   "outputs": [],
   "source": [
    "P0 = np.zeros(N)\n",
    "P0 = (-9/8) * x_l**4 + 3 * x_l ** 3 + (-11/4) * x_l **2 + x_l\n",
    "P0"
   ]
  },
  {
   "cell_type": "code",
   "execution_count": 30,
   "metadata": {},
   "outputs": [],
   "source": [
    "P0mat = P0.reshape((N,1))\n",
    "P0mat"
   ]
  },
  {
   "cell_type": "code",
   "execution_count": 32,
   "metadata": {},
   "outputs": [
    {
     "data": {
      "text/plain": [
       "array([[ 0.        ,  0.        ,  0.        ,  0.        ,  0.        ,\n",
       "         0.        ,  0.        ,  0.        ],\n",
       "       [ 0.        ,  0.10920525,  0.10920525,  0.10920525,  0.10920525,\n",
       "         0.10920525,  0.10920525,  0.10920525],\n",
       "       [ 0.        ,  0.10374181,  0.06931806,  0.02434127, -0.02434127,\n",
       "        -0.06931806, -0.10374181, -0.12237181],\n",
       "       [ 0.        ,  0.04635736, -0.04635736, -0.11191657, -0.11191657,\n",
       "        -0.04635736,  0.04635736,  0.11191657],\n",
       "       [ 0.        , -0.02218008, -0.11150678, -0.06316352,  0.06316352,\n",
       "         0.11150678,  0.02218008, -0.09453089],\n",
       "       [ 0.        , -0.078644  , -0.078644  ,  0.078644  ,  0.078644  ,\n",
       "        -0.078644  , -0.078644  ,  0.078644  ],\n",
       "       [ 0.        , -0.11369176,  0.0226147 ,  0.09638322, -0.09638322,\n",
       "        -0.0226147 ,  0.11369176, -0.06440121],\n",
       "       [ 0.        , -0.11400296,  0.11400296, -0.04722157, -0.04722157,\n",
       "         0.11400296, -0.11400296,  0.04722157]])"
      ]
     },
     "execution_count": 32,
     "metadata": {},
     "output_type": "execute_result"
    }
   ],
   "source": [
    "p0temp = co * P0mat\n",
    "p0temp"
   ]
  },
  {
   "cell_type": "code",
   "execution_count": 37,
   "metadata": {},
   "outputs": [
    {
     "data": {
      "text/plain": [
       "array([ 0.        , -0.02447098,  0.0278009 ,  0.03050178, -0.01019997,\n",
       "        0.04164183, -0.00175162,  0.02322262])"
      ]
     },
     "execution_count": 37,
     "metadata": {},
     "output_type": "execute_result"
    }
   ],
   "source": [
    "np.sum(p0temp, axis = 0) * np.sqrt(1/N)"
   ]
  },
  {
   "cell_type": "code",
   "execution_count": null,
   "metadata": {},
   "outputs": [],
   "source": []
  }
 ],
 "metadata": {
  "kernelspec": {
   "display_name": "Python 3",
   "language": "python",
   "name": "python3"
  },
  "language_info": {
   "codemirror_mode": {
    "name": "ipython",
    "version": 3
   },
   "file_extension": ".py",
   "mimetype": "text/x-python",
   "name": "python",
   "nbconvert_exporter": "python",
   "pygments_lexer": "ipython3",
   "version": "3.6.8"
  }
 },
 "nbformat": 4,
 "nbformat_minor": 4
}
