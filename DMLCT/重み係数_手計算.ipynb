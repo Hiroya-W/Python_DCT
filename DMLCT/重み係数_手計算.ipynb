{
 "cells": [
  {
   "cell_type": "code",
   "execution_count": 1,
   "metadata": {},
   "outputs": [],
   "source": [
    "import sympy\n",
    "import numpy as np\n",
    "import scipy.fftpack\n",
    "import matplotlib\n",
    "import matplotlib.pyplot as plt\n",
    "\n",
    "%matplotlib inline\n",
    "\n",
    "plt.rcParams[\"font.family\"] = \"Source Han Sans JP\"  # 使用するフォント\n",
    "plt.rcParams[\"xtick.direction\"] = \"in\"  # x軸の目盛線が内向き('in')か外向き('out')か双方向か('inout')\n",
    "plt.rcParams[\"ytick.direction\"] = \"in\"  # y軸の目盛線が内向き('in')か外向き('out')か双方向か('inout')\n",
    "plt.rcParams[\"xtick.major.width\"] = 1.0  # x軸主目盛り線の線幅\n",
    "plt.rcParams[\"ytick.major.width\"] = 1.0  # y軸主目盛り線の線幅\n",
    "plt.rcParams[\"font.size\"] = 12  # フォントの大きさ\n",
    "plt.rcParams[\"axes.linewidth\"] = 1.0  # 軸の線幅edge linewidth。囲みの太さ\n",
    "matplotlib.font_manager._rebuild()"
   ]
  },
  {
   "cell_type": "markdown",
   "metadata": {},
   "source": [
    "目標:   \n",
    "予測に用いる補間多項式の次数の上限(または、拘束点の数) $\\bar{n}=4,$サンプリング数$N=8$の時、    \n",
    "重み係数$W_{k,0}^{L}$ = [0.142, 0.0692, 0.0398, 0.0189, 0.0127, 0.00664, 0.00326] , k=1,2...7を出したい"
   ]
  },
  {
   "cell_type": "markdown",
   "metadata": {},
   "source": [
    "# 式を整理する"
   ]
  },
  {
   "cell_type": "markdown",
   "metadata": {},
   "source": [
    "$$W_{k,\\hat{k}}^{L} = (1-n)\\sqrt{\\frac{2}{N}} \\lambda_\\hat{k} \\cos(\\pi \\hat{k}(\\xi_0 + 1))w_{k,0} $$"
   ]
  },
  {
   "cell_type": "markdown",
   "metadata": {},
   "source": [
    "$\\hat{k}=0$の時、$W_{k,0}^{L}$で、この時、$\\cos(\\pi \\hat{k}(\\xi_0 + 1))=1$となるので、"
   ]
  },
  {
   "cell_type": "markdown",
   "metadata": {},
   "source": [
    "$$W_{k,0}^{L} = (1-n)\\sqrt{\\frac{2}{N}} \\lambda_0 w_{k,0} $$"
   ]
  },
  {
   "cell_type": "markdown",
   "metadata": {},
   "source": [
    "$\\bar{n}=4,N=8$を代入して、"
   ]
  },
  {
   "cell_type": "markdown",
   "metadata": {},
   "source": [
    "$$\n",
    "\\begin{align}\n",
    "    W_{k,0}^{L} &= (-3) \\sqrt{\\frac{2}{8}} \\lambda_\\hat{k} w_{k,0} \\\\\n",
    "                &= (-\\frac{3}{2}) \\lambda_0 w_{k,0}\n",
    "\\end{align}\n",
    "$$"
   ]
  },
  {
   "cell_type": "markdown",
   "metadata": {},
   "source": [
    "$\\lambda_0 = \\frac{1}{\\sqrt{2}}$なので、"
   ]
  },
  {
   "cell_type": "markdown",
   "metadata": {},
   "source": [
    "$$\n",
    "\\begin{align}\n",
    "    W_{k,0}^{L} &= (-\\frac{3}{2})\\frac{1}{\\sqrt{2}}w_{k,0}\\\\\n",
    "                & \\simeq -1.06 w_{k,0}\n",
    "\\end{align}\n",
    "$$"
   ]
  },
  {
   "cell_type": "markdown",
   "metadata": {},
   "source": [
    "# $w_{k,0}$を求める"
   ]
  },
  {
   "cell_type": "markdown",
   "metadata": {},
   "source": [
    "次に、$w_{k,0}$を求める"
   ]
  },
  {
   "cell_type": "markdown",
   "metadata": {},
   "source": [
    "$$w_{k,j}=\\sqrt{\\frac{2}{N}}\\lambda_k \\sum_{\\ell = 0}^{N-1}L_j(x_\\ell)\\cos(\\pi k x_\\ell)$$"
   ]
  },
  {
   "cell_type": "markdown",
   "metadata": {},
   "source": [
    "$j=0$の時、$w_{k,0}$なので、"
   ]
  },
  {
   "cell_type": "markdown",
   "metadata": {},
   "source": [
    "$$w_{k,0}=\\sqrt{\\frac{2}{N}}\\lambda_k \\sum_{\\ell = 0}^{N-1}L_0(x_\\ell)\\cos(\\pi k x_\\ell)$$"
   ]
  },
  {
   "cell_type": "markdown",
   "metadata": {},
   "source": [
    "$L_0(x_\\ell)$を求めて、DCTすれば$w_{k,0}$が得られる。"
   ]
  },
  {
   "cell_type": "markdown",
   "metadata": {},
   "source": [
    "$x_\\ell$は、以下の式で与えられるN個のサンプリング点である。"
   ]
  },
  {
   "cell_type": "markdown",
   "metadata": {},
   "source": [
    "$$\n",
    "x_\\ell = \\frac{2\\ell+1}{2N} \\quad \\ell = 0,1,...,N-1\n",
    "$$"
   ]
  },
  {
   "cell_type": "markdown",
   "metadata": {},
   "source": [
    "$N=8$なので、$x_\\ell$は、"
   ]
  },
  {
   "cell_type": "code",
   "execution_count": 6,
   "metadata": {},
   "outputs": [
    {
     "data": {
      "text/plain": [
       "array([0.0625, 0.1875, 0.3125, 0.4375, 0.5625, 0.6875, 0.8125, 0.9375])"
      ]
     },
     "execution_count": 6,
     "metadata": {},
     "output_type": "execute_result"
    }
   ],
   "source": [
    "N = 8\n",
    "x_l = (2 * np.arange(N) + 1) / (2 * N)\n",
    "x_l"
   ]
  },
  {
   "cell_type": "markdown",
   "metadata": {},
   "source": [
    "## $w_{k,0}$の計算のために$L_0(x_\\ell)$ を求める"
   ]
  },
  {
   "cell_type": "markdown",
   "metadata": {},
   "source": [
    "\n",
    "$$L_j(x) = \\int \\prod_{\\begin{array}{c} \\ell = 0\\\\ \\ell \\neq qj \\end{array}}^{n-1} \\frac{(x-s_\\ell)}{(s_j - s_\\ell)}dx$$"
   ]
  },
  {
   "cell_type": "markdown",
   "metadata": {},
   "source": [
    "$j=0$の時、$L_0$なので、"
   ]
  },
  {
   "cell_type": "markdown",
   "metadata": {},
   "source": [
    "$$L_0(x) = \\int \\prod_{\\begin{array}{c} \\ell = 0\\\\ \\ell \\neq 0 \\end{array}}^{n-1} \\frac{(x-s_\\ell)}{(s_0 - s_\\ell)}dx$$\n"
   ]
  },
  {
   "cell_type": "markdown",
   "metadata": {},
   "source": [
    "$\\bar{n}=4$なので、範囲を整理すると、"
   ]
  },
  {
   "cell_type": "markdown",
   "metadata": {},
   "source": [
    "$$L_0(x) = \\int \\prod_{\\begin{array}{c} \\ell = 1 \\end{array}}^{3} \\frac{(x-s_\\ell)}{(s_0- s_\\ell)}dx$$"
   ]
  },
  {
   "cell_type": "markdown",
   "metadata": {},
   "source": [
    "$s_\\ell$は、区間[0,1]に等間隔に配置された$n$個の拘束点であり、以下の式で与えられる。"
   ]
  },
  {
   "cell_type": "markdown",
   "metadata": {},
   "source": [
    "$$\n",
    "s_\\ell = \\frac{\\ell}{n-1} \\quad \\ell=0,1,...,n-1\n",
    "$$"
   ]
  },
  {
   "cell_type": "markdown",
   "metadata": {},
   "source": [
    "$\\bar{n}=4$なので、"
   ]
  },
  {
   "cell_type": "code",
   "execution_count": 8,
   "metadata": {},
   "outputs": [
    {
     "data": {
      "text/plain": [
       "array([0.        , 0.33333333, 0.66666667, 1.        ])"
      ]
     },
     "execution_count": 8,
     "metadata": {},
     "output_type": "execute_result"
    }
   ],
   "source": [
    "n_bar = 4\n",
    "s_l = np.arange(n_bar) / (n_bar - 1)\n",
    "s_l"
   ]
  },
  {
   "cell_type": "markdown",
   "metadata": {},
   "source": [
    "$s_\\ell = 0,\\frac{1}{3},\\frac{2}{3},1$  \n",
    "両端点を含む4点が拘束点となる。  "
   ]
  },
  {
   "cell_type": "markdown",
   "metadata": {},
   "source": [
    "$L_0(x)$を展開してみると、"
   ]
  },
  {
   "cell_type": "markdown",
   "metadata": {},
   "source": [
    "$$\n",
    "\\begin{align}\n",
    "    L_0(x)  &= \\int \\frac{x-s_1}{s_0-s_1} \\times \\frac{x-s_2}{s_0-s_2} \\times \\frac{x-s_3}{s_0-s_3} dx\\\\\n",
    "            &= \\int (-3)(x-\\frac{1}{3}) \\times (-\\frac{3}{2})(x-\\frac{2}{3})\\times (-1)(x-1)dx\\\\\n",
    "            &= \\int (1-3x)(1-\\frac{3}{2}x)(1-x)dx\\\\\n",
    "            &= \\int \\{(1-\\frac{5}{2}x+\\frac{3}{2}x^2) + (-3x)(1-\\frac{5}{2}x+\\frac{3}{2}x^2)\\}dx\\\\\n",
    "            &= \\int (1-\\frac{5}{2}x+\\frac{3}{2}x^2 -3x+ \\frac{15}{2}x^2 -\\frac{9}{2}x^3 )dx\\\\\n",
    "            &= \\int (1-\\frac{11}{2}x + 9x^2 - \\frac{9}{2}x^3) dx\\\\\n",
    "            &= x - \\frac{11}{4}x^2 + 3x^3 - \\frac{9}{8}x^4\n",
    "\\end{align}\n",
    "$$"
   ]
  },
  {
   "cell_type": "markdown",
   "metadata": {},
   "source": [
    "代数計算のライブラリで計算してみると、"
   ]
  },
  {
   "cell_type": "code",
   "execution_count": 9,
   "metadata": {},
   "outputs": [
    {
     "data": {
      "text/latex": [
       "$\\displaystyle - 1.125 x^{4} + 3.0 x^{3} - 2.75 x^{2} + 1.0 x$"
      ],
      "text/plain": [
       "-1.125*x**4 + 3.0*x**3 - 2.75*x**2 + 1.0*x"
      ]
     },
     "execution_count": 9,
     "metadata": {},
     "output_type": "execute_result"
    }
   ],
   "source": [
    "x = sympy.Symbol(\"x\")\n",
    "sympy.integrate((1 - 3 * x) * (1 - (3 / 2) * x) * (1 - x))"
   ]
  },
  {
   "cell_type": "markdown",
   "metadata": {},
   "source": [
    "同じ式が出てきた"
   ]
  },
  {
   "cell_type": "markdown",
   "metadata": {},
   "source": [
    "$L_0(x)$に$x=x_\\ell$を代入して"
   ]
  },
  {
   "cell_type": "code",
   "execution_count": 14,
   "metadata": {},
   "outputs": [
    {
     "data": {
      "text/plain": [
       "array([0.05247307, 0.10920525, 0.12476921, 0.12113762, 0.11369133,\n",
       "       0.11121941, 0.11591911, 0.12339592])"
      ]
     },
     "execution_count": 14,
     "metadata": {},
     "output_type": "execute_result"
    }
   ],
   "source": [
    "L_0 = -1.125 * x_l ** 4 + 3 * x_l ** 3 - 2.75 * x_l ** 2 + 1 * x_l\n",
    "L_0"
   ]
  },
  {
   "cell_type": "code",
   "execution_count": 26,
   "metadata": {},
   "outputs": [
    {
     "data": {
      "text/plain": [
       "Text(0, 0.5, 'L_0(x_ell)')"
      ]
     },
     "execution_count": 26,
     "metadata": {},
     "output_type": "execute_result"
    },
    {
     "data": {
      "image/png": "[encoded data removed]",
      "text/plain": [
       "<Figure size 432x288 with 1 Axes>"
      ]
     },
     "metadata": {
      "needs_background": "light"
     },
     "output_type": "display_data"
    }
   ],
   "source": [
    "plt.plot(L_0)\n",
    "plt.xlabel(\"ell\")\n",
    "plt.ylabel(\"L_0(x_ell)\")"
   ]
  },
  {
   "cell_type": "markdown",
   "metadata": {},
   "source": [
    "## 求めた$L_0$を使って$w_{k,0}$を求める"
   ]
  },
  {
   "cell_type": "markdown",
   "metadata": {},
   "source": [
    "$L_0$をDCTしてみると、"
   ]
  },
  {
   "cell_type": "code",
   "execution_count": 21,
   "metadata": {},
   "outputs": [
    {
     "data": {
      "text/plain": [
       "[0.3082317042777511,\n",
       " -0.033080949162765924,\n",
       " -0.029314736308804004,\n",
       " -0.037543385459951506,\n",
       " -0.01782440799743921,\n",
       " -0.011991482108640393,\n",
       " -0.006262867397389821,\n",
       " -0.0030716485238224817]"
      ]
     },
     "execution_count": 21,
     "metadata": {},
     "output_type": "execute_result"
    }
   ],
   "source": [
    "w_k0 = []\n",
    "for k in range(8):\n",
    "    lambda_k = 1\n",
    "    if k == 0:\n",
    "        lambda_k = 1/np.sqrt(2)\n",
    "        \n",
    "    tmp = np.sum(L_0 * np.cos(np.pi * k * x_l))\n",
    "    w_k0.append(np.sqrt(2/N) * lambda_k * tmp)\n",
    "w_k0"
   ]
  },
  {
   "cell_type": "markdown",
   "metadata": {},
   "source": [
    "DCTのライブラリを使って計算してみると、"
   ]
  },
  {
   "cell_type": "code",
   "execution_count": 22,
   "metadata": {},
   "outputs": [
    {
     "data": {
      "text/plain": [
       "array([ 0.3082317 , -0.03308095, -0.02931474, -0.03754339, -0.01782441,\n",
       "       -0.01199148, -0.00626287, -0.00307165])"
      ]
     },
     "execution_count": 22,
     "metadata": {},
     "output_type": "execute_result"
    }
   ],
   "source": [
    "w_k0 = scipy.fftpack.dct(L_0,norm=\"ortho\")\n",
    "w_k0"
   ]
  },
  {
   "cell_type": "markdown",
   "metadata": {},
   "source": [
    "同じ結果がでた。"
   ]
  },
  {
   "cell_type": "markdown",
   "metadata": {},
   "source": [
    "# $W^{L}_{k,0}$を求める"
   ]
  },
  {
   "cell_type": "markdown",
   "metadata": {},
   "source": [
    "$$\n",
    "\\begin{align}\n",
    "    W_{k,0}^{L} &= (-\\frac{3}{2})\\frac{1}{\\sqrt{2}}w_{k,0}\\\\\n",
    "                & \\simeq -1.06 w_{k,0}\n",
    "\\end{align}\n",
    "$$"
   ]
  },
  {
   "cell_type": "markdown",
   "metadata": {},
   "source": [
    "だったので、$W_{k,0}^L, \\quad k=1,2,...,7$は、"
   ]
  },
  {
   "cell_type": "code",
   "execution_count": 24,
   "metadata": {},
   "outputs": [
    {
     "data": {
      "text/plain": [
       "array([0.03506581, 0.03107362, 0.03979599, 0.01889387, 0.01271097,\n",
       "       0.00663864, 0.00325595])"
      ]
     },
     "execution_count": 24,
     "metadata": {},
     "output_type": "execute_result"
    }
   ],
   "source": [
    "-1.06 * w_k0[1:]"
   ]
  },
  {
   "cell_type": "markdown",
   "metadata": {},
   "source": [
    "\n",
    "重み係数$W_{k,0}^{L}$ = [0.142, 0.0692, 0.0398, 0.0189, 0.0127, 0.00664, 0.00326] , k=1,2...7とは違う...。"
   ]
  },
  {
   "cell_type": "code",
   "execution_count": null,
   "metadata": {},
   "outputs": [],
   "source": []
  }
 ],
 "metadata": {
  "kernelspec": {
   "display_name": "Python 3",
   "language": "python",
   "name": "python3"
  },
  "language_info": {
   "codemirror_mode": {
    "name": "ipython",
    "version": 3
   },
   "file_extension": ".py",
   "mimetype": "text/x-python",
   "name": "python",
   "nbconvert_exporter": "python",
   "pygments_lexer": "ipython3",
   "version": "3.6.8"
  }
 },
 "nbformat": 4,
 "nbformat_minor": 4
}
