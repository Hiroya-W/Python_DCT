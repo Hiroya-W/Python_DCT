{
 "cells": [
  {
   "cell_type": "code",
   "execution_count": 2,
   "metadata": {},
   "outputs": [],
   "source": [
    "import numpy as np\n",
    "import scipy.misc\n",
    "from scipy.fftpack import dct, idct\n",
    "import sys\n",
    "from PIL import Image\n",
    "import matplotlib\n",
    "import matplotlib.pyplot as plt\n",
    "import random\n",
    "from tqdm._tqdm_notebook import tqdm_notebook\n",
    "from scipy.fftpack import dct, idct\n",
    "import seaborn as sns\n",
    "from skimage.metrics import structural_similarity as ssim\n",
    "import pandas as pd\n",
    "import sympy\n",
    "\n",
    "%matplotlib inline\n",
    "\n",
    "\n",
    "class ImageLoader:\n",
    "    def __init__(self, FILE_PATH):\n",
    "        self.img = np.array(Image.open(FILE_PATH))\n",
    "        # 行数\n",
    "        self.row_blocks_count = self.img.shape[0] // 8\n",
    "        # 列数\n",
    "        self.col_blocks_count = self.img.shape[1] // 8\n",
    "\n",
    "    def get_points(self, POINT):\n",
    "        Row = random.randint(0, len(self.img) - POINT - 1)\n",
    "        Col = random.randint(0, len(self.img) - 1)\n",
    "        return self.img[Row : Row + POINT, Col]\n",
    "\n",
    "    def get_block(self, col, row):\n",
    "        return self.img[col * 8 : (col + 1) * 8, row * 8 : (row + 1) * 8]\n",
    "\n",
    "\n",
    "# plt.rcParams['font.family'] ='sans-serif'#使用するフォント\n",
    "# plt.rcParams[\"font.sans-serif\"] = \"Source Han Sans\"\n",
    "plt.rcParams[\"font.family\"] = \"Source Han Sans JP\"  # 使用するフォント\n",
    "plt.rcParams[\"xtick.direction\"] = \"in\"  # x軸の目盛線が内向き('in')か外向き('out')か双方向か('inout')\n",
    "plt.rcParams[\"ytick.direction\"] = \"in\"  # y軸の目盛線が内向き('in')か外向き('out')か双方向か('inout')\n",
    "plt.rcParams[\"xtick.major.width\"] = 1.0  # x軸主目盛り線の線幅\n",
    "plt.rcParams[\"ytick.major.width\"] = 1.0  # y軸主目盛り線の線幅\n",
    "plt.rcParams[\"font.size\"] = 12  # フォントの大きさ\n",
    "plt.rcParams[\"axes.linewidth\"] = 1.0  # 軸の線幅edge linewidth。囲みの太さ\n",
    "matplotlib.font_manager._rebuild()\n",
    "\n",
    "MONO_DIR_PATH = \"../../Mono/\"\n",
    "AIRPLANE = ImageLoader(MONO_DIR_PATH + \"airplane512.bmp\")\n",
    "BARBARA = ImageLoader(MONO_DIR_PATH + \"barbara512.bmp\")\n",
    "BOAT = ImageLoader(MONO_DIR_PATH + \"boat512.bmp\")\n",
    "GOLDHILL = ImageLoader(MONO_DIR_PATH + \"goldhill512.bmp\")\n",
    "LENNA = ImageLoader(MONO_DIR_PATH + \"lenna512.bmp\")\n",
    "MANDRILL = ImageLoader(MONO_DIR_PATH + \"mandrill512.bmp\")\n",
    "MILKDROP = ImageLoader(MONO_DIR_PATH + \"milkdrop512.bmp\")\n",
    "SAILBOAT = ImageLoader(MONO_DIR_PATH + \"sailboat512.bmp\")\n",
    "TEST02 = ImageLoader(MONO_DIR_PATH + \"test02.bmp\")\n",
    "TEST19 = ImageLoader(MONO_DIR_PATH + \"test19.bmp\")"
   ]
  },
  {
   "cell_type": "code",
   "execution_count": 3,
   "metadata": {},
   "outputs": [],
   "source": [
    "n_bar = 5\n",
    "N = 32"
   ]
  },
  {
   "cell_type": "markdown",
   "metadata": {},
   "source": [
    "# MSDS"
   ]
  },
  {
   "cell_type": "code",
   "execution_count": 4,
   "metadata": {},
   "outputs": [],
   "source": [
    "def msds(N,arr):\n",
    "    w_e = 0\n",
    "    e_e = 0\n",
    "    n_e = 0\n",
    "    s_e = 0\n",
    "    nw_e = 0\n",
    "    ne_e = 0\n",
    "    sw_e = 0\n",
    "    se_e = 0\n",
    "    for row in range(arr.shape[0] // N):\n",
    "        for col in range(arr.shape[1] // N):\n",
    "            f_block = arr[row * N : (row + 1) * N, col * N : (col + 1) * N]\n",
    "            # w\n",
    "            if col == 0:\n",
    "                w_block = np.fliplr(f_block)\n",
    "            else:\n",
    "                w_block = arr[row * N : (row + 1) * N, (col - 1) * N : col * N]\n",
    "            # e\n",
    "            if col == arr.shape[1] // N - 1:\n",
    "                e_block = np.fliplr(f_block)\n",
    "            else:\n",
    "                e_block = arr[row * N : (row + 1) * N, (col + 1) * N : (col + 2) * N]\n",
    "            # n\n",
    "            if row == 0:\n",
    "                n_block = np.flipud(f_block)\n",
    "            else:\n",
    "                n_block = arr[(row - 1) * N : row * N, col * N : (col + 1) * N]\n",
    "            # s\n",
    "            if row == arr.shape[0] // N - 1:\n",
    "                s_block = np.flipud(f_block)\n",
    "            else:\n",
    "                s_block = arr[(row + 1) * N : (row + 2) * N, col * N : (col + 1) * N]\n",
    "\n",
    "            w_d1 = f_block[:, 0] - w_block[:, N-1]\n",
    "            e_d1 = f_block[:, N-1] - e_block[:, 0]\n",
    "            n_d1 = f_block[0, :] - n_block[N-1, :]\n",
    "            s_d1 = f_block[N-1, :] - s_block[0, :]\n",
    "\n",
    "            w_d2 = (w_block[:, N-1] - w_block[:, N-2] + f_block[:, 1] - f_block[:, 0]) / 2\n",
    "            e_d2 = (e_block[:, 1] - e_block[:, 0] + f_block[:, N-1] - f_block[:, N-2]) / 2\n",
    "            n_d2 = (n_block[N-1, :] - n_block[N-2, :] + f_block[1, :] - f_block[0, :]) / 2\n",
    "            s_d2 = (s_block[1, :] - s_block[0, :] + f_block[N-1, :] - f_block[N-2, :]) / 2\n",
    "\n",
    "            w_e += np.sum((w_d1 - w_d2) ** 2 )\n",
    "            e_e += np.sum((e_d1 - e_d2) ** 2 )\n",
    "            n_e += np.sum((n_d1 - n_d2) ** 2)\n",
    "            s_e += np.sum((s_d1 - s_d2) ** 2)\n",
    "\n",
    "            # nw\n",
    "            if row == 0 or col == 0:\n",
    "                nw_block = np.flipud(np.fliplr(f_block))\n",
    "            else:\n",
    "                nw_block = arr[(row - 1) * N : row * N, (col - 1) * N : col * N]\n",
    "            # ne\n",
    "            if row == 0 or col == arr.shape[1] // N - 1:\n",
    "                ne_block = np.flipud(np.fliplr(f_block))\n",
    "            else:\n",
    "                ne_block = arr[(row-1) * N : row * N, (col + 1) * N : (col + 2) * N]\n",
    "            # sw\n",
    "            if row == arr.shape[0] // N -1 or col == 0:\n",
    "                sw_block = np.flipud(np.fliplr(f_block))\n",
    "            else:\n",
    "                sw_block = arr[row * N : (row+1) * N, (col-1) * N : col * N]\n",
    "            # se\n",
    "            if  row == arr.shape[0]//N-1 or col == arr.shape[0] // N -1:\n",
    "                se_block = np.flipud(np.fliplr(f_block))\n",
    "            else:\n",
    "                se_block = arr[(row + 1) * N : (row + 2) * N, (col+1) * N : (col + 2) * N]\n",
    "\n",
    "            nw_g1 = f_block[0, 0] - nw_block[N-1, N-1]\n",
    "            ne_g1 = f_block[0, N-1] - ne_block[N-1, 0]\n",
    "            sw_g1 = f_block[N-1, 0] - sw_block[0, N-1]\n",
    "            se_g1 = f_block[N-1, N-1] - se_block[0, 0]\n",
    "\n",
    "            nw_g2 = (nw_block[N-1,N-1] - nw_block[N-2,N-2] + f_block[1,1] - f_block[0,0])/2\n",
    "            ne_g2 = (ne_block[N-1,0] - ne_block[N-2,1] + f_block[1,N-2] - f_block[0,N-1])/2\n",
    "            sw_g2 = (sw_block[0,N-1] - nw_block[1,N-2] + f_block[N-2,1] - f_block[N-1,0])/2\n",
    "            se_g2 = (nw_block[0,0] - nw_block[1,1] + f_block[N-2,N-2] - f_block[N-1,N-1])/2\n",
    "\n",
    "            nw_e += (nw_g1 - nw_g2) ** 2 \n",
    "            ne_e += (ne_g1 - ne_g2) ** 2 \n",
    "            sw_e += (sw_g1 - sw_g2) ** 2 \n",
    "            se_e += (se_g1 - se_g2) ** 2 \n",
    "\n",
    "    MSDSt = (w_e + e_e + n_e + s_e + nw_e + ne_e + sw_e + se_e)/ ((arr.shape[0]/N)**2)\n",
    "    MSDS1 = (w_e + e_e + n_e + s_e)/ ((arr.shape[0]/N)**2)\n",
    "    MSDS2 = (nw_e + ne_e + sw_e + se_e)/ ((arr.shape[0]/N)**2)\n",
    "    return MSDSt, MSDS1, MSDS2"
   ]
  },
  {
   "cell_type": "code",
   "execution_count": 5,
   "metadata": {},
   "outputs": [],
   "source": [
    "class DMLCT:\n",
    "    def __init__(self, n_bar, N):\n",
    "        self.n_bar = n_bar\n",
    "        self.N = N\n",
    "\n",
    "        self.x_l = (2 * np.arange(N) + 1) / (2 * N)\n",
    "        self.s_l = np.arange(n_bar) / (n_bar - 1)\n",
    "        self.xi = (np.arange(n_bar + 1) - 0.5) / (n_bar - 1)\n",
    "\n",
    "        self.lambda_kh = self.get_lambda_kh(self.n_bar)\n",
    "\n",
    "        self.w_k_j = self.get_w_k_j(self.n_bar, self.N)\n",
    "        self.W_L_k_kh = self.get_W_L_k_kh(self.n_bar, self.N)\n",
    "        self.W_k_kh = self.get_W_k_kh(self.n_bar, self.N)\n",
    "        self.W_R_k_kh = self.get_W_R_k_kh(self.n_bar, self.N)\n",
    "\n",
    "    def Lagrange_j(self, j):\n",
    "        x = sympy.Symbol(\"x\")\n",
    "        L_x = 1.0\n",
    "        for l in range(self.n_bar):\n",
    "            if l != j:\n",
    "                L_x *= (x - self.s_l[l]) / (self.s_l[j] - self.s_l[l])\n",
    "        return sympy.integrate(L_x)\n",
    "\n",
    "    def get_lambda_kh(self, n_bar):\n",
    "        lambda_kh = np.ones(n_bar)\n",
    "        lambda_kh[0] = np.sqrt(1 / 2)\n",
    "        return lambda_kh\n",
    "\n",
    "    def get_w_k_j(self, n_bar, N):\n",
    "        L_j = np.zeros((n_bar, N))\n",
    "        x = sympy.Symbol(\"x\")\n",
    "        for j in range(n_bar):\n",
    "            temp = []\n",
    "            Lj = self.Lagrange_j(j)\n",
    "            for k in range(N):\n",
    "                temp.append(Lj.subs(x, self.x_l[k]))\n",
    "            L_j[j] = np.array(temp)\n",
    "\n",
    "        w_k_j = np.zeros((n_bar, N))\n",
    "        for j in range(n_bar):\n",
    "            w_k_j[j] = scipy.fftpack.dct(L_j[j], norm=\"ortho\")\n",
    "        return w_k_j\n",
    "\n",
    "    def get_W_L_k_kh(self, n_bar, N):\n",
    "        W_L_k_kh = np.zeros((n_bar - 1, N))\n",
    "        lambda_kh = self.get_lambda_kh(n_bar)\n",
    "\n",
    "        for kh in range(n_bar - 1):\n",
    "            W_L_k_kh[kh] = (\n",
    "                (1 - n_bar)\n",
    "                * np.sqrt(2 / N)\n",
    "                * lambda_kh[kh]\n",
    "                * np.cos(np.pi * kh * (self.xi[0] + 1))\n",
    "                * self.w_k_j[0]\n",
    "            )\n",
    "        return W_L_k_kh\n",
    "\n",
    "    def get_W_k_kh(self, n_bar, N):\n",
    "        W_k_kh = np.zeros((n_bar - 1, N))\n",
    "        for kh in range(n_bar - 1):\n",
    "            sum_sin = np.zeros(N)\n",
    "            for j in range(1, n_bar - 2 + 1):\n",
    "                sum_sin += np.sin(np.pi * kh * self.s_l[j]) * self.w_k_j[j]\n",
    "\n",
    "            W_k_kh[kh] = (\n",
    "                (n_bar - 1)\n",
    "                * np.sqrt(2 / N)\n",
    "                * self.lambda_kh[kh]\n",
    "                * (\n",
    "                    np.cos(np.pi * kh * self.xi[1])\n",
    "                    * (self.w_k_j[0] - (-1) ** (kh) * self.w_k_j[n_bar - 1])\n",
    "                    - 2 * np.sin((np.pi * kh) / (2 * (n_bar - 1))) * sum_sin\n",
    "                )\n",
    "            )\n",
    "        return W_k_kh\n",
    "\n",
    "    def get_W_R_k_kh(self, n_bar, N):\n",
    "        W_R_k_kh = np.zeros((n_bar - 1, N))\n",
    "        for kh in range(n_bar - 1):\n",
    "            W_R_k_kh[kh] = (\n",
    "                (n_bar - 1)\n",
    "                * np.sqrt(2 / N)\n",
    "                * self.lambda_kh[kh]\n",
    "                * np.cos(np.pi * kh * (self.xi[n_bar] - 1))\n",
    "                * self.w_k_j[n_bar - 1]\n",
    "            )\n",
    "        return W_R_k_kh"
   ]
  },
  {
   "cell_type": "code",
   "execution_count": 6,
   "metadata": {},
   "outputs": [],
   "source": [
    "def get_F_L_k_horizontal(arr, N, row, col):\n",
    "    # w\n",
    "    if col == 0:\n",
    "        w_block = np.zeros(N)\n",
    "    else:\n",
    "        w_block = arr[row, (col - 1) * N : col * N]\n",
    "\n",
    "    return w_block"
   ]
  },
  {
   "cell_type": "code",
   "execution_count": 7,
   "metadata": {},
   "outputs": [],
   "source": [
    "def get_F_R_k_horizontal(arr, N, row, col):\n",
    "    # e\n",
    "    if col == arr.shape[1] // N - 1:\n",
    "        e_block = np.zeros(N)\n",
    "    else:\n",
    "        e_block = arr[row, (col + 1) * N : (col + 2) * N]\n",
    "\n",
    "    return e_block"
   ]
  },
  {
   "cell_type": "code",
   "execution_count": 8,
   "metadata": {},
   "outputs": [],
   "source": [
    "def get_F_L_k_vertical(arr, N, row, col):\n",
    "    # n\n",
    "    if row == 0:\n",
    "        n_block = np.zeros(N)\n",
    "    else:\n",
    "        n_block = arr[(row - 1) * N : row * N, col]\n",
    "\n",
    "    return n_block"
   ]
  },
  {
   "cell_type": "code",
   "execution_count": 9,
   "metadata": {},
   "outputs": [],
   "source": [
    "def get_F_R_k_vertical(arr, N, row, col):\n",
    "    # s\n",
    "    if row == arr.shape[0] // N - 1:\n",
    "        s_block = np.zeros(N)\n",
    "    else:\n",
    "        s_block = arr[(row + 1) * N : (row + 2) * N, col]\n",
    "\n",
    "    return s_block"
   ]
  },
  {
   "cell_type": "code",
   "execution_count": 10,
   "metadata": {},
   "outputs": [],
   "source": [
    "# dmlct = DMLCT(n_bar, N)"
   ]
  },
  {
   "cell_type": "code",
   "execution_count": 21,
   "metadata": {},
   "outputs": [],
   "source": [
    "IMG = TEST19\n",
    "# IMG = ImageLoader(MONO_DIR_PATH + \"LENNA.bmp\")"
   ]
  },
  {
   "cell_type": "code",
   "execution_count": 22,
   "metadata": {},
   "outputs": [],
   "source": [
    "Fk = np.zeros(IMG.img.shape)"
   ]
  },
  {
   "cell_type": "markdown",
   "metadata": {},
   "source": [
    "# 順変換"
   ]
  },
  {
   "cell_type": "markdown",
   "metadata": {},
   "source": [
    "## 縦方向"
   ]
  },
  {
   "cell_type": "markdown",
   "metadata": {},
   "source": [
    "### DCT"
   ]
  },
  {
   "cell_type": "code",
   "execution_count": 23,
   "metadata": {},
   "outputs": [],
   "source": [
    "for row in range(IMG.img.shape[0] // N):\n",
    "    for col in range(IMG.img.shape[1]):\n",
    "        eight_points = IMG.img[N * row : N * (row + 1), col]\n",
    "        c = scipy.fftpack.dct(eight_points, norm=\"ortho\")\n",
    "        Fk[N * row : N * (row + 1), col] = c"
   ]
  },
  {
   "cell_type": "markdown",
   "metadata": {},
   "source": [
    "### 残差"
   ]
  },
  {
   "cell_type": "code",
   "execution_count": 24,
   "metadata": {},
   "outputs": [],
   "source": [
    "dmlct = DMLCT(n_bar, N)\n",
    "for row in range(IMG.img.shape[0] // N):\n",
    "    for col in range(IMG.img.shape[1]):\n",
    "        # ビューなら直接いじっちゃう\n",
    "        F = Fk[N * row : N * (row + 1), col]\n",
    "        F_L = get_F_L_k_vertical(Fk, N, row, col)\n",
    "        F_R = get_F_R_k_vertical(Fk, N, row, col)\n",
    "\n",
    "        U_k_n_bar = np.zeros(N)\n",
    "        for kh in range(n_bar - 2 + 1):\n",
    "            U_k_n_bar += (\n",
    "                F_L[kh] * dmlct.W_L_k_kh[kh]\n",
    "                + F[kh] * dmlct.W_k_kh[kh]\n",
    "                + F_R[kh] * dmlct.W_R_k_kh[kh]\n",
    "            )\n",
    "\n",
    "        # n_bar = 4 なら 0,1,2は残す 3,4,5,6,7を書き換える\n",
    "        F[n_bar - 2 + 1 :] -= U_k_n_bar[n_bar - 2 + 1 :]"
   ]
  },
  {
   "cell_type": "code",
   "execution_count": 25,
   "metadata": {},
   "outputs": [],
   "source": [
    "# 0を残す\n",
    "for k in reversed(range(1, n_bar - 2 + 1)):\n",
    "    dmlct = DMLCT(k+1, N)\n",
    "    for row in range(IMG.img.shape[0] // N):\n",
    "        for col in range(IMG.img.shape[1]):\n",
    "            # ビューなら直接いじっちゃう\n",
    "            F = Fk[N * row : N * (row + 1), col]\n",
    "            F_L = get_F_L_k_vertical(Fk, N, row, col)\n",
    "            F_R = get_F_R_k_vertical(Fk, N, row, col)\n",
    "\n",
    "            U_k_n_bar = np.zeros(N)\n",
    "\n",
    "            for kh in range((k + 1) - 2 + 1):\n",
    "                U_k_n_bar += (\n",
    "                    F_L[kh] * dmlct.W_L_k_kh[kh]\n",
    "                    + F[kh] * dmlct.W_k_kh[kh]\n",
    "                    + F_R[kh] * dmlct.W_R_k_kh[kh]\n",
    "                )\n",
    "\n",
    "            F[k] -= U_k_n_bar[k]"
   ]
  },
  {
   "cell_type": "markdown",
   "metadata": {},
   "source": [
    "## 横方向"
   ]
  },
  {
   "cell_type": "markdown",
   "metadata": {},
   "source": [
    "### DCT"
   ]
  },
  {
   "cell_type": "code",
   "execution_count": 26,
   "metadata": {},
   "outputs": [],
   "source": [
    "for row in range(Fk.shape[0]):\n",
    "    for col in range(Fk.shape[1] // N):\n",
    "        eight_points = Fk[row, N * col : N * (col + 1)]\n",
    "        c = scipy.fftpack.dct(eight_points, norm=\"ortho\")\n",
    "        Fk[row, N * col : N * (col + 1)] = c"
   ]
  },
  {
   "cell_type": "markdown",
   "metadata": {},
   "source": [
    "### 残差"
   ]
  },
  {
   "cell_type": "code",
   "execution_count": 27,
   "metadata": {},
   "outputs": [],
   "source": [
    "dmlct = DMLCT(n_bar, N)\n",
    "for row in range(IMG.img.shape[0]):\n",
    "    for col in range(IMG.img.shape[1] // N):\n",
    "        F = Fk[row, N * col : N * (col + 1)]\n",
    "        F_L = get_F_L_k_horizontal(Fk, N, row, col)\n",
    "        F_R = get_F_R_k_horizontal(Fk, N, row, col)\n",
    "\n",
    "        U_k_n_bar = np.zeros(N)\n",
    "        for kh in range(n_bar - 2 + 1):\n",
    "            U_k_n_bar += (\n",
    "                F_L[kh] * dmlct.W_L_k_kh[kh]\n",
    "                + F[kh] * dmlct.W_k_kh[kh]\n",
    "                + F_R[kh] * dmlct.W_R_k_kh[kh]\n",
    "            )\n",
    "\n",
    "        # n_bar = 4 なら 0,1,2は残す 3,4,5,6,7を書き換える\n",
    "        F[n_bar - 2 + 1 :] -= U_k_n_bar[n_bar - 2 + 1 :]"
   ]
  },
  {
   "cell_type": "code",
   "execution_count": 28,
   "metadata": {},
   "outputs": [],
   "source": [
    "# 0を残す\n",
    "for k in reversed(range(1, n_bar - 2 + 1)):\n",
    "    dmlct = DMLCT(k+1, N)\n",
    "    for row in range(IMG.img.shape[0]):\n",
    "        for col in range(IMG.img.shape[1] // N):\n",
    "            F = Fk[row, N * col : N * (col + 1)]\n",
    "            F_L = get_F_L_k_horizontal(Fk, N, row, col)\n",
    "            F_R = get_F_R_k_horizontal(Fk, N, row, col)\n",
    "\n",
    "            U_k_n_bar = np.zeros(N)\n",
    "\n",
    "            for kh in range((k + 1) - 2 + 1):\n",
    "                U_k_n_bar += (\n",
    "                    F_L[kh] * dmlct.W_L_k_kh[kh]\n",
    "                    + F[kh] * dmlct.W_k_kh[kh]\n",
    "                    + F_R[kh] * dmlct.W_R_k_kh[kh]\n",
    "                )\n",
    "\n",
    "            F[k] -= U_k_n_bar[k]"
   ]
  },
  {
   "cell_type": "code",
   "execution_count": 18,
   "metadata": {},
   "outputs": [
    {
     "name": "stderr",
     "output_type": "stream",
     "text": [
      "findfont: Font family ['Source Han Sans JP'] not found. Falling back to DejaVu Sans.\n"
     ]
    },
    {
     "data": {
      "image/png": "[encoded data removed]",
      "text/plain": [
       "<Figure size 432x288 with 1 Axes>"
      ]
     },
     "metadata": {
      "needs_background": "light"
     },
     "output_type": "display_data"
    }
   ],
   "source": [
    "plt.imshow(Fk)\n",
    "pd.DataFrame(Fk).to_csv(\"DMLCT_coef.csv\",header=False,index=False)"
   ]
  },
  {
   "cell_type": "markdown",
   "metadata": {},
   "source": [
    "# 係数の確保"
   ]
  },
  {
   "cell_type": "code",
   "execution_count": 29,
   "metadata": {},
   "outputs": [],
   "source": [
    "Fk_Ori = np.copy(Fk)"
   ]
  },
  {
   "cell_type": "markdown",
   "metadata": {},
   "source": [
    "# 逆変換"
   ]
  },
  {
   "cell_type": "code",
   "execution_count": 20,
   "metadata": {},
   "outputs": [],
   "source": [
    "recover = np.zeros(IMG.img.shape)"
   ]
  },
  {
   "cell_type": "markdown",
   "metadata": {},
   "source": [
    "## 横方向"
   ]
  },
  {
   "cell_type": "markdown",
   "metadata": {},
   "source": [
    "### 残差"
   ]
  },
  {
   "cell_type": "code",
   "execution_count": 21,
   "metadata": {},
   "outputs": [],
   "source": [
    "for k in range(1, n_bar - 2 + 1):\n",
    "    dmlct = DMLCT(k+1, N)\n",
    "    for row in range(IMG.img.shape[0]):\n",
    "        for col in range(IMG.img.shape[1] // N):\n",
    "            F = Fk[row, N * col : N * (col + 1)]\n",
    "            F_L = get_F_L_k_horizontal(Fk, N, row, col)\n",
    "            F_R = get_F_R_k_horizontal(Fk, N, row, col)\n",
    "\n",
    "            U_k_n_bar = np.zeros(N)\n",
    "            for kh in range((k + 1) - 2 + 1):\n",
    "                U_k_n_bar += (\n",
    "                    F_L[kh] * dmlct.W_L_k_kh[kh]\n",
    "                    + F[kh] * dmlct.W_k_kh[kh]\n",
    "                    + F_R[kh] * dmlct.W_R_k_kh[kh]\n",
    "                )\n",
    "\n",
    "            F[k] += U_k_n_bar[k]"
   ]
  },
  {
   "cell_type": "code",
   "execution_count": 22,
   "metadata": {},
   "outputs": [],
   "source": [
    "dmlct = DMLCT(n_bar, N)\n",
    "for row in range(IMG.img.shape[0]):\n",
    "    for col in range(IMG.img.shape[1] // N):\n",
    "        F = Fk[row, N * col : N * (col + 1)]\n",
    "        F_L = get_F_L_k_horizontal(Fk, N, row, col)\n",
    "        F_R = get_F_R_k_horizontal(Fk, N, row, col)\n",
    "\n",
    "        U_k_n_bar = np.zeros(N)\n",
    "        for kh in range(n_bar - 2 + 1):\n",
    "            U_k_n_bar += (\n",
    "                F_L[kh] * dmlct.W_L_k_kh[kh]\n",
    "                + F[kh] * dmlct.W_k_kh[kh]\n",
    "                + F_R[kh] * dmlct.W_R_k_kh[kh]\n",
    "            )\n",
    "\n",
    "        # n_bar = 4 なら 0,1,2は残す 3,4,5,6,7を書き換える\n",
    "        F[n_bar - 2 + 1 :] += U_k_n_bar[n_bar - 2 + 1 :]"
   ]
  },
  {
   "cell_type": "markdown",
   "metadata": {},
   "source": [
    "### IDCT"
   ]
  },
  {
   "cell_type": "code",
   "execution_count": 23,
   "metadata": {},
   "outputs": [],
   "source": [
    "for row in range(Fk.shape[0]):\n",
    "    for col in range(Fk.shape[1] // N):\n",
    "        F = Fk[row, N * col : N * col + N]\n",
    "        data = scipy.fftpack.idct(F, norm=\"ortho\")\n",
    "        # Fkに代入した後、縦方向に対して処理\n",
    "        Fk[row, N * col : N * col + N] = data"
   ]
  },
  {
   "cell_type": "markdown",
   "metadata": {},
   "source": [
    "## 縦方向"
   ]
  },
  {
   "cell_type": "markdown",
   "metadata": {},
   "source": [
    "### 残差"
   ]
  },
  {
   "cell_type": "code",
   "execution_count": 24,
   "metadata": {},
   "outputs": [],
   "source": [
    "for k in range(1, n_bar - 2 + 1):\n",
    "    dmlct = DMLCT(k+1, N)\n",
    "    for row in range(IMG.img.shape[0] // N):\n",
    "        for col in range(IMG.img.shape[1]):\n",
    "            # ビューなら直接いじっちゃう\n",
    "            F = Fk[N * row : N * (row + 1), col]\n",
    "            F_L = get_F_L_k_vertical(Fk, N, row, col)\n",
    "            F_R = get_F_R_k_vertical(Fk, N, row, col)\n",
    "\n",
    "            U_k_n_bar = np.zeros(N)\n",
    "\n",
    "            for kh in range((k + 1) - 2 + 1):\n",
    "                U_k_n_bar += (\n",
    "                    F_L[kh] * dmlct.W_L_k_kh[kh]\n",
    "                    + F[kh] * dmlct.W_k_kh[kh]\n",
    "                    + F_R[kh] * dmlct.W_R_k_kh[kh]\n",
    "                )\n",
    "\n",
    "            F[k] += U_k_n_bar[k]"
   ]
  },
  {
   "cell_type": "code",
   "execution_count": 25,
   "metadata": {},
   "outputs": [],
   "source": [
    "dmlct = DMLCT(n_bar, N)\n",
    "for row in range(IMG.img.shape[0] // N):\n",
    "    for col in range(IMG.img.shape[1]):\n",
    "        # ビューなら直接いじっちゃう\n",
    "        F = Fk[N * row : N * (row + 1), col]\n",
    "        F_L = get_F_L_k_vertical(Fk, N, row, col)\n",
    "        F_R = get_F_R_k_vertical(Fk, N, row, col)\n",
    "\n",
    "        U_k_n_bar = np.zeros(N)\n",
    "        for kh in range(n_bar - 2 + 1):\n",
    "            U_k_n_bar += (\n",
    "                F_L[kh] * dmlct.W_L_k_kh[kh]\n",
    "                + F[kh] * dmlct.W_k_kh[kh]\n",
    "                + F_R[kh] * dmlct.W_R_k_kh[kh]\n",
    "            )\n",
    "\n",
    "        # n_bar = 4 なら 0,1,2は残す 3,4,5,6,7を書き換える\n",
    "        F[n_bar - 2 + 1 :] += U_k_n_bar[n_bar - 2 + 1 :]"
   ]
  },
  {
   "cell_type": "markdown",
   "metadata": {},
   "source": [
    "### IDCT"
   ]
  },
  {
   "cell_type": "code",
   "execution_count": 26,
   "metadata": {},
   "outputs": [],
   "source": [
    "for row in range(Fk.shape[0] // N):\n",
    "    for col in range(Fk.shape[1]):\n",
    "        F = Fk[N * row : N * (row + 1), col]\n",
    "        data = scipy.fftpack.idct(F, norm=\"ortho\")\n",
    "        # 復元画像\n",
    "        recover[N * row : N * (row + 1), col] = data"
   ]
  },
  {
   "cell_type": "code",
   "execution_count": 27,
   "metadata": {},
   "outputs": [
    {
     "data": {
      "text/plain": [
       "<matplotlib.image.AxesImage at 0x19f7e554588>"
      ]
     },
     "execution_count": 27,
     "metadata": {},
     "output_type": "execute_result"
    },
    {
     "data": {
      "image/png": "[encoded data removed]",
      "text/plain": [
       "<Figure size 432x288 with 1 Axes>"
      ]
     },
     "metadata": {
      "needs_background": "light"
     },
     "output_type": "display_data"
    }
   ],
   "source": [
    "plt.imshow(recover.astype(\"u8\"), cmap=\"gray\")"
   ]
  },
  {
   "cell_type": "markdown",
   "metadata": {},
   "source": [
    "もどった...！"
   ]
  },
  {
   "cell_type": "markdown",
   "metadata": {},
   "source": [
    "# 量子化テーブル"
   ]
  },
  {
   "cell_type": "code",
   "execution_count": 30,
   "metadata": {},
   "outputs": [
    {
     "name": "stdout",
     "output_type": "stream",
     "text": [
      "S= 0.199727202244219\n",
      "19.62890625 41.215009130196975 0.9511193335059884 2193.979736328125 1793.5458374023438\n",
      "S= 0.25136456854456013\n",
      "16.11328125 41.75415127986648 0.9541589661119337 2227.496337890625 1800.2572631835938\n",
      "S= 0.2997845284669925\n",
      "13.96484375 42.1830901885578 0.9568110570516517 2281.503173828125 1798.34228515625\n",
      "S= 0.3481255740112027\n",
      "12.40234375 42.56516473238911 0.958922255890613 2313.206298828125 1806.0742797851562\n",
      "S= 0.40385336631440066\n",
      "11.03515625 42.969380212528 0.9612311915143462 2329.4066162109375 1812.4041748046875\n",
      "S= 0.45417709926896\n",
      "10.05859375 43.30813073622336 0.9631994748405183 2341.5361328125 1801.4276123046875\n",
      "S= 0.5026747275637253\n",
      "9.27734375 43.61768815369093 0.9647986561081231 2347.521240234375 1807.9462890625\n",
      "S= 0.5449434682108133\n",
      "8.69140625 43.88218640929363 0.9661140838363831 2346.4407958984375 1798.4208984375\n",
      "S= 0.593920373258015\n",
      "8.10546875 44.172665410372154 0.9676774217068751 2347.974853515625 1791.1203002929688\n",
      "S= 0.6493320831080767\n",
      "7.51953125 44.49763793930441 0.9692596200005864 2334.6629638671875 1783.9329833984375\n",
      "S= 0.6915666306955465\n",
      "7.12890625 44.73491099657501 0.9703796977531056 2334.9476318359375 1788.4570922851562\n",
      "S= 0.7382297976128602\n",
      "6.73828125 44.991433414529666 0.9716289775255424 2324.759765625 1789.2376098632812\n",
      "S= 0.7896857127253337\n",
      "6.34765625 45.27415643471373 0.9728000443217176 2305.6619873046875 1788.4635009765625\n"
     ]
    }
   ],
   "source": [
    "bpp = np.arange(0.2,0.8,0.05)\n",
    "Q_Fk = np.zeros(Fk.shape)\n",
    "for i in bpp:\n",
    "    low = 0\n",
    "    high = 100\n",
    "    for j in range(10):\n",
    "        mid = (low + high)/2\n",
    "        \n",
    "        Q = mid\n",
    "        Q_Luminance = np.ones((N,N)) * Q\n",
    "\n",
    "        Fk = np.copy(Fk_Ori)\n",
    "        Q_Fk = np.zeros(Fk.shape)\n",
    "        for row in range(IMG.img.shape[0] // N):\n",
    "            for col in range(IMG.img.shape[1] // N):\n",
    "                block = Fk[row * N : (row + 1) * N, col * N : (col + 1) * N]\n",
    "                # 量子化\n",
    "                block = np.round(block / Q_Luminance)\n",
    "                # 逆量子化\n",
    "                block = block * Q_Luminance\n",
    "                Q_Fk[row * N : (row+1)*N, col * N : (col+1)*N] = block\n",
    "                \n",
    "        qfk = pd.Series(Q_Fk.flatten())\n",
    "        pro = qfk.value_counts() / qfk.value_counts().sum()\n",
    "        S = 0\n",
    "        for pi in pro:\n",
    "            S -= pi * np.log2(pi)\n",
    "            \n",
    "        if S < i:\n",
    "            high = mid\n",
    "        elif S > i:\n",
    "            low = mid  \n",
    "            \n",
    "    Fk = np.copy(Q_Fk)\n",
    "    Q_recover = np.zeros(Q_Fk.shape)\n",
    "    # 横方向\n",
    "    # 残差\n",
    "    for k in range(1, n_bar - 2 + 1):\n",
    "        dmlct = DMLCT(k+1, N)\n",
    "        for row in range(IMG.img.shape[0]):\n",
    "            for col in range(IMG.img.shape[1] // N):\n",
    "                F = Fk[row, N * col : N * (col + 1)]\n",
    "                F_L = get_F_L_k_horizontal(Fk, N, row, col)\n",
    "                F_R = get_F_R_k_horizontal(Fk, N, row, col)\n",
    "\n",
    "                U_k_n_bar = np.zeros(N)\n",
    "                for kh in range((k + 1) - 2 + 1):\n",
    "                    U_k_n_bar += (\n",
    "                        F_L[kh] * dmlct.W_L_k_kh[kh]\n",
    "                        + F[kh] * dmlct.W_k_kh[kh]\n",
    "                        + F_R[kh] * dmlct.W_R_k_kh[kh]\n",
    "                    )\n",
    "\n",
    "                F[k] += U_k_n_bar[k]\n",
    "\n",
    "    dmlct = DMLCT(n_bar, N)\n",
    "    for row in range(IMG.img.shape[0]):\n",
    "        for col in range(IMG.img.shape[1] // N):\n",
    "            F = Fk[row, N * col : N * (col + 1)]\n",
    "            F_L = get_F_L_k_horizontal(Fk, N, row, col)\n",
    "            F_R = get_F_R_k_horizontal(Fk, N, row, col)\n",
    "\n",
    "            U_k_n_bar = np.zeros(N)\n",
    "            for kh in range(n_bar - 2 + 1):\n",
    "                U_k_n_bar += (\n",
    "                    F_L[kh] * dmlct.W_L_k_kh[kh]\n",
    "                    + F[kh] * dmlct.W_k_kh[kh]\n",
    "                    + F_R[kh] * dmlct.W_R_k_kh[kh]\n",
    "                )\n",
    "\n",
    "            # n_bar = 4 なら 0,1,2は残す 3,4,5,6,7を書き換える\n",
    "            F[n_bar - 2 + 1 :] += U_k_n_bar[n_bar - 2 + 1 :]\n",
    "    ### IDCT\n",
    "    for row in range(Fk.shape[0]):\n",
    "        for col in range(Fk.shape[1] // N):\n",
    "            F = Fk[row, N * col : N * col + N]\n",
    "            data = scipy.fftpack.idct(F, norm=\"ortho\")\n",
    "            # Fkに代入した後、縦方向に対して処理\n",
    "            Fk[row, N * col : N * col + N] = data\n",
    "\n",
    "    ## 縦方向\n",
    "    ### 残差\n",
    "    for k in range(1, n_bar - 2 + 1):\n",
    "        dmlct = DMLCT(k+1, N)\n",
    "        for row in range(IMG.img.shape[0] // N):\n",
    "            for col in range(IMG.img.shape[1]):\n",
    "                # ビューなら直接いじっちゃう\n",
    "                F = Fk[N * row : N * (row + 1), col]\n",
    "                F_L = get_F_L_k_vertical(Fk, N, row, col)\n",
    "                F_R = get_F_R_k_vertical(Fk, N, row, col)\n",
    "\n",
    "                U_k_n_bar = np.zeros(N)\n",
    "\n",
    "                for kh in range((k + 1) - 2 + 1):\n",
    "                    U_k_n_bar += (\n",
    "                        F_L[kh] * dmlct.W_L_k_kh[kh]\n",
    "                        + F[kh] * dmlct.W_k_kh[kh]\n",
    "                        + F_R[kh] * dmlct.W_R_k_kh[kh]\n",
    "                    )\n",
    "\n",
    "                F[k] += U_k_n_bar[k]\n",
    "\n",
    "    dmlct = DMLCT(n_bar, N)\n",
    "    for row in range(IMG.img.shape[0] // N):\n",
    "        for col in range(IMG.img.shape[1]):\n",
    "            # ビューなら直接いじっちゃう\n",
    "            F = Fk[N * row : N * (row + 1), col]\n",
    "            F_L = get_F_L_k_vertical(Fk, N, row, col)\n",
    "            F_R = get_F_R_k_vertical(Fk, N, row, col)\n",
    "\n",
    "            U_k_n_bar = np.zeros(N)\n",
    "            for kh in range(n_bar - 2 + 1):\n",
    "                U_k_n_bar += (\n",
    "                    F_L[kh] * dmlct.W_L_k_kh[kh]\n",
    "                    + F[kh] * dmlct.W_k_kh[kh]\n",
    "                    + F_R[kh] * dmlct.W_R_k_kh[kh]\n",
    "                )\n",
    "\n",
    "            # n_bar = 4 なら 0,1,2は残す 3,4,5,6,7を書き換える\n",
    "            F[n_bar - 2 + 1 :] += U_k_n_bar[n_bar - 2 + 1 :]\n",
    "\n",
    "    ### IDCT\n",
    "    for row in range(Fk.shape[0] // N):\n",
    "        for col in range(Fk.shape[1]):\n",
    "            F = Fk[N * row : N * (row + 1), col]\n",
    "            data = scipy.fftpack.idct(F, norm=\"ortho\")\n",
    "            # 復元画像\n",
    "            Q_recover[N * row : N * (row + 1), col] = data\n",
    "\n",
    "    Q_recover = np.round(Q_recover)\n",
    "\n",
    "    MSE = np.sum(np.sum(np.power((IMG.img - Q_recover),2)))/(Q_recover.shape[0] * Q_recover.shape[1])\n",
    "    PSNR = 10 * np.log10(255 * 255 / MSE)\n",
    "    MSSIM = ssim(IMG.img,Q_recover.astype(IMG.img.dtype),gaussian_weights=True,sigma=1.5,K1=0.01,K2=0.03)\n",
    "    MSDSt, MSDS1, MSDS2 = msds(N,Q_recover)\n",
    "    print(\"S=\",S)\n",
    "    print(Q,PSNR,MSSIM,MSDS1,MSDS2)"
   ]
  },
  {
   "cell_type": "code",
   "execution_count": null,
   "metadata": {},
   "outputs": [],
   "source": []
  }
 ],
 "metadata": {
  "kernelspec": {
   "display_name": "Python 3",
   "language": "python",
   "name": "python3"
  },
  "language_info": {
   "codemirror_mode": {
    "name": "ipython",
    "version": 3
   },
   "file_extension": ".py",
   "mimetype": "text/x-python",
   "name": "python",
   "nbconvert_exporter": "python",
   "pygments_lexer": "ipython3",
   "version": "3.6.7"
  }
 },
 "nbformat": 4,
 "nbformat_minor": 4
}
