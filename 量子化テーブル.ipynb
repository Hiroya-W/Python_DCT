{
 "cells": [
  {
   "cell_type": "markdown",
   "metadata": {},
   "source": [
    "# 量子化テーブル"
   ]
  },
  {
   "cell_type": "markdown",
   "metadata": {},
   "source": [
    "JPEG委員会が提案？している量子化テーブルをほとんどが使用している  \n",
    "スケーリングは、以下の式をもちいて行われる"
   ]
  },
  {
   "cell_type": "markdown",
   "metadata": {},
   "source": [
    "http://www.ie.u-ryukyu.ac.jp/~wada/kousen_SigCom11/SigComHandout8.pdf"
   ]
  },
  {
   "cell_type": "code",
   "execution_count": 1,
   "metadata": {},
   "outputs": [],
   "source": [
    "import numpy as np"
   ]
  },
  {
   "cell_type": "code",
   "execution_count": 2,
   "metadata": {},
   "outputs": [],
   "source": [
    "Q50_Luminance = \\\n",
    "np.array([[16, 11, 10, 16, 24, 40, 51, 61],\n",
    "         [12, 12, 14, 19, 26, 58, 60, 55],\n",
    "         [14, 13, 16, 24, 40, 57, 69, 56],\n",
    "         [14, 17, 22, 29, 51, 87, 80, 62],\n",
    "         [18, 22, 37, 56, 68,109,103, 77],\n",
    "         [24, 35, 55, 64, 81,104,113, 92],\n",
    "         [49, 64, 78, 87,103,121,120,101],\n",
    "         [72, 92, 95, 98,112,100,103, 99]])"
   ]
  },
  {
   "cell_type": "code",
   "execution_count": 3,
   "metadata": {},
   "outputs": [],
   "source": [
    "Q50_Chrominance = \\\n",
    "np.array([[17, 18, 24, 47, 99, 99, 99, 99],\n",
    "         [18, 21, 26, 66, 99, 99, 99, 99],\n",
    "         [24, 26, 56, 99, 99, 99, 99, 99],\n",
    "         [47, 66, 99, 99, 99, 99, 99, 99],\n",
    "         [99, 99, 99, 99, 99, 99, 99, 99],\n",
    "         [99, 99, 99, 99, 99, 99, 99, 99],\n",
    "         [99, 99, 99, 99, 99, 99, 99, 99],\n",
    "         [99, 99, 99, 99, 99, 99, 99, 99]])"
   ]
  },
  {
   "cell_type": "markdown",
   "metadata": {},
   "source": [
    "$$\n",
    "S = (Q < 50)?\\frac{5000}{Q}:200-2Q\\\\\n",
    "Q_s[i] = \\left[\\frac{S\\times Q_b[i]+50}{100}\\right]\n",
    "$$"
   ]
  },
  {
   "cell_type": "code",
   "execution_count": 7,
   "metadata": {},
   "outputs": [],
   "source": [
    "# Q=80における量子化テーブルをスケーリング\n",
    "Q = 80\n",
    "if Q < 50:\n",
    "    S = 5000 / Q\n",
    "else:\n",
    "    S = 200-2*Q\n",
    "    \n",
    "S = np.floor(S)\n",
    "\n",
    "Q80_Luminance = np.zeros((8,8))\n",
    "Q80_Chrominance = np.zeros((8,8))\n",
    "for i in range(8):\n",
    "    for j in range(8):\n",
    "        Q80_Luminance[i,j] = np.floor((S * Q50_Luminance[i,j]+50)/100)\n",
    "        Q80_Chrominance[i,j] = np.floor((S * Q50_Chrominance[i,j]+50)/100)"
   ]
  },
  {
   "cell_type": "code",
   "execution_count": 8,
   "metadata": {},
   "outputs": [
    {
     "data": {
      "text/plain": [
       "array([[ 6.,  4.,  4.,  6., 10., 16., 20., 24.],\n",
       "       [ 5.,  5.,  6.,  8., 10., 23., 24., 22.],\n",
       "       [ 6.,  5.,  6., 10., 16., 23., 28., 22.],\n",
       "       [ 6.,  7.,  9., 12., 20., 35., 32., 25.],\n",
       "       [ 7.,  9., 15., 22., 27., 44., 41., 31.],\n",
       "       [10., 14., 22., 26., 32., 42., 45., 37.],\n",
       "       [20., 26., 31., 35., 41., 48., 48., 40.],\n",
       "       [29., 37., 38., 39., 45., 40., 41., 40.]])"
      ]
     },
     "execution_count": 8,
     "metadata": {},
     "output_type": "execute_result"
    }
   ],
   "source": [
    "Q80_Luminance"
   ]
  },
  {
   "cell_type": "code",
   "execution_count": 9,
   "metadata": {},
   "outputs": [
    {
     "data": {
      "text/plain": [
       "array([[ 7.,  7., 10., 19., 40., 40., 40., 40.],\n",
       "       [ 7.,  8., 10., 26., 40., 40., 40., 40.],\n",
       "       [10., 10., 22., 40., 40., 40., 40., 40.],\n",
       "       [19., 26., 40., 40., 40., 40., 40., 40.],\n",
       "       [40., 40., 40., 40., 40., 40., 40., 40.],\n",
       "       [40., 40., 40., 40., 40., 40., 40., 40.],\n",
       "       [40., 40., 40., 40., 40., 40., 40., 40.],\n",
       "       [40., 40., 40., 40., 40., 40., 40., 40.]])"
      ]
     },
     "execution_count": 9,
     "metadata": {},
     "output_type": "execute_result"
    }
   ],
   "source": [
    "Q80_Chrominance"
   ]
  },
  {
   "cell_type": "code",
   "execution_count": null,
   "metadata": {},
   "outputs": [],
   "source": []
  }
 ],
 "metadata": {
  "kernelspec": {
   "display_name": "Python 3",
   "language": "python",
   "name": "python3"
  },
  "language_info": {
   "codemirror_mode": {
    "name": "ipython",
    "version": 3
   },
   "file_extension": ".py",
   "mimetype": "text/x-python",
   "name": "python",
   "nbconvert_exporter": "python",
   "pygments_lexer": "ipython3",
   "version": "3.6.8"
  }
 },
 "nbformat": 4,
 "nbformat_minor": 4
}
