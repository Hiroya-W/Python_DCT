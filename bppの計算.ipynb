{
 "cells": [
  {
   "cell_type": "code",
   "execution_count": 1,
   "metadata": {},
   "outputs": [],
   "source": [
    "import cv2"
   ]
  },
  {
   "cell_type": "code",
   "execution_count": 47,
   "metadata": {},
   "outputs": [],
   "source": [
    "def imgEncodeDecode(in_imgs, ch, quality=5):\n",
    "    \"\"\"\n",
    "    入力された画像リストを圧縮する\n",
    "    [in]  in_imgs:  入力画像リスト\n",
    "    [in]  ch:       出力画像リストのチャンネル数 （OpenCV形式）\n",
    "    [in]  quality:  圧縮する品質 (1-100)\n",
    "    [out] out_imgs: 出力画像リスト\n",
    "    \"\"\"\n",
    "\n",
    "    encode_param = [int(cv2.IMWRITE_JPEG_QUALITY), quality]\n",
    "    out_imgs = []\n",
    "\n",
    "    for img in in_imgs:\n",
    "        result, encimg = cv2.imencode('.jpg', img, encode_param)\n",
    "        print(len(encimg) * 8 / 512 ** 2)\n",
    "#         print(len(encimg))\n",
    "        if False == result:\n",
    "            print('could not encode image!')\n",
    "            exit()\n",
    "\n",
    "        decimg = cv2.imdecode(encimg, ch)\n",
    "        out_imgs.append(decimg)\n",
    "\n",
    "    return out_imgs"
   ]
  },
  {
   "cell_type": "code",
   "execution_count": 49,
   "metadata": {},
   "outputs": [
    {
     "name": "stdout",
     "output_type": "stream",
     "text": [
      "0.18316650390625\n"
     ]
    },
    {
     "data": {
      "text/plain": [
       "True"
      ]
     },
     "execution_count": 49,
     "metadata": {},
     "output_type": "execute_result"
    }
   ],
   "source": [
    "ch = 1\n",
    "img = cv2.imread(\"Mono/airplane512.bmp\")\n",
    "img = imgEncodeDecode([img], ch, 2)\n",
    "cv2.imwrite('test.jpg', img[0])"
   ]
  },
  {
   "cell_type": "code",
   "execution_count": null,
   "metadata": {},
   "outputs": [],
   "source": []
  },
  {
   "cell_type": "code",
   "execution_count": null,
   "metadata": {},
   "outputs": [],
   "source": []
  }
 ],
 "metadata": {
  "kernelspec": {
   "display_name": "Python 3",
   "language": "python",
   "name": "python3"
  },
  "language_info": {
   "codemirror_mode": {
    "name": "ipython",
    "version": 3
   },
   "file_extension": ".py",
   "mimetype": "text/x-python",
   "name": "python",
   "nbconvert_exporter": "python",
   "pygments_lexer": "ipython3",
   "version": "3.6.8"
  }
 },
 "nbformat": 4,
 "nbformat_minor": 4
}
