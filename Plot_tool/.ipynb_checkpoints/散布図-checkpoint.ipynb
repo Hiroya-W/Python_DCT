{
 "cells": [
  {
   "cell_type": "markdown",
   "metadata": {},
   "source": [
    "# 散布図"
   ]
  },
  {
   "cell_type": "code",
   "execution_count": 53,
   "metadata": {},
   "outputs": [],
   "source": [
    "%matplotlib inline"
   ]
  },
  {
   "cell_type": "code",
   "execution_count": 54,
   "metadata": {},
   "outputs": [],
   "source": [
    "import numpy as np\n",
    "import matplotlib.pyplot as plt\n",
    "import pandas as pd\n",
    "import os"
   ]
  },
  {
   "cell_type": "code",
   "execution_count": 55,
   "metadata": {},
   "outputs": [],
   "source": [
    "from matplotlib import font_manager\n",
    "font_manager._rebuild()"
   ]
  },
  {
   "cell_type": "code",
   "execution_count": 56,
   "metadata": {},
   "outputs": [],
   "source": [
    "# os.getcwd()"
   ]
  },
  {
   "cell_type": "code",
   "execution_count": 57,
   "metadata": {},
   "outputs": [],
   "source": [
    "counter = 0"
   ]
  },
  {
   "cell_type": "code",
   "execution_count": 58,
   "metadata": {},
   "outputs": [],
   "source": [
    "df = pd.read_csv(\"csv/high_voltage.csv\", encoding=\"UTF-8\")"
   ]
  },
  {
   "cell_type": "code",
   "execution_count": 59,
   "metadata": {},
   "outputs": [
    {
     "data": {
      "text/html": [
       "<div>\n",
       "<style scoped>\n",
       "    .dataframe tbody tr th:only-of-type {\n",
       "        vertical-align: middle;\n",
       "    }\n",
       "\n",
       "    .dataframe tbody tr th {\n",
       "        vertical-align: top;\n",
       "    }\n",
       "\n",
       "    .dataframe thead th {\n",
       "        text-align: right;\n",
       "    }\n",
       "</style>\n",
       "<table border=\"1\" class=\"dataframe\">\n",
       "  <thead>\n",
       "    <tr style=\"text-align: right;\">\n",
       "      <th></th>\n",
       "      <th>d</th>\n",
       "      <th>vk</th>\n",
       "      <th>vc</th>\n",
       "    </tr>\n",
       "  </thead>\n",
       "  <tbody>\n",
       "    <tr>\n",
       "      <th>0</th>\n",
       "      <td>30</td>\n",
       "      <td>26.59</td>\n",
       "      <td>26.8</td>\n",
       "    </tr>\n",
       "    <tr>\n",
       "      <th>1</th>\n",
       "      <td>20</td>\n",
       "      <td>18.34</td>\n",
       "      <td>18.3</td>\n",
       "    </tr>\n",
       "    <tr>\n",
       "      <th>2</th>\n",
       "      <td>15</td>\n",
       "      <td>14.14</td>\n",
       "      <td>14.4</td>\n",
       "    </tr>\n",
       "    <tr>\n",
       "      <th>3</th>\n",
       "      <td>10</td>\n",
       "      <td>9.85</td>\n",
       "      <td>10.3</td>\n",
       "    </tr>\n",
       "  </tbody>\n",
       "</table>\n",
       "</div>"
      ],
      "text/plain": [
       "    d     vk    vc\n",
       "0  30  26.59  26.8\n",
       "1  20  18.34  18.3\n",
       "2  15  14.14  14.4\n",
       "3  10   9.85  10.3"
      ]
     },
     "execution_count": 59,
     "metadata": {},
     "output_type": "execute_result"
    }
   ],
   "source": [
    "df.head()"
   ]
  },
  {
   "cell_type": "code",
   "execution_count": 60,
   "metadata": {},
   "outputs": [],
   "source": [
    "x1 = df[\"d\"]"
   ]
  },
  {
   "cell_type": "code",
   "execution_count": 61,
   "metadata": {},
   "outputs": [],
   "source": [
    "y1 = df[\"vk\"]"
   ]
  },
  {
   "cell_type": "code",
   "execution_count": 46,
   "metadata": {},
   "outputs": [],
   "source": [
    "x2 = df[\"pin_d\"]"
   ]
  },
  {
   "cell_type": "code",
   "execution_count": 62,
   "metadata": {},
   "outputs": [],
   "source": [
    "y2 = df[\"vc\"]"
   ]
  },
  {
   "cell_type": "code",
   "execution_count": 48,
   "metadata": {},
   "outputs": [],
   "source": [
    "x3 = df[\"plate_d\"]"
   ]
  },
  {
   "cell_type": "code",
   "execution_count": 49,
   "metadata": {},
   "outputs": [],
   "source": [
    "y3 = df[\"plate_v\"]"
   ]
  },
  {
   "cell_type": "code",
   "execution_count": 50,
   "metadata": {},
   "outputs": [],
   "source": [
    "# ycos = df[\"cosx\"]"
   ]
  },
  {
   "cell_type": "code",
   "execution_count": 63,
   "metadata": {},
   "outputs": [
    {
     "name": "stdout",
     "output_type": "stream",
     "text": [
      "output_0.png\n"
     ]
    },
    {
     "data": {
      "image/png": "[encoded data removed]",
      "text/plain": [
       "<Figure size 396x360 with 1 Axes>"
      ]
     },
     "metadata": {
      "needs_background": "light"
     },
     "output_type": "display_data"
    }
   ],
   "source": [
    "# plt.rcParams[\"font.family\"] = \"Source Han Code JP\"\n",
    "# plt.rcParams['font.family'] ='sans-serif', \"IPAexGothic\"#使用するフォント\n",
    "plt.rcParams[\"font.sans-serif\"] = \"IPAexGothic\"\n",
    "plt.rcParams['xtick.direction'] = 'in'#x軸の目盛線が内向き('in')か外向き('out')か双方向か('inout')\n",
    "plt.rcParams['ytick.direction'] = 'in'#y軸の目盛線が内向き('in')か外向き('out')か双方向か('inout')\n",
    "plt.rcParams['xtick.major.width'] = 1.0#x軸主目盛り線の線幅\n",
    "plt.rcParams['ytick.major.width'] = 1.0#y軸主目盛り線の線幅\n",
    "plt.rcParams['font.size'] = 12 #フォントの大きさ\n",
    "plt.rcParams['axes.linewidth'] = 1.0# 軸の線幅edge linewidth。囲みの太さ\n",
    "plt.figure(figsize=(5.5,5))\n",
    "# 軸の目盛り\n",
    "plt.gca().yaxis.set_tick_params(which='both', direction='in',bottom=True, top=False, left=True, right=False)\n",
    "# plt.gca().yaxis.set_major_formatter(plt.FormatStrFormatter('%.3f'))#y軸小数点以下3桁表示\n",
    "# plt.gca().xaxis.get_major_formatter().set_useOffset(False) # 軸の数字にオフセット(+1.05e9 など)を使わずに表現する\n",
    "# plt.rcParams[\"xtick.labelsize\"] = 12\n",
    "# plt.rcParams[\"ytick.labelsize\"] = 12\n",
    "# plt.rcParams[\"legend.fontsize\"] = 12\n",
    "# plt.plot(x,y2,\"-\",label=\"Theoretical value\")\n",
    "plt.scatter(x1,y1,label=\"充電電圧 理論値\",marker=\".\")\n",
    "plt.scatter(x1,y2,label=\"充電電圧 実験値\" ,marker=\".\")\n",
    "# plt.scatter(x3,y3,label=\"平板-平板電極\" ,marker=\".\")\n",
    "plt.plot(x1,y1,\"-\",linestyle=\"dotted\")\n",
    "plt.plot(x1,y2,\"-\",linestyle=\"dotted\")\n",
    "# plt.plot(x3,y3,\"-\",linestyle=\"dotted\")\n",
    "# plt.plot(x1,y2,\"-\",linestyle=\"dotted\")\n",
    "# plt.plot(x3,y3,\"-\",label=\"平板-平板電極\")\n",
    "# plt.plot(x1,y2,\"-\",label=\"補正放電電圧 Vk\",linestyle='dashed')\n",
    "# plt.plot(x3,y3,\"-\",label=\"m=12,ΔT=0.0025\",linestyle='dashdot')\n",
    "# plt.plot(x,y3,\"s-\",label=\"3 term\")\n",
    "# plt.plot(x,ycos,\"+-\",label=\"cos x\")\n",
    "\n",
    "\n",
    "plt.xlabel(\"ギャップ長[mm]\")\n",
    "plt.ylabel(\"充電電圧[kV]\")\n",
    "# plt.xlim(0,1)\n",
    "# plt.ylabel(\"angle[rad]\")\n",
    "plt.legend()\n",
    "\n",
    "plt.tight_layout()#グラフが重ならず，設定した図のサイズ内に収まる。\n",
    "# plt.savefig('figname.pdf', transparent=True)\n",
    "# plt.savefig('cos_taylor.png', transparent=True, dpi=300)\n",
    "plt.savefig('output_' + str(counter) + '.png',dpi=300)\n",
    "print(\"output_\" + str(counter) + \".png\")\n",
    "counter += 1"
   ]
  },
  {
   "cell_type": "markdown",
   "metadata": {},
   "source": [
    "## 2軸表示のグラフ"
   ]
  },
  {
   "cell_type": "code",
   "execution_count": 16,
   "metadata": {},
   "outputs": [
    {
     "name": "stderr",
     "output_type": "stream",
     "text": [
      "/home/hiroya/Documents/Jupyter-Notebook/.venv/lib/python3.6/site-packages/ipykernel_launcher.py:15: MatplotlibDeprecationWarning: Adding an axes using the same arguments as a previous axes currently reuses the earlier instance.  In a future version, a new instance will always be created and returned.  Meanwhile, this warning can be suppressed, and the future behavior ensured, by passing a unique label to each axes instance.\n",
      "  from ipykernel import kernelapp as app\n"
     ]
    },
    {
     "ename": "NameError",
     "evalue": "name 'x' is not defined",
     "output_type": "error",
     "traceback": [
      "\u001b[0;31m---------------------------------------------------------------------------\u001b[0m",
      "\u001b[0;31mNameError\u001b[0m                                 Traceback (most recent call last)",
      "\u001b[0;32m<ipython-input-16-59f76b4983ed>\u001b[0m in \u001b[0;36m<module>\u001b[0;34m\u001b[0m\n\u001b[1;32m     14\u001b[0m \u001b[0;31m# 1軸目\u001b[0m\u001b[0;34m\u001b[0m\u001b[0;34m\u001b[0m\u001b[0;34m\u001b[0m\u001b[0m\n\u001b[1;32m     15\u001b[0m \u001b[0max1\u001b[0m \u001b[0;34m=\u001b[0m \u001b[0mfig\u001b[0m\u001b[0;34m.\u001b[0m\u001b[0madd_subplot\u001b[0m\u001b[0;34m(\u001b[0m\u001b[0;36m111\u001b[0m\u001b[0;34m)\u001b[0m\u001b[0;34m\u001b[0m\u001b[0;34m\u001b[0m\u001b[0m\n\u001b[0;32m---> 16\u001b[0;31m \u001b[0mln1\u001b[0m \u001b[0;34m=\u001b[0m \u001b[0max1\u001b[0m\u001b[0;34m.\u001b[0m\u001b[0mplot\u001b[0m\u001b[0;34m(\u001b[0m\u001b[0mx\u001b[0m\u001b[0;34m,\u001b[0m\u001b[0my1\u001b[0m\u001b[0;34m,\u001b[0m\u001b[0;34m\"-\"\u001b[0m\u001b[0;34m,\u001b[0m\u001b[0mlabel\u001b[0m\u001b[0;34m=\u001b[0m\u001b[0;34m\"Theta Euler method\"\u001b[0m\u001b[0;34m)\u001b[0m\u001b[0;34m\u001b[0m\u001b[0;34m\u001b[0m\u001b[0m\n\u001b[0m\u001b[1;32m     17\u001b[0m \u001b[0;31m# 2軸目\u001b[0m\u001b[0;34m\u001b[0m\u001b[0;34m\u001b[0m\u001b[0;34m\u001b[0m\u001b[0m\n\u001b[1;32m     18\u001b[0m \u001b[0max2\u001b[0m \u001b[0;34m=\u001b[0m \u001b[0max1\u001b[0m\u001b[0;34m.\u001b[0m\u001b[0mtwinx\u001b[0m\u001b[0;34m(\u001b[0m\u001b[0;34m)\u001b[0m\u001b[0;34m\u001b[0m\u001b[0;34m\u001b[0m\u001b[0m\n",
      "\u001b[0;31mNameError\u001b[0m: name 'x' is not defined"
     ]
    },
    {
     "data": {
      "image/png": "[encoded data removed]",
      "text/plain": [
       "<Figure size 417.6x396 with 1 Axes>"
      ]
     },
     "metadata": {
      "needs_background": "light"
     },
     "output_type": "display_data"
    }
   ],
   "source": [
    "plt.rcParams['font.family'] ='sans-serif'#使用するフォント\n",
    "plt.rcParams['xtick.direction'] = 'in'#x軸の目盛線が内向き('in')か外向き('out')か双方向か('inout')\n",
    "plt.rcParams['ytick.direction'] = 'in'#y軸の目盛線が内向き('in')か外向き('out')か双方向か('inout')\n",
    "plt.rcParams['xtick.major.width'] = 1.0#x軸主目盛り線の線幅\n",
    "plt.rcParams['ytick.major.width'] = 1.0#y軸主目盛り線の線幅\n",
    "plt.rcParams['font.size'] = 12 #フォントの大きさ\n",
    "plt.rcParams['axes.linewidth'] = 1.0# 軸の線幅edge linewidth。囲みの太さ\n",
    "fig = plt.figure(figsize=(5.8,5.5))\n",
    "# fig = plt.figure(figsize=(5.8,5))\n",
    "\n",
    "# 軸の目盛り\n",
    "plt.gca().yaxis.set_tick_params(which='both', direction='in',bottom=True, top=False, left=True, right=False)\n",
    "\n",
    "# 1軸目\n",
    "ax1 = fig.add_subplot(111)\n",
    "ln1 = ax1.plot(x,y1,\"-\",label=\"Theta Euler method\")\n",
    "# 2軸目\n",
    "ax2 = ax1.twinx()\n",
    "ln2 = ax2.plot(x,y2,\"-\",label=\"Omega Euler method\",color=\"orange\")\n",
    "# 凡例\n",
    "h1, l1 = ax1.get_legend_handles_labels()\n",
    "h2, l2 = ax2.get_legend_handles_labels()\n",
    "ax1.legend(h1+h2, l1+l2,bbox_to_anchor=(0, 1), loc='lower left')\n",
    "# ax1.legend(h1+h2, l1+l2)\n",
    "# 軸の名前\n",
    "ax1.set_xlabel(\"time\")\n",
    "ax1.set_ylabel(\"angle[rad]\")\n",
    "ax2.set_ylabel(\"angular velocity[rad/s]\")\n",
    "\n",
    "plt.tight_layout()#グラフが重ならず，設定した図のサイズ内に収まる。\n",
    "\n",
    "plt.savefig('output_' + str(counter) + '.png',dpi=300)\n",
    "print(\"output\" + str(counter) + \".png\")\n",
    "counter += 1"
   ]
  },
  {
   "cell_type": "code",
   "execution_count": null,
   "metadata": {},
   "outputs": [],
   "source": []
  }
 ],
 "metadata": {
  "kernelspec": {
   "display_name": "Python 3",
   "language": "python",
   "name": "python3"
  },
  "language_info": {
   "codemirror_mode": {
    "name": "ipython",
    "version": 3
   },
   "file_extension": ".py",
   "mimetype": "text/x-python",
   "name": "python",
   "nbconvert_exporter": "python",
   "pygments_lexer": "ipython3",
   "version": "3.6.8"
  }
 },
 "nbformat": 4,
 "nbformat_minor": 4
}
