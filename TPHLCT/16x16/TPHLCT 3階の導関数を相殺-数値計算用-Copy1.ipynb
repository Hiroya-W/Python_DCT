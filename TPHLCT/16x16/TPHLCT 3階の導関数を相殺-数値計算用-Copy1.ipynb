{
 "cells": [
  {
   "cell_type": "markdown",
   "metadata": {},
   "source": [
    "# TPHLCT 3階の導関数を相殺する"
   ]
  },
  {
   "cell_type": "code",
   "execution_count": 1,
   "metadata": {},
   "outputs": [],
   "source": [
    "import numpy as np\n",
    "import scipy.misc\n",
    "from scipy.fftpack import dct, idct\n",
    "import sys\n",
    "from PIL import Image\n",
    "import matplotlib\n",
    "import matplotlib.pyplot as plt\n",
    "import random\n",
    "from tqdm._tqdm_notebook import tqdm_notebook\n",
    "from scipy.fftpack import dct, idct\n",
    "import seaborn as sns\n",
    "from skimage.metrics import structural_similarity as ssim\n",
    "import pandas as pd\n",
    "\n",
    "%matplotlib inline\n",
    "\n",
    "\n",
    "class ImageLoader:\n",
    "    def __init__(self, FILE_PATH):\n",
    "        self.img = np.array(Image.open(FILE_PATH))\n",
    "        # 行数\n",
    "        self.row_blocks_count = self.img.shape[0] // 8\n",
    "        # 列数\n",
    "        self.col_blocks_count = self.img.shape[1] // 8\n",
    "\n",
    "    def get_points(self, POINT):\n",
    "        Row = random.randint(0, len(self.img) - POINT - 1)\n",
    "        Col = random.randint(0, len(self.img) - 1)\n",
    "        return self.img[Row : Row + POINT, Col]\n",
    "\n",
    "    def get_block(self, col, row):\n",
    "        return self.img[col * 8 : (col + 1) * 8, row * 8 : (row + 1) * 8]\n",
    "\n",
    "\n",
    "# plt.rcParams['font.family'] ='sans-serif'#使用するフォント\n",
    "# plt.rcParams[\"font.sans-serif\"] = \"Source Han Sans\"\n",
    "plt.rcParams[\"font.family\"] = \"Source Han Sans JP\"  # 使用するフォント\n",
    "plt.rcParams[\"xtick.direction\"] = \"in\"  # x軸の目盛線が内向き('in')か外向き('out')か双方向か('inout')\n",
    "plt.rcParams[\"ytick.direction\"] = \"in\"  # y軸の目盛線が内向き('in')か外向き('out')か双方向か('inout')\n",
    "plt.rcParams[\"xtick.major.width\"] = 1.0  # x軸主目盛り線の線幅\n",
    "plt.rcParams[\"ytick.major.width\"] = 1.0  # y軸主目盛り線の線幅\n",
    "plt.rcParams[\"font.size\"] = 12  # フォントの大きさ\n",
    "plt.rcParams[\"axes.linewidth\"] = 1.0  # 軸の線幅edge linewidth。囲みの太さ\n",
    "matplotlib.font_manager._rebuild()\n",
    "\n",
    "MONO_DIR_PATH = \"../../Mono/\"\n",
    "AIRPLANE = ImageLoader(MONO_DIR_PATH + \"airplane512.bmp\")\n",
    "BARBARA = ImageLoader(MONO_DIR_PATH + \"barbara512.bmp\")\n",
    "BOAT = ImageLoader(MONO_DIR_PATH + \"boat512.bmp\")\n",
    "GOLDHILL = ImageLoader(MONO_DIR_PATH + \"goldhill512.bmp\")\n",
    "LENNA = ImageLoader(MONO_DIR_PATH + \"lenna512.bmp\")\n",
    "MANDRILL = ImageLoader(MONO_DIR_PATH + \"mandrill512.bmp\")\n",
    "MILKDROP = ImageLoader(MONO_DIR_PATH + \"milkdrop512.bmp\")\n",
    "SAILBOAT = ImageLoader(MONO_DIR_PATH + \"sailboat512.bmp\")\n",
    "\n",
    "N = 16"
   ]
  },
  {
   "cell_type": "markdown",
   "metadata": {
    "toc-hr-collapsed": false
   },
   "source": [
    "# DCT"
   ]
  },
  {
   "cell_type": "markdown",
   "metadata": {},
   "source": [
    "## 基底関数"
   ]
  },
  {
   "cell_type": "markdown",
   "metadata": {},
   "source": [
    "$$\n",
    "\\phi_k[i] = \\begin{cases}\n",
    "\\cfrac{1}{\\sqrt{N}}  \\quad \\quad \\quad (k=0) \\\\\n",
    "\\sqrt{\\cfrac{2}{N}} \\cos \\left({\\cfrac{\\pi}{2N}(2i+1)k}\\right) \\quad  (k=1,2,...,N-1) \n",
    "\\end{cases}\n",
    "$$"
   ]
  },
  {
   "cell_type": "code",
   "execution_count": 2,
   "metadata": {},
   "outputs": [],
   "source": [
    "class DCT:\n",
    "    def __init__(self, N):\n",
    "        self.N = N  # データ数\n",
    "        # 1次元DCTの基底ベクトルの生成\n",
    "        self.phi_1d = np.array([self.phi(i) for i in range(self.N)])\n",
    "        # 2次元DCTの基底ベクトルの格納\n",
    "        self.phi_2d = np.zeros((N, N))\n",
    "\n",
    "    def phi(self, k):\n",
    "        \"\"\" 離散コサイン変換(DCT)の基底関数 \"\"\"\n",
    "        # DCT-II\n",
    "        if k == 0:\n",
    "            return np.ones(self.N) / np.sqrt(self.N)\n",
    "        else:\n",
    "            return np.sqrt(2.0 / self.N) * np.cos(\n",
    "                (k * np.pi / (2 * self.N)) * (np.arange(self.N) * 2 + 1)\n",
    "            )\n",
    "\n",
    "    def dct(self, data):\n",
    "        \"\"\" 1次元離散コサイン変換を行う \"\"\"\n",
    "        return self.phi_1d.dot(data)\n",
    "\n",
    "    def idct(self, c):\n",
    "        \"\"\" 1次元離散コサイン逆変換を行う \"\"\"\n",
    "        return np.sum(self.phi_1d.T * c, axis=1)\n",
    "\n",
    "    def get_dct2_phi(self, y, x):\n",
    "        \"\"\" 2次元離散コサイン変換の基底を返す \"\"\"\n",
    "        phi_x, phi_y = np.meshgrid(self.phi_1d[x], self.phi_1d[y])\n",
    "        return phi_x * phi_y\n",
    "\n",
    "    def get_dct2(self, y, x, data):\n",
    "        \"\"\" i,jの2次元DCT係数を返す \"\"\"\n",
    "        phi_2d_phi = np.zeros((self.N, self.N))\n",
    "        phi_2d_phi = self.get_dct2_phi(y, x)\n",
    "        return np.sum(np.sum(phi_2d_phi * data))\n",
    "\n",
    "    def dct2(self, data):\n",
    "        \"\"\" 2次元離散コサイン変換を行う \"\"\"\n",
    "        for y in range(self.N):\n",
    "            for x in range(self.N):\n",
    "                self.phi_2d[y, x] = self.get_dct2(y, x, data)\n",
    "\n",
    "        return self.phi_2d\n",
    "\n",
    "    def idct2(self, c):\n",
    "        \"\"\" 2次元離散コサイン逆変換を行う \"\"\"\n",
    "        idct2_data = np.zeros((self.N, self.N))\n",
    "        phi_2d_phi = np.zeros((self.N, self.N))\n",
    "        for y in range(self.N):\n",
    "            for x in range(self.N):\n",
    "                phi_2d_phi = self.get_dct2_phi(y, x)\n",
    "                idct2_data += c[y,x] * phi_2d_phi\n",
    "\n",
    "        return idct2_data"
   ]
  },
  {
   "cell_type": "markdown",
   "metadata": {},
   "source": [
    "# MSDS"
   ]
  },
  {
   "cell_type": "code",
   "execution_count": 3,
   "metadata": {},
   "outputs": [],
   "source": [
    "def msds(N,arr):\n",
    "    w_e = 0\n",
    "    e_e = 0\n",
    "    n_e = 0\n",
    "    s_e = 0\n",
    "    nw_e = 0\n",
    "    ne_e = 0\n",
    "    sw_e = 0\n",
    "    se_e = 0\n",
    "    for row in range(arr.shape[0] // N):\n",
    "        for col in range(arr.shape[1] // N):\n",
    "            f_block = arr[row * N : (row + 1) * N, col * N : (col + 1) * N]\n",
    "            # w\n",
    "            if col == 0:\n",
    "                w_block = np.fliplr(f_block)\n",
    "            else:\n",
    "                w_block = arr[row * N : (row + 1) * N, (col - 1) * N : col * N]\n",
    "            # e\n",
    "            if col == arr.shape[1] // N - 1:\n",
    "                e_block = np.fliplr(f_block)\n",
    "            else:\n",
    "                e_block = arr[row * N : (row + 1) * N, (col + 1) * N : (col + 2) * N]\n",
    "            # n\n",
    "            if row == 0:\n",
    "                n_block = np.flipud(f_block)\n",
    "            else:\n",
    "                n_block = arr[(row - 1) * N : row * N, col * N : (col + 1) * N]\n",
    "            # s\n",
    "            if row == arr.shape[0] // N - 1:\n",
    "                s_block = np.flipud(f_block)\n",
    "            else:\n",
    "                s_block = arr[(row + 1) * N : (row + 2) * N, col * N : (col + 1) * N]\n",
    "\n",
    "            w_d1 = f_block[:, 0] - w_block[:, N-1]\n",
    "            e_d1 = f_block[:, N-1] - e_block[:, 0]\n",
    "            n_d1 = f_block[0, :] - n_block[N-1, :]\n",
    "            s_d1 = f_block[N-1, :] - s_block[0, :]\n",
    "\n",
    "            w_d2 = (w_block[:, N-1] - w_block[:, N-2] + f_block[:, 1] - f_block[:, 0]) / 2\n",
    "            e_d2 = (e_block[:, 1] - e_block[:, 0] + f_block[:, N-1] - f_block[:, N-2]) / 2\n",
    "            n_d2 = (n_block[N-1, :] - n_block[N-2, :] + f_block[1, :] - f_block[0, :]) / 2\n",
    "            s_d2 = (s_block[1, :] - s_block[0, :] + f_block[N-1, :] - f_block[N-2, :]) / 2\n",
    "\n",
    "            w_e += np.sum((w_d1 - w_d2) ** 2 )\n",
    "            e_e += np.sum((e_d1 - e_d2) ** 2 )\n",
    "            n_e += np.sum((n_d1 - n_d2) ** 2)\n",
    "            s_e += np.sum((s_d1 - s_d2) ** 2)\n",
    "\n",
    "            # nw\n",
    "            if row == 0 or col == 0:\n",
    "                nw_block = np.flipud(np.fliplr(f_block))\n",
    "            else:\n",
    "                nw_block = arr[(row - 1) * N : row * N, (col - 1) * N : col * N]\n",
    "            # ne\n",
    "            if row == 0 or col == arr.shape[1] // N - 1:\n",
    "                ne_block = np.flipud(np.fliplr(f_block))\n",
    "            else:\n",
    "                ne_block = arr[(row-1) * N : row * N, (col + 1) * N : (col + 2) * N]\n",
    "            # sw\n",
    "            if row == arr.shape[0] // N -1 or col == 0:\n",
    "                sw_block = np.flipud(np.fliplr(f_block))\n",
    "            else:\n",
    "                sw_block = arr[row * N : (row+1) * N, (col-1) * N : col * N]\n",
    "            # se\n",
    "            if  row == arr.shape[0]//N-1 or col == arr.shape[0] // N -1:\n",
    "                se_block = np.flipud(np.fliplr(f_block))\n",
    "            else:\n",
    "                se_block = arr[(row + 1) * N : (row + 2) * N, (col+1) * N : (col + 2) * N]\n",
    "\n",
    "            nw_g1 = f_block[0, 0] - nw_block[N-1, N-1]\n",
    "            ne_g1 = f_block[0, N-1] - ne_block[N-1, 0]\n",
    "            sw_g1 = f_block[N-1, 0] - sw_block[0, N-1]\n",
    "            se_g1 = f_block[N-1, N-1] - se_block[0, 0]\n",
    "\n",
    "            nw_g2 = (nw_block[N-1,N-1] - nw_block[N-2,N-2] + f_block[1,1] - f_block[0,0])/2\n",
    "            ne_g2 = (ne_block[N-1,0] - ne_block[N-2,1] + f_block[1,N-2] - f_block[0,N-1])/2\n",
    "            sw_g2 = (sw_block[0,N-1] - nw_block[1,N-2] + f_block[N-2,1] - f_block[N-1,0])/2\n",
    "            se_g2 = (nw_block[0,0] - nw_block[1,1] + f_block[N-2,N-2] - f_block[N-1,N-1])/2\n",
    "\n",
    "            nw_e += (nw_g1 - nw_g2) ** 2 \n",
    "            ne_e += (ne_g1 - ne_g2) ** 2 \n",
    "            sw_e += (sw_g1 - sw_g2) ** 2 \n",
    "            se_e += (se_g1 - se_g2) ** 2 \n",
    "\n",
    "    MSDSt = (w_e + e_e + n_e + s_e + nw_e + ne_e + sw_e + se_e)/ ((arr.shape[0]/N)**2)\n",
    "    MSDS1 = (w_e + e_e + n_e + s_e)/ ((arr.shape[0]/N)**2)\n",
    "    MSDS2 = (nw_e + ne_e + sw_e + se_e)/ ((arr.shape[0]/N)**2)\n",
    "    return MSDSt, MSDS1, MSDS2"
   ]
  },
  {
   "cell_type": "markdown",
   "metadata": {},
   "source": [
    "# 係数の計算"
   ]
  },
  {
   "cell_type": "markdown",
   "metadata": {},
   "source": [
    "$\\alpha_k, \\beta_k$を計算する。  \n",
    "1階導関数を相殺するような予測関数は \n",
    "$$u(x)=-\\frac{f_x(0)}{2}(1-x^2)+\\frac{f_x(1)}{2}x^2$$\n",
    "で与えられる。  \n",
    "\n",
    "そのとき、   \n",
    "$$\\alpha_k = -\\sqrt{\\frac{2}{N}}\\sum_{\\ell=0}^{N-1}\\frac{(1-x_\\ell)^2}{2}\\cos(\\pi k x_\\ell)$$  \n",
    "$$\\beta_k = \\sqrt{\\frac{2}{N}}\\sum_{\\ell=0}^{N-1}\\frac{x_\\ell^2}{2}\\cos(\\pi k x_\\ell)$$  \n",
    "\n",
    "$a_k, b_k, c_k, d_k$を計算する。  \n",
    "3階導関数を相殺するような予測関数は \n",
    "$$\n",
    "\\begin{align}\n",
    "u(x) & =( -\\frac{1}{2}f_x(0) + \\frac{1}{12}f^{(3)}_x(0) )(1-x^2)\\\\\n",
    "     & -\\frac{1}{24}f^{(3)}_x(0)(1-x)^4\\\\\n",
    "     & +( \\frac{1}{2}f_x(1)-\\frac{1}{12}f^{(3)}_x(1) )x^2\\\\\n",
    "     & + \\frac{1}{24}f^{(3)}_x(1)x^4\n",
    "\\end{align}\n",
    "$$\n",
    "で与えられる。  \n",
    "\n",
    "そのとき、   \n",
    "$$a_k = -\\sqrt{\\frac{2}{N}}\\sum_{\\ell=0}^{N-1}\\frac{(1-x_\\ell)^2}{2}\\cos(\\pi k x_\\ell)$$  \n",
    "\n",
    "$$b_k= \\sqrt{\\frac{2}{N}}\\sum_{\\ell=0}^{N-1}( \\frac{1}{24}-\\frac{x_\\ell^2}{6}+\\frac{x_\\ell^3}{6}-\\frac{x_\\ell^4}{24} )\\cos(\\pi k x_\\ell)$$  \n",
    "\n",
    "$$c_k = \\sqrt{\\frac{2}{N}}\\sum_{\\ell=0}^{N-1}\\frac{x_\\ell^2}{2}\\cos(\\pi k x_\\ell)$$\n",
    "\n",
    "$$d_k = \\sqrt{\\frac{2}{N}}\\sum_{\\ell=0}^{N-1}( -\\frac{x_\\ell^2}{12}+\\frac{x_\\ell^4}{24} )\\cos(\\pi k x_\\ell)$$  "
   ]
  },
  {
   "cell_type": "code",
   "execution_count": 4,
   "metadata": {},
   "outputs": [
    {
     "data": {
      "text/plain": [
       "<matplotlib.legend.Legend at 0x7fb049b62898>"
      ]
     },
     "execution_count": 4,
     "metadata": {},
     "output_type": "execute_result"
    },
    {
     "data": {
      "image/png": "[encoded data removed]",
      "text/plain": [
       "<Figure size 432x288 with 1 Axes>"
      ]
     },
     "metadata": {
      "needs_background": "light"
     },
     "output_type": "display_data"
    }
   ],
   "source": [
    "sampling_x = (0.5 + np.arange(N)) / N\n",
    "u_1 = (1 - sampling_x) ** 2 / 2\n",
    "u_2 = 1 / 24 - sampling_x ** 2 / 6 + sampling_x ** 3 / 6 - sampling_x ** 4 / 24\n",
    "u_3 = sampling_x ** 2 / 2\n",
    "u_4 = -sampling_x ** 2 / 12 + sampling_x ** 4 / 24\n",
    "plt.plot(u_1, label=\"u_1\")\n",
    "plt.plot(u_2, label=\"u_2\")\n",
    "plt.plot(u_3, label=\"u_3\")\n",
    "plt.plot(u_4, label=\"u_4\")\n",
    "plt.legend()"
   ]
  },
  {
   "cell_type": "code",
   "execution_count": 5,
   "metadata": {},
   "outputs": [
    {
     "data": {
      "text/plain": [
       "array([-6.66015625e-01, -5.72235345e-01, -1.42356572e-01, -6.27352552e-02,\n",
       "       -3.48506640e-02, -2.19246012e-02, -1.48813893e-02, -1.06106807e-02,\n",
       "       -7.81250000e-03, -5.86493057e-03, -4.43936892e-03, -3.34812741e-03,\n",
       "       -2.47676043e-03, -1.75117449e-03, -1.12037363e-03, -5.46725910e-04])"
      ]
     },
     "execution_count": 5,
     "metadata": {},
     "output_type": "execute_result"
    }
   ],
   "source": [
    "ak = - scipy.fftpack.dct(u_1,norm=\"ortho\")\n",
    "ak"
   ]
  },
  {
   "cell_type": "code",
   "execution_count": 6,
   "metadata": {},
   "outputs": [
    {
     "data": {
      "text/plain": [
       "array([7.77777036e-02, 5.80730594e-02, 3.62946361e-03, 7.16837860e-04,\n",
       "       2.26725367e-04, 9.27830699e-05, 4.46610568e-05, 2.40199717e-05,\n",
       "       1.39872233e-05, 8.63042295e-06, 5.54832686e-06, 3.65886073e-06,\n",
       "       2.43057806e-06, 1.58247439e-06, 9.55052288e-07, 4.50105928e-07])"
      ]
     },
     "execution_count": 6,
     "metadata": {},
     "output_type": "execute_result"
    }
   ],
   "source": [
    "bk = scipy.fftpack.dct(u_2,norm=\"ortho\")\n",
    "bk"
   ]
  },
  {
   "cell_type": "code",
   "execution_count": 7,
   "metadata": {},
   "outputs": [
    {
     "data": {
      "text/plain": [
       "array([ 6.66015625e-01, -5.72235345e-01,  1.42356572e-01, -6.27352552e-02,\n",
       "        3.48506640e-02, -2.19246012e-02,  1.48813893e-02, -1.06106807e-02,\n",
       "        7.81250000e-03, -5.86493057e-03,  4.43936892e-03, -3.34812741e-03,\n",
       "        2.47676043e-03, -1.75117449e-03,  1.12037363e-03, -5.46725910e-04])"
      ]
     },
     "execution_count": 7,
     "metadata": {},
     "output_type": "execute_result"
    }
   ],
   "source": [
    "ck = scipy.fftpack.dct(u_3,norm=\"ortho\")\n",
    "ck"
   ]
  },
  {
   "cell_type": "code",
   "execution_count": 8,
   "metadata": {},
   "outputs": [
    {
     "data": {
      "text/plain": [
       "array([-7.77777036e-02,  5.80730594e-02, -3.62946361e-03,  7.16837860e-04,\n",
       "       -2.26725367e-04,  9.27830699e-05, -4.46610568e-05,  2.40199717e-05,\n",
       "       -1.39872233e-05,  8.63042295e-06, -5.54832686e-06,  3.65886073e-06,\n",
       "       -2.43057806e-06,  1.58247439e-06, -9.55052288e-07,  4.50105928e-07])"
      ]
     },
     "execution_count": 8,
     "metadata": {},
     "output_type": "execute_result"
    }
   ],
   "source": [
    "dk = scipy.fftpack.dct(u_4,norm=\"ortho\")\n",
    "dk"
   ]
  },
  {
   "cell_type": "code",
   "execution_count": 9,
   "metadata": {},
   "outputs": [
    {
     "data": {
      "text/plain": [
       "array([-6.66015625e-01, -5.72235345e-01, -1.42356572e-01, -6.27352552e-02,\n",
       "       -3.48506640e-02, -2.19246012e-02, -1.48813893e-02, -1.06106807e-02,\n",
       "       -7.81250000e-03, -5.86493057e-03, -4.43936892e-03, -3.34812741e-03,\n",
       "       -2.47676043e-03, -1.75117449e-03, -1.12037363e-03, -5.46725910e-04])"
      ]
     },
     "execution_count": 9,
     "metadata": {},
     "output_type": "execute_result"
    }
   ],
   "source": [
    "alpha = ak\n",
    "alpha"
   ]
  },
  {
   "cell_type": "code",
   "execution_count": 10,
   "metadata": {},
   "outputs": [
    {
     "data": {
      "text/plain": [
       "array([ 6.66015625e-01, -5.72235345e-01,  1.42356572e-01, -6.27352552e-02,\n",
       "        3.48506640e-02, -2.19246012e-02,  1.48813893e-02, -1.06106807e-02,\n",
       "        7.81250000e-03, -5.86493057e-03,  4.43936892e-03, -3.34812741e-03,\n",
       "        2.47676043e-03, -1.75117449e-03,  1.12037363e-03, -5.46725910e-04])"
      ]
     },
     "execution_count": 10,
     "metadata": {},
     "output_type": "execute_result"
    }
   ],
   "source": [
    "beta = ck\n",
    "beta"
   ]
  },
  {
   "cell_type": "code",
   "execution_count": 11,
   "metadata": {},
   "outputs": [
    {
     "data": {
      "text/plain": [
       "array([-6.44118627e-01, -5.18409910e-01, -8.56961403e-02, -3.42349791e-02,\n",
       "       -1.83322335e-02, -1.13334329e-02, -7.61933886e-03, -5.40142024e-03,\n",
       "       -3.96219889e-03, -2.96698698e-03, -2.24187777e-03, -1.68869915e-03,\n",
       "       -1.24810253e-03, -8.81917144e-04, -5.64007025e-04, -2.75163379e-04])"
      ]
     },
     "execution_count": 11,
     "metadata": {},
     "output_type": "execute_result"
    }
   ],
   "source": [
    "Ak = (2 * ak - 16 * bk) / np.sqrt(N)\n",
    "Ak"
   ]
  },
  {
   "cell_type": "code",
   "execution_count": 12,
   "metadata": {},
   "outputs": [
    {
     "data": {
      "text/plain": [
       "array([ 6.44118627e-01, -5.18409910e-01,  8.56961403e-02, -3.42349791e-02,\n",
       "        1.83322335e-02, -1.13334329e-02,  7.61933886e-03, -5.40142024e-03,\n",
       "        3.96219889e-03, -2.96698698e-03,  2.24187777e-03, -1.68869915e-03,\n",
       "        1.24810253e-03, -8.81917144e-04,  5.64007025e-04, -2.75163379e-04])"
      ]
     },
     "execution_count": 12,
     "metadata": {},
     "output_type": "execute_result"
    }
   ],
   "source": [
    "Bk = (2 * ck - 16 * dk) / np.sqrt(N)\n",
    "Bk"
   ]
  },
  {
   "cell_type": "code",
   "execution_count": 13,
   "metadata": {},
   "outputs": [
    {
     "data": {
      "text/plain": [
       "array([-9.55229441e-01, -7.50702148e-01, -1.00213995e-01, -3.71023305e-02,\n",
       "       -1.92391349e-02, -1.17045652e-02, -7.79798309e-03, -5.49750012e-03,\n",
       "       -4.01814779e-03, -3.00150867e-03, -2.26407108e-03, -1.70333459e-03,\n",
       "       -1.25782484e-03, -8.88247042e-04, -5.67827235e-04, -2.76963802e-04])"
      ]
     },
     "execution_count": 13,
     "metadata": {},
     "output_type": "execute_result"
    }
   ],
   "source": [
    "Ck = (2 * ak - 32 * bk) / np.sqrt(N)\n",
    "Ck"
   ]
  },
  {
   "cell_type": "code",
   "execution_count": 14,
   "metadata": {},
   "outputs": [
    {
     "data": {
      "text/plain": [
       "array([ 9.55229441e-01, -7.50702148e-01,  1.00213995e-01, -3.71023305e-02,\n",
       "        1.92391349e-02, -1.17045652e-02,  7.79798309e-03, -5.49750012e-03,\n",
       "        4.01814779e-03, -3.00150867e-03,  2.26407108e-03, -1.70333459e-03,\n",
       "        1.25782484e-03, -8.88247042e-04,  5.67827235e-04, -2.76963802e-04])"
      ]
     },
     "execution_count": 14,
     "metadata": {},
     "output_type": "execute_result"
    }
   ],
   "source": [
    "Dk = (2 * ck - 32 * dk) / np.sqrt(N)\n",
    "Dk"
   ]
  },
  {
   "cell_type": "markdown",
   "metadata": {
    "toc-hr-collapsed": false
   },
   "source": [
    "# DCTして残差を計算"
   ]
  },
  {
   "cell_type": "markdown",
   "metadata": {},
   "source": [
    "$\n",
    "V_k = F_k - U_k\\\\\n",
    "V_k = F_k - A_k(F_0-F_0^L) -B_k(F_0^R-F_0)-C_k(F_1+F_1^L)-D_k(F_1^R+F_1)\n",
    "$"
   ]
  },
  {
   "cell_type": "code",
   "execution_count": 15,
   "metadata": {},
   "outputs": [],
   "source": [
    "IMG = SAILBOAT"
   ]
  },
  {
   "cell_type": "code",
   "execution_count": 16,
   "metadata": {},
   "outputs": [],
   "source": [
    "Fk = np.zeros(IMG.img.shape)"
   ]
  },
  {
   "cell_type": "markdown",
   "metadata": {
    "toc-hr-collapsed": false
   },
   "source": [
    "## DCT 縦方向"
   ]
  },
  {
   "cell_type": "markdown",
   "metadata": {},
   "source": [
    "2次元入力信号を垂直方向の一次元信号が水平方向に並列に並んでいるものとみなし、各列において8画素単位の1次元DCTを適用する"
   ]
  },
  {
   "cell_type": "code",
   "execution_count": 17,
   "metadata": {},
   "outputs": [],
   "source": [
    "for row in range(IMG.img.shape[0] // 16):\n",
    "    for col in range(IMG.img.shape[1]):\n",
    "        eight_points = IMG.img[16 * row : 16 * (row + 1), col]\n",
    "        c = scipy.fftpack.dct(eight_points,norm=\"ortho\")\n",
    "        Fk[16 * row : 16 * (row + 1), col] = c\n",
    "        "
   ]
  },
  {
   "cell_type": "markdown",
   "metadata": {},
   "source": [
    "## 縦方向の残差"
   ]
  },
  {
   "cell_type": "markdown",
   "metadata": {},
   "source": [
    "### 3階の導関数"
   ]
  },
  {
   "cell_type": "code",
   "execution_count": 18,
   "metadata": {},
   "outputs": [],
   "source": [
    "for row in range(Fk.shape[0] // 16):\n",
    "    for col in range(Fk.shape[1]):\n",
    "        F = Fk[16 * row : 16 * (row + 1), col]\n",
    "\n",
    "        F_0_r = 0\n",
    "        F_1_r = 0\n",
    "        if row is not Fk.shape[0] // 16 - 1:\n",
    "            F_0_r = Fk[16 * (row + 1), col]\n",
    "            F_1_r = Fk[16 * (row + 1) + 1, col]\n",
    "\n",
    "        F_0_l = 0\n",
    "        F_1_l = 1\n",
    "        if row is not 0:\n",
    "            F_0_l = Fk[16 * (row - 1), col]\n",
    "            F_1_l = Fk[16 * (row - 1) + 1, col]\n",
    "\n",
    "        # 残差\n",
    "        F_0 = F[0]\n",
    "        F_1 = F[1]\n",
    "\n",
    "        F = (\n",
    "            F\n",
    "            - Ak * (F_0 - F_0_l)\n",
    "            - Bk * (F_0_r - F_0)\n",
    "            - Ck * (F_1 + F_1_l)\n",
    "            - Dk * (F_1_r + F_1)\n",
    "        )\n",
    "        # F_0, F_1は残す\n",
    "        F[0] = F_0\n",
    "        F[1] = F_1\n",
    "        # F_0 V_1 V_2 V_3 V_4 V_5 V_6 V_7\n",
    "        Fk[16 * row : 16 * (row + 1), col] = F\n",
    "        "
   ]
  },
  {
   "cell_type": "markdown",
   "metadata": {},
   "source": [
    "### 1階の導関数"
   ]
  },
  {
   "cell_type": "code",
   "execution_count": 19,
   "metadata": {},
   "outputs": [],
   "source": [
    "for row in range(Fk.shape[0] // 16):\n",
    "    for col in range(Fk.shape[1]):\n",
    "        F = Fk[16 * row : 16 * (row + 1), col]\n",
    "\n",
    "        F_0_r = 0\n",
    "        if row is not Fk.shape[0] // 16 - 1:\n",
    "            F_0_r = Fk[16 * (row + 1), col]\n",
    "\n",
    "        F_0_l = 0\n",
    "        if row is not 0:\n",
    "            F_0_l = Fk[16 * (row - 1), col]\n",
    "\n",
    "        # 残差\n",
    "        F_0 = F[0]\n",
    "        F = F - alpha * (F_0_r - F_0) / np.sqrt(N) - beta * (F_0 - F_0_l) / np.sqrt(N)\n",
    "        # F_0は残す\n",
    "        F[0] = F_0\n",
    "        # F_0 V_1 V_2 V_3 V_4 V_5 V_6 V_7\n",
    "        Fk[16 * row : 16 * (row + 1), col] = F\n",
    "        "
   ]
  },
  {
   "cell_type": "markdown",
   "metadata": {},
   "source": [
    "## DCT 横方向"
   ]
  },
  {
   "cell_type": "code",
   "execution_count": 20,
   "metadata": {},
   "outputs": [],
   "source": [
    "for row in range(Fk.shape[0]):\n",
    "    for col in range(Fk.shape[1] // 16):\n",
    "        eight_points = Fk[row, 16 * col : 16 * (col + 1)]\n",
    "        c = scipy.fftpack.dct(eight_points,norm=\"ortho\")\n",
    "        Fk[row, 16 * col : 16 * (col + 1)] = c\n",
    "        "
   ]
  },
  {
   "cell_type": "markdown",
   "metadata": {},
   "source": [
    "## 横方向の残差"
   ]
  },
  {
   "cell_type": "markdown",
   "metadata": {},
   "source": [
    "### 3階の導関数"
   ]
  },
  {
   "cell_type": "code",
   "execution_count": 21,
   "metadata": {},
   "outputs": [],
   "source": [
    "for row in range(Fk.shape[0]):\n",
    "    for col in range(Fk.shape[1] // 16):\n",
    "        F = Fk[row, 16 * col : 16 * (col + 1)]\n",
    "\n",
    "        F_0_r = 0\n",
    "        F_1_r = 0\n",
    "        if col is not Fk.shape[1] // 16 - 1:\n",
    "            F_0_r = Fk[row, 16 * (col + 1)]\n",
    "            F_1_r = Fk[row, 16 * (col + 1) + 1]\n",
    "\n",
    "        F_0_l = 0\n",
    "        F_1_l = 0\n",
    "        if col is not 0:\n",
    "            F_0_l = Fk[row, 16 * (col - 1)]\n",
    "            F_1_l = Fk[row, 16 * (col - 1) + 1]\n",
    "\n",
    "        # 残差\n",
    "        F_0 = F[0]\n",
    "        F_1 = F[1]\n",
    "\n",
    "        F = (\n",
    "            F\n",
    "            - Ak * (F_0 - F_0_l)\n",
    "            - Bk * (F_0_r - F_0)\n",
    "            - Ck * (F_1 + F_1_l)\n",
    "            - Dk * (F_1_r + F_1)\n",
    "        )\n",
    "        # F_0は残す\n",
    "        F[0] = F_0\n",
    "        F[1] = F_1\n",
    "        # F_0 V_1 V_2 V_3 V_4 V_5 V_6 V_7\n",
    "        Fk[row, 16 * col : 16 * (col + 1)] = F\n",
    "        "
   ]
  },
  {
   "cell_type": "markdown",
   "metadata": {},
   "source": [
    "### 1階の導関数"
   ]
  },
  {
   "cell_type": "code",
   "execution_count": 22,
   "metadata": {},
   "outputs": [],
   "source": [
    "for row in range(Fk.shape[0]):\n",
    "    for col in range(Fk.shape[1] // 16):\n",
    "        F = Fk[row, 16 * col : 16 * (col + 1)]\n",
    "\n",
    "        F_0_r = 0\n",
    "        if col is not Fk.shape[1] // 16 - 1:\n",
    "            F_0_r = Fk[row, 16 * (col + 1)]\n",
    "\n",
    "        F_0_l = 0\n",
    "        if col is not 0:\n",
    "            F_0_l = Fk[row, 16 * (col - 1)]\n",
    "\n",
    "        # 残差\n",
    "        F_0 = F[0]\n",
    "        F = F - alpha * (F_0_r - F_0) / np.sqrt(N) - beta * (F_0 - F_0_l) / np.sqrt(N)\n",
    "        # F_0は残す\n",
    "        F[0] = F_0\n",
    "        # F_0 V_1 V_2 V_3 V_4 V_5 V_6 V_7\n",
    "        Fk[row, 16 * col : 16 * (col + 1)] = F\n",
    "        "
   ]
  },
  {
   "cell_type": "markdown",
   "metadata": {},
   "source": [
    "# 係数の確保"
   ]
  },
  {
   "cell_type": "code",
   "execution_count": 23,
   "metadata": {},
   "outputs": [],
   "source": [
    "Fk_Ori = np.copy(Fk)"
   ]
  },
  {
   "cell_type": "markdown",
   "metadata": {},
   "source": [
    "# 低域3成分 (0,1)(1,0)(1,1)の絶対値の和"
   ]
  },
  {
   "cell_type": "code",
   "execution_count": 24,
   "metadata": {},
   "outputs": [],
   "source": [
    "low_3_value = 0\n",
    "others_value = 0"
   ]
  },
  {
   "cell_type": "code",
   "execution_count": 25,
   "metadata": {},
   "outputs": [],
   "source": [
    "for row in range(Fk.shape[0] // 16):\n",
    "    for col in range(Fk.shape[1] // 16):\n",
    "        block = Fk[row * 16 : (row + 1) * 16, col * 16 : (col + 1) * 16]\n",
    "        low_3_value += np.abs(block[0, 1]) + np.abs(block[1, 0]) + np.abs(block[1, 1])\n",
    "        others_value += (\n",
    "            np.sum(np.sum(np.abs(block)))\n",
    "            - np.abs(block[0, 0])\n",
    "            - np.abs(block[0, 1])\n",
    "            - np.abs(block[1, 0])\n",
    "            - np.abs(block[1, 1])\n",
    "        )\n",
    "        "
   ]
  },
  {
   "cell_type": "code",
   "execution_count": 26,
   "metadata": {},
   "outputs": [
    {
     "data": {
      "text/plain": [
       "330989.99101204064"
      ]
     },
     "execution_count": 26,
     "metadata": {},
     "output_type": "execute_result"
    }
   ],
   "source": [
    "low_3_value"
   ]
  },
  {
   "cell_type": "code",
   "execution_count": 27,
   "metadata": {},
   "outputs": [
    {
     "data": {
      "text/plain": [
       "2265359.851836598"
      ]
     },
     "execution_count": 27,
     "metadata": {},
     "output_type": "execute_result"
    }
   ],
   "source": [
    "others_value"
   ]
  },
  {
   "cell_type": "markdown",
   "metadata": {},
   "source": [
    "# 逆変換"
   ]
  },
  {
   "cell_type": "markdown",
   "metadata": {},
   "source": [
    "$\n",
    "F_k = F_k + U_k\\\\\n",
    "F_k = V_k + A_k(F_0-F_0^L) +B_k(F_0^R-F_0)+C_k(F_1+F_1^L)+D_k(F_1^R+F_1)\n",
    "$"
   ]
  },
  {
   "cell_type": "code",
   "execution_count": 28,
   "metadata": {},
   "outputs": [],
   "source": [
    "# recover = np.zeros(IMG.img.shape).astype(\"uint8\")\n",
    "recover = np.zeros(IMG.img.shape)"
   ]
  },
  {
   "cell_type": "markdown",
   "metadata": {
    "toc-hr-collapsed": false
   },
   "source": [
    "## 横方向の残差"
   ]
  },
  {
   "cell_type": "markdown",
   "metadata": {},
   "source": [
    "### 1階の導関数 "
   ]
  },
  {
   "cell_type": "code",
   "execution_count": 29,
   "metadata": {},
   "outputs": [],
   "source": [
    "for row in range(Fk.shape[0]):\n",
    "    for col in range(Fk.shape[1] // 16):\n",
    "        F = Fk[row, 16 * col : 16 * col + 16]\n",
    "\n",
    "        F_0_r = 0\n",
    "        if col is not Fk.shape[1] // 16 - 1:\n",
    "            F_0_r = Fk[row, 16 * (col + 1)]\n",
    "\n",
    "        F_0_l = 0\n",
    "        if col is not 0:\n",
    "            F_0_l = Fk[row, 16 * (col - 1)]\n",
    "\n",
    "        # 残差\n",
    "        F_0 = F[0]\n",
    "        F = F + alpha * (F_0_r - F_0) / np.sqrt(N) + beta * (F_0 - F_0_l) / np.sqrt(N)\n",
    "        # F_0は残す\n",
    "        F[0] = F_0\n",
    "        # F_0 V_1 V_2 V_3 V_4 V_5 V_6 V_7\n",
    "        Fk[row, 16 * col : 16 * col + 16] = F\n",
    "        "
   ]
  },
  {
   "cell_type": "markdown",
   "metadata": {},
   "source": [
    "### 3階の導関数"
   ]
  },
  {
   "cell_type": "code",
   "execution_count": 30,
   "metadata": {},
   "outputs": [],
   "source": [
    "for row in range(Fk.shape[0]):\n",
    "    for col in range(Fk.shape[1] // 16):\n",
    "        F = Fk[row, 16 * col : 16 * (col + 1)]\n",
    "\n",
    "        F_0_r = 0\n",
    "        F_1_r = 0\n",
    "        if col is not Fk.shape[1] // 16 - 1:\n",
    "            F_0_r = Fk[row, 16 * (col + 1)]\n",
    "            F_1_r = Fk[row, 16 * (col + 1) + 1]\n",
    "\n",
    "        F_0_l = 0\n",
    "        F_1_l = 0\n",
    "        if col is not 0:\n",
    "            F_0_l = Fk[row, 16 * (col - 1)]\n",
    "            F_1_l = Fk[row, 16 * (col - 1) + 1]\n",
    "\n",
    "        # 残差\n",
    "        F_0 = F[0]\n",
    "        F_1 = F[1]\n",
    "\n",
    "        F = (\n",
    "            F\n",
    "            + Ak * (F_0 - F_0_l)\n",
    "            + Bk * (F_0_r - F_0)\n",
    "            + Ck * (F_1 + F_1_l)\n",
    "            + Dk * (F_1_r + F_1)\n",
    "        )\n",
    "        # F_0は残す\n",
    "        F[0] = F_0\n",
    "        F[1] = F_1\n",
    "        # F_0 V_1 V_2 V_3 V_4 V_5 V_6 V_7\n",
    "        Fk[row, 16 * col : 16 * (col + 1)] = F\n",
    "        "
   ]
  },
  {
   "cell_type": "markdown",
   "metadata": {},
   "source": [
    "### IDCT 横方向"
   ]
  },
  {
   "cell_type": "code",
   "execution_count": 31,
   "metadata": {},
   "outputs": [],
   "source": [
    "for row in range(Fk.shape[0]):\n",
    "    for col in range(Fk.shape[1] // 16):\n",
    "        F = Fk[row, 16 * col : 16 * col + 16]\n",
    "        data = scipy.fftpack.idct(F,norm=\"ortho\")\n",
    "        # Fkに代入した後、縦方向に対して処理\n",
    "        Fk[row, 16 * col : 16 * col + 16] = data\n",
    "        # 復元画像\n",
    "#         recover[row, 16 * col : 16 * col + 16] = data\n"
   ]
  },
  {
   "cell_type": "markdown",
   "metadata": {
    "toc-hr-collapsed": false
   },
   "source": [
    "## 縦方向"
   ]
  },
  {
   "cell_type": "markdown",
   "metadata": {},
   "source": [
    "### 1階の導関数"
   ]
  },
  {
   "cell_type": "code",
   "execution_count": 32,
   "metadata": {},
   "outputs": [],
   "source": [
    "for row in range(Fk.shape[0] // 16):\n",
    "    for col in range(Fk.shape[1]):\n",
    "        F = Fk[16 * row : 16 * row + 16, col]\n",
    "\n",
    "        F_0_r = 0\n",
    "        if row is not Fk.shape[0] // 16 - 1:\n",
    "            F_0_r = Fk[16 * (row + 1), col]\n",
    "\n",
    "        F_0_l = 0\n",
    "        if row is not 0:\n",
    "            F_0_l = Fk[16 * (row - 1), col]\n",
    "\n",
    "        # 残差\n",
    "        F_0 = F[0]\n",
    "        F = F + alpha * (F_0_r - F_0) / np.sqrt(N) + beta * (F_0 - F_0_l) / np.sqrt(N)\n",
    "        # F_0は残す\n",
    "        F[0] = F_0\n",
    "        # F_0 F_1 F_2 F_3 F_4 F_5 F_6 F_7\n",
    "        Fk[16 * row : 16 * row + 16, col] = F\n",
    "        "
   ]
  },
  {
   "cell_type": "markdown",
   "metadata": {},
   "source": [
    "### 3階の導関数"
   ]
  },
  {
   "cell_type": "code",
   "execution_count": 33,
   "metadata": {},
   "outputs": [],
   "source": [
    "for row in range(Fk.shape[0] // 16):\n",
    "    for col in range(Fk.shape[1]):\n",
    "        F = Fk[16 * row : 16 * (row + 1), col]\n",
    "\n",
    "        F_0_r = 0\n",
    "        F_1_r = 0\n",
    "        if row is not Fk.shape[0] // 16 - 1:\n",
    "            F_0_r = Fk[16 * (row + 1), col]\n",
    "            F_1_r = Fk[16 * (row + 1) + 1, col]\n",
    "\n",
    "        F_0_l = 0\n",
    "        F_1_l = 1\n",
    "        if row is not 0:\n",
    "            F_0_l = Fk[16 * (row - 1), col]\n",
    "            F_1_l = Fk[16 * (row - 1) + 1, col]\n",
    "\n",
    "        # 残差\n",
    "        F_0 = F[0]\n",
    "        F_1 = F[1]\n",
    "\n",
    "        F = (\n",
    "            F\n",
    "            + Ak * (F_0 - F_0_l)\n",
    "            + Bk * (F_0_r - F_0)\n",
    "            + Ck * (F_1 + F_1_l)\n",
    "            + Dk * (F_1_r + F_1)\n",
    "        )\n",
    "        # F_0, F_1は残す\n",
    "        F[0] = F_0\n",
    "        F[1] = F_1\n",
    "        # F_0 V_1 V_2 V_3 V_4 V_5 V_6 V_7\n",
    "        Fk[16 * row : 16 * (row + 1), col] = F\n",
    "        "
   ]
  },
  {
   "cell_type": "markdown",
   "metadata": {},
   "source": [
    "### 縦方向IDCT"
   ]
  },
  {
   "cell_type": "code",
   "execution_count": 34,
   "metadata": {},
   "outputs": [],
   "source": [
    "for row in range(Fk.shape[0] // 16):\n",
    "    for col in range(Fk.shape[1]):\n",
    "        F = Fk[16 * row : 16 * (row + 1), col]\n",
    "        data = scipy.fftpack.idct(F,norm=\"ortho\")\n",
    "        # 復元画像\n",
    "        recover[16 * row : 16 * (row + 1), col] = data\n",
    "        # FKに代入した後、横方向に対して処理\n",
    "#         Fk[16 * row : 16 * (row + 1), col] = data\n"
   ]
  },
  {
   "cell_type": "code",
   "execution_count": 35,
   "metadata": {},
   "outputs": [
    {
     "data": {
      "text/plain": [
       "<matplotlib.image.AxesImage at 0x7fb048e4ef98>"
      ]
     },
     "execution_count": 35,
     "metadata": {},
     "output_type": "execute_result"
    },
    {
     "data": {
      "image/png": "[encoded data removed]",
      "text/plain": [
       "<Figure size 432x288 with 1 Axes>"
      ]
     },
     "metadata": {
      "needs_background": "light"
     },
     "output_type": "display_data"
    }
   ],
   "source": [
    "plt.imshow(np.round(recover), cmap=\"gray\")"
   ]
  },
  {
   "cell_type": "code",
   "execution_count": 36,
   "metadata": {},
   "outputs": [
    {
     "data": {
      "text/plain": [
       "<matplotlib.image.AxesImage at 0x7fb04907add8>"
      ]
     },
     "execution_count": 36,
     "metadata": {},
     "output_type": "execute_result"
    },
    {
     "data": {
      "image/png": "[encoded data removed]",
      "text/plain": [
       "<Figure size 432x288 with 1 Axes>"
      ]
     },
     "metadata": {
      "needs_background": "light"
     },
     "output_type": "display_data"
    }
   ],
   "source": [
    "plt.imshow(IMG.img, cmap=\"gray\")"
   ]
  },
  {
   "cell_type": "code",
   "execution_count": 37,
   "metadata": {},
   "outputs": [
    {
     "data": {
      "text/plain": [
       "array([30., 13., 15., 18., 19., 15., 15., 12., 15., 18.])"
      ]
     },
     "execution_count": 37,
     "metadata": {},
     "output_type": "execute_result"
    }
   ],
   "source": [
    "recover[0, 0:10]"
   ]
  },
  {
   "cell_type": "code",
   "execution_count": 38,
   "metadata": {},
   "outputs": [
    {
     "data": {
      "text/plain": [
       "array([30, 13, 15, 18, 19, 15, 15, 12, 15, 18], dtype=uint8)"
      ]
     },
     "execution_count": 38,
     "metadata": {},
     "output_type": "execute_result"
    }
   ],
   "source": [
    "IMG.img[0, 0:10]"
   ]
  },
  {
   "cell_type": "markdown",
   "metadata": {},
   "source": [
    "ちゃんと復元できた"
   ]
  },
  {
   "cell_type": "markdown",
   "metadata": {},
   "source": [
    "# 量子化テーブル"
   ]
  },
  {
   "cell_type": "code",
   "execution_count": 105,
   "metadata": {},
   "outputs": [
    {
     "name": "stdout",
     "output_type": "stream",
     "text": [
      "S= 0.8002503410177436\n",
      "37.1 31.003072717372028 0.8405910736991916 24984.1103515625 6947.073486328125\n"
     ]
    }
   ],
   "source": [
    "Q = 37.1\n",
    "Q_Luminance = np.ones((16,16)) * Q\n",
    "Fk = np.copy(Fk_Ori)\n",
    "\n",
    "Q_Fk = np.zeros(Fk.shape)\n",
    "for row in range(IMG.img.shape[0] // 16):\n",
    "    for col in range(IMG.img.shape[1] // 16):\n",
    "        block = Fk[row * 16 : (row + 1) * 16, col * 16 : (col + 1) * 16]\n",
    "        # 量子化\n",
    "        block = np.round(block / Q_Luminance)\n",
    "        # 逆量子化\n",
    "        block = block * Q_Luminance\n",
    "        Q_Fk[row * 16 : (row+1)*16, col * 16 : (col+1)*16] = block\n",
    "        \n",
    "        \n",
    "Fk = np.copy(Q_Fk)\n",
    "Q_recover = np.zeros(Q_Fk.shape)\n",
    "# 横方向\n",
    "for row in range(Fk.shape[0]):\n",
    "    for col in range(Fk.shape[1] // 16):\n",
    "        F = Fk[row, 16 * col : 16 * col + 16]\n",
    "\n",
    "        F_0_r = 0\n",
    "        if col is not Fk.shape[1] // 16 - 1:\n",
    "            F_0_r = Fk[row, 16 * (col + 1)]\n",
    "\n",
    "        F_0_l = 0\n",
    "        if col is not 0:\n",
    "            F_0_l = Fk[row, 16 * (col - 1)]\n",
    "\n",
    "        # 残差\n",
    "        F_0 = F[0]\n",
    "        F = F + alpha * (F_0_r - F_0) / np.sqrt(N) + beta * (F_0 - F_0_l) / np.sqrt(N)\n",
    "        # F_0は残す\n",
    "        F[0] = F_0\n",
    "        # F_0 V_1 V_2 V_3 V_4 V_5 V_6 V_7\n",
    "        Fk[row, 16 * col : 16 * col + 16] = F\n",
    "        \n",
    "for row in range(Fk.shape[0]):\n",
    "    for col in range(Fk.shape[1] // 16):\n",
    "        F = Fk[row, 16 * col : 16 * (col + 1)]\n",
    "\n",
    "        F_0_r = 0\n",
    "        F_1_r = 0\n",
    "        if col is not Fk.shape[1] // 16 - 1:\n",
    "            F_0_r = Fk[row, 16 * (col + 1)]\n",
    "            F_1_r = Fk[row, 16 * (col + 1) + 1]\n",
    "\n",
    "        F_0_l = 0\n",
    "        F_1_l = 0\n",
    "        if col is not 0:\n",
    "            F_0_l = Fk[row, 16 * (col - 1)]\n",
    "            F_1_l = Fk[row, 16 * (col - 1) + 1]\n",
    "\n",
    "        # 残差\n",
    "        F_0 = F[0]\n",
    "        F_1 = F[1]\n",
    "\n",
    "        F = (\n",
    "            F\n",
    "            + Ak * (F_0 - F_0_l)\n",
    "            + Bk * (F_0_r - F_0)\n",
    "            + Ck * (F_1 + F_1_l)\n",
    "            + Dk * (F_1_r + F_1)\n",
    "        )\n",
    "        # F_0は残す\n",
    "        F[0] = F_0\n",
    "        F[1] = F_1\n",
    "        # F_0 V_1 V_2 V_3 V_4 V_5 V_6 V_7\n",
    "        Fk[row, 16 * col : 16 * (col + 1)] = F\n",
    "        \n",
    "for row in range(Fk.shape[0]):\n",
    "    for col in range(Fk.shape[1] // 16):\n",
    "        F = Fk[row, 16 * col : 16 * col + 16]\n",
    "        data = scipy.fftpack.idct(F,norm=\"ortho\")\n",
    "        # Fkに代入した後、縦方向に対して処理\n",
    "        Fk[row, 16 * col : 16 * col + 16] = data\n",
    "        # 復元画像\n",
    "#         recover[row, 16 * col : 16 * col + 16] = data\n",
    "for row in range(Fk.shape[0] // 16):\n",
    "    for col in range(Fk.shape[1]):\n",
    "        F = Fk[16 * row : 16 * row + 16, col]\n",
    "\n",
    "        F_0_r = 0\n",
    "        if row is not Fk.shape[0] // 16 - 1:\n",
    "            F_0_r = Fk[16 * (row + 1), col]\n",
    "\n",
    "        F_0_l = 0\n",
    "        if row is not 0:\n",
    "            F_0_l = Fk[16 * (row - 1), col]\n",
    "\n",
    "        # 残差\n",
    "        F_0 = F[0]\n",
    "        F = F + alpha * (F_0_r - F_0) / np.sqrt(N) + beta * (F_0 - F_0_l) / np.sqrt(N)\n",
    "        # F_0は残す\n",
    "        F[0] = F_0\n",
    "        # F_0 F_1 F_2 F_3 F_4 F_5 F_6 F_7\n",
    "        Fk[16 * row : 16 * row + 16, col] = F\n",
    "        \n",
    "for row in range(Fk.shape[0] // 16):\n",
    "    for col in range(Fk.shape[1]):\n",
    "        F = Fk[16 * row : 16 * (row + 1), col]\n",
    "\n",
    "        F_0_r = 0\n",
    "        F_1_r = 0\n",
    "        if row is not Fk.shape[0] // 16 - 1:\n",
    "            F_0_r = Fk[16 * (row + 1), col]\n",
    "            F_1_r = Fk[16 * (row + 1) + 1, col]\n",
    "\n",
    "        F_0_l = 0\n",
    "        F_1_l = 1\n",
    "        if row is not 0:\n",
    "            F_0_l = Fk[16 * (row - 1), col]\n",
    "            F_1_l = Fk[16 * (row - 1) + 1, col]\n",
    "\n",
    "        # 残差\n",
    "        F_0 = F[0]\n",
    "        F_1 = F[1]\n",
    "\n",
    "        F = (\n",
    "            F\n",
    "            + Ak * (F_0 - F_0_l)\n",
    "            + Bk * (F_0_r - F_0)\n",
    "            + Ck * (F_1 + F_1_l)\n",
    "            + Dk * (F_1_r + F_1)\n",
    "        )\n",
    "        # F_0, F_1は残す\n",
    "        F[0] = F_0\n",
    "        F[1] = F_1\n",
    "        # F_0 V_1 V_2 V_3 V_4 V_5 V_6 V_7\n",
    "        Fk[16 * row : 16 * (row + 1), col] = F\n",
    "        \n",
    "for row in range(Fk.shape[0] // 16):\n",
    "    for col in range(Fk.shape[1]):\n",
    "        F = Fk[16 * row : 16 * (row + 1), col]\n",
    "        data = scipy.fftpack.idct(F,norm=\"ortho\")\n",
    "        # 復元画像\n",
    "        Q_recover[16 * row : 16 * (row + 1), col] = data\n",
    "        # FKに代入した後、横方向に対して処理\n",
    "#         Fk[16 * row : 16 * (row + 1), col] = data\n",
    "\n",
    "Q_recover = np.round(Q_recover)\n",
    "qfk = pd.Series(Q_Fk.flatten())\n",
    "pro = qfk.value_counts() / qfk.value_counts().sum()\n",
    "S = 0\n",
    "for pi in pro:\n",
    "    S -= pi * np.log2(pi)\n",
    "    \n",
    "MSE = np.sum(np.sum(np.power((IMG.img - Q_recover),2)))/(Q_recover.shape[0] * Q_recover.shape[1])\n",
    "PSNR = 10 * np.log10(255 * 255 / MSE)\n",
    "MSSIM = ssim(IMG.img,Q_recover.astype(IMG.img.dtype),gaussian_weights=True,sigma=1.5,K1=0.01,K2=0.03)\n",
    "MSDSt, MSDS1, MSDS2 = msds(16,Q_recover)\n",
    "print(\"S=\",S)\n",
    "print(Q,PSNR,MSSIM,MSDS1,MSDS2)\n"
   ]
  },
  {
   "cell_type": "code",
   "execution_count": null,
   "metadata": {},
   "outputs": [],
   "source": []
  }
 ],
 "metadata": {
  "kernelspec": {
   "display_name": "Python 3",
   "language": "python",
   "name": "python3"
  },
  "language_info": {
   "codemirror_mode": {
    "name": "ipython",
    "version": 3
   },
   "file_extension": ".py",
   "mimetype": "text/x-python",
   "name": "python",
   "nbconvert_exporter": "python",
   "pygments_lexer": "ipython3",
   "version": "3.6.8"
  }
 },
 "nbformat": 4,
 "nbformat_minor": 4
}
