{
 "cells": [
  {
   "cell_type": "markdown",
   "metadata": {},
   "source": [
    "# DCTによる圧縮画像を作る"
   ]
  },
  {
   "cell_type": "code",
   "execution_count": 1,
   "metadata": {},
   "outputs": [],
   "source": [
    "import numpy as np\n",
    "import scipy.misc\n",
    "from scipy.fftpack import dct, idct\n",
    "import sys\n",
    "from PIL import Image\n",
    "import matplotlib\n",
    "import matplotlib.pyplot as plt\n",
    "import random\n",
    "from tqdm import tqdm_notebook as tqdm\n",
    "from tqdm._tqdm_notebook import tqdm_notebook\n",
    "from scipy.fftpack import dct, idct\n",
    "import seaborn as sns\n",
    "from skimage.metrics import structural_similarity as ssim\n",
    "import pandas as pd\n",
    "\n",
    "%matplotlib inline\n",
    "\n",
    "\n",
    "class ImageLoader:\n",
    "    def __init__(self, FILE_PATH):\n",
    "        self.img = np.array(Image.open(FILE_PATH))\n",
    "        # 行数\n",
    "        self.row_blocks_count = self.img.shape[0] // 8\n",
    "        # 列数\n",
    "        self.col_blocks_count = self.img.shape[1] // 8\n",
    "\n",
    "    def get_points(self, POINT):\n",
    "        Row = random.randint(0, len(self.img) - POINT - 1)\n",
    "        Col = random.randint(0, len(self.img) - 1)\n",
    "        return self.img[Row : Row + POINT, Col]\n",
    "\n",
    "    def get_block(self, col, row):\n",
    "        return self.img[col * 8 : (col + 1) * 8, row * 8 : (row + 1) * 8]\n",
    "\n",
    "\n",
    "# plt.rcParams['font.family'] ='sans-serif'#使用するフォント\n",
    "# plt.rcParams[\"font.sans-serif\"] = \"Source Han Sans\"\n",
    "plt.rcParams[\"font.family\"] = \"Source Han Sans JP\"  # 使用するフォント\n",
    "plt.rcParams[\"xtick.direction\"] = \"in\"  # x軸の目盛線が内向き('in')か外向き('out')か双方向か('inout')\n",
    "plt.rcParams[\"ytick.direction\"] = \"in\"  # y軸の目盛線が内向き('in')か外向き('out')か双方向か('inout')\n",
    "plt.rcParams[\"xtick.major.width\"] = 1.0  # x軸主目盛り線の線幅\n",
    "plt.rcParams[\"ytick.major.width\"] = 1.0  # y軸主目盛り線の線幅\n",
    "plt.rcParams[\"font.size\"] = 12  # フォントの大きさ\n",
    "plt.rcParams[\"axes.linewidth\"] = 1.0  # 軸の線幅edge linewidth。囲みの太さ\n",
    "matplotlib.font_manager._rebuild()\n",
    "\n",
    "# 画像の用意\n",
    "MONO_DIR_PATH = \"../../Mono/\"\n",
    "AIRPLANE = ImageLoader(MONO_DIR_PATH + \"airplane512.bmp\")\n",
    "BARBARA = ImageLoader(MONO_DIR_PATH + \"barbara512.bmp\")\n",
    "BOAT = ImageLoader(MONO_DIR_PATH + \"boat512.bmp\")\n",
    "GOLDHILL = ImageLoader(MONO_DIR_PATH + \"goldhill512.bmp\")\n",
    "LENNA = ImageLoader(MONO_DIR_PATH + \"lenna512.bmp\")\n",
    "MANDRILL = ImageLoader(MONO_DIR_PATH + \"mandrill512.bmp\")\n",
    "MILKDROP = ImageLoader(MONO_DIR_PATH + \"milkdrop512.bmp\")\n",
    "SAILBOAT = ImageLoader(MONO_DIR_PATH + \"sailboat512.bmp\")\n",
    "\n",
    "N = 16"
   ]
  },
  {
   "cell_type": "markdown",
   "metadata": {
    "toc-hr-collapsed": false
   },
   "source": [
    "# DCT"
   ]
  },
  {
   "cell_type": "markdown",
   "metadata": {},
   "source": [
    "## 基底関数"
   ]
  },
  {
   "cell_type": "markdown",
   "metadata": {},
   "source": [
    "$$\n",
    "\\phi_k[i] = \\begin{cases}\n",
    "\\cfrac{1}{\\sqrt{N}}  \\quad \\quad \\quad (k=0) \\\\\n",
    "\\sqrt{\\cfrac{2}{N}} \\cos \\left({\\cfrac{\\pi}{2N}(2i+1)k}\\right) \\quad  (k=1,2,...,N-1) \n",
    "\\end{cases}\n",
    "$$"
   ]
  },
  {
   "cell_type": "code",
   "execution_count": 2,
   "metadata": {},
   "outputs": [],
   "source": [
    "class DCT:\n",
    "    def __init__(self, N):\n",
    "        self.N = N  # データ数\n",
    "        # 1次元DCTの基底ベクトルの生成\n",
    "        self.phi_1d = np.array([self.phi(i) for i in range(self.N)])\n",
    "        # 2次元DCTの基底ベクトルの格納\n",
    "        self.phi_2d = np.zeros((N, N))\n",
    "\n",
    "    def phi(self, k):\n",
    "        \"\"\" 離散コサイン変換(DCT)の基底関数 \"\"\"\n",
    "        # DCT-II\n",
    "        if k == 0:\n",
    "            return np.ones(self.N) / np.sqrt(self.N)\n",
    "        else:\n",
    "            return np.sqrt(2.0 / self.N) * np.cos(\n",
    "                (k * np.pi / (2 * self.N)) * (np.arange(self.N) * 2 + 1)\n",
    "            )\n",
    "\n",
    "    def dct(self, data):\n",
    "        \"\"\" 1次元離散コサイン変換を行う \"\"\"\n",
    "        return self.phi_1d.dot(data)\n",
    "\n",
    "    def idct(self, c):\n",
    "        \"\"\" 1次元離散コサイン逆変換を行う \"\"\"\n",
    "        return np.sum(self.phi_1d.T * c, axis=1)\n",
    "\n",
    "    def get_dct2_phi(self, y, x):\n",
    "        \"\"\" 2次元離散コサイン変換の基底を返す \"\"\"\n",
    "        phi_x, phi_y = np.meshgrid(self.phi_1d[x], self.phi_1d[y])\n",
    "        return phi_x * phi_y\n",
    "\n",
    "    def get_dct2(self, y, x, data):\n",
    "        \"\"\" i,jの2次元DCT係数を返す \"\"\"\n",
    "        phi_2d_phi = np.zeros((self.N, self.N))\n",
    "        phi_2d_phi = self.get_dct2_phi(y, x)\n",
    "        return np.sum(np.sum(phi_2d_phi * data))\n",
    "\n",
    "    def dct2(self, data):\n",
    "        \"\"\" 2次元離散コサイン変換を行う \"\"\"\n",
    "        for y in range(self.N):\n",
    "            for x in range(self.N):\n",
    "                self.phi_2d[y, x] = self.get_dct2(y, x, data)\n",
    "\n",
    "        return self.phi_2d\n",
    "\n",
    "    def idct2(self, c):\n",
    "        \"\"\" 2次元離散コサイン逆変換を行う \"\"\"\n",
    "        idct2_data = np.zeros((self.N, self.N))\n",
    "        phi_2d_phi = np.zeros((self.N, self.N))\n",
    "        for y in range(self.N):\n",
    "            for x in range(self.N):\n",
    "                phi_2d_phi = self.get_dct2_phi(y, x)\n",
    "                idct2_data += c[y, x] * phi_2d_phi\n",
    "\n",
    "        return idct2_data"
   ]
  },
  {
   "cell_type": "markdown",
   "metadata": {},
   "source": [
    "# MSDS"
   ]
  },
  {
   "cell_type": "code",
   "execution_count": 3,
   "metadata": {},
   "outputs": [],
   "source": [
    "def msds(N,arr):\n",
    "    w_e = 0\n",
    "    e_e = 0\n",
    "    n_e = 0\n",
    "    s_e = 0\n",
    "    nw_e = 0\n",
    "    ne_e = 0\n",
    "    sw_e = 0\n",
    "    se_e = 0\n",
    "    for row in range(arr.shape[0] // N):\n",
    "        for col in range(arr.shape[1] // N):\n",
    "            f_block = arr[row * N : (row + 1) * N, col * N : (col + 1) * N]\n",
    "            # w\n",
    "            if col == 0:\n",
    "                w_block = np.fliplr(f_block)\n",
    "            else:\n",
    "                w_block = arr[row * N : (row + 1) * N, (col - 1) * N : col * N]\n",
    "            # e\n",
    "            if col == arr.shape[1] // N - 1:\n",
    "                e_block = np.fliplr(f_block)\n",
    "            else:\n",
    "                e_block = arr[row * N : (row + 1) * N, (col + 1) * N : (col + 2) * N]\n",
    "            # n\n",
    "            if row == 0:\n",
    "                n_block = np.flipud(f_block)\n",
    "            else:\n",
    "                n_block = arr[(row - 1) * N : row * N, col * N : (col + 1) * N]\n",
    "            # s\n",
    "            if row == arr.shape[0] // N - 1:\n",
    "                s_block = np.flipud(f_block)\n",
    "            else:\n",
    "                s_block = arr[(row + 1) * N : (row + 2) * N, col * N : (col + 1) * N]\n",
    "\n",
    "            w_d1 = f_block[:, 0] - w_block[:, N-1]\n",
    "            e_d1 = f_block[:, N-1] - e_block[:, 0]\n",
    "            n_d1 = f_block[0, :] - n_block[N-1, :]\n",
    "            s_d1 = f_block[N-1, :] - s_block[0, :]\n",
    "\n",
    "            w_d2 = (w_block[:, N-1] - w_block[:, N-2] + f_block[:, 1] - f_block[:, 0]) / 2\n",
    "            e_d2 = (e_block[:, 1] - e_block[:, 0] + f_block[:, N-1] - f_block[:, N-2]) / 2\n",
    "            n_d2 = (n_block[N-1, :] - n_block[N-2, :] + f_block[1, :] - f_block[0, :]) / 2\n",
    "            s_d2 = (s_block[1, :] - s_block[0, :] + f_block[N-1, :] - f_block[N-2, :]) / 2\n",
    "\n",
    "            w_e += np.sum((w_d1 - w_d2) ** 2 )\n",
    "            e_e += np.sum((e_d1 - e_d2) ** 2 )\n",
    "            n_e += np.sum((n_d1 - n_d2) ** 2)\n",
    "            s_e += np.sum((s_d1 - s_d2) ** 2)\n",
    "\n",
    "            # nw\n",
    "            if row == 0 or col == 0:\n",
    "                nw_block = np.flipud(np.fliplr(f_block))\n",
    "            else:\n",
    "                nw_block = arr[(row - 1) * N : row * N, (col - 1) * N : col * N]\n",
    "            # ne\n",
    "            if row == 0 or col == arr.shape[1] // N - 1:\n",
    "                ne_block = np.flipud(np.fliplr(f_block))\n",
    "            else:\n",
    "                ne_block = arr[(row-1) * N : row * N, (col + 1) * N : (col + 2) * N]\n",
    "            # sw\n",
    "            if row == arr.shape[0] // N -1 or col == 0:\n",
    "                sw_block = np.flipud(np.fliplr(f_block))\n",
    "            else:\n",
    "                sw_block = arr[row * N : (row+1) * N, (col-1) * N : col * N]\n",
    "            # se\n",
    "            if  row == arr.shape[0]//N-1 or col == arr.shape[0] // N -1:\n",
    "                se_block = np.flipud(np.fliplr(f_block))\n",
    "            else:\n",
    "                se_block = arr[(row + 1) * N : (row + 2) * N, (col+1) * N : (col + 2) * N]\n",
    "\n",
    "            nw_g1 = f_block[0, 0] - nw_block[N-1, N-1]\n",
    "            ne_g1 = f_block[0, N-1] - ne_block[N-1, 0]\n",
    "            sw_g1 = f_block[N-1, 0] - sw_block[0, N-1]\n",
    "            se_g1 = f_block[N-1, N-1] - se_block[0, 0]\n",
    "\n",
    "            nw_g2 = (nw_block[N-1,N-1] - nw_block[N-2,N-2] + f_block[1,1] - f_block[0,0])/2\n",
    "            ne_g2 = (ne_block[N-1,0] - ne_block[N-2,1] + f_block[1,N-2] - f_block[0,N-1])/2\n",
    "            sw_g2 = (sw_block[0,N-1] - nw_block[1,N-2] + f_block[N-2,1] - f_block[N-1,0])/2\n",
    "            se_g2 = (nw_block[0,0] - nw_block[1,1] + f_block[N-2,N-2] - f_block[N-1,N-1])/2\n",
    "\n",
    "            nw_e += (nw_g1 - nw_g2) ** 2 \n",
    "            ne_e += (ne_g1 - ne_g2) ** 2 \n",
    "            sw_e += (sw_g1 - sw_g2) ** 2 \n",
    "            se_e += (se_g1 - se_g2) ** 2 \n",
    "\n",
    "    MSDSt = (w_e + e_e + n_e + s_e + nw_e + ne_e + sw_e + se_e)/ ((arr.shape[0]/N)**2)\n",
    "    MSDS1 = (w_e + e_e + n_e + s_e)/ ((arr.shape[0]/N)**2)\n",
    "    MSDS2 = (nw_e + ne_e + sw_e + se_e)/ ((arr.shape[0]/N)**2)\n",
    "    return MSDSt, MSDS1, MSDS2"
   ]
  },
  {
   "cell_type": "markdown",
   "metadata": {},
   "source": [
    "# 16x16ブロックでDCT"
   ]
  },
  {
   "cell_type": "markdown",
   "metadata": {},
   "source": [
    "### DCT"
   ]
  },
  {
   "cell_type": "code",
   "execution_count": 4,
   "metadata": {},
   "outputs": [],
   "source": [
    "IMG = SAILBOAT"
   ]
  },
  {
   "cell_type": "code",
   "execution_count": 5,
   "metadata": {},
   "outputs": [],
   "source": [
    "Fk = np.zeros(IMG.img.shape)"
   ]
  },
  {
   "cell_type": "code",
   "execution_count": 6,
   "metadata": {},
   "outputs": [],
   "source": [
    "for row in range(IMG.img.shape[0] // 16):\n",
    "    for col in range(IMG.img.shape[1] // 16):\n",
    "        block = IMG.img[row * 16 : (row + 1) * 16, col * 16 : (col + 1) * 16]\n",
    "        c = scipy.fftpack.dct(\n",
    "            scipy.fftpack.dct(block, axis=0, norm=\"ortho\"), axis=1, norm=\"ortho\"\n",
    "        )\n",
    "        Fk[row * 16 : (row + 1) * 16, col * 16 : (col + 1) * 16] = c\n",
    "        "
   ]
  },
  {
   "cell_type": "code",
   "execution_count": 7,
   "metadata": {},
   "outputs": [],
   "source": [
    "low_3_value = 0\n",
    "others_value = 0"
   ]
  },
  {
   "cell_type": "code",
   "execution_count": 8,
   "metadata": {},
   "outputs": [],
   "source": [
    "for row in range(IMG.img.shape[0] // 16):\n",
    "    for col in range(IMG.img.shape[1] // 16):\n",
    "        block = Fk[row * 16 : (row + 1) * 16, col * 16 : (col + 1) * 16]\n",
    "        low_3_value += np.abs(block[0, 1]) + np.abs(block[1, 0]) + np.abs(block[1, 1])\n",
    "        others_value += (\n",
    "            np.sum(np.sum(np.abs(block)))\n",
    "            - np.abs(block[0, 0])\n",
    "            - np.abs(block[0, 1])\n",
    "            - np.abs(block[1, 0])\n",
    "            - np.abs(block[1, 1])\n",
    "        )\n",
    "        "
   ]
  },
  {
   "cell_type": "markdown",
   "metadata": {},
   "source": [
    "### 低域3成分 (0,1)(1,0)(1,1)の絶対値の和"
   ]
  },
  {
   "cell_type": "code",
   "execution_count": 9,
   "metadata": {},
   "outputs": [
    {
     "data": {
      "text/plain": [
       "360801.5162892417"
      ]
     },
     "execution_count": 9,
     "metadata": {},
     "output_type": "execute_result"
    }
   ],
   "source": [
    "low_3_value"
   ]
  },
  {
   "cell_type": "code",
   "execution_count": 10,
   "metadata": {},
   "outputs": [
    {
     "data": {
      "text/plain": [
       "2333357.016631969"
      ]
     },
     "execution_count": 10,
     "metadata": {},
     "output_type": "execute_result"
    }
   ],
   "source": [
    "others_value"
   ]
  },
  {
   "cell_type": "markdown",
   "metadata": {},
   "source": [
    "### IDCT"
   ]
  },
  {
   "cell_type": "code",
   "execution_count": 11,
   "metadata": {},
   "outputs": [],
   "source": [
    "recover = np.zeros(Fk.shape)"
   ]
  },
  {
   "cell_type": "code",
   "execution_count": 12,
   "metadata": {},
   "outputs": [],
   "source": [
    "for row in range(Fk.shape[0] // 16):\n",
    "    for col in range(Fk.shape[1] // 16):\n",
    "        block = Fk[row * 16 : (row + 1) * 16, col * 16 : (col + 1) * 16]\n",
    "        data = scipy.fftpack.idct(\n",
    "            scipy.fftpack.idct(block, axis=0, norm=\"ortho\"), axis=1, norm=\"ortho\"\n",
    "        )\n",
    "        recover[row * 16 : (row + 1) * 16, col * 16 : (col + 1) * 16] = data\n",
    "        "
   ]
  },
  {
   "cell_type": "code",
   "execution_count": 13,
   "metadata": {},
   "outputs": [
    {
     "data": {
      "text/plain": [
       "<matplotlib.image.AxesImage at 0x7fd96d546c50>"
      ]
     },
     "execution_count": 13,
     "metadata": {},
     "output_type": "execute_result"
    },
    {
     "data": {
      "image/png": "[encoded data removed]",
      "text/plain": [
       "<Figure size 432x288 with 1 Axes>"
      ]
     },
     "metadata": {
      "needs_background": "light"
     },
     "output_type": "display_data"
    }
   ],
   "source": [
    "plt.imshow(recover, cmap=\"gray\")"
   ]
  },
  {
   "cell_type": "code",
   "execution_count": 14,
   "metadata": {},
   "outputs": [
    {
     "data": {
      "text/plain": [
       "array([30., 13., 15., 18., 19., 15., 15., 12., 15., 18.])"
      ]
     },
     "execution_count": 14,
     "metadata": {},
     "output_type": "execute_result"
    }
   ],
   "source": [
    "recover[0, 0:10]"
   ]
  },
  {
   "cell_type": "code",
   "execution_count": 15,
   "metadata": {},
   "outputs": [
    {
     "data": {
      "text/plain": [
       "array([30, 13, 15, 18, 19, 15, 15, 12, 15, 18], dtype=uint8)"
      ]
     },
     "execution_count": 15,
     "metadata": {},
     "output_type": "execute_result"
    }
   ],
   "source": [
    "IMG.img[0, 0:10]"
   ]
  },
  {
   "cell_type": "markdown",
   "metadata": {},
   "source": [
    "ちゃんと復元できてる"
   ]
  },
  {
   "cell_type": "markdown",
   "metadata": {},
   "source": [
    "# 量子化テーブル"
   ]
  },
  {
   "cell_type": "markdown",
   "metadata": {},
   "source": [
    "16x16の量子化テーブルは無いので一様量子化を行う"
   ]
  },
  {
   "cell_type": "code",
   "execution_count": 16,
   "metadata": {},
   "outputs": [
    {
     "data": {
      "application/vnd.jupyter.widget-view+json": {
       "model_id": "ed3c32f498d04c0694a4f9808092f8dc",
       "version_major": 2,
       "version_minor": 0
      },
      "text/plain": [
       "HBox(children=(IntProgress(value=0, max=1599), HTML(value='')))"
      ]
     },
     "metadata": {},
     "output_type": "display_data"
    },
    {
     "name": "stdout",
     "output_type": "stream",
     "text": [
      "S= 0.1970107881670709\n",
      "175.875 24.331157133080772 0.6351678665577808 54244.19921875 11638.562744140625\n",
      "S= 0.19713715929386905\n",
      "175.75 24.335175598558457 0.635314273503379 54238.7958984375 11623.030517578125\n",
      "S= 0.19728618671028725\n",
      "175.625 24.3391411141875 0.6350932741745631 54129.28955078125 11643.596435546875\n",
      "S= 0.1973679094222288\n",
      "175.5 24.34516460997176 0.6352069219073282 54063.7578125 11632.8330078125\n",
      "S= 0.19744434426819346\n",
      "175.375 24.344926392039362 0.6349909331556668 54056.47607421875 11607.24755859375\n",
      "S= 0.19767990790499712\n",
      "175.25 24.347424588572796 0.6350149165840212 53910.1806640625 11546.384521484375\n",
      "S= 0.1979158800473354\n",
      "175.125 24.349599733626327 0.6350444328593645 53974.65087890625 11503.12109375\n",
      "S= 0.19803877360154595\n",
      "175.0 24.352419605484243 0.6350084710166461 53904.263671875 11515.126708984375\n",
      "S= 0.19810603028189927\n",
      "174.875 24.356743758408715 0.635633083715641 53851.0908203125 11534.931396484375\n",
      "S= 0.19819843946309976\n",
      "174.75 24.361459260995755 0.6360949792857421 53919.37451171875 11514.421142578125\n",
      "S= 0.19832961183602427\n",
      "174.625 24.364097267225304 0.6365033309003846 53805.119140625 11504.393798828125\n",
      "S= 0.19843397749756947\n",
      "174.5 24.366854146475706 0.6365127225783129 53603.91259765625 11510.645751953125\n",
      "S= 0.1984837901032111\n",
      "174.375 24.37030255156359 0.6368290203008423 53549.04833984375 11518.138671875\n",
      "S= 0.19866591155229987\n",
      "174.25 24.372148645371404 0.6366385153000708 53550.52734375 11505.97509765625\n",
      "S= 0.19880105561583197\n",
      "174.125 24.374691437035416 0.636423955973759 53593.63134765625 11503.8447265625\n",
      "S= 0.19886392993209526\n",
      "174.0 24.379239170011363 0.6367148938538559 53388.703125 11483.6572265625\n",
      "S= 0.19897798389456106\n",
      "173.875 24.380419302731333 0.6367382184177158 53552.99658203125 11506.09033203125\n",
      "S= 0.19909574161509377\n",
      "173.75 24.38328344963879 0.6366044565198072 53629.67236328125 11533.478759765625\n",
      "S= 0.1992301121060614\n",
      "173.625 24.387493686930988 0.6366982103617327 53461.6083984375 11482.933837890625\n",
      "S= 0.19953150066979303\n",
      "173.5 24.39028569729794 0.6363472833151416 53616.8251953125 11451.569091796875\n",
      "S= 0.199737973826293\n",
      "173.375 24.389944806460655 0.6361913860399919 53679.50634765625 11428.0615234375\n",
      "S= 0.1998598413891008\n",
      "173.25 24.393176748540863 0.6362925071789381 53668.97509765625 11461.400390625\n",
      "S= 0.19996121632708522\n",
      "173.125 24.39493334454786 0.6361878512495199 53842.23583984375 11521.0810546875\n",
      "S= 0.20004352288599475\n",
      "173.0 24.398200847315017 0.6365750756379207 53751.14501953125 11503.011962890625\n",
      "S= 0.20010026075335524\n",
      "172.875 24.400786174468145 0.6366317645513206 53583.759765625 11481.21923828125\n",
      "S= 0.20018923709962547\n",
      "172.75 24.40327226763682 0.6365652908353724 53356.32421875 11485.05517578125\n",
      "S= 0.20028635769783293\n",
      "172.625 24.406088638144485 0.6370318111280464 53357.560546875 11493.535888671875\n",
      "S= 0.20047392530563912\n",
      "172.5 24.408901632847197 0.637346971333665 53256.92919921875 11460.751708984375\n",
      "S= 0.20061647911870453\n",
      "172.375 24.41144211955949 0.6372898543988939 53281.85595703125 11492.107421875\n",
      "S= 0.20082990826147706\n",
      "172.25 24.412925923877967 0.6369102248317574 53253.18310546875 11428.844482421875\n",
      "S= 0.20101587672667084\n",
      "172.125 24.41585913543703 0.6372052498090112 53193.517578125 11463.42578125\n",
      "S= 0.20113690662489184\n",
      "172.0 24.41896523795147 0.6370096008819766 53250.6162109375 11482.99755859375\n",
      "S= 0.20130410617268893\n",
      "171.875 24.422235149867006 0.6370835104807323 53311.75390625 11482.92529296875\n",
      "S= 0.20160557835325232\n",
      "171.75 24.426365575735858 0.6372181427996358 53390.57421875 11466.1337890625\n",
      "S= 0.2017262060070318\n",
      "171.625 24.429159736929332 0.6369688370053984 53341.88525390625 11490.2607421875\n",
      "S= 0.2019101975362882\n",
      "171.5 24.430968478294496 0.6374046507900998 53403.2451171875 11477.93603515625\n",
      "S= 0.2020927438068059\n",
      "171.375 24.431535039603194 0.6375655579124668 53379.2841796875 11441.28369140625\n",
      "S= 0.20218852104338883\n",
      "171.25 24.434859068082314 0.6374309268840677 53575.86474609375 11460.774658203125\n",
      "S= 0.2022484814107876\n",
      "171.125 24.43878352007872 0.6379312026465165 53448.8603515625 11441.11572265625\n",
      "S= 0.20252859484240116\n",
      "171.0 24.444398591100548 0.6381938113382736 53275.56396484375 11440.359130859375\n",
      "S= 0.20271630648263178\n",
      "170.875 24.446705781316773 0.6388875624447651 53249.099609375 11446.542724609375\n",
      "S= 0.2028650183917777\n",
      "170.75 24.446714222085284 0.6390465707202945 53210.78662109375 11474.29638671875\n",
      "S= 0.2029901480993329\n",
      "170.625 24.450254974948283 0.6393495357181842 53121.90869140625 11458.342529296875\n",
      "S= 0.24721339859493624\n",
      "138.5 25.321450710420187 0.672177531593078 47044.31640625 10301.176513671875\n",
      "S= 0.24740130827096735\n",
      "138.375 25.32477645998776 0.6724792698296905 47097.734375 10309.95166015625\n",
      "S= 0.24752310002670233\n",
      "138.25 25.325192368666794 0.672436884428485 47068.498046875 10291.692626953125\n",
      "S= 0.2477078155863579\n",
      "138.125 25.33051734706372 0.6726099501625219 46991.33447265625 10250.29150390625\n",
      "S= 0.24791105002987934\n",
      "138.0 25.33136134812394 0.6726034472399007 47020.57470703125 10240.525390625\n",
      "S= 0.24824411780173877\n",
      "137.875 25.33411881936516 0.6723443792831777 47062.244140625 10228.14794921875\n",
      "S= 0.24846446613110293\n",
      "137.75 25.33930762031094 0.6730391720409958 46988.34912109375 10189.11767578125\n",
      "S= 0.24867722858470623\n",
      "137.625 25.34273417387615 0.6733932094568088 46937.31689453125 10161.492431640625\n",
      "S= 0.24893808514902935\n",
      "137.5 25.345748564901104 0.6739452562165341 46883.44580078125 10150.824951171875\n",
      "S= 0.249207862080491\n",
      "137.375 25.348798225770516 0.6741331112467586 46836.3818359375 10154.055419921875\n",
      "S= 0.2494040792435113\n",
      "137.25 25.351597458060517 0.6743533623853145 47013.36865234375 10200.931640625\n",
      "S= 0.24985281976701307\n",
      "137.125 25.35281808010783 0.6745097980006552 47075.4345703125 10241.629638671875\n",
      "S= 0.2500917719880279\n",
      "137.0 25.360862402265806 0.6744075755392043 47150.20703125 10270.988525390625\n",
      "S= 0.25030584963682195\n",
      "136.875 25.364985193686323 0.6745009978537271 47092.0205078125 10273.341552734375\n",
      "S= 0.25037660358959224\n",
      "136.75 25.36835542428328 0.6745398532109911 47079.8056640625 10287.740966796875\n",
      "S= 0.2506809790288177\n",
      "136.625 25.37115386785517 0.673891559677658 47037.54150390625 10286.126953125\n",
      "S= 0.2508737659279499\n",
      "136.5 25.37434015947141 0.673744347122228 47053.73779296875 10303.27880859375\n",
      "S= 0.2512543788734894\n",
      "136.375 25.37676996605731 0.6739158689175736 47093.56494140625 10326.515625\n",
      "S= 0.2514671862553392\n",
      "136.25 25.385126801123278 0.6743901393103603 46898.66357421875 10329.177978515625\n",
      "S= 0.2517219957789467\n",
      "136.125 25.388742143775637 0.6746232912632382 46670.87451171875 10258.566162109375\n",
      "S= 0.2520966601290881\n",
      "136.0 25.39090734679652 0.6751530034645138 46633.89892578125 10258.195068359375\n",
      "S= 0.2524104475977816\n",
      "135.875 25.393405717673936 0.6750156247122425 46641.26171875 10237.6162109375\n",
      "S= 0.2525231636117292\n",
      "135.75 25.39700236028237 0.6750962200119834 46604.78564453125 10248.178466796875\n",
      "S= 0.25269095048347656\n",
      "135.625 25.403163137829413 0.6758964251274318 46466.40087890625 10236.6962890625\n",
      "S= 0.2528768980008946\n",
      "135.5 25.406147325319797 0.675699072727585 46462.70703125 10223.83544921875\n",
      "S= 0.29716126826303824\n",
      "114.125 26.12967368382086 0.7010058786030466 41547.67724609375 9653.790283203125\n",
      "S= 0.2974159018621064\n",
      "114.0 26.13317157469575 0.7012026906087616 41562.08056640625 9675.326904296875\n",
      "S= 0.2977380734318746\n",
      "113.875 26.137587320999323 0.7012730715196959 41555.16455078125 9703.90185546875\n",
      "S= 0.29802711541999305\n",
      "113.75 26.141336154528258 0.7013196046505771 41420.43505859375 9673.885498046875\n",
      "S= 0.2983482612689019\n",
      "113.625 26.14600335948305 0.7010457249862764 41518.4599609375 9624.56298828125\n",
      "S= 0.2986012265494784\n",
      "113.5 26.150566166234277 0.7014767492313356 41475.76171875 9646.4345703125\n",
      "S= 0.29898837064257744\n",
      "113.375 26.155080582405912 0.7019528006561847 41348.5927734375 9664.481201171875\n",
      "S= 0.2993156293086887\n",
      "113.25 26.158884637550607 0.7021412776283369 41320.3251953125 9651.08447265625\n",
      "S= 0.2997153193055134\n",
      "113.125 26.163946767127705 0.7021995509049258 41414.9755859375 9685.776123046875\n",
      "S= 0.3000717556131271\n",
      "113.0 26.170547646109483 0.7022297574758716 41473.375 9723.832763671875\n",
      "S= 0.3004063469434922\n",
      "112.875 26.175013933826836 0.702531300118121 41410.0439453125 9718.20361328125\n",
      "S= 0.30070422219104026\n",
      "112.75 26.177778163706623 0.7022053628515242 41283.90673828125 9757.50244140625\n",
      "S= 0.30094727551296796\n",
      "112.625 26.183429878461627 0.7023866273291358 41319.095703125 9762.999755859375\n",
      "S= 0.3011925717415911\n",
      "112.5 26.189209416734993 0.7026590710993046 41106.92041015625 9729.793212890625\n",
      "S= 0.30159935228362766\n",
      "112.375 26.196125997417695 0.702591840650397 40952.43017578125 9739.8896484375\n",
      "S= 0.3018709394988429\n",
      "112.25 26.199547536255988 0.7027243168401802 40965.55615234375 9705.24853515625\n",
      "S= 0.30215242200934633\n",
      "112.125 26.20341828800403 0.7026977122996013 41002.546875 9739.38525390625\n",
      "S= 0.30254183373240673\n",
      "112.0 26.20972840060729 0.7025703524968402 40971.24609375 9684.354248046875\n",
      "S= 0.30292905402674464\n",
      "111.875 26.21627764330139 0.7028280647477975 40913.0791015625 9638.849365234375\n",
      "S= 0.34715850368239654\n",
      "96.625 26.85309041504269 0.7233854949633032 38120.45263671875 9258.144775390625\n",
      "S= 0.34754769527863744\n",
      "96.5 26.859760446778253 0.723530406359427 38113.47705078125 9262.605712890625\n",
      "S= 0.34800449666853234\n",
      "96.375 26.86589334278782 0.7242573660763801 38088.3408203125 9275.658935546875\n",
      "S= 0.34835946745885127\n",
      "96.25 26.872426968421806 0.7246533791417011 38023.63427734375 9282.8046875\n",
      "S= 0.3487514954258944\n",
      "96.125 26.878639379763353 0.7248286464817493 37978.45556640625 9266.73876953125\n",
      "S= 0.34900200781642543\n",
      "96.0 26.8853731721153 0.7251575723488849 37909.03466796875 9267.55712890625\n",
      "S= 0.34959984210721634\n",
      "95.875 26.891295284133356 0.7252394677130658 37824.85302734375 9229.48486328125\n",
      "S= 0.3500966879235431\n",
      "95.75 26.895216937116334 0.7251229405852262 37807.5810546875 9234.423828125\n",
      "S= 0.3504133608457619\n",
      "95.625 26.902620861144804 0.7252922779542851 37730.43115234375 9224.2626953125\n",
      "S= 0.3510572838774857\n",
      "95.5 26.91113134079466 0.7252375284277549 37495.455078125 9211.73486328125\n",
      "S= 0.35153800972578625\n",
      "95.375 26.91813452239417 0.7254085029789076 37506.08935546875 9255.700927734375\n",
      "S= 0.3521151004127165\n",
      "95.25 26.924501305458207 0.7253755653201943 37400.3037109375 9325.550048828125\n",
      "S= 0.35257693855812283\n",
      "95.125 26.931706221486973 0.7253843234031268 37469.47509765625 9342.69921875\n",
      "S= 0.39712609234088203\n",
      "83.125 27.507527369359863 0.7430713332303812 34893.81005859375 8726.13330078125\n",
      "S= 0.3976010715950239\n",
      "83.0 27.51085518381633 0.743500779406379 34812.39208984375 8698.474609375\n",
      "S= 0.39816850535641385\n",
      "82.875 27.517608956246725 0.7440099660363608 34802.20361328125 8686.543212890625\n",
      "S= 0.3987172172539569\n",
      "82.75 27.522387857893396 0.744594094563322 34791.46875 8697.35009765625\n",
      "S= 0.3991793157683526\n",
      "82.625 27.526556020251093 0.7449357786196651 34692.31787109375 8698.508056640625\n",
      "S= 0.39972274204070496\n",
      "82.5 27.530756323547152 0.7445876249673273 34726.9873046875 8665.268310546875\n",
      "S= 0.40025424054084624\n",
      "82.375 27.538555187563883 0.7451463960912587 34867.486328125 8689.252685546875\n",
      "S= 0.4006481193848677\n",
      "82.25 27.54774501578984 0.7455908816085555 34837.4892578125 8696.0361328125\n",
      "S= 0.40137012536003014\n",
      "82.125 27.555316897724403 0.7456981786964422 34821.0673828125 8670.503662109375\n",
      "S= 0.40173897517240154\n",
      "82.0 27.560225095398437 0.7457856715840772 34806.20361328125 8672.158447265625\n",
      "S= 0.40206645184037443\n",
      "81.875 27.569048670463747 0.7459255671852175 34808.5107421875 8682.310791015625\n",
      "S= 0.40266212626160225\n",
      "81.75 27.575869418736907 0.7464110507829503 34677.04443359375 8686.359619140625\n",
      "S= 0.4470829802249198\n",
      "72.625 28.084804716288915 0.7614376100652931 32818.38916015625 8415.002685546875\n",
      "S= 0.44782348677307643\n",
      "72.5 28.094128100829494 0.7615787691003639 32791.4697265625 8410.187255859375\n",
      "S= 0.44847707255509267\n",
      "72.375 28.10406112681566 0.7622784504957715 32808.443359375 8337.218994140625\n",
      "S= 0.44906902142693617\n",
      "72.25 28.111146991291974 0.7627344044604496 32769.58740234375 8293.28662109375\n",
      "S= 0.4498064727312055\n",
      "72.125 28.119311871180113 0.763100967073838 32762.81787109375 8270.226318359375\n",
      "S= 0.450558035975947\n",
      "72.0 28.12510994446545 0.7635371751083547 32751.4541015625 8248.942138671875\n",
      "S= 0.45127560502160907\n",
      "71.875 28.13129402015093 0.7634104446036067 32737.150390625 8242.919921875\n",
      "S= 0.45192461073842716\n",
      "71.75 28.140609091804897 0.7635812945981442 32704.56201171875 8233.17626953125\n",
      "S= 0.4525220193551314\n",
      "71.625 28.14741411572127 0.7638001643602924 32646.9677734375 8258.2861328125\n",
      "S= 0.49734049227507093\n",
      "64.375 28.602708303041837 0.7770676874302174 31257.421875 8036.2529296875\n",
      "S= 0.49810254982164054\n",
      "64.25 28.61049630349393 0.7769365883253866 31325.0126953125 8022.60498046875\n",
      "S= 0.49900450661786416\n",
      "64.125 28.618907028733762 0.7772414163797822 31303.89990234375 8043.713623046875\n",
      "S= 0.4999645430652511\n",
      "64.0 28.627486009317884 0.7772441677804631 31318.2509765625 8028.379638671875\n",
      "S= 0.5011101763364522\n",
      "63.875 28.637015603741744 0.7778477278953608 31266.61328125 8031.939697265625\n",
      "S= 0.502315950194408\n",
      "63.75 28.64432333898491 0.778020871005197 31330.37255859375 8047.775146484375\n",
      "S= 0.5471197474834981\n",
      "58.125 29.043526927229166 0.7885673851248441 30200.25048828125 7938.376708984375\n",
      "S= 0.5481504920272567\n",
      "58.0 29.053439366038877 0.788954369511185 30070.814453125 7893.49951171875\n",
      "S= 0.5491671932655315\n",
      "57.875 29.06248929356479 0.7894482966490401 30059.72998046875 7913.55224609375\n",
      "S= 0.5501753897826462\n",
      "57.75 29.067728713427854 0.7894421590029811 30094.125 7927.393310546875\n",
      "S= 0.5511606177036061\n",
      "57.625 29.077335862549994 0.7899918579055463 30086.0029296875 7901.12841796875\n",
      "S= 0.5522185019461985\n",
      "57.5 29.087176982061614 0.7900321378742774 30022.8271484375 7878.487548828125\n",
      "S= 0.597818989565789\n",
      "52.5 29.489603152491707 0.800723889700845 28793.169921875 7491.26025390625\n",
      "S= 0.5991819017620347\n",
      "52.375 29.498176454629927 0.8014061149685258 28828.2626953125 7536.917236328125\n",
      "S= 0.6004065087220981\n",
      "52.25 29.51092492039221 0.8015503148129046 28844.23388671875 7581.5966796875\n",
      "S= 0.6014700395097308\n",
      "52.125 29.520095680359248 0.8020154789693794 28865.19091796875 7555.974853515625\n",
      "S= 0.6025996421772964\n",
      "52.0 29.533639593458922 0.8025331557980668 28876.2509765625 7521.814453125\n",
      "S= 0.6475668480305456\n",
      "48.0 29.887302172683565 0.8124978127128597 28121.33544921875 7428.080810546875\n",
      "S= 0.6491929205255208\n",
      "47.875 29.899319824129268 0.8127763375384784 28026.25146484375 7432.009033203125\n",
      "S= 0.65058351513369\n",
      "47.75 29.913548663269665 0.8131925941504788 27947.31591796875 7400.559326171875\n",
      "S= 0.6519745404422175\n",
      "47.625 29.9249054963294 0.812971156550777 27966.5849609375 7400.223388671875\n",
      "S= 0.6970789378296481\n",
      "44.25 30.252677219024164 0.8225901311232335 27491.1845703125 7255.285400390625\n",
      "S= 0.6988763098075639\n",
      "44.125 30.26637481810125 0.8227338693437946 27464.0009765625 7249.778076171875\n",
      "S= 0.7006181362868696\n",
      "44.0 30.279939663094176 0.8231624181133249 27394.45703125 7196.548095703125\n",
      "S= 0.7022871644816734\n",
      "43.875 30.29028172518713 0.8237958173398703 27342.82470703125 7173.520751953125\n",
      "S= 0.7490318507371498\n",
      "40.75 30.632910104911417 0.8318444499515055 26642.8603515625 7161.1298828125\n",
      "S= 0.7510401173924299\n",
      "40.625 30.6476656106147 0.8325603269152204 26565.50048828125 7177.78759765625\n",
      "S= 0.7528580759413204\n",
      "40.5 30.662398120218754 0.8327903127072447 26639.8193359375 7216.382080078125\n",
      "S= 0.7972113479292783\n",
      "38.0 30.95921762973395 0.8394432370569942 26117.103515625 6990.690185546875\n",
      "S= 0.7997296718642576\n",
      "37.875 30.97298307034032 0.8398630578659554 26131.69189453125 7021.2001953125\n",
      "S= 0.8022661248765743\n",
      "37.75 30.985249644870756 0.8401039948507456 26131.32421875 7047.431884765625\n",
      "\n"
     ]
    }
   ],
   "source": [
    "for i in tqdm_notebook(np.arange(1,1600,1)):\n",
    "    Q = 200 - i/8\n",
    "    Q_Luminance = np.ones((16,16)) * Q\n",
    "\n",
    "    Q_Fk = np.zeros(Fk.shape)\n",
    "    for row in range(IMG.img.shape[0] // 16):\n",
    "        for col in range(IMG.img.shape[1] // 16):\n",
    "            block = Fk[row * 16 : (row + 1) * 16, col * 16 : (col + 1) * 16]\n",
    "            # 量子化\n",
    "            block = np.round(block / Q_Luminance)\n",
    "            # 逆量子化\n",
    "            block = block * Q_Luminance\n",
    "            Q_Fk[row * 16 : (row + 1) * 16, col * 16 : (col + 1) * 16] = block\n",
    "\n",
    "\n",
    "    Q_recover = np.zeros(Q_Fk.shape)\n",
    "    for row in range(Q_Fk.shape[0] // 16):\n",
    "        for col in range(Q_Fk.shape[1] // 16):\n",
    "            block = Q_Fk[row * 16 : (row + 1) * 16, col * 16 : (col + 1) * 16]\n",
    "            data = scipy.fftpack.idct(\n",
    "                scipy.fftpack.idct(block, axis=0, norm=\"ortho\"), axis=1, norm=\"ortho\"\n",
    "            )\n",
    "            Q_recover[row * 16 : (row + 1) * 16, col * 16 : (col + 1) * 16] = data\n",
    "\n",
    "    Q_recover = np.round(Q_recover)\n",
    "    qfk = pd.Series(Q_Fk.flatten())\n",
    "    pro = qfk.value_counts() / qfk.value_counts().sum()\n",
    "    S = 0\n",
    "    for pi in pro:\n",
    "        S -= pi * np.log2(pi)\n",
    "\n",
    "    bpp = np.arange(0.2,0.8,0.05)\n",
    "    for i in bpp:\n",
    "        if np.abs(i - S) < 0.003:\n",
    "            MSE = np.sum(np.sum(np.power((IMG.img - Q_recover), 2))) / (\n",
    "                Q_Fk.shape[0] * Q_Fk.shape[1]\n",
    "            )\n",
    "            PSNR = 10 * np.log10(255 * 255 / MSE)\n",
    "            MSSIM = ssim(IMG.img,Q_recover.astype(IMG.img.dtype),gaussian_weights=True,sigma=1.5,K1=0.01,K2=0.03)\n",
    "            MSDSt, MSDS1, MSDS2 = msds(16,Q_recover)\n",
    "\n",
    "            print(\"S=\",S)\n",
    "            print(Q,PSNR,MSSIM,MSDS1,MSDS2)\n",
    " "
   ]
  },
  {
   "cell_type": "markdown",
   "metadata": {},
   "source": [
    "# 量子化"
   ]
  },
  {
   "cell_type": "code",
   "execution_count": 16,
   "metadata": {},
   "outputs": [],
   "source": []
  },
  {
   "cell_type": "code",
   "execution_count": 17,
   "metadata": {},
   "outputs": [],
   "source": []
  },
  {
   "cell_type": "markdown",
   "metadata": {},
   "source": [
    "# IDCT"
   ]
  },
  {
   "cell_type": "code",
   "execution_count": 18,
   "metadata": {},
   "outputs": [],
   "source": []
  },
  {
   "cell_type": "code",
   "execution_count": 19,
   "metadata": {},
   "outputs": [],
   "source": []
  },
  {
   "cell_type": "code",
   "execution_count": 20,
   "metadata": {},
   "outputs": [],
   "source": []
  },
  {
   "cell_type": "code",
   "execution_count": 21,
   "metadata": {},
   "outputs": [
    {
     "data": {
      "text/plain": [
       "<matplotlib.image.AxesImage at 0x7f3c0f3d6c50>"
      ]
     },
     "execution_count": 21,
     "metadata": {},
     "output_type": "execute_result"
    },
    {
     "data": {
      "image/png": "[encoded data removed]",
      "text/plain": [
       "<Figure size 432x288 with 1 Axes>"
      ]
     },
     "metadata": {
      "needs_background": "light"
     },
     "output_type": "display_data"
    }
   ],
   "source": [
    "plt.imshow(Q_recover, cmap=\"gray\")\n",
    "# plt.imsave(\"DCT_8x8_LENNA.png\",Q_recover,cmap=\"gray\")"
   ]
  },
  {
   "cell_type": "markdown",
   "metadata": {},
   "source": [
    "# 情報量"
   ]
  },
  {
   "cell_type": "markdown",
   "metadata": {},
   "source": [
    "$$\n",
    "- \\sum ^{255}_{i=0} p_i log_2 p_i\n",
    "$$"
   ]
  },
  {
   "cell_type": "code",
   "execution_count": 22,
   "metadata": {},
   "outputs": [
    {
     "data": {
      "text/plain": [
       " 0.0       0.988617\n",
       "-200.0     0.003281\n",
       " 200.0     0.003090\n",
       " 2400.0    0.000446\n",
       " 400.0     0.000439\n",
       "dtype: float64"
      ]
     },
     "execution_count": 22,
     "metadata": {},
     "output_type": "execute_result"
    }
   ],
   "source": []
  },
  {
   "cell_type": "code",
   "execution_count": 23,
   "metadata": {},
   "outputs": [],
   "source": []
  },
  {
   "cell_type": "code",
   "execution_count": 24,
   "metadata": {},
   "outputs": [
    {
     "data": {
      "text/plain": [
       "0.12762986512618407"
      ]
     },
     "execution_count": 24,
     "metadata": {},
     "output_type": "execute_result"
    }
   ],
   "source": [
    "S"
   ]
  },
  {
   "cell_type": "markdown",
   "metadata": {},
   "source": [
    "# PSNR"
   ]
  },
  {
   "cell_type": "markdown",
   "metadata": {},
   "source": [
    "$$\n",
    "PSNR = 10 log_{10} \\frac{MAX^2}{MSE}\n",
    "$$"
   ]
  },
  {
   "cell_type": "markdown",
   "metadata": {},
   "source": [
    "$$\n",
    "{MSE = \\frac{1}{m \\, n} \\sum^{m-1}_{i=0} \\sum^{n-1}_{j=0} [ I(i,j) - K(i,j) ]^2}\n",
    "$$"
   ]
  },
  {
   "cell_type": "code",
   "execution_count": 25,
   "metadata": {},
   "outputs": [],
   "source": []
  },
  {
   "cell_type": "code",
   "execution_count": 26,
   "metadata": {},
   "outputs": [],
   "source": []
  },
  {
   "cell_type": "code",
   "execution_count": 27,
   "metadata": {},
   "outputs": [
    {
     "data": {
      "text/plain": [
       "26.295733096638152"
      ]
     },
     "execution_count": 27,
     "metadata": {},
     "output_type": "execute_result"
    }
   ],
   "source": [
    "PSNR"
   ]
  },
  {
   "cell_type": "markdown",
   "metadata": {},
   "source": [
    "# MSSIM"
   ]
  },
  {
   "cell_type": "code",
   "execution_count": 28,
   "metadata": {},
   "outputs": [
    {
     "data": {
      "text/plain": [
       "0.7026390012376981"
      ]
     },
     "execution_count": 28,
     "metadata": {},
     "output_type": "execute_result"
    }
   ],
   "source": []
  },
  {
   "cell_type": "code",
   "execution_count": 29,
   "metadata": {},
   "outputs": [],
   "source": []
  },
  {
   "cell_type": "code",
   "execution_count": 30,
   "metadata": {},
   "outputs": [
    {
     "data": {
      "text/plain": [
       "35151.2109375"
      ]
     },
     "execution_count": 30,
     "metadata": {},
     "output_type": "execute_result"
    }
   ],
   "source": [
    "MSDS1"
   ]
  },
  {
   "cell_type": "code",
   "execution_count": 31,
   "metadata": {},
   "outputs": [
    {
     "data": {
      "text/plain": [
       "5829.85986328125"
      ]
     },
     "execution_count": 31,
     "metadata": {},
     "output_type": "execute_result"
    }
   ],
   "source": [
    "MSDS2"
   ]
  },
  {
   "cell_type": "code",
   "execution_count": null,
   "metadata": {},
   "outputs": [],
   "source": []
  }
 ],
 "metadata": {
  "kernelspec": {
   "display_name": "Python 3",
   "language": "python",
   "name": "python3"
  },
  "language_info": {
   "codemirror_mode": {
    "name": "ipython",
    "version": 3
   },
   "file_extension": ".py",
   "mimetype": "text/x-python",
   "name": "python",
   "nbconvert_exporter": "python",
   "pygments_lexer": "ipython3",
   "version": "3.6.8"
  }
 },
 "nbformat": 4,
 "nbformat_minor": 4
}
