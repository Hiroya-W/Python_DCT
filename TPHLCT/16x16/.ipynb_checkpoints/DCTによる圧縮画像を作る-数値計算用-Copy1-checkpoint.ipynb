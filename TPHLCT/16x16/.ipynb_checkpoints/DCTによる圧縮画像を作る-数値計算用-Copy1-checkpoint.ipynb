{
 "cells": [
  {
   "cell_type": "markdown",
   "metadata": {},
   "source": [
    "# DCTによる圧縮画像を作る"
   ]
  },
  {
   "cell_type": "code",
   "execution_count": 1,
   "metadata": {},
   "outputs": [],
   "source": [
    "import numpy as np\n",
    "import scipy.misc\n",
    "from scipy.fftpack import dct, idct\n",
    "import sys\n",
    "from PIL import Image\n",
    "import matplotlib\n",
    "import matplotlib.pyplot as plt\n",
    "import random\n",
    "from tqdm import tqdm_notebook as tqdm\n",
    "from tqdm._tqdm_notebook import tqdm_notebook\n",
    "from scipy.fftpack import dct, idct\n",
    "import seaborn as sns\n",
    "from skimage.metrics import structural_similarity as ssim\n",
    "import pandas as pd\n",
    "\n",
    "%matplotlib inline\n",
    "\n",
    "\n",
    "class ImageLoader:\n",
    "    def __init__(self, FILE_PATH):\n",
    "        self.img = np.array(Image.open(FILE_PATH))\n",
    "        # 行数\n",
    "        self.row_blocks_count = self.img.shape[0] // 8\n",
    "        # 列数\n",
    "        self.col_blocks_count = self.img.shape[1] // 8\n",
    "\n",
    "    def get_points(self, POINT):\n",
    "        Row = random.randint(0, len(self.img) - POINT - 1)\n",
    "        Col = random.randint(0, len(self.img) - 1)\n",
    "        return self.img[Row : Row + POINT, Col]\n",
    "\n",
    "    def get_block(self, col, row):\n",
    "        return self.img[col * 8 : (col + 1) * 8, row * 8 : (row + 1) * 8]\n",
    "\n",
    "\n",
    "# plt.rcParams['font.family'] ='sans-serif'#使用するフォント\n",
    "# plt.rcParams[\"font.sans-serif\"] = \"Source Han Sans\"\n",
    "plt.rcParams[\"font.family\"] = \"Source Han Sans JP\"  # 使用するフォント\n",
    "plt.rcParams[\"xtick.direction\"] = \"in\"  # x軸の目盛線が内向き('in')か外向き('out')か双方向か('inout')\n",
    "plt.rcParams[\"ytick.direction\"] = \"in\"  # y軸の目盛線が内向き('in')か外向き('out')か双方向か('inout')\n",
    "plt.rcParams[\"xtick.major.width\"] = 1.0  # x軸主目盛り線の線幅\n",
    "plt.rcParams[\"ytick.major.width\"] = 1.0  # y軸主目盛り線の線幅\n",
    "plt.rcParams[\"font.size\"] = 12  # フォントの大きさ\n",
    "plt.rcParams[\"axes.linewidth\"] = 1.0  # 軸の線幅edge linewidth。囲みの太さ\n",
    "matplotlib.font_manager._rebuild()\n",
    "\n",
    "# 画像の用意\n",
    "MONO_DIR_PATH = \"../../Mono/\"\n",
    "AIRPLANE = ImageLoader(MONO_DIR_PATH + \"airplane512.bmp\")\n",
    "BARBARA = ImageLoader(MONO_DIR_PATH + \"barbara512.bmp\")\n",
    "BOAT = ImageLoader(MONO_DIR_PATH + \"boat512.bmp\")\n",
    "GOLDHILL = ImageLoader(MONO_DIR_PATH + \"goldhill512.bmp\")\n",
    "LENNA = ImageLoader(MONO_DIR_PATH + \"lenna512.bmp\")\n",
    "MANDRILL = ImageLoader(MONO_DIR_PATH + \"mandrill512.bmp\")\n",
    "MILKDROP = ImageLoader(MONO_DIR_PATH + \"milkdrop512.bmp\")\n",
    "SAILBOAT = ImageLoader(MONO_DIR_PATH + \"sailboat512.bmp\")\n",
    "\n",
    "N = 16"
   ]
  },
  {
   "cell_type": "markdown",
   "metadata": {
    "toc-hr-collapsed": false
   },
   "source": [
    "# DCT"
   ]
  },
  {
   "cell_type": "markdown",
   "metadata": {},
   "source": [
    "## 基底関数"
   ]
  },
  {
   "cell_type": "markdown",
   "metadata": {},
   "source": [
    "$$\n",
    "\\phi_k[i] = \\begin{cases}\n",
    "\\cfrac{1}{\\sqrt{N}}  \\quad \\quad \\quad (k=0) \\\\\n",
    "\\sqrt{\\cfrac{2}{N}} \\cos \\left({\\cfrac{\\pi}{2N}(2i+1)k}\\right) \\quad  (k=1,2,...,N-1) \n",
    "\\end{cases}\n",
    "$$"
   ]
  },
  {
   "cell_type": "code",
   "execution_count": 2,
   "metadata": {},
   "outputs": [],
   "source": [
    "class DCT:\n",
    "    def __init__(self, N):\n",
    "        self.N = N  # データ数\n",
    "        # 1次元DCTの基底ベクトルの生成\n",
    "        self.phi_1d = np.array([self.phi(i) for i in range(self.N)])\n",
    "        # 2次元DCTの基底ベクトルの格納\n",
    "        self.phi_2d = np.zeros((N, N))\n",
    "\n",
    "    def phi(self, k):\n",
    "        \"\"\" 離散コサイン変換(DCT)の基底関数 \"\"\"\n",
    "        # DCT-II\n",
    "        if k == 0:\n",
    "            return np.ones(self.N) / np.sqrt(self.N)\n",
    "        else:\n",
    "            return np.sqrt(2.0 / self.N) * np.cos(\n",
    "                (k * np.pi / (2 * self.N)) * (np.arange(self.N) * 2 + 1)\n",
    "            )\n",
    "\n",
    "    def dct(self, data):\n",
    "        \"\"\" 1次元離散コサイン変換を行う \"\"\"\n",
    "        return self.phi_1d.dot(data)\n",
    "\n",
    "    def idct(self, c):\n",
    "        \"\"\" 1次元離散コサイン逆変換を行う \"\"\"\n",
    "        return np.sum(self.phi_1d.T * c, axis=1)\n",
    "\n",
    "    def get_dct2_phi(self, y, x):\n",
    "        \"\"\" 2次元離散コサイン変換の基底を返す \"\"\"\n",
    "        phi_x, phi_y = np.meshgrid(self.phi_1d[x], self.phi_1d[y])\n",
    "        return phi_x * phi_y\n",
    "\n",
    "    def get_dct2(self, y, x, data):\n",
    "        \"\"\" i,jの2次元DCT係数を返す \"\"\"\n",
    "        phi_2d_phi = np.zeros((self.N, self.N))\n",
    "        phi_2d_phi = self.get_dct2_phi(y, x)\n",
    "        return np.sum(np.sum(phi_2d_phi * data))\n",
    "\n",
    "    def dct2(self, data):\n",
    "        \"\"\" 2次元離散コサイン変換を行う \"\"\"\n",
    "        for y in range(self.N):\n",
    "            for x in range(self.N):\n",
    "                self.phi_2d[y, x] = self.get_dct2(y, x, data)\n",
    "\n",
    "        return self.phi_2d\n",
    "\n",
    "    def idct2(self, c):\n",
    "        \"\"\" 2次元離散コサイン逆変換を行う \"\"\"\n",
    "        idct2_data = np.zeros((self.N, self.N))\n",
    "        phi_2d_phi = np.zeros((self.N, self.N))\n",
    "        for y in range(self.N):\n",
    "            for x in range(self.N):\n",
    "                phi_2d_phi = self.get_dct2_phi(y, x)\n",
    "                idct2_data += c[y, x] * phi_2d_phi\n",
    "\n",
    "        return idct2_data"
   ]
  },
  {
   "cell_type": "markdown",
   "metadata": {},
   "source": [
    "# MSDS"
   ]
  },
  {
   "cell_type": "code",
   "execution_count": 3,
   "metadata": {},
   "outputs": [],
   "source": [
    "def msds(N,arr):\n",
    "    w_e = 0\n",
    "    e_e = 0\n",
    "    n_e = 0\n",
    "    s_e = 0\n",
    "    nw_e = 0\n",
    "    ne_e = 0\n",
    "    sw_e = 0\n",
    "    se_e = 0\n",
    "    for row in range(arr.shape[0] // N):\n",
    "        for col in range(arr.shape[1] // N):\n",
    "            f_block = arr[row * N : (row + 1) * N, col * N : (col + 1) * N]\n",
    "            # w\n",
    "            if col == 0:\n",
    "                w_block = np.fliplr(f_block)\n",
    "            else:\n",
    "                w_block = arr[row * N : (row + 1) * N, (col - 1) * N : col * N]\n",
    "            # e\n",
    "            if col == arr.shape[1] // N - 1:\n",
    "                e_block = np.fliplr(f_block)\n",
    "            else:\n",
    "                e_block = arr[row * N : (row + 1) * N, (col + 1) * N : (col + 2) * N]\n",
    "            # n\n",
    "            if row == 0:\n",
    "                n_block = np.flipud(f_block)\n",
    "            else:\n",
    "                n_block = arr[(row - 1) * N : row * N, col * N : (col + 1) * N]\n",
    "            # s\n",
    "            if row == arr.shape[0] // N - 1:\n",
    "                s_block = np.flipud(f_block)\n",
    "            else:\n",
    "                s_block = arr[(row + 1) * N : (row + 2) * N, col * N : (col + 1) * N]\n",
    "\n",
    "            w_d1 = f_block[:, 0] - w_block[:, N-1]\n",
    "            e_d1 = f_block[:, N-1] - e_block[:, 0]\n",
    "            n_d1 = f_block[0, :] - n_block[N-1, :]\n",
    "            s_d1 = f_block[N-1, :] - s_block[0, :]\n",
    "\n",
    "            w_d2 = (w_block[:, N-1] - w_block[:, N-2] + f_block[:, 1] - f_block[:, 0]) / 2\n",
    "            e_d2 = (e_block[:, 1] - e_block[:, 0] + f_block[:, N-1] - f_block[:, N-2]) / 2\n",
    "            n_d2 = (n_block[N-1, :] - n_block[N-2, :] + f_block[1, :] - f_block[0, :]) / 2\n",
    "            s_d2 = (s_block[1, :] - s_block[0, :] + f_block[N-1, :] - f_block[N-2, :]) / 2\n",
    "\n",
    "            w_e += np.sum((w_d1 - w_d2) ** 2 )\n",
    "            e_e += np.sum((e_d1 - e_d2) ** 2 )\n",
    "            n_e += np.sum((n_d1 - n_d2) ** 2)\n",
    "            s_e += np.sum((s_d1 - s_d2) ** 2)\n",
    "\n",
    "            # nw\n",
    "            if row == 0 or col == 0:\n",
    "                nw_block = np.flipud(np.fliplr(f_block))\n",
    "            else:\n",
    "                nw_block = arr[(row - 1) * N : row * N, (col - 1) * N : col * N]\n",
    "            # ne\n",
    "            if row == 0 or col == arr.shape[1] // N - 1:\n",
    "                ne_block = np.flipud(np.fliplr(f_block))\n",
    "            else:\n",
    "                ne_block = arr[(row-1) * N : row * N, (col + 1) * N : (col + 2) * N]\n",
    "            # sw\n",
    "            if row == arr.shape[0] // N -1 or col == 0:\n",
    "                sw_block = np.flipud(np.fliplr(f_block))\n",
    "            else:\n",
    "                sw_block = arr[row * N : (row+1) * N, (col-1) * N : col * N]\n",
    "            # se\n",
    "            if  row == arr.shape[0]//N-1 or col == arr.shape[0] // N -1:\n",
    "                se_block = np.flipud(np.fliplr(f_block))\n",
    "            else:\n",
    "                se_block = arr[(row + 1) * N : (row + 2) * N, (col+1) * N : (col + 2) * N]\n",
    "\n",
    "            nw_g1 = f_block[0, 0] - nw_block[N-1, N-1]\n",
    "            ne_g1 = f_block[0, N-1] - ne_block[N-1, 0]\n",
    "            sw_g1 = f_block[N-1, 0] - sw_block[0, N-1]\n",
    "            se_g1 = f_block[N-1, N-1] - se_block[0, 0]\n",
    "\n",
    "            nw_g2 = (nw_block[N-1,N-1] - nw_block[N-2,N-2] + f_block[1,1] - f_block[0,0])/2\n",
    "            ne_g2 = (ne_block[N-1,0] - ne_block[N-2,1] + f_block[1,N-2] - f_block[0,N-1])/2\n",
    "            sw_g2 = (sw_block[0,N-1] - nw_block[1,N-2] + f_block[N-2,1] - f_block[N-1,0])/2\n",
    "            se_g2 = (nw_block[0,0] - nw_block[1,1] + f_block[N-2,N-2] - f_block[N-1,N-1])/2\n",
    "\n",
    "            nw_e += (nw_g1 - nw_g2) ** 2 \n",
    "            ne_e += (ne_g1 - ne_g2) ** 2 \n",
    "            sw_e += (sw_g1 - sw_g2) ** 2 \n",
    "            se_e += (se_g1 - se_g2) ** 2 \n",
    "\n",
    "    MSDSt = (w_e + e_e + n_e + s_e + nw_e + ne_e + sw_e + se_e)/ ((arr.shape[0]/N)**2)\n",
    "    MSDS1 = (w_e + e_e + n_e + s_e)/ ((arr.shape[0]/N)**2)\n",
    "    MSDS2 = (nw_e + ne_e + sw_e + se_e)/ ((arr.shape[0]/N)**2)\n",
    "    return MSDSt, MSDS1, MSDS2"
   ]
  },
  {
   "cell_type": "markdown",
   "metadata": {},
   "source": [
    "# 16x16ブロックでDCT"
   ]
  },
  {
   "cell_type": "markdown",
   "metadata": {},
   "source": [
    "### DCT"
   ]
  },
  {
   "cell_type": "code",
   "execution_count": 8,
   "metadata": {},
   "outputs": [],
   "source": [
    "IMG = AIRPLANE"
   ]
  },
  {
   "cell_type": "code",
   "execution_count": 9,
   "metadata": {},
   "outputs": [],
   "source": [
    "Fk = np.zeros(IMG.img.shape)"
   ]
  },
  {
   "cell_type": "code",
   "execution_count": 10,
   "metadata": {},
   "outputs": [],
   "source": [
    "for row in range(IMG.img.shape[0] // 16):\n",
    "    for col in range(IMG.img.shape[1] // 16):\n",
    "        block = IMG.img[row * 16 : (row + 1) * 16, col * 16 : (col + 1) * 16]\n",
    "        c = scipy.fftpack.dct(\n",
    "            scipy.fftpack.dct(block, axis=0, norm=\"ortho\"), axis=1, norm=\"ortho\"\n",
    "        )\n",
    "        Fk[row * 16 : (row + 1) * 16, col * 16 : (col + 1) * 16] = c\n",
    "        "
   ]
  },
  {
   "cell_type": "code",
   "execution_count": 11,
   "metadata": {},
   "outputs": [],
   "source": [
    "low_3_value = 0\n",
    "others_value = 0"
   ]
  },
  {
   "cell_type": "code",
   "execution_count": 12,
   "metadata": {},
   "outputs": [],
   "source": [
    "for row in range(IMG.img.shape[0] // 16):\n",
    "    for col in range(IMG.img.shape[1] // 16):\n",
    "        block = Fk[row * 16 : (row + 1) * 16, col * 16 : (col + 1) * 16]\n",
    "        low_3_value += np.abs(block[0, 1]) + np.abs(block[1, 0]) + np.abs(block[1, 1])\n",
    "        others_value += (\n",
    "            np.sum(np.sum(np.abs(block)))\n",
    "            - np.abs(block[0, 0])\n",
    "            - np.abs(block[0, 1])\n",
    "            - np.abs(block[1, 0])\n",
    "            - np.abs(block[1, 1])\n",
    "        )\n",
    "        "
   ]
  },
  {
   "cell_type": "markdown",
   "metadata": {},
   "source": [
    "### 低域3成分 (0,1)(1,0)(1,1)の絶対値の和"
   ]
  },
  {
   "cell_type": "code",
   "execution_count": 13,
   "metadata": {},
   "outputs": [
    {
     "data": {
      "text/plain": [
       "270762.83466399217"
      ]
     },
     "execution_count": 13,
     "metadata": {},
     "output_type": "execute_result"
    }
   ],
   "source": [
    "low_3_value"
   ]
  },
  {
   "cell_type": "code",
   "execution_count": 14,
   "metadata": {},
   "outputs": [
    {
     "data": {
      "text/plain": [
       "1555530.7244894102"
      ]
     },
     "execution_count": 14,
     "metadata": {},
     "output_type": "execute_result"
    }
   ],
   "source": [
    "others_value"
   ]
  },
  {
   "cell_type": "markdown",
   "metadata": {},
   "source": [
    "### IDCT"
   ]
  },
  {
   "cell_type": "code",
   "execution_count": 15,
   "metadata": {},
   "outputs": [],
   "source": [
    "recover = np.zeros(Fk.shape)"
   ]
  },
  {
   "cell_type": "code",
   "execution_count": 16,
   "metadata": {},
   "outputs": [],
   "source": [
    "for row in range(Fk.shape[0] // 16):\n",
    "    for col in range(Fk.shape[1] // 16):\n",
    "        block = Fk[row * 16 : (row + 1) * 16, col * 16 : (col + 1) * 16]\n",
    "        data = scipy.fftpack.idct(\n",
    "            scipy.fftpack.idct(block, axis=0, norm=\"ortho\"), axis=1, norm=\"ortho\"\n",
    "        )\n",
    "        recover[row * 16 : (row + 1) * 16, col * 16 : (col + 1) * 16] = data\n",
    "        "
   ]
  },
  {
   "cell_type": "code",
   "execution_count": 17,
   "metadata": {},
   "outputs": [
    {
     "data": {
      "text/plain": [
       "<matplotlib.image.AxesImage at 0x7f46abd8a400>"
      ]
     },
     "execution_count": 17,
     "metadata": {},
     "output_type": "execute_result"
    },
    {
     "data": {
      "image/png": "[encoded data removed]",
      "text/plain": [
       "<Figure size 432x288 with 1 Axes>"
      ]
     },
     "metadata": {
      "needs_background": "light"
     },
     "output_type": "display_data"
    }
   ],
   "source": [
    "plt.imshow(recover, cmap=\"gray\")"
   ]
  },
  {
   "cell_type": "code",
   "execution_count": 18,
   "metadata": {},
   "outputs": [
    {
     "data": {
      "text/plain": [
       "array([ 65., 199., 193., 185., 179., 185., 191., 189., 191., 193.])"
      ]
     },
     "execution_count": 18,
     "metadata": {},
     "output_type": "execute_result"
    }
   ],
   "source": [
    "recover[0, 0:10]"
   ]
  },
  {
   "cell_type": "code",
   "execution_count": 19,
   "metadata": {},
   "outputs": [
    {
     "data": {
      "text/plain": [
       "array([ 65, 199, 193, 185, 179, 185, 191, 189, 191, 193], dtype=uint8)"
      ]
     },
     "execution_count": 19,
     "metadata": {},
     "output_type": "execute_result"
    }
   ],
   "source": [
    "IMG.img[0, 0:10]"
   ]
  },
  {
   "cell_type": "markdown",
   "metadata": {},
   "source": [
    "ちゃんと復元できてる"
   ]
  },
  {
   "cell_type": "markdown",
   "metadata": {},
   "source": [
    "# 量子化テーブル"
   ]
  },
  {
   "cell_type": "markdown",
   "metadata": {},
   "source": [
    "16x16の量子化テーブルは無いので一様量子化を行う"
   ]
  },
  {
   "cell_type": "code",
   "execution_count": 23,
   "metadata": {},
   "outputs": [
    {
     "data": {
      "application/vnd.jupyter.widget-view+json": {
       "model_id": "42b8b5f89fc54d47b6f3f23f692effca",
       "version_major": 2,
       "version_minor": 0
      },
      "text/plain": [
       "HBox(children=(IntProgress(value=0, max=9999), HTML(value='')))"
      ]
     },
     "metadata": {},
     "output_type": "display_data"
    },
    {
     "name": "stdout",
     "output_type": "stream",
     "text": [
      "S= 0.1510803038978073\n",
      "199.98 25.384057078988775 0.7293881629583404 39585.65478515625 7757.051025390625\n",
      "S= 0.1510803038978073\n",
      "199.96 25.38480432504518 0.7294140231997776 39577.5888671875 7755.227294921875\n",
      "S= 0.15107391434570394\n",
      "199.94 25.383748500094075 0.7293793271443859 39523.06591796875 7751.650634765625\n",
      "S= 0.1510687808568934\n",
      "199.92 25.385370236681926 0.7295510493838337 39540.56787109375 7756.74365234375\n",
      "S= 0.15107054369649556\n",
      "199.9 25.386556178697745 0.7293180904507937 39519.396484375 7752.09326171875\n",
      "S= 0.15107213655410595\n",
      "199.88 25.386854916668582 0.7295014574249693 39495.658203125 7750.358642578125\n",
      "S= 0.15110368101577942\n",
      "199.86 25.38758467408989 0.7295242767691955 39486.5078125 7747.930908203125\n",
      "S= 0.15113287140392032\n",
      "199.84 25.388071394002075 0.7295645412108711 39534.97412109375 7782.398193359375\n",
      "S= 0.1511380190722455\n",
      "199.82 25.388553146262595 0.7294564182502925 39551.7978515625 7787.376708984375\n",
      "S= 0.151178656705287\n",
      "199.8 25.389488169508127 0.7297258977166257 39545.5771484375 7789.29296875\n",
      "S= 0.15118018541216163\n",
      "199.78 25.38973872402292 0.7298334696014898 39534.01708984375 7785.07080078125\n",
      "S= 0.1512175751096282\n",
      "199.76 25.38981363760645 0.7297443730695493 39674.70263671875 7794.976318359375\n",
      "S= 0.15122564510339037\n",
      "199.74 25.390189106328634 0.7297729235514334 39663.36572265625 7794.541748046875\n",
      "S= 0.15129014802037735\n",
      "199.72 25.39174553233915 0.7296841045567175 39681.41259765625 7809.57666015625\n",
      "S= 0.15129161210031358\n",
      "199.7 25.39214462439756 0.7295955965875528 39634.44873046875 7809.790771484375\n",
      "S= 0.15129134137844946\n",
      "199.68 25.39239833057276 0.7295182936961311 39676.6484375 7810.242919921875\n",
      "S= 0.15128603613410477\n",
      "199.66 25.39162244373533 0.7294087347202888 39666.78955078125 7806.348876953125\n",
      "S= 0.15131756612013067\n",
      "199.64 25.391987399263826 0.729363727118834 39645.70556640625 7811.690185546875\n",
      "S= 0.15134673499953352\n",
      "199.62 25.39243148895735 0.7293760593892566 39647.900390625 7826.53955078125\n",
      "S= 0.1513413787966382\n",
      "199.6 25.392807889644867 0.7296499334842762 39622.27294921875 7825.901611328125\n",
      "S= 0.1513534734580513\n",
      "199.58 25.39353979486166 0.7295644661757743 39690.86572265625 7835.468994140625\n",
      "S= 0.15136296830159568\n",
      "199.56 25.393687725614384 0.7296617578446857 39683.31494140625 7831.885986328125\n",
      "S= 0.1513644073426725\n",
      "199.54 25.402902348799575 0.7298898225157047 39646.8291015625 7828.583740234375\n",
      "S= 0.1513669669682004\n",
      "199.52 25.40342120177939 0.7299307174251656 39647.65380859375 7829.09716796875\n",
      "S= 0.15139696324221952\n",
      "199.5 25.403918630374772 0.7300027199204113 39628.9453125 7835.799560546875\n",
      "S= 0.15139888879411362\n",
      "199.48 25.397441047717408 0.7293879795841777 39593.2109375 7831.47412109375\n",
      "S= 0.15140676176535942\n",
      "199.46 25.39767943540271 0.7294228900390446 39592.49267578125 7831.15234375\n",
      "S= 0.15143675306001814\n",
      "199.44 25.401281299513553 0.7295451978584824 39607.37744140625 7838.99853515625\n",
      "S= 0.15143502924007066\n",
      "199.42 25.402087638672572 0.7297094136945352 39573.51904296875 7830.373291015625\n",
      "S= 0.151436359149668\n",
      "199.4 25.402780357951585 0.7297589064183952 39560.42919921875 7829.3974609375\n",
      "S= 0.1514323020672197\n",
      "199.38 25.403240935555658 0.7297771161503843 39568.4765625 7831.2998046875\n",
      "S= 0.15143468181861253\n",
      "199.36 25.402545844591884 0.7298983245543423 39544.91748046875 7828.087890625\n",
      "S= 0.15146515126172763\n",
      "199.34 25.402789816539723 0.7299764695422127 39549.14697265625 7828.901611328125\n",
      "S= 0.15145414355536718\n",
      "199.32 25.403391053743732 0.7301347690101204 39521.07373046875 7830.137939453125\n",
      "S= 0.15147928474303535\n",
      "199.3 25.40377397587157 0.7300470770241455 39579.38330078125 7838.742431640625\n",
      "S= 0.15148491805910907\n",
      "199.28 25.404517459316764 0.7300432998533039 39633.17529296875 7854.95849609375\n",
      "S= 0.15148983427719057\n",
      "199.26 25.404677880264654 0.7299948567096979 39627.1728515625 7854.74267578125\n",
      "S= 0.15148983427719057\n",
      "199.24 25.404875540463053 0.7300420187158878 39617.16162109375 7851.837890625\n",
      "S= 0.15149761038821016\n",
      "199.22 25.40505932387709 0.7303595071648848 39569.74853515625 7854.760009765625\n",
      "S= 0.15149868380065504\n",
      "199.2 25.405663705986825 0.7303779372764472 39579.38671875 7852.278564453125\n",
      "S= 0.15150071597107706\n",
      "199.18 25.405897591619343 0.7304263873471936 39576.6611328125 7850.78173828125\n",
      "S= 0.1515339213665944\n",
      "199.16 25.40654561968857 0.7307135868983916 39577.35986328125 7847.7236328125\n",
      "S= 0.15153008827456468\n",
      "199.14 25.40690740738237 0.730738603306683 39560.51708984375 7841.947265625\n",
      "S= 0.15153008827456468\n",
      "199.12 25.407292763445263 0.7307376791542474 39558.03271484375 7841.18896484375\n",
      "S= 0.15153008827456468\n",
      "199.1 25.407444083671248 0.7307515015511201 39551.47607421875 7840.4482421875\n",
      "S= 0.1515294560230661\n",
      "199.08 25.408338662051722 0.7307739904273122 39585.9677734375 7840.30712890625\n",
      "S= 0.15152716904440008\n",
      "199.06 25.408208464128315 0.7308466947584527 39610.12353515625 7855.8154296875\n",
      "S= 0.15152281984730323\n",
      "199.04 25.416023089078582 0.7317026134299578 39488.6171875 7848.613037109375\n",
      "S= 0.15152037907836094\n",
      "199.02 25.417693647239826 0.7317643297046182 39503.7177734375 7856.098388671875\n",
      "S= 0.15151471064950536\n",
      "199.0 25.417659231001693 0.7317458444971195 39510.333984375 7858.146240234375\n",
      "S= 0.15158509830272524\n",
      "198.98 25.418464358564464 0.7320835439907605 39467.69384765625 7888.7373046875\n",
      "S= 0.15159201248205387\n",
      "198.96 25.41954196918478 0.7320742108714348 39454.58056640625 7889.1083984375\n",
      "S= 0.15159605054425998\n",
      "198.94 25.41994211517369 0.7319861089297285 39493.640625 7898.40869140625\n",
      "S= 0.15159369056573044\n",
      "198.92 25.41674809819937 0.7316183565985735 39528.025390625 7901.0322265625\n",
      "S= 0.1515948037369977\n",
      "198.9 25.4173654622545 0.7317233460834954 39518.64990234375 7902.636474609375\n",
      "S= 0.1515948037369977\n",
      "198.88 25.415973967349448 0.7317308813888347 39505.029296875 7896.89697265625\n",
      "S= 0.151625849293081\n",
      "198.86 25.416171432979603 0.7316536976921365 39515.908203125 7898.0986328125\n",
      "S= 0.15165616704916693\n",
      "198.84 25.416208852265363 0.7315555705780921 39598.91064453125 7911.769775390625\n",
      "S= 0.1516536681406802\n",
      "198.82 25.41719605754811 0.7316659910124531 39641.4619140625 7936.677001953125\n",
      "S= 0.15165515281587189\n",
      "198.8 25.417027901086836 0.7316987216791241 39707.015625 7945.5380859375\n",
      "S= 0.15165024564227203\n",
      "198.78 25.417401472692916 0.7315061371651413 39715.0703125 7945.185546875\n",
      "S= 0.15167941004242236\n",
      "198.76 25.41786857109891 0.7315140526544606 39677.77734375 7953.65234375\n",
      "S= 0.151695141483206\n",
      "198.74 25.418383626172506 0.7314891557237093 39675.7353515625 7958.420166015625\n",
      "S= 0.15171668970922958\n",
      "198.72 25.418575345873915 0.7316250682621351 39670.74267578125 7946.631103515625\n",
      "S= 0.15171668970922958\n",
      "198.7 25.419120387071477 0.7315638443409552 39660.82666015625 7946.0810546875\n",
      "S= 0.1517744715611271\n",
      "198.68 25.419962261000887 0.7315939300970822 39607.72119140625 7914.658447265625\n",
      "S= 0.15179830103901576\n",
      "198.66 25.42944916334043 0.7319845851519883 39702.7451171875 7941.40185546875\n",
      "S= 0.15179231404104193\n",
      "198.64 25.428555295065497 0.7319735401104631 39713.1416015625 7936.832763671875\n",
      "S= 0.15179981482309562\n",
      "198.62 25.432253177677016 0.731867877719021 39724.91015625 7933.81884765625\n",
      "S= 0.15182994008878914\n",
      "198.6 25.432950992674694 0.7318470356225388 39655.953125 7913.894775390625\n",
      "S= 0.15185908735047643\n",
      "198.58 25.433229972031572 0.7317920977523175 39661.00830078125 7911.706298828125\n",
      "S= 0.15185908735047643\n",
      "198.56 25.433611706071865 0.7318257966738837 39661.33642578125 7911.278076171875\n",
      "S= 0.15185881561317122\n",
      "198.54 25.43399222717126 0.7321126695876958 39721.0625 7910.33349609375\n",
      "S= 0.15188795860379128\n",
      "198.52 25.434577318918834 0.7320992160654075 39667.857421875 7921.091796875\n",
      "S= 0.1518866623304465\n",
      "198.5 25.42691584384435 0.7312726403387649 39714.1357421875 7929.67236328125\n",
      "S= 0.15188843241641237\n",
      "198.48 25.427992975359864 0.7313657325674211 39689.4306640625 7924.661376953125\n",
      "S= 0.1518892524475503\n",
      "198.46 25.428289953608427 0.7314707373425762 39686.02783203125 7923.747802734375\n",
      "S= 0.1518967553790867\n",
      "198.44 25.42924380014678 0.7316554890133942 39665.66650390625 7920.04296875\n",
      "S= 0.15195574457283556\n",
      "198.42 25.4301613836993 0.7316025712037216 39673.68408203125 7927.73974609375\n",
      "S= 0.15196781579940638\n",
      "198.4 25.43013736537358 0.7317329221921858 39675.6103515625 7912.00439453125\n",
      "S= 0.15196781579940638\n",
      "198.38 25.4303084321228 0.7317280235025554 39675.767578125 7909.97802734375\n",
      "S= 0.15197996386321\n",
      "198.36 25.431143491147367 0.7318168623745684 39652.43359375 7906.5849609375\n",
      "S= 0.15197996386321\n",
      "198.34 25.43175071350895 0.731846463801866 39650.0380859375 7906.37744140625\n",
      "S= 0.15197996386321\n",
      "198.32 25.43220636400051 0.7318583219864188 39646.46142578125 7908.88232421875\n",
      "S= 0.15198639965192584\n",
      "198.3 25.430865713441143 0.731618063406338 39680.0478515625 7923.30712890625\n",
      "S= 0.15203956828550053\n",
      "198.28 25.431179527033223 0.7315410522701296 39659.1259765625 7915.57568359375\n",
      "S= 0.15204689222350015\n",
      "198.26 25.431681213212237 0.7317488164782616 39641.6806640625 7915.874755859375\n",
      "S= 0.15210677748518037\n",
      "198.24 25.432288955769987 0.7314549142504126 39597.4794921875 7936.519287109375\n",
      "S= 0.15210677748518037\n",
      "198.22 25.43228406073986 0.7314552037611466 39598.78759765625 7934.66064453125\n",
      "S= 0.15210677748518037\n",
      "198.2 25.432912449711793 0.7314523004942749 39590.6611328125 7935.558837890625\n",
      "S= 0.15211474554672655\n",
      "198.18 25.433202910071046 0.7315010651408014 39583.65185546875 7965.07373046875\n",
      "S= 0.1521154818784175\n",
      "198.16 25.433571910868128 0.7314237495638062 39587.0673828125 7965.072265625\n",
      "S= 0.15213061737291178\n",
      "198.14 25.43379537411988 0.7311763669908394 39611.33056640625 7951.408203125\n",
      "S= 0.15214265069819183\n",
      "198.12 25.435052324291423 0.731285745111615 39657.41357421875 7940.384765625\n",
      "S= 0.1521433667219222\n",
      "198.1 25.441924249996628 0.7319967991350572 39562.0771484375 7932.62744140625\n",
      "S= 0.1522019323093708\n",
      "198.08 25.44262611873269 0.7320395744725092 39548.55859375 7944.206298828125\n",
      "S= 0.1522032338569259\n",
      "198.06 25.44247410296748 0.7319610834820303 39546.181640625 7943.94970703125\n",
      "S= 0.15220152679621352\n",
      "198.04 25.442996277962635 0.7320586186212109 39527.80517578125 7929.374267578125\n"
     ]
    },
    {
     "ename": "KeyboardInterrupt",
     "evalue": "",
     "output_type": "error",
     "traceback": [
      "\u001b[0;31m---------------------------------------------------------------------------\u001b[0m",
      "\u001b[0;31mKeyboardInterrupt\u001b[0m                         Traceback (most recent call last)",
      "\u001b[0;32m<ipython-input-23-071fcf699fb8>\u001b[0m in \u001b[0;36m<module>\u001b[0;34m\u001b[0m\n\u001b[1;32m     37\u001b[0m             )\n\u001b[1;32m     38\u001b[0m             \u001b[0mPSNR\u001b[0m \u001b[0;34m=\u001b[0m \u001b[0;36m10\u001b[0m \u001b[0;34m*\u001b[0m \u001b[0mnp\u001b[0m\u001b[0;34m.\u001b[0m\u001b[0mlog10\u001b[0m\u001b[0;34m(\u001b[0m\u001b[0;36m255\u001b[0m \u001b[0;34m*\u001b[0m \u001b[0;36m255\u001b[0m \u001b[0;34m/\u001b[0m \u001b[0mMSE\u001b[0m\u001b[0;34m)\u001b[0m\u001b[0;34m\u001b[0m\u001b[0;34m\u001b[0m\u001b[0m\n\u001b[0;32m---> 39\u001b[0;31m             \u001b[0mMSSIM\u001b[0m \u001b[0;34m=\u001b[0m \u001b[0mssim\u001b[0m\u001b[0;34m(\u001b[0m\u001b[0mIMG\u001b[0m\u001b[0;34m.\u001b[0m\u001b[0mimg\u001b[0m\u001b[0;34m,\u001b[0m\u001b[0mQ_recover\u001b[0m\u001b[0;34m.\u001b[0m\u001b[0mastype\u001b[0m\u001b[0;34m(\u001b[0m\u001b[0mIMG\u001b[0m\u001b[0;34m.\u001b[0m\u001b[0mimg\u001b[0m\u001b[0;34m.\u001b[0m\u001b[0mdtype\u001b[0m\u001b[0;34m)\u001b[0m\u001b[0;34m,\u001b[0m\u001b[0mgaussian_weights\u001b[0m\u001b[0;34m=\u001b[0m\u001b[0;32mTrue\u001b[0m\u001b[0;34m,\u001b[0m\u001b[0msigma\u001b[0m\u001b[0;34m=\u001b[0m\u001b[0;36m1.5\u001b[0m\u001b[0;34m,\u001b[0m\u001b[0mK1\u001b[0m\u001b[0;34m=\u001b[0m\u001b[0;36m0.01\u001b[0m\u001b[0;34m,\u001b[0m\u001b[0mK2\u001b[0m\u001b[0;34m=\u001b[0m\u001b[0;36m0.03\u001b[0m\u001b[0;34m)\u001b[0m\u001b[0;34m\u001b[0m\u001b[0;34m\u001b[0m\u001b[0m\n\u001b[0m\u001b[1;32m     40\u001b[0m             \u001b[0mMSDSt\u001b[0m\u001b[0;34m,\u001b[0m \u001b[0mMSDS1\u001b[0m\u001b[0;34m,\u001b[0m \u001b[0mMSDS2\u001b[0m \u001b[0;34m=\u001b[0m \u001b[0mmsds\u001b[0m\u001b[0;34m(\u001b[0m\u001b[0;36m16\u001b[0m\u001b[0;34m,\u001b[0m\u001b[0mQ_recover\u001b[0m\u001b[0;34m)\u001b[0m\u001b[0;34m\u001b[0m\u001b[0;34m\u001b[0m\u001b[0m\n\u001b[1;32m     41\u001b[0m \u001b[0;34m\u001b[0m\u001b[0m\n",
      "\u001b[0;32m~/Documents/Jupyter-Notebook/.venv/lib/python3.6/site-packages/skimage/metrics/_structural_similarity.py\u001b[0m in \u001b[0;36mstructural_similarity\u001b[0;34m(im1, im2, win_size, gradient, data_range, multichannel, gaussian_weights, full, **kwargs)\u001b[0m\n\u001b[1;32m    192\u001b[0m     \u001b[0muxx\u001b[0m \u001b[0;34m=\u001b[0m \u001b[0mfilter_func\u001b[0m\u001b[0;34m(\u001b[0m\u001b[0mim1\u001b[0m \u001b[0;34m*\u001b[0m \u001b[0mim1\u001b[0m\u001b[0;34m,\u001b[0m \u001b[0;34m**\u001b[0m\u001b[0mfilter_args\u001b[0m\u001b[0;34m)\u001b[0m\u001b[0;34m\u001b[0m\u001b[0;34m\u001b[0m\u001b[0m\n\u001b[1;32m    193\u001b[0m     \u001b[0muyy\u001b[0m \u001b[0;34m=\u001b[0m \u001b[0mfilter_func\u001b[0m\u001b[0;34m(\u001b[0m\u001b[0mim2\u001b[0m \u001b[0;34m*\u001b[0m \u001b[0mim2\u001b[0m\u001b[0;34m,\u001b[0m \u001b[0;34m**\u001b[0m\u001b[0mfilter_args\u001b[0m\u001b[0;34m)\u001b[0m\u001b[0;34m\u001b[0m\u001b[0;34m\u001b[0m\u001b[0m\n\u001b[0;32m--> 194\u001b[0;31m     \u001b[0muxy\u001b[0m \u001b[0;34m=\u001b[0m \u001b[0mfilter_func\u001b[0m\u001b[0;34m(\u001b[0m\u001b[0mim1\u001b[0m \u001b[0;34m*\u001b[0m \u001b[0mim2\u001b[0m\u001b[0;34m,\u001b[0m \u001b[0;34m**\u001b[0m\u001b[0mfilter_args\u001b[0m\u001b[0;34m)\u001b[0m\u001b[0;34m\u001b[0m\u001b[0;34m\u001b[0m\u001b[0m\n\u001b[0m\u001b[1;32m    195\u001b[0m     \u001b[0mvx\u001b[0m \u001b[0;34m=\u001b[0m \u001b[0mcov_norm\u001b[0m \u001b[0;34m*\u001b[0m \u001b[0;34m(\u001b[0m\u001b[0muxx\u001b[0m \u001b[0;34m-\u001b[0m \u001b[0mux\u001b[0m \u001b[0;34m*\u001b[0m \u001b[0mux\u001b[0m\u001b[0;34m)\u001b[0m\u001b[0;34m\u001b[0m\u001b[0;34m\u001b[0m\u001b[0m\n\u001b[1;32m    196\u001b[0m     \u001b[0mvy\u001b[0m \u001b[0;34m=\u001b[0m \u001b[0mcov_norm\u001b[0m \u001b[0;34m*\u001b[0m \u001b[0;34m(\u001b[0m\u001b[0muyy\u001b[0m \u001b[0;34m-\u001b[0m \u001b[0muy\u001b[0m \u001b[0;34m*\u001b[0m \u001b[0muy\u001b[0m\u001b[0;34m)\u001b[0m\u001b[0;34m\u001b[0m\u001b[0;34m\u001b[0m\u001b[0m\n",
      "\u001b[0;32m~/Documents/Jupyter-Notebook/.venv/lib/python3.6/site-packages/scipy/ndimage/filters.py\u001b[0m in \u001b[0;36mgaussian_filter\u001b[0;34m(input, sigma, order, output, mode, cval, truncate)\u001b[0m\n\u001b[1;32m    297\u001b[0m         \u001b[0;32mfor\u001b[0m \u001b[0maxis\u001b[0m\u001b[0;34m,\u001b[0m \u001b[0msigma\u001b[0m\u001b[0;34m,\u001b[0m \u001b[0morder\u001b[0m\u001b[0;34m,\u001b[0m \u001b[0mmode\u001b[0m \u001b[0;32min\u001b[0m \u001b[0maxes\u001b[0m\u001b[0;34m:\u001b[0m\u001b[0;34m\u001b[0m\u001b[0;34m\u001b[0m\u001b[0m\n\u001b[1;32m    298\u001b[0m             gaussian_filter1d(input, sigma, axis, order, output,\n\u001b[0;32m--> 299\u001b[0;31m                               mode, cval, truncate)\n\u001b[0m\u001b[1;32m    300\u001b[0m             \u001b[0minput\u001b[0m \u001b[0;34m=\u001b[0m \u001b[0moutput\u001b[0m\u001b[0;34m\u001b[0m\u001b[0;34m\u001b[0m\u001b[0m\n\u001b[1;32m    301\u001b[0m     \u001b[0;32melse\u001b[0m\u001b[0;34m:\u001b[0m\u001b[0;34m\u001b[0m\u001b[0;34m\u001b[0m\u001b[0m\n",
      "\u001b[0;32m~/Documents/Jupyter-Notebook/.venv/lib/python3.6/site-packages/scipy/ndimage/filters.py\u001b[0m in \u001b[0;36mgaussian_filter1d\u001b[0;34m(input, sigma, axis, order, output, mode, cval, truncate)\u001b[0m\n\u001b[1;32m    215\u001b[0m     \u001b[0;31m# Since we are calling correlate, not convolve, revert the kernel\u001b[0m\u001b[0;34m\u001b[0m\u001b[0;34m\u001b[0m\u001b[0;34m\u001b[0m\u001b[0m\n\u001b[1;32m    216\u001b[0m     \u001b[0mweights\u001b[0m \u001b[0;34m=\u001b[0m \u001b[0m_gaussian_kernel1d\u001b[0m\u001b[0;34m(\u001b[0m\u001b[0msigma\u001b[0m\u001b[0;34m,\u001b[0m \u001b[0morder\u001b[0m\u001b[0;34m,\u001b[0m \u001b[0mlw\u001b[0m\u001b[0;34m)\u001b[0m\u001b[0;34m[\u001b[0m\u001b[0;34m:\u001b[0m\u001b[0;34m:\u001b[0m\u001b[0;34m-\u001b[0m\u001b[0;36m1\u001b[0m\u001b[0;34m]\u001b[0m\u001b[0;34m\u001b[0m\u001b[0;34m\u001b[0m\u001b[0m\n\u001b[0;32m--> 217\u001b[0;31m     \u001b[0;32mreturn\u001b[0m \u001b[0mcorrelate1d\u001b[0m\u001b[0;34m(\u001b[0m\u001b[0minput\u001b[0m\u001b[0;34m,\u001b[0m \u001b[0mweights\u001b[0m\u001b[0;34m,\u001b[0m \u001b[0maxis\u001b[0m\u001b[0;34m,\u001b[0m \u001b[0moutput\u001b[0m\u001b[0;34m,\u001b[0m \u001b[0mmode\u001b[0m\u001b[0;34m,\u001b[0m \u001b[0mcval\u001b[0m\u001b[0;34m,\u001b[0m \u001b[0;36m0\u001b[0m\u001b[0;34m)\u001b[0m\u001b[0;34m\u001b[0m\u001b[0;34m\u001b[0m\u001b[0m\n\u001b[0m\u001b[1;32m    218\u001b[0m \u001b[0;34m\u001b[0m\u001b[0m\n\u001b[1;32m    219\u001b[0m \u001b[0;34m\u001b[0m\u001b[0m\n",
      "\u001b[0;32m~/Documents/Jupyter-Notebook/.venv/lib/python3.6/site-packages/scipy/ndimage/filters.py\u001b[0m in \u001b[0;36mcorrelate1d\u001b[0;34m(input, weights, axis, output, mode, cval, origin)\u001b[0m\n\u001b[1;32m     93\u001b[0m     \u001b[0mmode\u001b[0m \u001b[0;34m=\u001b[0m \u001b[0m_ni_support\u001b[0m\u001b[0;34m.\u001b[0m\u001b[0m_extend_mode_to_code\u001b[0m\u001b[0;34m(\u001b[0m\u001b[0mmode\u001b[0m\u001b[0;34m)\u001b[0m\u001b[0;34m\u001b[0m\u001b[0;34m\u001b[0m\u001b[0m\n\u001b[1;32m     94\u001b[0m     _nd_image.correlate1d(input, weights, axis, output, mode, cval,\n\u001b[0;32m---> 95\u001b[0;31m                           origin)\n\u001b[0m\u001b[1;32m     96\u001b[0m     \u001b[0;32mreturn\u001b[0m \u001b[0moutput\u001b[0m\u001b[0;34m\u001b[0m\u001b[0;34m\u001b[0m\u001b[0m\n\u001b[1;32m     97\u001b[0m \u001b[0;34m\u001b[0m\u001b[0m\n",
      "\u001b[0;31mKeyboardInterrupt\u001b[0m: "
     ]
    }
   ],
   "source": [
    "for i in tqdm_notebook(np.arange(1,10000,1)):\n",
    "    Q = 200 - i/50\n",
    "    Q_Luminance = np.ones((16,16)) * Q\n",
    "\n",
    "    Q_Fk = np.zeros(Fk.shape)\n",
    "    for row in range(IMG.img.shape[0] // 16):\n",
    "        for col in range(IMG.img.shape[1] // 16):\n",
    "            block = Fk[row * 16 : (row + 1) * 16, col * 16 : (col + 1) * 16]\n",
    "            # 量子化\n",
    "            block = np.round(block / Q_Luminance)\n",
    "            # 逆量子化\n",
    "            block = block * Q_Luminance\n",
    "            Q_Fk[row * 16 : (row + 1) * 16, col * 16 : (col + 1) * 16] = block\n",
    "\n",
    "\n",
    "    Q_recover = np.zeros(Q_Fk.shape)\n",
    "    for row in range(Q_Fk.shape[0] // 16):\n",
    "        for col in range(Q_Fk.shape[1] // 16):\n",
    "            block = Q_Fk[row * 16 : (row + 1) * 16, col * 16 : (col + 1) * 16]\n",
    "            data = scipy.fftpack.idct(\n",
    "                scipy.fftpack.idct(block, axis=0, norm=\"ortho\"), axis=1, norm=\"ortho\"\n",
    "            )\n",
    "            Q_recover[row * 16 : (row + 1) * 16, col * 16 : (col + 1) * 16] = data\n",
    "\n",
    "    Q_recover = np.round(Q_recover)\n",
    "    qfk = pd.Series(Q_Fk.flatten())\n",
    "    pro = qfk.value_counts() / qfk.value_counts().sum()\n",
    "    S = 0\n",
    "    for pi in pro:\n",
    "        S -= pi * np.log2(pi)\n",
    "\n",
    "    bpp = np.arange(0.2,0.8,0.05)\n",
    "    for i in bpp:\n",
    "        if np.abs(i - S) < 0.08:\n",
    "            MSE = np.sum(np.sum(np.power((IMG.img - Q_recover), 2))) / (\n",
    "                Q_Fk.shape[0] * Q_Fk.shape[1]\n",
    "            )\n",
    "            PSNR = 10 * np.log10(255 * 255 / MSE)\n",
    "            MSSIM = ssim(IMG.img,Q_recover.astype(IMG.img.dtype),gaussian_weights=True,sigma=1.5,K1=0.01,K2=0.03)\n",
    "            MSDSt, MSDS1, MSDS2 = msds(16,Q_recover)\n",
    "\n",
    "            print(\"S=\",S)\n",
    "            print(Q,PSNR,MSSIM,MSDS1,MSDS2)\n",
    " "
   ]
  },
  {
   "cell_type": "markdown",
   "metadata": {},
   "source": [
    "# 量子化"
   ]
  },
  {
   "cell_type": "code",
   "execution_count": 16,
   "metadata": {},
   "outputs": [],
   "source": []
  },
  {
   "cell_type": "code",
   "execution_count": 17,
   "metadata": {},
   "outputs": [],
   "source": []
  },
  {
   "cell_type": "markdown",
   "metadata": {},
   "source": [
    "# IDCT"
   ]
  },
  {
   "cell_type": "code",
   "execution_count": 18,
   "metadata": {},
   "outputs": [],
   "source": []
  },
  {
   "cell_type": "code",
   "execution_count": 19,
   "metadata": {},
   "outputs": [],
   "source": []
  },
  {
   "cell_type": "code",
   "execution_count": 20,
   "metadata": {},
   "outputs": [],
   "source": []
  },
  {
   "cell_type": "code",
   "execution_count": 21,
   "metadata": {},
   "outputs": [
    {
     "data": {
      "text/plain": [
       "<matplotlib.image.AxesImage at 0x7f3c0f3d6c50>"
      ]
     },
     "execution_count": 21,
     "metadata": {},
     "output_type": "execute_result"
    },
    {
     "data": {
      "image/png": "[encoded data removed]",
      "text/plain": [
       "<Figure size 432x288 with 1 Axes>"
      ]
     },
     "metadata": {
      "needs_background": "light"
     },
     "output_type": "display_data"
    }
   ],
   "source": [
    "plt.imshow(Q_recover, cmap=\"gray\")\n",
    "# plt.imsave(\"DCT_8x8_LENNA.png\",Q_recover,cmap=\"gray\")"
   ]
  },
  {
   "cell_type": "markdown",
   "metadata": {},
   "source": [
    "# 情報量"
   ]
  },
  {
   "cell_type": "markdown",
   "metadata": {},
   "source": [
    "$$\n",
    "- \\sum ^{255}_{i=0} p_i log_2 p_i\n",
    "$$"
   ]
  },
  {
   "cell_type": "code",
   "execution_count": 22,
   "metadata": {},
   "outputs": [
    {
     "data": {
      "text/plain": [
       " 0.0       0.988617\n",
       "-200.0     0.003281\n",
       " 200.0     0.003090\n",
       " 2400.0    0.000446\n",
       " 400.0     0.000439\n",
       "dtype: float64"
      ]
     },
     "execution_count": 22,
     "metadata": {},
     "output_type": "execute_result"
    }
   ],
   "source": []
  },
  {
   "cell_type": "code",
   "execution_count": 23,
   "metadata": {},
   "outputs": [],
   "source": []
  },
  {
   "cell_type": "code",
   "execution_count": 24,
   "metadata": {},
   "outputs": [
    {
     "data": {
      "text/plain": [
       "0.12762986512618407"
      ]
     },
     "execution_count": 24,
     "metadata": {},
     "output_type": "execute_result"
    }
   ],
   "source": [
    "S"
   ]
  },
  {
   "cell_type": "markdown",
   "metadata": {},
   "source": [
    "# PSNR"
   ]
  },
  {
   "cell_type": "markdown",
   "metadata": {},
   "source": [
    "$$\n",
    "PSNR = 10 log_{10} \\frac{MAX^2}{MSE}\n",
    "$$"
   ]
  },
  {
   "cell_type": "markdown",
   "metadata": {},
   "source": [
    "$$\n",
    "{MSE = \\frac{1}{m \\, n} \\sum^{m-1}_{i=0} \\sum^{n-1}_{j=0} [ I(i,j) - K(i,j) ]^2}\n",
    "$$"
   ]
  },
  {
   "cell_type": "code",
   "execution_count": 25,
   "metadata": {},
   "outputs": [],
   "source": []
  },
  {
   "cell_type": "code",
   "execution_count": 26,
   "metadata": {},
   "outputs": [],
   "source": []
  },
  {
   "cell_type": "code",
   "execution_count": 27,
   "metadata": {},
   "outputs": [
    {
     "data": {
      "text/plain": [
       "26.295733096638152"
      ]
     },
     "execution_count": 27,
     "metadata": {},
     "output_type": "execute_result"
    }
   ],
   "source": [
    "PSNR"
   ]
  },
  {
   "cell_type": "markdown",
   "metadata": {},
   "source": [
    "# MSSIM"
   ]
  },
  {
   "cell_type": "code",
   "execution_count": 28,
   "metadata": {},
   "outputs": [
    {
     "data": {
      "text/plain": [
       "0.7026390012376981"
      ]
     },
     "execution_count": 28,
     "metadata": {},
     "output_type": "execute_result"
    }
   ],
   "source": []
  },
  {
   "cell_type": "code",
   "execution_count": 29,
   "metadata": {},
   "outputs": [],
   "source": []
  },
  {
   "cell_type": "code",
   "execution_count": 30,
   "metadata": {},
   "outputs": [
    {
     "data": {
      "text/plain": [
       "35151.2109375"
      ]
     },
     "execution_count": 30,
     "metadata": {},
     "output_type": "execute_result"
    }
   ],
   "source": [
    "MSDS1"
   ]
  },
  {
   "cell_type": "code",
   "execution_count": 31,
   "metadata": {},
   "outputs": [
    {
     "data": {
      "text/plain": [
       "5829.85986328125"
      ]
     },
     "execution_count": 31,
     "metadata": {},
     "output_type": "execute_result"
    }
   ],
   "source": [
    "MSDS2"
   ]
  },
  {
   "cell_type": "code",
   "execution_count": null,
   "metadata": {},
   "outputs": [],
   "source": []
  }
 ],
 "metadata": {
  "kernelspec": {
   "display_name": "Python 3",
   "language": "python",
   "name": "python3"
  },
  "language_info": {
   "codemirror_mode": {
    "name": "ipython",
    "version": 3
   },
   "file_extension": ".py",
   "mimetype": "text/x-python",
   "name": "python",
   "nbconvert_exporter": "python",
   "pygments_lexer": "ipython3",
   "version": "3.6.8"
  }
 },
 "nbformat": 4,
 "nbformat_minor": 4
}
