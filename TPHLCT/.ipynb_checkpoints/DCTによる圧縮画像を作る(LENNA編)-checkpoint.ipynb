{
 "cells": [
  {
   "cell_type": "markdown",
   "metadata": {},
   "source": [
    "# DCTによる圧縮画像を作る(LENNA編)"
   ]
  },
  {
   "cell_type": "code",
   "execution_count": 1,
   "metadata": {},
   "outputs": [],
   "source": [
    "import numpy as np\n",
    "import scipy.misc\n",
    "from scipy.fftpack import dct, idct\n",
    "import sys\n",
    "from PIL import Image\n",
    "import matplotlib\n",
    "import matplotlib.pyplot as plt\n",
    "import random\n",
    "from tqdm import tqdm_notebook as tqdm\n",
    "from scipy.fftpack import dct, idct\n",
    "import seaborn as sns\n",
    "\n",
    "%matplotlib inline\n",
    "\n",
    "\n",
    "class ImageLoader:\n",
    "    def __init__(self, FILE_PATH):\n",
    "        self.img = np.array(Image.open(FILE_PATH))\n",
    "        # 行数\n",
    "        self.row_blocks_count = self.img.shape[0] // 8\n",
    "        # 列数\n",
    "        self.col_blocks_count = self.img.shape[1] // 8\n",
    "\n",
    "    def get_points(self, POINT):\n",
    "        Row = random.randint(0, len(self.img) - POINT - 1)\n",
    "        Col = random.randint(0, len(self.img) - 1)\n",
    "        return self.img[Row : Row + POINT, Col]\n",
    "\n",
    "    def get_block(self, col, row):\n",
    "        return self.img[col * 8 : (col + 1) * 8, row * 8 : (row + 1) * 8]\n",
    "\n",
    "\n",
    "# plt.rcParams['font.family'] ='sans-serif'#使用するフォント\n",
    "# plt.rcParams[\"font.sans-serif\"] = \"Source Han Sans\"\n",
    "plt.rcParams[\"font.family\"] = \"Source Han Sans JP\"  # 使用するフォント\n",
    "plt.rcParams[\"xtick.direction\"] = \"in\"  # x軸の目盛線が内向き('in')か外向き('out')か双方向か('inout')\n",
    "plt.rcParams[\"ytick.direction\"] = \"in\"  # y軸の目盛線が内向き('in')か外向き('out')か双方向か('inout')\n",
    "plt.rcParams[\"xtick.major.width\"] = 1.0  # x軸主目盛り線の線幅\n",
    "plt.rcParams[\"ytick.major.width\"] = 1.0  # y軸主目盛り線の線幅\n",
    "plt.rcParams[\"font.size\"] = 12  # フォントの大きさ\n",
    "plt.rcParams[\"axes.linewidth\"] = 1.0  # 軸の線幅edge linewidth。囲みの太さ\n",
    "matplotlib.font_manager._rebuild()\n",
    "\n",
    "# 画像の用意\n",
    "AIRPLANE = ImageLoader(\"../Mono/airplane512.bmp\")\n",
    "BARBARA = ImageLoader(\"../Mono/BARBARA.bmp\")\n",
    "BOAT = ImageLoader(\"../Mono/BOAT.bmp\")\n",
    "BRIDGE = ImageLoader(\"../Mono/BRIDGE.bmp\")\n",
    "BUILDING = ImageLoader(\"../Mono/Building.bmp\")\n",
    "CAMERAMAN = ImageLoader(\"../Mono/Cameraman.bmp\")\n",
    "GIRL = ImageLoader(\"../Mono/girl.bmp\")\n",
    "LAX = ImageLoader(\"../Mono/LAX.bmp\")\n",
    "LENNA = ImageLoader(\"../Mono/lenna512.bmp\")\n",
    "LIGHTHOUSE = ImageLoader(\"../Mono/Lighthouse.bmp\")\n",
    "SIDBAtitle = ImageLoader(\"../Mono/SIDBAtitle256.bmp\")\n",
    "TEXT = ImageLoader(\"../Mono/Text.bmp\")\n",
    "WOMAN = ImageLoader(\"../Mono/WOMAN.bmp\")\n",
    "\n",
    "Images = np.array(\n",
    "    [\n",
    "        AIRPLANE,\n",
    "        BARBARA,\n",
    "        BOAT,\n",
    "        BRIDGE,\n",
    "        BUILDING,\n",
    "        CAMERAMAN,\n",
    "        GIRL,\n",
    "        LAX,\n",
    "        LENNA,\n",
    "        LIGHTHOUSE,\n",
    "        SIDBAtitle,\n",
    "        TEXT,\n",
    "        WOMAN,\n",
    "    ]\n",
    ")\n",
    "\n",
    "N = 8"
   ]
  },
  {
   "cell_type": "markdown",
   "metadata": {
    "toc-hr-collapsed": false
   },
   "source": [
    "# DCT"
   ]
  },
  {
   "cell_type": "markdown",
   "metadata": {},
   "source": [
    "## 基底関数"
   ]
  },
  {
   "cell_type": "markdown",
   "metadata": {},
   "source": [
    "$$\n",
    "\\phi_k[i] = \\begin{cases}\n",
    "\\cfrac{1}{\\sqrt{N}}  \\quad \\quad \\quad (k=0) \\\\\n",
    "\\sqrt{\\cfrac{2}{N}} \\cos \\left({\\cfrac{\\pi}{2N}(2i+1)k}\\right) \\quad  (k=1,2,...,N-1) \n",
    "\\end{cases}\n",
    "$$"
   ]
  },
  {
   "cell_type": "code",
   "execution_count": 2,
   "metadata": {},
   "outputs": [],
   "source": [
    "class DCT:\n",
    "    def __init__(self, N):\n",
    "        self.N = N  # データ数\n",
    "        # 1次元DCTの基底ベクトルの生成\n",
    "        self.phi_1d = np.array([self.phi(i) for i in range(self.N)])\n",
    "        # 2次元DCTの基底ベクトルの格納\n",
    "        self.phi_2d = np.zeros((N, N))\n",
    "\n",
    "    def phi(self, k):\n",
    "        \"\"\" 離散コサイン変換(DCT)の基底関数 \"\"\"\n",
    "        # DCT-II\n",
    "        if k == 0:\n",
    "            return np.ones(self.N) / np.sqrt(self.N)\n",
    "        else:\n",
    "            return np.sqrt(2.0 / self.N) * np.cos(\n",
    "                (k * np.pi / (2 * self.N)) * (np.arange(self.N) * 2 + 1)\n",
    "            )\n",
    "\n",
    "    def dct(self, data):\n",
    "        \"\"\" 1次元離散コサイン変換を行う \"\"\"\n",
    "        return self.phi_1d.dot(data)\n",
    "\n",
    "    def idct(self, c):\n",
    "        \"\"\" 1次元離散コサイン逆変換を行う \"\"\"\n",
    "        return np.sum(self.phi_1d.T * c, axis=1)\n",
    "\n",
    "    def get_dct2_phi(self, i, j):\n",
    "        \"\"\" 2次元離散コサイン変換の基底を返す \"\"\"\n",
    "        phi_i, phi_j = np.meshgrid(self.phi_1d[i], self.phi_1d[j])\n",
    "        return phi_i * phi_j\n",
    "\n",
    "    def get_dct2(self, i, j, data):\n",
    "        \"\"\" i,jの2次元DCT係数を返す \"\"\"\n",
    "        phi_2d_phi = np.zeros((self.N, self.N))\n",
    "        phi_2d_phi = self.get_dct2_phi(i, j)\n",
    "        return np.sum(\n",
    "            phi_2d_phi.reshape(self.N * self.N) * data.reshape(self.N * self.N)\n",
    "        )\n",
    "\n",
    "    def dct2(self, data):\n",
    "        \"\"\" 2次元離散コサイン変換を行う \"\"\"\n",
    "        for j in range(self.N):\n",
    "            for i in range(self.N):\n",
    "                self.phi_2d[i, j] = self.get_dct2(i, j, data)\n",
    "\n",
    "        return self.phi_2d\n",
    "\n",
    "    def idct2(self, c):\n",
    "        \"\"\" 2次元離散コサイン逆変換を行う \"\"\"\n",
    "        idct2_data = np.zeros((self.N, self.N))\n",
    "        phi_2d_phi = np.zeros((self.N, self.N))\n",
    "        for i in range(self.N):\n",
    "            for j in range(self.N):\n",
    "                phi_2d_phi = self.get_dct2_phi(j, i)\n",
    "                idct2_data += c.reshape((self.N, self.N, 1))[j, i] * phi_2d_phi\n",
    "\n",
    "        return idct2_data"
   ]
  },
  {
   "cell_type": "markdown",
   "metadata": {},
   "source": [
    "# 8x8ブロックでDCT"
   ]
  },
  {
   "cell_type": "markdown",
   "metadata": {},
   "source": [
    "## LENNA"
   ]
  },
  {
   "cell_type": "markdown",
   "metadata": {},
   "source": [
    "### DCT"
   ]
  },
  {
   "cell_type": "code",
   "execution_count": 4,
   "metadata": {},
   "outputs": [],
   "source": [
    "IMG = LENNA"
   ]
  },
  {
   "cell_type": "code",
   "execution_count": 5,
   "metadata": {},
   "outputs": [],
   "source": [
    "Fk = np.zeros(IMG.img.shape)"
   ]
  },
  {
   "cell_type": "code",
   "execution_count": 6,
   "metadata": {},
   "outputs": [],
   "source": [
    "dct = DCT(N)\n",
    "for i in range(IMG.img.shape[0] // 8):\n",
    "    for j in range(IMG.img.shape[1] // 8):\n",
    "        block = IMG.img[i * 8 : (i + 1) * 8, j * 8 : (j + 1) * 8]\n",
    "        c = scipy.fftpack.dct(\n",
    "            scipy.fftpack.dct(block, axis=0, norm=\"ortho\"), axis=1, norm=\"ortho\"\n",
    "        )\n",
    "        Fk[8 * i : 8 * i + 8, 8 * j : 8 * j + 8] = c"
   ]
  },
  {
   "cell_type": "markdown",
   "metadata": {},
   "source": [
    "# 量子化テーブル"
   ]
  },
  {
   "cell_type": "code",
   "execution_count": 7,
   "metadata": {},
   "outputs": [],
   "source": [
    "Q50_Luminance = np.array(\n",
    "    [\n",
    "        [16, 11, 10, 16, 24, 40, 51, 61],\n",
    "        [12, 12, 14, 19, 26, 58, 60, 55],\n",
    "        [14, 13, 16, 24, 40, 57, 69, 56],\n",
    "        [14, 17, 22, 29, 51, 87, 80, 62],\n",
    "        [18, 22, 37, 56, 68, 109, 103, 77],\n",
    "        [24, 35, 55, 64, 81, 104, 113, 92],\n",
    "        [49, 64, 78, 87, 103, 121, 120, 101],\n",
    "        [72, 92, 95, 98, 112, 100, 103, 99],\n",
    "    ]\n",
    ")"
   ]
  },
  {
   "cell_type": "markdown",
   "metadata": {},
   "source": [
    "$$\n",
    "S = (Q < 50)?\\frac{5000}{Q}:200-2Q\\\\\n",
    "Q_s[i] = \\left[\\frac{S\\times Q_b[i]+50}{100}\\right]\n",
    "$$"
   ]
  },
  {
   "cell_type": "code",
   "execution_count": 8,
   "metadata": {},
   "outputs": [],
   "source": [
    "# Q=80における量子化テーブルをスケーリング\n",
    "Q = 80\n",
    "if Q < 50:\n",
    "    S = 5000 / Q\n",
    "else:\n",
    "    S = 200 - 2 * Q\n",
    "\n",
    "S = np.floor(S)\n",
    "\n",
    "Q_Luminance = np.zeros((8, 8))\n",
    "Q_Chrominance = np.zeros((8, 8))\n",
    "for i in range(8):\n",
    "    for j in range(8):\n",
    "        Q_Luminance[i, j] = np.floor((S * Q50_Luminance[i, j] + 50) / 100)"
   ]
  },
  {
   "cell_type": "code",
   "execution_count": 9,
   "metadata": {},
   "outputs": [],
   "source": [
    "# for i in range(IMG.img.shape[0] // 8):\n",
    "#     for j in range(IMG.img.shape[1] // 8):\n",
    "#         block = Fk[i * 8 : (i + 1) * 8, j * 8 : (j + 1) * 8]\n",
    "#         # 量子化\n",
    "#         block = np.round(block / Q_Luminance)\n",
    "#         # 逆量子化\n",
    "#         block = np.round(block * Q_Luminance)\n",
    "#         Fk[8 * i : 8 * i + 8, 8 * j : 8 * j + 8] = block"
   ]
  },
  {
   "cell_type": "code",
   "execution_count": 10,
   "metadata": {},
   "outputs": [],
   "source": [
    "low_3_value = 0\n",
    "others_value = 0"
   ]
  },
  {
   "cell_type": "code",
   "execution_count": 11,
   "metadata": {},
   "outputs": [],
   "source": [
    "for i in range(IMG.img.shape[0] // 8):\n",
    "    for j in range(IMG.img.shape[1] // 8):\n",
    "        block = Fk[i * 8 : (i + 1) * 8, j * 8 : (j + 1) * 8]\n",
    "        low_3_value += np.abs(block[0, 1]) + np.abs(block[1, 0]) + np.abs(block[1, 1])\n",
    "        others_value += (\n",
    "            np.sum(np.sum(np.abs(block)))\n",
    "            - np.abs(block[0, 0])\n",
    "            - np.abs(block[0, 1])\n",
    "            - np.abs(block[1, 0])\n",
    "            - np.abs(block[1, 1])\n",
    "        )"
   ]
  },
  {
   "cell_type": "markdown",
   "metadata": {},
   "source": [
    "### 低域3成分 (0,1)(1,0)(1,1)の絶対値の和"
   ]
  },
  {
   "cell_type": "code",
   "execution_count": 12,
   "metadata": {},
   "outputs": [
    {
     "data": {
      "text/plain": [
       "392360.09740671044"
      ]
     },
     "execution_count": 12,
     "metadata": {},
     "output_type": "execute_result"
    }
   ],
   "source": [
    "low_3_value"
   ]
  },
  {
   "cell_type": "code",
   "execution_count": 13,
   "metadata": {},
   "outputs": [
    {
     "data": {
      "text/plain": [
       "1064656.5452720434"
      ]
     },
     "execution_count": 13,
     "metadata": {},
     "output_type": "execute_result"
    }
   ],
   "source": [
    "others_value"
   ]
  },
  {
   "cell_type": "markdown",
   "metadata": {},
   "source": [
    "### IDCT"
   ]
  },
  {
   "cell_type": "code",
   "execution_count": 14,
   "metadata": {},
   "outputs": [],
   "source": [
    "recover = np.zeros(Fk.shape)"
   ]
  },
  {
   "cell_type": "code",
   "execution_count": 15,
   "metadata": {},
   "outputs": [],
   "source": [
    "dct = DCT(N)\n",
    "for i in range(Fk.shape[0] // 8):\n",
    "    for j in range(Fk.shape[1] // 8):\n",
    "        block = Fk[i * 8 : i * 8 + 8, j * 8 : j * 8 + 8]\n",
    "        data = scipy.fftpack.idct(\n",
    "            scipy.fftpack.idct(block, axis=0, norm=\"ortho\"), axis=1, norm=\"ortho\"\n",
    "        )\n",
    "        recover[8 * i : 8 * i + 8, 8 * j : 8 * j + 8] = data"
   ]
  },
  {
   "cell_type": "code",
   "execution_count": 16,
   "metadata": {},
   "outputs": [
    {
     "data": {
      "text/plain": [
       "<matplotlib.image.AxesImage at 0x7f422e47d908>"
      ]
     },
     "execution_count": 16,
     "metadata": {},
     "output_type": "execute_result"
    },
    {
     "data": {
      "image/png": "[encoded data removed]",
      "text/plain": [
       "<Figure size 432x288 with 1 Axes>"
      ]
     },
     "metadata": {
      "needs_background": "light"
     },
     "output_type": "display_data"
    }
   ],
   "source": [
    "plt.imshow(recover, cmap=\"gray\")"
   ]
  },
  {
   "cell_type": "code",
   "execution_count": 17,
   "metadata": {},
   "outputs": [
    {
     "data": {
      "text/plain": [
       "array([162., 162., 162., 161., 162., 157., 163., 161., 165., 161.])"
      ]
     },
     "execution_count": 17,
     "metadata": {},
     "output_type": "execute_result"
    }
   ],
   "source": [
    "recover[0, 0:10]"
   ]
  },
  {
   "cell_type": "code",
   "execution_count": 18,
   "metadata": {},
   "outputs": [
    {
     "data": {
      "text/plain": [
       "array([162, 162, 162, 161, 162, 157, 163, 161, 165, 161], dtype=uint8)"
      ]
     },
     "execution_count": 18,
     "metadata": {},
     "output_type": "execute_result"
    }
   ],
   "source": [
    "LENNA.img[0, 0:10]"
   ]
  },
  {
   "cell_type": "markdown",
   "metadata": {},
   "source": [
    "ちゃんと復元できてる"
   ]
  },
  {
   "cell_type": "code",
   "execution_count": 19,
   "metadata": {},
   "outputs": [
    {
     "data": {
      "text/plain": [
       "0.0"
      ]
     },
     "execution_count": 19,
     "metadata": {},
     "output_type": "execute_result"
    }
   ],
   "source": [
    "Original = IMG.img.copy()\n",
    "np.sum(np.sum(np.abs(Original - np.round(recover))))"
   ]
  },
  {
   "cell_type": "code",
   "execution_count": 21,
   "metadata": {},
   "outputs": [],
   "source": [
    "np.savetxt(\"../temp/hiro.csv\", Fk)"
   ]
  },
  {
   "cell_type": "code",
   "execution_count": null,
   "metadata": {},
   "outputs": [],
   "source": []
  }
 ],
 "metadata": {
  "kernelspec": {
   "display_name": "Python 3",
   "language": "python",
   "name": "python3"
  },
  "language_info": {
   "codemirror_mode": {
    "name": "ipython",
    "version": 3
   },
   "file_extension": ".py",
   "mimetype": "text/x-python",
   "name": "python",
   "nbconvert_exporter": "python",
   "pygments_lexer": "ipython3",
   "version": "3.6.8"
  }
 },
 "nbformat": 4,
 "nbformat_minor": 4
}
