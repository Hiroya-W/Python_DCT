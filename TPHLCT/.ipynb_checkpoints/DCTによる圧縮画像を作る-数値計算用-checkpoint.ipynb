{
 "cells": [
  {
   "cell_type": "markdown",
   "metadata": {},
   "source": [
    "# DCTによる圧縮画像を作る"
   ]
  },
  {
   "cell_type": "code",
   "execution_count": 119,
   "metadata": {},
   "outputs": [],
   "source": [
    "import numpy as np\n",
    "import scipy.misc\n",
    "from scipy.fftpack import dct, idct\n",
    "import sys\n",
    "from PIL import Image\n",
    "import matplotlib\n",
    "import matplotlib.pyplot as plt\n",
    "import random\n",
    "from tqdm._tqdm_notebook import tqdm_notebook\n",
    "from scipy.fftpack import dct, idct\n",
    "import seaborn as sns\n",
    "from skimage.metrics import structural_similarity as ssim\n",
    "\n",
    "%matplotlib inline\n",
    "\n",
    "\n",
    "class ImageLoader:\n",
    "    def __init__(self, FILE_PATH):\n",
    "        self.img = np.array(Image.open(FILE_PATH))\n",
    "        # 行数\n",
    "        self.row_blocks_count = self.img.shape[0] // 8\n",
    "        # 列数\n",
    "        self.col_blocks_count = self.img.shape[1] // 8\n",
    "\n",
    "    def get_points(self, POINT):\n",
    "        Row = random.randint(0, len(self.img) - POINT - 1)\n",
    "        Col = random.randint(0, len(self.img) - 1)\n",
    "        return self.img[Row : Row + POINT, Col]\n",
    "\n",
    "    def get_block(self, col, row):\n",
    "        return self.img[col * 8 : (col + 1) * 8, row * 8 : (row + 1) * 8]\n",
    "\n",
    "\n",
    "# plt.rcParams['font.family'] ='sans-serif'#使用するフォント\n",
    "# plt.rcParams[\"font.sans-serif\"] = \"Source Han Sans\"\n",
    "plt.rcParams[\"font.family\"] = \"Source Han Sans JP\"  # 使用するフォント\n",
    "plt.rcParams[\"xtick.direction\"] = \"in\"  # x軸の目盛線が内向き('in')か外向き('out')か双方向か('inout')\n",
    "plt.rcParams[\"ytick.direction\"] = \"in\"  # y軸の目盛線が内向き('in')か外向き('out')か双方向か('inout')\n",
    "plt.rcParams[\"xtick.major.width\"] = 1.0  # x軸主目盛り線の線幅\n",
    "plt.rcParams[\"ytick.major.width\"] = 1.0  # y軸主目盛り線の線幅\n",
    "plt.rcParams[\"font.size\"] = 12  # フォントの大きさ\n",
    "plt.rcParams[\"axes.linewidth\"] = 1.0  # 軸の線幅edge linewidth。囲みの太さ\n",
    "matplotlib.font_manager._rebuild()\n",
    "\n",
    "# 画像の用意\n",
    "MONO_DIR_PATH = \"../Mono/\"\n",
    "AIRPLANE = ImageLoader(MONO_DIR_PATH + \"airplane512.bmp\")\n",
    "BARBARA = ImageLoader(MONO_DIR_PATH + \"barbara512.bmp\")\n",
    "BOAT = ImageLoader(MONO_DIR_PATH + \"boat512.bmp\")\n",
    "BRIDGE = ImageLoader(MONO_DIR_PATH + \"BRIDGE.bmp\")\n",
    "BUILDING = ImageLoader(MONO_DIR_PATH + \"Building.bmp\")\n",
    "CAMERAMAN = ImageLoader(MONO_DIR_PATH + \"Cameraman.bmp\")\n",
    "GIRL = ImageLoader(MONO_DIR_PATH + \"girl.bmp\")\n",
    "GOLDHILL = ImageLoader(MONO_DIR_PATH + \"goldhill512.bmp\")\n",
    "LAX = ImageLoader(MONO_DIR_PATH + \"LAX.bmp\")\n",
    "LENNA = ImageLoader(MONO_DIR_PATH + \"lenna512.bmp\")\n",
    "LIGHTHOUSE = ImageLoader(MONO_DIR_PATH + \"Lighthouse.bmp\")\n",
    "MANDRILL = ImageLoader(MONO_DIR_PATH + \"mandrill512.bmp\")\n",
    "MILKDROP = ImageLoader(MONO_DIR_PATH + \"milkdrop512.bmp\")\n",
    "SIDBAtitle = ImageLoader(MONO_DIR_PATH + \"SIDBAtitle256.bmp\")\n",
    "SAILBOAT = ImageLoader(MONO_DIR_PATH + \"sailboat512.bmp\")\n",
    "TEXT = ImageLoader(MONO_DIR_PATH + \"Text.bmp\")\n",
    "WOMAN = ImageLoader(MONO_DIR_PATH + \"WOMAN.bmp\")\n",
    "\n",
    "Images = np.array(\n",
    "    [\n",
    "        AIRPLANE,\n",
    "        BARBARA,\n",
    "        BOAT,\n",
    "        BRIDGE,\n",
    "        BUILDING,\n",
    "        CAMERAMAN,\n",
    "        GIRL,\n",
    "        LAX,\n",
    "        LENNA,\n",
    "        LIGHTHOUSE,\n",
    "        SIDBAtitle,\n",
    "        TEXT,\n",
    "        WOMAN,\n",
    "    ]\n",
    ")\n",
    "\n",
    "N = 8"
   ]
  },
  {
   "cell_type": "markdown",
   "metadata": {
    "toc-hr-collapsed": false
   },
   "source": [
    "# DCT"
   ]
  },
  {
   "cell_type": "markdown",
   "metadata": {},
   "source": [
    "## 基底関数"
   ]
  },
  {
   "cell_type": "markdown",
   "metadata": {},
   "source": [
    "$$\n",
    "\\phi_k[i] = \\begin{cases}\n",
    "\\cfrac{1}{\\sqrt{N}}  \\quad \\quad \\quad (k=0) \\\\\n",
    "\\sqrt{\\cfrac{2}{N}} \\cos \\left({\\cfrac{\\pi}{2N}(2i+1)k}\\right) \\quad  (k=1,2,...,N-1) \n",
    "\\end{cases}\n",
    "$$"
   ]
  },
  {
   "cell_type": "code",
   "execution_count": 120,
   "metadata": {},
   "outputs": [],
   "source": [
    "class DCT:\n",
    "    def __init__(self, N):\n",
    "        self.N = N  # データ数\n",
    "        # 1次元DCTの基底ベクトルの生成\n",
    "        self.phi_1d = np.array([self.phi(i) for i in range(self.N)])\n",
    "        # 2次元DCTの基底ベクトルの格納\n",
    "        self.phi_2d = np.zeros((N, N))\n",
    "\n",
    "    def phi(self, k):\n",
    "        \"\"\" 離散コサイン変換(DCT)の基底関数 \"\"\"\n",
    "        # DCT-II\n",
    "        if k == 0:\n",
    "            return np.ones(self.N) / np.sqrt(self.N)\n",
    "        else:\n",
    "            return np.sqrt(2.0 / self.N) * np.cos(\n",
    "                (k * np.pi / (2 * self.N)) * (np.arange(self.N) * 2 + 1)\n",
    "            )\n",
    "\n",
    "    def dct(self, data):\n",
    "        \"\"\" 1次元離散コサイン変換を行う \"\"\"\n",
    "        return self.phi_1d.dot(data)\n",
    "\n",
    "    def idct(self, c):\n",
    "        \"\"\" 1次元離散コサイン逆変換を行う \"\"\"\n",
    "        return np.sum(self.phi_1d.T * c, axis=1)\n",
    "\n",
    "    def get_dct2_phi(self, y, x):\n",
    "        \"\"\" 2次元離散コサイン変換の基底を返す \"\"\"\n",
    "        phi_x, phi_y = np.meshgrid(self.phi_1d[x], self.phi_1d[y])\n",
    "        return phi_x * phi_y\n",
    "\n",
    "    def get_dct2(self, y, x, data):\n",
    "        \"\"\" i,jの2次元DCT係数を返す \"\"\"\n",
    "        phi_2d_phi = np.zeros((self.N, self.N))\n",
    "        phi_2d_phi = self.get_dct2_phi(y, x)\n",
    "        return np.sum(np.sum(phi_2d_phi * data))\n",
    "\n",
    "    def dct2(self, data):\n",
    "        \"\"\" 2次元離散コサイン変換を行う \"\"\"\n",
    "        for y in range(self.N):\n",
    "            for x in range(self.N):\n",
    "                self.phi_2d[y, x] = self.get_dct2(y, x, data)\n",
    "\n",
    "        return self.phi_2d\n",
    "\n",
    "    def idct2(self, c):\n",
    "        \"\"\" 2次元離散コサイン逆変換を行う \"\"\"\n",
    "        idct2_data = np.zeros((self.N, self.N))\n",
    "        phi_2d_phi = np.zeros((self.N, self.N))\n",
    "        for y in range(self.N):\n",
    "            for x in range(self.N):\n",
    "                phi_2d_phi = self.get_dct2_phi(y, x)\n",
    "                idct2_data += c[y, x] * phi_2d_phi\n",
    "\n",
    "        return idct2_data"
   ]
  },
  {
   "cell_type": "markdown",
   "metadata": {},
   "source": [
    "# 8x8ブロックでDCT"
   ]
  },
  {
   "cell_type": "markdown",
   "metadata": {},
   "source": [
    "### DCT"
   ]
  },
  {
   "cell_type": "code",
   "execution_count": 121,
   "metadata": {},
   "outputs": [],
   "source": [
    "IMG = SAILBOAT"
   ]
  },
  {
   "cell_type": "code",
   "execution_count": 122,
   "metadata": {},
   "outputs": [],
   "source": [
    "Fk = np.zeros(IMG.img.shape)"
   ]
  },
  {
   "cell_type": "code",
   "execution_count": 123,
   "metadata": {},
   "outputs": [],
   "source": [
    "for row in range(IMG.img.shape[0] // 8):\n",
    "    for col in range(IMG.img.shape[1] // 8):\n",
    "        block = IMG.img[row * 8 : (row + 1) * 8, col * 8 : (col + 1) * 8]\n",
    "        c = scipy.fftpack.dct(\n",
    "            scipy.fftpack.dct(block, axis=0, norm=\"ortho\"), axis=1, norm=\"ortho\"\n",
    "        )\n",
    "        Fk[row * 8 : (row + 1) * 8, col * 8 : (col + 1) * 8] = c"
   ]
  },
  {
   "cell_type": "code",
   "execution_count": 124,
   "metadata": {},
   "outputs": [],
   "source": [
    "low_3_value = 0\n",
    "others_value = 0"
   ]
  },
  {
   "cell_type": "code",
   "execution_count": 125,
   "metadata": {},
   "outputs": [],
   "source": [
    "for row in range(IMG.img.shape[0] // 8):\n",
    "    for col in range(IMG.img.shape[1] // 8):\n",
    "        block = Fk[row * 8 : (row + 1) * 8, col * 8 : (col + 1) * 8]\n",
    "        low_3_value += np.abs(block[0, 1]) + np.abs(block[1, 0]) + np.abs(block[1, 1])\n",
    "        others_value += (\n",
    "            np.sum(np.sum(np.abs(block)))\n",
    "            - np.abs(block[0, 0])\n",
    "            - np.abs(block[0, 1])\n",
    "            - np.abs(block[1, 0])\n",
    "            - np.abs(block[1, 1])\n",
    "        )"
   ]
  },
  {
   "cell_type": "markdown",
   "metadata": {},
   "source": [
    "### 低域3成分 (0,1)(1,0)(1,1)の絶対値の和"
   ]
  },
  {
   "cell_type": "code",
   "execution_count": 126,
   "metadata": {},
   "outputs": [
    {
     "data": {
      "text/plain": [
       "569588.1791401103"
      ]
     },
     "execution_count": 126,
     "metadata": {},
     "output_type": "execute_result"
    }
   ],
   "source": [
    "low_3_value"
   ]
  },
  {
   "cell_type": "code",
   "execution_count": 127,
   "metadata": {},
   "outputs": [
    {
     "data": {
      "text/plain": [
       "1848920.6623314715"
      ]
     },
     "execution_count": 127,
     "metadata": {},
     "output_type": "execute_result"
    }
   ],
   "source": [
    "others_value"
   ]
  },
  {
   "cell_type": "markdown",
   "metadata": {},
   "source": [
    "### IDCT"
   ]
  },
  {
   "cell_type": "code",
   "execution_count": 128,
   "metadata": {},
   "outputs": [],
   "source": [
    "recover = np.zeros(Fk.shape)"
   ]
  },
  {
   "cell_type": "code",
   "execution_count": 129,
   "metadata": {},
   "outputs": [],
   "source": [
    "for row in range(Fk.shape[0] // 8):\n",
    "    for col in range(Fk.shape[1] // 8):\n",
    "        block = Fk[row * 8 : (row + 1) * 8, col * 8 : (col + 1) * 8]\n",
    "        data = scipy.fftpack.idct(\n",
    "            scipy.fftpack.idct(block, axis=0, norm=\"ortho\"), axis=1, norm=\"ortho\"\n",
    "        )\n",
    "        recover[row * 8 : (row + 1) * 8, col * 8 : (col + 1) * 8] = data"
   ]
  },
  {
   "cell_type": "code",
   "execution_count": 130,
   "metadata": {},
   "outputs": [
    {
     "data": {
      "text/plain": [
       "<matplotlib.image.AxesImage at 0x7f2e76355ef0>"
      ]
     },
     "execution_count": 130,
     "metadata": {},
     "output_type": "execute_result"
    },
    {
     "data": {
      "image/png": "[encoded data removed]",
      "text/plain": [
       "<Figure size 432x288 with 1 Axes>"
      ]
     },
     "metadata": {
      "needs_background": "light"
     },
     "output_type": "display_data"
    }
   ],
   "source": [
    "plt.imshow(recover, cmap=\"gray\")"
   ]
  },
  {
   "cell_type": "code",
   "execution_count": 131,
   "metadata": {},
   "outputs": [
    {
     "data": {
      "text/plain": [
       "array([30., 13., 15., 18., 19., 15., 15., 12., 15., 18.])"
      ]
     },
     "execution_count": 131,
     "metadata": {},
     "output_type": "execute_result"
    }
   ],
   "source": [
    "recover[0, 0:10]"
   ]
  },
  {
   "cell_type": "code",
   "execution_count": 132,
   "metadata": {},
   "outputs": [
    {
     "data": {
      "text/plain": [
       "array([162, 162, 162, 161, 162, 157, 163, 161, 165, 161], dtype=uint8)"
      ]
     },
     "execution_count": 132,
     "metadata": {},
     "output_type": "execute_result"
    }
   ],
   "source": [
    "LENNA.img[0, 0:10]"
   ]
  },
  {
   "cell_type": "markdown",
   "metadata": {},
   "source": [
    "ちゃんと復元できてる"
   ]
  },
  {
   "cell_type": "markdown",
   "metadata": {},
   "source": [
    "# 量子化テーブル"
   ]
  },
  {
   "cell_type": "code",
   "execution_count": 133,
   "metadata": {},
   "outputs": [],
   "source": [
    "Q50_Luminance = np.array(\n",
    "    [\n",
    "        [16, 11, 10, 16, 24, 40, 51, 61],\n",
    "        [12, 12, 14, 19, 26, 58, 60, 55],\n",
    "        [14, 13, 16, 24, 40, 57, 69, 56],\n",
    "        [14, 17, 22, 29, 51, 87, 80, 62],\n",
    "        [18, 22, 37, 56, 68, 109, 103, 77],\n",
    "        [24, 35, 55, 64, 81, 104, 113, 92],\n",
    "        [49, 64, 78, 87, 103, 121, 120, 101],\n",
    "        [72, 92, 95, 98, 112, 100, 103, 99],\n",
    "    ]\n",
    ")"
   ]
  },
  {
   "cell_type": "markdown",
   "metadata": {},
   "source": [
    "$$\n",
    "S = (Q < 50)?\\frac{5000}{Q}:200-2Q\\\\\n",
    "Q_s[i] = \\left[\\frac{S\\times Q_b[i]+50}{100}\\right]\n",
    "$$"
   ]
  },
  {
   "cell_type": "code",
   "execution_count": 134,
   "metadata": {},
   "outputs": [
    {
     "data": {
      "application/vnd.jupyter.widget-view+json": {
       "model_id": "5748e07fdb5c488fa87eb59f5e37c45b",
       "version_major": 2,
       "version_minor": 0
      },
      "text/plain": [
       "HBox(children=(IntProgress(value=0, max=9999), HTML(value='')))"
      ]
     },
     "metadata": {},
     "output_type": "display_data"
    },
    {
     "name": "stdout",
     "output_type": "stream",
     "text": [
      "S= 0.19827264468107186\n",
      "1.88 20.55628456733848 0.5278348394179805 39273.19885253906 9625.563781738281\n",
      "S= 0.19889034244244969\n",
      "1.89 20.58246958302206 0.5226743883407021 39540.09875488281 9681.276489257812\n",
      "S= 0.19937541422860214\n",
      "1.9 20.584379522227678 0.5254115282703196 39077.50439453125 9582.335693359375\n",
      "S= 0.19991598048227247\n",
      "1.91 20.574982675199742 0.5283652565439309 39305.86706542969 9624.315185546875\n",
      "S= 0.20044021427514494\n",
      "1.92 20.621638528899446 0.5293471030910165 38838.1572265625 9537.095275878906\n",
      "S= 0.20086736620889228\n",
      "1.93 20.63549524945527 0.5315684020639844 38698.9306640625 9571.143615722656\n",
      "S= 0.20163709171819916\n",
      "1.94 20.662632209995195 0.534181727286783 38590.230712890625 9588.605407714844\n",
      "S= 0.2480448126538369\n",
      "2.61 22.204401395504632 0.5758723219867125 32393.582641601562 9416.395690917969\n",
      "S= 0.2486118137224174\n",
      "2.62 22.255361597189683 0.5783141187267672 32273.307373046875 9416.639831542969\n",
      "S= 0.24945432717680663\n",
      "2.63 22.295927982341222 0.5794841278490186 32073.482788085938 9386.061096191406\n",
      "S= 0.2501355754266934\n",
      "2.64 22.345265078520697 0.5811031486846768 31815.912109375 9311.831726074219\n",
      "S= 0.25078965112310964\n",
      "2.65 22.355257818230214 0.5820098665065395 31887.25244140625 9341.624084472656\n",
      "S= 0.25142296930380936\n",
      "2.66 22.410018066666275 0.5830186780185718 31735.401000976562 9320.703796386719\n",
      "S= 0.251668128375766\n",
      "2.67 22.42769104851099 0.5837408469027598 31604.374389648438 9321.627014160156\n",
      "S= 0.2980598152049014\n",
      "3.41 23.38317101543979 0.6115820115101657 26985.90185546875 8506.067993164062\n",
      "S= 0.2990367054243379\n",
      "3.42 23.403400716682377 0.6123306740837464 26973.21630859375 8443.75732421875\n",
      "S= 0.29970954908687775\n",
      "3.43 23.42642550311231 0.6135276323690914 26915.551635742188 8409.86376953125\n",
      "S= 0.3005809903526755\n",
      "3.44 23.417275016621005 0.6129734211631322 27001.971801757812 8371.67529296875\n",
      "S= 0.30087065802767704\n",
      "3.45 23.42495780588477 0.6131981529729242 26974.38916015625 8375.210571289062\n",
      "S= 0.30164357678024145\n",
      "3.46 23.41882599449582 0.6126371390718176 26935.141357421875 8364.367431640625\n",
      "S= 0.34835312048303396\n",
      "4.25 24.45337711730524 0.6485512357960928 23389.034545898438 7841.987487792969\n",
      "S= 0.34903254275245976\n",
      "4.26 24.460817233610243 0.6488016142235856 23436.527954101562 7865.455627441406\n",
      "S= 0.35012632842719615\n",
      "4.27 24.47681361414251 0.6498104445897485 23257.254272460938 7826.9683837890625\n",
      "S= 0.3503904049929893\n",
      "4.28 24.479632356254125 0.6499851206590626 23258.327758789062 7818.070495605469\n",
      "S= 0.35110776121904824\n",
      "4.29 24.503790725108054 0.6504090340063631 23353.831665039062 7820.809509277344\n",
      "S= 0.3980439331401142\n",
      "5.12 25.19219791264943 0.677558065934648 21137.812866210938 7366.7176513671875\n",
      "S= 0.3986676351009562\n",
      "5.13 25.20087091491037 0.6777859269235068 21139.489868164062 7342.5313720703125\n",
      "S= 0.399156413213246\n",
      "5.14 25.202798295672313 0.6778045037213412 21140.480346679688 7332.062316894531\n",
      "S= 0.40072838168630837\n",
      "5.15 25.186430060104858 0.674634552066208 21133.93896484375 7308.328918457031\n",
      "S= 0.40089971127965546\n",
      "5.16 25.190038110414132 0.674786170606746 21134.012329101562 7328.122314453125\n",
      "S= 0.40135401708601237\n",
      "5.17 25.195758335650908 0.6749980517952107 21122.931274414062 7323.6488037109375\n",
      "S= 0.4490352286389399\n",
      "6.07 25.959414790505665 0.7015364427908377 18891.095336914062 7043.274230957031\n",
      "S= 0.44992174958192604\n",
      "6.08 25.96177051939913 0.701625947792987 18893.187622070312 7035.396667480469\n",
      "S= 0.451082849234168\n",
      "6.09 25.965048673116698 0.7018167502029578 18946.755493164062 7038.947021484375\n",
      "S= 0.4515742750568337\n",
      "6.1 25.975471247116374 0.7020698216055155 18913.9609375 7025.041931152344\n",
      "S= 0.4511775530056821\n",
      "6.11 25.97618608790868 0.7020154192838989 18925.986938476562 7019.4146728515625\n",
      "S= 0.4982810205105293\n",
      "6.99 26.503715991545178 0.7202355396725368 17918.492797851562 6848.412902832031\n",
      "S= 0.49982012438020634\n",
      "7.0 26.507357975878335 0.7203086206910858 17875.083740234375 6850.1458740234375\n",
      "S= 0.5002616476018154\n",
      "7.01 26.512458649022367 0.7203702080940453 17869.368896484375 6846.9920654296875\n",
      "S= 0.5010689657667561\n",
      "7.02 26.519522353339866 0.720497356499223 17841.291748046875 6826.582214355469\n",
      "S= 0.5009703481822299\n",
      "7.03 26.522164484278235 0.7205290641512085 17853.261840820312 6836.8826904296875\n",
      "S= 0.5006979934607283\n",
      "7.04 26.53018453578909 0.7207072666752369 17852.14794921875 6831.6806640625\n",
      "S= 0.5010140434390385\n",
      "7.05 26.545032868486715 0.7215349565289074 17783.597290039062 6820.1630859375\n",
      "S= 0.5013124796215415\n",
      "7.06 26.54684908557099 0.7216085037995948 17818.573974609375 6821.004211425781\n",
      "S= 0.5014152788834256\n",
      "7.07 26.547479320510533 0.7216215141624531 17821.472778320312 6821.257568359375\n",
      "S= 0.5499082349078416\n",
      "8.03 27.02755212688524 0.7376121436300149 16710.363037109375 6643.295227050781\n",
      "S= 0.5511104421600954\n",
      "8.04 27.054640422476872 0.7377421117929617 16652.656494140625 6635.891845703125\n",
      "S= 0.5511104421600954\n",
      "8.05 27.054640422476872 0.7377421117929617 16652.656494140625 6635.891845703125\n",
      "S= 0.5513982985500553\n",
      "8.06 27.064223718352203 0.7383347449320657 16607.396850585938 6628.955017089844\n",
      "S= 0.5517751935539221\n",
      "8.07 27.06832122409239 0.7382042753244408 16592.375244140625 6616.948791503906\n",
      "S= 0.550614662784387\n",
      "8.08 27.07013270747973 0.7382654886711643 16595.216064453125 6608.157653808594\n",
      "S= 0.550614662784387\n",
      "8.09 27.07013270747973 0.7382654886711643 16595.216064453125 6608.157653808594\n",
      "S= 0.5514340281765973\n",
      "8.1 27.078054915174533 0.7383013074652273 16575.785888671875 6620.9000244140625\n",
      "S= 0.5514340281765973\n",
      "8.11 27.07821313758965 0.7383022237694318 16575.579956054688 6620.844055175781\n",
      "S= 0.5986760987660182\n",
      "9.03 27.48365159150822 0.7525366500348136 15837.508544921875 6313.83837890625\n",
      "S= 0.5986760987660182\n",
      "9.04 27.48365159150822 0.7525366500348136 15837.508544921875 6313.83837890625\n",
      "S= 0.5998492387658794\n",
      "9.1 27.497686784765264 0.7531041017133473 15841.061767578125 6322.335754394531\n",
      "S= 0.5998190167454195\n",
      "9.11 27.497735471882233 0.7531047960600171 15840.711181640625 6322.513977050781\n",
      "S= 0.5998190167454195\n",
      "9.12 27.497735471882233 0.7531047960600171 15840.711181640625 6322.513977050781\n",
      "S= 0.6013003033547122\n",
      "9.13 27.50169670825418 0.7532789290874956 15842.86328125 6318.497314453125\n",
      "S= 0.6013003033547122\n",
      "9.14 27.50169670825418 0.7532789290874956 15842.86328125 6318.497314453125\n",
      "S= 0.6491711718059238\n",
      "10.09 27.859484967530715 0.7649268006921992 15138.09130859375 6219.0311279296875\n",
      "S= 0.6491711718059238\n",
      "10.1 27.859484967530715 0.7649268006921992 15138.09130859375 6219.0311279296875\n",
      "S= 0.6497709800947409\n",
      "10.11 27.86279974146283 0.7651261352784267 15121.363525390625 6207.946044921875\n",
      "S= 0.6497709800947409\n",
      "10.12 27.86279974146283 0.7651261352784267 15121.363525390625 6207.946044921875\n",
      "S= 0.6484430136149921\n",
      "10.19 27.90945625679461 0.7664974331699919 15134.789428710938 6202.3399658203125\n",
      "S= 0.6484430136149921\n",
      "10.2 27.90945625679461 0.7664974331699919 15134.789428710938 6202.3399658203125\n",
      "S= 0.6985478507495919\n",
      "11.24 28.246343703753997 0.7774609371448566 14502.43896484375 6043.6395263671875\n",
      "S= 0.6985478507495919\n",
      "11.25 28.246343703753997 0.7774609371448566 14502.43896484375 6043.6395263671875\n",
      "S= 0.6985478507495919\n",
      "11.26 28.246343703753997 0.7774609371448566 14502.43896484375 6043.6395263671875\n",
      "S= 0.6982061184955327\n",
      "11.29 28.253698649331827 0.7775544206142653 14483.499267578125 6031.7510986328125\n",
      "S= 0.6982061184955327\n",
      "11.3 28.253698649331827 0.7775544206142653 14483.499267578125 6031.7510986328125\n",
      "S= 0.6982061184955327\n",
      "11.31 28.253698649331827 0.7775544206142653 14483.499267578125 6031.7510986328125\n",
      "S= 0.6985555995326533\n",
      "11.32 28.255240419189732 0.7774469045440289 14485.829467773438 6033.9803466796875\n",
      "S= 0.6985555995326533\n",
      "11.33 28.255240419189732 0.7774469045440289 14485.829467773438 6033.9803466796875\n",
      "S= 0.7005808568252123\n",
      "11.34 28.271008252470715 0.7777733687880998 14504.283203125 6068.042663574219\n",
      "S= 0.7005808568252123\n",
      "11.35 28.271008252470715 0.7777733687880998 14504.283203125 6068.042663574219\n",
      "S= 0.7005808568252123\n",
      "11.36 28.271008252470715 0.7777733687880998 14504.283203125 6068.042663574219\n",
      "S= 0.7485786383065998\n",
      "12.38 28.589348529572277 0.7878865442092712 13933.622802734375 5883.476989746094\n",
      "S= 0.7485786383065998\n",
      "12.39 28.589348529572277 0.7878865442092712 13933.622802734375 5883.476989746094\n",
      "S= 0.7485786383065998\n",
      "12.4 28.589348529572277 0.7878865442092712 13933.622802734375 5883.476989746094\n",
      "S= 0.7989408847438058\n",
      "13.7 28.906575256291433 0.7968618542143109 13497.868041992188 5677.112976074219\n",
      "S= 0.7989408847438058\n",
      "13.71 28.906575256291433 0.7968618542143109 13497.868041992188 5677.112976074219\n",
      "S= 0.7989408847438058\n",
      "13.72 28.906575256291433 0.7968618542143109 13497.868041992188 5677.112976074219\n",
      "S= 0.7989408847438058\n",
      "13.73 28.906575256291433 0.7968618542143109 13497.868041992188 5677.112976074219\n",
      "S= 0.7999406943124088\n",
      "13.74 28.909968156174266 0.7968861017186608 13493.186279296875 5678.343322753906\n",
      "S= 0.7999406943124088\n",
      "13.75 28.909968156174266 0.7968861017186608 13493.186279296875 5678.343322753906\n",
      "S= 0.7999406943124088\n",
      "13.76 28.909968156174266 0.7968861017186608 13493.186279296875 5678.343322753906\n",
      "S= 0.7999406943124088\n",
      "13.77 28.909968156174266 0.7968861017186608 13493.186279296875 5678.343322753906\n",
      "S= 0.8017787757473094\n",
      "13.78 28.918711983897186 0.7973027190467391 13510.769897460938 5667.393005371094\n",
      "S= 0.8017787757473094\n",
      "13.79 28.918711983897186 0.7973027190467391 13510.769897460938 5667.393005371094\n",
      "S= 0.8017787757473094\n",
      "13.8 28.918711983897186 0.7973027190467391 13510.769897460938 5667.393005371094\n",
      "S= 0.8017787757473094\n",
      "13.81 28.918711983897186 0.7973027190467391 13510.769897460938 5667.393005371094\n"
     ]
    },
    {
     "ename": "KeyboardInterrupt",
     "evalue": "",
     "output_type": "error",
     "traceback": [
      "\u001b[0;31m---------------------------------------------------------------------------\u001b[0m",
      "\u001b[0;31mKeyboardInterrupt\u001b[0m                         Traceback (most recent call last)",
      "\u001b[0;32m<ipython-input-134-e297e1cf9293>\u001b[0m in \u001b[0;36m<module>\u001b[0;34m\u001b[0m\n\u001b[1;32m     20\u001b[0m             \u001b[0mblock\u001b[0m \u001b[0;34m=\u001b[0m \u001b[0mFk\u001b[0m\u001b[0;34m[\u001b[0m\u001b[0mrow\u001b[0m \u001b[0;34m*\u001b[0m \u001b[0;36m8\u001b[0m \u001b[0;34m:\u001b[0m \u001b[0;34m(\u001b[0m\u001b[0mrow\u001b[0m \u001b[0;34m+\u001b[0m \u001b[0;36m1\u001b[0m\u001b[0;34m)\u001b[0m \u001b[0;34m*\u001b[0m \u001b[0;36m8\u001b[0m\u001b[0;34m,\u001b[0m \u001b[0mcol\u001b[0m \u001b[0;34m*\u001b[0m \u001b[0;36m8\u001b[0m \u001b[0;34m:\u001b[0m \u001b[0;34m(\u001b[0m\u001b[0mcol\u001b[0m \u001b[0;34m+\u001b[0m \u001b[0;36m1\u001b[0m\u001b[0;34m)\u001b[0m \u001b[0;34m*\u001b[0m \u001b[0;36m8\u001b[0m\u001b[0;34m]\u001b[0m\u001b[0;34m\u001b[0m\u001b[0;34m\u001b[0m\u001b[0m\n\u001b[1;32m     21\u001b[0m             \u001b[0;31m# 量子化\u001b[0m\u001b[0;34m\u001b[0m\u001b[0;34m\u001b[0m\u001b[0;34m\u001b[0m\u001b[0m\n\u001b[0;32m---> 22\u001b[0;31m             \u001b[0mblock\u001b[0m \u001b[0;34m=\u001b[0m \u001b[0mnp\u001b[0m\u001b[0;34m.\u001b[0m\u001b[0mround\u001b[0m\u001b[0;34m(\u001b[0m\u001b[0mblock\u001b[0m \u001b[0;34m/\u001b[0m \u001b[0mQ_Luminance\u001b[0m\u001b[0;34m)\u001b[0m\u001b[0;34m\u001b[0m\u001b[0;34m\u001b[0m\u001b[0m\n\u001b[0m\u001b[1;32m     23\u001b[0m             \u001b[0;31m# 逆量子化\u001b[0m\u001b[0;34m\u001b[0m\u001b[0;34m\u001b[0m\u001b[0;34m\u001b[0m\u001b[0m\n\u001b[1;32m     24\u001b[0m             \u001b[0mblock\u001b[0m \u001b[0;34m=\u001b[0m \u001b[0mblock\u001b[0m \u001b[0;34m*\u001b[0m \u001b[0mQ_Luminance\u001b[0m\u001b[0;34m\u001b[0m\u001b[0;34m\u001b[0m\u001b[0m\n",
      "\u001b[0;31mKeyboardInterrupt\u001b[0m: "
     ]
    }
   ],
   "source": [
    "# Q=80における量子化テーブルをスケーリング\n",
    "for i in tqdm_notebook(np.arange(1,10000,1)):\n",
    "    Q = i / 100\n",
    "#     Q = 21 + i / 200\n",
    "    if Q < 50:\n",
    "        S = 5000 / Q\n",
    "    else:\n",
    "        S = 200 - 2 * Q\n",
    "\n",
    "    S = np.floor(S)\n",
    "\n",
    "    Q_Luminance = np.zeros((8, 8))\n",
    "    for row in range(8):\n",
    "        for col in range(8):\n",
    "            Q_Luminance[row, col] = np.floor((S * Q50_Luminance[row, col] + 50) / 100)\n",
    "\n",
    "    Q_Fk = np.zeros(Fk.shape)\n",
    "    for row in range(IMG.img.shape[0] // 8):\n",
    "        for col in range(IMG.img.shape[1] // 8):\n",
    "            block = Fk[row * 8 : (row + 1) * 8, col * 8 : (col + 1) * 8]\n",
    "            # 量子化\n",
    "            block = np.round(block / Q_Luminance)\n",
    "            # 逆量子化\n",
    "            block = block * Q_Luminance\n",
    "            Q_Fk[row * 8 : (row + 1) * 8, col * 8 : (col + 1) * 8] = block\n",
    "\n",
    "    Q_recover = np.zeros(Q_Fk.shape)\n",
    "    for row in range(Q_Fk.shape[0] // 8):\n",
    "        for col in range(Q_Fk.shape[1] // 8):\n",
    "            block = Q_Fk[row * 8 : (row + 1) * 8, col * 8 : (col + 1) * 8]\n",
    "            data = scipy.fftpack.idct(\n",
    "                scipy.fftpack.idct(block, axis=0, norm=\"ortho\"), axis=1, norm=\"ortho\"\n",
    "            )\n",
    "            Q_recover[row * 8 : (row + 1) * 8, col * 8 : (col + 1) * 8] = data\n",
    "\n",
    "    Q_recover = np.round(Q_recover)\n",
    "\n",
    "    import pandas as pd\n",
    "    qfk = pd.Series(Q_Fk.flatten())\n",
    "    pro = qfk.value_counts() / qfk.value_counts().sum()\n",
    "    pro.head()\n",
    "\n",
    "    S = 0\n",
    "    for pi in pro:\n",
    "        S -= pi * np.log2(pi)\n",
    "    \n",
    "    bpp = np.arange(0.2,0.8,0.05)\n",
    "    for i in bpp:\n",
    "        if np.abs(i - S) < 0.002:\n",
    "            MSE = np.sum(np.sum(np.power((IMG.img - Q_recover), 2))) / (\n",
    "                Q_Fk.shape[0] * Q_Fk.shape[1]\n",
    "            )\n",
    "            PSNR = 10 * np.log10(255 * 255 / MSE)\n",
    "            MSSIM = ssim(IMG.img,Q_recover.astype(IMG.img.dtype),gaussian_weights=True,sigma=1.5,K1=0.01,K2=0.03)\n",
    "            w_e = 0\n",
    "            e_e = 0\n",
    "            n_e = 0\n",
    "            s_e = 0\n",
    "            nw_e = 0\n",
    "            ne_e = 0\n",
    "            sw_e = 0\n",
    "            se_e = 0\n",
    "            for row in range(Q_recover.shape[0] // 8):\n",
    "                for col in range(Q_recover.shape[1] // 8):\n",
    "                    f_block = Q_recover[row * 8 : (row + 1) * 8, col * 8 : (col + 1) * 8]\n",
    "                    # w\n",
    "                    if col == 0:\n",
    "                        w_block = np.fliplr(f_block)\n",
    "                    else:\n",
    "                        w_block = Q_recover[row * 8 : (row + 1) * 8, (col - 1) * 8 : col * 8]\n",
    "                    # e\n",
    "                    if col == Q_recover.shape[1] // 8 - 1:\n",
    "                        e_block = np.fliplr(f_block)\n",
    "                    else:\n",
    "                        e_block = Q_recover[row * 8 : (row + 1) * 8, (col + 1) * 8 : (col + 2) * 8]\n",
    "                    # n\n",
    "                    if row == 0:\n",
    "                        n_block = np.flipud(f_block)\n",
    "                    else:\n",
    "                        n_block = Q_recover[(row - 1) * 8 : row * 8, col * 8 : (col + 1) * 8]\n",
    "                    # s\n",
    "                    if row == Q_recover.shape[0] // 8 - 1:\n",
    "                        s_block = np.flipud(f_block)\n",
    "                    else:\n",
    "                        s_block = Q_recover[(row + 1) * 8 : (row + 2) * 8, col * 8 : (col + 1) * 8]\n",
    "\n",
    "                    w_d1 = f_block[:, 0] - w_block[:, 7]\n",
    "                    e_d1 = f_block[:, 7] - e_block[:, 0]\n",
    "                    n_d1 = f_block[0, :] - n_block[7, :]\n",
    "                    s_d1 = f_block[7, :] - s_block[0, :]\n",
    "\n",
    "                    w_d2 = (w_block[:, 7] - w_block[:, 6] + f_block[:, 1] - f_block[:, 0]) / 2\n",
    "                    e_d2 = (e_block[:, 1] - e_block[:, 0] + f_block[:, 7] - f_block[:, 6]) / 2\n",
    "                    n_d2 = (n_block[7, :] - n_block[6, :] + f_block[1, :] - f_block[0, :]) / 2\n",
    "                    s_d2 = (s_block[1, :] - s_block[0, :] + f_block[7, :] - f_block[6, :]) / 2\n",
    "\n",
    "                    w_e += np.sum((w_d1 - w_d2) ** 2 )\n",
    "                    e_e += np.sum((e_d1 - e_d2) ** 2 )\n",
    "                    n_e += np.sum((n_d1 - n_d2) ** 2)\n",
    "                    s_e += np.sum((s_d1 - s_d2) ** 2)\n",
    "\n",
    "                    # nw\n",
    "                    if row == 0 or col == 0:\n",
    "                        nw_block = np.flipud(np.fliplr(f_block))\n",
    "                    else:\n",
    "                        nw_block = Q_recover[(row - 1) * 8 : row * 8, (col - 1) * 8 : col * 8]\n",
    "                    # ne\n",
    "                    if row == 0 or col == Q_recover.shape[1] // 8 - 1:\n",
    "                        ne_block = np.flipud(np.fliplr(f_block))\n",
    "                    else:\n",
    "                        ne_block = Q_recover[(row-1) * 8 : row * 8, (col + 1) * 8 : (col + 2) * 8]\n",
    "                    # sw\n",
    "                    if row == Q_recover.shape[0] // 8 -1 or col == 0:\n",
    "                        sw_block = np.flipud(np.fliplr(f_block))\n",
    "                    else:\n",
    "                        sw_block = Q_recover[row * 8 : (row+1) * 8, (col-1) * 8 : col * 8]\n",
    "                    # se\n",
    "                    if  row == Q_recover.shape[0]//8-1 or col == Q_recover.shape[0] // 8 -1:\n",
    "                        se_block = np.flipud(np.fliplr(f_block))\n",
    "                    else:\n",
    "                        se_block = Q_recover[(row + 1) * 8 : (row + 2) * 8, (col+1) * 8 : (col + 2) * 8]\n",
    "\n",
    "                    nw_g1 = f_block[0, 0] - nw_block[7, 7]\n",
    "                    ne_g1 = f_block[0, 7] - ne_block[7, 0]\n",
    "                    sw_g1 = f_block[7, 0] - sw_block[0, 7]\n",
    "                    se_g1 = f_block[7, 7] - se_block[0, 0]\n",
    "\n",
    "                    nw_g2 = (nw_block[7,7] - nw_block[6,6] + f_block[1,1] - f_block[0,0])/2\n",
    "                    ne_g2 = (ne_block[7,0] - ne_block[6,1] + f_block[1,6] - f_block[0,7])/2\n",
    "                    sw_g2 = (sw_block[0,7] - nw_block[1,6] + f_block[6,1] - f_block[7,0])/2\n",
    "                    se_g2 = (nw_block[0,0] - nw_block[1,1] + f_block[6,6] - f_block[7,7])/2\n",
    "\n",
    "                    nw_e += (nw_g1 - nw_g2) ** 2 \n",
    "                    ne_e += (ne_g1 - ne_g2) ** 2 \n",
    "                    sw_e += (sw_g1 - sw_g2) ** 2 \n",
    "                    se_e += (se_g1 - se_g2) ** 2 \n",
    "\n",
    "            MSDSt = (w_e + e_e + n_e + s_e + nw_e + ne_e + sw_e + se_e)/ ((512/8)**2)\n",
    "            MSDS1 = (w_e + e_e + n_e + s_e)/ ((512/8)**2)\n",
    "            MSDS2 = (nw_e + ne_e + sw_e + se_e)/ ((512/8)**2)\n",
    "            \n",
    "#             print(\"Q=\",Q,\" S=\",S,\" PSNR=\",PSNR,\" MSSIM=\",MSSIM,\" MSDS1=\",MSDS1, \" MSDS2=\",MSDS2 )\n",
    "            print(\"S=\",S)\n",
    "            print(Q,PSNR,MSSIM,MSDS1,MSDS2)\n",
    "            \n",
    "print(\"Q=\",Q)"
   ]
  },
  {
   "cell_type": "code",
   "execution_count": 27,
   "metadata": {},
   "outputs": [
    {
     "data": {
      "text/plain": [
       "array([0.2 , 0.25, 0.3 , 0.35, 0.4 , 0.45, 0.5 , 0.55, 0.6 , 0.65, 0.7 ,\n",
       "       0.75, 0.8 ])"
      ]
     },
     "execution_count": 27,
     "metadata": {},
     "output_type": "execute_result"
    }
   ],
   "source": [
    "bpp = np.arange(0.2,0.8,0.05)\n",
    "bpp"
   ]
  },
  {
   "cell_type": "code",
   "execution_count": 36,
   "metadata": {},
   "outputs": [],
   "source": []
  },
  {
   "cell_type": "markdown",
   "metadata": {},
   "source": [
    "# IDCT"
   ]
  },
  {
   "cell_type": "code",
   "execution_count": 37,
   "metadata": {},
   "outputs": [],
   "source": []
  },
  {
   "cell_type": "code",
   "execution_count": 38,
   "metadata": {},
   "outputs": [],
   "source": []
  },
  {
   "cell_type": "code",
   "execution_count": 39,
   "metadata": {},
   "outputs": [],
   "source": []
  },
  {
   "cell_type": "code",
   "execution_count": 40,
   "metadata": {},
   "outputs": [
    {
     "data": {
      "text/plain": [
       "<matplotlib.image.AxesImage at 0x7fbbcf4d6a58>"
      ]
     },
     "execution_count": 40,
     "metadata": {},
     "output_type": "execute_result"
    },
    {
     "data": {
      "image/png": "[encoded data removed]",
      "text/plain": [
       "<Figure size 432x288 with 1 Axes>"
      ]
     },
     "metadata": {
      "needs_background": "light"
     },
     "output_type": "display_data"
    }
   ],
   "source": [
    "plt.imshow(Q_recover, cmap=\"gray\")"
   ]
  },
  {
   "cell_type": "code",
   "execution_count": 41,
   "metadata": {},
   "outputs": [],
   "source": [
    "# Q_recover[0]"
   ]
  },
  {
   "cell_type": "markdown",
   "metadata": {},
   "source": [
    "# 情報量"
   ]
  },
  {
   "cell_type": "markdown",
   "metadata": {},
   "source": [
    "$$\n",
    "- \\sum ^{255}_{i=0} p_i log_2 p_i\n",
    "$$"
   ]
  },
  {
   "cell_type": "code",
   "execution_count": 42,
   "metadata": {},
   "outputs": [
    {
     "data": {
      "text/plain": [
       " 0.0     0.956825\n",
       " 53.0    0.002628\n",
       "-53.0    0.002628\n",
       "-48.0    0.002148\n",
       "-62.0    0.001610\n",
       "dtype: float64"
      ]
     },
     "execution_count": 42,
     "metadata": {},
     "output_type": "execute_result"
    }
   ],
   "source": []
  },
  {
   "cell_type": "code",
   "execution_count": 43,
   "metadata": {},
   "outputs": [],
   "source": []
  },
  {
   "cell_type": "code",
   "execution_count": 44,
   "metadata": {},
   "outputs": [
    {
     "data": {
      "text/plain": [
       "0.49933153242912326"
      ]
     },
     "execution_count": 44,
     "metadata": {},
     "output_type": "execute_result"
    }
   ],
   "source": [
    "S"
   ]
  },
  {
   "cell_type": "markdown",
   "metadata": {},
   "source": [
    "# PSNR"
   ]
  },
  {
   "cell_type": "markdown",
   "metadata": {},
   "source": [
    "$$\n",
    "PSNR = 10 log_{10} \\frac{MAX^2}{MSE}\n",
    "$$"
   ]
  },
  {
   "cell_type": "markdown",
   "metadata": {},
   "source": [
    "$$\n",
    "{MSE = \\frac{1}{m \\, n} \\sum^{m-1}_{i=0} \\sum^{n-1}_{j=0} [ I(i,j) - K(i,j) ]^2}\n",
    "$$"
   ]
  },
  {
   "cell_type": "code",
   "execution_count": 27,
   "metadata": {},
   "outputs": [],
   "source": [
    "MSE = np.sum(np.sum(np.power((IMG.img - Q_recover), 2))) / (\n",
    "    Q_Fk.shape[0] * Q_Fk.shape[1]\n",
    ")"
   ]
  },
  {
   "cell_type": "code",
   "execution_count": 28,
   "metadata": {},
   "outputs": [],
   "source": [
    "PSNR = 10 * np.log10(255 * 255 / MSE)"
   ]
  },
  {
   "cell_type": "code",
   "execution_count": 29,
   "metadata": {},
   "outputs": [
    {
     "data": {
      "text/plain": [
       "30.912309484970052"
      ]
     },
     "execution_count": 29,
     "metadata": {},
     "output_type": "execute_result"
    }
   ],
   "source": [
    "PSNR"
   ]
  },
  {
   "cell_type": "markdown",
   "metadata": {},
   "source": [
    "# MSSIM"
   ]
  },
  {
   "cell_type": "code",
   "execution_count": 30,
   "metadata": {},
   "outputs": [
    {
     "data": {
      "text/plain": [
       "0.8282028014132866"
      ]
     },
     "execution_count": 30,
     "metadata": {},
     "output_type": "execute_result"
    }
   ],
   "source": [
    "ssim(IMG.img,Q_recover.astype(IMG.img.dtype),gaussian_weights=True,sigma=1.5,K1=0.01,K2=0.03)"
   ]
  },
  {
   "cell_type": "markdown",
   "metadata": {},
   "source": [
    "# MSDS"
   ]
  },
  {
   "cell_type": "code",
   "execution_count": 31,
   "metadata": {},
   "outputs": [],
   "source": []
  },
  {
   "cell_type": "code",
   "execution_count": 32,
   "metadata": {},
   "outputs": [
    {
     "data": {
      "text/plain": [
       "7994.6141357421875"
      ]
     },
     "execution_count": 32,
     "metadata": {},
     "output_type": "execute_result"
    }
   ],
   "source": [
    "MSDS1"
   ]
  },
  {
   "cell_type": "code",
   "execution_count": 33,
   "metadata": {},
   "outputs": [
    {
     "data": {
      "text/plain": [
       "2732.5407104492188"
      ]
     },
     "execution_count": 33,
     "metadata": {},
     "output_type": "execute_result"
    }
   ],
   "source": [
    "MSDS2"
   ]
  },
  {
   "cell_type": "code",
   "execution_count": null,
   "metadata": {},
   "outputs": [],
   "source": []
  }
 ],
 "metadata": {
  "kernelspec": {
   "display_name": "Python 3",
   "language": "python",
   "name": "python3"
  },
  "language_info": {
   "codemirror_mode": {
    "name": "ipython",
    "version": 3
   },
   "file_extension": ".py",
   "mimetype": "text/x-python",
   "name": "python",
   "nbconvert_exporter": "python",
   "pygments_lexer": "ipython3",
   "version": "3.6.8"
  }
 },
 "nbformat": 4,
 "nbformat_minor": 4
}
