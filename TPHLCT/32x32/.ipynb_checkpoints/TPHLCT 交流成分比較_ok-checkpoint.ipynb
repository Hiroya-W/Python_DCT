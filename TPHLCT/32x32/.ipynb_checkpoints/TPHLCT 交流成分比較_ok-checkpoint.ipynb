{
 "cells": [
  {
   "cell_type": "code",
   "execution_count": 1,
   "metadata": {},
   "outputs": [],
   "source": [
    "import numpy as np\n",
    "import scipy.misc\n",
    "from scipy.fftpack import dct, idct\n",
    "import sys\n",
    "from PIL import Image\n",
    "import matplotlib\n",
    "import matplotlib.pyplot as plt\n",
    "import random\n",
    "from tqdm._tqdm_notebook import tqdm_notebook\n",
    "from scipy.fftpack import dct, idct\n",
    "import seaborn as sns\n",
    "from skimage.metrics import structural_similarity as ssim\n",
    "import pandas as pd\n",
    "import sympy\n",
    "\n",
    "%matplotlib inline\n",
    "\n",
    "\n",
    "class ImageLoader:\n",
    "    def __init__(self, FILE_PATH):\n",
    "        self.img = np.array(Image.open(FILE_PATH))\n",
    "        # 行数\n",
    "        self.row_blocks_count = self.img.shape[0] // 8\n",
    "        # 列数\n",
    "        self.col_blocks_count = self.img.shape[1] // 8\n",
    "\n",
    "    def get_points(self, POINT):\n",
    "        Row = random.randint(0, len(self.img) - POINT - 1)\n",
    "        Col = random.randint(0, len(self.img) - 1)\n",
    "        return self.img[Row : Row + POINT, Col]\n",
    "\n",
    "    def get_block(self, col, row):\n",
    "        return self.img[col * 8 : (col + 1) * 8, row * 8 : (row + 1) * 8]\n",
    "\n",
    "\n",
    "# plt.rcParams['font.family'] ='sans-serif'#使用するフォント\n",
    "# plt.rcParams[\"font.sans-serif\"] = \"Source Han Sans\"\n",
    "plt.rcParams[\"font.family\"] = \"Source Han Sans JP\"  # 使用するフォント\n",
    "plt.rcParams[\"xtick.direction\"] = \"in\"  # x軸の目盛線が内向き('in')か外向き('out')か双方向か('inout')\n",
    "plt.rcParams[\"ytick.direction\"] = \"in\"  # y軸の目盛線が内向き('in')か外向き('out')か双方向か('inout')\n",
    "plt.rcParams[\"xtick.major.width\"] = 1.0  # x軸主目盛り線の線幅\n",
    "plt.rcParams[\"ytick.major.width\"] = 1.0  # y軸主目盛り線の線幅\n",
    "plt.rcParams[\"font.size\"] = 12  # フォントの大きさ\n",
    "plt.rcParams[\"axes.linewidth\"] = 1.0  # 軸の線幅edge linewidth。囲みの太さ\n",
    "matplotlib.font_manager._rebuild()\n",
    "\n",
    "MONO_DIR_PATH = \"../../Mono/\"\n",
    "AIRPLANE = ImageLoader(MONO_DIR_PATH + \"airplane512.bmp\")\n",
    "BARBARA = ImageLoader(MONO_DIR_PATH + \"barbara512.bmp\")\n",
    "BOAT = ImageLoader(MONO_DIR_PATH + \"boat512.bmp\")\n",
    "GOLDHILL = ImageLoader(MONO_DIR_PATH + \"goldhill512.bmp\")\n",
    "LENNA = ImageLoader(MONO_DIR_PATH + \"lenna512.bmp\")\n",
    "MANDRILL = ImageLoader(MONO_DIR_PATH + \"mandrill512.bmp\")\n",
    "MILKDROP = ImageLoader(MONO_DIR_PATH + \"milkdrop512.bmp\")\n",
    "SAILBOAT = ImageLoader(MONO_DIR_PATH + \"sailboat512.bmp\")\n",
    "\n",
    "IMAGES = [\n",
    "    AIRPLANE,\n",
    "    BARBARA,\n",
    "    BOAT,\n",
    "    GOLDHILL,\n",
    "    LENNA,\n",
    "    MANDRILL,\n",
    "    MILKDROP,\n",
    "    SAILBOAT\n",
    "]"
   ]
  },
  {
   "cell_type": "code",
   "execution_count": 2,
   "metadata": {},
   "outputs": [],
   "source": [
    "# n_bar = 4\n",
    "N = 16"
   ]
  },
  {
   "cell_type": "code",
   "execution_count": 3,
   "metadata": {},
   "outputs": [],
   "source": [
    "IMG = LENNA"
   ]
  },
  {
   "cell_type": "code",
   "execution_count": 4,
   "metadata": {},
   "outputs": [],
   "source": [
    "Fk = np.zeros(IMG.img.shape)"
   ]
  },
  {
   "cell_type": "code",
   "execution_count": 5,
   "metadata": {},
   "outputs": [],
   "source": [
    "sampling_x = (0.5 + np.arange(N)) / N\n",
    "u_1 = (1 - sampling_x) ** 2 / 2\n",
    "u_2 = 1 / 24 - sampling_x ** 2 / 6 + sampling_x ** 3 / 6 - sampling_x ** 4 / 24\n",
    "u_3 = sampling_x ** 2 / 2\n",
    "u_4 = -sampling_x ** 2 / 12 + sampling_x ** 4 / 24"
   ]
  },
  {
   "cell_type": "code",
   "execution_count": 6,
   "metadata": {},
   "outputs": [],
   "source": [
    "ak = - scipy.fftpack.dct(u_1,norm=\"ortho\")\n",
    "bk = scipy.fftpack.dct(u_2,norm=\"ortho\")\n",
    "ck = scipy.fftpack.dct(u_3,norm=\"ortho\")\n",
    "dk = scipy.fftpack.dct(u_4,norm=\"ortho\")\n",
    "\n",
    "alpha = ak\n",
    "beta = ck\n",
    "\n",
    "Ak = (2 * ak - 16 * bk) / np.sqrt(N)\n",
    "Bk = (2 * ck - 16 * dk) / np.sqrt(N)\n",
    "Ck = (2 * ak - 32 * bk) / np.sqrt(N)\n",
    "Dk = (2 * ck - 32 * dk) / np.sqrt(N)"
   ]
  },
  {
   "cell_type": "code",
   "execution_count": 7,
   "metadata": {},
   "outputs": [],
   "source": [
    "def TPHLCT(IMG,N):\n",
    "    Fk = np.zeros(IMG.img.shape)\n",
    "    # DCT\n",
    "    for row in range(IMG.img.shape[0] // N):\n",
    "        for col in range(IMG.img.shape[1]):\n",
    "            eight_points = IMG.img[N * row : N * (row + 1), col]\n",
    "            c = scipy.fftpack.dct(eight_points,norm=\"ortho\")\n",
    "            Fk[N * row : N * (row + 1), col] = c\n",
    "            \n",
    "    # 3階\n",
    "    for row in range(Fk.shape[0] // N):\n",
    "        for col in range(Fk.shape[1]):\n",
    "            F = Fk[N * row : N * (row + 1), col]\n",
    "\n",
    "            F_0_r = 0\n",
    "            F_1_r = 0\n",
    "            if row is not Fk.shape[0] // N - 1:\n",
    "                F_0_r = Fk[N * (row + 1), col]\n",
    "                F_1_r = Fk[N * (row + 1) + 1, col]\n",
    "\n",
    "            F_0_l = 0\n",
    "            F_1_l = 1\n",
    "            if row is not 0:\n",
    "                F_0_l = Fk[N * (row - 1), col]\n",
    "                F_1_l = Fk[N * (row - 1) + 1, col]\n",
    "\n",
    "            # 残差\n",
    "            F_0 = F[0]\n",
    "            F_1 = F[1]\n",
    "\n",
    "            F = (\n",
    "                F\n",
    "                - Ak * (F_0 - F_0_l)\n",
    "                - Bk * (F_0_r - F_0)\n",
    "                - Ck * (F_1 + F_1_l)\n",
    "                - Dk * (F_1_r + F_1)\n",
    "            )\n",
    "            # F_0, F_1は残す\n",
    "            F[0] = F_0\n",
    "            F[1] = F_1\n",
    "            # F_0 V_1 V_2 V_3 V_4 V_5 V_6 V_7\n",
    "            Fk[N * row : N * (row + 1), col] = F\n",
    "    \n",
    "    # 1階\n",
    "    for row in range(Fk.shape[0] // N):\n",
    "        for col in range(Fk.shape[1]):\n",
    "            F = Fk[N * row : N * (row + 1), col]\n",
    "\n",
    "            F_0_r = 0\n",
    "            if row is not Fk.shape[0] // N - 1:\n",
    "                F_0_r = Fk[N * (row + 1), col]\n",
    "\n",
    "            F_0_l = 0\n",
    "            if row is not 0:\n",
    "                F_0_l = Fk[N * (row - 1), col]\n",
    "\n",
    "            # 残差\n",
    "            F_0 = F[0]\n",
    "            F_temp = F - alpha * (F_0_r - F_0) / np.sqrt(N) - beta * (F_0 - F_0_l) / np.sqrt(N)\n",
    "            # F_0は残す\n",
    "            F[1] = F_temp[1]\n",
    "            # F_0 V_1 V_2 V_3 V_4 V_5 V_6 V_7\n",
    "            Fk[N * row : N * (row + 1), col] = F\n",
    "            \n",
    "    # DCT\n",
    "    for row in range(Fk.shape[0]):\n",
    "        for col in range(Fk.shape[1] // N):\n",
    "            eight_points = Fk[row, N * col : N * (col + 1)]\n",
    "            c = scipy.fftpack.dct(eight_points,norm=\"ortho\")\n",
    "            Fk[row, N * col : N * (col + 1)] = c\n",
    "            \n",
    "    # 3階\n",
    "    for row in range(Fk.shape[0]):\n",
    "        for col in range(Fk.shape[1] // N):\n",
    "            F = Fk[row, N * col : N * (col + 1)]\n",
    "\n",
    "            F_0_r = 0\n",
    "            F_1_r = 0\n",
    "            if col is not Fk.shape[1] // N - 1:\n",
    "                F_0_r = Fk[row, N * (col + 1)]\n",
    "                F_1_r = Fk[row, N * (col + 1) + 1]\n",
    "\n",
    "            F_0_l = 0\n",
    "            F_1_l = 0\n",
    "            if col is not 0:\n",
    "                F_0_l = Fk[row, N * (col - 1)]\n",
    "                F_1_l = Fk[row, N * (col - 1) + 1]\n",
    "\n",
    "            # 残差\n",
    "            F_0 = F[0]\n",
    "            F_1 = F[1]\n",
    "\n",
    "            F = (\n",
    "                F\n",
    "                - Ak * (F_0 - F_0_l)\n",
    "                - Bk * (F_0_r - F_0)\n",
    "                - Ck * (F_1 + F_1_l)\n",
    "                - Dk * (F_1_r + F_1)\n",
    "            )\n",
    "            # F_0は残す\n",
    "            F[0] = F_0\n",
    "            F[1] = F_1\n",
    "            # F_0 V_1 V_2 V_3 V_4 V_5 V_6 V_7\n",
    "            Fk[row, N * col : N * (col + 1)] = F\n",
    "            \n",
    "    for row in range(Fk.shape[0]):\n",
    "        for col in range(Fk.shape[1] // N):\n",
    "            F = Fk[row, N * col : N * (col + 1)]\n",
    "\n",
    "            F_0_r = 0\n",
    "            if col is not Fk.shape[1] // N - 1:\n",
    "                F_0_r = Fk[row, N * (col + 1)]\n",
    "\n",
    "            F_0_l = 0\n",
    "            if col is not 0:\n",
    "                F_0_l = Fk[row, N * (col - 1)]\n",
    "\n",
    "            # 残差\n",
    "            F_0 = F[0]\n",
    "            F_temp = F - alpha * (F_0_r - F_0) / np.sqrt(N) - beta * (F_0 - F_0_l) / np.sqrt(N)\n",
    "            # F_0は残す\n",
    "            F[1] = F_temp[1]\n",
    "            # F_0 V_1 V_2 V_3 V_4 V_5 V_6 V_7\n",
    "            Fk[row, N * col : N * (col + 1)] = F\n",
    "            \n",
    "    return Fk"
   ]
  },
  {
   "cell_type": "code",
   "execution_count": 8,
   "metadata": {},
   "outputs": [],
   "source": [
    "# DCT係数の平均を求める"
   ]
  },
  {
   "cell_type": "code",
   "execution_count": 9,
   "metadata": {},
   "outputs": [],
   "source": [
    "Fk_values = np.zeros((512,512))"
   ]
  },
  {
   "cell_type": "code",
   "execution_count": 10,
   "metadata": {},
   "outputs": [
    {
     "data": {
      "application/vnd.jupyter.widget-view+json": {
       "model_id": "312dc2e85d7e43df9cae6673cd948125",
       "version_major": 2,
       "version_minor": 0
      },
      "text/plain": [
       "HBox(children=(IntProgress(value=0, max=8), HTML(value='')))"
      ]
     },
     "metadata": {},
     "output_type": "display_data"
    },
    {
     "name": "stdout",
     "output_type": "stream",
     "text": [
      "\n"
     ]
    }
   ],
   "source": [
    "for IMG in tqdm_notebook(IMAGES):\n",
    "    values = np.zeros((25,4))\n",
    "    Fk = np.zeros(IMG.img.shape)\n",
    "    for row in range(IMG.img.shape[0] // N):\n",
    "        for col in range(IMG.img.shape[1] // N):\n",
    "            block = IMG.img[row * N : (row + 1) * N, col * N : (col + 1) * N]\n",
    "            c = scipy.fftpack.dct(\n",
    "                scipy.fftpack.dct(block, axis=0, norm=\"ortho\"), axis=1, norm=\"ortho\"\n",
    "            )\n",
    "            Fk[row * N : (row + 1) * N, col * N : (col + 1) * N] = c\n",
    "\n",
    "    Fk_values += np.abs(Fk)"
   ]
  },
  {
   "cell_type": "code",
   "execution_count": 11,
   "metadata": {},
   "outputs": [],
   "source": [
    "Fk_values /= len(IMAGES)\n",
    "pd.DataFrame(Fk_values).to_csv(\"DCT_coef_ave.csv\",header=False,index=False)"
   ]
  },
  {
   "cell_type": "code",
   "execution_count": 12,
   "metadata": {},
   "outputs": [],
   "source": [
    "# 各n_barの残差係数の平均を求める"
   ]
  },
  {
   "cell_type": "code",
   "execution_count": 13,
   "metadata": {},
   "outputs": [],
   "source": [
    "Vk_values = np.zeros((512,512))"
   ]
  },
  {
   "cell_type": "code",
   "execution_count": 14,
   "metadata": {},
   "outputs": [
    {
     "data": {
      "application/vnd.jupyter.widget-view+json": {
       "model_id": "0d5979f23a7a4b319f698e3ba95a4c6e",
       "version_major": 2,
       "version_minor": 0
      },
      "text/plain": [
       "HBox(children=(IntProgress(value=0, max=8), HTML(value='')))"
      ]
     },
     "metadata": {},
     "output_type": "display_data"
    },
    {
     "name": "stdout",
     "output_type": "stream",
     "text": [
      "\n"
     ]
    }
   ],
   "source": [
    "Vk_values = np.zeros((512,512))\n",
    "for IMG in tqdm_notebook(IMAGES):\n",
    "    Fk = TPHLCT(IMG,N)\n",
    "    Vk_values += np.abs(Fk)\n",
    "\n",
    "pd.DataFrame(Vk_values / len(IMAGES)).to_csv(\"TPHLCT_coef_ave.csv\",header=False,index=False)"
   ]
  },
  {
   "cell_type": "code",
   "execution_count": 15,
   "metadata": {},
   "outputs": [],
   "source": [
    "# DCT係数を読み込む"
   ]
  },
  {
   "cell_type": "code",
   "execution_count": 16,
   "metadata": {},
   "outputs": [],
   "source": [
    "Fk_values = pd.read_csv(\"DCT_coef_ave.csv\",header=None).values"
   ]
  },
  {
   "cell_type": "code",
   "execution_count": 17,
   "metadata": {},
   "outputs": [],
   "source": [
    "# 残差係数を読み込む"
   ]
  },
  {
   "cell_type": "code",
   "execution_count": 18,
   "metadata": {},
   "outputs": [],
   "source": [
    "Vk_values = pd.read_csv(\"TPHLCT_coef_ave.csv\",header=None).values"
   ]
  },
  {
   "cell_type": "code",
   "execution_count": 19,
   "metadata": {},
   "outputs": [],
   "source": [
    "# NxNブロック1個当たりの係数の平均を求める"
   ]
  },
  {
   "cell_type": "code",
   "execution_count": 20,
   "metadata": {},
   "outputs": [],
   "source": [
    "Fk_block_ave_values = np.zeros((N,N))\n",
    "for row in range(IMG.img.shape[0] // N):\n",
    "    for col in range(IMG.img.shape[1] // N):\n",
    "        if col == 0:\n",
    "            continue\n",
    "        if col == IMG.img.shape[1] // N -1:\n",
    "            continue\n",
    "        if row == 0:\n",
    "            continue\n",
    "        if row == IMG.img.shape[0] // N -1:\n",
    "            continue\n",
    "        block = Fk_values[row * N : (row + 1) * N, col * N : (col + 1) * N]\n",
    "        Fk_block_ave_values += np.abs(block)\n",
    "\n",
    "Fk_block_ave_values /= (IMG.img.shape[0]//N)**2"
   ]
  },
  {
   "cell_type": "code",
   "execution_count": 21,
   "metadata": {},
   "outputs": [],
   "source": [
    "Vk_block_ave_values = np.zeros((N,N))\n",
    "for row in range(IMG.img.shape[0] // N):\n",
    "    for col in range(IMG.img.shape[1] // N):\n",
    "        if col == 0:\n",
    "            continue\n",
    "        if col == IMG.img.shape[1] // N -1:\n",
    "            continue\n",
    "        if row == 0:\n",
    "            continue\n",
    "        if row == IMG.img.shape[0] // N -1:\n",
    "            continue\n",
    "        block = Vk_values[row * N : (row + 1) * N, col * N : (col + 1) * N]\n",
    "        Vk_block_ave_values += np.abs(block)\n",
    "\n",
    "Vk_block_ave_values /= (IMG.img.shape[0]//N)**2"
   ]
  },
  {
   "cell_type": "code",
   "execution_count": 22,
   "metadata": {},
   "outputs": [],
   "source": [
    "df = pd.DataFrame(columns=[\"G(k_1,k_2)\"])"
   ]
  },
  {
   "cell_type": "code",
   "execution_count": 23,
   "metadata": {},
   "outputs": [
    {
     "ename": "NameError",
     "evalue": "name 'k_max' is not defined",
     "output_type": "error",
     "traceback": [
      "\u001b[0;31m---------------------------------------------------------------------------\u001b[0m",
      "\u001b[0;31mNameError\u001b[0m                                 Traceback (most recent call last)",
      "\u001b[0;32m<ipython-input-23-e7f1d7699c7e>\u001b[0m in \u001b[0;36m<module>\u001b[0;34m\u001b[0m\n\u001b[0;32m----> 1\u001b[0;31m \u001b[0;32mfor\u001b[0m \u001b[0mindex\u001b[0m \u001b[0;32min\u001b[0m \u001b[0mrange\u001b[0m\u001b[0;34m(\u001b[0m\u001b[0;36m1\u001b[0m\u001b[0;34m,\u001b[0m\u001b[0mk_max\u001b[0m\u001b[0;34m,\u001b[0m\u001b[0;36m1\u001b[0m\u001b[0;34m)\u001b[0m\u001b[0;34m:\u001b[0m\u001b[0;34m\u001b[0m\u001b[0;34m\u001b[0m\u001b[0m\n\u001b[0m\u001b[1;32m      2\u001b[0m     \u001b[0;32mfor\u001b[0m \u001b[0mi\u001b[0m \u001b[0;32min\u001b[0m \u001b[0mrange\u001b[0m\u001b[0;34m(\u001b[0m\u001b[0mindex\u001b[0m\u001b[0;34m)\u001b[0m\u001b[0;34m:\u001b[0m\u001b[0;34m\u001b[0m\u001b[0;34m\u001b[0m\u001b[0m\n\u001b[1;32m      3\u001b[0m         \u001b[0mGk1k2_1\u001b[0m \u001b[0;34m=\u001b[0m \u001b[0;34m[\u001b[0m\u001b[0;34m]\u001b[0m\u001b[0;34m\u001b[0m\u001b[0;34m\u001b[0m\u001b[0m\n\u001b[1;32m      4\u001b[0m         \u001b[0mGk1k2_2\u001b[0m \u001b[0;34m=\u001b[0m \u001b[0;34m[\u001b[0m\u001b[0;34m]\u001b[0m\u001b[0;34m\u001b[0m\u001b[0;34m\u001b[0m\u001b[0m\n\u001b[1;32m      5\u001b[0m         \u001b[0mVk\u001b[0m \u001b[0;34m=\u001b[0m \u001b[0mVk_block_ave_values\u001b[0m\u001b[0;34m[\u001b[0m\u001b[0mi\u001b[0m\u001b[0;34m,\u001b[0m\u001b[0mindex\u001b[0m\u001b[0;34m]\u001b[0m\u001b[0;34m\u001b[0m\u001b[0;34m\u001b[0m\u001b[0m\n",
      "\u001b[0;31mNameError\u001b[0m: name 'k_max' is not defined"
     ]
    }
   ],
   "source": [
    "for index in range(1,k_max,1):\n",
    "    for i in range(index):\n",
    "        Gk1k2_1 = []\n",
    "        Gk1k2_2 = []\n",
    "        Vk = Vk_block_ave_values[i,index]\n",
    "        Fk = Fk_block_ave_values[i,index]\n",
    "        Gk1k2_1.append(100 * (1 - Vk/Fk))        \n",
    "\n",
    "        Vk = Vk_block_ave_values[index,i]\n",
    "        Fk = Fk_block_ave_values[index,i]\n",
    "        Gk1k2_2.append(100 * (1 - Vk/Fk))\n",
    "            \n",
    "        df.loc[\"(\" + str(i) + \",\" + str(index) + \")\"] = Gk1k2_1\n",
    "        df.loc[\"(\" + str(index) + \",\" + str(i) + \")\"] = Gk1k2_2\n",
    "        \n",
    "    Gk1k2 = []\n",
    "\n",
    "    Vk = Vk_block_ave_values[index,index]\n",
    "    Fk = Fk_block_ave_values[index,index]\n",
    "    Gk1k2.append(100 * (1 - Vk/Fk))\n",
    "    \n",
    "    df.loc[\"(\" + str(index) + \",\" + str(index) + \")\"] = Gk1k2\n",
    "\n",
    "Gk1k2 = []\n",
    "\n",
    "Vk_sum = 0\n",
    "Fk_sum = 0\n",
    "for row in range(N):\n",
    "    for col in range(N):\n",
    "        if row > k_max-1 or col > k_max-1:\n",
    "            Vk_sum += Vk_block_ave_values[row,col]\n",
    "            Fk_sum += Fk_block_ave_values[row,col]\n",
    "Gk1k2.append(100 * (1 - Vk_sum/Fk_sum))\n",
    "df.loc[\"others\"] = Gk1k2"
   ]
  },
  {
   "cell_type": "code",
   "execution_count": null,
   "metadata": {},
   "outputs": [],
   "source": [
    "df.to_csv(\"TPHLCT_high_freq_comp.csv\")\n",
    "df"
   ]
  },
  {
   "cell_type": "code",
   "execution_count": null,
   "metadata": {},
   "outputs": [],
   "source": []
  }
 ],
 "metadata": {
  "kernelspec": {
   "display_name": "Python 3",
   "language": "python",
   "name": "python3"
  },
  "language_info": {
   "codemirror_mode": {
    "name": "ipython",
    "version": 3
   },
   "file_extension": ".py",
   "mimetype": "text/x-python",
   "name": "python",
   "nbconvert_exporter": "python",
   "pygments_lexer": "ipython3",
   "version": "3.6.8"
  }
 },
 "nbformat": 4,
 "nbformat_minor": 4
}
