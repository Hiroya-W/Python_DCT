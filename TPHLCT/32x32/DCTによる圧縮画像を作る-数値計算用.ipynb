{
 "cells": [
  {
   "cell_type": "markdown",
   "metadata": {},
   "source": [
    "# DCTによる圧縮画像を作る"
   ]
  },
  {
   "cell_type": "code",
   "execution_count": 1,
   "metadata": {},
   "outputs": [],
   "source": [
    "import numpy as np\n",
    "import scipy.misc\n",
    "from scipy.fftpack import dct, idct\n",
    "import sys\n",
    "from PIL import Image\n",
    "import matplotlib\n",
    "import matplotlib.pyplot as plt\n",
    "import random\n",
    "from tqdm import tqdm_notebook as tqdm\n",
    "from tqdm._tqdm_notebook import tqdm_notebook\n",
    "from scipy.fftpack import dct, idct\n",
    "import seaborn as sns\n",
    "from skimage.metrics import structural_similarity as ssim\n",
    "import pandas as pd\n",
    "\n",
    "%matplotlib inline\n",
    "\n",
    "\n",
    "class ImageLoader:\n",
    "    def __init__(self, FILE_PATH):\n",
    "        self.img = np.array(Image.open(FILE_PATH))\n",
    "        # 行数\n",
    "        self.row_blocks_count = self.img.shape[0] // 8\n",
    "        # 列数\n",
    "        self.col_blocks_count = self.img.shape[1] // 8\n",
    "\n",
    "    def get_points(self, POINT):\n",
    "        Row = random.randint(0, len(self.img) - POINT - 1)\n",
    "        Col = random.randint(0, len(self.img) - 1)\n",
    "        return self.img[Row : Row + POINT, Col]\n",
    "\n",
    "    def get_block(self, col, row):\n",
    "        return self.img[col * 8 : (col + 1) * 8, row * 8 : (row + 1) * 8]\n",
    "\n",
    "\n",
    "# plt.rcParams['font.family'] ='sans-serif'#使用するフォント\n",
    "# plt.rcParams[\"font.sans-serif\"] = \"Source Han Sans\"\n",
    "plt.rcParams[\"font.family\"] = \"Source Han Sans JP\"  # 使用するフォント\n",
    "plt.rcParams[\"xtick.direction\"] = \"in\"  # x軸の目盛線が内向き('in')か外向き('out')か双方向か('inout')\n",
    "plt.rcParams[\"ytick.direction\"] = \"in\"  # y軸の目盛線が内向き('in')か外向き('out')か双方向か('inout')\n",
    "plt.rcParams[\"xtick.major.width\"] = 1.0  # x軸主目盛り線の線幅\n",
    "plt.rcParams[\"ytick.major.width\"] = 1.0  # y軸主目盛り線の線幅\n",
    "plt.rcParams[\"font.size\"] = 12  # フォントの大きさ\n",
    "plt.rcParams[\"axes.linewidth\"] = 1.0  # 軸の線幅edge linewidth。囲みの太さ\n",
    "matplotlib.font_manager._rebuild()\n",
    "\n",
    "# 画像の用意\n",
    "MONO_DIR_PATH = \"../../Mono/\"\n",
    "AIRPLANE = ImageLoader(MONO_DIR_PATH + \"airplane512.bmp\")\n",
    "BARBARA = ImageLoader(MONO_DIR_PATH + \"barbara512.bmp\")\n",
    "BOAT = ImageLoader(MONO_DIR_PATH + \"boat512.bmp\")\n",
    "GOLDHILL = ImageLoader(MONO_DIR_PATH + \"goldhill512.bmp\")\n",
    "LENNA = ImageLoader(MONO_DIR_PATH + \"lenna512.bmp\")\n",
    "MANDRILL = ImageLoader(MONO_DIR_PATH + \"mandrill512.bmp\")\n",
    "MILKDROP = ImageLoader(MONO_DIR_PATH + \"milkdrop512.bmp\")\n",
    "SAILBOAT = ImageLoader(MONO_DIR_PATH + \"sailboat512.bmp\")\n",
    "\n",
    "N = 16"
   ]
  },
  {
   "cell_type": "markdown",
   "metadata": {
    "toc-hr-collapsed": false
   },
   "source": [
    "# DCT"
   ]
  },
  {
   "cell_type": "markdown",
   "metadata": {},
   "source": [
    "## 基底関数"
   ]
  },
  {
   "cell_type": "markdown",
   "metadata": {},
   "source": [
    "$$\n",
    "\\phi_k[i] = \\begin{cases}\n",
    "\\cfrac{1}{\\sqrt{N}}  \\quad \\quad \\quad (k=0) \\\\\n",
    "\\sqrt{\\cfrac{2}{N}} \\cos \\left({\\cfrac{\\pi}{2N}(2i+1)k}\\right) \\quad  (k=1,2,...,N-1) \n",
    "\\end{cases}\n",
    "$$"
   ]
  },
  {
   "cell_type": "code",
   "execution_count": 2,
   "metadata": {},
   "outputs": [],
   "source": [
    "class DCT:\n",
    "    def __init__(self, N):\n",
    "        self.N = N  # データ数\n",
    "        # 1次元DCTの基底ベクトルの生成\n",
    "        self.phi_1d = np.array([self.phi(i) for i in range(self.N)])\n",
    "        # 2次元DCTの基底ベクトルの格納\n",
    "        self.phi_2d = np.zeros((N, N))\n",
    "\n",
    "    def phi(self, k):\n",
    "        \"\"\" 離散コサイン変換(DCT)の基底関数 \"\"\"\n",
    "        # DCT-II\n",
    "        if k == 0:\n",
    "            return np.ones(self.N) / np.sqrt(self.N)\n",
    "        else:\n",
    "            return np.sqrt(2.0 / self.N) * np.cos(\n",
    "                (k * np.pi / (2 * self.N)) * (np.arange(self.N) * 2 + 1)\n",
    "            )\n",
    "\n",
    "    def dct(self, data):\n",
    "        \"\"\" 1次元離散コサイン変換を行う \"\"\"\n",
    "        return self.phi_1d.dot(data)\n",
    "\n",
    "    def idct(self, c):\n",
    "        \"\"\" 1次元離散コサイン逆変換を行う \"\"\"\n",
    "        return np.sum(self.phi_1d.T * c, axis=1)\n",
    "\n",
    "    def get_dct2_phi(self, y, x):\n",
    "        \"\"\" 2次元離散コサイン変換の基底を返す \"\"\"\n",
    "        phi_x, phi_y = np.meshgrid(self.phi_1d[x], self.phi_1d[y])\n",
    "        return phi_x * phi_y\n",
    "\n",
    "    def get_dct2(self, y, x, data):\n",
    "        \"\"\" i,jの2次元DCT係数を返す \"\"\"\n",
    "        phi_2d_phi = np.zeros((self.N, self.N))\n",
    "        phi_2d_phi = self.get_dct2_phi(y, x)\n",
    "        return np.sum(np.sum(phi_2d_phi * data))\n",
    "\n",
    "    def dct2(self, data):\n",
    "        \"\"\" 2次元離散コサイン変換を行う \"\"\"\n",
    "        for y in range(self.N):\n",
    "            for x in range(self.N):\n",
    "                self.phi_2d[y, x] = self.get_dct2(y, x, data)\n",
    "\n",
    "        return self.phi_2d\n",
    "\n",
    "    def idct2(self, c):\n",
    "        \"\"\" 2次元離散コサイン逆変換を行う \"\"\"\n",
    "        idct2_data = np.zeros((self.N, self.N))\n",
    "        phi_2d_phi = np.zeros((self.N, self.N))\n",
    "        for y in range(self.N):\n",
    "            for x in range(self.N):\n",
    "                phi_2d_phi = self.get_dct2_phi(y, x)\n",
    "                idct2_data += c[y, x] * phi_2d_phi\n",
    "\n",
    "        return idct2_data"
   ]
  },
  {
   "cell_type": "markdown",
   "metadata": {},
   "source": [
    "# MSDS"
   ]
  },
  {
   "cell_type": "code",
   "execution_count": 3,
   "metadata": {},
   "outputs": [],
   "source": [
    "def msds(N,arr):\n",
    "    w_e = 0\n",
    "    e_e = 0\n",
    "    n_e = 0\n",
    "    s_e = 0\n",
    "    nw_e = 0\n",
    "    ne_e = 0\n",
    "    sw_e = 0\n",
    "    se_e = 0\n",
    "    for row in range(arr.shape[0] // N):\n",
    "        for col in range(arr.shape[1] // N):\n",
    "            f_block = arr[row * N : (row + 1) * N, col * N : (col + 1) * N]\n",
    "            # w\n",
    "            if col == 0:\n",
    "                w_block = np.fliplr(f_block)\n",
    "            else:\n",
    "                w_block = arr[row * N : (row + 1) * N, (col - 1) * N : col * N]\n",
    "            # e\n",
    "            if col == arr.shape[1] // N - 1:\n",
    "                e_block = np.fliplr(f_block)\n",
    "            else:\n",
    "                e_block = arr[row * N : (row + 1) * N, (col + 1) * N : (col + 2) * N]\n",
    "            # n\n",
    "            if row == 0:\n",
    "                n_block = np.flipud(f_block)\n",
    "            else:\n",
    "                n_block = arr[(row - 1) * N : row * N, col * N : (col + 1) * N]\n",
    "            # s\n",
    "            if row == arr.shape[0] // N - 1:\n",
    "                s_block = np.flipud(f_block)\n",
    "            else:\n",
    "                s_block = arr[(row + 1) * N : (row + 2) * N, col * N : (col + 1) * N]\n",
    "\n",
    "            w_d1 = f_block[:, 0] - w_block[:, N-1]\n",
    "            e_d1 = f_block[:, N-1] - e_block[:, 0]\n",
    "            n_d1 = f_block[0, :] - n_block[N-1, :]\n",
    "            s_d1 = f_block[N-1, :] - s_block[0, :]\n",
    "\n",
    "            w_d2 = (w_block[:, N-1] - w_block[:, N-2] + f_block[:, 1] - f_block[:, 0]) / 2\n",
    "            e_d2 = (e_block[:, 1] - e_block[:, 0] + f_block[:, N-1] - f_block[:, N-2]) / 2\n",
    "            n_d2 = (n_block[N-1, :] - n_block[N-2, :] + f_block[1, :] - f_block[0, :]) / 2\n",
    "            s_d2 = (s_block[1, :] - s_block[0, :] + f_block[N-1, :] - f_block[N-2, :]) / 2\n",
    "\n",
    "            w_e += np.sum((w_d1 - w_d2) ** 2 )\n",
    "            e_e += np.sum((e_d1 - e_d2) ** 2 )\n",
    "            n_e += np.sum((n_d1 - n_d2) ** 2)\n",
    "            s_e += np.sum((s_d1 - s_d2) ** 2)\n",
    "\n",
    "            # nw\n",
    "            if row == 0 or col == 0:\n",
    "                nw_block = np.flipud(np.fliplr(f_block))\n",
    "            else:\n",
    "                nw_block = arr[(row - 1) * N : row * N, (col - 1) * N : col * N]\n",
    "            # ne\n",
    "            if row == 0 or col == arr.shape[1] // N - 1:\n",
    "                ne_block = np.flipud(np.fliplr(f_block))\n",
    "            else:\n",
    "                ne_block = arr[(row-1) * N : row * N, (col + 1) * N : (col + 2) * N]\n",
    "            # sw\n",
    "            if row == arr.shape[0] // N -1 or col == 0:\n",
    "                sw_block = np.flipud(np.fliplr(f_block))\n",
    "            else:\n",
    "                sw_block = arr[row * N : (row+1) * N, (col-1) * N : col * N]\n",
    "            # se\n",
    "            if  row == arr.shape[0]//N-1 or col == arr.shape[0] // N -1:\n",
    "                se_block = np.flipud(np.fliplr(f_block))\n",
    "            else:\n",
    "                se_block = arr[(row + 1) * N : (row + 2) * N, (col+1) * N : (col + 2) * N]\n",
    "\n",
    "            nw_g1 = f_block[0, 0] - nw_block[N-1, N-1]\n",
    "            ne_g1 = f_block[0, N-1] - ne_block[N-1, 0]\n",
    "            sw_g1 = f_block[N-1, 0] - sw_block[0, N-1]\n",
    "            se_g1 = f_block[N-1, N-1] - se_block[0, 0]\n",
    "\n",
    "            nw_g2 = (nw_block[N-1,N-1] - nw_block[N-2,N-2] + f_block[1,1] - f_block[0,0])/2\n",
    "            ne_g2 = (ne_block[N-1,0] - ne_block[N-2,1] + f_block[1,N-2] - f_block[0,N-1])/2\n",
    "            sw_g2 = (sw_block[0,N-1] - nw_block[1,N-2] + f_block[N-2,1] - f_block[N-1,0])/2\n",
    "            se_g2 = (nw_block[0,0] - nw_block[1,1] + f_block[N-2,N-2] - f_block[N-1,N-1])/2\n",
    "\n",
    "            nw_e += (nw_g1 - nw_g2) ** 2 \n",
    "            ne_e += (ne_g1 - ne_g2) ** 2 \n",
    "            sw_e += (sw_g1 - sw_g2) ** 2 \n",
    "            se_e += (se_g1 - se_g2) ** 2 \n",
    "\n",
    "    MSDSt = (w_e + e_e + n_e + s_e + nw_e + ne_e + sw_e + se_e)/ ((arr.shape[0]/N)**2)\n",
    "    MSDS1 = (w_e + e_e + n_e + s_e)/ ((arr.shape[0]/N)**2)\n",
    "    MSDS2 = (nw_e + ne_e + sw_e + se_e)/ ((arr.shape[0]/N)**2)\n",
    "    return MSDSt, MSDS1, MSDS2"
   ]
  },
  {
   "cell_type": "markdown",
   "metadata": {},
   "source": [
    "# 32x32ブロックでDCT"
   ]
  },
  {
   "cell_type": "markdown",
   "metadata": {},
   "source": [
    "### DCT"
   ]
  },
  {
   "cell_type": "code",
   "execution_count": 4,
   "metadata": {},
   "outputs": [],
   "source": [
    "IMG = SAILBOAT"
   ]
  },
  {
   "cell_type": "code",
   "execution_count": 5,
   "metadata": {},
   "outputs": [],
   "source": [
    "Fk = np.zeros(IMG.img.shape)"
   ]
  },
  {
   "cell_type": "code",
   "execution_count": 6,
   "metadata": {},
   "outputs": [],
   "source": [
    "for row in range(IMG.img.shape[0] // 32):\n",
    "    for col in range(IMG.img.shape[1] // 32):\n",
    "        block = IMG.img[row * 32 : (row + 1) * 32, col * 32 : (col + 1) * 32]\n",
    "        c = scipy.fftpack.dct(\n",
    "            scipy.fftpack.dct(block, axis=0, norm=\"ortho\"), axis=1, norm=\"ortho\"\n",
    "        )\n",
    "        Fk[row * 32 : (row + 1) * 32, col * 32 : (col + 1) * 32] = c\n",
    "        "
   ]
  },
  {
   "cell_type": "code",
   "execution_count": 7,
   "metadata": {},
   "outputs": [],
   "source": [
    "low_3_value = 0\n",
    "others_value = 0"
   ]
  },
  {
   "cell_type": "code",
   "execution_count": 8,
   "metadata": {},
   "outputs": [],
   "source": [
    "for row in range(IMG.img.shape[0] // 32):\n",
    "    for col in range(IMG.img.shape[1] // 32):\n",
    "        block = Fk[row * 32 : (row + 1) * 32, col * 32 : (col + 1) * 32]\n",
    "        low_3_value += np.abs(block[0, 1]) + np.abs(block[1, 0]) + np.abs(block[1, 1])\n",
    "        others_value += (\n",
    "            np.sum(np.sum(np.abs(block)))\n",
    "            - np.abs(block[0, 0])\n",
    "            - np.abs(block[0, 1])\n",
    "            - np.abs(block[1, 0])\n",
    "            - np.abs(block[1, 1])\n",
    "        )\n",
    "        "
   ]
  },
  {
   "cell_type": "markdown",
   "metadata": {},
   "source": [
    "### 低域3成分 (0,1)(1,0)(1,1)の絶対値の和"
   ]
  },
  {
   "cell_type": "code",
   "execution_count": 9,
   "metadata": {},
   "outputs": [
    {
     "data": {
      "text/plain": [
       "243504.35235405603"
      ]
     },
     "execution_count": 9,
     "metadata": {},
     "output_type": "execute_result"
    }
   ],
   "source": [
    "low_3_value"
   ]
  },
  {
   "cell_type": "code",
   "execution_count": 10,
   "metadata": {},
   "outputs": [
    {
     "data": {
      "text/plain": [
       "2708631.820044377"
      ]
     },
     "execution_count": 10,
     "metadata": {},
     "output_type": "execute_result"
    }
   ],
   "source": [
    "others_value"
   ]
  },
  {
   "cell_type": "markdown",
   "metadata": {},
   "source": [
    "### IDCT"
   ]
  },
  {
   "cell_type": "code",
   "execution_count": 11,
   "metadata": {},
   "outputs": [],
   "source": [
    "recover = np.zeros(Fk.shape)"
   ]
  },
  {
   "cell_type": "code",
   "execution_count": 12,
   "metadata": {},
   "outputs": [],
   "source": [
    "for row in range(Fk.shape[0] // 32):\n",
    "    for col in range(Fk.shape[1] // 32):\n",
    "        block = Fk[row * 32 : (row + 1) * 32, col * 32 : (col + 1) * 32]\n",
    "        data = scipy.fftpack.idct(\n",
    "            scipy.fftpack.idct(block, axis=0, norm=\"ortho\"), axis=1, norm=\"ortho\"\n",
    "        )\n",
    "        recover[row * 32 : (row + 1) * 32, col * 32 : (col + 1) * 32] = data\n",
    "        "
   ]
  },
  {
   "cell_type": "code",
   "execution_count": 13,
   "metadata": {},
   "outputs": [
    {
     "data": {
      "text/plain": [
       "<matplotlib.image.AxesImage at 0x7f4fdd43d860>"
      ]
     },
     "execution_count": 13,
     "metadata": {},
     "output_type": "execute_result"
    },
    {
     "data": {
      "image/png": "[encoded data removed]",
      "text/plain": [
       "<Figure size 432x288 with 1 Axes>"
      ]
     },
     "metadata": {
      "needs_background": "light"
     },
     "output_type": "display_data"
    }
   ],
   "source": [
    "plt.imshow(recover, cmap=\"gray\")"
   ]
  },
  {
   "cell_type": "code",
   "execution_count": 14,
   "metadata": {},
   "outputs": [
    {
     "data": {
      "text/plain": [
       "array([30., 13., 15., 18., 19., 15., 15., 12., 15., 18.])"
      ]
     },
     "execution_count": 14,
     "metadata": {},
     "output_type": "execute_result"
    }
   ],
   "source": [
    "recover[0, 0:10]"
   ]
  },
  {
   "cell_type": "code",
   "execution_count": 15,
   "metadata": {},
   "outputs": [
    {
     "data": {
      "text/plain": [
       "array([30, 13, 15, 18, 19, 15, 15, 12, 15, 18], dtype=uint8)"
      ]
     },
     "execution_count": 15,
     "metadata": {},
     "output_type": "execute_result"
    }
   ],
   "source": [
    "IMG.img[0, 0:10]"
   ]
  },
  {
   "cell_type": "markdown",
   "metadata": {},
   "source": [
    "ちゃんと復元できてる"
   ]
  },
  {
   "cell_type": "markdown",
   "metadata": {},
   "source": [
    "# 量子化テーブル"
   ]
  },
  {
   "cell_type": "markdown",
   "metadata": {},
   "source": [
    "16x16の量子化テーブルは無いので一様量子化を行う"
   ]
  },
  {
   "cell_type": "code",
   "execution_count": 16,
   "metadata": {},
   "outputs": [
    {
     "data": {
      "application/vnd.jupyter.widget-view+json": {
       "model_id": "cba342dcc8bc46718508fe8cc8a68e75",
       "version_major": 2,
       "version_minor": 0
      },
      "text/plain": [
       "HBox(children=(IntProgress(value=0, max=3199), HTML(value='')))"
      ]
     },
     "metadata": {},
     "output_type": "display_data"
    },
    {
     "name": "stdout",
     "output_type": "stream",
     "text": [
      "S= 0.19701933746009082\n",
      "157.0 24.68194071365234 0.6396952774886699 91921.626953125 11165.4462890625\n",
      "S= 0.1971366415713447\n",
      "156.9375 24.684129069771835 0.6394874955052646 91902.0859375 11197.0078125\n",
      "S= 0.1972281879004306\n",
      "156.875 24.686230608764753 0.6396955177957006 91842.5078125 11196.2353515625\n",
      "S= 0.19736036748219052\n",
      "156.8125 24.688439050884774 0.6397544411537869 91980.416015625 11231.0068359375\n",
      "S= 0.19741525626824502\n",
      "156.75 24.690056603475426 0.6398241033853052 91727.5625 11211.451171875\n",
      "S= 0.19753137350704164\n",
      "156.6875 24.692030419552374 0.6400009514710676 92270.37109375 11248.5498046875\n",
      "S= 0.19761008155169396\n",
      "156.625 24.693688052441473 0.6400487751076439 92338.66015625 11235.4560546875\n",
      "S= 0.19771943140994375\n",
      "156.5625 24.695693190813756 0.6400623898014743 92280.22265625 11250.08984375\n",
      "S= 0.19775103410562475\n",
      "156.5 24.697137764460187 0.6400127436158578 92293.095703125 11271.06640625\n",
      "S= 0.19794861744894346\n",
      "156.4375 24.698931378196253 0.6397879026171971 92109.689453125 11327.869140625\n",
      "S= 0.197973827067228\n",
      "156.375 24.70071633259567 0.6398623358784593 92120.162109375 11268.1484375\n",
      "S= 0.19804879177171053\n",
      "156.3125 24.702111799618322 0.6399602116462447 92012.73828125 11273.5869140625\n",
      "S= 0.19807757133683562\n",
      "156.25 24.70388481649838 0.6400328978345168 91884.919921875 11239.0947265625\n",
      "S= 0.19816785261481715\n",
      "156.1875 24.706174767619107 0.6403174193026449 92065.353515625 11317.880859375\n",
      "S= 0.19825430599833055\n",
      "156.125 24.708371304081872 0.6403637999441769 92085.54296875 11381.568359375\n",
      "S= 0.19829010687252374\n",
      "156.0625 24.710384139208323 0.6402546398235858 91951.65625 11383.470703125\n",
      "S= 0.19843631014200175\n",
      "156.0 24.712350402368752 0.6404029982929332 91893.369140625 11244.8046875\n",
      "S= 0.19858484477736607\n",
      "155.9375 24.7145176249281 0.6406843089551559 91965.25390625 11319.4326171875\n",
      "S= 0.19866707048991217\n",
      "155.875 24.716660341830313 0.6408558388817722 91949.97265625 11292.2841796875\n",
      "S= 0.19878047013600694\n",
      "155.8125 24.718063131813288 0.6408007685736316 92102.412109375 11333.2509765625\n",
      "S= 0.1988870550315292\n",
      "155.75 24.719601497578164 0.6409590140049881 91883.453125 11302.6611328125\n",
      "S= 0.1989856671728143\n",
      "155.6875 24.72137290537157 0.640959109626632 91789.30859375 11216.0859375\n",
      "S= 0.19904470859459078\n",
      "155.625 24.72275197293227 0.6409617872919449 91600.568359375 11262.4169921875\n",
      "S= 0.19917214115405876\n",
      "155.5625 24.724592268140793 0.6409103257513149 91513.4609375 11269.6865234375\n",
      "S= 0.19927750542531758\n",
      "155.5 24.726026896532094 0.6409265476001315 91281.623046875 11213.15234375\n",
      "S= 0.19938499157574355\n",
      "155.4375 24.727634903003462 0.6412024166112066 91136.287109375 11226.5478515625\n",
      "S= 0.19942382212757265\n",
      "155.375 24.729416934238877 0.6414735035091981 91058.404296875 11210.728515625\n",
      "S= 0.19950864159401563\n",
      "155.3125 24.73027956525222 0.6416584821087288 91108.2578125 11232.3154296875\n",
      "S= 0.19972737774315036\n",
      "155.25 24.731869832481443 0.6415947883941545 90886.103515625 11269.900390625\n",
      "S= 0.19983812217711625\n",
      "155.1875 24.733893135910854 0.6417607268891246 90643.380859375 11280.08984375\n",
      "S= 0.19992134436657483\n",
      "155.125 24.736166897094964 0.6418133781974862 90660.849609375 11316.568359375\n",
      "S= 0.2000443035073185\n",
      "155.0625 24.736661495630827 0.6417425126115112 90566.767578125 11314.8720703125\n",
      "S= 0.20013572984804565\n",
      "155.0 24.738970847700056 0.6421954425357788 90457.130859375 11377.0009765625\n",
      "S= 0.20013360177611614\n",
      "154.9375 24.739989652638428 0.6421132264599296 90623.63671875 11391.037109375\n",
      "S= 0.200295949729275\n",
      "154.875 24.741777520808835 0.6420369479837296 90420.521484375 11356.66796875\n",
      "S= 0.20037586456165993\n",
      "154.8125 24.74334557572224 0.6422077547051757 90264.359375 11332.7919921875\n",
      "S= 0.2005333435542675\n",
      "154.75 24.744504117720826 0.6420942317350115 90150.935546875 11414.2763671875\n",
      "S= 0.20056223451392519\n",
      "154.6875 24.74594230028286 0.6422237991969372 90352.359375 11420.9267578125\n",
      "S= 0.20064860415614594\n",
      "154.625 24.748005851580825 0.6422767844104333 90070.447265625 11364.923828125\n",
      "S= 0.20068104082272303\n",
      "154.5625 24.748739112396976 0.6422107448651591 89787.05859375 11370.931640625\n",
      "S= 0.20078389330727545\n",
      "154.5 24.750214753023045 0.642004264683895 89949.736328125 11422.1259765625\n",
      "S= 0.20082358354204619\n",
      "154.4375 24.752203626429406 0.642122580448851 89896.2265625 11379.111328125\n",
      "S= 0.20100832276174196\n",
      "154.375 24.753485186514887 0.6422220924004163 89853.03515625 11355.1591796875\n",
      "S= 0.20121718610691552\n",
      "154.3125 24.756330584641898 0.6426020147064597 89863.8125 11366.947265625\n",
      "S= 0.2013502628741083\n",
      "154.25 24.758153770492303 0.6426938005021247 89896.3046875 11421.6181640625\n",
      "S= 0.20137996791476354\n",
      "154.1875 24.759937240759253 0.642808775272202 89866.427734375 11412.412109375\n",
      "S= 0.2014593506140754\n",
      "154.125 24.761080467618065 0.6430045062453423 89900.41015625 11391.0\n",
      "S= 0.2014911290508226\n",
      "154.0625 24.762561833887602 0.642966388075715 89996.146484375 11357.3564453125\n",
      "S= 0.20169529064129055\n",
      "154.0 24.76408346211635 0.6426585766761423 90077.4375 11297.9248046875\n",
      "S= 0.20177963084531936\n",
      "153.9375 24.765985484003995 0.6426994890981883 90302.779296875 11308.3857421875\n",
      "S= 0.20189762517940715\n",
      "153.875 24.767640966746484 0.6425249763869422 90413.640625 11302.06640625\n",
      "S= 0.20197351345794481\n",
      "153.8125 24.769180266650757 0.6425841956920322 90265.7421875 11366.2109375\n",
      "S= 0.20200770382149194\n",
      "153.75 24.77086662172921 0.6426845073774758 90182.68359375 11374.0419921875\n",
      "S= 0.20207610703279316\n",
      "153.6875 24.772126485513862 0.6427136138333502 90210.224609375 11348.005859375\n",
      "S= 0.20216324601272456\n",
      "153.625 24.773793947611907 0.6427840169848548 90171.388671875 11308.759765625\n",
      "S= 0.2022496482610875\n",
      "153.5625 24.77555608025616 0.6429885190308199 90084.455078125 11270.541015625\n",
      "S= 0.2023577089789367\n",
      "153.5 24.77720932238848 0.6428736511518197 89928.720703125 11262.19140625\n",
      "S= 0.2024099231941654\n",
      "153.4375 24.77880171000541 0.6430474454625136 90130.345703125 11255.0625\n",
      "S= 0.20262979388370547\n",
      "153.375 24.7800516238174 0.6428324211156282 90391.04296875 11294.9765625\n",
      "S= 0.20273263431515864\n",
      "153.3125 24.78158950672373 0.642885167962498 90299.765625 11307.9208984375\n",
      "S= 0.20279474330397335\n",
      "153.25 24.782754925225916 0.642909553994137 90411.037109375 11297.4658203125\n",
      "S= 0.2028339999928808\n",
      "153.1875 24.783416814355668 0.6429035086630877 90518.009765625 11306.3447265625\n",
      "S= 0.20299668863457754\n",
      "153.125 24.78523438585423 0.6427688713827551 90728.61328125 11321.357421875\n",
      "S= 0.2471170391687477\n",
      "127.625 25.499391108857743 0.6681359951917752 82950.0546875 10538.5263671875\n",
      "S= 0.2472850266633596\n",
      "127.5625 25.500670897817344 0.6682942405083365 83069.728515625 10504.6787109375\n",
      "S= 0.24735797652745306\n",
      "127.5 25.50349170630308 0.668619577253228 83125.369140625 10510.310546875\n",
      "S= 0.24741349259418444\n",
      "127.4375 25.505714171643096 0.6684903096618124 83018.291015625 10510.4794921875\n",
      "S= 0.2475150845873034\n",
      "127.375 25.507443411639677 0.6686458813912017 82754.3828125 10530.7236328125\n",
      "S= 0.24769198042228527\n",
      "127.3125 25.50917261572409 0.668695007393206 82483.408203125 10553.7431640625\n",
      "S= 0.24778700853178093\n",
      "127.25 25.5120437343422 0.6689820751244879 82372.548828125 10506.18359375\n",
      "S= 0.24793664019122746\n",
      "127.1875 25.51412755533611 0.6688016865777502 82226.083984375 10451.9970703125\n",
      "S= 0.2481247308950405\n",
      "127.125 25.516328068106162 0.6687228713924653 82452.630859375 10486.177734375\n",
      "S= 0.2483203229682614\n",
      "127.0625 25.51872833986156 0.6689154040836814 82068.99609375 10408.2412109375\n",
      "S= 0.24842641769175117\n",
      "127.0 25.520628258716354 0.6689662937420606 81934.482421875 10359.0703125\n",
      "S= 0.2485401721538352\n",
      "126.9375 25.52266885912001 0.6688889661704747 81929.171875 10419.2919921875\n",
      "S= 0.24867210819966987\n",
      "126.875 25.524617777486284 0.6688376522841091 81676.431640625 10380.357421875\n",
      "S= 0.2487577796168728\n",
      "126.8125 25.52723758810761 0.6689987543198846 81379.767578125 10343.017578125\n",
      "S= 0.24890186198063072\n",
      "126.75 25.529619414784754 0.6689993313469186 81260.25 10273.177734375\n",
      "S= 0.2489838546281369\n",
      "126.6875 25.531704494161946 0.6690244057747576 81353.376953125 10265.349609375\n",
      "S= 0.24906601076826154\n",
      "126.625 25.533724979845204 0.6691953652081198 81340.974609375 10232.26171875\n",
      "S= 0.24920385092236771\n",
      "126.5625 25.535217790052954 0.6693505702546557 81396.04296875 10172.2392578125\n",
      "S= 0.24933789719724525\n",
      "126.5 25.536818053150277 0.669627582886261 81391.880859375 10167.796875\n",
      "S= 0.24951985191094206\n",
      "126.4375 25.538154883409703 0.6692641774504001 81341.2734375 10214.4306640625\n",
      "S= 0.24967522410613535\n",
      "126.375 25.54029105493976 0.6693245128932789 81157.744140625 10262.3955078125\n",
      "S= 0.24978426972587653\n",
      "126.3125 25.54173355124714 0.6693852430649766 81287.275390625 10372.12109375\n",
      "S= 0.24992629188855553\n",
      "126.25 25.54395129588859 0.6693396950999823 81772.8046875 10395.0\n",
      "S= 0.25016892514462724\n",
      "126.1875 25.545596255034265 0.6693404912592205 81537.865234375 10319.333984375\n",
      "S= 0.2502396728656875\n",
      "126.125 25.547643322623344 0.6693492854188426 81444.8515625 10352.529296875\n",
      "S= 0.2504701587270164\n",
      "126.0625 25.549386233146482 0.6694489457599886 81195.21484375 10363.9296875\n",
      "S= 0.2505739651271611\n",
      "126.0 25.55115783321807 0.6694517712670133 81265.375 10373.2783203125\n",
      "S= 0.2508671675262397\n",
      "125.9375 25.55300766387354 0.6697453149571952 81130.484375 10377.162109375\n",
      "S= 0.2508901311308478\n",
      "125.875 25.55481095261363 0.6700464969175108 81040.095703125 10378.7685546875\n",
      "S= 0.2510177200752424\n",
      "125.8125 25.556390520788273 0.6698866205635637 80854.9609375 10419.619140625\n",
      "S= 0.25124435572083226\n",
      "125.75 25.55826741104619 0.6700836121053241 80612.07421875 10409.10546875\n",
      "S= 0.25136013716912475\n",
      "125.6875 25.560700606235155 0.6702423749642116 80712.30078125 10423.310546875\n",
      "S= 0.25145209844488503\n",
      "125.625 25.562667220645334 0.670329139710386 80672.708984375 10398.9794921875\n",
      "S= 0.2516058562973852\n",
      "125.5625 25.564515997265296 0.6704362222924911 80545.4609375 10383.9052734375\n",
      "S= 0.2518462879035107\n",
      "125.5 25.566690972886505 0.6705318269491519 80733.63671875 10329.7744140625\n",
      "S= 0.25190811123545687\n",
      "125.4375 25.56817045751469 0.6706995032070964 80436.673828125 10329.2724609375\n",
      "S= 0.25198351194572977\n",
      "125.375 25.570092593687498 0.6706919698876145 80613.138671875 10398.6455078125\n",
      "S= 0.25210913590618744\n",
      "125.3125 25.57249197970384 0.6710694408698804 80778.001953125 10371.994140625\n",
      "S= 0.25210825313429525\n",
      "125.25 25.574271009181707 0.6709518571119502 80684.275390625 10381.4775390625\n",
      "S= 0.2521835949535992\n",
      "125.1875 25.576768856122854 0.671078962920414 81180.17578125 10393.4599609375\n",
      "S= 0.25234055194601046\n",
      "125.125 25.579472159615648 0.671678040312657 80991.47265625 10328.4443359375\n",
      "S= 0.25241569957397453\n",
      "125.0625 25.58081988382499 0.6712086057111328 80626.96484375 10353.451171875\n",
      "S= 0.2524893458815981\n",
      "125.0 25.582467445263838 0.6711245668323211 80645.365234375 10328.0732421875\n",
      "S= 0.2525550161396853\n",
      "124.9375 25.584756885332418 0.671245357539795 80444.1875 10356.158203125\n",
      "S= 0.25263737910830997\n",
      "124.875 25.586593143093033 0.6712167177584148 80478.1640625 10382.5361328125\n",
      "S= 0.2527536205696725\n",
      "124.8125 25.58840010136516 0.6711618693037545 80381.62890625 10346.107421875\n",
      "S= 0.25288358262247185\n",
      "124.75 25.59073337932626 0.6712091832339148 80412.533203125 10362.015625\n",
      "S= 0.29700063554104644\n",
      "106.9375 26.235421350347494 0.6927643326845896 74950.98046875 11047.7587890625\n",
      "S= 0.29705440098528707\n",
      "106.875 26.238835528492444 0.6927926765803633 74732.787109375 11044.783203125\n",
      "S= 0.2972642706932378\n",
      "106.8125 26.241268396468705 0.6928022518237621 74565.5390625 11025.734375\n",
      "S= 0.2974349497462012\n",
      "106.75 26.242266978538126 0.692886208160636 74501.744140625 11008.8525390625\n",
      "S= 0.29766859371648824\n",
      "106.6875 26.244686639597212 0.6928561091270242 74715.345703125 11084.9013671875\n",
      "S= 0.2979363734242481\n",
      "106.625 26.246435470597206 0.6928972788955545 74861.5625 11111.880859375\n",
      "S= 0.2980185910573492\n",
      "106.5625 26.249640017347883 0.6933053614062468 74713.3125 11092.37890625\n",
      "S= 0.29820859707251124\n",
      "106.5 26.252790703049087 0.6934484517692563 74802.3984375 11104.470703125\n",
      "S= 0.29838554517508287\n",
      "106.4375 26.255493664491716 0.6933941510429378 74691.748046875 11060.369140625\n",
      "S= 0.2985256983467116\n",
      "106.375 26.257493415590467 0.6936483843693387 74601.251953125 10993.6953125\n",
      "S= 0.2987739225697327\n",
      "106.3125 26.259707719662586 0.6939732753095258 74380.185546875 10966.47265625\n",
      "S= 0.2989812220119796\n",
      "106.25 26.26121819344616 0.6939205738420683 74316.2109375 11050.6103515625\n",
      "S= 0.2991497401766904\n",
      "106.1875 26.26280472958227 0.694184595079843 74419.8515625 11017.5087890625\n",
      "S= 0.2993541390451805\n",
      "106.125 26.264897438842304 0.6945249793847769 74250.65234375 11004.41796875\n",
      "S= 0.29967505454490634\n",
      "106.0625 26.26730795535427 0.6947134976836177 74178.517578125 11015.224609375\n",
      "S= 0.2997510696428217\n",
      "106.0 26.269792554943223 0.6948126263539474 74087.65625 11066.833984375\n",
      "S= 0.3000126581524539\n",
      "105.9375 26.272558933261575 0.6950852685845266 73910.845703125 11068.01953125\n",
      "S= 0.30028246390162466\n",
      "105.875 26.275180104971557 0.6952197572115771 73998.13671875 11033.7451171875\n",
      "S= 0.3004560548635652\n",
      "105.8125 26.2772758682843 0.6952493414912829 73941.84765625 11083.8681640625\n",
      "S= 0.30063577195390573\n",
      "105.75 26.280627688930846 0.6952430550950152 73949.759765625 11111.494140625\n",
      "S= 0.30083211284310774\n",
      "105.6875 26.28329834206035 0.6955029451503718 73966.28125 11084.3662109375\n",
      "S= 0.3010631137467597\n",
      "105.625 26.285949405261636 0.6956641770754822 74051.982421875 11133.6083984375\n",
      "S= 0.30115742947903756\n",
      "105.5625 26.288439059093413 0.6956739055782024 73777.912109375 11208.69140625\n",
      "S= 0.30135820360266374\n",
      "105.5 26.290836109889653 0.6958931460224443 73818.568359375 11230.841796875\n",
      "S= 0.301548449948261\n",
      "105.4375 26.292913944663358 0.6958124253325356 73843.96484375 11212.962890625\n",
      "S= 0.30185469361885653\n",
      "105.375 26.295827450967547 0.6960481702136266 73928.662109375 11242.291015625\n",
      "S= 0.3020683181444827\n",
      "105.3125 26.297637083713603 0.6961193969797793 73754.14453125 11257.6826171875\n",
      "S= 0.30222304119461146\n",
      "105.25 26.30035484956887 0.6962646385724188 73798.2890625 11266.21875\n",
      "S= 0.30235391178214005\n",
      "105.1875 26.302919444951417 0.6964049855968405 73607.720703125 11184.3681640625\n",
      "S= 0.30253511657453414\n",
      "105.125 26.305217755528574 0.6964406393928902 73461.45703125 11152.599609375\n",
      "S= 0.3026716750766496\n",
      "105.0625 26.30755865454325 0.6961731231051206 73424.453125 11144.9111328125\n",
      "S= 0.3027804624074129\n",
      "105.0 26.309882515531072 0.6961264974978565 73384.158203125 11151.716796875\n",
      "S= 0.34726277697193914\n",
      "91.3125 26.89815713475555 0.7150225018721287 66580.193359375 10338.4716796875\n",
      "S= 0.34743505439081485\n",
      "91.25 26.90160935674255 0.7152990215960803 66712.056640625 10355.296875\n",
      "S= 0.34757628593846684\n",
      "91.1875 26.905324314435543 0.7153989622279061 66700.712890625 10356.8955078125\n",
      "S= 0.34786860224232363\n",
      "91.125 26.907375040131434 0.7153477638511824 66703.5859375 10340.0693359375\n",
      "S= 0.34808655696511326\n",
      "91.0625 26.909714124263044 0.7154217819943711 66634.93359375 10379.755859375\n",
      "S= 0.3482530895664754\n",
      "91.0 26.91264413238228 0.7154432687099185 66484.96484375 10371.447265625\n",
      "S= 0.3484313116307489\n",
      "90.9375 26.914726991051523 0.71563668055764 66325.88671875 10359.31640625\n",
      "S= 0.34867302882629864\n",
      "90.875 26.917684064862883 0.7159150453818601 66367.173828125 10342.6318359375\n",
      "S= 0.34896239436421944\n",
      "90.8125 26.920410203657998 0.7159023591630685 66352.046875 10361.9111328125\n",
      "S= 0.34923854161906825\n",
      "90.75 26.922545208750766 0.7158029138897234 66283.86328125 10340.7490234375\n",
      "S= 0.34944332842187936\n",
      "90.6875 26.92468728777856 0.7156347776368771 66117.560546875 10292.5341796875\n",
      "S= 0.3496909728830441\n",
      "90.625 26.927227458865005 0.7156587467440383 65907.6953125 10253.7158203125\n",
      "S= 0.3499935836736087\n",
      "90.5625 26.929634931089442 0.7158008325996221 65959.912109375 10320.41796875\n",
      "S= 0.3501643661618661\n",
      "90.5 26.932510271952292 0.7158701575621229 65849.986328125 10344.03125\n",
      "S= 0.3503062178119002\n",
      "90.4375 26.93528335129743 0.7160863937874812 65719.12109375 10314.8193359375\n",
      "S= 0.35054997100223684\n",
      "90.375 26.937756721215152 0.7163546124927835 65643.92578125 10296.2802734375\n",
      "S= 0.35078136720317904\n",
      "90.3125 26.939846372281785 0.7163940720202067 65659.5859375 10328.9287109375\n",
      "S= 0.35113262696646313\n",
      "90.25 26.942337463934688 0.7163582870192673 65500.6796875 10351.6220703125\n",
      "S= 0.35134606271863816\n",
      "90.1875 26.94534000980336 0.7162618540937216 65675.453125 10348.291015625\n",
      "S= 0.35157978165324516\n",
      "90.125 26.948628426252736 0.7162649689526992 65668.380859375 10440.1533203125\n",
      "S= 0.35173074483402533\n",
      "90.0625 26.95237866180058 0.7164544681488325 65714.892578125 10467.3173828125\n",
      "S= 0.3520109126999273\n",
      "90.0 26.955304239967326 0.7161164401470422 65842.62109375 10452.048828125\n",
      "S= 0.3523106824958693\n",
      "89.9375 26.958900614625655 0.7163488718590717 65869.484375 10506.3388671875\n",
      "S= 0.35246487451539976\n",
      "89.875 26.962543771731333 0.7166142507587496 65781.453125 10459.2529296875\n",
      "S= 0.3527348432481544\n",
      "89.8125 26.965435670104043 0.7168257314492974 65856.013671875 10450.708984375\n",
      "S= 0.35299330740598883\n",
      "89.75 26.969364776126483 0.7168420058023076 65815.6015625 10477.12890625\n",
      "S= 0.3970094344711833\n",
      "79.8125 27.473205146686084 0.7341224788337598 62102.90234375 10399.4931640625\n",
      "S= 0.3973170872452834\n",
      "79.75 27.477010521698926 0.7339015143360673 62034.259765625 10451.978515625\n",
      "S= 0.39758928477939115\n",
      "79.6875 27.480084407051123 0.7338031164446717 61849.025390625 10380.3515625\n",
      "S= 0.3979723233063847\n",
      "79.625 27.483252095806343 0.734195865192259 61574.2734375 10407.599609375\n",
      "S= 0.3982787572767435\n",
      "79.5625 27.485604925180883 0.734499585341386 61693.109375 10396.044921875\n",
      "S= 0.3986148382268568\n",
      "79.5 27.489039880077453 0.7347127914135876 61681.42578125 10424.7451171875\n",
      "S= 0.39897038393810935\n",
      "79.4375 27.491809392791637 0.7348201402786126 61780.671875 10352.294921875\n",
      "S= 0.39940114868888876\n",
      "79.375 27.494510557159387 0.7346074236322976 61680.19921875 10361.3671875\n",
      "S= 0.3998942293817189\n",
      "79.3125 27.497442355047372 0.7345487997340178 61625.259765625 10298.4599609375\n",
      "S= 0.4000717923312361\n",
      "79.25 27.500897150053113 0.7349417363598258 61379.123046875 10313.8876953125\n",
      "S= 0.40039072698258255\n",
      "79.1875 27.50376744414887 0.7351323102664916 61553.388671875 10352.4375\n",
      "S= 0.4007844240777593\n",
      "79.125 27.507331897565628 0.7351664905718913 61756.86328125 10344.5078125\n",
      "S= 0.4010805030866247\n",
      "79.0625 27.510524413181944 0.7355355678426461 61596.009765625 10323.8935546875\n",
      "S= 0.40133553472694045\n",
      "79.0 27.51356836746293 0.735507505535998 61688.408203125 10262.8681640625\n",
      "S= 0.4017352239232786\n",
      "78.9375 27.517839849639554 0.735652671128275 61577.845703125 10296.673828125\n",
      "S= 0.4019542953840034\n",
      "78.875 27.522082560279348 0.7356419850962131 61559.560546875 10300.7392578125\n",
      "S= 0.4023743529816469\n",
      "78.8125 27.52574927837695 0.7357751135494579 61515.08203125 10340.888671875\n",
      "S= 0.40264644790200804\n",
      "78.75 27.52871320881077 0.7360097642264418 61495.021484375 10341.587890625\n",
      "S= 0.4029181297823195\n",
      "78.6875 27.532710465140198 0.7360807286436459 61434.81640625 10341.587890625\n",
      "S= 0.4473041367077445\n",
      "70.875 27.998507394570467 0.7528470964107358 58970.8125 10338.7412109375\n",
      "S= 0.4477474783529398\n",
      "70.8125 28.002071727429815 0.7528115093860093 59315.408203125 10390.9892578125\n",
      "S= 0.4481277378204012\n",
      "70.75 28.005811222570834 0.7526478248724849 59285.259765625 10339.8720703125\n",
      "S= 0.4484982377862979\n",
      "70.6875 28.008716577262305 0.7529643581595031 59281.298828125 10291.2724609375\n",
      "S= 0.44892890159626636\n",
      "70.625 28.01162371570117 0.7532074476931719 59400.740234375 10246.591796875\n",
      "S= 0.4491918147449552\n",
      "70.5625 28.014556995579852 0.7533084010125026 59348.345703125 10288.966796875\n",
      "S= 0.44958950361021494\n",
      "70.5 28.01840767433589 0.7533182141255206 59153.927734375 10261.3798828125\n",
      "S= 0.4499301931377045\n",
      "70.4375 28.02142518466148 0.7534820437409984 59222.884765625 10353.64453125\n",
      "S= 0.4503169338346846\n",
      "70.375 28.02558385265533 0.7536329318893591 59221.90234375 10435.0244140625\n",
      "S= 0.450639604016094\n",
      "70.3125 28.02874034160435 0.7538836355572294 59282.18359375 10431.73046875\n",
      "S= 0.4510994619667421\n",
      "70.25 28.033226264908823 0.7539934072376 59131.37890625 10418.220703125\n",
      "S= 0.4514574203810486\n",
      "70.1875 28.036893147148753 0.7541695712857662 59092.90234375 10509.6318359375\n",
      "S= 0.45180022796783376\n",
      "70.125 28.041447066287454 0.7539990235816066 59287.10546875 10579.0810546875\n",
      "S= 0.4523454583893698\n",
      "70.0625 28.045532525601125 0.7543551345846125 59541.107421875 10604.2646484375\n",
      "S= 0.4527260877237669\n",
      "70.0 28.049200712692762 0.7542285800381006 59398.974609375 10560.7158203125\n",
      "S= 0.4970411185278016\n",
      "63.625 28.473474079327552 0.7679627196606057 55866.525390625 10659.2978515625\n",
      "S= 0.4974023781426277\n",
      "63.5625 28.47703228462852 0.7679739797891134 55786.48046875 10625.224609375\n",
      "S= 0.49796088394497184\n",
      "63.5 28.48142146393601 0.7682608050728013 55800.1953125 10597.8212890625\n",
      "S= 0.4984678757619565\n",
      "63.4375 28.485503712856616 0.7684775466321678 55813.43359375 10631.18359375\n",
      "S= 0.49877943158857296\n",
      "63.375 28.489975067041886 0.7689282519112771 55933.53515625 10592.7060546875\n",
      "S= 0.4992812012060364\n",
      "63.3125 28.493259209519653 0.769361609184538 55907.34765625 10590.1484375\n",
      "S= 0.4997771607232316\n",
      "63.25 28.49754548847621 0.7691945450293867 55978.123046875 10601.9638671875\n",
      "S= 0.5000853719269024\n",
      "63.1875 28.501947158217867 0.7694261091772552 56049.046875 10567.1904296875\n",
      "S= 0.5005278201282348\n",
      "63.125 28.50719458741942 0.7698458061142935 55879.9375 10502.1123046875\n",
      "S= 0.5009913902259937\n",
      "63.0625 28.51293932135116 0.7698698880473573 55716.42578125 10466.5146484375\n",
      "S= 0.5014340914857316\n",
      "63.0 28.517277492154243 0.7699068115800031 55590.333984375 10502.1416015625\n",
      "S= 0.5020676236881048\n",
      "62.9375 28.52137039902159 0.7701965322032662 55560.509765625 10527.685546875\n",
      "S= 0.5026571665667822\n",
      "62.875 28.526061392943166 0.7701887136775318 55737.0234375 10519.3232421875\n",
      "S= 0.5472369471504379\n",
      "57.5 28.92015464260804 0.781697806184333 52770.953125 9884.109375\n",
      "S= 0.5478396746573381\n",
      "57.4375 28.926088446382167 0.7818155623257368 52612.318359375 9854.2197265625\n",
      "S= 0.548344798592484\n",
      "57.375 28.92978257607307 0.7819898823956832 52564.484375 9840.412109375\n",
      "S= 0.5489645354242179\n",
      "57.3125 28.933160779640797 0.7819614004707569 52414.951171875 9925.4794921875\n",
      "S= 0.5494161655438231\n",
      "57.25 28.93788406999734 0.7821602988169924 52611.087890625 9956.1298828125\n",
      "S= 0.5499689657489933\n",
      "57.1875 28.94311043766342 0.7824743149287355 52509.583984375 10021.5244140625\n",
      "S= 0.5506368565113577\n",
      "57.125 28.948274907907297 0.7825879908732586 52430.642578125 10059.51953125\n",
      "S= 0.5513246394179984\n",
      "57.0625 28.95364815475316 0.7827549170222532 52422.052734375 10073.71484375\n",
      "S= 0.5519423978950491\n",
      "57.0 28.956594334858984 0.7828580655663854 52464.107421875 10138.73046875\n",
      "S= 0.5524932396745197\n",
      "56.9375 28.963190773650766 0.7830110975234817 52583.18359375 10171.3291015625\n",
      "S= 0.5973905216805939\n",
      "52.25 29.350454703080437 0.7942189499380262 51461.30078125 10088.716796875\n",
      "S= 0.5981855919967989\n",
      "52.1875 29.355973579721564 0.7946590582389099 51381.759765625 10072.8681640625\n",
      "S= 0.5989253816708393\n",
      "52.125 29.360789114441914 0.7947929643684786 51300.470703125 10073.44921875\n",
      "S= 0.5995229295814334\n",
      "52.0625 29.36584490447202 0.7950908596027079 51278.01171875 10062.0703125\n",
      "S= 0.6003426249058917\n",
      "52.0 29.3708459714113 0.7952074139680886 51452.904296875 10023.1513671875\n",
      "S= 0.601122902581386\n",
      "51.9375 29.375768728289778 0.7953272449332692 51308.099609375 10026.220703125\n",
      "S= 0.6018449912994398\n",
      "51.875 29.3820289774711 0.7955095175982839 51244.48828125 10007.3642578125\n",
      "S= 0.6025503206793092\n",
      "51.8125 29.38675713849468 0.7956941840293034 51095.322265625 9892.427734375\n",
      "S= 0.6471865443505023\n",
      "48.0 29.73529348015333 0.8057761497507108 50217.8203125 9846.2158203125\n",
      "S= 0.6480374598132355\n",
      "47.9375 29.74193791866972 0.806101032199942 50281.2265625 9893.2783203125\n",
      "S= 0.6488107223580182\n",
      "47.875 29.74701692033795 0.8061800538847403 50207.884765625 9962.1240234375\n",
      "S= 0.649629702466374\n",
      "47.8125 29.753674277663286 0.8061670208151175 50090.400390625 9921.7265625\n",
      "S= 0.650407423977893\n",
      "47.75 29.7594894079049 0.8063507583232171 49943.478515625 9842.0439453125\n",
      "S= 0.6513914107222545\n",
      "47.6875 29.765963617992526 0.8064133715090773 50153.189453125 9854.4853515625\n",
      "S= 0.6521753771843556\n",
      "47.625 29.774285845383346 0.8066974626468723 50104.4765625 9858.46484375\n",
      "S= 0.6973066888472541\n",
      "44.25 30.119170883624435 0.8168749475369893 48350.236328125 9436.052734375\n",
      "S= 0.6985225638826982\n",
      "44.1875 30.12658726881705 0.8169545320535111 48349.099609375 9468.7197265625\n",
      "S= 0.6994266566753682\n",
      "44.125 30.133321385682148 0.817259062702423 48481.265625 9476.6650390625\n",
      "S= 0.7004785865292342\n",
      "44.0625 30.14028567984322 0.8174995071412067 48380.947265625 9475.900390625\n",
      "S= 0.7014244377923818\n",
      "44.0 30.148255446300563 0.8174244929453598 48470.962890625 9447.642578125\n",
      "S= 0.7022720763863634\n",
      "43.9375 30.155349899018013 0.8177344467675277 48469.1171875 9439.8955078125\n",
      "S= 0.7473330411515973\n",
      "41.0 30.47616688719861 0.8260502399386174 47187.8359375 9035.8251953125\n",
      "S= 0.7483675594626648\n",
      "40.9375 30.483780355120818 0.8263761636640145 47179.71484375 9019.1826171875\n",
      "S= 0.7492729922606399\n",
      "40.875 30.490296940113836 0.8266370105918378 47230.96484375 8978.9345703125\n",
      "S= 0.750266401213585\n",
      "40.8125 30.498312708341132 0.8268583627830964 46923.5078125 8968.931640625\n",
      "S= 0.7513732925485866\n",
      "40.75 30.505673157507847 0.827196585661263 46888.693359375 9012.849609375\n",
      "S= 0.7525831709743002\n",
      "40.6875 30.513231905480225 0.8272326131687704 46865.654296875 9066.8681640625\n",
      "S= 0.7980405482840767\n",
      "38.1875 30.821089975201424 0.8347804805336358 45639.68359375 9105.3896484375\n",
      "S= 0.7992300040744071\n",
      "38.125 30.831079509169108 0.8354069632489556 45743.49609375 9167.4140625\n",
      "S= 0.8006704504559067\n",
      "38.0625 30.838135352664292 0.8353981785836188 45856.091796875 9137.9990234375\n",
      "S= 0.8018329433776051\n",
      "38.0 30.847185895910286 0.8355765786622541 45694.919921875 9126.9990234375\n"
     ]
    },
    {
     "name": "stderr",
     "output_type": "stream",
     "text": [
      "/home/hiroya/Documents/Jupyter-Notebook/.venv/lib/python3.6/site-packages/ipykernel_launcher.py:10: RuntimeWarning: divide by zero encountered in true_divide\n",
      "  # Remove the CWD from sys.path while we load stuff.\n",
      "/home/hiroya/Documents/Jupyter-Notebook/.venv/lib/python3.6/site-packages/ipykernel_launcher.py:12: RuntimeWarning: invalid value encountered in multiply\n",
      "  if sys.path[0] == '':\n"
     ]
    },
    {
     "name": "stdout",
     "output_type": "stream",
     "text": [
      "\n"
     ]
    }
   ],
   "source": [
    "for i in tqdm_notebook(np.arange(1,3200,1)):\n",
    "    Q = 180 - i/16\n",
    "    Q_Luminance = np.ones((32,32)) * Q\n",
    "\n",
    "    Q_Fk = np.zeros(Fk.shape)\n",
    "    for row in range(IMG.img.shape[0] // 32):\n",
    "        for col in range(IMG.img.shape[1] // 32):\n",
    "            block = Fk[row * 32 : (row + 1) * 32, col * 32 : (col + 1) * 32]\n",
    "            # 量子化\n",
    "            block = np.round(block / Q_Luminance)\n",
    "            # 逆量子化\n",
    "            block = block * Q_Luminance\n",
    "            Q_Fk[row * 32 : (row + 1) * 32, col * 32 : (col + 1) * 32] = block\n",
    "\n",
    "    Q_recover = np.zeros(Q_Fk.shape)\n",
    "    for row in range(Q_Fk.shape[0] // 32):\n",
    "        for col in range(Q_Fk.shape[1] // 32):\n",
    "            block = Q_Fk[row * 32 : (row + 1) * 32, col * 32 : (col + 1) * 32]\n",
    "            data = scipy.fftpack.idct(\n",
    "                scipy.fftpack.idct(block, axis=0, norm=\"ortho\"), axis=1, norm=\"ortho\"\n",
    "            )\n",
    "            Q_recover[row * 32 : (row + 1) * 32, col * 32 : (col + 1) * 32] = data\n",
    "\n",
    "    Q_recover = np.round(Q_recover)\n",
    "    qfk = pd.Series(Q_Fk.flatten())\n",
    "    pro = qfk.value_counts() / qfk.value_counts().sum()\n",
    "    S = 0\n",
    "    for pi in pro:\n",
    "        S -= pi * np.log2(pi)\n",
    "        \n",
    "    bpp = np.arange(0.2,0.8,0.05)\n",
    "    for i in bpp:\n",
    "        if np.abs(i - S) < 0.003:\n",
    "            MSE = np.sum(np.sum(np.power((IMG.img - Q_recover), 2))) / (\n",
    "                Q_Fk.shape[0] * Q_Fk.shape[1]\n",
    "            )\n",
    "            PSNR = 10 * np.log10(255 * 255 / MSE)\n",
    "            MSSIM = ssim(IMG.img,Q_recover.astype(IMG.img.dtype),gaussian_weights=True,sigma=1.5,K1=0.01,K2=0.03)\n",
    "            MSDSt, MSDS1, MSDS2 = msds(32,Q_recover)\n",
    "            print(\"S=\",S)\n",
    "            print(Q,PSNR,MSSIM,MSDS1,MSDS2)\n"
   ]
  },
  {
   "cell_type": "markdown",
   "metadata": {},
   "source": [
    "# 量子化\n"
   ]
  },
  {
   "cell_type": "code",
   "execution_count": null,
   "metadata": {},
   "outputs": [],
   "source": []
  },
  {
   "cell_type": "code",
   "execution_count": null,
   "metadata": {},
   "outputs": [],
   "source": []
  },
  {
   "cell_type": "markdown",
   "metadata": {},
   "source": [
    "# IDCT"
   ]
  },
  {
   "cell_type": "code",
   "execution_count": null,
   "metadata": {},
   "outputs": [],
   "source": []
  },
  {
   "cell_type": "code",
   "execution_count": null,
   "metadata": {},
   "outputs": [],
   "source": []
  },
  {
   "cell_type": "code",
   "execution_count": null,
   "metadata": {},
   "outputs": [],
   "source": []
  },
  {
   "cell_type": "code",
   "execution_count": 17,
   "metadata": {},
   "outputs": [
    {
     "data": {
      "text/plain": [
       "<matplotlib.image.AxesImage at 0x7f4fdc87a5c0>"
      ]
     },
     "execution_count": 17,
     "metadata": {},
     "output_type": "execute_result"
    },
    {
     "data": {
      "image/png": "[encoded data removed]",
      "text/plain": [
       "<Figure size 432x288 with 1 Axes>"
      ]
     },
     "metadata": {
      "needs_background": "light"
     },
     "output_type": "display_data"
    }
   ],
   "source": [
    "plt.imshow(Q_recover, cmap=\"gray\")\n",
    "# plt.imsave(\"DCT_8x8_LENNA.png\",Q_recover,cmap=\"gray\")"
   ]
  },
  {
   "cell_type": "markdown",
   "metadata": {},
   "source": [
    "# 情報量"
   ]
  },
  {
   "cell_type": "markdown",
   "metadata": {},
   "source": [
    "$$\n",
    "- \\sum ^{255}_{i=0} p_i log_2 p_i\n",
    "$$"
   ]
  },
  {
   "cell_type": "code",
   "execution_count": null,
   "metadata": {},
   "outputs": [],
   "source": []
  },
  {
   "cell_type": "code",
   "execution_count": null,
   "metadata": {},
   "outputs": [],
   "source": []
  },
  {
   "cell_type": "code",
   "execution_count": 18,
   "metadata": {},
   "outputs": [
    {
     "data": {
      "text/plain": [
       "1.419598013615826"
      ]
     },
     "execution_count": 18,
     "metadata": {},
     "output_type": "execute_result"
    }
   ],
   "source": [
    "S"
   ]
  },
  {
   "cell_type": "markdown",
   "metadata": {},
   "source": [
    "# PSNR"
   ]
  },
  {
   "cell_type": "markdown",
   "metadata": {},
   "source": [
    "$$\n",
    "PSNR = 10 log_{10} \\frac{MAX^2}{MSE}\n",
    "$$"
   ]
  },
  {
   "cell_type": "markdown",
   "metadata": {},
   "source": [
    "$$\n",
    "{MSE = \\frac{1}{m \\, n} \\sum^{m-1}_{i=0} \\sum^{n-1}_{j=0} [ I(i,j) - K(i,j) ]^2}\n",
    "$$"
   ]
  },
  {
   "cell_type": "code",
   "execution_count": null,
   "metadata": {},
   "outputs": [],
   "source": []
  },
  {
   "cell_type": "code",
   "execution_count": null,
   "metadata": {},
   "outputs": [],
   "source": []
  },
  {
   "cell_type": "code",
   "execution_count": 19,
   "metadata": {},
   "outputs": [
    {
     "data": {
      "text/plain": [
       "30.847185895910286"
      ]
     },
     "execution_count": 19,
     "metadata": {},
     "output_type": "execute_result"
    }
   ],
   "source": [
    "PSNR"
   ]
  },
  {
   "cell_type": "markdown",
   "metadata": {},
   "source": [
    "# MSSIM"
   ]
  },
  {
   "cell_type": "code",
   "execution_count": null,
   "metadata": {},
   "outputs": [],
   "source": []
  },
  {
   "cell_type": "markdown",
   "metadata": {},
   "source": [
    "# MSDS"
   ]
  },
  {
   "cell_type": "code",
   "execution_count": null,
   "metadata": {},
   "outputs": [],
   "source": []
  },
  {
   "cell_type": "code",
   "execution_count": 20,
   "metadata": {},
   "outputs": [
    {
     "data": {
      "text/plain": [
       "45694.919921875"
      ]
     },
     "execution_count": 20,
     "metadata": {},
     "output_type": "execute_result"
    }
   ],
   "source": [
    "MSDS1"
   ]
  },
  {
   "cell_type": "code",
   "execution_count": 21,
   "metadata": {},
   "outputs": [
    {
     "data": {
      "text/plain": [
       "9126.9990234375"
      ]
     },
     "execution_count": 21,
     "metadata": {},
     "output_type": "execute_result"
    }
   ],
   "source": [
    "MSDS2"
   ]
  },
  {
   "cell_type": "code",
   "execution_count": null,
   "metadata": {},
   "outputs": [],
   "source": []
  }
 ],
 "metadata": {
  "kernelspec": {
   "display_name": "Python 3",
   "language": "python",
   "name": "python3"
  },
  "language_info": {
   "codemirror_mode": {
    "name": "ipython",
    "version": 3
   },
   "file_extension": ".py",
   "mimetype": "text/x-python",
   "name": "python",
   "nbconvert_exporter": "python",
   "pygments_lexer": "ipython3",
   "version": "3.6.8"
  }
 },
 "nbformat": 4,
 "nbformat_minor": 4
}
