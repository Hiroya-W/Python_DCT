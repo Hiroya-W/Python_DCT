{
 "cells": [
  {
   "cell_type": "markdown",
   "metadata": {},
   "source": [
    "# TPHLCT 1階の導関数を相殺する"
   ]
  },
  {
   "cell_type": "code",
   "execution_count": 1,
   "metadata": {},
   "outputs": [],
   "source": [
    "import numpy as np\n",
    "import scipy.misc\n",
    "from scipy.fftpack import dct, idct\n",
    "import sys\n",
    "from PIL import Image\n",
    "import matplotlib\n",
    "import matplotlib.pyplot as plt\n",
    "import random\n",
    "from tqdm import tqdm_notebook as tqdm\n",
    "from scipy.fftpack import dct, idct\n",
    "import seaborn as sns\n",
    "from skimage.metrics import structural_similarity as ssim\n",
    "import pandas as pd\n",
    "\n",
    "%matplotlib inline\n",
    "\n",
    "\n",
    "class ImageLoader:\n",
    "    def __init__(self, FILE_PATH):\n",
    "        self.img = np.array(Image.open(FILE_PATH))\n",
    "        # 行数\n",
    "        self.row_blocks_count = self.img.shape[0] // 8\n",
    "        # 列数\n",
    "        self.col_blocks_count = self.img.shape[1] // 8\n",
    "\n",
    "    def get_points(self, POINT):\n",
    "        Row = random.randint(0, len(self.img) - POINT - 1)\n",
    "        Col = random.randint(0, len(self.img) - 1)\n",
    "        return self.img[Row : Row + POINT, Col]\n",
    "\n",
    "    def get_block(self, col, row):\n",
    "        return self.img[col * 8 : (col + 1) * 8, row * 8 : (row + 1) * 8]\n",
    "\n",
    "\n",
    "# plt.rcParams['font.family'] ='sans-serif'#使用するフォント\n",
    "# plt.rcParams[\"font.sans-serif\"] = \"Source Han Sans\"\n",
    "plt.rcParams[\"font.family\"] = \"Source Han Sans JP\"  # 使用するフォント\n",
    "plt.rcParams[\"xtick.direction\"] = \"in\"  # x軸の目盛線が内向き('in')か外向き('out')か双方向か('inout')\n",
    "plt.rcParams[\"ytick.direction\"] = \"in\"  # y軸の目盛線が内向き('in')か外向き('out')か双方向か('inout')\n",
    "plt.rcParams[\"xtick.major.width\"] = 1.0  # x軸主目盛り線の線幅\n",
    "plt.rcParams[\"ytick.major.width\"] = 1.0  # y軸主目盛り線の線幅\n",
    "plt.rcParams[\"font.size\"] = 12  # フォントの大きさ\n",
    "plt.rcParams[\"axes.linewidth\"] = 1.0  # 軸の線幅edge linewidth。囲みの太さ\n",
    "matplotlib.font_manager._rebuild()\n",
    "\n",
    "# 画像の用意\n",
    "MONO_DIR_PATH = \"../../Mono/\"\n",
    "OUTPUT_DIR_PATH = \"../../Plot_tool/output/images/TPHLCT1/32x32/\"\n",
    "AIRPLANE = ImageLoader(MONO_DIR_PATH + \"airplane512.bmp\")\n",
    "BARBARA = ImageLoader(MONO_DIR_PATH + \"barbara512.bmp\")\n",
    "BOAT = ImageLoader(MONO_DIR_PATH + \"boat512.bmp\")\n",
    "GOLDHILL = ImageLoader(MONO_DIR_PATH + \"goldhill512.bmp\")\n",
    "LENNA = ImageLoader(MONO_DIR_PATH + \"lenna512.bmp\")\n",
    "MANDRILL = ImageLoader(MONO_DIR_PATH + \"mandrill512.bmp\")\n",
    "MILKDROP = ImageLoader(MONO_DIR_PATH + \"milkdrop512.bmp\")\n",
    "SAILBOAT = ImageLoader(MONO_DIR_PATH + \"sailboat512.bmp\")\n",
    "\n",
    "Images = np.array(\n",
    "    [\n",
    "        AIRPLANE,\n",
    "        BARBARA,\n",
    "        BOAT,\n",
    "        GOLDHILL,\n",
    "        LENNA,\n",
    "        MANDRILL,\n",
    "        MILKDROP,\n",
    "        SAILBOAT\n",
    "    ]\n",
    ")\n",
    "\n",
    "N = 32"
   ]
  },
  {
   "cell_type": "code",
   "execution_count": 2,
   "metadata": {},
   "outputs": [
    {
     "data": {
      "text/plain": [
       "<matplotlib.legend.Legend at 0x7f4921df1ba8>"
      ]
     },
     "execution_count": 2,
     "metadata": {},
     "output_type": "execute_result"
    },
    {
     "data": {
      "image/png": "[encoded data removed]",
      "text/plain": [
       "<Figure size 432x288 with 1 Axes>"
      ]
     },
     "metadata": {
      "needs_background": "light"
     },
     "output_type": "display_data"
    }
   ],
   "source": [
    "sampling_x = (0.5 + np.arange(N)) / N\n",
    "u_1 = (1 - sampling_x) ** 2 / 2\n",
    "u_2 = (sampling_x) ** 2 / 2\n",
    "plt.plot(u_1, label=\"u_1\")\n",
    "plt.plot(u_2, label=\"u_2\")\n",
    "plt.legend()"
   ]
  },
  {
   "cell_type": "code",
   "execution_count": 3,
   "metadata": {},
   "outputs": [
    {
     "data": {
      "text/plain": [
       "array([-9.42578864e-01, -8.10243674e-01, -2.02315746e-01, -8.97352733e-02,\n",
       "       -5.03306486e-02, -3.20903214e-02, -2.21802622e-02, -1.62029774e-02,\n",
       "       -1.23215704e-02, -9.65848827e-03, -7.75151710e-03, -6.33840654e-03,\n",
       "       -5.26136563e-03, -4.42082807e-03, -3.75144214e-03, -3.20886401e-03,\n",
       "       -2.76213586e-03, -2.38910402e-03, -2.07356609e-03, -1.80343954e-03,\n",
       "       -1.56955394e-03, -1.36483505e-03, -1.18374180e-03, -1.02186977e-03,\n",
       "       -8.75667049e-04, -7.42226865e-04, -6.19133680e-04, -5.04346991e-04,\n",
       "       -3.96111897e-04, -2.92888805e-04, -1.93296799e-04, -9.60665949e-05])"
      ]
     },
     "execution_count": 3,
     "metadata": {},
     "output_type": "execute_result"
    }
   ],
   "source": [
    "alpha = -scipy.fftpack.dct(u_1,norm=\"ortho\")\n",
    "alpha"
   ]
  },
  {
   "cell_type": "code",
   "execution_count": 4,
   "metadata": {},
   "outputs": [
    {
     "data": {
      "text/plain": [
       "array([ 9.42578864e-01, -8.10243674e-01,  2.02315746e-01, -8.97352733e-02,\n",
       "        5.03306486e-02, -3.20903214e-02,  2.21802622e-02, -1.62029774e-02,\n",
       "        1.23215704e-02, -9.65848827e-03,  7.75151710e-03, -6.33840654e-03,\n",
       "        5.26136563e-03, -4.42082807e-03,  3.75144214e-03, -3.20886401e-03,\n",
       "        2.76213586e-03, -2.38910402e-03,  2.07356609e-03, -1.80343954e-03,\n",
       "        1.56955394e-03, -1.36483505e-03,  1.18374180e-03, -1.02186977e-03,\n",
       "        8.75667049e-04, -7.42226865e-04,  6.19133680e-04, -5.04346991e-04,\n",
       "        3.96111897e-04, -2.92888805e-04,  1.93296799e-04, -9.60665949e-05])"
      ]
     },
     "execution_count": 4,
     "metadata": {},
     "output_type": "execute_result"
    }
   ],
   "source": [
    "beta = scipy.fftpack.dct(u_2,norm=\"ortho\") \n",
    "beta"
   ]
  },
  {
   "cell_type": "markdown",
   "metadata": {
    "toc-hr-collapsed": false
   },
   "source": [
    "# DCTして残差を計算"
   ]
  },
  {
   "cell_type": "markdown",
   "metadata": {},
   "source": [
    "$\n",
    "V_k = F_k - U_k\\\\\n",
    "V_k = F_k -\\alpha f_x(0) -\\beta f_x(1)\\\\\n",
    "f_x(0) \\simeq \\frac{F_0}{\\sqrt{N}}-\\frac{F_0^L}{\\sqrt{N}}\\\\\n",
    "f_x(1) \\simeq \\frac{F_0^R}{\\sqrt{N}}-\\frac{F_0}{\\sqrt{N}}\\\\\n",
    "V_k = F_k - \\frac{\\alpha}{\\sqrt{N}}(F_0^R-F_0)-\\frac{\\beta_k}{\\sqrt{N}}(F_0-F_0^L)\n",
    "$"
   ]
  },
  {
   "cell_type": "markdown",
   "metadata": {
    "toc-hr-collapsed": false
   },
   "source": [
    "## DCT"
   ]
  },
  {
   "cell_type": "markdown",
   "metadata": {},
   "source": [
    "2次元入力信号を垂直方向の一次元信号が水平方向に並列に並んでいるものとみなし、各列において8画素単位の1次元DCTを適用する"
   ]
  },
  {
   "cell_type": "markdown",
   "metadata": {},
   "source": [
    "# 量子化テーブル"
   ]
  },
  {
   "cell_type": "code",
   "execution_count": 5,
   "metadata": {},
   "outputs": [],
   "source": [
    "Q50_Luminance = np.array(\n",
    "    [\n",
    "        [16, 11, 10, 16, 24, 40, 51, 61],\n",
    "        [12, 12, 14, 19, 26, 58, 60, 55],\n",
    "        [14, 13, 16, 24, 40, 57, 69, 56],\n",
    "        [14, 17, 22, 29, 51, 87, 80, 62],\n",
    "        [18, 22, 37, 56, 68, 109, 103, 77],\n",
    "        [24, 35, 55, 64, 81, 104, 113, 92],\n",
    "        [49, 64, 78, 87, 103, 121, 120, 101],\n",
    "        [72, 92, 95, 98, 112, 100, 103, 99],\n",
    "    ]\n",
    ")"
   ]
  },
  {
   "cell_type": "code",
   "execution_count": 6,
   "metadata": {},
   "outputs": [],
   "source": [
    "option = str(N) + \"x\" + str(N)\n",
    "img_name = [\"Airplane\",\"Barbara\",\"Boat\",\"Goldhill\",\"Lenna\",\"Mandrill\",\"Milkdrop\",\"Sailboat\"]\n",
    "df = pd.read_excel(\"../../Plot_tool/xlsx/TPHLCT1_\"+ option +\".xlsx\",sheet_name=None)\n",
    "\n",
    "for i in range(len(Images)):\n",
    "    name = img_name[i]\n",
    "    IMG = Images[i]\n",
    "    df_Q = df[name][\"Q\"]\n",
    "\n",
    "    for j in range(13):\n",
    "        bpp = 0.2 + 0.05 * j\n",
    "        Q = df_Q[j]\n",
    "        \n",
    "        Fk = np.zeros(IMG.img.shape)\n",
    "        # 順変換\n",
    "        # 縦方向\n",
    "        for row in range(IMG.img.shape[0] // N):\n",
    "            for col in range(IMG.img.shape[1]):\n",
    "                eight_points = IMG.img[N * row : N * (row + 1), col]\n",
    "                c = scipy.fftpack.dct(eight_points,norm=\"ortho\")\n",
    "                Fk[N * row : N * (row + 1), col] = c\n",
    "                \n",
    "        for row in range(Fk.shape[0] // N):\n",
    "            for col in range(Fk.shape[1]):\n",
    "                F = Fk[N * row : N * (row + 1), col]\n",
    "\n",
    "                F_0_r = 0\n",
    "                if row is not Fk.shape[0] // N - 1:\n",
    "                    F_0_r = Fk[N * (row + 1), col]\n",
    "\n",
    "                F_0_l = 0\n",
    "                if row is not 0:\n",
    "                    F_0_l = Fk[N * (row - 1), col]\n",
    "\n",
    "                # 残差\n",
    "                F_0 = F[0]\n",
    "                F = F - alpha * (F_0_r - F_0) / np.sqrt(N) - beta * (F_0 - F_0_l) / np.sqrt(N)\n",
    "                # F_0は残す\n",
    "                F[0] = F_0\n",
    "                # F_0 V_1 V_2 V_3 V_4 V_5 V_6 V_7\n",
    "                Fk[N * row : N * (row + 1), col] = F\n",
    "                \n",
    "        # 横方向\n",
    "        for row in range(Fk.shape[0]):\n",
    "            for col in range(Fk.shape[1] // N):\n",
    "                eight_points = Fk[row, N * col : N * (col + 1)]\n",
    "                c = scipy.fftpack.dct(eight_points,norm=\"ortho\")\n",
    "                Fk[row, N * col : N * (col + 1)] = c\n",
    "                \n",
    "        for row in range(Fk.shape[0]):\n",
    "            for col in range(Fk.shape[1] // N):\n",
    "                F = Fk[row, N * col : N * (col + 1)]\n",
    "\n",
    "                F_0_r = 0\n",
    "                if col is not Fk.shape[1] // N - 1:\n",
    "                    F_0_r = Fk[row, N * (col + 1)]\n",
    "\n",
    "                F_0_l = 0\n",
    "                if col is not 0:\n",
    "                    F_0_l = Fk[row, N * (col - 1)]\n",
    "\n",
    "                # 残差\n",
    "                F_0 = F[0]\n",
    "                F = F - alpha * (F_0_r - F_0) / np.sqrt(N) - beta * (F_0 - F_0_l) / np.sqrt(N)\n",
    "                # F_0は残す\n",
    "                F[0] = F_0\n",
    "                # F_0 V_1 V_2 V_3 V_4 V_5 V_6 V_7\n",
    "                Fk[row, N * col : N * (col + 1)] = F\n",
    "        \n",
    "        Fk_Ori = np.copy(Fk)\n",
    "        \n",
    "#         if Q < 50:\n",
    "#             S = 5000 / Q\n",
    "#         else:\n",
    "#             S = 200 - 2 * Q\n",
    "\n",
    "#         S = np.floor(S)\n",
    "\n",
    "#         Q_Luminance = np.zeros((N, N))\n",
    "#         for row in range(N):\n",
    "#             for col in range(N):\n",
    "#                 Q_Luminance[row, col] = np.floor((S * Q50_Luminance[row, col] + 50) / 100)\n",
    "        \n",
    "        Fk = np.copy(Fk_Ori)\n",
    "        Q_Fk = np.zeros(Fk.shape)\n",
    "        \n",
    "        Q_Luminance = np.ones((N,N)) * Q\n",
    "        \n",
    "        # 量子化\n",
    "        for row in range(IMG.img.shape[0] // N):\n",
    "            for col in range(IMG.img.shape[1] // N):\n",
    "                block = Fk[row * N : (row + 1) * N, col * N : (col + 1) * N]\n",
    "                # 量子化\n",
    "                block = np.round(block / Q_Luminance)\n",
    "                # 逆量子化\n",
    "                block = block * Q_Luminance\n",
    "                Q_Fk[row * N : (row+1)*N, col * N : (col+1)*N] = block     \n",
    "        \n",
    "        # 逆変換\n",
    "        # 横方向\n",
    "        Fk = np.copy(Q_Fk)\n",
    "        Q_recover = np.zeros(Q_Fk.shape)\n",
    "        for row in range(Fk.shape[0]):\n",
    "            for col in range(Fk.shape[1] // N):\n",
    "                F = Fk[row, N * col : N * col + N]\n",
    "\n",
    "                F_0_r = 0\n",
    "                if col is not Fk.shape[1] // N - 1:\n",
    "                    F_0_r = Fk[row, N * (col + 1)]\n",
    "\n",
    "                F_0_l = 0\n",
    "                if col is not 0:\n",
    "                    F_0_l = Fk[row, N * (col - 1)]\n",
    "\n",
    "                # 残差\n",
    "                F_0 = F[0]\n",
    "                F = F + alpha * (F_0_r - F_0) / np.sqrt(N) + beta * (F_0 - F_0_l) / np.sqrt(N)\n",
    "                # F_0は残す\n",
    "                F[0] = F_0\n",
    "                # F_0 V_1 V_2 V_3 V_4 V_5 V_6 V_7\n",
    "                Fk[row, N * col : N * col + N] = F\n",
    "                \n",
    "        for row in range(Fk.shape[0]):\n",
    "            for col in range(Fk.shape[1] // N):\n",
    "                F = Fk[row, N * col : N * col + N]\n",
    "                data = scipy.fftpack.idct(F,norm=\"ortho\")\n",
    "                # Fkに代入した後、縦方向に対して処理\n",
    "                Fk[row, N * col : N * col + N] = data\n",
    "        \n",
    "        # 縦方向\n",
    "        for row in range(Fk.shape[0] // N):\n",
    "            for col in range(Fk.shape[1]):\n",
    "                F = Fk[N * row : N * row + N, col]\n",
    "\n",
    "                F_0_r = 0\n",
    "                if row is not Fk.shape[0] // N - 1:\n",
    "                    F_0_r = Fk[N * (row + 1), col]\n",
    "\n",
    "                F_0_l = 0\n",
    "                if row is not 0:\n",
    "                    F_0_l = Fk[N * (row - 1), col]\n",
    "\n",
    "                # 残差\n",
    "                F_0 = F[0]\n",
    "                F = F + alpha * (F_0_r - F_0) / np.sqrt(N) + beta * (F_0 - F_0_l) / np.sqrt(N)\n",
    "                # F_0は残す\n",
    "                F[0] = F_0\n",
    "                # F_0 F_1 F_2 F_3 F_4 F_5 F_6 F_7\n",
    "                Fk[N * row : N * row + N, col] = F\n",
    "                \n",
    "        for row in range(Fk.shape[0] // N):\n",
    "            for col in range(Fk.shape[1]):\n",
    "                F = Fk[N * row : N * (row + 1), col]\n",
    "                data = scipy.fftpack.idct(F,norm=\"ortho\")\n",
    "                # 復元画像\n",
    "                Q_recover[N * row : N * (row + 1), col] = data\n",
    "                \n",
    "        Q_recover = np.round(Q_recover)\n",
    "        plt.imsave(OUTPUT_DIR_PATH + \"TPHLCT1_\" + option + \"_\" + name + \"_\" + \"{:.2f}\".format(bpp) + \".png\",Q_recover,cmap=\"gray\")"
   ]
  },
  {
   "cell_type": "code",
   "execution_count": null,
   "metadata": {},
   "outputs": [],
   "source": []
  }
 ],
 "metadata": {
  "kernelspec": {
   "display_name": "Python 3",
   "language": "python",
   "name": "python3"
  },
  "language_info": {
   "codemirror_mode": {
    "name": "ipython",
    "version": 3
   },
   "file_extension": ".py",
   "mimetype": "text/x-python",
   "name": "python",
   "nbconvert_exporter": "python",
   "pygments_lexer": "ipython3",
   "version": "3.6.8"
  }
 },
 "nbformat": 4,
 "nbformat_minor": 4
}
