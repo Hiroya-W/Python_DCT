{
 "cells": [
  {
   "cell_type": "markdown",
   "metadata": {},
   "source": [
    "# DCTによる圧縮画像を作る"
   ]
  },
  {
   "cell_type": "code",
   "execution_count": 2,
   "metadata": {},
   "outputs": [],
   "source": [
    "import numpy as np\n",
    "import scipy.misc\n",
    "from scipy.fftpack import dct, idct\n",
    "import sys\n",
    "from PIL import Image\n",
    "import matplotlib\n",
    "import matplotlib.pyplot as plt\n",
    "import random\n",
    "from tqdm._tqdm_notebook import tqdm_notebook\n",
    "from scipy.fftpack import dct, idct\n",
    "import seaborn as sns\n",
    "from skimage.metrics import structural_similarity as ssim\n",
    "from skimage.measure import compare_psnr\n",
    "from skimage.util import crop\n",
    "import pandas as pd\n",
    "\n",
    "%matplotlib inline\n",
    "\n",
    "\n",
    "class ImageLoader:\n",
    "    def __init__(self, FILE_PATH):\n",
    "        self.img = np.array(Image.open(FILE_PATH))\n",
    "        # 行数\n",
    "        self.row_blocks_count = self.img.shape[0] // 8\n",
    "        # 列数\n",
    "        self.col_blocks_count = self.img.shape[1] // 8\n",
    "\n",
    "    def get_points(self, POINT):\n",
    "        Row = random.randint(0, len(self.img) - POINT - 1)\n",
    "        Col = random.randint(0, len(self.img) - 1)\n",
    "        return self.img[Row : Row + POINT, Col]\n",
    "\n",
    "    def get_block(self, col, row):\n",
    "        return self.img[col * 8 : (col + 1) * 8, row * 8 : (row + 1) * 8]\n",
    "\n",
    "\n",
    "# plt.rcParams['font.family'] ='sans-serif'#使用するフォント\n",
    "# plt.rcParams[\"font.sans-serif\"] = \"Source Han Sans\"\n",
    "plt.rcParams[\"font.family\"] = \"Source Han Sans JP\"  # 使用するフォント\n",
    "plt.rcParams[\"xtick.direction\"] = \"in\"  # x軸の目盛線が内向き('in')か外向き('out')か双方向か('inout')\n",
    "plt.rcParams[\"ytick.direction\"] = \"in\"  # y軸の目盛線が内向き('in')か外向き('out')か双方向か('inout')\n",
    "plt.rcParams[\"xtick.major.width\"] = 1.0  # x軸主目盛り線の線幅\n",
    "plt.rcParams[\"ytick.major.width\"] = 1.0  # y軸主目盛り線の線幅\n",
    "plt.rcParams[\"font.size\"] = 12  # フォントの大きさ\n",
    "plt.rcParams[\"axes.linewidth\"] = 1.0  # 軸の線幅edge linewidth。囲みの太さ\n",
    "matplotlib.font_manager._rebuild()\n",
    "\n",
    "# 画像の用意\n",
    "MONO_DIR_PATH = \"../../Mono/\"\n",
    "# MONO_DIR_PATH = \"Mono/\"\n",
    "\n",
    "AIRPLANE = ImageLoader(MONO_DIR_PATH + \"airplane512.bmp\")\n",
    "BARBARA = ImageLoader(MONO_DIR_PATH + \"barbara512.bmp\")\n",
    "BOAT = ImageLoader(MONO_DIR_PATH + \"boat512.bmp\")\n",
    "GOLDHILL = ImageLoader(MONO_DIR_PATH + \"goldhill512.bmp\")\n",
    "LENNA = ImageLoader(MONO_DIR_PATH + \"lenna512.bmp\")\n",
    "LENNA256 = ImageLoader(MONO_DIR_PATH + \"LENNA.bmp\")\n",
    "MANDRILL = ImageLoader(MONO_DIR_PATH + \"mandrill512.bmp\")\n",
    "MILKDROP = ImageLoader(MONO_DIR_PATH + \"milkdrop512.bmp\")\n",
    "SAILBOAT = ImageLoader(MONO_DIR_PATH+ \"sailboat512.bmp\")\n",
    "SAILBOAT256 = ImageLoader(MONO_DIR_PATH+ \"SAILBOAT.bmp\")\n",
    "TEST02 = ImageLoader(MONO_DIR_PATH + \"test02.bmp\")\n",
    "TEST19 = ImageLoader(MONO_DIR_PATH + \"test19.bmp\")\n",
    "N8RGB = ImageLoader(MONO_DIR_PATH + \"N8RGB.bmp\")\n",
    "N6RGB = ImageLoader(MONO_DIR_PATH + \"N6RGB.bmp\")\n",
    "\n",
    "N = 8"
   ]
  },
  {
   "cell_type": "markdown",
   "metadata": {
    "toc-hr-collapsed": false
   },
   "source": [
    "# DCT"
   ]
  },
  {
   "cell_type": "markdown",
   "metadata": {},
   "source": [
    "## 基底関数"
   ]
  },
  {
   "cell_type": "markdown",
   "metadata": {},
   "source": [
    "$$\n",
    "\\phi_k[i] = \\begin{cases}\n",
    "\\cfrac{1}{\\sqrt{N}}  \\quad \\quad \\quad (k=0) \\\\\n",
    "\\sqrt{\\cfrac{2}{N}} \\cos \\left({\\cfrac{\\pi}{2N}(2i+1)k}\\right) \\quad  (k=1,2,...,N-1) \n",
    "\\end{cases}\n",
    "$$"
   ]
  },
  {
   "cell_type": "code",
   "execution_count": 3,
   "metadata": {},
   "outputs": [],
   "source": [
    "class DCT:\n",
    "    def __init__(self, N):\n",
    "        self.N = N  # データ数\n",
    "        # 1次元DCTの基底ベクトルの生成\n",
    "        self.phi_1d = np.array([self.phi(i) for i in range(self.N)])\n",
    "        # 2次元DCTの基底ベクトルの格納\n",
    "        self.phi_2d = np.zeros((N, N))\n",
    "\n",
    "    def phi(self, k):\n",
    "        \"\"\" 離散コサイン変換(DCT)の基底関数 \"\"\"\n",
    "        # DCT-II\n",
    "        if k == 0:\n",
    "            return np.ones(self.N) / np.sqrt(self.N)\n",
    "        else:\n",
    "            return np.sqrt(2.0 / self.N) * np.cos(\n",
    "                (k * np.pi / (2 * self.N)) * (np.arange(self.N) * 2 + 1)\n",
    "            )\n",
    "\n",
    "    def dct(self, data):\n",
    "        \"\"\" 1次元離散コサイン変換を行う \"\"\"\n",
    "        return self.phi_1d.dot(data)\n",
    "\n",
    "    def idct(self, c):\n",
    "        \"\"\" 1次元離散コサイン逆変換を行う \"\"\"\n",
    "        return np.sum(self.phi_1d.T * c, axis=1)\n",
    "\n",
    "    def get_dct2_phi(self, y, x):\n",
    "        \"\"\" 2次元離散コサイン変換の基底を返す \"\"\"\n",
    "        phi_x, phi_y = np.meshgrid(self.phi_1d[x], self.phi_1d[y])\n",
    "        return phi_x * phi_y\n",
    "\n",
    "    def get_dct2(self, y, x, data):\n",
    "        \"\"\" i,jの2次元DCT係数を返す \"\"\"\n",
    "        phi_2d_phi = np.zeros((self.N, self.N))\n",
    "        phi_2d_phi = self.get_dct2_phi(y, x)\n",
    "        return np.sum(np.sum(phi_2d_phi * data))\n",
    "\n",
    "    def dct2(self, data):\n",
    "        \"\"\" 2次元離散コサイン変換を行う \"\"\"\n",
    "        for y in range(self.N):\n",
    "            for x in range(self.N):\n",
    "                self.phi_2d[y, x] = self.get_dct2(y, x, data)\n",
    "\n",
    "        return self.phi_2d\n",
    "\n",
    "    def idct2(self, c):\n",
    "        \"\"\" 2次元離散コサイン逆変換を行う \"\"\"\n",
    "        idct2_data = np.zeros((self.N, self.N))\n",
    "        phi_2d_phi = np.zeros((self.N, self.N))\n",
    "        for y in range(self.N):\n",
    "            for x in range(self.N):\n",
    "                phi_2d_phi = self.get_dct2_phi(y, x)\n",
    "                idct2_data += c[y, x] * phi_2d_phi\n",
    "\n",
    "        return idct2_data"
   ]
  },
  {
   "cell_type": "markdown",
   "metadata": {},
   "source": [
    "# 8x8ブロックでDCT"
   ]
  },
  {
   "cell_type": "markdown",
   "metadata": {},
   "source": [
    "### DCT"
   ]
  },
  {
   "cell_type": "code",
   "execution_count": 4,
   "metadata": {},
   "outputs": [],
   "source": [
    "IMG = TEST02"
   ]
  },
  {
   "cell_type": "code",
   "execution_count": 5,
   "metadata": {},
   "outputs": [],
   "source": [
    "Fk = np.zeros(IMG.img.shape)"
   ]
  },
  {
   "cell_type": "code",
   "execution_count": 6,
   "metadata": {},
   "outputs": [],
   "source": [
    "for row in range(IMG.img.shape[0] // 8):\n",
    "    for col in range(IMG.img.shape[1] // 8):\n",
    "        block = IMG.img[row * 8 : (row + 1) * 8, col * 8 : (col + 1) * 8]\n",
    "        c = scipy.fftpack.dct(\n",
    "            scipy.fftpack.dct(block, axis=0, norm=\"ortho\"), axis=1, norm=\"ortho\"\n",
    "        )\n",
    "        Fk[row * 8 : (row + 1) * 8, col * 8 : (col + 1) * 8] = c"
   ]
  },
  {
   "cell_type": "code",
   "execution_count": 15,
   "metadata": {},
   "outputs": [],
   "source": [
    "low_3_value = 0\n",
    "others_value = 0"
   ]
  },
  {
   "cell_type": "code",
   "execution_count": 23,
   "metadata": {},
   "outputs": [],
   "source": [
    "for row in range(IMG.img.shape[0] // 8):\n",
    "    for col in range(IMG.img.shape[1] // 8):\n",
    "        block = Fk[row * 8 : (row + 1) * 8, col * 8 : (col + 1) * 8]\n",
    "        low_3_value += np.abs(block[0, 1]) + np.abs(block[1, 0]) + np.abs(block[1, 1])\n",
    "        others_value += (\n",
    "            np.sum(np.sum(np.abs(block)))\n",
    "            - np.abs(block[0, 0])\n",
    "            - np.abs(block[0, 1])\n",
    "            - np.abs(block[1, 0])\n",
    "            - np.abs(block[1, 1])\n",
    "        )"
   ]
  },
  {
   "cell_type": "markdown",
   "metadata": {},
   "source": [
    "### 低域3成分 (0,1)(1,0)(1,1)の絶対値の和"
   ]
  },
  {
   "cell_type": "code",
   "execution_count": 24,
   "metadata": {},
   "outputs": [
    {
     "data": {
      "text/plain": [
       "2553887.6523812436"
      ]
     },
     "execution_count": 24,
     "metadata": {},
     "output_type": "execute_result"
    }
   ],
   "source": [
    "low_3_value"
   ]
  },
  {
   "cell_type": "code",
   "execution_count": 25,
   "metadata": {},
   "outputs": [
    {
     "data": {
      "text/plain": [
       "5443823.119568129"
      ]
     },
     "execution_count": 25,
     "metadata": {},
     "output_type": "execute_result"
    }
   ],
   "source": [
    "others_value"
   ]
  },
  {
   "cell_type": "markdown",
   "metadata": {},
   "source": [
    "# 係数の確保"
   ]
  },
  {
   "cell_type": "code",
   "execution_count": 10,
   "metadata": {},
   "outputs": [],
   "source": [
    "Fk_Ori = np.copy(Fk)"
   ]
  },
  {
   "cell_type": "markdown",
   "metadata": {},
   "source": [
    "### IDCT"
   ]
  },
  {
   "cell_type": "code",
   "execution_count": 27,
   "metadata": {},
   "outputs": [],
   "source": [
    "recover = np.zeros(Fk.shape)"
   ]
  },
  {
   "cell_type": "code",
   "execution_count": 28,
   "metadata": {},
   "outputs": [],
   "source": [
    "for row in range(Fk.shape[0] // 8):\n",
    "    for col in range(Fk.shape[1] // 8):\n",
    "        block = Fk[row * 8 : (row + 1) * 8, col * 8 : (col + 1) * 8]\n",
    "        data = scipy.fftpack.idct(\n",
    "            scipy.fftpack.idct(block, axis=0, norm=\"ortho\"), axis=1, norm=\"ortho\"\n",
    "        )\n",
    "        recover[row * 8 : (row + 1) * 8, col * 8 : (col + 1) * 8] = data"
   ]
  },
  {
   "cell_type": "code",
   "execution_count": 29,
   "metadata": {},
   "outputs": [
    {
     "data": {
      "text/plain": [
       "<matplotlib.image.AxesImage at 0x1c7d1f7cb70>"
      ]
     },
     "execution_count": 29,
     "metadata": {},
     "output_type": "execute_result"
    },
    {
     "data": {
      "image/png": "[encoded data removed]",
      "text/plain": [
       "<Figure size 432x288 with 1 Axes>"
      ]
     },
     "metadata": {
      "needs_background": "light"
     },
     "output_type": "display_data"
    }
   ],
   "source": [
    "plt.imshow(recover, cmap=\"gray\")"
   ]
  },
  {
   "cell_type": "code",
   "execution_count": 30,
   "metadata": {},
   "outputs": [
    {
     "data": {
      "text/plain": [
       "array([120., 122., 124., 125., 128., 129., 129., 129., 126., 125.])"
      ]
     },
     "execution_count": 30,
     "metadata": {},
     "output_type": "execute_result"
    }
   ],
   "source": [
    "recover[0, 0:10]"
   ]
  },
  {
   "cell_type": "code",
   "execution_count": 31,
   "metadata": {},
   "outputs": [
    {
     "data": {
      "text/plain": [
       "array([162, 162, 162, 161, 162, 157, 163, 161, 165, 161], dtype=uint8)"
      ]
     },
     "execution_count": 31,
     "metadata": {},
     "output_type": "execute_result"
    }
   ],
   "source": [
    "LENNA.img[0, 0:10]"
   ]
  },
  {
   "cell_type": "markdown",
   "metadata": {},
   "source": [
    "ちゃんと復元できてる"
   ]
  },
  {
   "cell_type": "markdown",
   "metadata": {},
   "source": [
    "# 量子化テーブル"
   ]
  },
  {
   "cell_type": "code",
   "execution_count": 8,
   "metadata": {},
   "outputs": [],
   "source": [
    "Q50_Luminance = np.array(\n",
    "    [\n",
    "        [16, 11, 10, 16, 24, 40, 51, 61],\n",
    "        [12, 12, 14, 19, 26, 58, 60, 55],\n",
    "        [14, 13, 16, 24, 40, 57, 69, 56],\n",
    "        [14, 17, 22, 29, 51, 87, 80, 62],\n",
    "        [18, 22, 37, 56, 68, 109, 103, 77],\n",
    "        [24, 35, 55, 64, 81, 104, 113, 92],\n",
    "        [49, 64, 78, 87, 103, 121, 120, 101],\n",
    "        [72, 92, 95, 98, 112, 100, 103, 99],\n",
    "    ]\n",
    ")"
   ]
  },
  {
   "cell_type": "code",
   "execution_count": 11,
   "metadata": {},
   "outputs": [
    {
     "name": "stdout",
     "output_type": "stream",
     "text": [
      "S= 0.20004902684118908\n",
      "6.941127777099609 34.186139303004104 0.9241697954369157 1582.6597137451172 476.56195068359375\n",
      "S= 0.2500024152163111\n",
      "14.652729034423828 38.979270365644076 0.9502245344815913 795.5422134399414 308.3941535949707\n",
      "S= 0.2999878633639279\n",
      "24.314594268798828 41.43209988283661 0.9624203048295685 566.4982604980469 256.4544372558594\n",
      "S= 0.35002037063249875\n",
      "35.03427505493164 42.818236205272775 0.9684058456806693 475.5796585083008 235.22004318237305\n",
      "S= 0.39993761121101334\n",
      "45.7310676574707 43.695406953167584 0.9717493085966787 431.7183151245117 226.07073593139648\n",
      "S= 0.4500177170106556\n",
      "55.43928146362305 44.254865399081126 0.9737678835075149 412.2521743774414 220.6437530517578\n",
      "S= 0.4999979680766142\n",
      "62.12129592895508 44.6787660453975 0.9752884257057765 403.2597961425781 219.43336486816406\n",
      "S= 0.5500020318318875\n",
      "66.88318252563477 45.01067071112257 0.9764734922198798 397.2951431274414 217.84574508666992\n",
      "S= 0.599996366096752\n",
      "70.56894302368164 45.292223304537046 0.9775031723147621 394.0654983520508 217.78820419311523\n",
      "S= 0.6500005777165173\n",
      "73.47230911254883 45.530062011018416 0.9783587560778059 392.5275421142578 217.97570419311523\n",
      "S= 0.6999991722649578\n",
      "75.81186294555664 45.74878845247664 0.9791410024238191 390.81556701660156 216.77951049804688\n",
      "S= 0.7499996450582905\n",
      "77.7918815612793 45.94831593785197 0.9798279220541919 391.3458786010742 216.9684715270996\n",
      "S= 0.7999009930619387\n",
      "79.49285507202148 46.13706223264339 0.9804837337275375 389.801513671875 216.2953224182129\n"
     ]
    }
   ],
   "source": [
    "NN = 32\n",
    "bpp = np.arange(0.2,0.8,0.05)\n",
    "Q_Fk = np.zeros(Fk.shape)\n",
    "for i in bpp:\n",
    "    low = 0\n",
    "    high = 100\n",
    "    for j in range(20):\n",
    "        mid = (low + high)/2\n",
    "        \n",
    "        Q = mid\n",
    "        Q_Luminance = np.copy(Q50_Luminance)\n",
    "        if Q < 50:\n",
    "            Q_Luminance = Q_Luminance * 50 / Q\n",
    "            Q_Luminance = np.where(Q_Luminance > 255, 255, Q_Luminance)\n",
    "        else:\n",
    "            Q_Luminance = (100 - Q) * Q50_Luminance / 50\n",
    "            Q_Luminance = np.where(Q_Luminance < 1, 1, Q_Luminance)\n",
    "\n",
    "        Fk = np.copy(Fk_Ori)\n",
    "        Q_Fk = np.zeros(Fk.shape)\n",
    "        for row in range(IMG.img.shape[0] // 8):\n",
    "            for col in range(IMG.img.shape[1] // 8):\n",
    "                block = Fk[row * 8 : (row + 1) * 8, col * 8 : (col + 1) * 8]\n",
    "                # 量子化\n",
    "                block = np.round(block / Q_Luminance)\n",
    "                # 逆量子化\n",
    "                block = block * Q_Luminance\n",
    "                Q_Fk[row * 8 : (row + 1) * 8, col * 8 : (col + 1) * 8] = block\n",
    "\n",
    "        qfk = pd.Series(Q_Fk.flatten())\n",
    "#         qfk = pd.Series(crop(Q_Fk.flatten(),NN))\n",
    "        pro = qfk.value_counts() / qfk.value_counts().sum()\n",
    "\n",
    "        S = 0\n",
    "        for pi in pro:\n",
    "            S -= pi * np.log2(pi)\n",
    "        \n",
    "        if S < i:\n",
    "            low = mid\n",
    "        elif S > i:\n",
    "            high = mid        \n",
    "    \n",
    "    Q_recover = np.zeros(Q_Fk.shape)\n",
    "    for row in range(Q_Fk.shape[0] // 8):\n",
    "        for col in range(Q_Fk.shape[1] // 8):\n",
    "            block = Q_Fk[row * 8 : (row + 1) * 8, col * 8 : (col + 1) * 8]\n",
    "            data = scipy.fftpack.idct(\n",
    "                scipy.fftpack.idct(block, axis=0, norm=\"ortho\"), axis=1, norm=\"ortho\"\n",
    "            )\n",
    "            Q_recover[row * 8 : (row + 1) * 8, col * 8 : (col + 1) * 8] = data\n",
    "\n",
    "    Q_recover = np.round(Q_recover)\n",
    "\n",
    "    MSE = np.sum(np.sum(np.power((IMG.img - Q_recover), 2))) / (\n",
    "        Q_Fk.shape[0] * Q_Fk.shape[1]\n",
    "    )\n",
    "#     MSE = np.sum(np.sum(np.power((crop(IMG.img,NN) - crop(Q_recover,NN)), 2))) / (\n",
    "#         crop(Q_Fk.shape[0],NN) * crop(Q_Fk.shape[1],NN)\n",
    "#     )\n",
    "    PSNR = 10 * np.log10(255 * 255 / MSE)\n",
    "#     PSNR = compare_psnr(IMG.img,Q_recover)\n",
    "    MSSIM = ssim(crop(IMG.img,NN),crop(Q_recover,NN).astype(IMG.img.dtype),gaussian_weights=True,sigma=1.5,K1=0.01,K2=0.03)\n",
    "    w_e = 0\n",
    "    e_e = 0\n",
    "    n_e = 0\n",
    "    s_e = 0\n",
    "    nw_e = 0\n",
    "    ne_e = 0\n",
    "    sw_e = 0\n",
    "    se_e = 0\n",
    "    for row in range(Q_recover.shape[0] // 8):\n",
    "        for col in range(Q_recover.shape[1] // 8):\n",
    "            f_block = Q_recover[row * 8 : (row + 1) * 8, col * 8 : (col + 1) * 8]\n",
    "            # w\n",
    "            if col == 0:\n",
    "                w_block = np.fliplr(f_block)\n",
    "            else:\n",
    "                w_block = Q_recover[row * 8 : (row + 1) * 8, (col - 1) * 8 : col * 8]\n",
    "            # e\n",
    "            if col == Q_recover.shape[1] // 8 - 1:\n",
    "                e_block = np.fliplr(f_block)\n",
    "            else:\n",
    "                e_block = Q_recover[row * 8 : (row + 1) * 8, (col + 1) * 8 : (col + 2) * 8]\n",
    "            # n\n",
    "            if row == 0:\n",
    "                n_block = np.flipud(f_block)\n",
    "            else:\n",
    "                n_block = Q_recover[(row - 1) * 8 : row * 8, col * 8 : (col + 1) * 8]\n",
    "            # s\n",
    "            if row == Q_recover.shape[0] // 8 - 1:\n",
    "                s_block = np.flipud(f_block)\n",
    "            else:\n",
    "                s_block = Q_recover[(row + 1) * 8 : (row + 2) * 8, col * 8 : (col + 1) * 8]\n",
    "\n",
    "            w_d1 = f_block[:, 0] - w_block[:, 7]\n",
    "            e_d1 = f_block[:, 7] - e_block[:, 0]\n",
    "            n_d1 = f_block[0, :] - n_block[7, :]\n",
    "            s_d1 = f_block[7, :] - s_block[0, :]\n",
    "\n",
    "            w_d2 = (w_block[:, 7] - w_block[:, 6] + f_block[:, 1] - f_block[:, 0]) / 2\n",
    "            e_d2 = (e_block[:, 1] - e_block[:, 0] + f_block[:, 7] - f_block[:, 6]) / 2\n",
    "            n_d2 = (n_block[7, :] - n_block[6, :] + f_block[1, :] - f_block[0, :]) / 2\n",
    "            s_d2 = (s_block[1, :] - s_block[0, :] + f_block[7, :] - f_block[6, :]) / 2\n",
    "\n",
    "            w_e += np.sum((w_d1 - w_d2) ** 2 )\n",
    "            e_e += np.sum((e_d1 - e_d2) ** 2 )\n",
    "            n_e += np.sum((n_d1 - n_d2) ** 2)\n",
    "            s_e += np.sum((s_d1 - s_d2) ** 2)\n",
    "\n",
    "            # nw\n",
    "            if row == 0 or col == 0:\n",
    "                nw_block = np.flipud(np.fliplr(f_block))\n",
    "            else:\n",
    "                nw_block = Q_recover[(row - 1) * 8 : row * 8, (col - 1) * 8 : col * 8]\n",
    "            # ne\n",
    "            if row == 0 or col == Q_recover.shape[1] // 8 - 1:\n",
    "                ne_block = np.flipud(np.fliplr(f_block))\n",
    "            else:\n",
    "                ne_block = Q_recover[(row-1) * 8 : row * 8, (col + 1) * 8 : (col + 2) * 8]\n",
    "            # sw\n",
    "            if row == Q_recover.shape[0] // 8 -1 or col == 0:\n",
    "                sw_block = np.flipud(np.fliplr(f_block))\n",
    "            else:\n",
    "                sw_block = Q_recover[row * 8 : (row+1) * 8, (col-1) * 8 : col * 8]\n",
    "            # se\n",
    "            if  row == Q_recover.shape[0]//8-1 or col == Q_recover.shape[0] // 8 -1:\n",
    "                se_block = np.flipud(np.fliplr(f_block))\n",
    "            else:\n",
    "                se_block = Q_recover[(row + 1) * 8 : (row + 2) * 8, (col+1) * 8 : (col + 2) * 8]\n",
    "\n",
    "            nw_g1 = f_block[0, 0] - nw_block[7, 7]\n",
    "            ne_g1 = f_block[0, 7] - ne_block[7, 0]\n",
    "            sw_g1 = f_block[7, 0] - sw_block[0, 7]\n",
    "            se_g1 = f_block[7, 7] - se_block[0, 0]\n",
    "\n",
    "            nw_g2 = (nw_block[7,7] - nw_block[6,6] + f_block[1,1] - f_block[0,0])/2\n",
    "            ne_g2 = (ne_block[7,0] - ne_block[6,1] + f_block[1,6] - f_block[0,7])/2\n",
    "            sw_g2 = (sw_block[0,7] - nw_block[1,6] + f_block[6,1] - f_block[7,0])/2\n",
    "            se_g2 = (nw_block[0,0] - nw_block[1,1] + f_block[6,6] - f_block[7,7])/2\n",
    "\n",
    "            nw_e += (nw_g1 - nw_g2) ** 2 \n",
    "            ne_e += (ne_g1 - ne_g2) ** 2 \n",
    "            sw_e += (sw_g1 - sw_g2) ** 2 \n",
    "            se_e += (se_g1 - se_g2) ** 2 \n",
    "\n",
    "    MSDSt = (w_e + e_e + n_e + s_e + nw_e + ne_e + sw_e + se_e)/ ((512/8)**2)\n",
    "    MSDS1 = (w_e + e_e + n_e + s_e)/ ((Q_recover.shape[0]/8)**2)\n",
    "    MSDS2 = (nw_e + ne_e + sw_e + se_e)/ ((Q_recover.shape[0]/8)**2)\n",
    "\n",
    "#             print(\"Q=\",Q,\" S=\",S,\" PSNR=\",PSNR,\" MSSIM=\",MSSIM,\" MSDS1=\",MSDS1, \" MSDS2=\",MSDS2 )\n",
    "    print(\"S=\",S)\n",
    "    print(Q,PSNR,MSSIM,MSDS1,MSDS2)\n"
   ]
  },
  {
   "cell_type": "code",
   "execution_count": null,
   "metadata": {},
   "outputs": [],
   "source": []
  }
 ],
 "metadata": {
  "kernelspec": {
   "display_name": "Python 3",
   "language": "python",
   "name": "python3"
  },
  "language_info": {
   "codemirror_mode": {
    "name": "ipython",
    "version": 3
   },
   "file_extension": ".py",
   "mimetype": "text/x-python",
   "name": "python",
   "nbconvert_exporter": "python",
   "pygments_lexer": "ipython3",
   "version": "3.6.7"
  }
 },
 "nbformat": 4,
 "nbformat_minor": 4
}
