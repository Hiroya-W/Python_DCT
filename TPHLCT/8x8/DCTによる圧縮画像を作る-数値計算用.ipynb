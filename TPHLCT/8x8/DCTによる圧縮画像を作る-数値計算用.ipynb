{
 "cells": [
  {
   "cell_type": "markdown",
   "metadata": {},
   "source": [
    "# DCTによる圧縮画像を作る"
   ]
  },
  {
   "cell_type": "code",
   "execution_count": 1,
   "metadata": {},
   "outputs": [],
   "source": [
    "import numpy as np\n",
    "import scipy.misc\n",
    "from scipy.fftpack import dct, idct\n",
    "import sys\n",
    "from PIL import Image\n",
    "import matplotlib\n",
    "import matplotlib.pyplot as plt\n",
    "import random\n",
    "from tqdm._tqdm_notebook import tqdm_notebook\n",
    "from scipy.fftpack import dct, idct\n",
    "import seaborn as sns\n",
    "from skimage.metrics import structural_similarity as ssim\n",
    "from skimage.measure import compare_psnr\n",
    "import pandas as pd\n",
    "\n",
    "%matplotlib inline\n",
    "\n",
    "\n",
    "class ImageLoader:\n",
    "    def __init__(self, FILE_PATH):\n",
    "        self.img = np.array(Image.open(FILE_PATH))\n",
    "        # 行数\n",
    "        self.row_blocks_count = self.img.shape[0] // 8\n",
    "        # 列数\n",
    "        self.col_blocks_count = self.img.shape[1] // 8\n",
    "\n",
    "    def get_points(self, POINT):\n",
    "        Row = random.randint(0, len(self.img) - POINT - 1)\n",
    "        Col = random.randint(0, len(self.img) - 1)\n",
    "        return self.img[Row : Row + POINT, Col]\n",
    "\n",
    "    def get_block(self, col, row):\n",
    "        return self.img[col * 8 : (col + 1) * 8, row * 8 : (row + 1) * 8]\n",
    "\n",
    "\n",
    "# plt.rcParams['font.family'] ='sans-serif'#使用するフォント\n",
    "# plt.rcParams[\"font.sans-serif\"] = \"Source Han Sans\"\n",
    "plt.rcParams[\"font.family\"] = \"Source Han Sans JP\"  # 使用するフォント\n",
    "plt.rcParams[\"xtick.direction\"] = \"in\"  # x軸の目盛線が内向き('in')か外向き('out')か双方向か('inout')\n",
    "plt.rcParams[\"ytick.direction\"] = \"in\"  # y軸の目盛線が内向き('in')か外向き('out')か双方向か('inout')\n",
    "plt.rcParams[\"xtick.major.width\"] = 1.0  # x軸主目盛り線の線幅\n",
    "plt.rcParams[\"ytick.major.width\"] = 1.0  # y軸主目盛り線の線幅\n",
    "plt.rcParams[\"font.size\"] = 12  # フォントの大きさ\n",
    "plt.rcParams[\"axes.linewidth\"] = 1.0  # 軸の線幅edge linewidth。囲みの太さ\n",
    "matplotlib.font_manager._rebuild()\n",
    "\n",
    "# 画像の用意\n",
    "MONO_DIR_PATH = \"../../Mono/\"\n",
    "# MONO_DIR_PATH = \"Mono/\"\n",
    "\n",
    "AIRPLANE = ImageLoader(MONO_DIR_PATH + \"airplane512.bmp\")\n",
    "BARBARA = ImageLoader(MONO_DIR_PATH + \"barbara512.bmp\")\n",
    "BOAT = ImageLoader(MONO_DIR_PATH + \"boat512.bmp\")\n",
    "GOLDHILL = ImageLoader(MONO_DIR_PATH + \"goldhill512.bmp\")\n",
    "LENNA = ImageLoader(MONO_DIR_PATH + \"lenna512.bmp\")\n",
    "MANDRILL = ImageLoader(MONO_DIR_PATH + \"mandrill512.bmp\")\n",
    "MILKDROP = ImageLoader(MONO_DIR_PATH + \"milkdrop512.bmp\")\n",
    "SAILBOAT = ImageLoader(MONO_DIR_PATH + \"sailboat512.bmp\")\n",
    "\n",
    "\n",
    "N = 8"
   ]
  },
  {
   "cell_type": "markdown",
   "metadata": {
    "toc-hr-collapsed": false
   },
   "source": [
    "# DCT"
   ]
  },
  {
   "cell_type": "markdown",
   "metadata": {},
   "source": [
    "## 基底関数"
   ]
  },
  {
   "cell_type": "markdown",
   "metadata": {},
   "source": [
    "$$\n",
    "\\phi_k[i] = \\begin{cases}\n",
    "\\cfrac{1}{\\sqrt{N}}  \\quad \\quad \\quad (k=0) \\\\\n",
    "\\sqrt{\\cfrac{2}{N}} \\cos \\left({\\cfrac{\\pi}{2N}(2i+1)k}\\right) \\quad  (k=1,2,...,N-1) \n",
    "\\end{cases}\n",
    "$$"
   ]
  },
  {
   "cell_type": "code",
   "execution_count": 2,
   "metadata": {},
   "outputs": [],
   "source": [
    "class DCT:\n",
    "    def __init__(self, N):\n",
    "        self.N = N  # データ数\n",
    "        # 1次元DCTの基底ベクトルの生成\n",
    "        self.phi_1d = np.array([self.phi(i) for i in range(self.N)])\n",
    "        # 2次元DCTの基底ベクトルの格納\n",
    "        self.phi_2d = np.zeros((N, N))\n",
    "\n",
    "    def phi(self, k):\n",
    "        \"\"\" 離散コサイン変換(DCT)の基底関数 \"\"\"\n",
    "        # DCT-II\n",
    "        if k == 0:\n",
    "            return np.ones(self.N) / np.sqrt(self.N)\n",
    "        else:\n",
    "            return np.sqrt(2.0 / self.N) * np.cos(\n",
    "                (k * np.pi / (2 * self.N)) * (np.arange(self.N) * 2 + 1)\n",
    "            )\n",
    "\n",
    "    def dct(self, data):\n",
    "        \"\"\" 1次元離散コサイン変換を行う \"\"\"\n",
    "        return self.phi_1d.dot(data)\n",
    "\n",
    "    def idct(self, c):\n",
    "        \"\"\" 1次元離散コサイン逆変換を行う \"\"\"\n",
    "        return np.sum(self.phi_1d.T * c, axis=1)\n",
    "\n",
    "    def get_dct2_phi(self, y, x):\n",
    "        \"\"\" 2次元離散コサイン変換の基底を返す \"\"\"\n",
    "        phi_x, phi_y = np.meshgrid(self.phi_1d[x], self.phi_1d[y])\n",
    "        return phi_x * phi_y\n",
    "\n",
    "    def get_dct2(self, y, x, data):\n",
    "        \"\"\" i,jの2次元DCT係数を返す \"\"\"\n",
    "        phi_2d_phi = np.zeros((self.N, self.N))\n",
    "        phi_2d_phi = self.get_dct2_phi(y, x)\n",
    "        return np.sum(np.sum(phi_2d_phi * data))\n",
    "\n",
    "    def dct2(self, data):\n",
    "        \"\"\" 2次元離散コサイン変換を行う \"\"\"\n",
    "        for y in range(self.N):\n",
    "            for x in range(self.N):\n",
    "                self.phi_2d[y, x] = self.get_dct2(y, x, data)\n",
    "\n",
    "        return self.phi_2d\n",
    "\n",
    "    def idct2(self, c):\n",
    "        \"\"\" 2次元離散コサイン逆変換を行う \"\"\"\n",
    "        idct2_data = np.zeros((self.N, self.N))\n",
    "        phi_2d_phi = np.zeros((self.N, self.N))\n",
    "        for y in range(self.N):\n",
    "            for x in range(self.N):\n",
    "                phi_2d_phi = self.get_dct2_phi(y, x)\n",
    "                idct2_data += c[y, x] * phi_2d_phi\n",
    "\n",
    "        return idct2_data"
   ]
  },
  {
   "cell_type": "markdown",
   "metadata": {},
   "source": [
    "# 8x8ブロックでDCT"
   ]
  },
  {
   "cell_type": "markdown",
   "metadata": {},
   "source": [
    "### DCT"
   ]
  },
  {
   "cell_type": "code",
   "execution_count": 3,
   "metadata": {},
   "outputs": [],
   "source": [
    "IMG = BARBARA"
   ]
  },
  {
   "cell_type": "code",
   "execution_count": 4,
   "metadata": {},
   "outputs": [],
   "source": [
    "Fk = np.zeros(IMG.img.shape)"
   ]
  },
  {
   "cell_type": "code",
   "execution_count": 5,
   "metadata": {},
   "outputs": [],
   "source": [
    "for row in range(IMG.img.shape[0] // 8):\n",
    "    for col in range(IMG.img.shape[1] // 8):\n",
    "        block = IMG.img[row * 8 : (row + 1) * 8, col * 8 : (col + 1) * 8]\n",
    "        c = scipy.fftpack.dct(\n",
    "            scipy.fftpack.dct(block, axis=0, norm=\"ortho\"), axis=1, norm=\"ortho\"\n",
    "        )\n",
    "        Fk[row * 8 : (row + 1) * 8, col * 8 : (col + 1) * 8] = c"
   ]
  },
  {
   "cell_type": "code",
   "execution_count": 6,
   "metadata": {},
   "outputs": [],
   "source": [
    "low_3_value = 0\n",
    "others_value = 0"
   ]
  },
  {
   "cell_type": "code",
   "execution_count": 7,
   "metadata": {},
   "outputs": [],
   "source": [
    "for row in range(IMG.img.shape[0] // 8):\n",
    "    for col in range(IMG.img.shape[1] // 8):\n",
    "        block = Fk[row * 8 : (row + 1) * 8, col * 8 : (col + 1) * 8]\n",
    "        low_3_value += np.abs(block[0, 1]) + np.abs(block[1, 0]) + np.abs(block[1, 1])\n",
    "        others_value += (\n",
    "            np.sum(np.sum(np.abs(block)))\n",
    "            - np.abs(block[0, 0])\n",
    "            - np.abs(block[0, 1])\n",
    "            - np.abs(block[1, 0])\n",
    "            - np.abs(block[1, 1])\n",
    "        )"
   ]
  },
  {
   "cell_type": "markdown",
   "metadata": {},
   "source": [
    "### 低域3成分 (0,1)(1,0)(1,1)の絶対値の和"
   ]
  },
  {
   "cell_type": "code",
   "execution_count": 8,
   "metadata": {},
   "outputs": [
    {
     "data": {
      "text/plain": [
       "456951.7654515982"
      ]
     },
     "execution_count": 8,
     "metadata": {},
     "output_type": "execute_result"
    }
   ],
   "source": [
    "low_3_value"
   ]
  },
  {
   "cell_type": "code",
   "execution_count": 9,
   "metadata": {},
   "outputs": [
    {
     "data": {
      "text/plain": [
       "1789303.3588719296"
      ]
     },
     "execution_count": 9,
     "metadata": {},
     "output_type": "execute_result"
    }
   ],
   "source": [
    "others_value"
   ]
  },
  {
   "cell_type": "markdown",
   "metadata": {},
   "source": [
    "# 係数の確保"
   ]
  },
  {
   "cell_type": "code",
   "execution_count": 10,
   "metadata": {},
   "outputs": [],
   "source": [
    "Fk_Ori = np.copy(Fk)"
   ]
  },
  {
   "cell_type": "markdown",
   "metadata": {},
   "source": [
    "### IDCT"
   ]
  },
  {
   "cell_type": "code",
   "execution_count": 11,
   "metadata": {},
   "outputs": [],
   "source": [
    "recover = np.zeros(Fk.shape)"
   ]
  },
  {
   "cell_type": "code",
   "execution_count": 12,
   "metadata": {},
   "outputs": [],
   "source": [
    "for row in range(Fk.shape[0] // 8):\n",
    "    for col in range(Fk.shape[1] // 8):\n",
    "        block = Fk[row * 8 : (row + 1) * 8, col * 8 : (col + 1) * 8]\n",
    "        data = scipy.fftpack.idct(\n",
    "            scipy.fftpack.idct(block, axis=0, norm=\"ortho\"), axis=1, norm=\"ortho\"\n",
    "        )\n",
    "        recover[row * 8 : (row + 1) * 8, col * 8 : (col + 1) * 8] = data"
   ]
  },
  {
   "cell_type": "code",
   "execution_count": 13,
   "metadata": {},
   "outputs": [
    {
     "data": {
      "text/plain": [
       "<matplotlib.image.AxesImage at 0x7fcafaf16c50>"
      ]
     },
     "execution_count": 13,
     "metadata": {},
     "output_type": "execute_result"
    },
    {
     "data": {
      "image/png": "[encoded data removed]",
      "text/plain": [
       "<Figure size 432x288 with 1 Axes>"
      ]
     },
     "metadata": {
      "needs_background": "light"
     },
     "output_type": "display_data"
    }
   ],
   "source": [
    "plt.imshow(recover, cmap=\"gray\")"
   ]
  },
  {
   "cell_type": "code",
   "execution_count": 14,
   "metadata": {},
   "outputs": [
    {
     "data": {
      "text/plain": [
       "array([181., 201., 202., 195., 189., 194., 197., 206., 213., 197.])"
      ]
     },
     "execution_count": 14,
     "metadata": {},
     "output_type": "execute_result"
    }
   ],
   "source": [
    "recover[0, 0:10]"
   ]
  },
  {
   "cell_type": "code",
   "execution_count": 15,
   "metadata": {},
   "outputs": [
    {
     "data": {
      "text/plain": [
       "array([162, 162, 162, 161, 162, 157, 163, 161, 165, 161], dtype=uint8)"
      ]
     },
     "execution_count": 15,
     "metadata": {},
     "output_type": "execute_result"
    }
   ],
   "source": [
    "LENNA.img[0, 0:10]"
   ]
  },
  {
   "cell_type": "markdown",
   "metadata": {},
   "source": [
    "ちゃんと復元できてる"
   ]
  },
  {
   "cell_type": "markdown",
   "metadata": {},
   "source": [
    "# 量子化テーブル"
   ]
  },
  {
   "cell_type": "code",
   "execution_count": 16,
   "metadata": {},
   "outputs": [],
   "source": [
    "Q50_Luminance = np.array(\n",
    "    [\n",
    "        [16, 11, 10, 16, 24, 40, 51, 61],\n",
    "        [12, 12, 14, 19, 26, 58, 60, 55],\n",
    "        [14, 13, 16, 24, 40, 57, 69, 56],\n",
    "        [14, 17, 22, 29, 51, 87, 80, 62],\n",
    "        [18, 22, 37, 56, 68, 109, 103, 77],\n",
    "        [24, 35, 55, 64, 81, 104, 113, 92],\n",
    "        [49, 64, 78, 87, 103, 121, 120, 101],\n",
    "        [72, 92, 95, 98, 112, 100, 103, 99],\n",
    "    ]\n",
    ")"
   ]
  },
  {
   "cell_type": "markdown",
   "metadata": {},
   "source": [
    "$$\n",
    "S = (Q < 50)?\\frac{5000}{Q}:200-2Q\\\\\n",
    "Q_s[i] = \\left[\\frac{S\\times Q_b[i]+50}{100}\\right]\n",
    "$$"
   ]
  },
  {
   "cell_type": "code",
   "execution_count": 17,
   "metadata": {},
   "outputs": [
    {
     "data": {
      "application/vnd.jupyter.widget-view+json": {
       "model_id": "cadec40cad9a4016876686de9bfc8118",
       "version_major": 2,
       "version_minor": 0
      },
      "text/plain": [
       "HBox(children=(IntProgress(value=0, max=10000), HTML(value='')))"
      ]
     },
     "metadata": {},
     "output_type": "display_data"
    },
    {
     "name": "stderr",
     "output_type": "stream",
     "text": [
      "/home/hiroya/Documents/Jupyter-Notebook/.venv/lib/python3.6/site-packages/ipykernel_launcher.py:5: RuntimeWarning: divide by zero encountered in true_divide\n",
      "  \"\"\"\n",
      "/home/hiroya/Documents/Jupyter-Notebook/.venv/lib/python3.6/site-packages/ipykernel_launcher.py:48: UserWarning: DEPRECATED: skimage.measure.compare_psnr has been moved to skimage.metrics.peak_signal_noise_ratio. It will be removed from skimage.measure in version 0.18.\n",
      "/home/hiroya/Documents/Jupyter-Notebook/.venv/lib/python3.6/site-packages/skimage/measure/simple_metrics.py:65: UserWarning: Inputs have mismatched dtype.  Setting data_range based on im_true.\n",
      "  return peak_signal_noise_ratio(im_true, im_test, data_range=data_range)\n"
     ]
    },
    {
     "name": "stdout",
     "output_type": "stream",
     "text": [
      "S= 0.24829157219188502\n",
      "2.78 22.360348068189836 0.5778721145377316 31417.312744140625 9095.596923828125\n",
      "S= 0.24852592500824203\n",
      "2.79 22.365579932781138 0.578171248190661 31388.072998046875 9114.915344238281\n",
      "S= 0.24913430547268733\n",
      "2.8 22.371354245410437 0.5785806306649394 31376.62158203125 9104.870788574219\n",
      "S= 0.24943591887191024\n",
      "2.81 22.377241730150054 0.579104392280389 31336.614135742188 9094.413818359375\n",
      "S= 0.24982540409696913\n",
      "2.82 22.3819058662921 0.579273901605312 31280.032592773438 9075.073486328125\n",
      "S= 0.2501950211364764\n",
      "2.83 22.386436599509423 0.5791583006555924 31239.770141601562 9081.810302734375\n",
      "S= 0.25052543866814136\n",
      "2.84 22.39099353759434 0.5793421346335768 31201.224731445312 9064.701477050781\n",
      "S= 0.25081233895596633\n",
      "2.85 22.395929200947503 0.579195432649125 31143.244018554688 9081.091491699219\n",
      "S= 0.25128449070230297\n",
      "2.86 22.399993648161846 0.5798526029040105 31153.612915039062 9091.062866210938\n",
      "S= 0.25191010897563615\n",
      "2.87 22.40558649738113 0.5800180992253717 31103.097534179688 9117.010803222656\n",
      "S= 0.29846017989131035\n",
      "3.88 23.1829334614606 0.6234914546285594 27977.364868164062 8515.038269042969\n",
      "S= 0.29898932120613864\n",
      "3.89 23.190918723636468 0.6243206828244101 28003.0654296875 8557.650207519531\n",
      "S= 0.299468814245612\n",
      "3.9 23.198488291932268 0.6251104162771407 27900.429931640625 8538.75146484375\n",
      "S= 0.2998846983768746\n",
      "3.91 23.19923907738204 0.6255698712750077 27981.965087890625 8611.404541015625\n",
      "S= 0.30035601686968394\n",
      "3.92 23.202937530598177 0.6263650769858332 28033.842529296875 8614.067260742188\n",
      "S= 0.3008433900258157\n",
      "3.93 23.20370735943191 0.6257295986077985 28083.581298828125 8612.689819335938\n",
      "S= 0.3013345605586292\n",
      "3.94 23.207312256862114 0.6263564773551376 28098.485717773438 8614.093994140625\n",
      "S= 0.30171417822542324\n",
      "3.95 23.209792107322443 0.6264397783298447 28047.758422851562 8596.816040039062\n",
      "S= 0.3481596726003361\n",
      "4.94 23.820141993753072 0.6515407243849008 26719.770263671875 8646.134216308594\n",
      "S= 0.34858970643782927\n",
      "4.95 23.828117063527134 0.6522349377482265 26646.296264648438 8631.838562011719\n",
      "S= 0.3491034139180515\n",
      "4.96 23.83706614342586 0.6532440201112756 26600.223510742188 8643.04345703125\n",
      "S= 0.3496546080339185\n",
      "4.97 23.844013537281423 0.6536374354759812 26609.470092773438 8637.63671875\n",
      "S= 0.3500191697376574\n",
      "4.98 23.846955324661607 0.653679637004737 26556.180053710938 8625.318420410156\n",
      "S= 0.3505611385788064\n",
      "4.99 23.85634540720129 0.6536409438470123 26533.134033203125 8606.170837402344\n",
      "S= 0.35099251574590756\n",
      "5.0 23.860688589574835 0.6536077512776223 26599.767822265625 8626.952453613281\n",
      "S= 0.35136077088367895\n",
      "5.01 23.863861872496543 0.6547110355467461 26556.932739257812 8617.66162109375\n",
      "S= 0.35178844565917144\n",
      "5.02 23.868294162218273 0.6545040909261577 26539.866943359375 8606.1591796875\n",
      "S= 0.3980943634495372\n",
      "5.93 24.310131458066387 0.6837133136478438 26517.055419921875 8951.847900390625\n",
      "S= 0.3983237907867027\n",
      "5.94 24.315306496112704 0.683733367529019 26560.060668945312 8943.830200195312\n",
      "S= 0.39920332056222546\n",
      "5.95 24.319557258114482 0.6841035021918164 26603.164306640625 8988.052307128906\n",
      "S= 0.39943289539918364\n",
      "5.96 24.321408158197073 0.6839419137115686 26569.73193359375 8965.8974609375\n",
      "S= 0.40003863227763575\n",
      "5.97 24.325811348955256 0.6839650864054347 26622.9033203125 8982.176147460938\n",
      "S= 0.4004688627141182\n",
      "5.98 24.33056663793551 0.6843430032583403 26627.222778320312 8990.434814453125\n",
      "S= 0.40123316974203244\n",
      "5.99 24.328630032079197 0.6837480387037917 26682.587524414062 9003.283813476562\n",
      "S= 0.40157202151016597\n",
      "6.0 24.333628898460947 0.6843152871450163 26671.876342773438 9008.576782226562\n",
      "S= 0.448026864784376\n",
      "7.0 24.732724996151113 0.708850910222851 26736.265014648438 9155.69384765625\n",
      "S= 0.44826673484893154\n",
      "7.01 24.740029568980315 0.7090880935671426 26763.089721679688 9159.733215332031\n",
      "S= 0.4489373859972623\n",
      "7.02 24.738038373036662 0.7082126423209183 26809.810546875 9144.301086425781\n",
      "S= 0.44951363038908615\n",
      "7.03 24.73928594073182 0.7085324500583563 26786.732666015625 9135.186950683594\n",
      "S= 0.44983936919776407\n",
      "7.04 24.743120784650714 0.7086650317224683 26721.74853515625 9144.9951171875\n",
      "S= 0.4505487618789431\n",
      "7.05 24.747651582853823 0.7087141146909222 26708.181030273438 9134.237670898438\n",
      "S= 0.45071799621444747\n",
      "7.06 24.749889662905886 0.7089639139575554 26703.284912109375 9149.6533203125\n",
      "S= 0.45156275517165795\n",
      "7.07 24.75563998528077 0.7091152149204654 26689.194091796875 9115.798156738281\n",
      "S= 0.4516821105246025\n",
      "7.08 24.758904981117617 0.7097667778167226 26681.437255859375 9129.648864746094\n",
      "S= 0.4980735992654219\n",
      "8.01 25.063417694541425 0.7291439192692495 27297.769775390625 9381.133728027344\n",
      "S= 0.4986443417743515\n",
      "8.02 25.06943695172191 0.7292805817143602 27325.648071289062 9406.457336425781\n",
      "S= 0.49963808737060994\n",
      "8.03 25.07029983146063 0.7295601145602228 27363.1650390625 9421.507385253906\n",
      "S= 0.4996536819053267\n",
      "8.04 25.074150942513608 0.7300609505331882 27354.641845703125 9432.534545898438\n",
      "S= 0.5001402528255747\n",
      "8.05 25.0784344195919 0.7303221994859607 27371.720092773438 9466.429870605469\n",
      "S= 0.5005433391421505\n",
      "8.06 25.085131138610404 0.7305357156957559 27352.875610351562 9482.175354003906\n",
      "S= 0.5008918387648659\n",
      "8.07 25.0881055596022 0.7302651175575364 27349.132690429688 9450.170166015625\n",
      "S= 0.5013157091967823\n",
      "8.08 25.09269023324794 0.7306166042644525 27374.155029296875 9444.461730957031\n",
      "S= 0.5016194563794896\n",
      "8.09 25.097871458604722 0.7311230186408455 27371.9091796875 9434.313537597656\n",
      "S= 0.5019688345627882\n",
      "8.1 25.102188882813927 0.7313646498142562 27319.60205078125 9419.613525390625\n",
      "S= 0.5484654902221705\n",
      "9.03 25.397631403646074 0.7477357257688904 27624.205688476562 9548.412109375\n",
      "S= 0.5490183970583671\n",
      "9.04 25.399863322356254 0.7475632428122702 27623.094848632812 9557.598815917969\n",
      "S= 0.5487922893286881\n",
      "9.05 25.401527321369493 0.7480802214934215 27619.399169921875 9565.591613769531\n",
      "S= 0.5491856504653809\n",
      "9.06 25.403611466351542 0.748337713532603 27603.407104492188 9537.279846191406\n",
      "S= 0.5495763593673042\n",
      "9.07 25.405779762638574 0.748345960088094 27542.734985351562 9530.850341796875\n",
      "S= 0.550247920130597\n",
      "9.08 25.4088415229036 0.7483532189113667 27570.318481445312 9533.32763671875\n",
      "S= 0.5511122771904602\n",
      "9.09 25.414001222728082 0.7487465280211935 27540.569091796875 9522.678894042969\n",
      "S= 0.5515113656643967\n",
      "9.1 25.415576048623528 0.7488815097436092 27565.214233398438 9533.586975097656\n",
      "S= 0.5514094149174033\n",
      "9.11 25.416911011349065 0.748901893743309 27558.171752929688 9524.642211914062\n",
      "S= 0.5988549050955483\n",
      "10.1 25.69345343407403 0.7650238499374257 28227.700073242188 9716.0517578125\n",
      "S= 0.5994139305467344\n",
      "10.11 25.696838362598736 0.7654203945995395 28253.828979492188 9722.6474609375\n",
      "S= 0.5998923208320589\n",
      "10.12 25.700816772044796 0.7657798205461314 28218.422729492188 9696.916015625\n",
      "S= 0.6004789847562945\n",
      "10.13 25.70370482063695 0.7659945098534868 28224.836547851562 9698.104553222656\n",
      "S= 0.6008931383520242\n",
      "10.14 25.706936760060795 0.7660733236590804 28176.348022460938 9687.044860839844\n",
      "S= 0.6014388491013897\n",
      "10.15 25.710494284539198 0.7663356306250797 28208.798461914062 9728.163940429688\n",
      "S= 0.6013859713819241\n",
      "10.16 25.71230124202902 0.7661071394718831 28172.76220703125 9726.899963378906\n",
      "S= 0.6018782282520687\n",
      "10.17 25.71424371259569 0.7662095587508443 28151.879516601562 9719.208618164062\n"
     ]
    },
    {
     "ename": "KeyboardInterrupt",
     "evalue": "",
     "output_type": "error",
     "traceback": [
      "\u001b[0;31m---------------------------------------------------------------------------\u001b[0m",
      "\u001b[0;31mKeyboardInterrupt\u001b[0m                         Traceback (most recent call last)",
      "\u001b[0;32m<ipython-input-17-35028de079f8>\u001b[0m in \u001b[0;36m<module>\u001b[0;34m\u001b[0m\n\u001b[1;32m     15\u001b[0m             \u001b[0mblock\u001b[0m \u001b[0;34m=\u001b[0m \u001b[0mFk\u001b[0m\u001b[0;34m[\u001b[0m\u001b[0mrow\u001b[0m \u001b[0;34m*\u001b[0m \u001b[0;36m8\u001b[0m \u001b[0;34m:\u001b[0m \u001b[0;34m(\u001b[0m\u001b[0mrow\u001b[0m \u001b[0;34m+\u001b[0m \u001b[0;36m1\u001b[0m\u001b[0;34m)\u001b[0m \u001b[0;34m*\u001b[0m \u001b[0;36m8\u001b[0m\u001b[0;34m,\u001b[0m \u001b[0mcol\u001b[0m \u001b[0;34m*\u001b[0m \u001b[0;36m8\u001b[0m \u001b[0;34m:\u001b[0m \u001b[0;34m(\u001b[0m\u001b[0mcol\u001b[0m \u001b[0;34m+\u001b[0m \u001b[0;36m1\u001b[0m\u001b[0;34m)\u001b[0m \u001b[0;34m*\u001b[0m \u001b[0;36m8\u001b[0m\u001b[0;34m]\u001b[0m\u001b[0;34m\u001b[0m\u001b[0;34m\u001b[0m\u001b[0m\n\u001b[1;32m     16\u001b[0m             \u001b[0;31m# 量子化\u001b[0m\u001b[0;34m\u001b[0m\u001b[0;34m\u001b[0m\u001b[0;34m\u001b[0m\u001b[0m\n\u001b[0;32m---> 17\u001b[0;31m             \u001b[0mblock\u001b[0m \u001b[0;34m=\u001b[0m \u001b[0mnp\u001b[0m\u001b[0;34m.\u001b[0m\u001b[0mround\u001b[0m\u001b[0;34m(\u001b[0m\u001b[0mblock\u001b[0m \u001b[0;34m/\u001b[0m \u001b[0mQ_Luminance\u001b[0m\u001b[0;34m)\u001b[0m\u001b[0;34m\u001b[0m\u001b[0;34m\u001b[0m\u001b[0m\n\u001b[0m\u001b[1;32m     18\u001b[0m             \u001b[0;31m# 逆量子化\u001b[0m\u001b[0;34m\u001b[0m\u001b[0;34m\u001b[0m\u001b[0;34m\u001b[0m\u001b[0m\n\u001b[1;32m     19\u001b[0m             \u001b[0mblock\u001b[0m \u001b[0;34m=\u001b[0m \u001b[0mblock\u001b[0m \u001b[0;34m*\u001b[0m \u001b[0mQ_Luminance\u001b[0m\u001b[0;34m\u001b[0m\u001b[0;34m\u001b[0m\u001b[0m\n",
      "\u001b[0;32m<__array_function__ internals>\u001b[0m in \u001b[0;36mround_\u001b[0;34m(*args, **kwargs)\u001b[0m\n",
      "\u001b[0;32m~/Documents/Jupyter-Notebook/.venv/lib/python3.6/site-packages/numpy/core/fromnumeric.py\u001b[0m in \u001b[0;36mround_\u001b[0;34m(a, decimals, out)\u001b[0m\n\u001b[1;32m   3519\u001b[0m     \u001b[0maround\u001b[0m \u001b[0;34m:\u001b[0m \u001b[0mequivalent\u001b[0m \u001b[0mfunction\u001b[0m\u001b[0;34m;\u001b[0m \u001b[0msee\u001b[0m \u001b[0;32mfor\u001b[0m \u001b[0mdetails\u001b[0m\u001b[0;34m.\u001b[0m\u001b[0;34m\u001b[0m\u001b[0;34m\u001b[0m\u001b[0m\n\u001b[1;32m   3520\u001b[0m     \"\"\"\n\u001b[0;32m-> 3521\u001b[0;31m     \u001b[0;32mreturn\u001b[0m \u001b[0maround\u001b[0m\u001b[0;34m(\u001b[0m\u001b[0ma\u001b[0m\u001b[0;34m,\u001b[0m \u001b[0mdecimals\u001b[0m\u001b[0;34m=\u001b[0m\u001b[0mdecimals\u001b[0m\u001b[0;34m,\u001b[0m \u001b[0mout\u001b[0m\u001b[0;34m=\u001b[0m\u001b[0mout\u001b[0m\u001b[0;34m)\u001b[0m\u001b[0;34m\u001b[0m\u001b[0;34m\u001b[0m\u001b[0m\n\u001b[0m\u001b[1;32m   3522\u001b[0m \u001b[0;34m\u001b[0m\u001b[0m\n\u001b[1;32m   3523\u001b[0m \u001b[0;34m\u001b[0m\u001b[0m\n",
      "\u001b[0;32m<__array_function__ internals>\u001b[0m in \u001b[0;36maround\u001b[0;34m(*args, **kwargs)\u001b[0m\n",
      "\u001b[0;32m~/Documents/Jupyter-Notebook/.venv/lib/python3.6/site-packages/numpy/core/fromnumeric.py\u001b[0m in \u001b[0;36maround\u001b[0;34m(a, decimals, out)\u001b[0m\n\u001b[1;32m   3144\u001b[0m \u001b[0;34m\u001b[0m\u001b[0m\n\u001b[1;32m   3145\u001b[0m     \"\"\"\n\u001b[0;32m-> 3146\u001b[0;31m     \u001b[0;32mreturn\u001b[0m \u001b[0m_wrapfunc\u001b[0m\u001b[0;34m(\u001b[0m\u001b[0ma\u001b[0m\u001b[0;34m,\u001b[0m \u001b[0;34m'round'\u001b[0m\u001b[0;34m,\u001b[0m \u001b[0mdecimals\u001b[0m\u001b[0;34m=\u001b[0m\u001b[0mdecimals\u001b[0m\u001b[0;34m,\u001b[0m \u001b[0mout\u001b[0m\u001b[0;34m=\u001b[0m\u001b[0mout\u001b[0m\u001b[0;34m)\u001b[0m\u001b[0;34m\u001b[0m\u001b[0;34m\u001b[0m\u001b[0m\n\u001b[0m\u001b[1;32m   3147\u001b[0m \u001b[0;34m\u001b[0m\u001b[0m\n\u001b[1;32m   3148\u001b[0m \u001b[0;34m\u001b[0m\u001b[0m\n",
      "\u001b[0;32m~/Documents/Jupyter-Notebook/.venv/lib/python3.6/site-packages/numpy/core/fromnumeric.py\u001b[0m in \u001b[0;36m_wrapfunc\u001b[0;34m(obj, method, *args, **kwds)\u001b[0m\n\u001b[1;32m     59\u001b[0m \u001b[0;34m\u001b[0m\u001b[0m\n\u001b[1;32m     60\u001b[0m     \u001b[0;32mtry\u001b[0m\u001b[0;34m:\u001b[0m\u001b[0;34m\u001b[0m\u001b[0;34m\u001b[0m\u001b[0m\n\u001b[0;32m---> 61\u001b[0;31m         \u001b[0;32mreturn\u001b[0m \u001b[0mbound\u001b[0m\u001b[0;34m(\u001b[0m\u001b[0;34m*\u001b[0m\u001b[0margs\u001b[0m\u001b[0;34m,\u001b[0m \u001b[0;34m**\u001b[0m\u001b[0mkwds\u001b[0m\u001b[0;34m)\u001b[0m\u001b[0;34m\u001b[0m\u001b[0;34m\u001b[0m\u001b[0m\n\u001b[0m\u001b[1;32m     62\u001b[0m     \u001b[0;32mexcept\u001b[0m \u001b[0mTypeError\u001b[0m\u001b[0;34m:\u001b[0m\u001b[0;34m\u001b[0m\u001b[0;34m\u001b[0m\u001b[0m\n\u001b[1;32m     63\u001b[0m         \u001b[0;31m# A TypeError occurs if the object does have such a method in its\u001b[0m\u001b[0;34m\u001b[0m\u001b[0;34m\u001b[0m\u001b[0;34m\u001b[0m\u001b[0m\n",
      "\u001b[0;31mKeyboardInterrupt\u001b[0m: "
     ]
    }
   ],
   "source": [
    "for i in tqdm_notebook(np.arange(0,10000,1)):\n",
    "    Q = i / 100\n",
    "    Q_Luminance = np.copy(Q50_Luminance)\n",
    "    if Q < 50:\n",
    "        Q_Luminance = Q_Luminance * 50 / Q\n",
    "        Q_Luminance = np.where(Q_Luminance > 255, 255, Q_Luminance)\n",
    "    else:\n",
    "        Q_Luminance = (100 - Q) * Q50_Luminance / 50\n",
    "        Q_Luminance = np.where(Q_Luminance < 1, 1, Q_Luminance)\n",
    "\n",
    "    Fk = np.copy(Fk_Ori)\n",
    "    Q_Fk = np.zeros(Fk.shape)\n",
    "    for row in range(IMG.img.shape[0] // 8):\n",
    "        for col in range(IMG.img.shape[1] // 8):\n",
    "            block = Fk[row * 8 : (row + 1) * 8, col * 8 : (col + 1) * 8]\n",
    "            # 量子化\n",
    "            block = np.round(block / Q_Luminance)\n",
    "            # 逆量子化\n",
    "            block = block * Q_Luminance\n",
    "            Q_Fk[row * 8 : (row + 1) * 8, col * 8 : (col + 1) * 8] = block\n",
    "    \n",
    "    qfk = pd.Series(Q_Fk.flatten())\n",
    "    pro = qfk.value_counts() / qfk.value_counts().sum()\n",
    "\n",
    "    S = 0\n",
    "    for pi in pro:\n",
    "        S -= pi * np.log2(pi)\n",
    "    \n",
    "#     print(\"S=\",S)\n",
    "    bpp = np.arange(0.2,0.8,0.05)\n",
    "    for i in bpp:\n",
    "        if np.abs(i - S) < 0.002:\n",
    "            Q_recover = np.zeros(Q_Fk.shape)\n",
    "            for row in range(Q_Fk.shape[0] // 8):\n",
    "                for col in range(Q_Fk.shape[1] // 8):\n",
    "                    block = Q_Fk[row * 8 : (row + 1) * 8, col * 8 : (col + 1) * 8]\n",
    "                    data = scipy.fftpack.idct(\n",
    "                        scipy.fftpack.idct(block, axis=0, norm=\"ortho\"), axis=1, norm=\"ortho\"\n",
    "                    )\n",
    "                    Q_recover[row * 8 : (row + 1) * 8, col * 8 : (col + 1) * 8] = data\n",
    "\n",
    "            Q_recover = np.round(Q_recover)\n",
    "\n",
    "            MSE = np.sum(np.sum(np.power((IMG.img - Q_recover), 2))) / (\n",
    "                Q_Fk.shape[0] * Q_Fk.shape[1]\n",
    "            )\n",
    "            PSNR = 10 * np.log10(255 * 255 / MSE)\n",
    "            PSNR = compare_psnr(IMG.img,Q_recover)\n",
    "            MSSIM = ssim(IMG.img,Q_recover.astype(IMG.img.dtype),gaussian_weights=True,sigma=1.5,K1=0.01,K2=0.03)\n",
    "            w_e = 0\n",
    "            e_e = 0\n",
    "            n_e = 0\n",
    "            s_e = 0\n",
    "            nw_e = 0\n",
    "            ne_e = 0\n",
    "            sw_e = 0\n",
    "            se_e = 0\n",
    "            for row in range(Q_recover.shape[0] // 8):\n",
    "                for col in range(Q_recover.shape[1] // 8):\n",
    "                    f_block = Q_recover[row * 8 : (row + 1) * 8, col * 8 : (col + 1) * 8]\n",
    "                    # w\n",
    "                    if col == 0:\n",
    "                        w_block = np.fliplr(f_block)\n",
    "                    else:\n",
    "                        w_block = Q_recover[row * 8 : (row + 1) * 8, (col - 1) * 8 : col * 8]\n",
    "                    # e\n",
    "                    if col == Q_recover.shape[1] // 8 - 1:\n",
    "                        e_block = np.fliplr(f_block)\n",
    "                    else:\n",
    "                        e_block = Q_recover[row * 8 : (row + 1) * 8, (col + 1) * 8 : (col + 2) * 8]\n",
    "                    # n\n",
    "                    if row == 0:\n",
    "                        n_block = np.flipud(f_block)\n",
    "                    else:\n",
    "                        n_block = Q_recover[(row - 1) * 8 : row * 8, col * 8 : (col + 1) * 8]\n",
    "                    # s\n",
    "                    if row == Q_recover.shape[0] // 8 - 1:\n",
    "                        s_block = np.flipud(f_block)\n",
    "                    else:\n",
    "                        s_block = Q_recover[(row + 1) * 8 : (row + 2) * 8, col * 8 : (col + 1) * 8]\n",
    "\n",
    "                    w_d1 = f_block[:, 0] - w_block[:, 7]\n",
    "                    e_d1 = f_block[:, 7] - e_block[:, 0]\n",
    "                    n_d1 = f_block[0, :] - n_block[7, :]\n",
    "                    s_d1 = f_block[7, :] - s_block[0, :]\n",
    "\n",
    "                    w_d2 = (w_block[:, 7] - w_block[:, 6] + f_block[:, 1] - f_block[:, 0]) / 2\n",
    "                    e_d2 = (e_block[:, 1] - e_block[:, 0] + f_block[:, 7] - f_block[:, 6]) / 2\n",
    "                    n_d2 = (n_block[7, :] - n_block[6, :] + f_block[1, :] - f_block[0, :]) / 2\n",
    "                    s_d2 = (s_block[1, :] - s_block[0, :] + f_block[7, :] - f_block[6, :]) / 2\n",
    "\n",
    "                    w_e += np.sum((w_d1 - w_d2) ** 2 )\n",
    "                    e_e += np.sum((e_d1 - e_d2) ** 2 )\n",
    "                    n_e += np.sum((n_d1 - n_d2) ** 2)\n",
    "                    s_e += np.sum((s_d1 - s_d2) ** 2)\n",
    "\n",
    "                    # nw\n",
    "                    if row == 0 or col == 0:\n",
    "                        nw_block = np.flipud(np.fliplr(f_block))\n",
    "                    else:\n",
    "                        nw_block = Q_recover[(row - 1) * 8 : row * 8, (col - 1) * 8 : col * 8]\n",
    "                    # ne\n",
    "                    if row == 0 or col == Q_recover.shape[1] // 8 - 1:\n",
    "                        ne_block = np.flipud(np.fliplr(f_block))\n",
    "                    else:\n",
    "                        ne_block = Q_recover[(row-1) * 8 : row * 8, (col + 1) * 8 : (col + 2) * 8]\n",
    "                    # sw\n",
    "                    if row == Q_recover.shape[0] // 8 -1 or col == 0:\n",
    "                        sw_block = np.flipud(np.fliplr(f_block))\n",
    "                    else:\n",
    "                        sw_block = Q_recover[row * 8 : (row+1) * 8, (col-1) * 8 : col * 8]\n",
    "                    # se\n",
    "                    if  row == Q_recover.shape[0]//8-1 or col == Q_recover.shape[0] // 8 -1:\n",
    "                        se_block = np.flipud(np.fliplr(f_block))\n",
    "                    else:\n",
    "                        se_block = Q_recover[(row + 1) * 8 : (row + 2) * 8, (col+1) * 8 : (col + 2) * 8]\n",
    "\n",
    "                    nw_g1 = f_block[0, 0] - nw_block[7, 7]\n",
    "                    ne_g1 = f_block[0, 7] - ne_block[7, 0]\n",
    "                    sw_g1 = f_block[7, 0] - sw_block[0, 7]\n",
    "                    se_g1 = f_block[7, 7] - se_block[0, 0]\n",
    "\n",
    "                    nw_g2 = (nw_block[7,7] - nw_block[6,6] + f_block[1,1] - f_block[0,0])/2\n",
    "                    ne_g2 = (ne_block[7,0] - ne_block[6,1] + f_block[1,6] - f_block[0,7])/2\n",
    "                    sw_g2 = (sw_block[0,7] - nw_block[1,6] + f_block[6,1] - f_block[7,0])/2\n",
    "                    se_g2 = (nw_block[0,0] - nw_block[1,1] + f_block[6,6] - f_block[7,7])/2\n",
    "\n",
    "                    nw_e += (nw_g1 - nw_g2) ** 2 \n",
    "                    ne_e += (ne_g1 - ne_g2) ** 2 \n",
    "                    sw_e += (sw_g1 - sw_g2) ** 2 \n",
    "                    se_e += (se_g1 - se_g2) ** 2 \n",
    "\n",
    "            MSDSt = (w_e + e_e + n_e + s_e + nw_e + ne_e + sw_e + se_e)/ ((512/8)**2)\n",
    "            MSDS1 = (w_e + e_e + n_e + s_e)/ ((512/8)**2)\n",
    "            MSDS2 = (nw_e + ne_e + sw_e + se_e)/ ((512/8)**2)\n",
    "            \n",
    "#             print(\"Q=\",Q,\" S=\",S,\" PSNR=\",PSNR,\" MSSIM=\",MSSIM,\" MSDS1=\",MSDS1, \" MSDS2=\",MSDS2 )\n",
    "            print(\"S=\",S)\n",
    "            print(Q,PSNR,MSSIM,MSDS1,MSDS2)\n",
    "            "
   ]
  },
  {
   "cell_type": "code",
   "execution_count": null,
   "metadata": {},
   "outputs": [],
   "source": []
  }
 ],
 "metadata": {
  "kernelspec": {
   "display_name": "Python 3",
   "language": "python",
   "name": "python3"
  },
  "language_info": {
   "codemirror_mode": {
    "name": "ipython",
    "version": 3
   },
   "file_extension": ".py",
   "mimetype": "text/x-python",
   "name": "python",
   "nbconvert_exporter": "python",
   "pygments_lexer": "ipython3",
   "version": "3.6.8"
  }
 },
 "nbformat": 4,
 "nbformat_minor": 4
}
