{
 "cells": [
  {
   "cell_type": "markdown",
   "metadata": {},
   "source": [
    "# TPHLCT 3階の導関数を相殺する"
   ]
  },
  {
   "cell_type": "code",
   "execution_count": 1,
   "metadata": {},
   "outputs": [],
   "source": [
    "import numpy as np\n",
    "import scipy.misc\n",
    "from scipy.fftpack import dct, idct\n",
    "import sys\n",
    "from PIL import Image\n",
    "import matplotlib\n",
    "import matplotlib.pyplot as plt\n",
    "import random\n",
    "from tqdm._tqdm_notebook import tqdm_notebook\n",
    "from scipy.fftpack import dct, idct\n",
    "import seaborn as sns\n",
    "from skimage.metrics import structural_similarity as ssim\n",
    "\n",
    "%matplotlib inline\n",
    "\n",
    "\n",
    "class ImageLoader:\n",
    "    def __init__(self, FILE_PATH):\n",
    "        self.img = np.array(Image.open(FILE_PATH))\n",
    "        # 行数\n",
    "        self.row_blocks_count = self.img.shape[0] // 8\n",
    "        # 列数\n",
    "        self.col_blocks_count = self.img.shape[1] // 8\n",
    "\n",
    "    def get_points(self, POINT):\n",
    "        Row = random.randint(0, len(self.img) - POINT - 1)\n",
    "        Col = random.randint(0, len(self.img) - 1)\n",
    "        return self.img[Row : Row + POINT, Col]\n",
    "\n",
    "    def get_block(self, col, row):\n",
    "        return self.img[col * 8 : (col + 1) * 8, row * 8 : (row + 1) * 8]\n",
    "\n",
    "\n",
    "# plt.rcParams['font.family'] ='sans-serif'#使用するフォント\n",
    "# plt.rcParams[\"font.sans-serif\"] = \"Source Han Sans\"\n",
    "plt.rcParams[\"font.family\"] = \"Source Han Sans JP\"  # 使用するフォント\n",
    "plt.rcParams[\"xtick.direction\"] = \"in\"  # x軸の目盛線が内向き('in')か外向き('out')か双方向か('inout')\n",
    "plt.rcParams[\"ytick.direction\"] = \"in\"  # y軸の目盛線が内向き('in')か外向き('out')か双方向か('inout')\n",
    "plt.rcParams[\"xtick.major.width\"] = 1.0  # x軸主目盛り線の線幅\n",
    "plt.rcParams[\"ytick.major.width\"] = 1.0  # y軸主目盛り線の線幅\n",
    "plt.rcParams[\"font.size\"] = 12  # フォントの大きさ\n",
    "plt.rcParams[\"axes.linewidth\"] = 1.0  # 軸の線幅edge linewidth。囲みの太さ\n",
    "matplotlib.font_manager._rebuild()\n",
    "\n",
    "MONO_DIR_PATH = \"../../Mono/\"\n",
    "AIRPLANE = ImageLoader(MONO_DIR_PATH + \"airplane512.bmp\")\n",
    "BARBARA = ImageLoader(MONO_DIR_PATH + \"barbara512.bmp\")\n",
    "BOAT = ImageLoader(MONO_DIR_PATH + \"boat512.bmp\")\n",
    "GOLDHILL = ImageLoader(MONO_DIR_PATH + \"goldhill512.bmp\")\n",
    "LENNA = ImageLoader(MONO_DIR_PATH + \"lenna512.bmp\")\n",
    "MANDRILL = ImageLoader(MONO_DIR_PATH + \"mandrill512.bmp\")\n",
    "MILKDROP = ImageLoader(MONO_DIR_PATH + \"milkdrop512.bmp\")\n",
    "SAILBOAT = ImageLoader(MONO_DIR_PATH + \"sailboat512.bmp\")\n",
    "\n",
    "\n",
    "N = 8"
   ]
  },
  {
   "cell_type": "markdown",
   "metadata": {
    "toc-hr-collapsed": false
   },
   "source": [
    "# DCT"
   ]
  },
  {
   "cell_type": "markdown",
   "metadata": {},
   "source": [
    "## 基底関数"
   ]
  },
  {
   "cell_type": "markdown",
   "metadata": {},
   "source": [
    "$$\n",
    "\\phi_k[i] = \\begin{cases}\n",
    "\\cfrac{1}{\\sqrt{N}}  \\quad \\quad \\quad (k=0) \\\\\n",
    "\\sqrt{\\cfrac{2}{N}} \\cos \\left({\\cfrac{\\pi}{2N}(2i+1)k}\\right) \\quad  (k=1,2,...,N-1) \n",
    "\\end{cases}\n",
    "$$"
   ]
  },
  {
   "cell_type": "code",
   "execution_count": 2,
   "metadata": {},
   "outputs": [],
   "source": [
    "class DCT:\n",
    "    def __init__(self, N):\n",
    "        self.N = N  # データ数\n",
    "        # 1次元DCTの基底ベクトルの生成\n",
    "        self.phi_1d = np.array([self.phi(i) for i in range(self.N)])\n",
    "        # 2次元DCTの基底ベクトルの格納\n",
    "        self.phi_2d = np.zeros((N, N))\n",
    "\n",
    "    def phi(self, k):\n",
    "        \"\"\" 離散コサイン変換(DCT)の基底関数 \"\"\"\n",
    "        # DCT-II\n",
    "        if k == 0:\n",
    "            return np.ones(self.N) / np.sqrt(self.N)\n",
    "        else:\n",
    "            return np.sqrt(2.0 / self.N) * np.cos(\n",
    "                (k * np.pi / (2 * self.N)) * (np.arange(self.N) * 2 + 1)\n",
    "            )\n",
    "\n",
    "    def dct(self, data):\n",
    "        \"\"\" 1次元離散コサイン変換を行う \"\"\"\n",
    "        return self.phi_1d.dot(data)\n",
    "\n",
    "    def idct(self, c):\n",
    "        \"\"\" 1次元離散コサイン逆変換を行う \"\"\"\n",
    "        return np.sum(self.phi_1d.T * c, axis=1)\n",
    "\n",
    "    def get_dct2_phi(self, y, x):\n",
    "        \"\"\" 2次元離散コサイン変換の基底を返す \"\"\"\n",
    "        phi_x, phi_y = np.meshgrid(self.phi_1d[x], self.phi_1d[y])\n",
    "        return phi_x * phi_y\n",
    "\n",
    "    def get_dct2(self, y, x, data):\n",
    "        \"\"\" i,jの2次元DCT係数を返す \"\"\"\n",
    "        phi_2d_phi = np.zeros((self.N, self.N))\n",
    "        phi_2d_phi = self.get_dct2_phi(y, x)\n",
    "        return np.sum(np.sum(phi_2d_phi * data))\n",
    "\n",
    "    def dct2(self, data):\n",
    "        \"\"\" 2次元離散コサイン変換を行う \"\"\"\n",
    "        for y in range(self.N):\n",
    "            for x in range(self.N):\n",
    "                self.phi_2d[y, x] = self.get_dct2(y, x, data)\n",
    "\n",
    "        return self.phi_2d\n",
    "\n",
    "    def idct2(self, c):\n",
    "        \"\"\" 2次元離散コサイン逆変換を行う \"\"\"\n",
    "        idct2_data = np.zeros((self.N, self.N))\n",
    "        phi_2d_phi = np.zeros((self.N, self.N))\n",
    "        for y in range(self.N):\n",
    "            for x in range(self.N):\n",
    "                phi_2d_phi = self.get_dct2_phi(y, x)\n",
    "                idct2_data += c[y,x] * phi_2d_phi\n",
    "\n",
    "        return idct2_data"
   ]
  },
  {
   "cell_type": "markdown",
   "metadata": {},
   "source": [
    "# 係数の計算"
   ]
  },
  {
   "cell_type": "markdown",
   "metadata": {},
   "source": [
    "$\\alpha_k, \\beta_k$を計算する。  \n",
    "1階導関数を相殺するような予測関数は \n",
    "$$u(x)=-\\frac{f_x(0)}{2}(1-x^2)+\\frac{f_x(1)}{2}x^2$$\n",
    "で与えられる。  \n",
    "\n",
    "そのとき、   \n",
    "$$\\alpha_k = -\\sqrt{\\frac{2}{N}}\\sum_{\\ell=0}^{N-1}\\frac{(1-x_\\ell)^2}{2}\\cos(\\pi k x_\\ell)$$  \n",
    "$$\\beta_k = \\sqrt{\\frac{2}{N}}\\sum_{\\ell=0}^{N-1}\\frac{x_\\ell^2}{2}\\cos(\\pi k x_\\ell)$$  \n",
    "\n",
    "$a_k, b_k, c_k, d_k$を計算する。  \n",
    "3階導関数を相殺するような予測関数は \n",
    "$$\n",
    "\\begin{align}\n",
    "u(x) & =( -\\frac{1}{2}f_x(0) + \\frac{1}{12}f^{(3)}_x(0) )(1-x^2)\\\\\n",
    "     & -\\frac{1}{24}f^{(3)}_x(0)(1-x)^4\\\\\n",
    "     & +( \\frac{1}{2}f_x(1)-\\frac{1}{12}f^{(3)}_x(1) )x^2\\\\\n",
    "     & + \\frac{1}{24}f^{(3)}_x(1)x^4\n",
    "\\end{align}\n",
    "$$\n",
    "で与えられる。  \n",
    "\n",
    "そのとき、   \n",
    "$$a_k = -\\sqrt{\\frac{2}{N}}\\sum_{\\ell=0}^{N-1}\\frac{(1-x_\\ell)^2}{2}\\cos(\\pi k x_\\ell)$$  \n",
    "\n",
    "$$b_k= \\sqrt{\\frac{2}{N}}\\sum_{\\ell=0}^{N-1}( \\frac{1}{24}-\\frac{x_\\ell^2}{6}+\\frac{x_\\ell^3}{6}-\\frac{x_\\ell^4}{24} )\\cos(\\pi k x_\\ell)$$  \n",
    "\n",
    "$$c_k = \\sqrt{\\frac{2}{N}}\\sum_{\\ell=0}^{N-1}\\frac{x_\\ell^2}{2}\\cos(\\pi k x_\\ell)$$\n",
    "\n",
    "$$d_k = \\sqrt{\\frac{2}{N}}\\sum_{\\ell=0}^{N-1}( -\\frac{x_\\ell^2}{12}+\\frac{x_\\ell^4}{24} )\\cos(\\pi k x_\\ell)$$  "
   ]
  },
  {
   "cell_type": "code",
   "execution_count": 3,
   "metadata": {},
   "outputs": [
    {
     "data": {
      "text/plain": [
       "<matplotlib.legend.Legend at 0x7f3275ae2f28>"
      ]
     },
     "execution_count": 3,
     "metadata": {},
     "output_type": "execute_result"
    },
    {
     "data": {
      "image/png": "[encoded data removed]",
      "text/plain": [
       "<Figure size 432x288 with 1 Axes>"
      ]
     },
     "metadata": {
      "needs_background": "light"
     },
     "output_type": "display_data"
    }
   ],
   "source": [
    "sampling_x = (0.5 + np.arange(N)) / N\n",
    "u_1 = (1 - sampling_x) ** 2 / 2\n",
    "u_2 = 1 / 24 - sampling_x ** 2 / 6 + sampling_x ** 3 / 6 - sampling_x ** 4 / 24\n",
    "u_3 = sampling_x ** 2 / 2\n",
    "u_4 = -sampling_x ** 2 / 12 + sampling_x ** 4 / 24\n",
    "plt.plot(u_1, label=\"u_1\")\n",
    "plt.plot(u_2, label=\"u_2\")\n",
    "plt.plot(u_3, label=\"u_3\")\n",
    "plt.plot(u_4, label=\"u_4\")\n",
    "plt.legend()"
   ]
  },
  {
   "cell_type": "code",
   "execution_count": 4,
   "metadata": {},
   "outputs": [
    {
     "data": {
      "text/plain": [
       "array([-0.4695631 , -0.40264519, -0.09857256, -0.04209093, -0.02209709,\n",
       "       -0.01255643, -0.00700534, -0.0031689 ])"
      ]
     },
     "execution_count": 4,
     "metadata": {},
     "output_type": "execute_result"
    }
   ],
   "source": [
    "ak = - scipy.fftpack.dct(u_1,norm=\"ortho\")\n",
    "ak"
   ]
  },
  {
   "cell_type": "code",
   "execution_count": 5,
   "metadata": {},
   "outputs": [
    {
     "data": {
      "text/plain": [
       "array([5.49963549e-02, 4.10626933e-02, 2.56510471e-03, 5.05282177e-04,\n",
       "       1.58247367e-04, 6.27721528e-05, 2.74988517e-05, 1.08051832e-05])"
      ]
     },
     "execution_count": 5,
     "metadata": {},
     "output_type": "execute_result"
    }
   ],
   "source": [
    "bk = scipy.fftpack.dct(u_2,norm=\"ortho\")\n",
    "bk"
   ]
  },
  {
   "cell_type": "code",
   "execution_count": 6,
   "metadata": {},
   "outputs": [
    {
     "data": {
      "text/plain": [
       "array([ 0.4695631 , -0.40264519,  0.09857256, -0.04209093,  0.02209709,\n",
       "       -0.01255643,  0.00700534, -0.0031689 ])"
      ]
     },
     "execution_count": 6,
     "metadata": {},
     "output_type": "execute_result"
    }
   ],
   "source": [
    "ck = scipy.fftpack.dct(u_3,norm=\"ortho\")\n",
    "ck"
   ]
  },
  {
   "cell_type": "code",
   "execution_count": 7,
   "metadata": {},
   "outputs": [
    {
     "data": {
      "text/plain": [
       "array([-5.49963549e-02,  4.10626933e-02, -2.56510471e-03,  5.05282177e-04,\n",
       "       -1.58247367e-04,  6.27721528e-05, -2.74988517e-05,  1.08051832e-05])"
      ]
     },
     "execution_count": 7,
     "metadata": {},
     "output_type": "execute_result"
    }
   ],
   "source": [
    "dk = scipy.fftpack.dct(u_4,norm=\"ortho\")\n",
    "dk"
   ]
  },
  {
   "cell_type": "code",
   "execution_count": 8,
   "metadata": {},
   "outputs": [
    {
     "data": {
      "text/plain": [
       "array([-0.4695631 , -0.40264519, -0.09857256, -0.04209093, -0.02209709,\n",
       "       -0.01255643, -0.00700534, -0.0031689 ])"
      ]
     },
     "execution_count": 8,
     "metadata": {},
     "output_type": "execute_result"
    }
   ],
   "source": [
    "alpha = ak\n",
    "alpha"
   ]
  },
  {
   "cell_type": "code",
   "execution_count": 9,
   "metadata": {},
   "outputs": [
    {
     "data": {
      "text/plain": [
       "array([ 0.4695631 , -0.40264519,  0.09857256, -0.04209093,  0.02209709,\n",
       "       -0.01255643,  0.00700534, -0.0031689 ])"
      ]
     },
     "execution_count": 9,
     "metadata": {},
     "output_type": "execute_result"
    }
   ],
   "source": [
    "beta = ck\n",
    "beta"
   ]
  },
  {
   "cell_type": "code",
   "execution_count": 10,
   "metadata": {},
   "outputs": [
    {
     "data": {
      "text/plain": [
       "array([-0.64313761, -0.51699881, -0.08421175, -0.03262109, -0.01652018,\n",
       "       -0.00923383, -0.00510908, -0.00230187])"
      ]
     },
     "execution_count": 10,
     "metadata": {},
     "output_type": "execute_result"
    }
   ],
   "source": [
    "Ak = (2 * ak - 16 * bk) / np.sqrt(N)\n",
    "Ak"
   ]
  },
  {
   "cell_type": "code",
   "execution_count": 11,
   "metadata": {},
   "outputs": [
    {
     "data": {
      "text/plain": [
       "array([ 0.64313761, -0.51699881,  0.08421175, -0.03262109,  0.01652018,\n",
       "       -0.00923383,  0.00510908, -0.00230187])"
      ]
     },
     "execution_count": 11,
     "metadata": {},
     "output_type": "execute_result"
    }
   ],
   "source": [
    "Bk = (2 * ck - 16 * dk) / np.sqrt(N)\n",
    "Bk"
   ]
  },
  {
   "cell_type": "code",
   "execution_count": 12,
   "metadata": {},
   "outputs": [
    {
     "data": {
      "text/plain": [
       "array([-0.95424398, -0.74928449, -0.09872217, -0.03547939, -0.01741536,\n",
       "       -0.00958892, -0.00526463, -0.00236299])"
      ]
     },
     "execution_count": 12,
     "metadata": {},
     "output_type": "execute_result"
    }
   ],
   "source": [
    "Ck = (2 * ak - 32 * bk) / np.sqrt(N)\n",
    "Ck"
   ]
  },
  {
   "cell_type": "code",
   "execution_count": 13,
   "metadata": {},
   "outputs": [
    {
     "data": {
      "text/plain": [
       "array([ 0.95424398, -0.74928449,  0.09872217, -0.03547939,  0.01741536,\n",
       "       -0.00958892,  0.00526463, -0.00236299])"
      ]
     },
     "execution_count": 13,
     "metadata": {},
     "output_type": "execute_result"
    }
   ],
   "source": [
    "Dk = (2 * ck - 32 * dk) / np.sqrt(N)\n",
    "Dk"
   ]
  },
  {
   "cell_type": "markdown",
   "metadata": {
    "toc-hr-collapsed": false
   },
   "source": [
    "# DCTして残差を計算"
   ]
  },
  {
   "cell_type": "markdown",
   "metadata": {},
   "source": [
    "$\n",
    "V_k = F_k - U_k\\\\\n",
    "V_k = F_k - A_k(F_0-F_0^L) -B_k(F_0^R-F_0)-C_k(F_1+F_1^L)-D_k(F_1^R+F_1)\n",
    "$"
   ]
  },
  {
   "cell_type": "code",
   "execution_count": 14,
   "metadata": {},
   "outputs": [],
   "source": [
    "IMG = AIRPLANE"
   ]
  },
  {
   "cell_type": "code",
   "execution_count": 15,
   "metadata": {},
   "outputs": [],
   "source": [
    "Fk = np.zeros(IMG.img.shape)"
   ]
  },
  {
   "cell_type": "markdown",
   "metadata": {
    "toc-hr-collapsed": false
   },
   "source": [
    "## DCT 縦方向"
   ]
  },
  {
   "cell_type": "markdown",
   "metadata": {},
   "source": [
    "2次元入力信号を垂直方向の一次元信号が水平方向に並列に並んでいるものとみなし、各列において8画素単位の1次元DCTを適用する"
   ]
  },
  {
   "cell_type": "code",
   "execution_count": 16,
   "metadata": {},
   "outputs": [],
   "source": [
    "for row in range(IMG.img.shape[0] // 8):\n",
    "    for col in range(IMG.img.shape[1]):\n",
    "        eight_points = IMG.img[8 * row : 8 * (row + 1), col]\n",
    "        c = scipy.fftpack.dct(eight_points,norm=\"ortho\")\n",
    "        Fk[8 * row : 8 * (row + 1), col] = c"
   ]
  },
  {
   "cell_type": "markdown",
   "metadata": {},
   "source": [
    "## 縦方向の残差"
   ]
  },
  {
   "cell_type": "markdown",
   "metadata": {},
   "source": [
    "### 3階の導関数"
   ]
  },
  {
   "cell_type": "code",
   "execution_count": 17,
   "metadata": {},
   "outputs": [],
   "source": [
    "for row in range(Fk.shape[0] // 8):\n",
    "    for col in range(Fk.shape[1]):\n",
    "        F = Fk[8 * row : 8 * (row + 1), col]\n",
    "\n",
    "        F_0_r = 0\n",
    "        F_1_r = 0\n",
    "        if row is not Fk.shape[0] // 8 - 1:\n",
    "            F_0_r = Fk[8 * (row + 1), col]\n",
    "            F_1_r = Fk[8 * (row + 1) + 1, col]\n",
    "\n",
    "        F_0_l = 0\n",
    "        F_1_l = 1\n",
    "        if row is not 0:\n",
    "            F_0_l = Fk[8 * (row - 1), col]\n",
    "            F_1_l = Fk[8 * (row - 1) + 1, col]\n",
    "\n",
    "        # 残差\n",
    "        F_0 = F[0]\n",
    "        F_1 = F[1]\n",
    "\n",
    "        F = (\n",
    "            F\n",
    "            - Ak * (F_0 - F_0_l)\n",
    "            - Bk * (F_0_r - F_0)\n",
    "            - Ck * (F_1 + F_1_l)\n",
    "            - Dk * (F_1_r + F_1)\n",
    "        )\n",
    "        # F_0, F_1は残す\n",
    "        F[0] = F_0\n",
    "        F[1] = F_1\n",
    "        # F_0 V_1 V_2 V_3 V_4 V_5 V_6 V_7\n",
    "        Fk[8 * row : 8 * (row + 1), col] = F"
   ]
  },
  {
   "cell_type": "markdown",
   "metadata": {},
   "source": [
    "### 1階の導関数"
   ]
  },
  {
   "cell_type": "code",
   "execution_count": 18,
   "metadata": {},
   "outputs": [],
   "source": [
    "for row in range(Fk.shape[0] // 8):\n",
    "    for col in range(Fk.shape[1]):\n",
    "        F = Fk[8 * row : 8 * (row + 1), col]\n",
    "\n",
    "        F_0_r = 0\n",
    "        if row is not Fk.shape[0] // 8 - 1:\n",
    "            F_0_r = Fk[8 * (row + 1), col]\n",
    "\n",
    "        F_0_l = 0\n",
    "        if row is not 0:\n",
    "            F_0_l = Fk[8 * (row - 1), col]\n",
    "\n",
    "        # 残差\n",
    "        F_0 = F[0]\n",
    "        F_temp = F - alpha * (F_0_r - F_0) / np.sqrt(N) - beta * (F_0 - F_0_l) / np.sqrt(N)\n",
    "        # F_0は残す\n",
    "        F[1] = F_temp[1]\n",
    "        # F_0 V_1 V_2 V_3 V_4 V_5 V_6 V_7\n",
    "        Fk[8 * row : 8 * (row + 1), col] = F"
   ]
  },
  {
   "cell_type": "markdown",
   "metadata": {},
   "source": [
    "## DCT 横方向"
   ]
  },
  {
   "cell_type": "code",
   "execution_count": 19,
   "metadata": {},
   "outputs": [],
   "source": [
    "for row in range(Fk.shape[0]):\n",
    "    for col in range(Fk.shape[1] // 8):\n",
    "        eight_points = Fk[row, 8 * col : 8 * (col + 1)]\n",
    "        c = scipy.fftpack.dct(eight_points,norm=\"ortho\")\n",
    "        Fk[row, 8 * col : 8 * (col + 1)] = c"
   ]
  },
  {
   "cell_type": "markdown",
   "metadata": {},
   "source": [
    "## 横方向の残差"
   ]
  },
  {
   "cell_type": "markdown",
   "metadata": {},
   "source": [
    "### 3階の導関数"
   ]
  },
  {
   "cell_type": "code",
   "execution_count": 20,
   "metadata": {},
   "outputs": [],
   "source": [
    "for row in range(Fk.shape[0]):\n",
    "    for col in range(Fk.shape[1] // 8):\n",
    "        F = Fk[row, 8 * col : 8 * (col + 1)]\n",
    "\n",
    "        F_0_r = 0\n",
    "        F_1_r = 0\n",
    "        if col is not Fk.shape[1] // 8 - 1:\n",
    "            F_0_r = Fk[row, 8 * (col + 1)]\n",
    "            F_1_r = Fk[row, 8 * (col + 1) + 1]\n",
    "\n",
    "        F_0_l = 0\n",
    "        F_1_l = 0\n",
    "        if col is not 0:\n",
    "            F_0_l = Fk[row, 8 * (col - 1)]\n",
    "            F_1_l = Fk[row, 8 * (col - 1) + 1]\n",
    "\n",
    "        # 残差\n",
    "        F_0 = F[0]\n",
    "        F_1 = F[1]\n",
    "\n",
    "        F = (\n",
    "            F\n",
    "            - Ak * (F_0 - F_0_l)\n",
    "            - Bk * (F_0_r - F_0)\n",
    "            - Ck * (F_1 + F_1_l)\n",
    "            - Dk * (F_1_r + F_1)\n",
    "        )\n",
    "        # F_0は残す\n",
    "        F[0] = F_0\n",
    "        F[1] = F_1\n",
    "        # F_0 V_1 V_2 V_3 V_4 V_5 V_6 V_7\n",
    "        Fk[row, 8 * col : 8 * (col + 1)] = F"
   ]
  },
  {
   "cell_type": "markdown",
   "metadata": {},
   "source": [
    "### 1階の導関数"
   ]
  },
  {
   "cell_type": "code",
   "execution_count": 21,
   "metadata": {},
   "outputs": [],
   "source": [
    "for row in range(Fk.shape[0]):\n",
    "    for col in range(Fk.shape[1] // 8):\n",
    "        F = Fk[row, 8 * col : 8 * (col + 1)]\n",
    "\n",
    "        F_0_r = 0\n",
    "        if col is not Fk.shape[1] // 8 - 1:\n",
    "            F_0_r = Fk[row, 8 * (col + 1)]\n",
    "\n",
    "        F_0_l = 0\n",
    "        if col is not 0:\n",
    "            F_0_l = Fk[row, 8 * (col - 1)]\n",
    "\n",
    "        # 残差\n",
    "        F_0 = F[0]\n",
    "        F_temp = F - alpha * (F_0_r - F_0) / np.sqrt(N) - beta * (F_0 - F_0_l) / np.sqrt(N)\n",
    "        # F_0は残す\n",
    "        F[1] = F_temp[1]\n",
    "        # F_0 V_1 V_2 V_3 V_4 V_5 V_6 V_7\n",
    "        Fk[row, 8 * col : 8 * (col + 1)] = F"
   ]
  },
  {
   "cell_type": "markdown",
   "metadata": {},
   "source": [
    "# 係数の確保"
   ]
  },
  {
   "cell_type": "code",
   "execution_count": 22,
   "metadata": {},
   "outputs": [],
   "source": [
    "Fk_Ori = np.copy(Fk)"
   ]
  },
  {
   "cell_type": "markdown",
   "metadata": {},
   "source": [
    "# 低域3成分 (0,1)(1,0)(1,1)の絶対値の和"
   ]
  },
  {
   "cell_type": "code",
   "execution_count": 23,
   "metadata": {},
   "outputs": [],
   "source": [
    "low_3_value = 0\n",
    "others_value = 0"
   ]
  },
  {
   "cell_type": "code",
   "execution_count": 24,
   "metadata": {},
   "outputs": [],
   "source": [
    "for row in range(Fk.shape[0] // 8):\n",
    "    for col in range(Fk.shape[1] // 8):\n",
    "        block = Fk[row * 8 : (row + 1) * 8, col * 8 : (col + 1) * 8]\n",
    "        low_3_value += np.abs(block[0, 1]) + np.abs(block[1, 0]) + np.abs(block[1, 1])\n",
    "        others_value += (\n",
    "            np.sum(np.sum(np.abs(block)))\n",
    "            - np.abs(block[0, 0])\n",
    "            - np.abs(block[0, 1])\n",
    "            - np.abs(block[1, 0])\n",
    "            - np.abs(block[1, 1])\n",
    "        )"
   ]
  },
  {
   "cell_type": "code",
   "execution_count": 25,
   "metadata": {},
   "outputs": [
    {
     "data": {
      "text/plain": [
       "385395.04595037765"
      ]
     },
     "execution_count": 25,
     "metadata": {},
     "output_type": "execute_result"
    }
   ],
   "source": [
    "low_3_value"
   ]
  },
  {
   "cell_type": "code",
   "execution_count": 26,
   "metadata": {},
   "outputs": [
    {
     "data": {
      "text/plain": [
       "1074741.0543269995"
      ]
     },
     "execution_count": 26,
     "metadata": {},
     "output_type": "execute_result"
    }
   ],
   "source": [
    "others_value"
   ]
  },
  {
   "cell_type": "markdown",
   "metadata": {},
   "source": [
    "# 逆変換"
   ]
  },
  {
   "cell_type": "markdown",
   "metadata": {},
   "source": [
    "$\n",
    "F_k = F_k + U_k\\\\\n",
    "F_k = V_k + A_k(F_0-F_0^L) +B_k(F_0^R-F_0)+C_k(F_1+F_1^L)+D_k(F_1^R+F_1)\n",
    "$"
   ]
  },
  {
   "cell_type": "code",
   "execution_count": 27,
   "metadata": {},
   "outputs": [],
   "source": [
    "# recover = np.zeros(IMG.img.shape).astype(\"uint8\")\n",
    "recover = np.zeros(IMG.img.shape)"
   ]
  },
  {
   "cell_type": "markdown",
   "metadata": {
    "toc-hr-collapsed": false
   },
   "source": [
    "## 横方向の残差"
   ]
  },
  {
   "cell_type": "markdown",
   "metadata": {},
   "source": [
    "### 1階の導関数 "
   ]
  },
  {
   "cell_type": "code",
   "execution_count": 28,
   "metadata": {},
   "outputs": [],
   "source": [
    "for row in range(Fk.shape[0]):\n",
    "    for col in range(Fk.shape[1] // 8):\n",
    "        F = Fk[row, 8 * col : 8 * col + 8]\n",
    "\n",
    "        F_0_r = 0\n",
    "        if col is not Fk.shape[1] // 8 - 1:\n",
    "            F_0_r = Fk[row, 8 * (col + 1)]\n",
    "\n",
    "        F_0_l = 0\n",
    "        if col is not 0:\n",
    "            F_0_l = Fk[row, 8 * (col - 1)]\n",
    "\n",
    "        # 残差\n",
    "        F_0 = F[0]\n",
    "        F_temp = F + alpha * (F_0_r - F_0) / np.sqrt(N) + beta * (F_0 - F_0_l) / np.sqrt(N)\n",
    "        # F_0は残す\n",
    "        F[1] = F_temp[1]\n",
    "        # F_0 V_1 V_2 V_3 V_4 V_5 V_6 V_7\n",
    "        Fk[row, 8 * col : 8 * col + 8] = F"
   ]
  },
  {
   "cell_type": "markdown",
   "metadata": {},
   "source": [
    "### 3階の導関数"
   ]
  },
  {
   "cell_type": "code",
   "execution_count": 29,
   "metadata": {},
   "outputs": [],
   "source": [
    "for row in range(Fk.shape[0]):\n",
    "    for col in range(Fk.shape[1] // 8):\n",
    "        F = Fk[row, 8 * col : 8 * (col + 1)]\n",
    "\n",
    "        F_0_r = 0\n",
    "        F_1_r = 0\n",
    "        if col is not Fk.shape[1] // 8 - 1:\n",
    "            F_0_r = Fk[row, 8 * (col + 1)]\n",
    "            F_1_r = Fk[row, 8 * (col + 1) + 1]\n",
    "\n",
    "        F_0_l = 0\n",
    "        F_1_l = 0\n",
    "        if col is not 0:\n",
    "            F_0_l = Fk[row, 8 * (col - 1)]\n",
    "            F_1_l = Fk[row, 8 * (col - 1) + 1]\n",
    "\n",
    "        # 残差\n",
    "        F_0 = F[0]\n",
    "        F_1 = F[1]\n",
    "\n",
    "        F = (\n",
    "            F\n",
    "            + Ak * (F_0 - F_0_l)\n",
    "            + Bk * (F_0_r - F_0)\n",
    "            + Ck * (F_1 + F_1_l)\n",
    "            + Dk * (F_1_r + F_1)\n",
    "        )\n",
    "        # F_0は残す\n",
    "        F[0] = F_0\n",
    "        F[1] = F_1\n",
    "        # F_0 V_1 V_2 V_3 V_4 V_5 V_6 V_7\n",
    "        Fk[row, 8 * col : 8 * (col + 1)] = F"
   ]
  },
  {
   "cell_type": "markdown",
   "metadata": {},
   "source": [
    "### IDCT 横方向"
   ]
  },
  {
   "cell_type": "code",
   "execution_count": 30,
   "metadata": {},
   "outputs": [],
   "source": [
    "for row in range(Fk.shape[0]):\n",
    "    for col in range(Fk.shape[1] // 8):\n",
    "        F = Fk[row, 8 * col : 8 * col + 8]\n",
    "        data = scipy.fftpack.idct(F,norm=\"ortho\")\n",
    "        # Fkに代入した後、縦方向に対して処理\n",
    "        Fk[row, 8 * col : 8 * col + 8] = data\n",
    "        # 復元画像\n",
    "#         recover[row, 8 * col : 8 * col + 8] = data"
   ]
  },
  {
   "cell_type": "markdown",
   "metadata": {
    "toc-hr-collapsed": false
   },
   "source": [
    "## 縦方向"
   ]
  },
  {
   "cell_type": "markdown",
   "metadata": {},
   "source": [
    "### 1階の導関数"
   ]
  },
  {
   "cell_type": "code",
   "execution_count": 31,
   "metadata": {},
   "outputs": [],
   "source": [
    "for row in range(Fk.shape[0] // 8):\n",
    "    for col in range(Fk.shape[1]):\n",
    "        F = Fk[8 * row : 8 * row + 8, col]\n",
    "\n",
    "        F_0_r = 0\n",
    "        if row is not Fk.shape[0] // 8 - 1:\n",
    "            F_0_r = Fk[8 * (row + 1), col]\n",
    "\n",
    "        F_0_l = 0\n",
    "        if row is not 0:\n",
    "            F_0_l = Fk[8 * (row - 1), col]\n",
    "\n",
    "        # 残差\n",
    "        F_0 = F[0]\n",
    "        F_temp = F + alpha * (F_0_r - F_0) / np.sqrt(N) + beta * (F_0 - F_0_l) / np.sqrt(N)\n",
    "        # F_0は残す\n",
    "        F[1] = F_temp[1]\n",
    "        # F_0 F_1 F_2 F_3 F_4 F_5 F_6 F_7\n",
    "        Fk[8 * row : 8 * row + 8, col] = F"
   ]
  },
  {
   "cell_type": "markdown",
   "metadata": {},
   "source": [
    "### 3階の導関数"
   ]
  },
  {
   "cell_type": "code",
   "execution_count": 32,
   "metadata": {},
   "outputs": [],
   "source": [
    "for row in range(Fk.shape[0] // 8):\n",
    "    for col in range(Fk.shape[1]):\n",
    "        F = Fk[8 * row : 8 * (row + 1), col]\n",
    "\n",
    "        F_0_r = 0\n",
    "        F_1_r = 0\n",
    "        if row is not Fk.shape[0] // 8 - 1:\n",
    "            F_0_r = Fk[8 * (row + 1), col]\n",
    "            F_1_r = Fk[8 * (row + 1) + 1, col]\n",
    "\n",
    "        F_0_l = 0\n",
    "        F_1_l = 1\n",
    "        if row is not 0:\n",
    "            F_0_l = Fk[8 * (row - 1), col]\n",
    "            F_1_l = Fk[8 * (row - 1) + 1, col]\n",
    "\n",
    "        # 残差\n",
    "        F_0 = F[0]\n",
    "        F_1 = F[1]\n",
    "\n",
    "        F = (\n",
    "            F\n",
    "            + Ak * (F_0 - F_0_l)\n",
    "            + Bk * (F_0_r - F_0)\n",
    "            + Ck * (F_1 + F_1_l)\n",
    "            + Dk * (F_1_r + F_1)\n",
    "        )\n",
    "        # F_0, F_1は残す\n",
    "        F[0] = F_0\n",
    "        F[1] = F_1\n",
    "        # F_0 V_1 V_2 V_3 V_4 V_5 V_6 V_7\n",
    "        Fk[8 * row : 8 * (row + 1), col] = F"
   ]
  },
  {
   "cell_type": "markdown",
   "metadata": {},
   "source": [
    "### 縦方向IDCT"
   ]
  },
  {
   "cell_type": "code",
   "execution_count": 33,
   "metadata": {},
   "outputs": [],
   "source": [
    "for row in range(Fk.shape[0] // 8):\n",
    "    for col in range(Fk.shape[1]):\n",
    "        F = Fk[8 * row : 8 * (row + 1), col]\n",
    "        data = scipy.fftpack.idct(F,norm=\"ortho\")\n",
    "        # 復元画像\n",
    "        recover[8 * row : 8 * (row + 1), col] = data\n",
    "        # FKに代入した後、横方向に対して処理\n",
    "#         Fk[8 * row : 8 * (row + 1), col] = data"
   ]
  },
  {
   "cell_type": "code",
   "execution_count": 34,
   "metadata": {},
   "outputs": [
    {
     "data": {
      "text/plain": [
       "<matplotlib.image.AxesImage at 0x7f3274fe4cf8>"
      ]
     },
     "execution_count": 34,
     "metadata": {},
     "output_type": "execute_result"
    },
    {
     "data": {
      "image/png": "[encoded data removed]",
      "text/plain": [
       "<Figure size 432x288 with 1 Axes>"
      ]
     },
     "metadata": {
      "needs_background": "light"
     },
     "output_type": "display_data"
    }
   ],
   "source": [
    "plt.imshow(np.round(recover), cmap=\"gray\")"
   ]
  },
  {
   "cell_type": "code",
   "execution_count": 35,
   "metadata": {},
   "outputs": [
    {
     "data": {
      "text/plain": [
       "<matplotlib.image.AxesImage at 0x7f3274f4ef60>"
      ]
     },
     "execution_count": 35,
     "metadata": {},
     "output_type": "execute_result"
    },
    {
     "data": {
      "image/png": "[encoded data removed]",
      "text/plain": [
       "<Figure size 432x288 with 1 Axes>"
      ]
     },
     "metadata": {
      "needs_background": "light"
     },
     "output_type": "display_data"
    }
   ],
   "source": [
    "plt.imshow(IMG.img, cmap=\"gray\")"
   ]
  },
  {
   "cell_type": "code",
   "execution_count": 36,
   "metadata": {},
   "outputs": [
    {
     "data": {
      "text/plain": [
       "array([ 65., 199., 193., 185., 179., 185., 191., 189., 191., 193.])"
      ]
     },
     "execution_count": 36,
     "metadata": {},
     "output_type": "execute_result"
    }
   ],
   "source": [
    "recover[0, 0:10]"
   ]
  },
  {
   "cell_type": "code",
   "execution_count": 37,
   "metadata": {},
   "outputs": [
    {
     "data": {
      "text/plain": [
       "array([ 65, 199, 193, 185, 179, 185, 191, 189, 191, 193], dtype=uint8)"
      ]
     },
     "execution_count": 37,
     "metadata": {},
     "output_type": "execute_result"
    }
   ],
   "source": [
    "IMG.img[0, 0:10]"
   ]
  },
  {
   "cell_type": "markdown",
   "metadata": {},
   "source": [
    "ちゃんと復元できた"
   ]
  },
  {
   "cell_type": "markdown",
   "metadata": {},
   "source": [
    "# 量子化テーブル"
   ]
  },
  {
   "cell_type": "code",
   "execution_count": 38,
   "metadata": {},
   "outputs": [],
   "source": [
    "Q50_Luminance = np.array(\n",
    "    [\n",
    "        [16, 11, 10, 16, 24, 40, 51, 61],\n",
    "        [12, 12, 14, 19, 26, 58, 60, 55],\n",
    "        [14, 13, 16, 24, 40, 57, 69, 56],\n",
    "        [14, 17, 22, 29, 51, 87, 80, 62],\n",
    "        [18, 22, 37, 56, 68, 109, 103, 77],\n",
    "        [24, 35, 55, 64, 81, 104, 113, 92],\n",
    "        [49, 64, 78, 87, 103, 121, 120, 101],\n",
    "        [72, 92, 95, 98, 112, 100, 103, 99],\n",
    "    ]\n",
    ")"
   ]
  },
  {
   "cell_type": "markdown",
   "metadata": {},
   "source": [
    "$$\n",
    "S = (Q < 50)?\\frac{5000}{Q}:200-2Q\\\\\n",
    "Q_s[i] = \\left[\\frac{S\\times Q_b[i]+50}{100}\\right]\n",
    "$$"
   ]
  },
  {
   "cell_type": "code",
   "execution_count": 39,
   "metadata": {},
   "outputs": [],
   "source": [
    "# Q=80における量子化テーブルをスケーリング\n",
    "Q = 21.6\n",
    "if Q < 50:\n",
    "    S = 5000 / Q\n",
    "else:\n",
    "    S = 200 - 2 * Q\n",
    "\n",
    "S = np.floor(S)\n",
    "\n",
    "Q_Luminance = np.zeros((8, 8))\n",
    "for row in range(8):\n",
    "    for col in range(8):\n",
    "        Q_Luminance[row, col] = np.floor((S * Q50_Luminance[row, col] + 50) / 100)"
   ]
  },
  {
   "cell_type": "markdown",
   "metadata": {},
   "source": [
    "\n",
    "# 量子化"
   ]
  },
  {
   "cell_type": "code",
   "execution_count": 40,
   "metadata": {},
   "outputs": [],
   "source": [
    "Fk = np.copy(Fk_Ori)"
   ]
  },
  {
   "cell_type": "code",
   "execution_count": 41,
   "metadata": {},
   "outputs": [
    {
     "data": {
      "text/plain": [
       "<matplotlib.image.AxesImage at 0x7f3274f34320>"
      ]
     },
     "execution_count": 41,
     "metadata": {},
     "output_type": "execute_result"
    },
    {
     "data": {
      "image/png": "[encoded data removed]",
      "text/plain": [
       "<Figure size 432x288 with 1 Axes>"
      ]
     },
     "metadata": {
      "needs_background": "light"
     },
     "output_type": "display_data"
    }
   ],
   "source": [
    "plt.imshow(Fk)"
   ]
  },
  {
   "cell_type": "code",
   "execution_count": 42,
   "metadata": {},
   "outputs": [],
   "source": [
    "Q_Fk = np.zeros(Fk.shape)"
   ]
  },
  {
   "cell_type": "code",
   "execution_count": 43,
   "metadata": {},
   "outputs": [],
   "source": [
    "for row in range(IMG.img.shape[0] // 8):\n",
    "    for col in range(IMG.img.shape[1] // 8):\n",
    "        block = Fk[row * 8 : (row + 1) * 8, col * 8 : (col + 1) * 8]\n",
    "        # 量子化\n",
    "        block = np.round(block / Q_Luminance)\n",
    "        # 逆量子化\n",
    "        block = block * Q_Luminance\n",
    "        Q_Fk[row * 8 : (row+1)*8, col * 8 : (col+1)*8] = block"
   ]
  },
  {
   "cell_type": "markdown",
   "metadata": {},
   "source": [
    "# 逆変換"
   ]
  },
  {
   "cell_type": "code",
   "execution_count": 44,
   "metadata": {},
   "outputs": [],
   "source": [
    "Fk = np.copy(Q_Fk)\n",
    "# Fk = np.copy(Fk_Ori)"
   ]
  },
  {
   "cell_type": "code",
   "execution_count": 45,
   "metadata": {},
   "outputs": [],
   "source": [
    "Q_recover = np.zeros(Q_Fk.shape)"
   ]
  },
  {
   "cell_type": "markdown",
   "metadata": {},
   "source": [
    "## 横方向の残差"
   ]
  },
  {
   "cell_type": "markdown",
   "metadata": {},
   "source": [
    "### 1階の導関数 "
   ]
  },
  {
   "cell_type": "code",
   "execution_count": 46,
   "metadata": {},
   "outputs": [],
   "source": [
    "for row in range(Fk.shape[0]):\n",
    "    for col in range(Fk.shape[1] // 8):\n",
    "        F = Fk[row, 8 * col : 8 * col + 8]\n",
    "\n",
    "        F_0_r = 0\n",
    "        if col is not Fk.shape[1] // 8 - 1:\n",
    "            F_0_r = Fk[row, 8 * (col + 1)]\n",
    "\n",
    "        F_0_l = 0\n",
    "        if col is not 0:\n",
    "            F_0_l = Fk[row, 8 * (col - 1)]\n",
    "\n",
    "        # 残差\n",
    "        F_0 = F[0]\n",
    "        F_temp = F + alpha * (F_0_r - F_0) / np.sqrt(N) + beta * (F_0 - F_0_l) / np.sqrt(N)\n",
    "        # F_0は残す\n",
    "        F[1] = F_temp[1]\n",
    "        # F_0 V_1 V_2 V_3 V_4 V_5 V_6 V_7\n",
    "        Fk[row, 8 * col : 8 * col + 8] = F"
   ]
  },
  {
   "cell_type": "markdown",
   "metadata": {},
   "source": [
    "### 3階の導関数"
   ]
  },
  {
   "cell_type": "code",
   "execution_count": 47,
   "metadata": {},
   "outputs": [],
   "source": [
    "for row in range(Fk.shape[0]):\n",
    "    for col in range(Fk.shape[1] // 8):\n",
    "        F = Fk[row, 8 * col : 8 * (col + 1)]\n",
    "\n",
    "        F_0_r = 0\n",
    "        F_1_r = 0\n",
    "        if col is not Fk.shape[1] // 8 - 1:\n",
    "            F_0_r = Fk[row, 8 * (col + 1)]\n",
    "            F_1_r = Fk[row, 8 * (col + 1) + 1]\n",
    "\n",
    "        F_0_l = 0\n",
    "        F_1_l = 0\n",
    "        if col is not 0:\n",
    "            F_0_l = Fk[row, 8 * (col - 1)]\n",
    "            F_1_l = Fk[row, 8 * (col - 1) + 1]\n",
    "\n",
    "        # 残差\n",
    "        F_0 = F[0]\n",
    "        F_1 = F[1]\n",
    "\n",
    "        F = (\n",
    "            F\n",
    "            + Ak * (F_0 - F_0_l)\n",
    "            + Bk * (F_0_r - F_0)\n",
    "            + Ck * (F_1 + F_1_l)\n",
    "            + Dk * (F_1_r + F_1)\n",
    "        )\n",
    "        # F_0は残す\n",
    "        F[0] = F_0\n",
    "        F[1] = F_1\n",
    "        # F_0 V_1 V_2 V_3 V_4 V_5 V_6 V_7\n",
    "        Fk[row, 8 * col : 8 * (col + 1)] = F"
   ]
  },
  {
   "cell_type": "markdown",
   "metadata": {},
   "source": [
    "### IDCT 横方向"
   ]
  },
  {
   "cell_type": "code",
   "execution_count": 48,
   "metadata": {},
   "outputs": [],
   "source": [
    "for row in range(Fk.shape[0]):\n",
    "    for col in range(Fk.shape[1] // 8):\n",
    "        F = Fk[row, 8 * col : 8 * col + 8]\n",
    "        data = scipy.fftpack.idct(F,norm=\"ortho\")\n",
    "        # Fkに代入した後、縦方向に対して処理\n",
    "        Fk[row, 8 * col : 8 * col + 8] = data\n",
    "        # 復元画像\n",
    "#         recover[row, 8 * col : 8 * col + 8] = data"
   ]
  },
  {
   "cell_type": "markdown",
   "metadata": {},
   "source": [
    "## 縦方向"
   ]
  },
  {
   "cell_type": "markdown",
   "metadata": {},
   "source": [
    "### 1階の導関数"
   ]
  },
  {
   "cell_type": "code",
   "execution_count": 49,
   "metadata": {},
   "outputs": [],
   "source": [
    "for row in range(Fk.shape[0] // 8):\n",
    "    for col in range(Fk.shape[1]):\n",
    "        F = Fk[8 * row : 8 * row + 8, col]\n",
    "\n",
    "        F_0_r = 0\n",
    "        if row is not Fk.shape[0] // 8 - 1:\n",
    "            F_0_r = Fk[8 * (row + 1), col]\n",
    "\n",
    "        F_0_l = 0\n",
    "        if row is not 0:\n",
    "            F_0_l = Fk[8 * (row - 1), col]\n",
    "\n",
    "        # 残差\n",
    "        F_0 = F[0]\n",
    "        F_temp = F + alpha * (F_0_r - F_0) / np.sqrt(N) + beta * (F_0 - F_0_l) / np.sqrt(N)\n",
    "        # F_0は残す\n",
    "        F[1] = F_temp[1]\n",
    "        # F_0 F_1 F_2 F_3 F_4 F_5 F_6 F_7\n",
    "        Fk[8 * row : 8 * row + 8, col] = F"
   ]
  },
  {
   "cell_type": "markdown",
   "metadata": {},
   "source": [
    "### 3階の導関数"
   ]
  },
  {
   "cell_type": "code",
   "execution_count": 50,
   "metadata": {},
   "outputs": [],
   "source": [
    "for row in range(Fk.shape[0] // 8):\n",
    "    for col in range(Fk.shape[1]):\n",
    "        F = Fk[8 * row : 8 * (row + 1), col]\n",
    "\n",
    "        F_0_r = 0\n",
    "        F_1_r = 0\n",
    "        if row is not Fk.shape[0] // 8 - 1:\n",
    "            F_0_r = Fk[8 * (row + 1), col]\n",
    "            F_1_r = Fk[8 * (row + 1) + 1, col]\n",
    "\n",
    "        F_0_l = 0\n",
    "        F_1_l = 1\n",
    "        if row is not 0:\n",
    "            F_0_l = Fk[8 * (row - 1), col]\n",
    "            F_1_l = Fk[8 * (row - 1) + 1, col]\n",
    "\n",
    "        # 残差\n",
    "        F_0 = F[0]\n",
    "        F_1 = F[1]\n",
    "\n",
    "        F = (\n",
    "            F\n",
    "            + Ak * (F_0 - F_0_l)\n",
    "            + Bk * (F_0_r - F_0)\n",
    "            + Ck * (F_1 + F_1_l)\n",
    "            + Dk * (F_1_r + F_1)\n",
    "        )\n",
    "        # F_0, F_1は残す\n",
    "        F[0] = F_0\n",
    "        F[1] = F_1\n",
    "        # F_0 V_1 V_2 V_3 V_4 V_5 V_6 V_7\n",
    "        Fk[8 * row : 8 * (row + 1), col] = F"
   ]
  },
  {
   "cell_type": "markdown",
   "metadata": {},
   "source": [
    "### IDCT 縦方向"
   ]
  },
  {
   "cell_type": "code",
   "execution_count": 51,
   "metadata": {},
   "outputs": [],
   "source": [
    "for row in range(Fk.shape[0] // 8):\n",
    "    for col in range(Fk.shape[1]):\n",
    "        F = Fk[8 * row : 8 * (row + 1), col]\n",
    "        data = scipy.fftpack.idct(F,norm=\"ortho\")\n",
    "        # 復元画像\n",
    "        Q_recover[8 * row : 8 * (row + 1), col] = data\n",
    "        # FKに代入した後、横方向に対して処理\n",
    "#         Fk[8 * row : 8 * (row + 1), col] = data"
   ]
  },
  {
   "cell_type": "code",
   "execution_count": 52,
   "metadata": {},
   "outputs": [],
   "source": [
    "Q_recover = np.round(Q_recover)"
   ]
  },
  {
   "cell_type": "code",
   "execution_count": 53,
   "metadata": {},
   "outputs": [
    {
     "data": {
      "text/plain": [
       "<matplotlib.image.AxesImage at 0x7f3274e9ba58>"
      ]
     },
     "execution_count": 53,
     "metadata": {},
     "output_type": "execute_result"
    },
    {
     "data": {
      "image/png": "[encoded data removed]",
      "text/plain": [
       "<Figure size 432x288 with 1 Axes>"
      ]
     },
     "metadata": {
      "needs_background": "light"
     },
     "output_type": "display_data"
    }
   ],
   "source": [
    "plt.imshow(Q_recover, cmap=\"gray\")\n",
    "# plt.imsave(\"TPHLCT3_8x8_LENNA.png\",Q_recover,cmap=\"gray\")"
   ]
  },
  {
   "cell_type": "markdown",
   "metadata": {},
   "source": [
    "# 情報量"
   ]
  },
  {
   "cell_type": "markdown",
   "metadata": {},
   "source": [
    "$$\n",
    "S = - \\sum ^{255}_{i=0} p_i log_2 p_i\n",
    "$$"
   ]
  },
  {
   "cell_type": "code",
   "execution_count": 54,
   "metadata": {},
   "outputs": [
    {
     "data": {
      "text/plain": [
       "-0.0     0.931713\n",
       "-32.0    0.003677\n",
       " 32.0    0.003662\n",
       "-28.0    0.003292\n",
       " 28.0    0.002918\n",
       "dtype: float64"
      ]
     },
     "execution_count": 54,
     "metadata": {},
     "output_type": "execute_result"
    }
   ],
   "source": [
    "import pandas as pd\n",
    "qfk = pd.Series(Q_Fk.flatten())\n",
    "pro = qfk.value_counts() / qfk.value_counts().sum()\n",
    "pro.head()"
   ]
  },
  {
   "cell_type": "code",
   "execution_count": 55,
   "metadata": {},
   "outputs": [
    {
     "data": {
      "text/plain": [
       "0.787780561881297"
      ]
     },
     "execution_count": 55,
     "metadata": {},
     "output_type": "execute_result"
    }
   ],
   "source": [
    "S = 0\n",
    "for pi in pro:\n",
    "    S -= pi * np.log2(pi)\n",
    "S"
   ]
  },
  {
   "cell_type": "markdown",
   "metadata": {},
   "source": [
    "# PSNR"
   ]
  },
  {
   "cell_type": "markdown",
   "metadata": {},
   "source": [
    "$$\n",
    "PSNR = 10 log_{10} \\frac{MAX^2}{MSE}\n",
    "$$"
   ]
  },
  {
   "cell_type": "markdown",
   "metadata": {},
   "source": [
    "$$\n",
    "{MSE = \\frac{1}{m \\, n} \\sum^{m-1}_{i=0} \\sum^{n-1}_{j=0} [ I(i,j) - K(i,j) ]^2}\n",
    "$$\n",
    "$I(i,j)$は原画像, $K(i,j)$は圧縮画像"
   ]
  },
  {
   "cell_type": "code",
   "execution_count": 56,
   "metadata": {},
   "outputs": [],
   "source": [
    "MSE = np.sum(np.sum(np.power((IMG.img - Q_recover),2)))/(Q_recover.shape[0] * Q_recover.shape[1])"
   ]
  },
  {
   "cell_type": "code",
   "execution_count": 57,
   "metadata": {},
   "outputs": [
    {
     "data": {
      "text/plain": [
       "33.00334587569375"
      ]
     },
     "execution_count": 57,
     "metadata": {},
     "output_type": "execute_result"
    }
   ],
   "source": [
    "PSNR = 10 * np.log10(255 * 255 / MSE)\n",
    "PSNR"
   ]
  },
  {
   "cell_type": "markdown",
   "metadata": {},
   "source": [
    "# MSSIM"
   ]
  },
  {
   "cell_type": "code",
   "execution_count": 58,
   "metadata": {},
   "outputs": [
    {
     "data": {
      "text/plain": [
       "0.904926966704909"
      ]
     },
     "execution_count": 58,
     "metadata": {},
     "output_type": "execute_result"
    }
   ],
   "source": [
    "MSSIM = ssim(IMG.img,Q_recover.astype(IMG.img.dtype),gaussian_weights=True,sigma=1.5,K1=0.01,K2=0.03)\n",
    "MSSIM"
   ]
  },
  {
   "cell_type": "code",
   "execution_count": 59,
   "metadata": {},
   "outputs": [],
   "source": [
    "w_e = 0\n",
    "e_e = 0\n",
    "n_e = 0\n",
    "s_e = 0\n",
    "nw_e = 0\n",
    "ne_e = 0\n",
    "sw_e = 0\n",
    "se_e = 0\n",
    "for row in range(Q_recover.shape[0] // 8):\n",
    "    for col in range(Q_recover.shape[1] // 8):\n",
    "        f_block = Q_recover[row * 8 : (row + 1) * 8, col * 8 : (col + 1) * 8]\n",
    "        # w\n",
    "        if col == 0:\n",
    "            w_block = np.fliplr(f_block)\n",
    "        else:\n",
    "            w_block = Q_recover[row * 8 : (row + 1) * 8, (col - 1) * 8 : col * 8]\n",
    "        # e\n",
    "        if col == Q_recover.shape[1] // 8 - 1:\n",
    "            e_block = np.fliplr(f_block)\n",
    "        else:\n",
    "            e_block = Q_recover[row * 8 : (row + 1) * 8, (col + 1) * 8 : (col + 2) * 8]\n",
    "        # n\n",
    "        if row == 0:\n",
    "            n_block = np.flipud(f_block)\n",
    "        else:\n",
    "            n_block = Q_recover[(row - 1) * 8 : row * 8, col * 8 : (col + 1) * 8]\n",
    "        # s\n",
    "        if row == Q_recover.shape[0] // 8 - 1:\n",
    "            s_block = np.flipud(f_block)\n",
    "        else:\n",
    "            s_block = Q_recover[(row + 1) * 8 : (row + 2) * 8, col * 8 : (col + 1) * 8]\n",
    "\n",
    "        w_d1 = f_block[:, 0] - w_block[:, 7]\n",
    "        e_d1 = f_block[:, 7] - e_block[:, 0]\n",
    "        n_d1 = f_block[0, :] - n_block[7, :]\n",
    "        s_d1 = f_block[7, :] - s_block[0, :]\n",
    "\n",
    "        w_d2 = (w_block[:, 7] - w_block[:, 6] + f_block[:, 1] - f_block[:, 0]) / 2\n",
    "        e_d2 = (e_block[:, 1] - e_block[:, 0] + f_block[:, 7] - f_block[:, 6]) / 2\n",
    "        n_d2 = (n_block[7, :] - n_block[6, :] + f_block[1, :] - f_block[0, :]) / 2\n",
    "        s_d2 = (s_block[1, :] - s_block[0, :] + f_block[7, :] - f_block[6, :]) / 2\n",
    "\n",
    "        w_e += np.sum((w_d1 - w_d2) ** 2 )\n",
    "        e_e += np.sum((e_d1 - e_d2) ** 2 )\n",
    "        n_e += np.sum((n_d1 - n_d2) ** 2)\n",
    "        s_e += np.sum((s_d1 - s_d2) ** 2)\n",
    "        \n",
    "        # nw\n",
    "        if row == 0 or col == 0:\n",
    "            nw_block = np.flipud(np.fliplr(f_block))\n",
    "        else:\n",
    "            nw_block = Q_recover[(row - 1) * 8 : row * 8, (col - 1) * 8 : col * 8]\n",
    "        # ne\n",
    "        if row == 0 or col == Q_recover.shape[1] // 8 - 1:\n",
    "            ne_block = np.flipud(np.fliplr(f_block))\n",
    "        else:\n",
    "            ne_block = Q_recover[(row-1) * 8 : row * 8, (col + 1) * 8 : (col + 2) * 8]\n",
    "        # sw\n",
    "        if row == Q_recover.shape[0] // 8 -1 or col == 0:\n",
    "            sw_block = np.flipud(np.fliplr(f_block))\n",
    "        else:\n",
    "            sw_block = Q_recover[row * 8 : (row+1) * 8, (col-1) * 8 : col * 8]\n",
    "        # se\n",
    "        if  row == Q_recover.shape[0]//8-1 or col == Q_recover.shape[0] // 8 -1:\n",
    "            se_block = np.flipud(np.fliplr(f_block))\n",
    "        else:\n",
    "            se_block = Q_recover[(row + 1) * 8 : (row + 2) * 8, (col+1) * 8 : (col + 2) * 8]\n",
    "\n",
    "        nw_g1 = f_block[0, 0] - nw_block[7, 7]\n",
    "        ne_g1 = f_block[0, 7] - ne_block[7, 0]\n",
    "        sw_g1 = f_block[7, 0] - sw_block[0, 7]\n",
    "        se_g1 = f_block[7, 7] - se_block[0, 0]\n",
    "\n",
    "        nw_g2 = (nw_block[7,7] - nw_block[6,6] + f_block[1,1] - f_block[0,0])/2\n",
    "        ne_g2 = (ne_block[7,0] - ne_block[6,1] + f_block[1,6] - f_block[0,7])/2\n",
    "        sw_g2 = (sw_block[0,7] - nw_block[1,6] + f_block[6,1] - f_block[7,0])/2\n",
    "        se_g2 = (nw_block[0,0] - nw_block[1,1] + f_block[6,6] - f_block[7,7])/2\n",
    "\n",
    "        nw_e += (nw_g1 - nw_g2) ** 2 \n",
    "        ne_e += (ne_g1 - ne_g2) ** 2 \n",
    "        sw_e += (sw_g1 - sw_g2) ** 2 \n",
    "        se_e += (se_g1 - se_g2) ** 2 \n",
    "\n",
    "MSDSt = (w_e + e_e + n_e + s_e + nw_e + ne_e + sw_e + se_e)/ ((512/8)**2)\n",
    "MSDS1 = (w_e + e_e + n_e + s_e)/ ((512/8)**2)\n",
    "MSDS2 = (nw_e + ne_e + sw_e + se_e)/ ((512/8)**2)"
   ]
  },
  {
   "cell_type": "code",
   "execution_count": 60,
   "metadata": {},
   "outputs": [
    {
     "data": {
      "text/plain": [
       "7265.61865234375"
      ]
     },
     "execution_count": 60,
     "metadata": {},
     "output_type": "execute_result"
    }
   ],
   "source": [
    "MSDS1"
   ]
  },
  {
   "cell_type": "code",
   "execution_count": 61,
   "metadata": {},
   "outputs": [
    {
     "data": {
      "text/plain": [
       "3532.67333984375"
      ]
     },
     "execution_count": 61,
     "metadata": {},
     "output_type": "execute_result"
    }
   ],
   "source": [
    "MSDS2"
   ]
  }
 ],
 "metadata": {
  "kernelspec": {
   "display_name": "Python 3",
   "language": "python",
   "name": "python3"
  },
  "language_info": {
   "codemirror_mode": {
    "name": "ipython",
    "version": 3
   },
   "file_extension": ".py",
   "mimetype": "text/x-python",
   "name": "python",
   "nbconvert_exporter": "python",
   "pygments_lexer": "ipython3",
   "version": "3.6.8"
  }
 },
 "nbformat": 4,
 "nbformat_minor": 4
}
