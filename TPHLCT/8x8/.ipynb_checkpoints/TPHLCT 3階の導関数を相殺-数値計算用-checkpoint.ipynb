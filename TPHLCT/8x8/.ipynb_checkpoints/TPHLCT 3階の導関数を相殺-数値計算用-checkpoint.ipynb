{
 "cells": [
  {
   "cell_type": "markdown",
   "metadata": {},
   "source": [
    "# TPHLCT 3階の導関数を相殺する"
   ]
  },
  {
   "cell_type": "code",
   "execution_count": 1,
   "metadata": {},
   "outputs": [],
   "source": [
    "import numpy as np\n",
    "import scipy.misc\n",
    "from scipy.fftpack import dct, idct\n",
    "import sys\n",
    "from PIL import Image\n",
    "import matplotlib\n",
    "import matplotlib.pyplot as plt\n",
    "import random\n",
    "from tqdm._tqdm_notebook import tqdm_notebook\n",
    "from scipy.fftpack import dct, idct\n",
    "import seaborn as sns\n",
    "from skimage.metrics import structural_similarity as ssim\n",
    "\n",
    "%matplotlib inline\n",
    "\n",
    "\n",
    "class ImageLoader:\n",
    "    def __init__(self, FILE_PATH):\n",
    "        self.img = np.array(Image.open(FILE_PATH))\n",
    "        # 行数\n",
    "        self.row_blocks_count = self.img.shape[0] // 8\n",
    "        # 列数\n",
    "        self.col_blocks_count = self.img.shape[1] // 8\n",
    "\n",
    "    def get_points(self, POINT):\n",
    "        Row = random.randint(0, len(self.img) - POINT - 1)\n",
    "        Col = random.randint(0, len(self.img) - 1)\n",
    "        return self.img[Row : Row + POINT, Col]\n",
    "\n",
    "    def get_block(self, col, row):\n",
    "        return self.img[col * 8 : (col + 1) * 8, row * 8 : (row + 1) * 8]\n",
    "\n",
    "\n",
    "# plt.rcParams['font.family'] ='sans-serif'#使用するフォント\n",
    "# plt.rcParams[\"font.sans-serif\"] = \"Source Han Sans\"\n",
    "plt.rcParams[\"font.family\"] = \"Source Han Sans JP\"  # 使用するフォント\n",
    "plt.rcParams[\"xtick.direction\"] = \"in\"  # x軸の目盛線が内向き('in')か外向き('out')か双方向か('inout')\n",
    "plt.rcParams[\"ytick.direction\"] = \"in\"  # y軸の目盛線が内向き('in')か外向き('out')か双方向か('inout')\n",
    "plt.rcParams[\"xtick.major.width\"] = 1.0  # x軸主目盛り線の線幅\n",
    "plt.rcParams[\"ytick.major.width\"] = 1.0  # y軸主目盛り線の線幅\n",
    "plt.rcParams[\"font.size\"] = 12  # フォントの大きさ\n",
    "plt.rcParams[\"axes.linewidth\"] = 1.0  # 軸の線幅edge linewidth。囲みの太さ\n",
    "matplotlib.font_manager._rebuild()\n",
    "\n",
    "# 画像の用意\n",
    "\n",
    "MONO_DIR_PATH = \"../../Mono/\"\n",
    "AIRPLANE = ImageLoader(MONO_DIR_PATH + \"airplane512.bmp\")\n",
    "BARBARA = ImageLoader(MONO_DIR_PATH + \"barbara512.bmp\")\n",
    "BOAT = ImageLoader(MONO_DIR_PATH + \"boat512.bmp\")\n",
    "GOLDHILL = ImageLoader(MONO_DIR_PATH + \"goldhill512.bmp\")\n",
    "LENNA = ImageLoader(MONO_DIR_PATH + \"lenna512.bmp\")\n",
    "MANDRILL = ImageLoader(MONO_DIR_PATH + \"mandrill512.bmp\")\n",
    "MILKDROP = ImageLoader(MONO_DIR_PATH + \"milkdrop512.bmp\")\n",
    "SAILBOAT = ImageLoader(MONO_DIR_PATH + \"sailboat512.bmp\")\n",
    "\n",
    "\n",
    "N = 8"
   ]
  },
  {
   "cell_type": "markdown",
   "metadata": {
    "toc-hr-collapsed": false
   },
   "source": [
    "# DCT"
   ]
  },
  {
   "cell_type": "markdown",
   "metadata": {},
   "source": [
    "## 基底関数"
   ]
  },
  {
   "cell_type": "markdown",
   "metadata": {},
   "source": [
    "$$\n",
    "\\phi_k[i] = \\begin{cases}\n",
    "\\cfrac{1}{\\sqrt{N}}  \\quad \\quad \\quad (k=0) \\\\\n",
    "\\sqrt{\\cfrac{2}{N}} \\cos \\left({\\cfrac{\\pi}{2N}(2i+1)k}\\right) \\quad  (k=1,2,...,N-1) \n",
    "\\end{cases}\n",
    "$$"
   ]
  },
  {
   "cell_type": "code",
   "execution_count": 2,
   "metadata": {},
   "outputs": [],
   "source": [
    "class DCT:\n",
    "    def __init__(self, N):\n",
    "        self.N = N  # データ数\n",
    "        # 1次元DCTの基底ベクトルの生成\n",
    "        self.phi_1d = np.array([self.phi(i) for i in range(self.N)])\n",
    "        # 2次元DCTの基底ベクトルの格納\n",
    "        self.phi_2d = np.zeros((N, N))\n",
    "\n",
    "    def phi(self, k):\n",
    "        \"\"\" 離散コサイン変換(DCT)の基底関数 \"\"\"\n",
    "        # DCT-II\n",
    "        if k == 0:\n",
    "            return np.ones(self.N) / np.sqrt(self.N)\n",
    "        else:\n",
    "            return np.sqrt(2.0 / self.N) * np.cos(\n",
    "                (k * np.pi / (2 * self.N)) * (np.arange(self.N) * 2 + 1)\n",
    "            )\n",
    "\n",
    "    def dct(self, data):\n",
    "        \"\"\" 1次元離散コサイン変換を行う \"\"\"\n",
    "        return self.phi_1d.dot(data)\n",
    "\n",
    "    def idct(self, c):\n",
    "        \"\"\" 1次元離散コサイン逆変換を行う \"\"\"\n",
    "        return np.sum(self.phi_1d.T * c, axis=1)\n",
    "\n",
    "    def get_dct2_phi(self, y, x):\n",
    "        \"\"\" 2次元離散コサイン変換の基底を返す \"\"\"\n",
    "        phi_x, phi_y = np.meshgrid(self.phi_1d[x], self.phi_1d[y])\n",
    "        return phi_x * phi_y\n",
    "\n",
    "    def get_dct2(self, y, x, data):\n",
    "        \"\"\" i,jの2次元DCT係数を返す \"\"\"\n",
    "        phi_2d_phi = np.zeros((self.N, self.N))\n",
    "        phi_2d_phi = self.get_dct2_phi(y, x)\n",
    "        return np.sum(np.sum(phi_2d_phi * data))\n",
    "\n",
    "    def dct2(self, data):\n",
    "        \"\"\" 2次元離散コサイン変換を行う \"\"\"\n",
    "        for y in range(self.N):\n",
    "            for x in range(self.N):\n",
    "                self.phi_2d[y, x] = self.get_dct2(y, x, data)\n",
    "\n",
    "        return self.phi_2d\n",
    "\n",
    "    def idct2(self, c):\n",
    "        \"\"\" 2次元離散コサイン逆変換を行う \"\"\"\n",
    "        idct2_data = np.zeros((self.N, self.N))\n",
    "        phi_2d_phi = np.zeros((self.N, self.N))\n",
    "        for y in range(self.N):\n",
    "            for x in range(self.N):\n",
    "                phi_2d_phi = self.get_dct2_phi(y, x)\n",
    "                idct2_data += c[y,x] * phi_2d_phi\n",
    "\n",
    "        return idct2_data"
   ]
  },
  {
   "cell_type": "markdown",
   "metadata": {},
   "source": [
    "# 係数の計算"
   ]
  },
  {
   "cell_type": "markdown",
   "metadata": {},
   "source": [
    "$\\alpha_k, \\beta_k$を計算する。  \n",
    "1階導関数を相殺するような予測関数は \n",
    "$$u(x)=-\\frac{f_x(0)}{2}(1-x^2)+\\frac{f_x(1)}{2}x^2$$\n",
    "で与えられる。  \n",
    "\n",
    "そのとき、   \n",
    "$$\\alpha_k = -\\sqrt{\\frac{2}{N}}\\sum_{\\ell=0}^{N-1}\\frac{(1-x_\\ell)^2}{2}\\cos(\\pi k x_\\ell)$$  \n",
    "$$\\beta_k = \\sqrt{\\frac{2}{N}}\\sum_{\\ell=0}^{N-1}\\frac{x_\\ell^2}{2}\\cos(\\pi k x_\\ell)$$  \n",
    "\n",
    "$a_k, b_k, c_k, d_k$を計算する。  \n",
    "3階導関数を相殺するような予測関数は \n",
    "$$\n",
    "\\begin{align}\n",
    "u(x) & =( -\\frac{1}{2}f_x(0) + \\frac{1}{12}f^{(3)}_x(0) )(1-x^2)\\\\\n",
    "     & -\\frac{1}{24}f^{(3)}_x(0)(1-x)^4\\\\\n",
    "     & +( \\frac{1}{2}f_x(1)-\\frac{1}{12}f^{(3)}_x(1) )x^2\\\\\n",
    "     & + \\frac{1}{24}f^{(3)}_x(1)x^4\n",
    "\\end{align}\n",
    "$$\n",
    "で与えられる。  \n",
    "\n",
    "そのとき、   \n",
    "$$a_k = -\\sqrt{\\frac{2}{N}}\\sum_{\\ell=0}^{N-1}\\frac{(1-x_\\ell)^2}{2}\\cos(\\pi k x_\\ell)$$  \n",
    "\n",
    "$$b_k= \\sqrt{\\frac{2}{N}}\\sum_{\\ell=0}^{N-1}( \\frac{1}{24}-\\frac{x_\\ell^2}{6}+\\frac{x_\\ell^3}{6}-\\frac{x_\\ell^4}{24} )\\cos(\\pi k x_\\ell)$$  \n",
    "\n",
    "$$c_k = \\sqrt{\\frac{2}{N}}\\sum_{\\ell=0}^{N-1}\\frac{x_\\ell^2}{2}\\cos(\\pi k x_\\ell)$$\n",
    "\n",
    "$$d_k = \\sqrt{\\frac{2}{N}}\\sum_{\\ell=0}^{N-1}( -\\frac{x_\\ell^2}{12}+\\frac{x_\\ell^4}{24} )\\cos(\\pi k x_\\ell)$$  "
   ]
  },
  {
   "cell_type": "code",
   "execution_count": 3,
   "metadata": {},
   "outputs": [
    {
     "data": {
      "text/plain": [
       "<matplotlib.legend.Legend at 0x7f647624bcc0>"
      ]
     },
     "execution_count": 3,
     "metadata": {},
     "output_type": "execute_result"
    },
    {
     "data": {
      "image/png": "[encoded data removed]",
      "text/plain": [
       "<Figure size 432x288 with 1 Axes>"
      ]
     },
     "metadata": {
      "needs_background": "light"
     },
     "output_type": "display_data"
    }
   ],
   "source": [
    "sampling_x = (0.5 + np.arange(N)) / N\n",
    "u_1 = (1 - sampling_x) ** 2 / 2\n",
    "u_2 = 1 / 24 - sampling_x ** 2 / 6 + sampling_x ** 3 / 6 - sampling_x ** 4 / 24\n",
    "u_3 = sampling_x ** 2 / 2\n",
    "u_4 = -sampling_x ** 2 / 12 + sampling_x ** 4 / 24\n",
    "plt.plot(u_1, label=\"u_1\")\n",
    "plt.plot(u_2, label=\"u_2\")\n",
    "plt.plot(u_3, label=\"u_3\")\n",
    "plt.plot(u_4, label=\"u_4\")\n",
    "plt.legend()"
   ]
  },
  {
   "cell_type": "code",
   "execution_count": 4,
   "metadata": {},
   "outputs": [
    {
     "data": {
      "text/plain": [
       "array([-0.4695631 , -0.40264519, -0.09857256, -0.04209093, -0.02209709,\n",
       "       -0.01255643, -0.00700534, -0.0031689 ])"
      ]
     },
     "execution_count": 4,
     "metadata": {},
     "output_type": "execute_result"
    }
   ],
   "source": [
    "ak = - scipy.fftpack.dct(u_1,norm=\"ortho\")\n",
    "ak"
   ]
  },
  {
   "cell_type": "code",
   "execution_count": 5,
   "metadata": {},
   "outputs": [
    {
     "data": {
      "text/plain": [
       "array([5.49963549e-02, 4.10626933e-02, 2.56510471e-03, 5.05282177e-04,\n",
       "       1.58247367e-04, 6.27721528e-05, 2.74988517e-05, 1.08051832e-05])"
      ]
     },
     "execution_count": 5,
     "metadata": {},
     "output_type": "execute_result"
    }
   ],
   "source": [
    "bk = scipy.fftpack.dct(u_2,norm=\"ortho\")\n",
    "bk"
   ]
  },
  {
   "cell_type": "code",
   "execution_count": 6,
   "metadata": {},
   "outputs": [
    {
     "data": {
      "text/plain": [
       "array([ 0.4695631 , -0.40264519,  0.09857256, -0.04209093,  0.02209709,\n",
       "       -0.01255643,  0.00700534, -0.0031689 ])"
      ]
     },
     "execution_count": 6,
     "metadata": {},
     "output_type": "execute_result"
    }
   ],
   "source": [
    "ck = scipy.fftpack.dct(u_3,norm=\"ortho\")\n",
    "ck"
   ]
  },
  {
   "cell_type": "code",
   "execution_count": 7,
   "metadata": {},
   "outputs": [
    {
     "data": {
      "text/plain": [
       "array([-5.49963549e-02,  4.10626933e-02, -2.56510471e-03,  5.05282177e-04,\n",
       "       -1.58247367e-04,  6.27721528e-05, -2.74988517e-05,  1.08051832e-05])"
      ]
     },
     "execution_count": 7,
     "metadata": {},
     "output_type": "execute_result"
    }
   ],
   "source": [
    "dk = scipy.fftpack.dct(u_4,norm=\"ortho\")\n",
    "dk"
   ]
  },
  {
   "cell_type": "code",
   "execution_count": 8,
   "metadata": {},
   "outputs": [
    {
     "data": {
      "text/plain": [
       "array([-0.4695631 , -0.40264519, -0.09857256, -0.04209093, -0.02209709,\n",
       "       -0.01255643, -0.00700534, -0.0031689 ])"
      ]
     },
     "execution_count": 8,
     "metadata": {},
     "output_type": "execute_result"
    }
   ],
   "source": [
    "alpha = ak\n",
    "alpha"
   ]
  },
  {
   "cell_type": "code",
   "execution_count": 9,
   "metadata": {},
   "outputs": [
    {
     "data": {
      "text/plain": [
       "array([ 0.4695631 , -0.40264519,  0.09857256, -0.04209093,  0.02209709,\n",
       "       -0.01255643,  0.00700534, -0.0031689 ])"
      ]
     },
     "execution_count": 9,
     "metadata": {},
     "output_type": "execute_result"
    }
   ],
   "source": [
    "beta = ck\n",
    "beta"
   ]
  },
  {
   "cell_type": "code",
   "execution_count": 10,
   "metadata": {},
   "outputs": [
    {
     "data": {
      "text/plain": [
       "array([-0.64313761, -0.51699881, -0.08421175, -0.03262109, -0.01652018,\n",
       "       -0.00923383, -0.00510908, -0.00230187])"
      ]
     },
     "execution_count": 10,
     "metadata": {},
     "output_type": "execute_result"
    }
   ],
   "source": [
    "Ak = (2 * ak - 16 * bk) / np.sqrt(N)\n",
    "Ak"
   ]
  },
  {
   "cell_type": "code",
   "execution_count": 11,
   "metadata": {},
   "outputs": [
    {
     "data": {
      "text/plain": [
       "array([ 0.64313761, -0.51699881,  0.08421175, -0.03262109,  0.01652018,\n",
       "       -0.00923383,  0.00510908, -0.00230187])"
      ]
     },
     "execution_count": 11,
     "metadata": {},
     "output_type": "execute_result"
    }
   ],
   "source": [
    "Bk = (2 * ck - 16 * dk) / np.sqrt(N)\n",
    "Bk"
   ]
  },
  {
   "cell_type": "code",
   "execution_count": 12,
   "metadata": {},
   "outputs": [
    {
     "data": {
      "text/plain": [
       "array([-0.95424398, -0.74928449, -0.09872217, -0.03547939, -0.01741536,\n",
       "       -0.00958892, -0.00526463, -0.00236299])"
      ]
     },
     "execution_count": 12,
     "metadata": {},
     "output_type": "execute_result"
    }
   ],
   "source": [
    "Ck = (2 * ak - 32 * bk) / np.sqrt(N)\n",
    "Ck"
   ]
  },
  {
   "cell_type": "code",
   "execution_count": 13,
   "metadata": {},
   "outputs": [
    {
     "data": {
      "text/plain": [
       "array([ 0.95424398, -0.74928449,  0.09872217, -0.03547939,  0.01741536,\n",
       "       -0.00958892,  0.00526463, -0.00236299])"
      ]
     },
     "execution_count": 13,
     "metadata": {},
     "output_type": "execute_result"
    }
   ],
   "source": [
    "Dk = (2 * ck - 32 * dk) / np.sqrt(N)\n",
    "Dk"
   ]
  },
  {
   "cell_type": "markdown",
   "metadata": {
    "toc-hr-collapsed": false
   },
   "source": [
    "# DCTして残差を計算"
   ]
  },
  {
   "cell_type": "markdown",
   "metadata": {},
   "source": [
    "$\n",
    "V_k = F_k - U_k\\\\\n",
    "V_k = F_k - A_k(F_0-F_0^L) -B_k(F_0^R-F_0)-C_k(F_1+F_1^L)-D_k(F_1^R+F_1)\n",
    "$"
   ]
  },
  {
   "cell_type": "code",
   "execution_count": 14,
   "metadata": {},
   "outputs": [],
   "source": [
    "IMG = BOAT"
   ]
  },
  {
   "cell_type": "code",
   "execution_count": 15,
   "metadata": {},
   "outputs": [],
   "source": [
    "Fk = np.zeros(IMG.img.shape)"
   ]
  },
  {
   "cell_type": "markdown",
   "metadata": {
    "toc-hr-collapsed": false
   },
   "source": [
    "## DCT 縦方向"
   ]
  },
  {
   "cell_type": "markdown",
   "metadata": {},
   "source": [
    "2次元入力信号を垂直方向の一次元信号が水平方向に並列に並んでいるものとみなし、各列において8画素単位の1次元DCTを適用する"
   ]
  },
  {
   "cell_type": "code",
   "execution_count": 16,
   "metadata": {},
   "outputs": [],
   "source": [
    "for row in range(IMG.img.shape[0] // 8):\n",
    "    for col in range(IMG.img.shape[1]):\n",
    "        eight_points = IMG.img[8 * row : 8 * (row + 1), col]\n",
    "        c = scipy.fftpack.dct(eight_points,norm=\"ortho\")\n",
    "        Fk[8 * row : 8 * (row + 1), col] = c"
   ]
  },
  {
   "cell_type": "markdown",
   "metadata": {},
   "source": [
    "## 縦方向の残差"
   ]
  },
  {
   "cell_type": "markdown",
   "metadata": {},
   "source": [
    "### 3階の導関数"
   ]
  },
  {
   "cell_type": "code",
   "execution_count": 17,
   "metadata": {},
   "outputs": [],
   "source": [
    "for row in range(Fk.shape[0] // 8):\n",
    "    for col in range(Fk.shape[1]):\n",
    "        F = Fk[8 * row : 8 * (row + 1), col]\n",
    "\n",
    "        F_0_r = 0\n",
    "        F_1_r = 0\n",
    "        if row is not Fk.shape[0] // 8 - 1:\n",
    "            F_0_r = Fk[8 * (row + 1), col]\n",
    "            F_1_r = Fk[8 * (row + 1) + 1, col]\n",
    "\n",
    "        F_0_l = 0\n",
    "        F_1_l = 1\n",
    "        if row is not 0:\n",
    "            F_0_l = Fk[8 * (row - 1), col]\n",
    "            F_1_l = Fk[8 * (row - 1) + 1, col]\n",
    "\n",
    "        # 残差\n",
    "        F_0 = F[0]\n",
    "        F_1 = F[1]\n",
    "\n",
    "        F = (\n",
    "            F\n",
    "            - Ak * (F_0 - F_0_l)\n",
    "            - Bk * (F_0_r - F_0)\n",
    "            - Ck * (F_1 + F_1_l)\n",
    "            - Dk * (F_1_r + F_1)\n",
    "        )\n",
    "        # F_0, F_1は残す\n",
    "        F[0] = F_0\n",
    "        F[1] = F_1\n",
    "        # F_0 V_1 V_2 V_3 V_4 V_5 V_6 V_7\n",
    "        Fk[8 * row : 8 * (row + 1), col] = F"
   ]
  },
  {
   "cell_type": "markdown",
   "metadata": {},
   "source": [
    "### 1階の導関数"
   ]
  },
  {
   "cell_type": "code",
   "execution_count": 18,
   "metadata": {},
   "outputs": [],
   "source": [
    "for row in range(Fk.shape[0] // 8):\n",
    "    for col in range(Fk.shape[1]):\n",
    "        F = Fk[8 * row : 8 * (row + 1), col]\n",
    "\n",
    "        F_0_r = 0\n",
    "        if row is not Fk.shape[0] // 8 - 1:\n",
    "            F_0_r = Fk[8 * (row + 1), col]\n",
    "\n",
    "        F_0_l = 0\n",
    "        if row is not 0:\n",
    "            F_0_l = Fk[8 * (row - 1), col]\n",
    "\n",
    "        # 残差\n",
    "        F_0 = F[0]\n",
    "        F_temp = F - alpha * (F_0_r - F_0) / np.sqrt(N) - beta * (F_0 - F_0_l) / np.sqrt(N)\n",
    "        # F_0は残す\n",
    "        F[1] = F_temp[1]\n",
    "        # F_0 V_1 V_2 V_3 V_4 V_5 V_6 V_7\n",
    "        Fk[8 * row : 8 * (row + 1), col] = F"
   ]
  },
  {
   "cell_type": "markdown",
   "metadata": {},
   "source": [
    "## DCT 横方向"
   ]
  },
  {
   "cell_type": "code",
   "execution_count": 19,
   "metadata": {},
   "outputs": [],
   "source": [
    "for row in range(Fk.shape[0]):\n",
    "    for col in range(Fk.shape[1] // 8):\n",
    "        eight_points = Fk[row, 8 * col : 8 * (col + 1)]\n",
    "        c = scipy.fftpack.dct(eight_points,norm=\"ortho\")\n",
    "        Fk[row, 8 * col : 8 * (col + 1)] = c"
   ]
  },
  {
   "cell_type": "markdown",
   "metadata": {},
   "source": [
    "## 横方向の残差"
   ]
  },
  {
   "cell_type": "markdown",
   "metadata": {},
   "source": [
    "### 3階の導関数"
   ]
  },
  {
   "cell_type": "code",
   "execution_count": 20,
   "metadata": {},
   "outputs": [],
   "source": [
    "for row in range(Fk.shape[0]):\n",
    "    for col in range(Fk.shape[1] // 8):\n",
    "        F = Fk[row, 8 * col : 8 * (col + 1)]\n",
    "\n",
    "        F_0_r = 0\n",
    "        F_1_r = 0\n",
    "        if col is not Fk.shape[1] // 8 - 1:\n",
    "            F_0_r = Fk[row, 8 * (col + 1)]\n",
    "            F_1_r = Fk[row, 8 * (col + 1) + 1]\n",
    "\n",
    "        F_0_l = 0\n",
    "        F_1_l = 0\n",
    "        if col is not 0:\n",
    "            F_0_l = Fk[row, 8 * (col - 1)]\n",
    "            F_1_l = Fk[row, 8 * (col - 1) + 1]\n",
    "\n",
    "        # 残差\n",
    "        F_0 = F[0]\n",
    "        F_1 = F[1]\n",
    "\n",
    "        F = (\n",
    "            F\n",
    "            - Ak * (F_0 - F_0_l)\n",
    "            - Bk * (F_0_r - F_0)\n",
    "            - Ck * (F_1 + F_1_l)\n",
    "            - Dk * (F_1_r + F_1)\n",
    "        )\n",
    "        # F_0は残す\n",
    "        F[0] = F_0\n",
    "        F[1] = F_1\n",
    "        # F_0 V_1 V_2 V_3 V_4 V_5 V_6 V_7\n",
    "        Fk[row, 8 * col : 8 * (col + 1)] = F"
   ]
  },
  {
   "cell_type": "markdown",
   "metadata": {},
   "source": [
    "### 1階の導関数"
   ]
  },
  {
   "cell_type": "code",
   "execution_count": 21,
   "metadata": {},
   "outputs": [],
   "source": [
    "for row in range(Fk.shape[0]):\n",
    "    for col in range(Fk.shape[1] // 8):\n",
    "        F = Fk[row, 8 * col : 8 * (col + 1)]\n",
    "\n",
    "        F_0_r = 0\n",
    "        if col is not Fk.shape[1] // 8 - 1:\n",
    "            F_0_r = Fk[row, 8 * (col + 1)]\n",
    "\n",
    "        F_0_l = 0\n",
    "        if col is not 0:\n",
    "            F_0_l = Fk[row, 8 * (col - 1)]\n",
    "\n",
    "        # 残差\n",
    "        F_0 = F[0]\n",
    "        F_temp = F - alpha * (F_0_r - F_0) / np.sqrt(N) - beta * (F_0 - F_0_l) / np.sqrt(N)\n",
    "        # F_0は残す\n",
    "        F[1] = F_temp[1]\n",
    "        # F_0 V_1 V_2 V_3 V_4 V_5 V_6 V_7\n",
    "        Fk[row, 8 * col : 8 * (col + 1)] = F"
   ]
  },
  {
   "cell_type": "markdown",
   "metadata": {},
   "source": [
    "# 係数の確保"
   ]
  },
  {
   "cell_type": "code",
   "execution_count": 22,
   "metadata": {},
   "outputs": [],
   "source": [
    "Fk_Ori = np.copy(Fk)"
   ]
  },
  {
   "cell_type": "markdown",
   "metadata": {},
   "source": [
    "# 低域3成分 (0,1)(1,0)(1,1)の絶対値の和"
   ]
  },
  {
   "cell_type": "code",
   "execution_count": 23,
   "metadata": {},
   "outputs": [],
   "source": [
    "low_3_value = 0\n",
    "others_value = 0"
   ]
  },
  {
   "cell_type": "code",
   "execution_count": 24,
   "metadata": {},
   "outputs": [],
   "source": [
    "for row in range(Fk.shape[0] // 8):\n",
    "    for col in range(Fk.shape[1] // 8):\n",
    "        block = Fk[row * 8 : (row + 1) * 8, col * 8 : (col + 1) * 8]\n",
    "        low_3_value += np.abs(block[0, 1]) + np.abs(block[1, 0]) + np.abs(block[1, 1])\n",
    "        others_value += (\n",
    "            np.sum(np.sum(np.abs(block)))\n",
    "            - np.abs(block[0, 0])\n",
    "            - np.abs(block[0, 1])\n",
    "            - np.abs(block[1, 0])\n",
    "            - np.abs(block[1, 1])\n",
    "        )"
   ]
  },
  {
   "cell_type": "code",
   "execution_count": 25,
   "metadata": {},
   "outputs": [
    {
     "data": {
      "text/plain": [
       "386018.3257699221"
      ]
     },
     "execution_count": 25,
     "metadata": {},
     "output_type": "execute_result"
    }
   ],
   "source": [
    "low_3_value"
   ]
  },
  {
   "cell_type": "code",
   "execution_count": 26,
   "metadata": {},
   "outputs": [
    {
     "data": {
      "text/plain": [
       "1269662.4201824118"
      ]
     },
     "execution_count": 26,
     "metadata": {},
     "output_type": "execute_result"
    }
   ],
   "source": [
    "others_value"
   ]
  },
  {
   "cell_type": "markdown",
   "metadata": {},
   "source": [
    "# 逆変換"
   ]
  },
  {
   "cell_type": "markdown",
   "metadata": {},
   "source": [
    "$\n",
    "F_k = F_k + U_k\\\\\n",
    "F_k = V_k + A_k(F_0-F_0^L) +B_k(F_0^R-F_0)+C_k(F_1+F_1^L)+D_k(F_1^R+F_1)\n",
    "$"
   ]
  },
  {
   "cell_type": "code",
   "execution_count": 27,
   "metadata": {},
   "outputs": [],
   "source": [
    "# recover = np.zeros(IMG.img.shape).astype(\"uint8\")\n",
    "recover = np.zeros(IMG.img.shape)"
   ]
  },
  {
   "cell_type": "markdown",
   "metadata": {
    "toc-hr-collapsed": false
   },
   "source": [
    "## 横方向の残差"
   ]
  },
  {
   "cell_type": "markdown",
   "metadata": {},
   "source": [
    "### 1階の導関数 "
   ]
  },
  {
   "cell_type": "code",
   "execution_count": 28,
   "metadata": {},
   "outputs": [],
   "source": [
    "for row in range(Fk.shape[0]):\n",
    "    for col in range(Fk.shape[1] // 8):\n",
    "        F = Fk[row, 8 * col : 8 * col + 8]\n",
    "\n",
    "        F_0_r = 0\n",
    "        if col is not Fk.shape[1] // 8 - 1:\n",
    "            F_0_r = Fk[row, 8 * (col + 1)]\n",
    "\n",
    "        F_0_l = 0\n",
    "        if col is not 0:\n",
    "            F_0_l = Fk[row, 8 * (col - 1)]\n",
    "\n",
    "        # 残差\n",
    "        F_0 = F[0]\n",
    "        F_temp = F + alpha * (F_0_r - F_0) / np.sqrt(N) + beta * (F_0 - F_0_l) / np.sqrt(N)\n",
    "        # F_0は残す\n",
    "        F[1] = F_temp[1]\n",
    "        # F_0 V_1 V_2 V_3 V_4 V_5 V_6 V_7\n",
    "        Fk[row, 8 * col : 8 * col + 8] = F"
   ]
  },
  {
   "cell_type": "markdown",
   "metadata": {},
   "source": [
    "### 3階の導関数"
   ]
  },
  {
   "cell_type": "code",
   "execution_count": 29,
   "metadata": {},
   "outputs": [],
   "source": [
    "for row in range(Fk.shape[0]):\n",
    "    for col in range(Fk.shape[1] // 8):\n",
    "        F = Fk[row, 8 * col : 8 * (col + 1)]\n",
    "\n",
    "        F_0_r = 0\n",
    "        F_1_r = 0\n",
    "        if col is not Fk.shape[1] // 8 - 1:\n",
    "            F_0_r = Fk[row, 8 * (col + 1)]\n",
    "            F_1_r = Fk[row, 8 * (col + 1) + 1]\n",
    "\n",
    "        F_0_l = 0\n",
    "        F_1_l = 0\n",
    "        if col is not 0:\n",
    "            F_0_l = Fk[row, 8 * (col - 1)]\n",
    "            F_1_l = Fk[row, 8 * (col - 1) + 1]\n",
    "\n",
    "        # 残差\n",
    "        F_0 = F[0]\n",
    "        F_1 = F[1]\n",
    "\n",
    "        F = (\n",
    "            F\n",
    "            + Ak * (F_0 - F_0_l)\n",
    "            + Bk * (F_0_r - F_0)\n",
    "            + Ck * (F_1 + F_1_l)\n",
    "            + Dk * (F_1_r + F_1)\n",
    "        )\n",
    "        # F_0は残す\n",
    "        F[0] = F_0\n",
    "        F[1] = F_1\n",
    "        # F_0 V_1 V_2 V_3 V_4 V_5 V_6 V_7\n",
    "        Fk[row, 8 * col : 8 * (col + 1)] = F"
   ]
  },
  {
   "cell_type": "markdown",
   "metadata": {},
   "source": [
    "### IDCT 横方向"
   ]
  },
  {
   "cell_type": "code",
   "execution_count": 30,
   "metadata": {},
   "outputs": [],
   "source": [
    "for row in range(Fk.shape[0]):\n",
    "    for col in range(Fk.shape[1] // 8):\n",
    "        F = Fk[row, 8 * col : 8 * col + 8]\n",
    "        data = scipy.fftpack.idct(F,norm=\"ortho\")\n",
    "        # Fkに代入した後、縦方向に対して処理\n",
    "        Fk[row, 8 * col : 8 * col + 8] = data\n",
    "        # 復元画像\n",
    "#         recover[row, 8 * col : 8 * col + 8] = data"
   ]
  },
  {
   "cell_type": "markdown",
   "metadata": {
    "toc-hr-collapsed": false
   },
   "source": [
    "## 縦方向"
   ]
  },
  {
   "cell_type": "markdown",
   "metadata": {},
   "source": [
    "### 1階の導関数"
   ]
  },
  {
   "cell_type": "code",
   "execution_count": 31,
   "metadata": {},
   "outputs": [],
   "source": [
    "for row in range(Fk.shape[0] // 8):\n",
    "    for col in range(Fk.shape[1]):\n",
    "        F = Fk[8 * row : 8 * row + 8, col]\n",
    "\n",
    "        F_0_r = 0\n",
    "        if row is not Fk.shape[0] // 8 - 1:\n",
    "            F_0_r = Fk[8 * (row + 1), col]\n",
    "\n",
    "        F_0_l = 0\n",
    "        if row is not 0:\n",
    "            F_0_l = Fk[8 * (row - 1), col]\n",
    "\n",
    "        # 残差\n",
    "        F_0 = F[0]\n",
    "        F_temp = F + alpha * (F_0_r - F_0) / np.sqrt(N) + beta * (F_0 - F_0_l) / np.sqrt(N)\n",
    "        # F_0は残す\n",
    "        F[1] = F_temp[1]\n",
    "        # F_0 F_1 F_2 F_3 F_4 F_5 F_6 F_7\n",
    "        Fk[8 * row : 8 * row + 8, col] = F"
   ]
  },
  {
   "cell_type": "markdown",
   "metadata": {},
   "source": [
    "### 3階の導関数"
   ]
  },
  {
   "cell_type": "code",
   "execution_count": 32,
   "metadata": {},
   "outputs": [],
   "source": [
    "for row in range(Fk.shape[0] // 8):\n",
    "    for col in range(Fk.shape[1]):\n",
    "        F = Fk[8 * row : 8 * (row + 1), col]\n",
    "\n",
    "        F_0_r = 0\n",
    "        F_1_r = 0\n",
    "        if row is not Fk.shape[0] // 8 - 1:\n",
    "            F_0_r = Fk[8 * (row + 1), col]\n",
    "            F_1_r = Fk[8 * (row + 1) + 1, col]\n",
    "\n",
    "        F_0_l = 0\n",
    "        F_1_l = 1\n",
    "        if row is not 0:\n",
    "            F_0_l = Fk[8 * (row - 1), col]\n",
    "            F_1_l = Fk[8 * (row - 1) + 1, col]\n",
    "\n",
    "        # 残差\n",
    "        F_0 = F[0]\n",
    "        F_1 = F[1]\n",
    "\n",
    "        F = (\n",
    "            F\n",
    "            + Ak * (F_0 - F_0_l)\n",
    "            + Bk * (F_0_r - F_0)\n",
    "            + Ck * (F_1 + F_1_l)\n",
    "            + Dk * (F_1_r + F_1)\n",
    "        )\n",
    "        # F_0, F_1は残す\n",
    "        F[0] = F_0\n",
    "        F[1] = F_1\n",
    "        # F_0 V_1 V_2 V_3 V_4 V_5 V_6 V_7\n",
    "        Fk[8 * row : 8 * (row + 1), col] = F"
   ]
  },
  {
   "cell_type": "markdown",
   "metadata": {},
   "source": [
    "### 縦方向IDCT"
   ]
  },
  {
   "cell_type": "code",
   "execution_count": 33,
   "metadata": {},
   "outputs": [],
   "source": [
    "for row in range(Fk.shape[0] // 8):\n",
    "    for col in range(Fk.shape[1]):\n",
    "        F = Fk[8 * row : 8 * (row + 1), col]\n",
    "        data = scipy.fftpack.idct(F,norm=\"ortho\")\n",
    "        # 復元画像\n",
    "        recover[8 * row : 8 * (row + 1), col] = data\n",
    "        # FKに代入した後、横方向に対して処理\n",
    "#         Fk[8 * row : 8 * (row + 1), col] = data"
   ]
  },
  {
   "cell_type": "code",
   "execution_count": 34,
   "metadata": {},
   "outputs": [
    {
     "data": {
      "text/plain": [
       "<matplotlib.image.AxesImage at 0x7f64759492e8>"
      ]
     },
     "execution_count": 34,
     "metadata": {},
     "output_type": "execute_result"
    },
    {
     "data": {
      "image/png": "[encoded data removed]",
      "text/plain": [
       "<Figure size 432x288 with 1 Axes>"
      ]
     },
     "metadata": {
      "needs_background": "light"
     },
     "output_type": "display_data"
    }
   ],
   "source": [
    "plt.imshow(np.round(recover), cmap=\"gray\")"
   ]
  },
  {
   "cell_type": "code",
   "execution_count": 35,
   "metadata": {},
   "outputs": [
    {
     "data": {
      "text/plain": [
       "<matplotlib.image.AxesImage at 0x7f64756b20f0>"
      ]
     },
     "execution_count": 35,
     "metadata": {},
     "output_type": "execute_result"
    },
    {
     "data": {
      "image/png": "[encoded data removed]",
      "text/plain": [
       "<Figure size 432x288 with 1 Axes>"
      ]
     },
     "metadata": {
      "needs_background": "light"
     },
     "output_type": "display_data"
    }
   ],
   "source": [
    "plt.imshow(IMG.img, cmap=\"gray\")"
   ]
  },
  {
   "cell_type": "code",
   "execution_count": 36,
   "metadata": {},
   "outputs": [
    {
     "data": {
      "text/plain": [
       "array([166., 162., 166., 166., 167., 170., 166., 169., 170., 166.])"
      ]
     },
     "execution_count": 36,
     "metadata": {},
     "output_type": "execute_result"
    }
   ],
   "source": [
    "recover[0, 0:10]"
   ]
  },
  {
   "cell_type": "code",
   "execution_count": 37,
   "metadata": {},
   "outputs": [
    {
     "data": {
      "text/plain": [
       "array([166, 162, 166, 166, 167, 170, 166, 169, 170, 166], dtype=uint8)"
      ]
     },
     "execution_count": 37,
     "metadata": {},
     "output_type": "execute_result"
    }
   ],
   "source": [
    "IMG.img[0, 0:10]"
   ]
  },
  {
   "cell_type": "markdown",
   "metadata": {},
   "source": [
    "ちゃんと復元できた"
   ]
  },
  {
   "cell_type": "markdown",
   "metadata": {},
   "source": [
    "# 量子化テーブル"
   ]
  },
  {
   "cell_type": "code",
   "execution_count": 38,
   "metadata": {},
   "outputs": [],
   "source": [
    "Q50_Luminance = np.array(\n",
    "    [\n",
    "        [16, 11, 10, 16, 24, 40, 51, 61],\n",
    "        [12, 12, 14, 19, 26, 58, 60, 55],\n",
    "        [14, 13, 16, 24, 40, 57, 69, 56],\n",
    "        [14, 17, 22, 29, 51, 87, 80, 62],\n",
    "        [18, 22, 37, 56, 68, 109, 103, 77],\n",
    "        [24, 35, 55, 64, 81, 104, 113, 92],\n",
    "        [49, 64, 78, 87, 103, 121, 120, 101],\n",
    "        [72, 92, 95, 98, 112, 100, 103, 99],\n",
    "    ]\n",
    ")"
   ]
  },
  {
   "cell_type": "markdown",
   "metadata": {},
   "source": [
    "$$\n",
    "S = (Q < 50)?\\frac{5000}{Q}:200-2Q\\\\\n",
    "Q_s[i] = \\left[\\frac{S\\times Q_b[i]+50}{100}\\right]\n",
    "$$"
   ]
  },
  {
   "cell_type": "code",
   "execution_count": 39,
   "metadata": {},
   "outputs": [
    {
     "name": "stdout",
     "output_type": "stream",
     "text": [
      "S= 2.0328671679321744\n",
      "77 37.71138299496356 0.9558953164702867 7620.7686767578125 2986.7646484375\n"
     ]
    }
   ],
   "source": [
    "# Q=80における量子化テーブルをスケーリング\n",
    "Q = 77 \n",
    "if Q < 50:\n",
    "    S = 5000 / Q\n",
    "else:\n",
    "    S = 200 - 2 * Q\n",
    "\n",
    "S = np.floor(S)\n",
    "\n",
    "Q_Luminance = np.zeros((8, 8))\n",
    "for row in range(8):\n",
    "    for col in range(8):\n",
    "        Q_Luminance[row, col] = np.floor((S * Q50_Luminance[row, col] + 50) / 100)\n",
    "        \n",
    "Fk = np.copy(Fk_Ori)\n",
    "Q_Fk = np.zeros(Fk.shape)\n",
    "for row in range(IMG.img.shape[0] // 8):\n",
    "    for col in range(IMG.img.shape[1] // 8):\n",
    "        block = Fk[row * 8 : (row + 1) * 8, col * 8 : (col + 1) * 8]\n",
    "        # 量子化\n",
    "        block = np.round(block / Q_Luminance)\n",
    "        # 逆量子化\n",
    "        block = block * Q_Luminance\n",
    "        Q_Fk[row * 8 : (row+1)*8, col * 8 : (col+1)*8] = block\n",
    "\n",
    "Fk = np.copy(Q_Fk)\n",
    "Q_recover = np.zeros(Q_Fk.shape)\n",
    "# 横方向\n",
    "for row in range(Fk.shape[0]):\n",
    "    for col in range(Fk.shape[1] // 8):\n",
    "        F = Fk[row, 8 * col : 8 * col + 8]\n",
    "\n",
    "        F_0_r = 0\n",
    "        if col is not Fk.shape[1] // 8 - 1:\n",
    "            F_0_r = Fk[row, 8 * (col + 1)]\n",
    "\n",
    "        F_0_l = 0\n",
    "        if col is not 0:\n",
    "            F_0_l = Fk[row, 8 * (col - 1)]\n",
    "\n",
    "        # 残差\n",
    "        F_0 = F[0]\n",
    "        F_temp = F + alpha * (F_0_r - F_0) / np.sqrt(N) + beta * (F_0 - F_0_l) / np.sqrt(N)\n",
    "        # F_0は残す\n",
    "        F[1] = F_temp[1]\n",
    "        # F_0 V_1 V_2 V_3 V_4 V_5 V_6 V_7\n",
    "        Fk[row, 8 * col : 8 * col + 8] = F\n",
    "\n",
    "for row in range(Fk.shape[0]):\n",
    "    for col in range(Fk.shape[1] // 8):\n",
    "        F = Fk[row, 8 * col : 8 * (col + 1)]\n",
    "\n",
    "        F_0_r = 0\n",
    "        F_1_r = 0\n",
    "        if col is not Fk.shape[1] // 8 - 1:\n",
    "            F_0_r = Fk[row, 8 * (col + 1)]\n",
    "            F_1_r = Fk[row, 8 * (col + 1) + 1]\n",
    "\n",
    "        F_0_l = 0\n",
    "        F_1_l = 0\n",
    "        if col is not 0:\n",
    "            F_0_l = Fk[row, 8 * (col - 1)]\n",
    "            F_1_l = Fk[row, 8 * (col - 1) + 1]\n",
    "\n",
    "        # 残差\n",
    "        F_0 = F[0]\n",
    "        F_1 = F[1]\n",
    "\n",
    "        F = (\n",
    "            F\n",
    "            + Ak * (F_0 - F_0_l)\n",
    "            + Bk * (F_0_r - F_0)\n",
    "            + Ck * (F_1 + F_1_l)\n",
    "            + Dk * (F_1_r + F_1)\n",
    "        )\n",
    "        # F_0は残す\n",
    "        F[0] = F_0\n",
    "        F[1] = F_1\n",
    "        # F_0 V_1 V_2 V_3 V_4 V_5 V_6 V_7\n",
    "        Fk[row, 8 * col : 8 * (col + 1)] = F\n",
    "\n",
    "for row in range(Fk.shape[0]):\n",
    "    for col in range(Fk.shape[1] // 8):\n",
    "        F = Fk[row, 8 * col : 8 * col + 8]\n",
    "        data = scipy.fftpack.idct(F,norm=\"ortho\")\n",
    "        # Fkに代入した後、縦方向に対して処理\n",
    "        Fk[row, 8 * col : 8 * col + 8] = data\n",
    "        # 復元画像\n",
    "#         recover[row, 8 * col : 8 * col + 8] = data\n",
    "\n",
    "# 縦方向\n",
    "for row in range(Fk.shape[0] // 8):\n",
    "    for col in range(Fk.shape[1]):\n",
    "        F = Fk[8 * row : 8 * row + 8, col]\n",
    "\n",
    "        F_0_r = 0\n",
    "        if row is not Fk.shape[0] // 8 - 1:\n",
    "            F_0_r = Fk[8 * (row + 1), col]\n",
    "\n",
    "        F_0_l = 0\n",
    "        if row is not 0:\n",
    "            F_0_l = Fk[8 * (row - 1), col]\n",
    "\n",
    "        # 残差\n",
    "        F_0 = F[0]\n",
    "        F_temp = F + alpha * (F_0_r - F_0) / np.sqrt(N) + beta * (F_0 - F_0_l) / np.sqrt(N)\n",
    "        # F_0は残す\n",
    "        F[1] = F_temp[1]\n",
    "        # F_0 F_1 F_2 F_3 F_4 F_5 F_6 F_7\n",
    "        Fk[8 * row : 8 * row + 8, col] = F\n",
    "        \n",
    "for row in range(Fk.shape[0] // 8):\n",
    "    for col in range(Fk.shape[1]):\n",
    "        F = Fk[8 * row : 8 * (row + 1), col]\n",
    "\n",
    "        F_0_r = 0\n",
    "        F_1_r = 0\n",
    "        if row is not Fk.shape[0] // 8 - 1:\n",
    "            F_0_r = Fk[8 * (row + 1), col]\n",
    "            F_1_r = Fk[8 * (row + 1) + 1, col]\n",
    "\n",
    "        F_0_l = 0\n",
    "        F_1_l = 1\n",
    "        if row is not 0:\n",
    "            F_0_l = Fk[8 * (row - 1), col]\n",
    "            F_1_l = Fk[8 * (row - 1) + 1, col]\n",
    "\n",
    "        # 残差\n",
    "        F_0 = F[0]\n",
    "        F_1 = F[1]\n",
    "\n",
    "        F = (\n",
    "            F\n",
    "            + Ak * (F_0 - F_0_l)\n",
    "            + Bk * (F_0_r - F_0)\n",
    "            + Ck * (F_1 + F_1_l)\n",
    "            + Dk * (F_1_r + F_1)\n",
    "        )\n",
    "        # F_0, F_1は残す\n",
    "        F[0] = F_0\n",
    "        F[1] = F_1\n",
    "        # F_0 V_1 V_2 V_3 V_4 V_5 V_6 V_7\n",
    "        Fk[8 * row : 8 * (row + 1), col] = F\n",
    "        \n",
    "for row in range(Fk.shape[0] // 8):\n",
    "    for col in range(Fk.shape[1]):\n",
    "        F = Fk[8 * row : 8 * (row + 1), col]\n",
    "        data = scipy.fftpack.idct(F,norm=\"ortho\")\n",
    "        # 復元画像\n",
    "        Q_recover[8 * row : 8 * (row + 1), col] = data\n",
    "        # FKに代入した後、横方向に対して処理\n",
    "#         Fk[8 * row : 8 * (row + 1), col] = data\n",
    "\n",
    "Q_recover = np.round(Q_recover)\n",
    "import pandas as pd\n",
    "qfk = pd.Series(Q_Fk.flatten())\n",
    "pro = qfk.value_counts() / qfk.value_counts().sum()\n",
    "\n",
    "S = 0\n",
    "for pi in pro:\n",
    "    S -= pi * np.log2(pi)\n",
    "\n",
    "MSE = np.sum(np.sum(np.power((IMG.img - Q_recover),2)))/(Q_recover.shape[0] * Q_recover.shape[1])\n",
    "\n",
    "PSNR = 10 * np.log10(255 * 255 / MSE)\n",
    "\n",
    "MSSIM = ssim(IMG.img,Q_recover.astype(IMG.img.dtype),gaussian_weights=True,sigma=1.5,K1=0.01,K2=0.03)\n",
    "\n",
    "w_e = 0\n",
    "e_e = 0\n",
    "n_e = 0\n",
    "s_e = 0\n",
    "nw_e = 0\n",
    "ne_e = 0\n",
    "sw_e = 0\n",
    "se_e = 0\n",
    "for row in range(Q_recover.shape[0] // 8):\n",
    "    for col in range(Q_recover.shape[1] // 8):\n",
    "        f_block = Q_recover[row * 8 : (row + 1) * 8, col * 8 : (col + 1) * 8]\n",
    "        # w\n",
    "        if col == 0:\n",
    "            w_block = np.fliplr(f_block)\n",
    "        else:\n",
    "            w_block = Q_recover[row * 8 : (row + 1) * 8, (col - 1) * 8 : col * 8]\n",
    "        # e\n",
    "        if col == Q_recover.shape[1] // 8 - 1:\n",
    "            e_block = np.fliplr(f_block)\n",
    "        else:\n",
    "            e_block = Q_recover[row * 8 : (row + 1) * 8, (col + 1) * 8 : (col + 2) * 8]\n",
    "        # n\n",
    "        if row == 0:\n",
    "            n_block = np.flipud(f_block)\n",
    "        else:\n",
    "            n_block = Q_recover[(row - 1) * 8 : row * 8, col * 8 : (col + 1) * 8]\n",
    "        # s\n",
    "        if row == Q_recover.shape[0] // 8 - 1:\n",
    "            s_block = np.flipud(f_block)\n",
    "        else:\n",
    "            s_block = Q_recover[(row + 1) * 8 : (row + 2) * 8, col * 8 : (col + 1) * 8]\n",
    "\n",
    "        w_d1 = f_block[:, 0] - w_block[:, 7]\n",
    "        e_d1 = f_block[:, 7] - e_block[:, 0]\n",
    "        n_d1 = f_block[0, :] - n_block[7, :]\n",
    "        s_d1 = f_block[7, :] - s_block[0, :]\n",
    "\n",
    "        w_d2 = (w_block[:, 7] - w_block[:, 6] + f_block[:, 1] - f_block[:, 0]) / 2\n",
    "        e_d2 = (e_block[:, 1] - e_block[:, 0] + f_block[:, 7] - f_block[:, 6]) / 2\n",
    "        n_d2 = (n_block[7, :] - n_block[6, :] + f_block[1, :] - f_block[0, :]) / 2\n",
    "        s_d2 = (s_block[1, :] - s_block[0, :] + f_block[7, :] - f_block[6, :]) / 2\n",
    "\n",
    "        w_e += np.sum((w_d1 - w_d2) ** 2 )\n",
    "        e_e += np.sum((e_d1 - e_d2) ** 2 )\n",
    "        n_e += np.sum((n_d1 - n_d2) ** 2)\n",
    "        s_e += np.sum((s_d1 - s_d2) ** 2)\n",
    "        \n",
    "        # nw\n",
    "        if row == 0 or col == 0:\n",
    "            nw_block = np.flipud(np.fliplr(f_block))\n",
    "        else:\n",
    "            nw_block = Q_recover[(row - 1) * 8 : row * 8, (col - 1) * 8 : col * 8]\n",
    "        # ne\n",
    "        if row == 0 or col == Q_recover.shape[1] // 8 - 1:\n",
    "            ne_block = np.flipud(np.fliplr(f_block))\n",
    "        else:\n",
    "            ne_block = Q_recover[(row-1) * 8 : row * 8, (col + 1) * 8 : (col + 2) * 8]\n",
    "        # sw\n",
    "        if row == Q_recover.shape[0] // 8 -1 or col == 0:\n",
    "            sw_block = np.flipud(np.fliplr(f_block))\n",
    "        else:\n",
    "            sw_block = Q_recover[row * 8 : (row+1) * 8, (col-1) * 8 : col * 8]\n",
    "        # se\n",
    "        if  row == Q_recover.shape[0]//8-1 or col == Q_recover.shape[0] // 8 -1:\n",
    "            se_block = np.flipud(np.fliplr(f_block))\n",
    "        else:\n",
    "            se_block = Q_recover[(row + 1) * 8 : (row + 2) * 8, (col+1) * 8 : (col + 2) * 8]\n",
    "\n",
    "        nw_g1 = f_block[0, 0] - nw_block[7, 7]\n",
    "        ne_g1 = f_block[0, 7] - ne_block[7, 0]\n",
    "        sw_g1 = f_block[7, 0] - sw_block[0, 7]\n",
    "        se_g1 = f_block[7, 7] - se_block[0, 0]\n",
    "\n",
    "        nw_g2 = (nw_block[7,7] - nw_block[6,6] + f_block[1,1] - f_block[0,0])/2\n",
    "        ne_g2 = (ne_block[7,0] - ne_block[6,1] + f_block[1,6] - f_block[0,7])/2\n",
    "        sw_g2 = (sw_block[0,7] - nw_block[1,6] + f_block[6,1] - f_block[7,0])/2\n",
    "        se_g2 = (nw_block[0,0] - nw_block[1,1] + f_block[6,6] - f_block[7,7])/2\n",
    "\n",
    "        nw_e += (nw_g1 - nw_g2) ** 2 \n",
    "        ne_e += (ne_g1 - ne_g2) ** 2 \n",
    "        sw_e += (sw_g1 - sw_g2) ** 2 \n",
    "        se_e += (se_g1 - se_g2) ** 2 \n",
    "\n",
    "MSDSt = (w_e + e_e + n_e + s_e + nw_e + ne_e + sw_e + se_e)/ ((512/8)**2)\n",
    "MSDS1 = (w_e + e_e + n_e + s_e)/ ((512/8)**2)\n",
    "MSDS2 = (nw_e + ne_e + sw_e + se_e)/ ((512/8)**2)\n",
    "\n",
    "print(\"S=\",S)\n",
    "print(Q,PSNR,MSSIM,MSDS1,MSDS2)\n"
   ]
  },
  {
   "cell_type": "code",
   "execution_count": 40,
   "metadata": {},
   "outputs": [
    {
     "data": {
      "application/vnd.jupyter.widget-view+json": {
       "model_id": "9a9c38e2c9184c05a0699362029e1b70",
       "version_major": 2,
       "version_minor": 0
      },
      "text/plain": [
       "HBox(children=(IntProgress(value=0, max=9999), HTML(value='')))"
      ]
     },
     "metadata": {},
     "output_type": "display_data"
    },
    {
     "name": "stdout",
     "output_type": "stream",
     "text": [
      "S= 0.18160067337731697\n",
      "2.1 21.37690861090052 0.568750820960165 13205.791137695312 3786.9686279296875\n",
      "S= 0.18653477136186697\n",
      "2.2 21.826083352336415 0.5752310245037229 13500.090698242188 4008.86181640625\n",
      "S= 0.18975169329440789\n",
      "2.3 22.49620939881717 0.6098001982817883 12867.483642578125 3898.4735107421875\n",
      "S= 0.19361216047285007\n",
      "2.4 22.792413086453152 0.6153962804030755 12173.721923828125 3814.0052490234375\n",
      "S= 0.19845344298471557\n",
      "2.5 22.78772881035019 0.6130515959828604 12101.78662109375 3828.606689453125\n",
      "S= 0.20488083905051085\n",
      "2.6 22.746921367626285 0.6145500685187075 12604.020874023438 3921.9071044921875\n",
      "S= 0.2100329832260365\n",
      "2.7 22.974146649593013 0.6247624436681088 12775.352172851562 3925.5665283203125\n",
      "S= 0.21365648865766507\n",
      "2.8 23.261463312536694 0.6342116223997026 12591.4375 3938.3848266601562\n",
      "S= 0.21598585776223883\n",
      "2.9 23.620325523592566 0.6534127377461012 12484.426513671875 4002.4716186523438\n",
      "S= 0.2206092520184604\n",
      "3.0 23.77374250691377 0.6531645335958675 12397.303588867188 4032.7034912109375\n",
      "S= 0.22707141997187943\n",
      "3.1 23.75132936991337 0.6479999807681717 12469.994018554688 4081.5405883789062\n",
      "S= 0.2323426165036352\n",
      "3.2 23.801382627650057 0.6502383587764368 12262.724853515625 4129.8258056640625\n",
      "S= 0.23607832849448965\n",
      "3.3 23.9961938930989 0.6566656139650144 12303.607177734375 4121.731384277344\n",
      "S= 0.23986012065487133\n",
      "3.4 24.196254474719268 0.6600474775006195 12334.338012695312 4117.9835205078125\n",
      "S= 0.24306753923253716\n",
      "3.5 24.341621721659877 0.6667306943807243 12243.634765625 4126.546936035156\n",
      "S= 0.24695601829978825\n",
      "3.6 24.4542527000782 0.6674062283016791 12182.64404296875 4083.34130859375\n",
      "S= 0.252818181037668\n",
      "3.7 24.528245473777428 0.6699531145459927 12136.528564453125 4072.5382690429688\n",
      "S= 0.2578733575633582\n",
      "3.8 24.638544722011105 0.6740132081983023 12246.824951171875 4145.064392089844\n",
      "S= 0.2618142953967765\n",
      "3.9 24.77771803292502 0.6786402485293547 12104.01220703125 4139.014343261719\n",
      "S= 0.265496640237251\n",
      "4.0 24.85579425511633 0.6781578836077328 12058.056518554688 4151.648010253906\n",
      "S= 0.27005334584779744\n",
      "4.1 24.948930617579798 0.6831048039864439 12028.216064453125 4185.298522949219\n",
      "S= 0.27506275065158553\n",
      "4.2 25.090501108401952 0.6893152500900495 12093.935791015625 4275.842956542969\n",
      "S= 0.2804326609910998\n",
      "4.3 25.2093870154238 0.6949459424336882 12006.240478515625 4332.194763183594\n",
      "S= 0.28376981626570674\n",
      "4.4 25.325847310211973 0.6972466981467074 12044.189331054688 4283.968017578125\n",
      "S= 0.2880693599302934\n",
      "4.5 25.447699752148353 0.7022793881893101 12012.267456054688 4294.852294921875\n",
      "S= 0.29293468695161434\n",
      "4.6 25.522471216640565 0.7031837561567018 11971.109619140625 4279.939208984375\n",
      "S= 0.29699973306344984\n",
      "4.7 25.561667022481778 0.7025102672316524 11992.962646484375 4288.107421875\n",
      "S= 0.3012388670469739\n",
      "4.8 25.669495338571284 0.7114833098681139 11917.123168945312 4244.403564453125\n",
      "S= 0.30564169701023153\n",
      "4.9 25.812861781811623 0.7177090673605839 11864.590698242188 4200.884521484375\n",
      "S= 0.30936586500925434\n",
      "5.0 25.88995716467242 0.7187050481550604 11869.366577148438 4158.2318115234375\n",
      "S= 0.3137254021068269\n",
      "5.1 25.97243385580329 0.7216289166084913 11855.912841796875 4149.277038574219\n",
      "S= 0.317830253777803\n",
      "5.2 26.033649214147438 0.7237231405513317 11793.55615234375 4128.3985595703125\n",
      "S= 0.32188934035973765\n",
      "5.3 26.090735146286423 0.7231835707313464 11781.828857421875 4192.196105957031\n",
      "S= 0.3255838380528038\n",
      "5.4 26.16548677755346 0.7301951950708981 11665.173706054688 4152.8114013671875\n",
      "S= 0.3297941001136026\n",
      "5.5 26.298024021371624 0.735485806292338 11559.580688476562 4161.964172363281\n",
      "S= 0.3338903181244628\n",
      "5.6 26.380039673789497 0.7359797498821589 11499.86669921875 4162.3262939453125\n",
      "S= 0.33749861900887335\n",
      "5.7 26.49935022971054 0.7407201153600497 11494.226684570312 4153.242248535156\n",
      "S= 0.3422939962331349\n",
      "5.8 26.541327799913354 0.7411638079156 11576.429321289062 4194.220703125\n",
      "S= 0.34642948476734625\n",
      "5.9 26.563834554708343 0.7418345494069616 11472.052978515625 4170.664611816406\n",
      "S= 0.3504168232991307\n",
      "6.0 26.635372899644977 0.7463254917124592 11434.612182617188 4181.0250244140625\n",
      "S= 0.35452903278411313\n",
      "6.1 26.70633059649058 0.7476769042260512 11542.885131835938 4253.227233886719\n",
      "S= 0.3574869012521616\n",
      "6.2 26.805618264967386 0.7493482132678165 11489.080322265625 4192.353454589844\n",
      "S= 0.36140437473439496\n",
      "6.3 26.907056308051924 0.753249250326869 11561.90087890625 4220.4716796875\n",
      "S= 0.36567409582171667\n",
      "6.4 26.937299315324758 0.7530699937824874 11548.475219726562 4266.875732421875\n",
      "S= 0.3696586913734865\n",
      "6.5 26.962480347828908 0.7535059828558492 11468.67822265625 4295.555725097656\n",
      "S= 0.3728256996061222\n",
      "6.6 26.971635498852233 0.7553574469419928 11373.385009765625 4293.836730957031\n",
      "S= 0.3777070202349134\n",
      "6.7 27.04392477290915 0.7583927676642306 11331.583984375 4323.319763183594\n",
      "S= 0.38086954428897196\n",
      "6.8 27.110852404366415 0.7606571767473724 11353.193481445312 4364.786315917969\n",
      "S= 0.3849648642510379\n",
      "6.9 27.22248069209574 0.7632556098900067 11440.298950195312 4368.793762207031\n",
      "S= 0.3896225811823557\n",
      "7.0 27.272515153154757 0.7637008547800626 11344.595581054688 4341.2427978515625\n",
      "S= 0.3937870245347674\n",
      "7.1 27.308319294743736 0.7652690518925689 11240.713745117188 4346.201477050781\n",
      "S= 0.39834729129167784\n",
      "7.2 27.33224808634345 0.7657733724351484 11253.594482421875 4370.6617431640625\n",
      "S= 0.40131631457368494\n",
      "7.3 27.397265540268457 0.7697626365227698 11165.717163085938 4354.082092285156\n",
      "S= 0.4036667396173601\n",
      "7.4 27.464049196368205 0.7712745424206273 11131.30712890625 4352.496398925781\n",
      "S= 0.40855442232293193\n",
      "7.5 27.53635091853118 0.7735044147346289 11079.978881835938 4328.320739746094\n",
      "S= 0.4128464873097776\n",
      "7.6 27.589651368274048 0.7744844844255738 11137.899047851562 4301.991394042969\n",
      "S= 0.41602065246533204\n",
      "7.7 27.627175142125886 0.7753951475879537 11097.488037109375 4290.305419921875\n",
      "S= 0.4194799441750225\n",
      "7.8 27.65867115281995 0.7764354641963487 11110.766845703125 4290.6514892578125\n",
      "S= 0.42447385501236484\n",
      "7.9 27.711004407164168 0.7796759181265908 11090.564697265625 4258.221984863281\n",
      "S= 0.4269197568080965\n",
      "8.0 27.752006950682897 0.78091364325909 11105.046752929688 4265.808837890625\n",
      "S= 0.4320658445678921\n",
      "8.1 27.82719872021605 0.783542990881876 11050.6181640625 4297.6563720703125\n",
      "S= 0.4377550598155751\n",
      "8.2 27.89549225038381 0.7842180992515442 11088.056884765625 4304.665588378906\n",
      "S= 0.4414543745498589\n",
      "8.3 27.940772799317614 0.7862838398630466 11144.504638671875 4302.7388916015625\n",
      "S= 0.44651704447355134\n",
      "8.4 27.964122867570186 0.7862929475420574 11070.216064453125 4270.424011230469\n",
      "S= 0.4487514703983489\n",
      "8.5 28.007990821345263 0.7878618192472485 11081.679809570312 4282.770080566406\n",
      "S= 0.4526099647746278\n",
      "8.6 28.066647571050897 0.7902940538066847 11026.1240234375 4272.881408691406\n",
      "S= 0.45547495530652077\n",
      "8.7 28.137463352788302 0.7921822269035271 10996.514892578125 4259.870849609375\n",
      "S= 0.4596281085501908\n",
      "8.8 28.18014423871017 0.7925309164589105 10944.747680664062 4242.7484130859375\n",
      "S= 0.4647970486585817\n",
      "8.9 28.22898416307207 0.7943372422534009 10940.544921875 4256.124328613281\n",
      "S= 0.46794743636503205\n",
      "9.0 28.242675061486004 0.7953395910885473 10863.342163085938 4246.367614746094\n",
      "S= 0.47072054800033325\n",
      "9.1 28.274850764818314 0.7961983982317844 10901.701171875 4247.0181884765625\n",
      "S= 0.4751580299054855\n",
      "9.2 28.310643349018676 0.7977532258054664 10886.177490234375 4218.164489746094\n",
      "S= 0.48081921057974264\n",
      "9.3 28.374241053353565 0.799739294778406 10939.406616210938 4213.2261962890625\n",
      "S= 0.4851290785903176\n",
      "9.4 28.41928984391221 0.8010716596426783 10892.317016601562 4196.087097167969\n",
      "S= 0.48547048430174217\n",
      "9.5 28.457429903872086 0.8017074469093546 10847.548950195312 4209.258850097656\n",
      "S= 0.4920197067964786\n",
      "9.6 28.48743378032426 0.8033347007634367 10827.2939453125 4187.3958740234375\n",
      "S= 0.49315565502683284\n",
      "9.7 28.49606033433964 0.8034213258608746 10846.267944335938 4197.151184082031\n",
      "S= 0.497316439498973\n",
      "9.8 28.531319163057777 0.8046456587063513 10781.245727539062 4182.694274902344\n",
      "S= 0.5010806123586644\n",
      "9.9 28.57599980803847 0.8066650523153025 10720.6484375 4151.4178466796875\n",
      "S= 0.503564097919297\n",
      "10.0 28.649266156982303 0.8090252994047957 10776.504516601562 4158.189514160156\n",
      "S= 0.5102293151533703\n",
      "10.1 28.699115372963927 0.8097379349582638 10736.851196289062 4163.850646972656\n",
      "S= 0.5101180365574864\n",
      "10.2 28.711113509658777 0.8098722342232033 10662.2314453125 4165.9036865234375\n",
      "S= 0.5151057911473457\n",
      "10.3 28.73981294923656 0.8106936398433648 10676.246826171875 4170.883483886719\n",
      "S= 0.5207350554360398\n",
      "10.4 28.75850026691279 0.810657350351585 10647.897827148438 4139.739501953125\n",
      "S= 0.5219080971311765\n",
      "10.5 28.807035395584112 0.8132575200044443 10631.760131835938 4131.531494140625\n",
      "S= 0.5277266942665456\n",
      "10.6 28.854296318095386 0.8143063018219876 10647.01513671875 4093.233154296875\n",
      "S= 0.5297454308894224\n",
      "10.7 28.883782103355724 0.8150446776581165 10616.200317382812 4094.9241333007812\n",
      "S= 0.534947611829302\n",
      "10.8 28.911013528221257 0.8156395844166231 10565.950927734375 4098.1068115234375\n",
      "S= 0.5369507355464366\n",
      "10.9 28.924640434285777 0.8154988996899329 10465.414916992188 4054.468017578125\n",
      "S= 0.5419069177929522\n",
      "11.0 28.942620292046758 0.8164549188056158 10411.199096679688 4013.958251953125\n",
      "S= 0.541932120296738\n",
      "11.1 28.981670028072397 0.8190748214729191 10451.442016601562 4029.3655395507812\n",
      "S= 0.5490903065603221\n",
      "11.2 29.036667415706926 0.8200917778527258 10394.800903320312 4027.9035034179688\n",
      "S= 0.5512687188884726\n",
      "11.3 29.05576521682029 0.8208231189155276 10461.954467773438 4054.8218994140625\n",
      "S= 0.5565634433130688\n",
      "11.4 29.07357752010126 0.82131679370385 10461.258056640625 4051.4841918945312\n",
      "S= 0.5592366326723168\n",
      "11.5 29.09403469775497 0.8214086014029913 10383.255859375 4034.2848510742188\n",
      "S= 0.5638361368290457\n",
      "11.6 29.121516296701877 0.8221332679734326 10344.80322265625 4026.2688598632812\n",
      "S= 0.5634446837636394\n",
      "11.7 29.172290840343514 0.8238276449096252 10368.280029296875 4038.389404296875\n",
      "S= 0.5670573102041613\n",
      "11.8 29.200078129274736 0.8246186109882205 10339.242553710938 4043.4286499023438\n",
      "S= 0.573242464643304\n",
      "11.9 29.22957603909845 0.8244165517843971 10320.08984375 4045.2172241210938\n",
      "S= 0.5733700267206807\n",
      "12.0 29.252522427329794 0.8250366898316698 10345.087890625 4057.6124877929688\n",
      "S= 0.5802557054111063\n",
      "12.1 29.27678872765245 0.8256960369996332 10345.32080078125 4067.1103515625\n",
      "S= 0.5811060522842645\n",
      "12.2 29.32716185261316 0.8274738387074135 10348.684936523438 4079.0545043945312\n",
      "S= 0.5861814090836556\n",
      "12.3 29.338318333720782 0.8277037527212623 10343.110229492188 4076.451171875\n",
      "S= 0.5922418373707797\n",
      "12.4 29.39382758006113 0.8287457637017006 10367.133666992188 4084.93310546875\n",
      "S= 0.589241666796851\n",
      "12.5 29.40347471801893 0.8291219142741584 10371.224487304688 4080.6122436523438\n",
      "S= 0.5982510593741788\n",
      "12.6 29.44476111124881 0.8300097086852071 10370.871337890625 4086.1531372070312\n",
      "S= 0.5985212287687725\n",
      "12.7 29.46826698092717 0.8306183492605335 10391.931274414062 4095.6002197265625\n",
      "S= 0.599855337347759\n",
      "12.8 29.476289613605537 0.8309792917526312 10349.646362304688 4079.249755859375\n",
      "S= 0.6075235594893971\n",
      "12.9 29.505843007176527 0.8321402091786578 10314.117065429688 4070.8924560546875\n",
      "S= 0.6077069548236443\n",
      "13.0 29.555216224887616 0.8333053873240207 10399.292602539062 4097.293395996094\n",
      "S= 0.6125427810239297\n",
      "13.1 29.57960401931347 0.8339104586632977 10389.718383789062 4095.972900390625\n",
      "S= 0.6162016987171732\n",
      "13.2 29.62219148798669 0.835434293978439 10332.686889648438 4068.673095703125\n",
      "S= 0.6148480648915928\n",
      "13.3 29.635983577721422 0.8358124174396253 10324.451049804688 4051.0407104492188\n",
      "S= 0.6182706221097779\n",
      "13.4 29.665558081134993 0.8368861661068443 10317.782470703125 4046.302734375\n",
      "S= 0.6249801335700054\n",
      "13.5 29.682646436134746 0.8376728673397039 10325.490966796875 4056.7013549804688\n",
      "S= 0.6264717254758886\n",
      "13.6 29.710868795368754 0.8381711690510666 10300.172119140625 4036.9990234375\n",
      "S= 0.6322936258012348\n",
      "13.7 29.754509934271947 0.8387955129669559 10310.484375 4024.9930419921875\n",
      "S= 0.6345251744373412\n",
      "13.8 29.762659209211876 0.8393755784961301 10365.092163085938 4035.7494506835938\n",
      "S= 0.6367353975691775\n",
      "13.9 29.816825662795008 0.8406230001561757 10360.450317382812 4019.325927734375\n",
      "S= 0.6384268561423382\n",
      "14.0 29.82344419955014 0.8408218883375349 10371.163452148438 4019.8739624023438\n",
      "S= 0.6440611289742895\n",
      "14.1 29.846498478476732 0.8417790568819437 10362.653564453125 4015.0393676757812\n",
      "S= 0.6437478518638273\n",
      "14.2 29.871097203395482 0.8427564698793609 10347.42626953125 4018.8997802734375\n",
      "S= 0.6461476351865024\n",
      "14.3 29.88718574365685 0.8430270660789889 10343.823852539062 4017.4574584960938\n",
      "S= 0.6501461152231536\n",
      "14.4 29.898959621787647 0.8434210497501157 10340.088989257812 4011.8637084960938\n",
      "S= 0.6578870223939478\n",
      "14.5 29.959092686110917 0.8449039297616573 10293.361206054688 3996.9861450195312\n",
      "S= 0.6568494570014269\n",
      "14.6 29.97147493992823 0.8451546235139193 10292.147705078125 3997.4806518554688\n",
      "S= 0.6585776057332359\n",
      "14.7 29.992368071644016 0.8454702475806839 10315.571044921875 4005.4269409179688\n",
      "S= 0.6668245107157222\n",
      "14.8 30.016806019239006 0.8456269817336223 10295.094360351562 3975.0819702148438\n",
      "S= 0.6648720497643072\n",
      "14.9 30.02773795120538 0.8458420870392145 10298.665283203125 3970.9057006835938\n",
      "S= 0.6689848218599551\n",
      "15.0 30.068732074677868 0.8467073767957594 10283.989624023438 3962.5784912109375\n",
      "S= 0.675427831399277\n",
      "15.1 30.07964775091096 0.8469003745148409 10261.921875 3954.9990844726562\n",
      "S= 0.6791495131996342\n",
      "15.2 30.099256308490723 0.8467894494420443 10279.708862304688 3962.3497314453125\n",
      "S= 0.6768582835249535\n",
      "15.3 30.11095655032424 0.8469953803381567 10281.74072265625 3957.6901245117188\n",
      "S= 0.6809608935248025\n",
      "15.4 30.131686512744928 0.8472923910512775 10298.873046875 3970.6083984375\n",
      "S= 0.6873651352887549\n",
      "15.5 30.144997450408525 0.8477211719531711 10285.597778320312 3961.6362915039062\n",
      "S= 0.6905975089231209\n",
      "15.6 30.178044922519046 0.848610876542589 10235.870483398438 3945.1043701171875\n",
      "S= 0.6893504565558343\n",
      "15.7 30.192795033899312 0.8490022604627894 10224.137084960938 3938.5870971679688\n",
      "S= 0.6912709906962468\n",
      "15.8 30.201404888045005 0.8490812232009183 10240.61572265625 3954.178466796875\n",
      "S= 0.6998358066105251\n",
      "15.9 30.22820217245794 0.8495530346823086 10254.067138671875 3960.0887451171875\n",
      "S= 0.7048733877998115\n",
      "16.0 30.250024863817234 0.8501046822086038 10233.41650390625 3966.091064453125\n",
      "S= 0.7021841502720952\n",
      "16.1 30.271895108313032 0.8506640761920914 10249.389526367188 3964.3477172851562\n",
      "S= 0.7049983230343345\n",
      "16.2 30.29020300500182 0.8511859238751857 10248.269287109375 3969.5052490234375\n",
      "S= 0.7114856110368618\n",
      "16.3 30.301838552613084 0.8514346780859103 10234.340209960938 3971.9349365234375\n",
      "S= 0.7162606693694933\n",
      "16.4 30.325683872933034 0.8521248521604117 10208.802734375 3969.054443359375\n",
      "S= 0.7199423583127854\n",
      "16.5 30.359935748098465 0.8527219340866284 10180.380493164062 3968.0075073242188\n",
      "S= 0.7150105357260482\n",
      "16.6 30.37747644345375 0.8529622735842766 10166.591430664062 3962.00244140625\n",
      "S= 0.7151259415819379\n",
      "16.7 30.380160262009973 0.8529878430344661 10174.16748046875 3960.97607421875\n",
      "S= 0.7248335922899005\n",
      "16.8 30.398475512996246 0.8533865121425221 10154.981323242188 3970.5858154296875\n",
      "S= 0.7337771614962756\n",
      "16.9 30.447608696549885 0.8554274094473987 10174.3076171875 3962.5882568359375\n",
      "S= 0.7348329484285677\n",
      "17.0 30.452314421785207 0.855629652132056 10176.894287109375 3958.5989379882812\n",
      "S= 0.7307054526936859\n",
      "17.1 30.464901807286072 0.8559268908967054 10171.869873046875 3961.3763427734375\n",
      "S= 0.7337560842799213\n",
      "17.2 30.48085956032665 0.8560744913049338 10197.295043945312 3976.7208862304688\n",
      "S= 0.7405380086814799\n",
      "17.3 30.499068598636573 0.8564726056382802 10226.858764648438 3977.9974975585938\n",
      "S= 0.7467767038648654\n",
      "17.4 30.516332663971607 0.857080264647649 10212.03857421875 3973.1066284179688\n",
      "S= 0.7454940657238218\n",
      "17.5 30.543161420862866 0.8577641561764588 10231.119995117188 3971.8651733398438\n",
      "S= 0.7475963257505557\n",
      "17.6 30.56675480669183 0.8583762278434411 10182.68115234375 3968.398193359375\n",
      "S= 0.7512530970286596\n",
      "17.7 30.586032764986868 0.85884875245508 10153.487426757812 3957.0081787109375\n",
      "S= 0.757251149801501\n",
      "17.8 30.606471129490277 0.8591691136141884 10124.662841796875 3947.9937744140625\n",
      "S= 0.7613395983347211\n",
      "17.9 30.621649024242107 0.8593730498359236 10114.050170898438 3944.4668579101562\n",
      "S= 0.7599582735247876\n",
      "18.0 30.660821132694448 0.8604095404241631 10165.880615234375 3963.5758056640625\n",
      "S= 0.7609059790805293\n",
      "18.1 30.668005437999643 0.8605837825081339 10187.062377929688 3974.9397583007812\n",
      "S= 0.7647946457393415\n",
      "18.2 30.68495627561546 0.8607424608809033 10170.965087890625 3985.7864379882812\n",
      "S= 0.7665786643094268\n",
      "18.3 30.692818339099944 0.8608736875088132 10174.368774414062 3984.1126098632812\n",
      "S= 0.7744050510518844\n",
      "18.4 30.717249362896297 0.8610634159874013 10143.89013671875 3975.6021728515625\n",
      "S= 0.7788710144433739\n",
      "18.5 30.728101553122183 0.861224516394866 10152.777587890625 3978.1008911132812\n",
      "S= 0.7771581373435846\n",
      "18.6 30.743223014628217 0.861527075152086 10160.974731445312 3973.0826416015625\n",
      "S= 0.781384767941863\n",
      "18.7 30.75721394077884 0.8618797018717645 10136.605346679688 3965.792236328125\n",
      "S= 0.7833118657320746\n",
      "18.8 30.786734419096128 0.8623600431217424 10129.992797851562 3969.8828125\n",
      "S= 0.7906451012478403\n",
      "18.9 30.79544029909612 0.8625294453889221 10125.010620117188 3959.9303588867188\n",
      "S= 0.7908414434033134\n",
      "19.0 30.80365350386903 0.8627162642142125 10128.302978515625 3962.0848388671875\n",
      "S= 0.7951061375892507\n",
      "19.1 30.82094838807152 0.8628875920351244 10117.437133789062 3973.998779296875\n",
      "S= 0.7936586627273746\n",
      "19.2 30.841373476783737 0.8633011682645386 10108.354248046875 3974.6602783203125\n",
      "S= 0.7976268871233738\n",
      "19.3 30.869332666936664 0.8633575992687608 10081.406860351562 3959.2554321289062\n",
      "S= 0.8008535674410637\n",
      "19.4 30.8798934664244 0.8633759972598342 10070.148071289062 3951.2963256835938\n",
      "S= 0.8056439355813617\n",
      "19.5 30.890335516378236 0.8637181347036925 10079.908203125 3955.83544921875\n"
     ]
    },
    {
     "ename": "KeyboardInterrupt",
     "evalue": "",
     "output_type": "error",
     "traceback": [
      "\u001b[0;31m---------------------------------------------------------------------------\u001b[0m",
      "\u001b[0;31mKeyboardInterrupt\u001b[0m                         Traceback (most recent call last)",
      "\u001b[0;32m<ipython-input-40-5e45a2c50ad3>\u001b[0m in \u001b[0;36m<module>\u001b[0;34m\u001b[0m\n\u001b[1;32m    245\u001b[0m \u001b[0;34m\u001b[0m\u001b[0m\n\u001b[1;32m    246\u001b[0m             \u001b[0mnw_g2\u001b[0m \u001b[0;34m=\u001b[0m \u001b[0;34m(\u001b[0m\u001b[0mnw_block\u001b[0m\u001b[0;34m[\u001b[0m\u001b[0;36m7\u001b[0m\u001b[0;34m,\u001b[0m\u001b[0;36m7\u001b[0m\u001b[0;34m]\u001b[0m \u001b[0;34m-\u001b[0m \u001b[0mnw_block\u001b[0m\u001b[0;34m[\u001b[0m\u001b[0;36m6\u001b[0m\u001b[0;34m,\u001b[0m\u001b[0;36m6\u001b[0m\u001b[0;34m]\u001b[0m \u001b[0;34m+\u001b[0m \u001b[0mf_block\u001b[0m\u001b[0;34m[\u001b[0m\u001b[0;36m1\u001b[0m\u001b[0;34m,\u001b[0m\u001b[0;36m1\u001b[0m\u001b[0;34m]\u001b[0m \u001b[0;34m-\u001b[0m \u001b[0mf_block\u001b[0m\u001b[0;34m[\u001b[0m\u001b[0;36m0\u001b[0m\u001b[0;34m,\u001b[0m\u001b[0;36m0\u001b[0m\u001b[0;34m]\u001b[0m\u001b[0;34m)\u001b[0m\u001b[0;34m/\u001b[0m\u001b[0;36m2\u001b[0m\u001b[0;34m\u001b[0m\u001b[0;34m\u001b[0m\u001b[0m\n\u001b[0;32m--> 247\u001b[0;31m             \u001b[0mne_g2\u001b[0m \u001b[0;34m=\u001b[0m \u001b[0;34m(\u001b[0m\u001b[0mne_block\u001b[0m\u001b[0;34m[\u001b[0m\u001b[0;36m7\u001b[0m\u001b[0;34m,\u001b[0m\u001b[0;36m0\u001b[0m\u001b[0;34m]\u001b[0m \u001b[0;34m-\u001b[0m \u001b[0mne_block\u001b[0m\u001b[0;34m[\u001b[0m\u001b[0;36m6\u001b[0m\u001b[0;34m,\u001b[0m\u001b[0;36m1\u001b[0m\u001b[0;34m]\u001b[0m \u001b[0;34m+\u001b[0m \u001b[0mf_block\u001b[0m\u001b[0;34m[\u001b[0m\u001b[0;36m1\u001b[0m\u001b[0;34m,\u001b[0m\u001b[0;36m6\u001b[0m\u001b[0;34m]\u001b[0m \u001b[0;34m-\u001b[0m \u001b[0mf_block\u001b[0m\u001b[0;34m[\u001b[0m\u001b[0;36m0\u001b[0m\u001b[0;34m,\u001b[0m\u001b[0;36m7\u001b[0m\u001b[0;34m]\u001b[0m\u001b[0;34m)\u001b[0m\u001b[0;34m/\u001b[0m\u001b[0;36m2\u001b[0m\u001b[0;34m\u001b[0m\u001b[0;34m\u001b[0m\u001b[0m\n\u001b[0m\u001b[1;32m    248\u001b[0m             \u001b[0msw_g2\u001b[0m \u001b[0;34m=\u001b[0m \u001b[0;34m(\u001b[0m\u001b[0msw_block\u001b[0m\u001b[0;34m[\u001b[0m\u001b[0;36m0\u001b[0m\u001b[0;34m,\u001b[0m\u001b[0;36m7\u001b[0m\u001b[0;34m]\u001b[0m \u001b[0;34m-\u001b[0m \u001b[0mnw_block\u001b[0m\u001b[0;34m[\u001b[0m\u001b[0;36m1\u001b[0m\u001b[0;34m,\u001b[0m\u001b[0;36m6\u001b[0m\u001b[0;34m]\u001b[0m \u001b[0;34m+\u001b[0m \u001b[0mf_block\u001b[0m\u001b[0;34m[\u001b[0m\u001b[0;36m6\u001b[0m\u001b[0;34m,\u001b[0m\u001b[0;36m1\u001b[0m\u001b[0;34m]\u001b[0m \u001b[0;34m-\u001b[0m \u001b[0mf_block\u001b[0m\u001b[0;34m[\u001b[0m\u001b[0;36m7\u001b[0m\u001b[0;34m,\u001b[0m\u001b[0;36m0\u001b[0m\u001b[0;34m]\u001b[0m\u001b[0;34m)\u001b[0m\u001b[0;34m/\u001b[0m\u001b[0;36m2\u001b[0m\u001b[0;34m\u001b[0m\u001b[0;34m\u001b[0m\u001b[0m\n\u001b[1;32m    249\u001b[0m             \u001b[0mse_g2\u001b[0m \u001b[0;34m=\u001b[0m \u001b[0;34m(\u001b[0m\u001b[0mnw_block\u001b[0m\u001b[0;34m[\u001b[0m\u001b[0;36m0\u001b[0m\u001b[0;34m,\u001b[0m\u001b[0;36m0\u001b[0m\u001b[0;34m]\u001b[0m \u001b[0;34m-\u001b[0m \u001b[0mnw_block\u001b[0m\u001b[0;34m[\u001b[0m\u001b[0;36m1\u001b[0m\u001b[0;34m,\u001b[0m\u001b[0;36m1\u001b[0m\u001b[0;34m]\u001b[0m \u001b[0;34m+\u001b[0m \u001b[0mf_block\u001b[0m\u001b[0;34m[\u001b[0m\u001b[0;36m6\u001b[0m\u001b[0;34m,\u001b[0m\u001b[0;36m6\u001b[0m\u001b[0;34m]\u001b[0m \u001b[0;34m-\u001b[0m \u001b[0mf_block\u001b[0m\u001b[0;34m[\u001b[0m\u001b[0;36m7\u001b[0m\u001b[0;34m,\u001b[0m\u001b[0;36m7\u001b[0m\u001b[0;34m]\u001b[0m\u001b[0;34m)\u001b[0m\u001b[0;34m/\u001b[0m\u001b[0;36m2\u001b[0m\u001b[0;34m\u001b[0m\u001b[0;34m\u001b[0m\u001b[0m\n",
      "\u001b[0;31mKeyboardInterrupt\u001b[0m: "
     ]
    }
   ],
   "source": [
    "# Q=80における量子化テーブルをスケーリング\n",
    "for i in tqdm_notebook(np.arange(1,10000,1)):\n",
    "    Q = 2 + i/10\n",
    "    if Q < 50:\n",
    "        S = 5000 / Q\n",
    "    else:\n",
    "        S = 200 - 2 * Q\n",
    "\n",
    "    S = np.floor(S)\n",
    "\n",
    "    Q_Luminance = np.zeros((8, 8))\n",
    "    for row in range(8):\n",
    "        for col in range(8):\n",
    "            Q_Luminance[row, col] = np.floor((S * Q50_Luminance[row, col] + 50) / 100)\n",
    "\n",
    "    Fk = np.copy(Fk_Ori)\n",
    "    Q_Fk = np.zeros(Fk.shape)\n",
    "    for row in range(IMG.img.shape[0] // 8):\n",
    "        for col in range(IMG.img.shape[1] // 8):\n",
    "            block = Fk[row * 8 : (row + 1) * 8, col * 8 : (col + 1) * 8]\n",
    "            # 量子化\n",
    "            block = np.round(block / Q_Luminance)\n",
    "            # 逆量子化\n",
    "            block = block * Q_Luminance\n",
    "            Q_Fk[row * 8 : (row+1)*8, col * 8 : (col+1)*8] = block\n",
    "\n",
    "    Fk = np.copy(Q_Fk)\n",
    "    Q_recover = np.zeros(Q_Fk.shape)\n",
    "    # 横方向\n",
    "    for row in range(Fk.shape[0]):\n",
    "        for col in range(Fk.shape[1] // 8):\n",
    "            F = Fk[row, 8 * col : 8 * col + 8]\n",
    "\n",
    "            F_0_r = 0\n",
    "            if col is not Fk.shape[1] // 8 - 1:\n",
    "                F_0_r = Fk[row, 8 * (col + 1)]\n",
    "\n",
    "            F_0_l = 0\n",
    "            if col is not 0:\n",
    "                F_0_l = Fk[row, 8 * (col - 1)]\n",
    "\n",
    "            # 残差\n",
    "            F_0 = F[0]\n",
    "            F_temp = F + alpha * (F_0_r - F_0) / np.sqrt(N) + beta * (F_0 - F_0_l) / np.sqrt(N)\n",
    "            # F_0は残す\n",
    "            F[1] = F_temp[1]\n",
    "            # F_0 V_1 V_2 V_3 V_4 V_5 V_6 V_7\n",
    "            Fk[row, 8 * col : 8 * col + 8] = F\n",
    "\n",
    "    for row in range(Fk.shape[0]):\n",
    "        for col in range(Fk.shape[1] // 8):\n",
    "            F = Fk[row, 8 * col : 8 * (col + 1)]\n",
    "\n",
    "            F_0_r = 0\n",
    "            F_1_r = 0\n",
    "            if col is not Fk.shape[1] // 8 - 1:\n",
    "                F_0_r = Fk[row, 8 * (col + 1)]\n",
    "                F_1_r = Fk[row, 8 * (col + 1) + 1]\n",
    "\n",
    "            F_0_l = 0\n",
    "            F_1_l = 0\n",
    "            if col is not 0:\n",
    "                F_0_l = Fk[row, 8 * (col - 1)]\n",
    "                F_1_l = Fk[row, 8 * (col - 1) + 1]\n",
    "\n",
    "            # 残差\n",
    "            F_0 = F[0]\n",
    "            F_1 = F[1]\n",
    "\n",
    "            F = (\n",
    "                F\n",
    "                + Ak * (F_0 - F_0_l)\n",
    "                + Bk * (F_0_r - F_0)\n",
    "                + Ck * (F_1 + F_1_l)\n",
    "                + Dk * (F_1_r + F_1)\n",
    "            )\n",
    "            # F_0は残す\n",
    "            F[0] = F_0\n",
    "            F[1] = F_1\n",
    "            # F_0 V_1 V_2 V_3 V_4 V_5 V_6 V_7\n",
    "            Fk[row, 8 * col : 8 * (col + 1)] = F\n",
    "\n",
    "    for row in range(Fk.shape[0]):\n",
    "        for col in range(Fk.shape[1] // 8):\n",
    "            F = Fk[row, 8 * col : 8 * col + 8]\n",
    "            data = scipy.fftpack.idct(F,norm=\"ortho\")\n",
    "            # Fkに代入した後、縦方向に対して処理\n",
    "            Fk[row, 8 * col : 8 * col + 8] = data\n",
    "            # 復元画像\n",
    "    #         recover[row, 8 * col : 8 * col + 8] = data\n",
    "\n",
    "    # 縦方向\n",
    "    for row in range(Fk.shape[0] // 8):\n",
    "        for col in range(Fk.shape[1]):\n",
    "            F = Fk[8 * row : 8 * row + 8, col]\n",
    "\n",
    "            F_0_r = 0\n",
    "            if row is not Fk.shape[0] // 8 - 1:\n",
    "                F_0_r = Fk[8 * (row + 1), col]\n",
    "\n",
    "            F_0_l = 0\n",
    "            if row is not 0:\n",
    "                F_0_l = Fk[8 * (row - 1), col]\n",
    "\n",
    "            # 残差\n",
    "            F_0 = F[0]\n",
    "            F_temp = F + alpha * (F_0_r - F_0) / np.sqrt(N) + beta * (F_0 - F_0_l) / np.sqrt(N)\n",
    "            # F_0は残す\n",
    "            F[1] = F_temp[1]\n",
    "            # F_0 F_1 F_2 F_3 F_4 F_5 F_6 F_7\n",
    "            Fk[8 * row : 8 * row + 8, col] = F\n",
    "\n",
    "    for row in range(Fk.shape[0] // 8):\n",
    "        for col in range(Fk.shape[1]):\n",
    "            F = Fk[8 * row : 8 * (row + 1), col]\n",
    "\n",
    "            F_0_r = 0\n",
    "            F_1_r = 0\n",
    "            if row is not Fk.shape[0] // 8 - 1:\n",
    "                F_0_r = Fk[8 * (row + 1), col]\n",
    "                F_1_r = Fk[8 * (row + 1) + 1, col]\n",
    "\n",
    "            F_0_l = 0\n",
    "            F_1_l = 1\n",
    "            if row is not 0:\n",
    "                F_0_l = Fk[8 * (row - 1), col]\n",
    "                F_1_l = Fk[8 * (row - 1) + 1, col]\n",
    "\n",
    "            # 残差\n",
    "            F_0 = F[0]\n",
    "            F_1 = F[1]\n",
    "\n",
    "            F = (\n",
    "                F\n",
    "                + Ak * (F_0 - F_0_l)\n",
    "                + Bk * (F_0_r - F_0)\n",
    "                + Ck * (F_1 + F_1_l)\n",
    "                + Dk * (F_1_r + F_1)\n",
    "            )\n",
    "            # F_0, F_1は残す\n",
    "            F[0] = F_0\n",
    "            F[1] = F_1\n",
    "            # F_0 V_1 V_2 V_3 V_4 V_5 V_6 V_7\n",
    "            Fk[8 * row : 8 * (row + 1), col] = F\n",
    "\n",
    "    for row in range(Fk.shape[0] // 8):\n",
    "        for col in range(Fk.shape[1]):\n",
    "            F = Fk[8 * row : 8 * (row + 1), col]\n",
    "            data = scipy.fftpack.idct(F,norm=\"ortho\")\n",
    "            # 復元画像\n",
    "            Q_recover[8 * row : 8 * (row + 1), col] = data\n",
    "            # FKに代入した後、横方向に対して処理\n",
    "    #         Fk[8 * row : 8 * (row + 1), col] = data\n",
    "\n",
    "    Q_recover = np.round(Q_recover)\n",
    "    import pandas as pd\n",
    "    qfk = pd.Series(Q_Fk.flatten())\n",
    "    pro = qfk.value_counts() / qfk.value_counts().sum()\n",
    "\n",
    "    S = 0\n",
    "    for pi in pro:\n",
    "        S -= pi * np.log2(pi)\n",
    "\n",
    "#     bpp = np.arange(0.2,0.8,0.05)\n",
    "#     for i in bpp:\n",
    "#         if np.abs(i - S) < 0.002:        \n",
    "    MSE = np.sum(np.sum(np.power((IMG.img - Q_recover),2)))/(Q_recover.shape[0] * Q_recover.shape[1])\n",
    "\n",
    "    PSNR = 10 * np.log10(255 * 255 / MSE)\n",
    "\n",
    "    MSSIM = ssim(IMG.img,Q_recover.astype(IMG.img.dtype),gaussian_weights=True,sigma=1.5,K1=0.01,K2=0.03)\n",
    "\n",
    "    w_e = 0\n",
    "    e_e = 0\n",
    "    n_e = 0\n",
    "    s_e = 0\n",
    "    nw_e = 0\n",
    "    ne_e = 0\n",
    "    sw_e = 0\n",
    "    se_e = 0\n",
    "    for row in range(Q_recover.shape[0] // 8):\n",
    "        for col in range(Q_recover.shape[1] // 8):\n",
    "            f_block = Q_recover[row * 8 : (row + 1) * 8, col * 8 : (col + 1) * 8]\n",
    "            # w\n",
    "            if col == 0:\n",
    "                w_block = np.fliplr(f_block)\n",
    "            else:\n",
    "                w_block = Q_recover[row * 8 : (row + 1) * 8, (col - 1) * 8 : col * 8]\n",
    "            # e\n",
    "            if col == Q_recover.shape[1] // 8 - 1:\n",
    "                e_block = np.fliplr(f_block)\n",
    "            else:\n",
    "                e_block = Q_recover[row * 8 : (row + 1) * 8, (col + 1) * 8 : (col + 2) * 8]\n",
    "            # n\n",
    "            if row == 0:\n",
    "                n_block = np.flipud(f_block)\n",
    "            else:\n",
    "                n_block = Q_recover[(row - 1) * 8 : row * 8, col * 8 : (col + 1) * 8]\n",
    "            # s\n",
    "            if row == Q_recover.shape[0] // 8 - 1:\n",
    "                s_block = np.flipud(f_block)\n",
    "            else:\n",
    "                s_block = Q_recover[(row + 1) * 8 : (row + 2) * 8, col * 8 : (col + 1) * 8]\n",
    "\n",
    "            w_d1 = f_block[:, 0] - w_block[:, 7]\n",
    "            e_d1 = f_block[:, 7] - e_block[:, 0]\n",
    "            n_d1 = f_block[0, :] - n_block[7, :]\n",
    "            s_d1 = f_block[7, :] - s_block[0, :]\n",
    "\n",
    "            w_d2 = (w_block[:, 7] - w_block[:, 6] + f_block[:, 1] - f_block[:, 0]) / 2\n",
    "            e_d2 = (e_block[:, 1] - e_block[:, 0] + f_block[:, 7] - f_block[:, 6]) / 2\n",
    "            n_d2 = (n_block[7, :] - n_block[6, :] + f_block[1, :] - f_block[0, :]) / 2\n",
    "            s_d2 = (s_block[1, :] - s_block[0, :] + f_block[7, :] - f_block[6, :]) / 2\n",
    "\n",
    "            w_e += np.sum((w_d1 - w_d2) ** 2 )\n",
    "            e_e += np.sum((e_d1 - e_d2) ** 2 )\n",
    "            n_e += np.sum((n_d1 - n_d2) ** 2)\n",
    "            s_e += np.sum((s_d1 - s_d2) ** 2)\n",
    "\n",
    "            # nw\n",
    "            if row == 0 or col == 0:\n",
    "                nw_block = np.flipud(np.fliplr(f_block))\n",
    "            else:\n",
    "                nw_block = Q_recover[(row - 1) * 8 : row * 8, (col - 1) * 8 : col * 8]\n",
    "            # ne\n",
    "            if row == 0 or col == Q_recover.shape[1] // 8 - 1:\n",
    "                ne_block = np.flipud(np.fliplr(f_block))\n",
    "            else:\n",
    "                ne_block = Q_recover[(row-1) * 8 : row * 8, (col + 1) * 8 : (col + 2) * 8]\n",
    "            # sw\n",
    "            if row == Q_recover.shape[0] // 8 -1 or col == 0:\n",
    "                sw_block = np.flipud(np.fliplr(f_block))\n",
    "            else:\n",
    "                sw_block = Q_recover[row * 8 : (row+1) * 8, (col-1) * 8 : col * 8]\n",
    "            # se\n",
    "            if  row == Q_recover.shape[0]//8-1 or col == Q_recover.shape[0] // 8 -1:\n",
    "                se_block = np.flipud(np.fliplr(f_block))\n",
    "            else:\n",
    "                se_block = Q_recover[(row + 1) * 8 : (row + 2) * 8, (col+1) * 8 : (col + 2) * 8]\n",
    "\n",
    "            nw_g1 = f_block[0, 0] - nw_block[7, 7]\n",
    "            ne_g1 = f_block[0, 7] - ne_block[7, 0]\n",
    "            sw_g1 = f_block[7, 0] - sw_block[0, 7]\n",
    "            se_g1 = f_block[7, 7] - se_block[0, 0]\n",
    "\n",
    "            nw_g2 = (nw_block[7,7] - nw_block[6,6] + f_block[1,1] - f_block[0,0])/2\n",
    "            ne_g2 = (ne_block[7,0] - ne_block[6,1] + f_block[1,6] - f_block[0,7])/2\n",
    "            sw_g2 = (sw_block[0,7] - nw_block[1,6] + f_block[6,1] - f_block[7,0])/2\n",
    "            se_g2 = (nw_block[0,0] - nw_block[1,1] + f_block[6,6] - f_block[7,7])/2\n",
    "\n",
    "            nw_e += (nw_g1 - nw_g2) ** 2 \n",
    "            ne_e += (ne_g1 - ne_g2) ** 2 \n",
    "            sw_e += (sw_g1 - sw_g2) ** 2 \n",
    "            se_e += (se_g1 - se_g2) ** 2 \n",
    "\n",
    "    MSDSt = (w_e + e_e + n_e + s_e + nw_e + ne_e + sw_e + se_e)/ ((512/8)**2)\n",
    "    MSDS1 = (w_e + e_e + n_e + s_e)/ ((512/8)**2)\n",
    "    MSDS2 = (nw_e + ne_e + sw_e + se_e)/ ((512/8)**2)\n",
    "\n",
    "    print(\"S=\",S)\n",
    "    print(Q,PSNR,MSSIM,MSDS1,MSDS2)\n"
   ]
  }
 ],
 "metadata": {
  "kernelspec": {
   "display_name": "Python 3",
   "language": "python",
   "name": "python3"
  },
  "language_info": {
   "codemirror_mode": {
    "name": "ipython",
    "version": 3
   },
   "file_extension": ".py",
   "mimetype": "text/x-python",
   "name": "python",
   "nbconvert_exporter": "python",
   "pygments_lexer": "ipython3",
   "version": "3.6.8"
  }
 },
 "nbformat": 4,
 "nbformat_minor": 4
}
