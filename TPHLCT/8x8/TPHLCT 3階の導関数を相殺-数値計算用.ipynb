{
 "cells": [
  {
   "cell_type": "markdown",
   "metadata": {},
   "source": [
    "# TPHLCT 3階の導関数を相殺する"
   ]
  },
  {
   "cell_type": "code",
   "execution_count": 1,
   "metadata": {},
   "outputs": [],
   "source": [
    "import numpy as np\n",
    "import scipy.misc\n",
    "from scipy.fftpack import dct, idct\n",
    "import sys\n",
    "from PIL import Image\n",
    "import matplotlib\n",
    "import matplotlib.pyplot as plt\n",
    "import random\n",
    "from tqdm._tqdm_notebook import tqdm_notebook\n",
    "from scipy.fftpack import dct, idct\n",
    "import seaborn as sns\n",
    "from skimage.metrics import structural_similarity as ssim\n",
    "\n",
    "%matplotlib inline\n",
    "\n",
    "\n",
    "class ImageLoader:\n",
    "    def __init__(self, FILE_PATH):\n",
    "        self.img = np.array(Image.open(FILE_PATH))\n",
    "        # 行数\n",
    "        self.row_blocks_count = self.img.shape[0] // 8\n",
    "        # 列数\n",
    "        self.col_blocks_count = self.img.shape[1] // 8\n",
    "\n",
    "    def get_points(self, POINT):\n",
    "        Row = random.randint(0, len(self.img) - POINT - 1)\n",
    "        Col = random.randint(0, len(self.img) - 1)\n",
    "        return self.img[Row : Row + POINT, Col]\n",
    "\n",
    "    def get_block(self, col, row):\n",
    "        return self.img[col * 8 : (col + 1) * 8, row * 8 : (row + 1) * 8]\n",
    "\n",
    "\n",
    "# plt.rcParams['font.family'] ='sans-serif'#使用するフォント\n",
    "# plt.rcParams[\"font.sans-serif\"] = \"Source Han Sans\"\n",
    "plt.rcParams[\"font.family\"] = \"Source Han Sans JP\"  # 使用するフォント\n",
    "plt.rcParams[\"xtick.direction\"] = \"in\"  # x軸の目盛線が内向き('in')か外向き('out')か双方向か('inout')\n",
    "plt.rcParams[\"ytick.direction\"] = \"in\"  # y軸の目盛線が内向き('in')か外向き('out')か双方向か('inout')\n",
    "plt.rcParams[\"xtick.major.width\"] = 1.0  # x軸主目盛り線の線幅\n",
    "plt.rcParams[\"ytick.major.width\"] = 1.0  # y軸主目盛り線の線幅\n",
    "plt.rcParams[\"font.size\"] = 12  # フォントの大きさ\n",
    "plt.rcParams[\"axes.linewidth\"] = 1.0  # 軸の線幅edge linewidth。囲みの太さ\n",
    "matplotlib.font_manager._rebuild()\n",
    "\n",
    "# 画像の用意\n",
    "\n",
    "MONO_DIR_PATH = \"../../Mono/\"\n",
    "# MONO_DIR_PATH = \"Mono/\"\n",
    "\n",
    "AIRPLANE = ImageLoader(MONO_DIR_PATH + \"airplane512.bmp\")\n",
    "BARBARA = ImageLoader(MONO_DIR_PATH + \"barbara512.bmp\")\n",
    "BOAT = ImageLoader(MONO_DIR_PATH + \"boat512.bmp\")\n",
    "GOLDHILL = ImageLoader(MONO_DIR_PATH + \"goldhill512.bmp\")\n",
    "LENNA = ImageLoader(MONO_DIR_PATH + \"lenna512.bmp\")\n",
    "MANDRILL = ImageLoader(MONO_DIR_PATH + \"mandrill512.bmp\")\n",
    "MILKDROP = ImageLoader(MONO_DIR_PATH + \"milkdrop512.bmp\")\n",
    "SAILBOAT = ImageLoader(MONO_DIR_PATH + \"sailboat512.bmp\")\n",
    "\n",
    "\n",
    "N = 8"
   ]
  },
  {
   "cell_type": "markdown",
   "metadata": {
    "toc-hr-collapsed": false
   },
   "source": [
    "# DCT"
   ]
  },
  {
   "cell_type": "markdown",
   "metadata": {},
   "source": [
    "## 基底関数"
   ]
  },
  {
   "cell_type": "markdown",
   "metadata": {},
   "source": [
    "$$\n",
    "\\phi_k[i] = \\begin{cases}\n",
    "\\cfrac{1}{\\sqrt{N}}  \\quad \\quad \\quad (k=0) \\\\\n",
    "\\sqrt{\\cfrac{2}{N}} \\cos \\left({\\cfrac{\\pi}{2N}(2i+1)k}\\right) \\quad  (k=1,2,...,N-1) \n",
    "\\end{cases}\n",
    "$$"
   ]
  },
  {
   "cell_type": "code",
   "execution_count": 2,
   "metadata": {},
   "outputs": [],
   "source": [
    "class DCT:\n",
    "    def __init__(self, N):\n",
    "        self.N = N  # データ数\n",
    "        # 1次元DCTの基底ベクトルの生成\n",
    "        self.phi_1d = np.array([self.phi(i) for i in range(self.N)])\n",
    "        # 2次元DCTの基底ベクトルの格納\n",
    "        self.phi_2d = np.zeros((N, N))\n",
    "\n",
    "    def phi(self, k):\n",
    "        \"\"\" 離散コサイン変換(DCT)の基底関数 \"\"\"\n",
    "        # DCT-II\n",
    "        if k == 0:\n",
    "            return np.ones(self.N) / np.sqrt(self.N)\n",
    "        else:\n",
    "            return np.sqrt(2.0 / self.N) * np.cos(\n",
    "                (k * np.pi / (2 * self.N)) * (np.arange(self.N) * 2 + 1)\n",
    "            )\n",
    "\n",
    "    def dct(self, data):\n",
    "        \"\"\" 1次元離散コサイン変換を行う \"\"\"\n",
    "        return self.phi_1d.dot(data)\n",
    "\n",
    "    def idct(self, c):\n",
    "        \"\"\" 1次元離散コサイン逆変換を行う \"\"\"\n",
    "        return np.sum(self.phi_1d.T * c, axis=1)\n",
    "\n",
    "    def get_dct2_phi(self, y, x):\n",
    "        \"\"\" 2次元離散コサイン変換の基底を返す \"\"\"\n",
    "        phi_x, phi_y = np.meshgrid(self.phi_1d[x], self.phi_1d[y])\n",
    "        return phi_x * phi_y\n",
    "\n",
    "    def get_dct2(self, y, x, data):\n",
    "        \"\"\" i,jの2次元DCT係数を返す \"\"\"\n",
    "        phi_2d_phi = np.zeros((self.N, self.N))\n",
    "        phi_2d_phi = self.get_dct2_phi(y, x)\n",
    "        return np.sum(np.sum(phi_2d_phi * data))\n",
    "\n",
    "    def dct2(self, data):\n",
    "        \"\"\" 2次元離散コサイン変換を行う \"\"\"\n",
    "        for y in range(self.N):\n",
    "            for x in range(self.N):\n",
    "                self.phi_2d[y, x] = self.get_dct2(y, x, data)\n",
    "\n",
    "        return self.phi_2d\n",
    "\n",
    "    def idct2(self, c):\n",
    "        \"\"\" 2次元離散コサイン逆変換を行う \"\"\"\n",
    "        idct2_data = np.zeros((self.N, self.N))\n",
    "        phi_2d_phi = np.zeros((self.N, self.N))\n",
    "        for y in range(self.N):\n",
    "            for x in range(self.N):\n",
    "                phi_2d_phi = self.get_dct2_phi(y, x)\n",
    "                idct2_data += c[y,x] * phi_2d_phi\n",
    "\n",
    "        return idct2_data"
   ]
  },
  {
   "cell_type": "markdown",
   "metadata": {},
   "source": [
    "# 係数の計算"
   ]
  },
  {
   "cell_type": "markdown",
   "metadata": {},
   "source": [
    "$\\alpha_k, \\beta_k$を計算する。  \n",
    "1階導関数を相殺するような予測関数は \n",
    "$$u(x)=-\\frac{f_x(0)}{2}(1-x^2)+\\frac{f_x(1)}{2}x^2$$\n",
    "で与えられる。  \n",
    "\n",
    "そのとき、   \n",
    "$$\\alpha_k = -\\sqrt{\\frac{2}{N}}\\sum_{\\ell=0}^{N-1}\\frac{(1-x_\\ell)^2}{2}\\cos(\\pi k x_\\ell)$$  \n",
    "$$\\beta_k = \\sqrt{\\frac{2}{N}}\\sum_{\\ell=0}^{N-1}\\frac{x_\\ell^2}{2}\\cos(\\pi k x_\\ell)$$  \n",
    "\n",
    "$a_k, b_k, c_k, d_k$を計算する。  \n",
    "3階導関数を相殺するような予測関数は \n",
    "$$\n",
    "\\begin{align}\n",
    "u(x) & =( -\\frac{1}{2}f_x(0) + \\frac{1}{12}f^{(3)}_x(0) )(1-x^2)\\\\\n",
    "     & -\\frac{1}{24}f^{(3)}_x(0)(1-x)^4\\\\\n",
    "     & +( \\frac{1}{2}f_x(1)-\\frac{1}{12}f^{(3)}_x(1) )x^2\\\\\n",
    "     & + \\frac{1}{24}f^{(3)}_x(1)x^4\n",
    "\\end{align}\n",
    "$$\n",
    "で与えられる。  \n",
    "\n",
    "そのとき、   \n",
    "$$a_k = -\\sqrt{\\frac{2}{N}}\\sum_{\\ell=0}^{N-1}\\frac{(1-x_\\ell)^2}{2}\\cos(\\pi k x_\\ell)$$  \n",
    "\n",
    "$$b_k= \\sqrt{\\frac{2}{N}}\\sum_{\\ell=0}^{N-1}( \\frac{1}{24}-\\frac{x_\\ell^2}{6}+\\frac{x_\\ell^3}{6}-\\frac{x_\\ell^4}{24} )\\cos(\\pi k x_\\ell)$$  \n",
    "\n",
    "$$c_k = \\sqrt{\\frac{2}{N}}\\sum_{\\ell=0}^{N-1}\\frac{x_\\ell^2}{2}\\cos(\\pi k x_\\ell)$$\n",
    "\n",
    "$$d_k = \\sqrt{\\frac{2}{N}}\\sum_{\\ell=0}^{N-1}( -\\frac{x_\\ell^2}{12}+\\frac{x_\\ell^4}{24} )\\cos(\\pi k x_\\ell)$$  "
   ]
  },
  {
   "cell_type": "code",
   "execution_count": 3,
   "metadata": {},
   "outputs": [
    {
     "data": {
      "text/plain": [
       "<matplotlib.legend.Legend at 0x28bf65bef98>"
      ]
     },
     "execution_count": 3,
     "metadata": {},
     "output_type": "execute_result"
    },
    {
     "name": "stderr",
     "output_type": "stream",
     "text": [
      "findfont: Font family ['Source Han Sans JP'] not found. Falling back to DejaVu Sans.\n"
     ]
    },
    {
     "data": {
      "image/png": "[encoded data removed]",
      "text/plain": [
       "<Figure size 432x288 with 1 Axes>"
      ]
     },
     "metadata": {
      "needs_background": "light"
     },
     "output_type": "display_data"
    }
   ],
   "source": [
    "sampling_x = (0.5 + np.arange(N)) / N\n",
    "u_1 = (1 - sampling_x) ** 2 / 2\n",
    "u_2 = 1 / 24 - sampling_x ** 2 / 6 + sampling_x ** 3 / 6 - sampling_x ** 4 / 24\n",
    "u_3 = sampling_x ** 2 / 2\n",
    "u_4 = -sampling_x ** 2 / 12 + sampling_x ** 4 / 24\n",
    "plt.plot(u_1, label=\"u_1\")\n",
    "plt.plot(u_2, label=\"u_2\")\n",
    "plt.plot(u_3, label=\"u_3\")\n",
    "plt.plot(u_4, label=\"u_4\")\n",
    "plt.legend()"
   ]
  },
  {
   "cell_type": "code",
   "execution_count": 4,
   "metadata": {},
   "outputs": [
    {
     "data": {
      "text/plain": [
       "array([-0.4695631 , -0.40264519, -0.09857256, -0.04209093, -0.02209709,\n",
       "       -0.01255643, -0.00700534, -0.0031689 ])"
      ]
     },
     "execution_count": 4,
     "metadata": {},
     "output_type": "execute_result"
    }
   ],
   "source": [
    "ak = - scipy.fftpack.dct(u_1,norm=\"ortho\")\n",
    "ak"
   ]
  },
  {
   "cell_type": "code",
   "execution_count": 5,
   "metadata": {},
   "outputs": [
    {
     "data": {
      "text/plain": [
       "array([5.49963549e-02, 4.10626933e-02, 2.56510471e-03, 5.05282177e-04,\n",
       "       1.58247367e-04, 6.27721528e-05, 2.74988517e-05, 1.08051832e-05])"
      ]
     },
     "execution_count": 5,
     "metadata": {},
     "output_type": "execute_result"
    }
   ],
   "source": [
    "bk = scipy.fftpack.dct(u_2,norm=\"ortho\")\n",
    "bk"
   ]
  },
  {
   "cell_type": "code",
   "execution_count": 6,
   "metadata": {},
   "outputs": [
    {
     "data": {
      "text/plain": [
       "array([ 0.4695631 , -0.40264519,  0.09857256, -0.04209093,  0.02209709,\n",
       "       -0.01255643,  0.00700534, -0.0031689 ])"
      ]
     },
     "execution_count": 6,
     "metadata": {},
     "output_type": "execute_result"
    }
   ],
   "source": [
    "ck = scipy.fftpack.dct(u_3,norm=\"ortho\")\n",
    "ck"
   ]
  },
  {
   "cell_type": "code",
   "execution_count": 7,
   "metadata": {},
   "outputs": [
    {
     "data": {
      "text/plain": [
       "array([-5.49963549e-02,  4.10626933e-02, -2.56510471e-03,  5.05282177e-04,\n",
       "       -1.58247367e-04,  6.27721528e-05, -2.74988517e-05,  1.08051832e-05])"
      ]
     },
     "execution_count": 7,
     "metadata": {},
     "output_type": "execute_result"
    }
   ],
   "source": [
    "dk = scipy.fftpack.dct(u_4,norm=\"ortho\")\n",
    "dk"
   ]
  },
  {
   "cell_type": "code",
   "execution_count": 8,
   "metadata": {},
   "outputs": [
    {
     "data": {
      "text/plain": [
       "array([-0.4695631 , -0.40264519, -0.09857256, -0.04209093, -0.02209709,\n",
       "       -0.01255643, -0.00700534, -0.0031689 ])"
      ]
     },
     "execution_count": 8,
     "metadata": {},
     "output_type": "execute_result"
    }
   ],
   "source": [
    "alpha = ak\n",
    "alpha"
   ]
  },
  {
   "cell_type": "code",
   "execution_count": 9,
   "metadata": {},
   "outputs": [
    {
     "data": {
      "text/plain": [
       "array([ 0.4695631 , -0.40264519,  0.09857256, -0.04209093,  0.02209709,\n",
       "       -0.01255643,  0.00700534, -0.0031689 ])"
      ]
     },
     "execution_count": 9,
     "metadata": {},
     "output_type": "execute_result"
    }
   ],
   "source": [
    "beta = ck\n",
    "beta"
   ]
  },
  {
   "cell_type": "code",
   "execution_count": 10,
   "metadata": {},
   "outputs": [
    {
     "data": {
      "text/plain": [
       "array([-0.64313761, -0.51699881, -0.08421175, -0.03262109, -0.01652018,\n",
       "       -0.00923383, -0.00510908, -0.00230187])"
      ]
     },
     "execution_count": 10,
     "metadata": {},
     "output_type": "execute_result"
    }
   ],
   "source": [
    "Ak = (2 * ak - 16 * bk) / np.sqrt(N)\n",
    "Ak"
   ]
  },
  {
   "cell_type": "code",
   "execution_count": 11,
   "metadata": {},
   "outputs": [
    {
     "data": {
      "text/plain": [
       "array([ 0.64313761, -0.51699881,  0.08421175, -0.03262109,  0.01652018,\n",
       "       -0.00923383,  0.00510908, -0.00230187])"
      ]
     },
     "execution_count": 11,
     "metadata": {},
     "output_type": "execute_result"
    }
   ],
   "source": [
    "Bk = (2 * ck - 16 * dk) / np.sqrt(N)\n",
    "Bk"
   ]
  },
  {
   "cell_type": "code",
   "execution_count": 12,
   "metadata": {},
   "outputs": [
    {
     "data": {
      "text/plain": [
       "array([-0.95424398, -0.74928449, -0.09872217, -0.03547939, -0.01741536,\n",
       "       -0.00958892, -0.00526463, -0.00236299])"
      ]
     },
     "execution_count": 12,
     "metadata": {},
     "output_type": "execute_result"
    }
   ],
   "source": [
    "Ck = (2 * ak - 32 * bk) / np.sqrt(N)\n",
    "Ck"
   ]
  },
  {
   "cell_type": "code",
   "execution_count": 13,
   "metadata": {},
   "outputs": [
    {
     "data": {
      "text/plain": [
       "array([ 0.95424398, -0.74928449,  0.09872217, -0.03547939,  0.01741536,\n",
       "       -0.00958892,  0.00526463, -0.00236299])"
      ]
     },
     "execution_count": 13,
     "metadata": {},
     "output_type": "execute_result"
    }
   ],
   "source": [
    "Dk = (2 * ck - 32 * dk) / np.sqrt(N)\n",
    "Dk"
   ]
  },
  {
   "cell_type": "markdown",
   "metadata": {
    "toc-hr-collapsed": false
   },
   "source": [
    "# DCTして残差を計算"
   ]
  },
  {
   "cell_type": "markdown",
   "metadata": {},
   "source": [
    "$\n",
    "V_k = F_k - U_k\\\\\n",
    "V_k = F_k - A_k(F_0-F_0^L) -B_k(F_0^R-F_0)-C_k(F_1+F_1^L)-D_k(F_1^R+F_1)\n",
    "$"
   ]
  },
  {
   "cell_type": "code",
   "execution_count": 14,
   "metadata": {},
   "outputs": [],
   "source": [
    "IMG = SAILBOAT"
   ]
  },
  {
   "cell_type": "code",
   "execution_count": 15,
   "metadata": {},
   "outputs": [],
   "source": [
    "Fk = np.zeros(IMG.img.shape)"
   ]
  },
  {
   "cell_type": "markdown",
   "metadata": {
    "toc-hr-collapsed": false
   },
   "source": [
    "## DCT 縦方向"
   ]
  },
  {
   "cell_type": "markdown",
   "metadata": {},
   "source": [
    "2次元入力信号を垂直方向の一次元信号が水平方向に並列に並んでいるものとみなし、各列において8画素単位の1次元DCTを適用する"
   ]
  },
  {
   "cell_type": "code",
   "execution_count": 16,
   "metadata": {},
   "outputs": [],
   "source": [
    "for row in range(IMG.img.shape[0] // 8):\n",
    "    for col in range(IMG.img.shape[1]):\n",
    "        eight_points = IMG.img[8 * row : 8 * (row + 1), col]\n",
    "        c = scipy.fftpack.dct(eight_points,norm=\"ortho\")\n",
    "        Fk[8 * row : 8 * (row + 1), col] = c"
   ]
  },
  {
   "cell_type": "markdown",
   "metadata": {},
   "source": [
    "## 縦方向の残差"
   ]
  },
  {
   "cell_type": "markdown",
   "metadata": {},
   "source": [
    "### 3階の導関数"
   ]
  },
  {
   "cell_type": "code",
   "execution_count": 17,
   "metadata": {},
   "outputs": [],
   "source": [
    "for row in range(Fk.shape[0] // 8):\n",
    "    for col in range(Fk.shape[1]):\n",
    "        F = Fk[8 * row : 8 * (row + 1), col]\n",
    "\n",
    "        F_0_r = 0\n",
    "        F_1_r = 0\n",
    "        if row is not Fk.shape[0] // 8 - 1:\n",
    "            F_0_r = Fk[8 * (row + 1), col]\n",
    "            F_1_r = Fk[8 * (row + 1) + 1, col]\n",
    "\n",
    "        F_0_l = 0\n",
    "        F_1_l = 1\n",
    "        if row is not 0:\n",
    "            F_0_l = Fk[8 * (row - 1), col]\n",
    "            F_1_l = Fk[8 * (row - 1) + 1, col]\n",
    "\n",
    "        # 残差\n",
    "        F_0 = F[0]\n",
    "        F_1 = F[1]\n",
    "\n",
    "        F = (\n",
    "            F\n",
    "            - Ak * (F_0 - F_0_l)\n",
    "            - Bk * (F_0_r - F_0)\n",
    "            - Ck * (F_1 + F_1_l)\n",
    "            - Dk * (F_1_r + F_1)\n",
    "        )\n",
    "        # F_0, F_1は残す\n",
    "        F[0] = F_0\n",
    "        F[1] = F_1\n",
    "        # F_0 V_1 V_2 V_3 V_4 V_5 V_6 V_7\n",
    "        Fk[8 * row : 8 * (row + 1), col] = F"
   ]
  },
  {
   "cell_type": "markdown",
   "metadata": {},
   "source": [
    "### 1階の導関数"
   ]
  },
  {
   "cell_type": "code",
   "execution_count": 18,
   "metadata": {},
   "outputs": [],
   "source": [
    "for row in range(Fk.shape[0] // 8):\n",
    "    for col in range(Fk.shape[1]):\n",
    "        F = Fk[8 * row : 8 * (row + 1), col]\n",
    "\n",
    "        F_0_r = 0\n",
    "        if row is not Fk.shape[0] // 8 - 1:\n",
    "            F_0_r = Fk[8 * (row + 1), col]\n",
    "\n",
    "        F_0_l = 0\n",
    "        if row is not 0:\n",
    "            F_0_l = Fk[8 * (row - 1), col]\n",
    "\n",
    "        # 残差\n",
    "        F_0 = F[0]\n",
    "        F_temp = F - alpha * (F_0_r - F_0) / np.sqrt(N) - beta * (F_0 - F_0_l) / np.sqrt(N)\n",
    "        # F_0は残す\n",
    "        F[1] = F_temp[1]\n",
    "        # F_0 V_1 V_2 V_3 V_4 V_5 V_6 V_7\n",
    "        Fk[8 * row : 8 * (row + 1), col] = F"
   ]
  },
  {
   "cell_type": "markdown",
   "metadata": {},
   "source": [
    "## DCT 横方向"
   ]
  },
  {
   "cell_type": "code",
   "execution_count": 19,
   "metadata": {},
   "outputs": [],
   "source": [
    "for row in range(Fk.shape[0]):\n",
    "    for col in range(Fk.shape[1] // 8):\n",
    "        eight_points = Fk[row, 8 * col : 8 * (col + 1)]\n",
    "        c = scipy.fftpack.dct(eight_points,norm=\"ortho\")\n",
    "        Fk[row, 8 * col : 8 * (col + 1)] = c"
   ]
  },
  {
   "cell_type": "markdown",
   "metadata": {},
   "source": [
    "## 横方向の残差"
   ]
  },
  {
   "cell_type": "markdown",
   "metadata": {},
   "source": [
    "### 3階の導関数"
   ]
  },
  {
   "cell_type": "code",
   "execution_count": 20,
   "metadata": {},
   "outputs": [],
   "source": [
    "for row in range(Fk.shape[0]):\n",
    "    for col in range(Fk.shape[1] // 8):\n",
    "        F = Fk[row, 8 * col : 8 * (col + 1)]\n",
    "\n",
    "        F_0_r = 0\n",
    "        F_1_r = 0\n",
    "        if col is not Fk.shape[1] // 8 - 1:\n",
    "            F_0_r = Fk[row, 8 * (col + 1)]\n",
    "            F_1_r = Fk[row, 8 * (col + 1) + 1]\n",
    "\n",
    "        F_0_l = 0\n",
    "        F_1_l = 0\n",
    "        if col is not 0:\n",
    "            F_0_l = Fk[row, 8 * (col - 1)]\n",
    "            F_1_l = Fk[row, 8 * (col - 1) + 1]\n",
    "\n",
    "        # 残差\n",
    "        F_0 = F[0]\n",
    "        F_1 = F[1]\n",
    "\n",
    "        F = (\n",
    "            F\n",
    "            - Ak * (F_0 - F_0_l)\n",
    "            - Bk * (F_0_r - F_0)\n",
    "            - Ck * (F_1 + F_1_l)\n",
    "            - Dk * (F_1_r + F_1)\n",
    "        )\n",
    "        # F_0は残す\n",
    "        F[0] = F_0\n",
    "        F[1] = F_1\n",
    "        # F_0 V_1 V_2 V_3 V_4 V_5 V_6 V_7\n",
    "        Fk[row, 8 * col : 8 * (col + 1)] = F"
   ]
  },
  {
   "cell_type": "markdown",
   "metadata": {},
   "source": [
    "### 1階の導関数"
   ]
  },
  {
   "cell_type": "code",
   "execution_count": 21,
   "metadata": {},
   "outputs": [],
   "source": [
    "for row in range(Fk.shape[0]):\n",
    "    for col in range(Fk.shape[1] // 8):\n",
    "        F = Fk[row, 8 * col : 8 * (col + 1)]\n",
    "\n",
    "        F_0_r = 0\n",
    "        if col is not Fk.shape[1] // 8 - 1:\n",
    "            F_0_r = Fk[row, 8 * (col + 1)]\n",
    "\n",
    "        F_0_l = 0\n",
    "        if col is not 0:\n",
    "            F_0_l = Fk[row, 8 * (col - 1)]\n",
    "\n",
    "        # 残差\n",
    "        F_0 = F[0]\n",
    "        F_temp = F - alpha * (F_0_r - F_0) / np.sqrt(N) - beta * (F_0 - F_0_l) / np.sqrt(N)\n",
    "        # F_0は残す\n",
    "        F[1] = F_temp[1]\n",
    "        # F_0 V_1 V_2 V_3 V_4 V_5 V_6 V_7\n",
    "        Fk[row, 8 * col : 8 * (col + 1)] = F"
   ]
  },
  {
   "cell_type": "markdown",
   "metadata": {},
   "source": [
    "# 係数の確保"
   ]
  },
  {
   "cell_type": "code",
   "execution_count": 22,
   "metadata": {},
   "outputs": [],
   "source": [
    "Fk_Ori = np.copy(Fk)"
   ]
  },
  {
   "cell_type": "markdown",
   "metadata": {},
   "source": [
    "# 低域3成分 (0,1)(1,0)(1,1)の絶対値の和"
   ]
  },
  {
   "cell_type": "code",
   "execution_count": 23,
   "metadata": {},
   "outputs": [],
   "source": [
    "low_3_value = 0\n",
    "others_value = 0"
   ]
  },
  {
   "cell_type": "code",
   "execution_count": 24,
   "metadata": {},
   "outputs": [],
   "source": [
    "for row in range(Fk.shape[0] // 8):\n",
    "    for col in range(Fk.shape[1] // 8):\n",
    "        block = Fk[row * 8 : (row + 1) * 8, col * 8 : (col + 1) * 8]\n",
    "        low_3_value += np.abs(block[0, 1]) + np.abs(block[1, 0]) + np.abs(block[1, 1])\n",
    "        others_value += (\n",
    "            np.sum(np.sum(np.abs(block)))\n",
    "            - np.abs(block[0, 0])\n",
    "            - np.abs(block[0, 1])\n",
    "            - np.abs(block[1, 0])\n",
    "            - np.abs(block[1, 1])\n",
    "        )"
   ]
  },
  {
   "cell_type": "code",
   "execution_count": 25,
   "metadata": {},
   "outputs": [
    {
     "data": {
      "text/plain": [
       "482390.59586799867"
      ]
     },
     "execution_count": 25,
     "metadata": {},
     "output_type": "execute_result"
    }
   ],
   "source": [
    "low_3_value"
   ]
  },
  {
   "cell_type": "code",
   "execution_count": 26,
   "metadata": {},
   "outputs": [
    {
     "data": {
      "text/plain": [
       "1722367.668036945"
      ]
     },
     "execution_count": 26,
     "metadata": {},
     "output_type": "execute_result"
    }
   ],
   "source": [
    "others_value"
   ]
  },
  {
   "cell_type": "markdown",
   "metadata": {},
   "source": [
    "# 逆変換"
   ]
  },
  {
   "cell_type": "markdown",
   "metadata": {},
   "source": [
    "$\n",
    "F_k = F_k + U_k\\\\\n",
    "F_k = V_k + A_k(F_0-F_0^L) +B_k(F_0^R-F_0)+C_k(F_1+F_1^L)+D_k(F_1^R+F_1)\n",
    "$"
   ]
  },
  {
   "cell_type": "code",
   "execution_count": 27,
   "metadata": {},
   "outputs": [],
   "source": [
    "# recover = np.zeros(IMG.img.shape).astype(\"uint8\")\n",
    "recover = np.zeros(IMG.img.shape)"
   ]
  },
  {
   "cell_type": "markdown",
   "metadata": {
    "toc-hr-collapsed": false
   },
   "source": [
    "## 横方向の残差"
   ]
  },
  {
   "cell_type": "markdown",
   "metadata": {},
   "source": [
    "### 1階の導関数 "
   ]
  },
  {
   "cell_type": "code",
   "execution_count": 28,
   "metadata": {},
   "outputs": [],
   "source": [
    "for row in range(Fk.shape[0]):\n",
    "    for col in range(Fk.shape[1] // 8):\n",
    "        F = Fk[row, 8 * col : 8 * col + 8]\n",
    "\n",
    "        F_0_r = 0\n",
    "        if col is not Fk.shape[1] // 8 - 1:\n",
    "            F_0_r = Fk[row, 8 * (col + 1)]\n",
    "\n",
    "        F_0_l = 0\n",
    "        if col is not 0:\n",
    "            F_0_l = Fk[row, 8 * (col - 1)]\n",
    "\n",
    "        # 残差\n",
    "        F_0 = F[0]\n",
    "        F_temp = F + alpha * (F_0_r - F_0) / np.sqrt(N) + beta * (F_0 - F_0_l) / np.sqrt(N)\n",
    "        # F_0は残す\n",
    "        F[1] = F_temp[1]\n",
    "        # F_0 V_1 V_2 V_3 V_4 V_5 V_6 V_7\n",
    "        Fk[row, 8 * col : 8 * col + 8] = F"
   ]
  },
  {
   "cell_type": "markdown",
   "metadata": {},
   "source": [
    "### 3階の導関数"
   ]
  },
  {
   "cell_type": "code",
   "execution_count": 29,
   "metadata": {},
   "outputs": [],
   "source": [
    "for row in range(Fk.shape[0]):\n",
    "    for col in range(Fk.shape[1] // 8):\n",
    "        F = Fk[row, 8 * col : 8 * (col + 1)]\n",
    "\n",
    "        F_0_r = 0\n",
    "        F_1_r = 0\n",
    "        if col is not Fk.shape[1] // 8 - 1:\n",
    "            F_0_r = Fk[row, 8 * (col + 1)]\n",
    "            F_1_r = Fk[row, 8 * (col + 1) + 1]\n",
    "\n",
    "        F_0_l = 0\n",
    "        F_1_l = 0\n",
    "        if col is not 0:\n",
    "            F_0_l = Fk[row, 8 * (col - 1)]\n",
    "            F_1_l = Fk[row, 8 * (col - 1) + 1]\n",
    "\n",
    "        # 残差\n",
    "        F_0 = F[0]\n",
    "        F_1 = F[1]\n",
    "\n",
    "        F = (\n",
    "            F\n",
    "            + Ak * (F_0 - F_0_l)\n",
    "            + Bk * (F_0_r - F_0)\n",
    "            + Ck * (F_1 + F_1_l)\n",
    "            + Dk * (F_1_r + F_1)\n",
    "        )\n",
    "        # F_0は残す\n",
    "        F[0] = F_0\n",
    "        F[1] = F_1\n",
    "        # F_0 V_1 V_2 V_3 V_4 V_5 V_6 V_7\n",
    "        Fk[row, 8 * col : 8 * (col + 1)] = F"
   ]
  },
  {
   "cell_type": "markdown",
   "metadata": {},
   "source": [
    "### IDCT 横方向"
   ]
  },
  {
   "cell_type": "code",
   "execution_count": 30,
   "metadata": {},
   "outputs": [],
   "source": [
    "for row in range(Fk.shape[0]):\n",
    "    for col in range(Fk.shape[1] // 8):\n",
    "        F = Fk[row, 8 * col : 8 * col + 8]\n",
    "        data = scipy.fftpack.idct(F,norm=\"ortho\")\n",
    "        # Fkに代入した後、縦方向に対して処理\n",
    "        Fk[row, 8 * col : 8 * col + 8] = data\n",
    "        # 復元画像\n",
    "#         recover[row, 8 * col : 8 * col + 8] = data"
   ]
  },
  {
   "cell_type": "markdown",
   "metadata": {
    "toc-hr-collapsed": false
   },
   "source": [
    "## 縦方向"
   ]
  },
  {
   "cell_type": "markdown",
   "metadata": {},
   "source": [
    "### 1階の導関数"
   ]
  },
  {
   "cell_type": "code",
   "execution_count": 31,
   "metadata": {},
   "outputs": [],
   "source": [
    "for row in range(Fk.shape[0] // 8):\n",
    "    for col in range(Fk.shape[1]):\n",
    "        F = Fk[8 * row : 8 * row + 8, col]\n",
    "\n",
    "        F_0_r = 0\n",
    "        if row is not Fk.shape[0] // 8 - 1:\n",
    "            F_0_r = Fk[8 * (row + 1), col]\n",
    "\n",
    "        F_0_l = 0\n",
    "        if row is not 0:\n",
    "            F_0_l = Fk[8 * (row - 1), col]\n",
    "\n",
    "        # 残差\n",
    "        F_0 = F[0]\n",
    "        F_temp = F + alpha * (F_0_r - F_0) / np.sqrt(N) + beta * (F_0 - F_0_l) / np.sqrt(N)\n",
    "        # F_0は残す\n",
    "        F[1] = F_temp[1]\n",
    "        # F_0 F_1 F_2 F_3 F_4 F_5 F_6 F_7\n",
    "        Fk[8 * row : 8 * row + 8, col] = F"
   ]
  },
  {
   "cell_type": "markdown",
   "metadata": {},
   "source": [
    "### 3階の導関数"
   ]
  },
  {
   "cell_type": "code",
   "execution_count": 32,
   "metadata": {},
   "outputs": [],
   "source": [
    "for row in range(Fk.shape[0] // 8):\n",
    "    for col in range(Fk.shape[1]):\n",
    "        F = Fk[8 * row : 8 * (row + 1), col]\n",
    "\n",
    "        F_0_r = 0\n",
    "        F_1_r = 0\n",
    "        if row is not Fk.shape[0] // 8 - 1:\n",
    "            F_0_r = Fk[8 * (row + 1), col]\n",
    "            F_1_r = Fk[8 * (row + 1) + 1, col]\n",
    "\n",
    "        F_0_l = 0\n",
    "        F_1_l = 1\n",
    "        if row is not 0:\n",
    "            F_0_l = Fk[8 * (row - 1), col]\n",
    "            F_1_l = Fk[8 * (row - 1) + 1, col]\n",
    "\n",
    "        # 残差\n",
    "        F_0 = F[0]\n",
    "        F_1 = F[1]\n",
    "\n",
    "        F = (\n",
    "            F\n",
    "            + Ak * (F_0 - F_0_l)\n",
    "            + Bk * (F_0_r - F_0)\n",
    "            + Ck * (F_1 + F_1_l)\n",
    "            + Dk * (F_1_r + F_1)\n",
    "        )\n",
    "        # F_0, F_1は残す\n",
    "        F[0] = F_0\n",
    "        F[1] = F_1\n",
    "        # F_0 V_1 V_2 V_3 V_4 V_5 V_6 V_7\n",
    "        Fk[8 * row : 8 * (row + 1), col] = F"
   ]
  },
  {
   "cell_type": "markdown",
   "metadata": {},
   "source": [
    "### 縦方向IDCT"
   ]
  },
  {
   "cell_type": "code",
   "execution_count": 33,
   "metadata": {},
   "outputs": [],
   "source": [
    "for row in range(Fk.shape[0] // 8):\n",
    "    for col in range(Fk.shape[1]):\n",
    "        F = Fk[8 * row : 8 * (row + 1), col]\n",
    "        data = scipy.fftpack.idct(F,norm=\"ortho\")\n",
    "        # 復元画像\n",
    "        recover[8 * row : 8 * (row + 1), col] = data\n",
    "        # FKに代入した後、横方向に対して処理\n",
    "#         Fk[8 * row : 8 * (row + 1), col] = data"
   ]
  },
  {
   "cell_type": "code",
   "execution_count": 34,
   "metadata": {},
   "outputs": [
    {
     "data": {
      "text/plain": [
       "<matplotlib.image.AxesImage at 0x28bf86b8550>"
      ]
     },
     "execution_count": 34,
     "metadata": {},
     "output_type": "execute_result"
    },
    {
     "data": {
      "image/png": "[encoded data removed]",
      "text/plain": [
       "<Figure size 432x288 with 1 Axes>"
      ]
     },
     "metadata": {
      "needs_background": "light"
     },
     "output_type": "display_data"
    }
   ],
   "source": [
    "plt.imshow(np.round(recover), cmap=\"gray\")"
   ]
  },
  {
   "cell_type": "code",
   "execution_count": 35,
   "metadata": {},
   "outputs": [
    {
     "data": {
      "text/plain": [
       "<matplotlib.image.AxesImage at 0x28bf8d11320>"
      ]
     },
     "execution_count": 35,
     "metadata": {},
     "output_type": "execute_result"
    },
    {
     "data": {
      "image/png": "[encoded data removed]",
      "text/plain": [
       "<Figure size 432x288 with 1 Axes>"
      ]
     },
     "metadata": {
      "needs_background": "light"
     },
     "output_type": "display_data"
    }
   ],
   "source": [
    "plt.imshow(IMG.img, cmap=\"gray\")"
   ]
  },
  {
   "cell_type": "code",
   "execution_count": 36,
   "metadata": {},
   "outputs": [
    {
     "data": {
      "text/plain": [
       "array([30., 13., 15., 18., 19., 15., 15., 12., 15., 18.])"
      ]
     },
     "execution_count": 36,
     "metadata": {},
     "output_type": "execute_result"
    }
   ],
   "source": [
    "recover[0, 0:10]"
   ]
  },
  {
   "cell_type": "code",
   "execution_count": 37,
   "metadata": {},
   "outputs": [
    {
     "data": {
      "text/plain": [
       "array([30, 13, 15, 18, 19, 15, 15, 12, 15, 18], dtype=uint8)"
      ]
     },
     "execution_count": 37,
     "metadata": {},
     "output_type": "execute_result"
    }
   ],
   "source": [
    "IMG.img[0, 0:10]"
   ]
  },
  {
   "cell_type": "markdown",
   "metadata": {},
   "source": [
    "ちゃんと復元できた"
   ]
  },
  {
   "cell_type": "markdown",
   "metadata": {},
   "source": [
    "# 量子化テーブル"
   ]
  },
  {
   "cell_type": "code",
   "execution_count": 38,
   "metadata": {},
   "outputs": [],
   "source": [
    "Q50_Luminance = np.array(\n",
    "    [\n",
    "        [16, 11, 10, 16, 24, 40, 51, 61],\n",
    "        [12, 12, 14, 19, 26, 58, 60, 55],\n",
    "        [14, 13, 16, 24, 40, 57, 69, 56],\n",
    "        [14, 17, 22, 29, 51, 87, 80, 62],\n",
    "        [18, 22, 37, 56, 68, 109, 103, 77],\n",
    "        [24, 35, 55, 64, 81, 104, 113, 92],\n",
    "        [49, 64, 78, 87, 103, 121, 120, 101],\n",
    "        [72, 92, 95, 98, 112, 100, 103, 99],\n",
    "    ]\n",
    ")"
   ]
  },
  {
   "cell_type": "markdown",
   "metadata": {},
   "source": [
    "$$\n",
    "S = (Q < 50)?\\frac{5000}{Q}:200-2Q\\\\\n",
    "Q_s[i] = \\left[\\frac{S\\times Q_b[i]+50}{100}\\right]\n",
    "$$"
   ]
  },
  {
   "cell_type": "code",
   "execution_count": 39,
   "metadata": {},
   "outputs": [
    {
     "name": "stdout",
     "output_type": "stream",
     "text": [
      "S= 2.4672558930387685\n",
      "77 34.55586522156651 0.9152291727917901 10056.440673828125 4436.292785644531\n"
     ]
    }
   ],
   "source": [
    "# Q=80における量子化テーブルをスケーリング\n",
    "Q = 77 \n",
    "if Q < 50:\n",
    "    S = 5000 / Q\n",
    "else:\n",
    "    S = 200 - 2 * Q\n",
    "\n",
    "S = np.floor(S)\n",
    "\n",
    "Q_Luminance = np.zeros((8, 8))\n",
    "for row in range(8):\n",
    "    for col in range(8):\n",
    "        Q_Luminance[row, col] = np.floor((S * Q50_Luminance[row, col] + 50) / 100)\n",
    "        \n",
    "Fk = np.copy(Fk_Ori)\n",
    "Q_Fk = np.zeros(Fk.shape)\n",
    "for row in range(IMG.img.shape[0] // 8):\n",
    "    for col in range(IMG.img.shape[1] // 8):\n",
    "        block = Fk[row * 8 : (row + 1) * 8, col * 8 : (col + 1) * 8]\n",
    "        # 量子化\n",
    "        block = np.round(block / Q_Luminance)\n",
    "        # 逆量子化\n",
    "        block = block * Q_Luminance\n",
    "        Q_Fk[row * 8 : (row+1)*8, col * 8 : (col+1)*8] = block\n",
    "\n",
    "Fk = np.copy(Q_Fk)\n",
    "Q_recover = np.zeros(Q_Fk.shape)\n",
    "# 横方向\n",
    "for row in range(Fk.shape[0]):\n",
    "    for col in range(Fk.shape[1] // 8):\n",
    "        F = Fk[row, 8 * col : 8 * col + 8]\n",
    "\n",
    "        F_0_r = 0\n",
    "        if col is not Fk.shape[1] // 8 - 1:\n",
    "            F_0_r = Fk[row, 8 * (col + 1)]\n",
    "\n",
    "        F_0_l = 0\n",
    "        if col is not 0:\n",
    "            F_0_l = Fk[row, 8 * (col - 1)]\n",
    "\n",
    "        # 残差\n",
    "        F_0 = F[0]\n",
    "        F_temp = F + alpha * (F_0_r - F_0) / np.sqrt(N) + beta * (F_0 - F_0_l) / np.sqrt(N)\n",
    "        # F_0は残す\n",
    "        F[1] = F_temp[1]\n",
    "        # F_0 V_1 V_2 V_3 V_4 V_5 V_6 V_7\n",
    "        Fk[row, 8 * col : 8 * col + 8] = F\n",
    "\n",
    "for row in range(Fk.shape[0]):\n",
    "    for col in range(Fk.shape[1] // 8):\n",
    "        F = Fk[row, 8 * col : 8 * (col + 1)]\n",
    "\n",
    "        F_0_r = 0\n",
    "        F_1_r = 0\n",
    "        if col is not Fk.shape[1] // 8 - 1:\n",
    "            F_0_r = Fk[row, 8 * (col + 1)]\n",
    "            F_1_r = Fk[row, 8 * (col + 1) + 1]\n",
    "\n",
    "        F_0_l = 0\n",
    "        F_1_l = 0\n",
    "        if col is not 0:\n",
    "            F_0_l = Fk[row, 8 * (col - 1)]\n",
    "            F_1_l = Fk[row, 8 * (col - 1) + 1]\n",
    "\n",
    "        # 残差\n",
    "        F_0 = F[0]\n",
    "        F_1 = F[1]\n",
    "\n",
    "        F = (\n",
    "            F\n",
    "            + Ak * (F_0 - F_0_l)\n",
    "            + Bk * (F_0_r - F_0)\n",
    "            + Ck * (F_1 + F_1_l)\n",
    "            + Dk * (F_1_r + F_1)\n",
    "        )\n",
    "        # F_0は残す\n",
    "        F[0] = F_0\n",
    "        F[1] = F_1\n",
    "        # F_0 V_1 V_2 V_3 V_4 V_5 V_6 V_7\n",
    "        Fk[row, 8 * col : 8 * (col + 1)] = F\n",
    "\n",
    "for row in range(Fk.shape[0]):\n",
    "    for col in range(Fk.shape[1] // 8):\n",
    "        F = Fk[row, 8 * col : 8 * col + 8]\n",
    "        data = scipy.fftpack.idct(F,norm=\"ortho\")\n",
    "        # Fkに代入した後、縦方向に対して処理\n",
    "        Fk[row, 8 * col : 8 * col + 8] = data\n",
    "        # 復元画像\n",
    "#         recover[row, 8 * col : 8 * col + 8] = data\n",
    "\n",
    "# 縦方向\n",
    "for row in range(Fk.shape[0] // 8):\n",
    "    for col in range(Fk.shape[1]):\n",
    "        F = Fk[8 * row : 8 * row + 8, col]\n",
    "\n",
    "        F_0_r = 0\n",
    "        if row is not Fk.shape[0] // 8 - 1:\n",
    "            F_0_r = Fk[8 * (row + 1), col]\n",
    "\n",
    "        F_0_l = 0\n",
    "        if row is not 0:\n",
    "            F_0_l = Fk[8 * (row - 1), col]\n",
    "\n",
    "        # 残差\n",
    "        F_0 = F[0]\n",
    "        F_temp = F + alpha * (F_0_r - F_0) / np.sqrt(N) + beta * (F_0 - F_0_l) / np.sqrt(N)\n",
    "        # F_0は残す\n",
    "        F[1] = F_temp[1]\n",
    "        # F_0 F_1 F_2 F_3 F_4 F_5 F_6 F_7\n",
    "        Fk[8 * row : 8 * row + 8, col] = F\n",
    "        \n",
    "for row in range(Fk.shape[0] // 8):\n",
    "    for col in range(Fk.shape[1]):\n",
    "        F = Fk[8 * row : 8 * (row + 1), col]\n",
    "\n",
    "        F_0_r = 0\n",
    "        F_1_r = 0\n",
    "        if row is not Fk.shape[0] // 8 - 1:\n",
    "            F_0_r = Fk[8 * (row + 1), col]\n",
    "            F_1_r = Fk[8 * (row + 1) + 1, col]\n",
    "\n",
    "        F_0_l = 0\n",
    "        F_1_l = 1\n",
    "        if row is not 0:\n",
    "            F_0_l = Fk[8 * (row - 1), col]\n",
    "            F_1_l = Fk[8 * (row - 1) + 1, col]\n",
    "\n",
    "        # 残差\n",
    "        F_0 = F[0]\n",
    "        F_1 = F[1]\n",
    "\n",
    "        F = (\n",
    "            F\n",
    "            + Ak * (F_0 - F_0_l)\n",
    "            + Bk * (F_0_r - F_0)\n",
    "            + Ck * (F_1 + F_1_l)\n",
    "            + Dk * (F_1_r + F_1)\n",
    "        )\n",
    "        # F_0, F_1は残す\n",
    "        F[0] = F_0\n",
    "        F[1] = F_1\n",
    "        # F_0 V_1 V_2 V_3 V_4 V_5 V_6 V_7\n",
    "        Fk[8 * row : 8 * (row + 1), col] = F\n",
    "        \n",
    "for row in range(Fk.shape[0] // 8):\n",
    "    for col in range(Fk.shape[1]):\n",
    "        F = Fk[8 * row : 8 * (row + 1), col]\n",
    "        data = scipy.fftpack.idct(F,norm=\"ortho\")\n",
    "        # 復元画像\n",
    "        Q_recover[8 * row : 8 * (row + 1), col] = data\n",
    "        # FKに代入した後、横方向に対して処理\n",
    "#         Fk[8 * row : 8 * (row + 1), col] = data\n",
    "\n",
    "Q_recover = np.round(Q_recover)\n",
    "import pandas as pd\n",
    "qfk = pd.Series(Q_Fk.flatten())\n",
    "pro = qfk.value_counts() / qfk.value_counts().sum()\n",
    "\n",
    "S = 0\n",
    "for pi in pro:\n",
    "    S -= pi * np.log2(pi)\n",
    "\n",
    "MSE = np.sum(np.sum(np.power((IMG.img - Q_recover),2)))/(Q_recover.shape[0] * Q_recover.shape[1])\n",
    "\n",
    "PSNR = 10 * np.log10(255 * 255 / MSE)\n",
    "\n",
    "MSSIM = ssim(IMG.img,Q_recover.astype(IMG.img.dtype),gaussian_weights=True,sigma=1.5,K1=0.01,K2=0.03)\n",
    "\n",
    "w_e = 0\n",
    "e_e = 0\n",
    "n_e = 0\n",
    "s_e = 0\n",
    "nw_e = 0\n",
    "ne_e = 0\n",
    "sw_e = 0\n",
    "se_e = 0\n",
    "for row in range(Q_recover.shape[0] // 8):\n",
    "    for col in range(Q_recover.shape[1] // 8):\n",
    "        f_block = Q_recover[row * 8 : (row + 1) * 8, col * 8 : (col + 1) * 8]\n",
    "        # w\n",
    "        if col == 0:\n",
    "            w_block = np.fliplr(f_block)\n",
    "        else:\n",
    "            w_block = Q_recover[row * 8 : (row + 1) * 8, (col - 1) * 8 : col * 8]\n",
    "        # e\n",
    "        if col == Q_recover.shape[1] // 8 - 1:\n",
    "            e_block = np.fliplr(f_block)\n",
    "        else:\n",
    "            e_block = Q_recover[row * 8 : (row + 1) * 8, (col + 1) * 8 : (col + 2) * 8]\n",
    "        # n\n",
    "        if row == 0:\n",
    "            n_block = np.flipud(f_block)\n",
    "        else:\n",
    "            n_block = Q_recover[(row - 1) * 8 : row * 8, col * 8 : (col + 1) * 8]\n",
    "        # s\n",
    "        if row == Q_recover.shape[0] // 8 - 1:\n",
    "            s_block = np.flipud(f_block)\n",
    "        else:\n",
    "            s_block = Q_recover[(row + 1) * 8 : (row + 2) * 8, col * 8 : (col + 1) * 8]\n",
    "\n",
    "        w_d1 = f_block[:, 0] - w_block[:, 7]\n",
    "        e_d1 = f_block[:, 7] - e_block[:, 0]\n",
    "        n_d1 = f_block[0, :] - n_block[7, :]\n",
    "        s_d1 = f_block[7, :] - s_block[0, :]\n",
    "\n",
    "        w_d2 = (w_block[:, 7] - w_block[:, 6] + f_block[:, 1] - f_block[:, 0]) / 2\n",
    "        e_d2 = (e_block[:, 1] - e_block[:, 0] + f_block[:, 7] - f_block[:, 6]) / 2\n",
    "        n_d2 = (n_block[7, :] - n_block[6, :] + f_block[1, :] - f_block[0, :]) / 2\n",
    "        s_d2 = (s_block[1, :] - s_block[0, :] + f_block[7, :] - f_block[6, :]) / 2\n",
    "\n",
    "        w_e += np.sum((w_d1 - w_d2) ** 2 )\n",
    "        e_e += np.sum((e_d1 - e_d2) ** 2 )\n",
    "        n_e += np.sum((n_d1 - n_d2) ** 2)\n",
    "        s_e += np.sum((s_d1 - s_d2) ** 2)\n",
    "        \n",
    "        # nw\n",
    "        if row == 0 or col == 0:\n",
    "            nw_block = np.flipud(np.fliplr(f_block))\n",
    "        else:\n",
    "            nw_block = Q_recover[(row - 1) * 8 : row * 8, (col - 1) * 8 : col * 8]\n",
    "        # ne\n",
    "        if row == 0 or col == Q_recover.shape[1] // 8 - 1:\n",
    "            ne_block = np.flipud(np.fliplr(f_block))\n",
    "        else:\n",
    "            ne_block = Q_recover[(row-1) * 8 : row * 8, (col + 1) * 8 : (col + 2) * 8]\n",
    "        # sw\n",
    "        if row == Q_recover.shape[0] // 8 -1 or col == 0:\n",
    "            sw_block = np.flipud(np.fliplr(f_block))\n",
    "        else:\n",
    "            sw_block = Q_recover[row * 8 : (row+1) * 8, (col-1) * 8 : col * 8]\n",
    "        # se\n",
    "        if  row == Q_recover.shape[0]//8-1 or col == Q_recover.shape[0] // 8 -1:\n",
    "            se_block = np.flipud(np.fliplr(f_block))\n",
    "        else:\n",
    "            se_block = Q_recover[(row + 1) * 8 : (row + 2) * 8, (col+1) * 8 : (col + 2) * 8]\n",
    "\n",
    "        nw_g1 = f_block[0, 0] - nw_block[7, 7]\n",
    "        ne_g1 = f_block[0, 7] - ne_block[7, 0]\n",
    "        sw_g1 = f_block[7, 0] - sw_block[0, 7]\n",
    "        se_g1 = f_block[7, 7] - se_block[0, 0]\n",
    "\n",
    "        nw_g2 = (nw_block[7,7] - nw_block[6,6] + f_block[1,1] - f_block[0,0])/2\n",
    "        ne_g2 = (ne_block[7,0] - ne_block[6,1] + f_block[1,6] - f_block[0,7])/2\n",
    "        sw_g2 = (sw_block[0,7] - nw_block[1,6] + f_block[6,1] - f_block[7,0])/2\n",
    "        se_g2 = (nw_block[0,0] - nw_block[1,1] + f_block[6,6] - f_block[7,7])/2\n",
    "\n",
    "        nw_e += (nw_g1 - nw_g2) ** 2 \n",
    "        ne_e += (ne_g1 - ne_g2) ** 2 \n",
    "        sw_e += (sw_g1 - sw_g2) ** 2 \n",
    "        se_e += (se_g1 - se_g2) ** 2 \n",
    "\n",
    "MSDSt = (w_e + e_e + n_e + s_e + nw_e + ne_e + sw_e + se_e)/ ((512/8)**2)\n",
    "MSDS1 = (w_e + e_e + n_e + s_e)/ ((512/8)**2)\n",
    "MSDS2 = (nw_e + ne_e + sw_e + se_e)/ ((512/8)**2)\n",
    "\n",
    "print(\"S=\",S)\n",
    "print(Q,PSNR,MSSIM,MSDS1,MSDS2)\n"
   ]
  },
  {
   "cell_type": "code",
   "execution_count": null,
   "metadata": {},
   "outputs": [],
   "source": []
  },
  {
   "cell_type": "code",
   "execution_count": null,
   "metadata": {},
   "outputs": [],
   "source": []
  },
  {
   "cell_type": "code",
   "execution_count": 41,
   "metadata": {},
   "outputs": [
    {
     "data": {
      "application/vnd.jupyter.widget-view+json": {
       "model_id": "fefd7440d8bb41baa43dc492dd20c478",
       "version_major": 2,
       "version_minor": 0
      },
      "text/plain": [
       "HBox(children=(IntProgress(value=0, max=9999), HTML(value='')))"
      ]
     },
     "metadata": {},
     "output_type": "display_data"
    },
    {
     "name": "stdout",
     "output_type": "stream",
     "text": [
      "S= 0.20229505668025954\n",
      "2.3000000000000003 21.847408969083013 0.5769799445260272 13969.330322265625 4036.62939453125\n",
      "S= 0.20746312734175204\n",
      "2.4000000000000004 21.775063178432642 0.5758969984332157 13912.133666992188 4102.2410888671875\n",
      "S= 0.2149960872234459\n",
      "2.5 21.824957482205882 0.5636166314441464 14635.947875976562 4408.303283691406\n",
      "S= 0.2202619873528856\n",
      "2.6 22.211387069223186 0.5814559816445943 14291.778076171875 4411.6019287109375\n",
      "S= 0.22506433960976133\n",
      "2.7 22.569123959330145 0.5937931572381875 14182.40771484375 4433.039306640625\n",
      "S= 0.23031326699805846\n",
      "2.8000000000000003 22.70085769642956 0.5988902921873156 14334.417114257812 4517.9459228515625\n",
      "S= 0.23608578735917263\n",
      "2.9000000000000004 22.617640318454004 0.5946609464805761 14378.381103515625 4567.6466064453125\n",
      "S= 0.2428534004821473\n",
      "3.0 22.621579472395172 0.5875365031149832 14647.350219726562 4709.533935546875\n",
      "S= 0.24794793891058314\n",
      "3.1 22.957300394245472 0.6035990170424346 14476.159423828125 4777.050720214844\n",
      "S= 0.25240494110109923\n",
      "3.2 23.26544649595381 0.6169618667708511 14063.656372070312 4746.783752441406\n",
      "S= 0.2570616883428768\n",
      "3.3000000000000003 23.4034491926292 0.6200266189185507 13961.1787109375 4683.3328857421875\n",
      "S= 0.2635711559437716\n",
      "3.4000000000000004 23.46614266365025 0.6169158678870708 14120.57861328125 4720.3369140625\n",
      "S= 0.2696167527877914\n",
      "3.5 23.525831144930237 0.6188379508597319 14199.3203125 4849.141784667969\n",
      "S= 0.27407535545738315\n",
      "3.6 23.727413782267366 0.6334954394751352 14090.862182617188 4916.2843017578125\n",
      "S= 0.27813076799503783\n",
      "3.7 23.940589698990035 0.6408320528270566 13864.408935546875 4947.151550292969\n",
      "S= 0.28440231988680426\n",
      "3.8000000000000003 24.059326803593294 0.6424543982296621 13956.159301757812 5021.818115234375\n",
      "S= 0.29014517373509396\n",
      "3.9000000000000004 24.192067927005812 0.6460438623235288 14035.967529296875 5029.1563720703125\n",
      "S= 0.29592720012522866\n",
      "4.0 24.272422586040484 0.6540613680151252 13918.750732421875 5004.731689453125\n",
      "S= 0.30094307759426686\n",
      "4.1 24.34636275742724 0.6552626057526518 13825.63720703125 5029.7850341796875\n",
      "S= 0.3065556264710754\n",
      "4.2 24.462529790668267 0.6586318675578475 13962.906982421875 5108.38330078125\n",
      "S= 0.3133326432994665\n",
      "4.300000000000001 24.581841344824586 0.6597982890407366 13897.5751953125 5127.570495605469\n",
      "S= 0.31868803602483525\n",
      "4.4 24.725562172973813 0.667150128588343 13849.344360351562 5138.316101074219\n",
      "S= 0.3239916380888564\n",
      "4.5 24.801114023678924 0.6718211512433249 13861.414916992188 5120.98779296875\n",
      "S= 0.32930398666686356\n",
      "4.6 24.806422168816333 0.6712344501704638 13765.880615234375 5110.8779296875\n",
      "S= 0.33427443447394956\n",
      "4.7 24.872957734093525 0.6728218614134875 13711.67041015625 5088.343444824219\n",
      "S= 0.33911412355897647\n",
      "4.800000000000001 24.996217660072716 0.6752188302860869 13641.719482421875 5139.889465332031\n",
      "S= 0.34478770407700765\n",
      "4.9 25.184141403065603 0.6842734671617604 13513.258911132812 5147.095520019531\n",
      "S= 0.3491839599379249\n",
      "5.0 25.277564777916805 0.6893115058553385 13403.736328125 5160.270202636719\n",
      "S= 0.35527894004989014\n",
      "5.1 25.27646206054788 0.6895004970462592 13469.978393554688 5139.909484863281\n",
      "S= 0.3612627267861114\n",
      "5.2 25.297657665817184 0.6876675740728295 13519.201782226562 5177.753662109375\n",
      "S= 0.36595584277391685\n",
      "5.300000000000001 25.446274219268492 0.6945184359500917 13436.140258789062 5180.5736083984375\n",
      "S= 0.3696028825246702\n",
      "5.4 25.573200286296963 0.699662194825899 13360.872680664062 5145.172302246094\n",
      "S= 0.3745653987646817\n",
      "5.5 25.65251251500358 0.7018016205206254 13157.096435546875 5129.177307128906\n",
      "S= 0.38036911228969245\n",
      "5.6 25.6786404257533 0.7009800334769153 12991.764282226562 5143.44970703125\n",
      "S= 0.3857919812536302\n",
      "5.7 25.714690761413024 0.7021642366084062 13033.458251953125 5146.816345214844\n",
      "S= 0.3911081863066194\n",
      "5.800000000000001 25.82004246178378 0.7076321142092487 13048.010498046875 5199.826904296875\n",
      "S= 0.3955782909091507\n",
      "5.9 25.92490569538036 0.7110142030433931 13086.677856445312 5249.88330078125\n",
      "S= 0.39995862601679694\n",
      "6.0 26.001359578719516 0.7120449671269677 12992.006469726562 5201.312805175781\n",
      "S= 0.40604702463353753\n",
      "6.1 26.0572237163353 0.7136493771843171 13049.191650390625 5201.0389404296875\n",
      "S= 0.4102421630207977\n",
      "6.2 26.077985974128197 0.7139310406261817 12984.539916992188 5171.6280517578125\n",
      "S= 0.41560062635186584\n",
      "6.3 26.156905372709254 0.7179971284644369 13054.347045898438 5207.9002685546875\n",
      "S= 0.4207568787360593\n",
      "6.4 26.239468697612605 0.7230268108993606 13013.192138671875 5201.365051269531\n",
      "S= 0.42588463926303516\n",
      "6.5 26.289814696928 0.7205441171309802 12959.21240234375 5182.0916748046875\n",
      "S= 0.4304346414014588\n",
      "6.6000000000000005 26.365783236051406 0.7236923400394658 12824.483276367188 5189.67626953125\n",
      "S= 0.43570339267932\n",
      "6.7 26.402960675728746 0.7254431308456335 12872.5546875 5187.0343017578125\n",
      "S= 0.43932429624976777\n",
      "6.8 26.424593457831275 0.725451873639433 12786.032592773438 5131.072570800781\n",
      "S= 0.4452684775186261\n",
      "6.9 26.496159857000194 0.729515683479546 12869.550659179688 5198.766784667969\n",
      "S= 0.4498872123534656\n",
      "7.0 26.57935929070139 0.730649949270432 12840.961059570312 5212.284423828125\n",
      "S= 0.4544739140704519\n",
      "7.1000000000000005 26.650107568749135 0.7333328077417638 12708.661376953125 5192.495178222656\n",
      "S= 0.4598449045010374\n",
      "7.2 26.709403214930166 0.7359354571268696 12611.401977539062 5162.906921386719\n",
      "S= 0.4637733074046897\n",
      "7.3 26.72341960699069 0.7357240663051781 12572.386840820312 5173.2000732421875\n",
      "S= 0.46712708933410757\n",
      "7.4 26.766158114739493 0.7363573728606891 12565.790283203125 5182.5059814453125\n",
      "S= 0.47299012680990093\n",
      "7.5 26.839048325284732 0.7393093260974182 12603.464477539062 5201.743591308594\n",
      "S= 0.4775709747494014\n",
      "7.6000000000000005 26.922506700392876 0.7408031704792426 12510.317749023438 5181.896545410156\n",
      "S= 0.48109969449120715\n",
      "7.7 26.952855342561914 0.7429733632050892 12424.753295898438 5178.805114746094\n",
      "S= 0.4856155002930861\n",
      "7.8 26.969774468565085 0.7425929124675308 12383.91259765625 5162.322326660156\n",
      "S= 0.49237205374986237\n",
      "7.9 27.03073005568313 0.743960281266643 12394.642944335938 5222.337890625\n",
      "S= 0.4940018608706917\n",
      "8.0 27.08946716311732 0.7457367800406106 12379.2509765625 5192.207214355469\n",
      "S= 0.49986648000396\n",
      "8.100000000000001 27.16628382453859 0.7474052975750286 12337.419067382812 5161.786376953125\n",
      "S= 0.5052385205254696\n",
      "8.2 27.203441156307363 0.7493949251567962 12302.850708007812 5168.083984375\n",
      "S= 0.509798026109014\n",
      "8.3 27.222168617289704 0.7503745347865403 12206.567626953125 5150.9832763671875\n",
      "S= 0.5163959795862739\n",
      "8.4 27.25872516170195 0.75160462929852 12186.740478515625 5133.208740234375\n",
      "S= 0.5192268493074798\n",
      "8.5 27.31385111977426 0.7531276596874885 12228.718017578125 5171.04150390625\n",
      "S= 0.5230781541612914\n",
      "8.600000000000001 27.36383473571577 0.7549179699035511 12212.538452148438 5187.2957763671875\n",
      "S= 0.5265567074295558\n",
      "8.7 27.410594093825797 0.7562124589767962 12177.042358398438 5151.397521972656\n",
      "S= 0.5312050801351292\n",
      "8.8 27.432479880130973 0.7565728781851618 12105.33203125 5146.811340332031\n",
      "S= 0.5372323110625485\n",
      "8.9 27.46559798869736 0.7579420798110352 12097.944213867188 5173.524658203125\n",
      "S= 0.5405068553092732\n",
      "9.0 27.509178897440066 0.7591174638443879 12102.005249023438 5170.179016113281\n",
      "S= 0.5451484485375466\n",
      "9.100000000000001 27.56871926031218 0.7602051485294848 12145.286010742188 5181.778015136719\n",
      "S= 0.5495784966055168\n",
      "9.2 27.617409143132313 0.7610274920837594 12098.5244140625 5192.825866699219\n",
      "S= 0.5547665376382563\n",
      "9.3 27.660250954380523 0.7625102994955172 12038.681884765625 5185.261169433594\n",
      "S= 0.5603966281899553\n",
      "9.4 27.678661858056046 0.7639909597937301 12031.16796875 5165.103515625\n",
      "S= 0.5612544466046137\n",
      "9.5 27.703092904826107 0.7646220572695763 11991.222290039062 5139.534912109375\n",
      "S= 0.5690840201740728\n",
      "9.600000000000001 27.752459283235346 0.7662924795392756 11965.2939453125 5135.939514160156\n",
      "S= 0.5711149990459958\n",
      "9.7 27.79911658966014 0.7673298574678451 11933.001708984375 5111.852600097656\n",
      "S= 0.5759475462303063\n",
      "9.8 27.83361532231926 0.7687206898429096 11950.583251953125 5099.627746582031\n",
      "S= 0.5797083987211902\n",
      "9.9 27.845888357438252 0.7693835704930532 11932.546630859375 5093.3353271484375\n",
      "S= 0.5823395856887236\n",
      "10.0 27.87711920538777 0.7691787535682001 11907.621337890625 5071.556091308594\n",
      "S= 0.5923422687715777\n",
      "10.100000000000001 27.93352409427404 0.7715473729591961 11925.174682617188 5085.5223388671875\n",
      "S= 0.5920347154516113\n",
      "10.2 27.98626233057768 0.7724816598842817 11954.931884765625 5067.9161376953125\n",
      "S= 0.5975577932305136\n",
      "10.3 28.019406119454647 0.7738177989518153 11914.3583984375 5054.842346191406\n",
      "S= 0.6028079774947516\n",
      "10.399999999999999 28.042113668525843 0.77494365858992 11864.744018554688 5049.130432128906\n",
      "S= 0.6055516599169345\n",
      "10.5 28.043540869171373 0.7742825250194989 11859.437744140625 5057.7333984375\n",
      "S= 0.6111148751017826\n",
      "10.600000000000001 28.101401146077443 0.7764266391109108 11849.360961914062 5031.4365234375\n",
      "S= 0.614963714621369\n",
      "10.7 28.1273297346786 0.777487935576441 11800.344604492188 5040.3101806640625\n",
      "S= 0.6200517330297736\n",
      "10.8 28.180537527172742 0.7786528630879332 11748.22607421875 5006.763610839844\n",
      "S= 0.622983799436244\n",
      "10.899999999999999 28.202135511961828 0.7787551234256294 11709.850341796875 5018.004150390625\n",
      "S= 0.6270675777549993\n",
      "11.0 28.22395637059991 0.7794563391029903 11715.275146484375 5023.8719482421875\n",
      "S= 0.6287870322220875\n",
      "11.100000000000001 28.242170041070157 0.779642887182337 11696.735961914062 5032.98828125\n",
      "S= 0.6347121800846828\n",
      "11.2 28.301134046111592 0.7815161729532369 11723.781005859375 5015.79150390625\n",
      "S= 0.6383234101659501\n",
      "11.3 28.324562479362008 0.7825284938205073 11726.64892578125 5010.9317626953125\n",
      "S= 0.6433996210047449\n",
      "11.399999999999999 28.36584763458003 0.7834553979725085 11733.684448242188 5018.895324707031\n",
      "S= 0.6470197573012746\n",
      "11.5 28.394782797838786 0.7845460788969224 11690.5751953125 5004.784240722656\n",
      "S= 0.6527057971320348\n",
      "11.600000000000001 28.412063415542043 0.7851789274517647 11681.045654296875 5012.184814453125\n",
      "S= 0.6522019213103246\n",
      "11.7 28.43514354501775 0.7859513954120173 11686.755859375 5031.972839355469\n",
      "S= 0.6574395181092175\n",
      "11.8 28.458588526198568 0.786713141850553 11673.378173828125 5025.3975830078125\n"
     ]
    },
    {
     "ename": "KeyboardInterrupt",
     "evalue": "",
     "output_type": "error",
     "traceback": [
      "\u001b[1;31m---------------------------------------------------------------------------\u001b[0m",
      "\u001b[1;31mKeyboardInterrupt\u001b[0m                         Traceback (most recent call last)",
      "\u001b[1;32m<ipython-input-41-15a75c6bbac5>\u001b[0m in \u001b[0;36m<module>\u001b[1;34m\u001b[0m\n\u001b[0;32m     79\u001b[0m             \u001b[0mF\u001b[0m\u001b[1;33m[\u001b[0m\u001b[1;36m1\u001b[0m\u001b[1;33m]\u001b[0m \u001b[1;33m=\u001b[0m \u001b[0mF_1\u001b[0m\u001b[1;33m\u001b[0m\u001b[1;33m\u001b[0m\u001b[0m\n\u001b[0;32m     80\u001b[0m             \u001b[1;31m# F_0 V_1 V_2 V_3 V_4 V_5 V_6 V_7\u001b[0m\u001b[1;33m\u001b[0m\u001b[1;33m\u001b[0m\u001b[1;33m\u001b[0m\u001b[0m\n\u001b[1;32m---> 81\u001b[1;33m             \u001b[0mFk\u001b[0m\u001b[1;33m[\u001b[0m\u001b[0mrow\u001b[0m\u001b[1;33m,\u001b[0m \u001b[1;36m8\u001b[0m \u001b[1;33m*\u001b[0m \u001b[0mcol\u001b[0m \u001b[1;33m:\u001b[0m \u001b[1;36m8\u001b[0m \u001b[1;33m*\u001b[0m \u001b[1;33m(\u001b[0m\u001b[0mcol\u001b[0m \u001b[1;33m+\u001b[0m \u001b[1;36m1\u001b[0m\u001b[1;33m)\u001b[0m\u001b[1;33m]\u001b[0m \u001b[1;33m=\u001b[0m \u001b[0mF\u001b[0m\u001b[1;33m\u001b[0m\u001b[1;33m\u001b[0m\u001b[0m\n\u001b[0m\u001b[0;32m     82\u001b[0m \u001b[1;33m\u001b[0m\u001b[0m\n\u001b[0;32m     83\u001b[0m     \u001b[1;32mfor\u001b[0m \u001b[0mrow\u001b[0m \u001b[1;32min\u001b[0m \u001b[0mrange\u001b[0m\u001b[1;33m(\u001b[0m\u001b[0mFk\u001b[0m\u001b[1;33m.\u001b[0m\u001b[0mshape\u001b[0m\u001b[1;33m[\u001b[0m\u001b[1;36m0\u001b[0m\u001b[1;33m]\u001b[0m\u001b[1;33m)\u001b[0m\u001b[1;33m:\u001b[0m\u001b[1;33m\u001b[0m\u001b[1;33m\u001b[0m\u001b[0m\n",
      "\u001b[1;31mKeyboardInterrupt\u001b[0m: "
     ]
    }
   ],
   "source": [
    "# Q=80における量子化テーブルをスケーリング\n",
    "for i in tqdm_notebook(np.arange(1,10000,1)):\n",
    "    Q = 2.2 + i/10\n",
    "    if Q < 50:\n",
    "        S = 5000 / Q\n",
    "    else:\n",
    "        S = 200 - 2 * Q\n",
    "\n",
    "    S = np.floor(S)\n",
    "\n",
    "    Q_Luminance = np.zeros((8, 8))\n",
    "    for row in range(8):\n",
    "        for col in range(8):\n",
    "            Q_Luminance[row, col] = np.floor((S * Q50_Luminance[row, col] + 50) / 100)\n",
    "\n",
    "    Fk = np.copy(Fk_Ori)\n",
    "    Q_Fk = np.zeros(Fk.shape)\n",
    "    for row in range(IMG.img.shape[0] // 8):\n",
    "        for col in range(IMG.img.shape[1] // 8):\n",
    "            block = Fk[row * 8 : (row + 1) * 8, col * 8 : (col + 1) * 8]\n",
    "            # 量子化\n",
    "            block = np.round(block / Q_Luminance)\n",
    "            # 逆量子化\n",
    "            block = block * Q_Luminance\n",
    "            Q_Fk[row * 8 : (row+1)*8, col * 8 : (col+1)*8] = block\n",
    "\n",
    "    Fk = np.copy(Q_Fk)\n",
    "    Q_recover = np.zeros(Q_Fk.shape)\n",
    "    # 横方向\n",
    "    for row in range(Fk.shape[0]):\n",
    "        for col in range(Fk.shape[1] // 8):\n",
    "            F = Fk[row, 8 * col : 8 * col + 8]\n",
    "\n",
    "            F_0_r = 0\n",
    "            if col is not Fk.shape[1] // 8 - 1:\n",
    "                F_0_r = Fk[row, 8 * (col + 1)]\n",
    "\n",
    "            F_0_l = 0\n",
    "            if col is not 0:\n",
    "                F_0_l = Fk[row, 8 * (col - 1)]\n",
    "\n",
    "            # 残差\n",
    "            F_0 = F[0]\n",
    "            F_temp = F + alpha * (F_0_r - F_0) / np.sqrt(N) + beta * (F_0 - F_0_l) / np.sqrt(N)\n",
    "            # F_0は残す\n",
    "            F[1] = F_temp[1]\n",
    "            # F_0 V_1 V_2 V_3 V_4 V_5 V_6 V_7\n",
    "            Fk[row, 8 * col : 8 * col + 8] = F\n",
    "\n",
    "    for row in range(Fk.shape[0]):\n",
    "        for col in range(Fk.shape[1] // 8):\n",
    "            F = Fk[row, 8 * col : 8 * (col + 1)]\n",
    "\n",
    "            F_0_r = 0\n",
    "            F_1_r = 0\n",
    "            if col is not Fk.shape[1] // 8 - 1:\n",
    "                F_0_r = Fk[row, 8 * (col + 1)]\n",
    "                F_1_r = Fk[row, 8 * (col + 1) + 1]\n",
    "\n",
    "            F_0_l = 0\n",
    "            F_1_l = 0\n",
    "            if col is not 0:\n",
    "                F_0_l = Fk[row, 8 * (col - 1)]\n",
    "                F_1_l = Fk[row, 8 * (col - 1) + 1]\n",
    "\n",
    "            # 残差\n",
    "            F_0 = F[0]\n",
    "            F_1 = F[1]\n",
    "\n",
    "            F = (\n",
    "                F\n",
    "                + Ak * (F_0 - F_0_l)\n",
    "                + Bk * (F_0_r - F_0)\n",
    "                + Ck * (F_1 + F_1_l)\n",
    "                + Dk * (F_1_r + F_1)\n",
    "            )\n",
    "            # F_0は残す\n",
    "            F[0] = F_0\n",
    "            F[1] = F_1\n",
    "            # F_0 V_1 V_2 V_3 V_4 V_5 V_6 V_7\n",
    "            Fk[row, 8 * col : 8 * (col + 1)] = F\n",
    "\n",
    "    for row in range(Fk.shape[0]):\n",
    "        for col in range(Fk.shape[1] // 8):\n",
    "            F = Fk[row, 8 * col : 8 * col + 8]\n",
    "            data = scipy.fftpack.idct(F,norm=\"ortho\")\n",
    "            # Fkに代入した後、縦方向に対して処理\n",
    "            Fk[row, 8 * col : 8 * col + 8] = data\n",
    "            # 復元画像\n",
    "    #         recover[row, 8 * col : 8 * col + 8] = data\n",
    "\n",
    "    # 縦方向\n",
    "    for row in range(Fk.shape[0] // 8):\n",
    "        for col in range(Fk.shape[1]):\n",
    "            F = Fk[8 * row : 8 * row + 8, col]\n",
    "\n",
    "            F_0_r = 0\n",
    "            if row is not Fk.shape[0] // 8 - 1:\n",
    "                F_0_r = Fk[8 * (row + 1), col]\n",
    "\n",
    "            F_0_l = 0\n",
    "            if row is not 0:\n",
    "                F_0_l = Fk[8 * (row - 1), col]\n",
    "\n",
    "            # 残差\n",
    "            F_0 = F[0]\n",
    "            F_temp = F + alpha * (F_0_r - F_0) / np.sqrt(N) + beta * (F_0 - F_0_l) / np.sqrt(N)\n",
    "            # F_0は残す\n",
    "            F[1] = F_temp[1]\n",
    "            # F_0 F_1 F_2 F_3 F_4 F_5 F_6 F_7\n",
    "            Fk[8 * row : 8 * row + 8, col] = F\n",
    "\n",
    "    for row in range(Fk.shape[0] // 8):\n",
    "        for col in range(Fk.shape[1]):\n",
    "            F = Fk[8 * row : 8 * (row + 1), col]\n",
    "\n",
    "            F_0_r = 0\n",
    "            F_1_r = 0\n",
    "            if row is not Fk.shape[0] // 8 - 1:\n",
    "                F_0_r = Fk[8 * (row + 1), col]\n",
    "                F_1_r = Fk[8 * (row + 1) + 1, col]\n",
    "\n",
    "            F_0_l = 0\n",
    "            F_1_l = 1\n",
    "            if row is not 0:\n",
    "                F_0_l = Fk[8 * (row - 1), col]\n",
    "                F_1_l = Fk[8 * (row - 1) + 1, col]\n",
    "\n",
    "            # 残差\n",
    "            F_0 = F[0]\n",
    "            F_1 = F[1]\n",
    "\n",
    "            F = (\n",
    "                F\n",
    "                + Ak * (F_0 - F_0_l)\n",
    "                + Bk * (F_0_r - F_0)\n",
    "                + Ck * (F_1 + F_1_l)\n",
    "                + Dk * (F_1_r + F_1)\n",
    "            )\n",
    "            # F_0, F_1は残す\n",
    "            F[0] = F_0\n",
    "            F[1] = F_1\n",
    "            # F_0 V_1 V_2 V_3 V_4 V_5 V_6 V_7\n",
    "            Fk[8 * row : 8 * (row + 1), col] = F\n",
    "\n",
    "    for row in range(Fk.shape[0] // 8):\n",
    "        for col in range(Fk.shape[1]):\n",
    "            F = Fk[8 * row : 8 * (row + 1), col]\n",
    "            data = scipy.fftpack.idct(F,norm=\"ortho\")\n",
    "            # 復元画像\n",
    "            Q_recover[8 * row : 8 * (row + 1), col] = data\n",
    "            # FKに代入した後、横方向に対して処理\n",
    "    #         Fk[8 * row : 8 * (row + 1), col] = data\n",
    "\n",
    "    Q_recover = np.round(Q_recover)\n",
    "    import pandas as pd\n",
    "    qfk = pd.Series(Q_Fk.flatten())\n",
    "    pro = qfk.value_counts() / qfk.value_counts().sum()\n",
    "\n",
    "    S = 0\n",
    "    for pi in pro:\n",
    "        S -= pi * np.log2(pi)\n",
    "\n",
    "#     bpp = np.arange(0.2,0.8,0.05)\n",
    "#     for i in bpp:\n",
    "#         if np.abs(i - S) < 0.002:        \n",
    "    MSE = np.sum(np.sum(np.power((IMG.img - Q_recover),2)))/(Q_recover.shape[0] * Q_recover.shape[1])\n",
    "\n",
    "    PSNR = 10 * np.log10(255 * 255 / MSE)\n",
    "\n",
    "    MSSIM = ssim(IMG.img,Q_recover.astype(IMG.img.dtype),gaussian_weights=True,sigma=1.5,K1=0.01,K2=0.03)\n",
    "\n",
    "    w_e = 0\n",
    "    e_e = 0\n",
    "    n_e = 0\n",
    "    s_e = 0\n",
    "    nw_e = 0\n",
    "    ne_e = 0\n",
    "    sw_e = 0\n",
    "    se_e = 0\n",
    "    for row in range(Q_recover.shape[0] // 8):\n",
    "        for col in range(Q_recover.shape[1] // 8):\n",
    "            f_block = Q_recover[row * 8 : (row + 1) * 8, col * 8 : (col + 1) * 8]\n",
    "            # w\n",
    "            if col == 0:\n",
    "                w_block = np.fliplr(f_block)\n",
    "            else:\n",
    "                w_block = Q_recover[row * 8 : (row + 1) * 8, (col - 1) * 8 : col * 8]\n",
    "            # e\n",
    "            if col == Q_recover.shape[1] // 8 - 1:\n",
    "                e_block = np.fliplr(f_block)\n",
    "            else:\n",
    "                e_block = Q_recover[row * 8 : (row + 1) * 8, (col + 1) * 8 : (col + 2) * 8]\n",
    "            # n\n",
    "            if row == 0:\n",
    "                n_block = np.flipud(f_block)\n",
    "            else:\n",
    "                n_block = Q_recover[(row - 1) * 8 : row * 8, col * 8 : (col + 1) * 8]\n",
    "            # s\n",
    "            if row == Q_recover.shape[0] // 8 - 1:\n",
    "                s_block = np.flipud(f_block)\n",
    "            else:\n",
    "                s_block = Q_recover[(row + 1) * 8 : (row + 2) * 8, col * 8 : (col + 1) * 8]\n",
    "\n",
    "            w_d1 = f_block[:, 0] - w_block[:, 7]\n",
    "            e_d1 = f_block[:, 7] - e_block[:, 0]\n",
    "            n_d1 = f_block[0, :] - n_block[7, :]\n",
    "            s_d1 = f_block[7, :] - s_block[0, :]\n",
    "\n",
    "            w_d2 = (w_block[:, 7] - w_block[:, 6] + f_block[:, 1] - f_block[:, 0]) / 2\n",
    "            e_d2 = (e_block[:, 1] - e_block[:, 0] + f_block[:, 7] - f_block[:, 6]) / 2\n",
    "            n_d2 = (n_block[7, :] - n_block[6, :] + f_block[1, :] - f_block[0, :]) / 2\n",
    "            s_d2 = (s_block[1, :] - s_block[0, :] + f_block[7, :] - f_block[6, :]) / 2\n",
    "\n",
    "            w_e += np.sum((w_d1 - w_d2) ** 2 )\n",
    "            e_e += np.sum((e_d1 - e_d2) ** 2 )\n",
    "            n_e += np.sum((n_d1 - n_d2) ** 2)\n",
    "            s_e += np.sum((s_d1 - s_d2) ** 2)\n",
    "\n",
    "            # nw\n",
    "            if row == 0 or col == 0:\n",
    "                nw_block = np.flipud(np.fliplr(f_block))\n",
    "            else:\n",
    "                nw_block = Q_recover[(row - 1) * 8 : row * 8, (col - 1) * 8 : col * 8]\n",
    "            # ne\n",
    "            if row == 0 or col == Q_recover.shape[1] // 8 - 1:\n",
    "                ne_block = np.flipud(np.fliplr(f_block))\n",
    "            else:\n",
    "                ne_block = Q_recover[(row-1) * 8 : row * 8, (col + 1) * 8 : (col + 2) * 8]\n",
    "            # sw\n",
    "            if row == Q_recover.shape[0] // 8 -1 or col == 0:\n",
    "                sw_block = np.flipud(np.fliplr(f_block))\n",
    "            else:\n",
    "                sw_block = Q_recover[row * 8 : (row+1) * 8, (col-1) * 8 : col * 8]\n",
    "            # se\n",
    "            if  row == Q_recover.shape[0]//8-1 or col == Q_recover.shape[0] // 8 -1:\n",
    "                se_block = np.flipud(np.fliplr(f_block))\n",
    "            else:\n",
    "                se_block = Q_recover[(row + 1) * 8 : (row + 2) * 8, (col+1) * 8 : (col + 2) * 8]\n",
    "\n",
    "            nw_g1 = f_block[0, 0] - nw_block[7, 7]\n",
    "            ne_g1 = f_block[0, 7] - ne_block[7, 0]\n",
    "            sw_g1 = f_block[7, 0] - sw_block[0, 7]\n",
    "            se_g1 = f_block[7, 7] - se_block[0, 0]\n",
    "\n",
    "            nw_g2 = (nw_block[7,7] - nw_block[6,6] + f_block[1,1] - f_block[0,0])/2\n",
    "            ne_g2 = (ne_block[7,0] - ne_block[6,1] + f_block[1,6] - f_block[0,7])/2\n",
    "            sw_g2 = (sw_block[0,7] - nw_block[1,6] + f_block[6,1] - f_block[7,0])/2\n",
    "            se_g2 = (nw_block[0,0] - nw_block[1,1] + f_block[6,6] - f_block[7,7])/2\n",
    "\n",
    "            nw_e += (nw_g1 - nw_g2) ** 2 \n",
    "            ne_e += (ne_g1 - ne_g2) ** 2 \n",
    "            sw_e += (sw_g1 - sw_g2) ** 2 \n",
    "            se_e += (se_g1 - se_g2) ** 2 \n",
    "\n",
    "    MSDSt = (w_e + e_e + n_e + s_e + nw_e + ne_e + sw_e + se_e)/ ((512/8)**2)\n",
    "    MSDS1 = (w_e + e_e + n_e + s_e)/ ((512/8)**2)\n",
    "    MSDS2 = (nw_e + ne_e + sw_e + se_e)/ ((512/8)**2)\n",
    "\n",
    "    print(\"S=\",S)\n",
    "    print(Q,PSNR,MSSIM,MSDS1,MSDS2)\n"
   ]
  },
  {
   "cell_type": "code",
   "execution_count": null,
   "metadata": {},
   "outputs": [],
   "source": []
  },
  {
   "cell_type": "code",
   "execution_count": null,
   "metadata": {},
   "outputs": [],
   "source": []
  }
 ],
 "metadata": {
  "kernelspec": {
   "display_name": "Python 3",
   "language": "python",
   "name": "python3"
  },
  "language_info": {
   "codemirror_mode": {
    "name": "ipython",
    "version": 3
   },
   "file_extension": ".py",
   "mimetype": "text/x-python",
   "name": "python",
   "nbconvert_exporter": "python",
   "pygments_lexer": "ipython3",
   "version": "3.6.7"
  }
 },
 "nbformat": 4,
 "nbformat_minor": 4
}
