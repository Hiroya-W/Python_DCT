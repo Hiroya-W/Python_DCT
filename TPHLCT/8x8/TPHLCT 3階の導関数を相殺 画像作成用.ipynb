{
 "cells": [
  {
   "cell_type": "markdown",
   "metadata": {},
   "source": [
    "# TPHLCT 3階の導関数を相殺する"
   ]
  },
  {
   "cell_type": "code",
   "execution_count": 1,
   "metadata": {},
   "outputs": [],
   "source": [
    "import numpy as np\n",
    "import scipy.misc\n",
    "from scipy.fftpack import dct, idct\n",
    "import sys\n",
    "from PIL import Image\n",
    "import matplotlib\n",
    "import matplotlib.pyplot as plt\n",
    "import random\n",
    "from tqdm._tqdm_notebook import tqdm_notebook\n",
    "from scipy.fftpack import dct, idct\n",
    "import seaborn as sns\n",
    "from skimage.metrics import structural_similarity as ssim\n",
    "from skimage.measure import compare_psnr as psnr\n",
    "import pandas as pd\n",
    "\n",
    "%matplotlib inline\n",
    "\n",
    "\n",
    "class ImageLoader:\n",
    "    def __init__(self, FILE_PATH):\n",
    "        self.img = np.array(Image.open(FILE_PATH))\n",
    "        # 行数\n",
    "        self.row_blocks_count = self.img.shape[0] // 8\n",
    "        # 列数\n",
    "        self.col_blocks_count = self.img.shape[1] // 8\n",
    "\n",
    "    def get_points(self, POINT):\n",
    "        Row = random.randint(0, len(self.img) - POINT - 1)\n",
    "        Col = random.randint(0, len(self.img) - 1)\n",
    "        return self.img[Row : Row + POINT, Col]\n",
    "\n",
    "    def get_block(self, col, row):\n",
    "        return self.img[col * 8 : (col + 1) * 8, row * 8 : (row + 1) * 8]\n",
    "\n",
    "\n",
    "# plt.rcParams['font.family'] ='sans-serif'#使用するフォント\n",
    "# plt.rcParams[\"font.sans-serif\"] = \"Source Han Sans\"\n",
    "plt.rcParams[\"font.family\"] = \"Source Han Sans JP\"  # 使用するフォント\n",
    "plt.rcParams[\"xtick.direction\"] = \"in\"  # x軸の目盛線が内向き('in')か外向き('out')か双方向か('inout')\n",
    "plt.rcParams[\"ytick.direction\"] = \"in\"  # y軸の目盛線が内向き('in')か外向き('out')か双方向か('inout')\n",
    "plt.rcParams[\"xtick.major.width\"] = 1.0  # x軸主目盛り線の線幅\n",
    "plt.rcParams[\"ytick.major.width\"] = 1.0  # y軸主目盛り線の線幅\n",
    "plt.rcParams[\"font.size\"] = 12  # フォントの大きさ\n",
    "plt.rcParams[\"axes.linewidth\"] = 1.0  # 軸の線幅edge linewidth。囲みの太さ\n",
    "matplotlib.font_manager._rebuild()\n",
    "\n",
    "MONO_DIR_PATH = \"../../Mono/\"\n",
    "OUTPUT_DIR_PATH = \"../../Plot_tool/output/images/TPHLCT3/32x32/\"\n",
    "AIRPLANE = ImageLoader(MONO_DIR_PATH + \"airplane512.bmp\")\n",
    "BARBARA = ImageLoader(MONO_DIR_PATH + \"barbara512.bmp\")\n",
    "BOAT = ImageLoader(MONO_DIR_PATH + \"boat512.bmp\")\n",
    "GOLDHILL = ImageLoader(MONO_DIR_PATH + \"goldhill512.bmp\")\n",
    "LENNA = ImageLoader(MONO_DIR_PATH + \"lenna512.bmp\")\n",
    "MANDRILL = ImageLoader(MONO_DIR_PATH + \"mandrill512.bmp\")\n",
    "MILKDROP = ImageLoader(MONO_DIR_PATH + \"milkdrop512.bmp\")\n",
    "SAILBOAT = ImageLoader(MONO_DIR_PATH + \"sailboat512.bmp\")\n",
    "\n",
    "Images = np.array(\n",
    "    [\n",
    "        AIRPLANE,\n",
    "        BARBARA,\n",
    "        BOAT,\n",
    "        GOLDHILL,\n",
    "        LENNA,\n",
    "        MANDRILL,\n",
    "        MILKDROP,\n",
    "        SAILBOAT\n",
    "    ]\n",
    ")\n",
    "\n",
    "N = 32"
   ]
  },
  {
   "cell_type": "code",
   "execution_count": 2,
   "metadata": {},
   "outputs": [
    {
     "data": {
      "text/plain": [
       "<matplotlib.legend.Legend at 0x7f07fac78278>"
      ]
     },
     "execution_count": 2,
     "metadata": {},
     "output_type": "execute_result"
    },
    {
     "data": {
      "image/png": "[encoded data removed]",
      "text/plain": [
       "<Figure size 432x288 with 1 Axes>"
      ]
     },
     "metadata": {
      "needs_background": "light"
     },
     "output_type": "display_data"
    }
   ],
   "source": [
    "sampling_x = (0.5 + np.arange(N)) / N\n",
    "u_1 = (1 - sampling_x) ** 2 / 2\n",
    "u_2 = 1 / 24 - sampling_x ** 2 / 6 + sampling_x ** 3 / 6 - sampling_x ** 4 / 24\n",
    "u_3 = sampling_x ** 2 / 2\n",
    "u_4 = -sampling_x ** 2 / 12 + sampling_x ** 4 / 24\n",
    "plt.plot(u_1, label=\"u_1\")\n",
    "plt.plot(u_2, label=\"u_2\")\n",
    "plt.plot(u_3, label=\"u_3\")\n",
    "plt.plot(u_4, label=\"u_4\")\n",
    "plt.legend()"
   ]
  },
  {
   "cell_type": "code",
   "execution_count": 3,
   "metadata": {},
   "outputs": [
    {
     "data": {
      "text/plain": [
       "array([-9.42578864e-01, -8.10243674e-01, -2.02315746e-01, -8.97352733e-02,\n",
       "       -5.03306486e-02, -3.20903214e-02, -2.21802622e-02, -1.62029774e-02,\n",
       "       -1.23215704e-02, -9.65848827e-03, -7.75151710e-03, -6.33840654e-03,\n",
       "       -5.26136563e-03, -4.42082807e-03, -3.75144214e-03, -3.20886401e-03,\n",
       "       -2.76213586e-03, -2.38910402e-03, -2.07356609e-03, -1.80343954e-03,\n",
       "       -1.56955394e-03, -1.36483505e-03, -1.18374180e-03, -1.02186977e-03,\n",
       "       -8.75667049e-04, -7.42226865e-04, -6.19133680e-04, -5.04346991e-04,\n",
       "       -3.96111897e-04, -2.92888805e-04, -1.93296799e-04, -9.60665949e-05])"
      ]
     },
     "execution_count": 3,
     "metadata": {},
     "output_type": "execute_result"
    }
   ],
   "source": [
    "ak = - scipy.fftpack.dct(u_1,norm=\"ortho\")\n",
    "ak"
   ]
  },
  {
   "cell_type": "code",
   "execution_count": 4,
   "metadata": {},
   "outputs": [
    {
     "data": {
      "text/plain": [
       "array([1.09994382e-01, 8.21278487e-02, 5.13298176e-03, 1.01391469e-03,\n",
       "       3.20802291e-04, 1.31394699e-04, 6.33601140e-05, 3.41952121e-05,\n",
       "       2.00398805e-05, 1.25062623e-05, 8.20094224e-06, 5.59700060e-06,\n",
       "       3.94751701e-06, 2.86162774e-06, 2.12308561e-06, 1.60652401e-06,\n",
       "       1.23630756e-06, 9.65206497e-07, 7.62828824e-07, 6.09091833e-07,\n",
       "       4.90407443e-07, 3.97383602e-07, 3.23400654e-07, 2.63707517e-07,\n",
       "       2.14834779e-07, 1.74205550e-07, 1.39872296e-07, 1.10335392e-07,\n",
       "       8.44154936e-08, 6.11617680e-08, 3.97841193e-08, 1.96014032e-08])"
      ]
     },
     "execution_count": 4,
     "metadata": {},
     "output_type": "execute_result"
    }
   ],
   "source": [
    "bk = scipy.fftpack.dct(u_2,norm=\"ortho\")\n",
    "bk"
   ]
  },
  {
   "cell_type": "code",
   "execution_count": 5,
   "metadata": {},
   "outputs": [
    {
     "data": {
      "text/plain": [
       "array([ 9.42578864e-01, -8.10243674e-01,  2.02315746e-01, -8.97352733e-02,\n",
       "        5.03306486e-02, -3.20903214e-02,  2.21802622e-02, -1.62029774e-02,\n",
       "        1.23215704e-02, -9.65848827e-03,  7.75151710e-03, -6.33840654e-03,\n",
       "        5.26136563e-03, -4.42082807e-03,  3.75144214e-03, -3.20886401e-03,\n",
       "        2.76213586e-03, -2.38910402e-03,  2.07356609e-03, -1.80343954e-03,\n",
       "        1.56955394e-03, -1.36483505e-03,  1.18374180e-03, -1.02186977e-03,\n",
       "        8.75667049e-04, -7.42226865e-04,  6.19133680e-04, -5.04346991e-04,\n",
       "        3.96111897e-04, -2.92888805e-04,  1.93296799e-04, -9.60665949e-05])"
      ]
     },
     "execution_count": 5,
     "metadata": {},
     "output_type": "execute_result"
    }
   ],
   "source": [
    "ck = scipy.fftpack.dct(u_3,norm=\"ortho\")\n",
    "ck"
   ]
  },
  {
   "cell_type": "code",
   "execution_count": 6,
   "metadata": {},
   "outputs": [
    {
     "data": {
      "text/plain": [
       "array([-1.09994382e-01,  8.21278487e-02, -5.13298176e-03,  1.01391469e-03,\n",
       "       -3.20802291e-04,  1.31394699e-04, -6.33601140e-05,  3.41952121e-05,\n",
       "       -2.00398805e-05,  1.25062623e-05, -8.20094224e-06,  5.59700060e-06,\n",
       "       -3.94751701e-06,  2.86162774e-06, -2.12308561e-06,  1.60652401e-06,\n",
       "       -1.23630756e-06,  9.65206497e-07, -7.62828824e-07,  6.09091833e-07,\n",
       "       -4.90407443e-07,  3.97383602e-07, -3.23400654e-07,  2.63707517e-07,\n",
       "       -2.14834779e-07,  1.74205550e-07, -1.39872296e-07,  1.10335392e-07,\n",
       "       -8.44154936e-08,  6.11617680e-08, -3.97841193e-08,  1.96014032e-08])"
      ]
     },
     "execution_count": 6,
     "metadata": {},
     "output_type": "execute_result"
    }
   ],
   "source": [
    "dk = scipy.fftpack.dct(u_4,norm=\"ortho\")\n",
    "dk"
   ]
  },
  {
   "cell_type": "code",
   "execution_count": 7,
   "metadata": {},
   "outputs": [
    {
     "data": {
      "text/plain": [
       "array([-9.42578864e-01, -8.10243674e-01, -2.02315746e-01, -8.97352733e-02,\n",
       "       -5.03306486e-02, -3.20903214e-02, -2.21802622e-02, -1.62029774e-02,\n",
       "       -1.23215704e-02, -9.65848827e-03, -7.75151710e-03, -6.33840654e-03,\n",
       "       -5.26136563e-03, -4.42082807e-03, -3.75144214e-03, -3.20886401e-03,\n",
       "       -2.76213586e-03, -2.38910402e-03, -2.07356609e-03, -1.80343954e-03,\n",
       "       -1.56955394e-03, -1.36483505e-03, -1.18374180e-03, -1.02186977e-03,\n",
       "       -8.75667049e-04, -7.42226865e-04, -6.19133680e-04, -5.04346991e-04,\n",
       "       -3.96111897e-04, -2.92888805e-04, -1.93296799e-04, -9.60665949e-05])"
      ]
     },
     "execution_count": 7,
     "metadata": {},
     "output_type": "execute_result"
    }
   ],
   "source": [
    "alpha = ak\n",
    "alpha"
   ]
  },
  {
   "cell_type": "code",
   "execution_count": 8,
   "metadata": {},
   "outputs": [
    {
     "data": {
      "text/plain": [
       "array([ 9.42578864e-01, -8.10243674e-01,  2.02315746e-01, -8.97352733e-02,\n",
       "        5.03306486e-02, -3.20903214e-02,  2.21802622e-02, -1.62029774e-02,\n",
       "        1.23215704e-02, -9.65848827e-03,  7.75151710e-03, -6.33840654e-03,\n",
       "        5.26136563e-03, -4.42082807e-03,  3.75144214e-03, -3.20886401e-03,\n",
       "        2.76213586e-03, -2.38910402e-03,  2.07356609e-03, -1.80343954e-03,\n",
       "        1.56955394e-03, -1.36483505e-03,  1.18374180e-03, -1.02186977e-03,\n",
       "        8.75667049e-04, -7.42226865e-04,  6.19133680e-04, -5.04346991e-04,\n",
       "        3.96111897e-04, -2.92888805e-04,  1.93296799e-04, -9.60665949e-05])"
      ]
     },
     "execution_count": 8,
     "metadata": {},
     "output_type": "execute_result"
    }
   ],
   "source": [
    "beta = ck\n",
    "beta"
   ]
  },
  {
   "cell_type": "code",
   "execution_count": 9,
   "metadata": {},
   "outputs": [
    {
     "data": {
      "text/plain": [
       "array([-6.44363046e-01, -5.18757033e-01, -8.60476830e-02, -3.45939939e-02,\n",
       "       -1.87019374e-02, -1.17172823e-02, -8.02111637e-03, -5.82533628e-03,\n",
       "       -4.41301434e-03, -3.45016433e-03, -2.76377092e-03, -2.25679583e-03,\n",
       "       -1.87133892e-03, -1.57109266e-03, -1.33234008e-03, -1.13904869e-03,\n",
       "       -9.80059306e-04, -8.47405844e-04, -7.35273927e-04, -6.39334937e-04,\n",
       "       -5.56308197e-04, -4.83666031e-04, -4.19430641e-04, -3.62031398e-04,\n",
       "       -3.10202699e-04, -2.62909552e-04, -2.19292430e-04, -1.78625664e-04,\n",
       "       -1.40285467e-04, -1.03724822e-04, -6.84532652e-05, -3.40201115e-05])"
      ]
     },
     "execution_count": 9,
     "metadata": {},
     "output_type": "execute_result"
    }
   ],
   "source": [
    "Ak = (2 * ak - 16 * bk) / np.sqrt(N)\n",
    "Ak"
   ]
  },
  {
   "cell_type": "code",
   "execution_count": 10,
   "metadata": {},
   "outputs": [
    {
     "data": {
      "text/plain": [
       "array([ 6.44363046e-01, -5.18757033e-01,  8.60476830e-02, -3.45939939e-02,\n",
       "        1.87019374e-02, -1.17172823e-02,  8.02111637e-03, -5.82533628e-03,\n",
       "        4.41301434e-03, -3.45016433e-03,  2.76377092e-03, -2.25679583e-03,\n",
       "        1.87133892e-03, -1.57109266e-03,  1.33234008e-03, -1.13904869e-03,\n",
       "        9.80059306e-04, -8.47405844e-04,  7.35273927e-04, -6.39334937e-04,\n",
       "        5.56308197e-04, -4.83666031e-04,  4.19430641e-04, -3.62031398e-04,\n",
       "        3.10202699e-04, -2.62909552e-04,  2.19292430e-04, -1.78625664e-04,\n",
       "        1.40285467e-04, -1.03724822e-04,  6.84532652e-05, -3.40201115e-05])"
      ]
     },
     "execution_count": 10,
     "metadata": {},
     "output_type": "execute_result"
    }
   ],
   "source": [
    "Bk = (2 * ck - 16 * dk) / np.sqrt(N)\n",
    "Bk"
   ]
  },
  {
   "cell_type": "code",
   "execution_count": 11,
   "metadata": {},
   "outputs": [
    {
     "data": {
      "text/plain": [
       "array([-9.55474138e-01, -7.51049668e-01, -1.00565948e-01, -3.74617777e-02,\n",
       "       -1.96093033e-02, -1.20889226e-02, -8.20032583e-03, -5.92205494e-03,\n",
       "       -4.46969569e-03, -3.48553738e-03, -2.78696669e-03, -2.27262654e-03,\n",
       "       -1.88250419e-03, -1.57918656e-03, -1.33834507e-03, -1.14359262e-03,\n",
       "       -9.83556112e-04, -8.50135860e-04, -7.37431533e-04, -6.41057709e-04,\n",
       "       -5.57695279e-04, -4.84790002e-04, -4.20345356e-04, -3.62777276e-04,\n",
       "       -3.10810343e-04, -2.63402280e-04, -2.19688049e-04, -1.78937740e-04,\n",
       "       -1.40524230e-04, -1.03897813e-04, -6.85657917e-05, -3.40755526e-05])"
      ]
     },
     "execution_count": 11,
     "metadata": {},
     "output_type": "execute_result"
    }
   ],
   "source": [
    "Ck = (2 * ak - 32 * bk) / np.sqrt(N)\n",
    "Ck"
   ]
  },
  {
   "cell_type": "code",
   "execution_count": 12,
   "metadata": {},
   "outputs": [
    {
     "data": {
      "text/plain": [
       "array([ 9.55474138e-01, -7.51049668e-01,  1.00565948e-01, -3.74617777e-02,\n",
       "        1.96093033e-02, -1.20889226e-02,  8.20032583e-03, -5.92205494e-03,\n",
       "        4.46969569e-03, -3.48553738e-03,  2.78696669e-03, -2.27262654e-03,\n",
       "        1.88250419e-03, -1.57918656e-03,  1.33834507e-03, -1.14359262e-03,\n",
       "        9.83556112e-04, -8.50135860e-04,  7.37431533e-04, -6.41057709e-04,\n",
       "        5.57695279e-04, -4.84790002e-04,  4.20345356e-04, -3.62777276e-04,\n",
       "        3.10810343e-04, -2.63402280e-04,  2.19688049e-04, -1.78937740e-04,\n",
       "        1.40524230e-04, -1.03897813e-04,  6.85657917e-05, -3.40755526e-05])"
      ]
     },
     "execution_count": 12,
     "metadata": {},
     "output_type": "execute_result"
    }
   ],
   "source": [
    "Dk = (2 * ck - 32 * dk) / np.sqrt(N)\n",
    "Dk"
   ]
  },
  {
   "cell_type": "markdown",
   "metadata": {},
   "source": [
    "# 量子化テーブル"
   ]
  },
  {
   "cell_type": "code",
   "execution_count": 13,
   "metadata": {},
   "outputs": [],
   "source": [
    "Q50_Luminance = np.array(\n",
    "    [\n",
    "        [16, 11, 10, 16, 24, 40, 51, 61],\n",
    "        [12, 12, 14, 19, 26, 58, 60, 55],\n",
    "        [14, 13, 16, 24, 40, 57, 69, 56],\n",
    "        [14, 17, 22, 29, 51, 87, 80, 62],\n",
    "        [18, 22, 37, 56, 68, 109, 103, 77],\n",
    "        [24, 35, 55, 64, 81, 104, 113, 92],\n",
    "        [49, 64, 78, 87, 103, 121, 120, 101],\n",
    "        [72, 92, 95, 98, 112, 100, 103, 99],\n",
    "    ]\n",
    ")"
   ]
  },
  {
   "cell_type": "code",
   "execution_count": 14,
   "metadata": {},
   "outputs": [],
   "source": [
    "option = str(N) + \"x\" + str(N)\n",
    "img_name = [\"Airplane\",\"Barbara\",\"Boat\",\"Goldhill\",\"Lenna\",\"Mandrill\",\"Milkdrop\",\"Sailboat\"]\n",
    "df = pd.read_excel(\"../../Plot_tool/xlsx/TPHLCT3_\"+ option +\".xlsx\",sheet_name=None)\n",
    "\n",
    "for i in range(len(Images)):\n",
    "    name = img_name[i]\n",
    "    IMG = Images[i]\n",
    "    df_Q = df[name][\"Q\"]\n",
    " \n",
    "    for j in range(13):\n",
    "        bpp = 0.2 + 0.05 * j\n",
    "        Q = df_Q[j]\n",
    " \n",
    "        Fk = np.zeros(IMG.img.shape)\n",
    "        # 縦方向\n",
    "        for row in range(IMG.img.shape[0] // N):\n",
    "            for col in range(IMG.img.shape[1]):\n",
    "                eight_points = IMG.img[N * row : N * (row + 1), col]\n",
    "                c = scipy.fftpack.dct(eight_points,norm=\"ortho\")\n",
    "                Fk[N * row : N * (row + 1), col] = c\n",
    "\n",
    "        for row in range(Fk.shape[0] // N):\n",
    "            for col in range(Fk.shape[1]):\n",
    "                F = Fk[N * row : N * (row + 1), col]\n",
    "\n",
    "                F_0_r = 0\n",
    "                F_1_r = 0\n",
    "                if row is not Fk.shape[0] // N - 1:\n",
    "                    F_0_r = Fk[N * (row + 1), col]\n",
    "                    F_1_r = Fk[N * (row + 1) + 1, col]\n",
    "\n",
    "                F_0_l = 0\n",
    "                F_1_l = 1\n",
    "                if row is not 0:\n",
    "                    F_0_l = Fk[N * (row - 1), col]\n",
    "                    F_1_l = Fk[N * (row - 1) + 1, col]\n",
    "\n",
    "                # 残差\n",
    "                F_0 = F[0]\n",
    "                F_1 = F[1]\n",
    "\n",
    "                F = (\n",
    "                    F\n",
    "                    - Ak * (F_0 - F_0_l)\n",
    "                    - Bk * (F_0_r - F_0)\n",
    "                    - Ck * (F_1 + F_1_l)\n",
    "                    - Dk * (F_1_r + F_1)\n",
    "                )\n",
    "                # F_0, F_1は残す\n",
    "                F[0] = F_0\n",
    "                F[1] = F_1\n",
    "                # F_0 V_1 V_2 V_3 V_4 V_5 V_6 V_7\n",
    "                Fk[N * row : N * (row + 1), col] = F\n",
    "\n",
    "        for row in range(Fk.shape[0] // N):\n",
    "            for col in range(Fk.shape[1]):\n",
    "                F = Fk[N * row : N * (row + 1), col]\n",
    "\n",
    "                F_0_r = 0\n",
    "                if row is not Fk.shape[0] // N - 1:\n",
    "                    F_0_r = Fk[N * (row + 1), col]\n",
    "\n",
    "                F_0_l = 0\n",
    "                if row is not 0:\n",
    "                    F_0_l = Fk[N * (row - 1), col]\n",
    "\n",
    "                # 残差\n",
    "                F_0 = F[0]\n",
    "                F_temp = F - alpha * (F_0_r - F_0) / np.sqrt(N) - beta * (F_0 - F_0_l) / np.sqrt(N)\n",
    "                # F_0は残す\n",
    "                F[1] = F_temp[1]\n",
    "                # F_0 V_1 V_2 V_3 V_4 V_5 V_6 V_7\n",
    "                Fk[N * row : N * (row + 1), col] = F\n",
    "        # 横方向\n",
    "        for row in range(Fk.shape[0]):\n",
    "            for col in range(Fk.shape[1] // N):\n",
    "                eight_points = Fk[row, N * col : N * (col + 1)]\n",
    "                c = scipy.fftpack.dct(eight_points,norm=\"ortho\")\n",
    "                Fk[row, N * col : N * (col + 1)] = c\n",
    "\n",
    "        for row in range(Fk.shape[0]):\n",
    "            for col in range(Fk.shape[1] // N):\n",
    "                F = Fk[row, N * col : N * (col + 1)]\n",
    "\n",
    "                F_0_r = 0\n",
    "                F_1_r = 0\n",
    "                if col is not Fk.shape[1] // N - 1:\n",
    "                    F_0_r = Fk[row, N * (col + 1)]\n",
    "                    F_1_r = Fk[row, N * (col + 1) + 1]\n",
    "\n",
    "                F_0_l = 0\n",
    "                F_1_l = 0\n",
    "                if col is not 0:\n",
    "                    F_0_l = Fk[row, N * (col - 1)]\n",
    "                    F_1_l = Fk[row, N * (col - 1) + 1]\n",
    "\n",
    "                # 残差\n",
    "                F_0 = F[0]\n",
    "                F_1 = F[1]\n",
    "\n",
    "                F = (\n",
    "                    F\n",
    "                    - Ak * (F_0 - F_0_l)\n",
    "                    - Bk * (F_0_r - F_0)\n",
    "                    - Ck * (F_1 + F_1_l)\n",
    "                    - Dk * (F_1_r + F_1)\n",
    "                )\n",
    "                # F_0は残す\n",
    "                F[0] = F_0\n",
    "                F[1] = F_1\n",
    "                # F_0 V_1 V_2 V_3 V_4 V_5 V_6 V_7\n",
    "                Fk[row, N * col : N * (col + 1)] = F\n",
    "\n",
    "        for row in range(Fk.shape[0]):\n",
    "            for col in range(Fk.shape[1] // N):\n",
    "                F = Fk[row, N * col : N * (col + 1)]\n",
    "\n",
    "                F_0_r = 0\n",
    "                if col is not Fk.shape[1] // N - 1:\n",
    "                    F_0_r = Fk[row, N * (col + 1)]\n",
    "\n",
    "                F_0_l = 0\n",
    "                if col is not 0:\n",
    "                    F_0_l = Fk[row, N * (col - 1)]\n",
    "\n",
    "                # 残差\n",
    "                F_0 = F[0]\n",
    "                F_temp = F - alpha * (F_0_r - F_0) / np.sqrt(N) - beta * (F_0 - F_0_l) / np.sqrt(N)\n",
    "                # F_0は残す\n",
    "                F[1] = F_temp[1]\n",
    "                # F_0 V_1 V_2 V_3 V_4 V_5 V_6 V_7\n",
    "                Fk[row, N * col : N * (col + 1)] = F\n",
    "\n",
    "        Fk_Ori = np.copy(Fk)\n",
    "\n",
    "#         if Q < 50:\n",
    "#             S = 5000 / Q\n",
    "#         else:\n",
    "#             S = 200 - 2 * Q\n",
    "\n",
    "#         S = np.floor(S)\n",
    "\n",
    "#         Q_Luminance = np.zeros((N, N))\n",
    "#         for row in range(N):\n",
    "#             for col in range(N):\n",
    "#                 Q_Luminance[row, col] = np.floor((S * Q50_Luminance[row, col] + 50) / 100)\n",
    "        Q_Luminance = np.ones((N,N)) * Q\n",
    "\n",
    "        Fk = np.copy(Fk_Ori)\n",
    "\n",
    "        Q_Fk = np.zeros(Fk.shape)\n",
    "        for row in range(IMG.img.shape[0] // N):\n",
    "            for col in range(IMG.img.shape[1] // N):\n",
    "                block = Fk[row * N : (row + 1) * N, col * N : (col + 1) * N]\n",
    "                # 量子化\n",
    "                block = np.round(block / Q_Luminance)\n",
    "                # 逆量子化\n",
    "                block = block * Q_Luminance\n",
    "                Q_Fk[row * N : (row+1)*N, col * N : (col+1)*N] = block\n",
    "\n",
    "        Fk = np.copy(Q_Fk)\n",
    "        Q_recover = np.zeros(Q_Fk.shape)\n",
    "\n",
    "        # 横方向\n",
    "        for row in range(Fk.shape[0]):\n",
    "            for col in range(Fk.shape[1] // N):\n",
    "                F = Fk[row, N * col : N * col + N]\n",
    "\n",
    "                F_0_r = 0\n",
    "                if col is not Fk.shape[1] // N - 1:\n",
    "                    F_0_r = Fk[row, N * (col + 1)]\n",
    "\n",
    "                F_0_l = 0\n",
    "                if col is not 0:\n",
    "                    F_0_l = Fk[row, N * (col - 1)]\n",
    "\n",
    "                # 残差\n",
    "                F_0 = F[0]\n",
    "                F_temp = F + alpha * (F_0_r - F_0) / np.sqrt(N) + beta * (F_0 - F_0_l) / np.sqrt(N)\n",
    "                # F_0は残す\n",
    "                F[1] = F_temp[1]\n",
    "                # F_0 V_1 V_2 V_3 V_4 V_5 V_6 V_7\n",
    "                Fk[row, N * col : N * col + N] = F\n",
    "\n",
    "        for row in range(Fk.shape[0]):\n",
    "            for col in range(Fk.shape[1] // N):\n",
    "                F = Fk[row, N * col : N * (col + 1)]\n",
    "\n",
    "                F_0_r = 0\n",
    "                F_1_r = 0\n",
    "                if col is not Fk.shape[1] // N - 1:\n",
    "                    F_0_r = Fk[row, N * (col + 1)]\n",
    "                    F_1_r = Fk[row, N * (col + 1) + 1]\n",
    "\n",
    "                F_0_l = 0\n",
    "                F_1_l = 0\n",
    "                if col is not 0:\n",
    "                    F_0_l = Fk[row, N * (col - 1)]\n",
    "                    F_1_l = Fk[row, N * (col - 1) + 1]\n",
    "\n",
    "                # 残差\n",
    "                F_0 = F[0]\n",
    "                F_1 = F[1]\n",
    "\n",
    "                F = (\n",
    "                    F\n",
    "                    + Ak * (F_0 - F_0_l)\n",
    "                    + Bk * (F_0_r - F_0)\n",
    "                    + Ck * (F_1 + F_1_l)\n",
    "                    + Dk * (F_1_r + F_1)\n",
    "                )\n",
    "                # F_0は残す\n",
    "                F[0] = F_0\n",
    "                F[1] = F_1\n",
    "                # F_0 V_1 V_2 V_3 V_4 V_5 V_6 V_7\n",
    "                Fk[row, N * col : N * (col + 1)] = F\n",
    "\n",
    "        for row in range(Fk.shape[0]):\n",
    "            for col in range(Fk.shape[1] // N):\n",
    "                F = Fk[row, N * col : N * col + N]\n",
    "                data = scipy.fftpack.idct(F,norm=\"ortho\")\n",
    "                # Fkに代入した後、縦方向に対して処理\n",
    "                Fk[row, N * col : N * col + N] = data\n",
    "\n",
    "        for row in range(Fk.shape[0] // N):\n",
    "            for col in range(Fk.shape[1]):\n",
    "                F = Fk[N * row : N * row + N, col]\n",
    "\n",
    "                F_0_r = 0\n",
    "                if row is not Fk.shape[0] // N - 1:\n",
    "                    F_0_r = Fk[N * (row + 1), col]\n",
    "\n",
    "                F_0_l = 0\n",
    "                if row is not 0:\n",
    "                    F_0_l = Fk[N * (row - 1), col]\n",
    "\n",
    "                # 残差\n",
    "                F_0 = F[0]\n",
    "                F_temp = F + alpha * (F_0_r - F_0) / np.sqrt(N) + beta * (F_0 - F_0_l) / np.sqrt(N)\n",
    "                # F_0は残す\n",
    "                F[1] = F_temp[1]\n",
    "                # F_0 F_1 F_2 F_3 F_4 F_5 F_6 F_7\n",
    "                Fk[N * row : N * row + N, col] = F\n",
    "\n",
    "        for row in range(Fk.shape[0] // N):\n",
    "            for col in range(Fk.shape[1]):\n",
    "                F = Fk[N * row : N * (row + 1), col]\n",
    "\n",
    "                F_0_r = 0\n",
    "                F_1_r = 0\n",
    "                if row is not Fk.shape[0] // N - 1:\n",
    "                    F_0_r = Fk[N * (row + 1), col]\n",
    "                    F_1_r = Fk[N * (row + 1) + 1, col]\n",
    "\n",
    "                F_0_l = 0\n",
    "                F_1_l = 1\n",
    "                if row is not 0:\n",
    "                    F_0_l = Fk[N * (row - 1), col]\n",
    "                    F_1_l = Fk[N * (row - 1) + 1, col]\n",
    "\n",
    "                # 残差\n",
    "                F_0 = F[0]\n",
    "                F_1 = F[1]\n",
    "\n",
    "                F = (\n",
    "                    F\n",
    "                    + Ak * (F_0 - F_0_l)\n",
    "                    + Bk * (F_0_r - F_0)\n",
    "                    + Ck * (F_1 + F_1_l)\n",
    "                    + Dk * (F_1_r + F_1)\n",
    "                )\n",
    "                # F_0, F_1は残す\n",
    "                F[0] = F_0\n",
    "                F[1] = F_1\n",
    "                # F_0 V_1 V_2 V_3 V_4 V_5 V_6 V_7\n",
    "                Fk[N * row : N * (row + 1), col] = F\n",
    "\n",
    "        for row in range(Fk.shape[0] // N):\n",
    "            for col in range(Fk.shape[1]):\n",
    "                F = Fk[N * row : N * (row + 1), col]\n",
    "                data = scipy.fftpack.idct(F,norm=\"ortho\")\n",
    "                # 復元画像\n",
    "                Q_recover[N * row : N * (row + 1), col] = data\n",
    "\n",
    "        Q_recover = np.round(Q_recover)\n",
    "        plt.imsave(OUTPUT_DIR_PATH + \"TPHLCT3_\" + option + \"_\" + name + \"_\" + \"{:.2f}\".format(bpp) + \".png\",Q_recover,cmap=\"gray\")"
   ]
  },
  {
   "cell_type": "code",
   "execution_count": null,
   "metadata": {},
   "outputs": [],
   "source": []
  }
 ],
 "metadata": {
  "kernelspec": {
   "display_name": "Python 3",
   "language": "python",
   "name": "python3"
  },
  "language_info": {
   "codemirror_mode": {
    "name": "ipython",
    "version": 3
   },
   "file_extension": ".py",
   "mimetype": "text/x-python",
   "name": "python",
   "nbconvert_exporter": "python",
   "pygments_lexer": "ipython3",
   "version": "3.6.8"
  }
 },
 "nbformat": 4,
 "nbformat_minor": 4
}
