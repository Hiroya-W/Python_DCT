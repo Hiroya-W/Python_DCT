{
 "cells": [
  {
   "cell_type": "markdown",
   "metadata": {},
   "source": [
    "# TPHLCT 3階の導関数を相殺する"
   ]
  },
  {
   "cell_type": "code",
   "execution_count": 1,
   "metadata": {},
   "outputs": [],
   "source": [
    "import numpy as np\n",
    "import scipy.misc\n",
    "from scipy.fftpack import dct, idct\n",
    "import sys\n",
    "from PIL import Image\n",
    "import matplotlib\n",
    "import matplotlib.pyplot as plt\n",
    "import random\n",
    "from tqdm._tqdm_notebook import tqdm_notebook\n",
    "from scipy.fftpack import dct, idct\n",
    "import seaborn as sns\n",
    "from skimage.metrics import structural_similarity as ssim\n",
    "from skimage.measure import compare_psnr as psnr\n",
    "import pandas as pd\n",
    "\n",
    "%matplotlib inline\n",
    "\n",
    "\n",
    "class ImageLoader:\n",
    "    def __init__(self, FILE_PATH):\n",
    "        self.img = np.array(Image.open(FILE_PATH))\n",
    "        # 行数\n",
    "        self.row_blocks_count = self.img.shape[0] // 8\n",
    "        # 列数\n",
    "        self.col_blocks_count = self.img.shape[1] // 8\n",
    "\n",
    "    def get_points(self, POINT):\n",
    "        Row = random.randint(0, len(self.img) - POINT - 1)\n",
    "        Col = random.randint(0, len(self.img) - 1)\n",
    "        return self.img[Row : Row + POINT, Col]\n",
    "\n",
    "    def get_block(self, col, row):\n",
    "        return self.img[col * 8 : (col + 1) * 8, row * 8 : (row + 1) * 8]\n",
    "\n",
    "\n",
    "# plt.rcParams['font.family'] ='sans-serif'#使用するフォント\n",
    "# plt.rcParams[\"font.sans-serif\"] = \"Source Han Sans\"\n",
    "plt.rcParams[\"font.family\"] = \"Source Han Sans JP\"  # 使用するフォント\n",
    "plt.rcParams[\"xtick.direction\"] = \"in\"  # x軸の目盛線が内向き('in')か外向き('out')か双方向か('inout')\n",
    "plt.rcParams[\"ytick.direction\"] = \"in\"  # y軸の目盛線が内向き('in')か外向き('out')か双方向か('inout')\n",
    "plt.rcParams[\"xtick.major.width\"] = 1.0  # x軸主目盛り線の線幅\n",
    "plt.rcParams[\"ytick.major.width\"] = 1.0  # y軸主目盛り線の線幅\n",
    "plt.rcParams[\"font.size\"] = 12  # フォントの大きさ\n",
    "plt.rcParams[\"axes.linewidth\"] = 1.0  # 軸の線幅edge linewidth。囲みの太さ\n",
    "matplotlib.font_manager._rebuild()\n",
    "\n",
    "MONO_DIR_PATH = \"../../Mono/\"\n",
    "OUTPUT_DIR_PATH = \"../../Plot_tool/output/images/TPHLCT3/8x8/\"\n",
    "AIRPLANE = ImageLoader(MONO_DIR_PATH + \"airplane512.bmp\")\n",
    "BARBARA = ImageLoader(MONO_DIR_PATH + \"barbara512.bmp\")\n",
    "BOAT = ImageLoader(MONO_DIR_PATH + \"boat512.bmp\")\n",
    "GOLDHILL = ImageLoader(MONO_DIR_PATH + \"goldhill512.bmp\")\n",
    "LENNA = ImageLoader(MONO_DIR_PATH + \"lenna512.bmp\")\n",
    "MANDRILL = ImageLoader(MONO_DIR_PATH + \"mandrill512.bmp\")\n",
    "MILKDROP = ImageLoader(MONO_DIR_PATH + \"milkdrop512.bmp\")\n",
    "SAILBOAT = ImageLoader(MONO_DIR_PATH + \"sailboat512.bmp\")\n",
    "\n",
    "Images = np.array(\n",
    "    [\n",
    "        AIRPLANE,\n",
    "        BARBARA,\n",
    "        BOAT,\n",
    "        GOLDHILL,\n",
    "        LENNA,\n",
    "        MANDRILL,\n",
    "        MILKDROP,\n",
    "        SAILBOAT\n",
    "    ]\n",
    ")\n",
    "\n",
    "N = 8"
   ]
  },
  {
   "cell_type": "code",
   "execution_count": 2,
   "metadata": {},
   "outputs": [],
   "source": [
    "def msds(N,arr):\n",
    "    w_e = 0\n",
    "    e_e = 0\n",
    "    n_e = 0\n",
    "    s_e = 0\n",
    "    nw_e = 0\n",
    "    ne_e = 0\n",
    "    sw_e = 0\n",
    "    se_e = 0\n",
    "    for row in range(arr.shape[0] // N):\n",
    "        for col in range(arr.shape[1] // N):\n",
    "            f_block = arr[row * N : (row + 1) * N, col * N : (col + 1) * N]\n",
    "            # w\n",
    "            if col == 0:\n",
    "                w_block = np.fliplr(f_block)\n",
    "            else:\n",
    "                w_block = arr[row * N : (row + 1) * N, (col - 1) * N : col * N]\n",
    "            # e\n",
    "            if col == arr.shape[1] // N - 1:\n",
    "                e_block = np.fliplr(f_block)\n",
    "            else:\n",
    "                e_block = arr[row * N : (row + 1) * N, (col + 1) * N : (col + 2) * N]\n",
    "            # n\n",
    "            if row == 0:\n",
    "                n_block = np.flipud(f_block)\n",
    "            else:\n",
    "                n_block = arr[(row - 1) * N : row * N, col * N : (col + 1) * N]\n",
    "            # s\n",
    "            if row == arr.shape[0] // N - 1:\n",
    "                s_block = np.flipud(f_block)\n",
    "            else:\n",
    "                s_block = arr[(row + 1) * N : (row + 2) * N, col * N : (col + 1) * N]\n",
    "\n",
    "            w_d1 = f_block[:, 0] - w_block[:, N-1]\n",
    "            e_d1 = f_block[:, N-1] - e_block[:, 0]\n",
    "            n_d1 = f_block[0, :] - n_block[N-1, :]\n",
    "            s_d1 = f_block[N-1, :] - s_block[0, :]\n",
    "\n",
    "            w_d2 = (w_block[:, N-1] - w_block[:, N-2] + f_block[:, 1] - f_block[:, 0]) / 2\n",
    "            e_d2 = (e_block[:, 1] - e_block[:, 0] + f_block[:, N-1] - f_block[:, N-2]) / 2\n",
    "            n_d2 = (n_block[N-1, :] - n_block[N-2, :] + f_block[1, :] - f_block[0, :]) / 2\n",
    "            s_d2 = (s_block[1, :] - s_block[0, :] + f_block[N-1, :] - f_block[N-2, :]) / 2\n",
    "\n",
    "            w_e += np.sum((w_d1 - w_d2) ** 2 )\n",
    "            e_e += np.sum((e_d1 - e_d2) ** 2 )\n",
    "            n_e += np.sum((n_d1 - n_d2) ** 2)\n",
    "            s_e += np.sum((s_d1 - s_d2) ** 2)\n",
    "\n",
    "            # nw\n",
    "            if row == 0 or col == 0:\n",
    "                nw_block = np.flipud(np.fliplr(f_block))\n",
    "            else:\n",
    "                nw_block = arr[(row - 1) * N : row * N, (col - 1) * N : col * N]\n",
    "            # ne\n",
    "            if row == 0 or col == arr.shape[1] // N - 1:\n",
    "                ne_block = np.flipud(np.fliplr(f_block))\n",
    "            else:\n",
    "                ne_block = arr[(row-1) * N : row * N, (col + 1) * N : (col + 2) * N]\n",
    "            # sw\n",
    "            if row == arr.shape[0] // N -1 or col == 0:\n",
    "                sw_block = np.flipud(np.fliplr(f_block))\n",
    "            else:\n",
    "                sw_block = arr[row * N : (row+1) * N, (col-1) * N : col * N]\n",
    "            # se\n",
    "            if  row == arr.shape[0]//N-1 or col == arr.shape[0] // N -1:\n",
    "                se_block = np.flipud(np.fliplr(f_block))\n",
    "            else:\n",
    "                se_block = arr[(row + 1) * N : (row + 2) * N, (col+1) * N : (col + 2) * N]\n",
    "\n",
    "            nw_g1 = f_block[0, 0] - nw_block[N-1, N-1]\n",
    "            ne_g1 = f_block[0, N-1] - ne_block[N-1, 0]\n",
    "            sw_g1 = f_block[N-1, 0] - sw_block[0, N-1]\n",
    "            se_g1 = f_block[N-1, N-1] - se_block[0, 0]\n",
    "\n",
    "            nw_g2 = (nw_block[N-1,N-1] - nw_block[N-2,N-2] + f_block[1,1] - f_block[0,0])/2\n",
    "            ne_g2 = (ne_block[N-1,0] - ne_block[N-2,1] + f_block[1,N-2] - f_block[0,N-1])/2\n",
    "            sw_g2 = (sw_block[0,N-1] - nw_block[1,N-2] + f_block[N-2,1] - f_block[N-1,0])/2\n",
    "            se_g2 = (nw_block[0,0] - nw_block[1,1] + f_block[N-2,N-2] - f_block[N-1,N-1])/2\n",
    "\n",
    "            nw_e += (nw_g1 - nw_g2) ** 2 \n",
    "            ne_e += (ne_g1 - ne_g2) ** 2 \n",
    "            sw_e += (sw_g1 - sw_g2) ** 2 \n",
    "            se_e += (se_g1 - se_g2) ** 2 \n",
    "\n",
    "    MSDSt = (w_e + e_e + n_e + s_e + nw_e + ne_e + sw_e + se_e)/ ((arr.shape[0]/N)**2)\n",
    "    MSDS1 = (w_e + e_e + n_e + s_e)/ ((arr.shape[0]/N)**2)\n",
    "    MSDS2 = (nw_e + ne_e + sw_e + se_e)/ ((arr.shape[0]/N)**2)\n",
    "    return MSDSt, MSDS1, MSDS2"
   ]
  },
  {
   "cell_type": "code",
   "execution_count": 3,
   "metadata": {},
   "outputs": [
    {
     "data": {
      "text/plain": [
       "<matplotlib.legend.Legend at 0x265830fbba8>"
      ]
     },
     "execution_count": 3,
     "metadata": {},
     "output_type": "execute_result"
    },
    {
     "name": "stderr",
     "output_type": "stream",
     "text": [
      "findfont: Font family ['Source Han Sans JP'] not found. Falling back to DejaVu Sans.\n"
     ]
    },
    {
     "data": {
      "image/png": "[encoded data removed]",
      "text/plain": [
       "<Figure size 432x288 with 1 Axes>"
      ]
     },
     "metadata": {
      "needs_background": "light"
     },
     "output_type": "display_data"
    }
   ],
   "source": [
    "sampling_x = (0.5 + np.arange(N)) / N\n",
    "u_1 = (1 - sampling_x) ** 2 / 2\n",
    "u_2 = 1 / 24 - sampling_x ** 2 / 6 + sampling_x ** 3 / 6 - sampling_x ** 4 / 24\n",
    "u_3 = sampling_x ** 2 / 2\n",
    "u_4 = -sampling_x ** 2 / 12 + sampling_x ** 4 / 24\n",
    "plt.plot(u_1, label=\"u_1\")\n",
    "plt.plot(u_2, label=\"u_2\")\n",
    "plt.plot(u_3, label=\"u_3\")\n",
    "plt.plot(u_4, label=\"u_4\")\n",
    "plt.legend()"
   ]
  },
  {
   "cell_type": "code",
   "execution_count": 4,
   "metadata": {},
   "outputs": [
    {
     "data": {
      "text/plain": [
       "array([-0.4695631 , -0.40264519, -0.09857256, -0.04209093, -0.02209709,\n",
       "       -0.01255643, -0.00700534, -0.0031689 ])"
      ]
     },
     "execution_count": 4,
     "metadata": {},
     "output_type": "execute_result"
    }
   ],
   "source": [
    "ak = - scipy.fftpack.dct(u_1,norm=\"ortho\")\n",
    "ak"
   ]
  },
  {
   "cell_type": "code",
   "execution_count": 5,
   "metadata": {},
   "outputs": [
    {
     "data": {
      "text/plain": [
       "array([5.49963549e-02, 4.10626933e-02, 2.56510471e-03, 5.05282177e-04,\n",
       "       1.58247367e-04, 6.27721528e-05, 2.74988517e-05, 1.08051832e-05])"
      ]
     },
     "execution_count": 5,
     "metadata": {},
     "output_type": "execute_result"
    }
   ],
   "source": [
    "bk = scipy.fftpack.dct(u_2,norm=\"ortho\")\n",
    "bk"
   ]
  },
  {
   "cell_type": "code",
   "execution_count": 6,
   "metadata": {},
   "outputs": [
    {
     "data": {
      "text/plain": [
       "array([ 0.4695631 , -0.40264519,  0.09857256, -0.04209093,  0.02209709,\n",
       "       -0.01255643,  0.00700534, -0.0031689 ])"
      ]
     },
     "execution_count": 6,
     "metadata": {},
     "output_type": "execute_result"
    }
   ],
   "source": [
    "ck = scipy.fftpack.dct(u_3,norm=\"ortho\")\n",
    "ck"
   ]
  },
  {
   "cell_type": "code",
   "execution_count": 7,
   "metadata": {},
   "outputs": [
    {
     "data": {
      "text/plain": [
       "array([-5.49963549e-02,  4.10626933e-02, -2.56510471e-03,  5.05282177e-04,\n",
       "       -1.58247367e-04,  6.27721528e-05, -2.74988517e-05,  1.08051832e-05])"
      ]
     },
     "execution_count": 7,
     "metadata": {},
     "output_type": "execute_result"
    }
   ],
   "source": [
    "dk = scipy.fftpack.dct(u_4,norm=\"ortho\")\n",
    "dk"
   ]
  },
  {
   "cell_type": "code",
   "execution_count": 8,
   "metadata": {},
   "outputs": [
    {
     "data": {
      "text/plain": [
       "array([-0.4695631 , -0.40264519, -0.09857256, -0.04209093, -0.02209709,\n",
       "       -0.01255643, -0.00700534, -0.0031689 ])"
      ]
     },
     "execution_count": 8,
     "metadata": {},
     "output_type": "execute_result"
    }
   ],
   "source": [
    "alpha = ak\n",
    "alpha"
   ]
  },
  {
   "cell_type": "code",
   "execution_count": 9,
   "metadata": {},
   "outputs": [
    {
     "data": {
      "text/plain": [
       "array([ 0.4695631 , -0.40264519,  0.09857256, -0.04209093,  0.02209709,\n",
       "       -0.01255643,  0.00700534, -0.0031689 ])"
      ]
     },
     "execution_count": 9,
     "metadata": {},
     "output_type": "execute_result"
    }
   ],
   "source": [
    "beta = ck\n",
    "beta"
   ]
  },
  {
   "cell_type": "code",
   "execution_count": 10,
   "metadata": {},
   "outputs": [
    {
     "data": {
      "text/plain": [
       "array([-0.64313761, -0.51699881, -0.08421175, -0.03262109, -0.01652018,\n",
       "       -0.00923383, -0.00510908, -0.00230187])"
      ]
     },
     "execution_count": 10,
     "metadata": {},
     "output_type": "execute_result"
    }
   ],
   "source": [
    "Ak = (2 * ak - 16 * bk) / np.sqrt(N)\n",
    "Ak"
   ]
  },
  {
   "cell_type": "code",
   "execution_count": 11,
   "metadata": {},
   "outputs": [
    {
     "data": {
      "text/plain": [
       "array([ 0.64313761, -0.51699881,  0.08421175, -0.03262109,  0.01652018,\n",
       "       -0.00923383,  0.00510908, -0.00230187])"
      ]
     },
     "execution_count": 11,
     "metadata": {},
     "output_type": "execute_result"
    }
   ],
   "source": [
    "Bk = (2 * ck - 16 * dk) / np.sqrt(N)\n",
    "Bk"
   ]
  },
  {
   "cell_type": "code",
   "execution_count": 12,
   "metadata": {},
   "outputs": [
    {
     "data": {
      "text/plain": [
       "array([-0.95424398, -0.74928449, -0.09872217, -0.03547939, -0.01741536,\n",
       "       -0.00958892, -0.00526463, -0.00236299])"
      ]
     },
     "execution_count": 12,
     "metadata": {},
     "output_type": "execute_result"
    }
   ],
   "source": [
    "Ck = (2 * ak - 32 * bk) / np.sqrt(N)\n",
    "Ck"
   ]
  },
  {
   "cell_type": "code",
   "execution_count": 13,
   "metadata": {},
   "outputs": [
    {
     "data": {
      "text/plain": [
       "array([ 0.95424398, -0.74928449,  0.09872217, -0.03547939,  0.01741536,\n",
       "       -0.00958892,  0.00526463, -0.00236299])"
      ]
     },
     "execution_count": 13,
     "metadata": {},
     "output_type": "execute_result"
    }
   ],
   "source": [
    "Dk = (2 * ck - 32 * dk) / np.sqrt(N)\n",
    "Dk"
   ]
  },
  {
   "cell_type": "markdown",
   "metadata": {},
   "source": [
    "# 量子化テーブル"
   ]
  },
  {
   "cell_type": "code",
   "execution_count": 14,
   "metadata": {},
   "outputs": [],
   "source": [
    "Q50_Luminance = np.array(\n",
    "    [\n",
    "        [16, 11, 10, 16, 24, 40, 51, 61],\n",
    "        [12, 12, 14, 19, 26, 58, 60, 55],\n",
    "        [14, 13, 16, 24, 40, 57, 69, 56],\n",
    "        [14, 17, 22, 29, 51, 87, 80, 62],\n",
    "        [18, 22, 37, 56, 68, 109, 103, 77],\n",
    "        [24, 35, 55, 64, 81, 104, 113, 92],\n",
    "        [49, 64, 78, 87, 103, 121, 120, 101],\n",
    "        [72, 92, 95, 98, 112, 100, 103, 99],\n",
    "    ]\n",
    ")"
   ]
  },
  {
   "cell_type": "code",
   "execution_count": 15,
   "metadata": {},
   "outputs": [
    {
     "name": "stdout",
     "output_type": "stream",
     "text": [
      "Airplane\n",
      "Barbara\n",
      "Boat\n",
      "Goldhill\n",
      "Lenna\n",
      "Mandrill\n",
      "Milkdrop\n",
      "Sailboat\n"
     ]
    }
   ],
   "source": [
    "option = str(N) + \"x\" + str(N)\n",
    "img_name = [\"Airplane\",\"Barbara\",\"Boat\",\"Goldhill\",\"Lenna\",\"Mandrill\",\"Milkdrop\",\"Sailboat\"]\n",
    "df = pd.read_excel(\"../../Plot_tool/xlsx/TPHLCT3_\"+ option +\".xlsx\",sheet_name=None)\n",
    "\n",
    "for i in range(len(Images)):\n",
    "    name = img_name[i]\n",
    "    print(name)\n",
    "    IMG = Images[i]\n",
    "    df_Q = df[name][\"Q\"]\n",
    "    \n",
    "    Fk = np.zeros(IMG.img.shape)\n",
    "    # 縦方向\n",
    "    for row in range(IMG.img.shape[0] // N):\n",
    "        for col in range(IMG.img.shape[1]):\n",
    "            eight_points = IMG.img[N * row : N * (row + 1), col]\n",
    "            c = scipy.fftpack.dct(eight_points,norm=\"ortho\")\n",
    "            Fk[N * row : N * (row + 1), col] = c\n",
    "\n",
    "    for row in range(Fk.shape[0] // N):\n",
    "        for col in range(Fk.shape[1]):\n",
    "            F = Fk[N * row : N * (row + 1), col]\n",
    "\n",
    "            F_0_r = 0\n",
    "            F_1_r = 0\n",
    "            if row is not Fk.shape[0] // N - 1:\n",
    "                F_0_r = Fk[N * (row + 1), col]\n",
    "                F_1_r = Fk[N * (row + 1) + 1, col]\n",
    "\n",
    "            F_0_l = 0\n",
    "            F_1_l = 1\n",
    "            if row is not 0:\n",
    "                F_0_l = Fk[N * (row - 1), col]\n",
    "                F_1_l = Fk[N * (row - 1) + 1, col]\n",
    "\n",
    "            # 残差\n",
    "            F_0 = F[0]\n",
    "            F_1 = F[1]\n",
    "\n",
    "            F = (\n",
    "                F\n",
    "                - Ak * (F_0 - F_0_l)\n",
    "                - Bk * (F_0_r - F_0)\n",
    "                - Ck * (F_1 + F_1_l)\n",
    "                - Dk * (F_1_r + F_1)\n",
    "            )\n",
    "            # F_0, F_1は残す\n",
    "            F[0] = F_0\n",
    "            F[1] = F_1\n",
    "            # F_0 V_1 V_2 V_3 V_4 V_5 V_6 V_7\n",
    "            Fk[N * row : N * (row + 1), col] = F\n",
    "\n",
    "    for row in range(Fk.shape[0] // N):\n",
    "        for col in range(Fk.shape[1]):\n",
    "            F = Fk[N * row : N * (row + 1), col]\n",
    "\n",
    "            F_0_r = 0\n",
    "            if row is not Fk.shape[0] // N - 1:\n",
    "                F_0_r = Fk[N * (row + 1), col]\n",
    "\n",
    "            F_0_l = 0\n",
    "            if row is not 0:\n",
    "                F_0_l = Fk[N * (row - 1), col]\n",
    "\n",
    "            # 残差\n",
    "            F_0 = F[0]\n",
    "            F_temp = F - alpha * (F_0_r - F_0) / np.sqrt(N) - beta * (F_0 - F_0_l) / np.sqrt(N)\n",
    "            # F_0は残す\n",
    "            F[1] = F_temp[1]\n",
    "            # F_0 V_1 V_2 V_3 V_4 V_5 V_6 V_7\n",
    "            Fk[N * row : N * (row + 1), col] = F\n",
    "    # 横方向\n",
    "    for row in range(Fk.shape[0]):\n",
    "        for col in range(Fk.shape[1] // N):\n",
    "            eight_points = Fk[row, N * col : N * (col + 1)]\n",
    "            c = scipy.fftpack.dct(eight_points,norm=\"ortho\")\n",
    "            Fk[row, N * col : N * (col + 1)] = c\n",
    "\n",
    "    for row in range(Fk.shape[0]):\n",
    "        for col in range(Fk.shape[1] // N):\n",
    "            F = Fk[row, N * col : N * (col + 1)]\n",
    "\n",
    "            F_0_r = 0\n",
    "            F_1_r = 0\n",
    "            if col is not Fk.shape[1] // N - 1:\n",
    "                F_0_r = Fk[row, N * (col + 1)]\n",
    "                F_1_r = Fk[row, N * (col + 1) + 1]\n",
    "\n",
    "            F_0_l = 0\n",
    "            F_1_l = 0\n",
    "            if col is not 0:\n",
    "                F_0_l = Fk[row, N * (col - 1)]\n",
    "                F_1_l = Fk[row, N * (col - 1) + 1]\n",
    "\n",
    "            # 残差\n",
    "            F_0 = F[0]\n",
    "            F_1 = F[1]\n",
    "\n",
    "            F = (\n",
    "                F\n",
    "                - Ak * (F_0 - F_0_l)\n",
    "                - Bk * (F_0_r - F_0)\n",
    "                - Ck * (F_1 + F_1_l)\n",
    "                - Dk * (F_1_r + F_1)\n",
    "            )\n",
    "            # F_0は残す\n",
    "            F[0] = F_0\n",
    "            F[1] = F_1\n",
    "            # F_0 V_1 V_2 V_3 V_4 V_5 V_6 V_7\n",
    "            Fk[row, N * col : N * (col + 1)] = F\n",
    "\n",
    "    for row in range(Fk.shape[0]):\n",
    "        for col in range(Fk.shape[1] // N):\n",
    "            F = Fk[row, N * col : N * (col + 1)]\n",
    "\n",
    "            F_0_r = 0\n",
    "            if col is not Fk.shape[1] // N - 1:\n",
    "                F_0_r = Fk[row, N * (col + 1)]\n",
    "\n",
    "            F_0_l = 0\n",
    "            if col is not 0:\n",
    "                F_0_l = Fk[row, N * (col - 1)]\n",
    "\n",
    "            # 残差\n",
    "            F_0 = F[0]\n",
    "            F_temp = F - alpha * (F_0_r - F_0) / np.sqrt(N) - beta * (F_0 - F_0_l) / np.sqrt(N)\n",
    "            # F_0は残す\n",
    "            F[1] = F_temp[1]\n",
    "            # F_0 V_1 V_2 V_3 V_4 V_5 V_6 V_7\n",
    "            Fk[row, N * col : N * (col + 1)] = F\n",
    "\n",
    "    Fk_Ori = np.copy(Fk)\n",
    " \n",
    "    for j in range(13):\n",
    "        bpp = 0.2 + 0.05 * j\n",
    "        Q = df_Q[j]\n",
    "\n",
    "        Q_Luminance = np.copy(Q50_Luminance)\n",
    "        if Q < 50:\n",
    "            Q_Luminance = Q_Luminance * 50 / Q\n",
    "            Q_Luminance = np.where(Q_Luminance > 255, 255, Q_Luminance)\n",
    "        else:\n",
    "            Q_Luminance = (100 - Q) * Q50_Luminance / 50\n",
    "            Q_Luminance = np.where(Q_Luminance < 1, 1, Q_Luminance)\n",
    "#         Q_Luminance = np.ones((N,N)) * Q\n",
    "\n",
    "        Fk = np.copy(Fk_Ori)\n",
    "\n",
    "        Q_Fk = np.zeros(Fk.shape)\n",
    "        for row in range(IMG.img.shape[0] // N):\n",
    "            for col in range(IMG.img.shape[1] // N):\n",
    "                block = Fk[row * N : (row + 1) * N, col * N : (col + 1) * N]\n",
    "                # 量子化\n",
    "                block = np.round(block / Q_Luminance)\n",
    "                # 逆量子化\n",
    "                block = block * Q_Luminance\n",
    "                Q_Fk[row * N : (row+1)*N, col * N : (col+1)*N] = block\n",
    "\n",
    "        Fk = np.copy(Q_Fk)\n",
    "        Q_recover = np.zeros(Q_Fk.shape)\n",
    "\n",
    "        # 横方向\n",
    "        for row in range(Fk.shape[0]):\n",
    "            for col in range(Fk.shape[1] // N):\n",
    "                F = Fk[row, N * col : N * col + N]\n",
    "\n",
    "                F_0_r = 0\n",
    "                if col is not Fk.shape[1] // N - 1:\n",
    "                    F_0_r = Fk[row, N * (col + 1)]\n",
    "\n",
    "                F_0_l = 0\n",
    "                if col is not 0:\n",
    "                    F_0_l = Fk[row, N * (col - 1)]\n",
    "\n",
    "                # 残差\n",
    "                F_0 = F[0]\n",
    "                F_temp = F + alpha * (F_0_r - F_0) / np.sqrt(N) + beta * (F_0 - F_0_l) / np.sqrt(N)\n",
    "                # F_0は残す\n",
    "                F[1] = F_temp[1]\n",
    "                # F_0 V_1 V_2 V_3 V_4 V_5 V_6 V_7\n",
    "                Fk[row, N * col : N * col + N] = F\n",
    "\n",
    "        for row in range(Fk.shape[0]):\n",
    "            for col in range(Fk.shape[1] // N):\n",
    "                F = Fk[row, N * col : N * (col + 1)]\n",
    "\n",
    "                F_0_r = 0\n",
    "                F_1_r = 0\n",
    "                if col is not Fk.shape[1] // N - 1:\n",
    "                    F_0_r = Fk[row, N * (col + 1)]\n",
    "                    F_1_r = Fk[row, N * (col + 1) + 1]\n",
    "\n",
    "                F_0_l = 0\n",
    "                F_1_l = 0\n",
    "                if col is not 0:\n",
    "                    F_0_l = Fk[row, N * (col - 1)]\n",
    "                    F_1_l = Fk[row, N * (col - 1) + 1]\n",
    "\n",
    "                # 残差\n",
    "                F_0 = F[0]\n",
    "                F_1 = F[1]\n",
    "\n",
    "                F = (\n",
    "                    F\n",
    "                    + Ak * (F_0 - F_0_l)\n",
    "                    + Bk * (F_0_r - F_0)\n",
    "                    + Ck * (F_1 + F_1_l)\n",
    "                    + Dk * (F_1_r + F_1)\n",
    "                )\n",
    "                # F_0は残す\n",
    "                F[0] = F_0\n",
    "                F[1] = F_1\n",
    "                # F_0 V_1 V_2 V_3 V_4 V_5 V_6 V_7\n",
    "                Fk[row, N * col : N * (col + 1)] = F\n",
    "\n",
    "        for row in range(Fk.shape[0]):\n",
    "            for col in range(Fk.shape[1] // N):\n",
    "                F = Fk[row, N * col : N * col + N]\n",
    "                data = scipy.fftpack.idct(F,norm=\"ortho\")\n",
    "                # Fkに代入した後、縦方向に対して処理\n",
    "                Fk[row, N * col : N * col + N] = data\n",
    "\n",
    "        for row in range(Fk.shape[0] // N):\n",
    "            for col in range(Fk.shape[1]):\n",
    "                F = Fk[N * row : N * row + N, col]\n",
    "\n",
    "                F_0_r = 0\n",
    "                if row is not Fk.shape[0] // N - 1:\n",
    "                    F_0_r = Fk[N * (row + 1), col]\n",
    "\n",
    "                F_0_l = 0\n",
    "                if row is not 0:\n",
    "                    F_0_l = Fk[N * (row - 1), col]\n",
    "\n",
    "                # 残差\n",
    "                F_0 = F[0]\n",
    "                F_temp = F + alpha * (F_0_r - F_0) / np.sqrt(N) + beta * (F_0 - F_0_l) / np.sqrt(N)\n",
    "                # F_0は残す\n",
    "                F[1] = F_temp[1]\n",
    "                # F_0 F_1 F_2 F_3 F_4 F_5 F_6 F_7\n",
    "                Fk[N * row : N * row + N, col] = F\n",
    "\n",
    "        for row in range(Fk.shape[0] // N):\n",
    "            for col in range(Fk.shape[1]):\n",
    "                F = Fk[N * row : N * (row + 1), col]\n",
    "\n",
    "                F_0_r = 0\n",
    "                F_1_r = 0\n",
    "                if row is not Fk.shape[0] // N - 1:\n",
    "                    F_0_r = Fk[N * (row + 1), col]\n",
    "                    F_1_r = Fk[N * (row + 1) + 1, col]\n",
    "\n",
    "                F_0_l = 0\n",
    "                F_1_l = 1\n",
    "                if row is not 0:\n",
    "                    F_0_l = Fk[N * (row - 1), col]\n",
    "                    F_1_l = Fk[N * (row - 1) + 1, col]\n",
    "\n",
    "                # 残差\n",
    "                F_0 = F[0]\n",
    "                F_1 = F[1]\n",
    "\n",
    "                F = (\n",
    "                    F\n",
    "                    + Ak * (F_0 - F_0_l)\n",
    "                    + Bk * (F_0_r - F_0)\n",
    "                    + Ck * (F_1 + F_1_l)\n",
    "                    + Dk * (F_1_r + F_1)\n",
    "                )\n",
    "                # F_0, F_1は残す\n",
    "                F[0] = F_0\n",
    "                F[1] = F_1\n",
    "                # F_0 V_1 V_2 V_3 V_4 V_5 V_6 V_7\n",
    "                Fk[N * row : N * (row + 1), col] = F\n",
    "\n",
    "        for row in range(Fk.shape[0] // N):\n",
    "            for col in range(Fk.shape[1]):\n",
    "                F = Fk[N * row : N * (row + 1), col]\n",
    "                data = scipy.fftpack.idct(F,norm=\"ortho\")\n",
    "                # 復元画像\n",
    "                Q_recover[N * row : N * (row + 1), col] = data\n",
    "\n",
    "        Q_recover = np.round(Q_recover)\n",
    "#         MSDSt, MSDS1, MSDS2 = msds(N,Q_recover)\n",
    "#         print(MSDS1,MSDS2)\n",
    "        plt.imsave(OUTPUT_DIR_PATH + \"TPHLCT3_\" + option + \"_\" + name + \"_\" + \"{:.2f}\".format(bpp) + \".png\",Q_recover,cmap=\"gray\")"
   ]
  },
  {
   "cell_type": "code",
   "execution_count": null,
   "metadata": {},
   "outputs": [],
   "source": []
  }
 ],
 "metadata": {
  "kernelspec": {
   "display_name": "Python 3",
   "language": "python",
   "name": "python3"
  },
  "language_info": {
   "codemirror_mode": {
    "name": "ipython",
    "version": 3
   },
   "file_extension": ".py",
   "mimetype": "text/x-python",
   "name": "python",
   "nbconvert_exporter": "python",
   "pygments_lexer": "ipython3",
   "version": "3.6.7"
  }
 },
 "nbformat": 4,
 "nbformat_minor": 4
}
